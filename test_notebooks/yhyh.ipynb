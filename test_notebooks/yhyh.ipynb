{
 "cells": [
  {
   "cell_type": "code",
   "execution_count": 1,
   "metadata": {},
   "outputs": [],
   "source": [
    "import pandas as pd \n",
    "import numpy as np \n",
    "import plotly.express as px\n",
    "from plotly.subplots import make_subplots\n",
    "import plotly.graph_objects as go\n",
    "\n",
    "from sklearn.preprocessing import MinMaxScaler\n",
    "import seaborn as sns\n",
    "import matplotlib.pyplot as plt\n",
    "from sklearn.model_selection import TimeSeriesSplit\n",
    "\n",
    "# Models\n",
    "from sklearn.ensemble import GradientBoostingRegressor\n",
    "from sklearn.ensemble import RandomForestRegressor\n",
    "from xgboost import XGBRegressor\n",
    "from sklearn.neural_network import MLPRegressor\n",
    "\n",
    "from sklearn.metrics import mean_absolute_error\n",
    "from sklearn.metrics import mean_squared_error\n",
    "from sklearn.metrics import r2_score\n",
    "import warnings\n",
    "warnings.filterwarnings('ignore')\n",
    "\n",
    "import math\n",
    "\n",
    "import datetime\n",
    "from datetime import datetime as dt\n",
    "from dateutil.relativedelta import *\n",
    "from datetime import timedelta"
   ]
  },
  {
   "cell_type": "code",
   "execution_count": 2,
   "metadata": {},
   "outputs": [],
   "source": [
    "import dash\n",
    "from dash import dcc, dash_table\n",
    "from dash import html\n",
    "from dash.dependencies import Input, Output\n",
    "import plotly.graph_objects as go\n",
    "import pandas as pd\n",
    "import numpy as np\n",
    "import plotly.express as px\n",
    "import dash_bootstrap_components as dbc\n",
    "import yfinance as yf\n",
    "from datetime import datetime, timedelta\n",
    "import talib as tb"
   ]
  },
  {
   "cell_type": "code",
   "execution_count": 3,
   "metadata": {},
   "outputs": [
    {
     "data": {
      "text/html": [
       "<div>\n",
       "<style scoped>\n",
       "    .dataframe tbody tr th:only-of-type {\n",
       "        vertical-align: middle;\n",
       "    }\n",
       "\n",
       "    .dataframe tbody tr th {\n",
       "        vertical-align: top;\n",
       "    }\n",
       "\n",
       "    .dataframe thead th {\n",
       "        text-align: right;\n",
       "    }\n",
       "</style>\n",
       "<table border=\"1\" class=\"dataframe\">\n",
       "  <thead>\n",
       "    <tr style=\"text-align: right;\">\n",
       "      <th></th>\n",
       "      <th>Open</th>\n",
       "      <th>High</th>\n",
       "      <th>Low</th>\n",
       "      <th>Close</th>\n",
       "      <th>Adj Close</th>\n",
       "      <th>Volume</th>\n",
       "      <th>SMA30</th>\n",
       "      <th>CMA30</th>\n",
       "      <th>EMA30</th>\n",
       "      <th>adx</th>\n",
       "      <th>...</th>\n",
       "      <th>bb_high</th>\n",
       "      <th>macd</th>\n",
       "      <th>macdsignal</th>\n",
       "      <th>macdhist</th>\n",
       "      <th>rsi</th>\n",
       "      <th>stdev</th>\n",
       "      <th>slowk</th>\n",
       "      <th>slowd</th>\n",
       "      <th>dollar_close</th>\n",
       "      <th>sp500_close</th>\n",
       "    </tr>\n",
       "    <tr>\n",
       "      <th>Date</th>\n",
       "      <th></th>\n",
       "      <th></th>\n",
       "      <th></th>\n",
       "      <th></th>\n",
       "      <th></th>\n",
       "      <th></th>\n",
       "      <th></th>\n",
       "      <th></th>\n",
       "      <th></th>\n",
       "      <th></th>\n",
       "      <th></th>\n",
       "      <th></th>\n",
       "      <th></th>\n",
       "      <th></th>\n",
       "      <th></th>\n",
       "      <th></th>\n",
       "      <th></th>\n",
       "      <th></th>\n",
       "      <th></th>\n",
       "      <th></th>\n",
       "      <th></th>\n",
       "    </tr>\n",
       "  </thead>\n",
       "  <tbody>\n",
       "    <tr>\n",
       "      <th>2017-11-09</th>\n",
       "      <td>7446.830078</td>\n",
       "      <td>7446.830078</td>\n",
       "      <td>7101.520020</td>\n",
       "      <td>7143.580078</td>\n",
       "      <td>7143.580078</td>\n",
       "      <td>3226249984</td>\n",
       "      <td>6720.195964</td>\n",
       "      <td>1012.489040</td>\n",
       "      <td>6798.973215</td>\n",
       "      <td>37.428679</td>\n",
       "      <td>...</td>\n",
       "      <td>7929.899976</td>\n",
       "      <td>547.298468</td>\n",
       "      <td>521.809901</td>\n",
       "      <td>25.488567</td>\n",
       "      <td>65.836431</td>\n",
       "      <td>604.852006</td>\n",
       "      <td>33.184032</td>\n",
       "      <td>38.772059</td>\n",
       "      <td>94.351997</td>\n",
       "      <td>2584.620117</td>\n",
       "    </tr>\n",
       "    <tr>\n",
       "      <th>2017-11-10</th>\n",
       "      <td>7173.729980</td>\n",
       "      <td>7312.000000</td>\n",
       "      <td>6436.870117</td>\n",
       "      <td>6618.140137</td>\n",
       "      <td>6618.140137</td>\n",
       "      <td>5208249856</td>\n",
       "      <td>6767.749967</td>\n",
       "      <td>1017.359285</td>\n",
       "      <td>6776.369081</td>\n",
       "      <td>36.238180</td>\n",
       "      <td>...</td>\n",
       "      <td>7899.045668</td>\n",
       "      <td>482.149729</td>\n",
       "      <td>513.877867</td>\n",
       "      <td>-31.728137</td>\n",
       "      <td>55.203600</td>\n",
       "      <td>565.647850</td>\n",
       "      <td>30.022892</td>\n",
       "      <td>33.577955</td>\n",
       "      <td>94.278000</td>\n",
       "      <td>2582.300049</td>\n",
       "    </tr>\n",
       "    <tr>\n",
       "      <th>2017-11-11</th>\n",
       "      <td>6618.609863</td>\n",
       "      <td>6873.149902</td>\n",
       "      <td>6204.220215</td>\n",
       "      <td>6357.600098</td>\n",
       "      <td>6357.600098</td>\n",
       "      <td>4908680192</td>\n",
       "      <td>6806.196647</td>\n",
       "      <td>1021.994910</td>\n",
       "      <td>6724.022958</td>\n",
       "      <td>34.548539</td>\n",
       "      <td>...</td>\n",
       "      <td>7835.311479</td>\n",
       "      <td>404.828866</td>\n",
       "      <td>492.068066</td>\n",
       "      <td>-87.239201</td>\n",
       "      <td>50.841315</td>\n",
       "      <td>514.557416</td>\n",
       "      <td>13.668599</td>\n",
       "      <td>25.625174</td>\n",
       "      <td>94.278000</td>\n",
       "      <td>2582.300049</td>\n",
       "    </tr>\n",
       "    <tr>\n",
       "      <th>2017-11-12</th>\n",
       "      <td>6295.450195</td>\n",
       "      <td>6625.049805</td>\n",
       "      <td>5519.009766</td>\n",
       "      <td>5950.069824</td>\n",
       "      <td>5950.069824</td>\n",
       "      <td>8957349888</td>\n",
       "      <td>6819.328646</td>\n",
       "      <td>1026.269043</td>\n",
       "      <td>6627.278816</td>\n",
       "      <td>32.896648</td>\n",
       "      <td>...</td>\n",
       "      <td>7798.154128</td>\n",
       "      <td>307.126870</td>\n",
       "      <td>455.079827</td>\n",
       "      <td>-147.952957</td>\n",
       "      <td>44.895661</td>\n",
       "      <td>489.412741</td>\n",
       "      <td>14.127749</td>\n",
       "      <td>19.273080</td>\n",
       "      <td>94.278000</td>\n",
       "      <td>2582.300049</td>\n",
       "    </tr>\n",
       "    <tr>\n",
       "      <th>2017-11-13</th>\n",
       "      <td>5938.250000</td>\n",
       "      <td>6811.189941</td>\n",
       "      <td>5844.290039</td>\n",
       "      <td>6559.490234</td>\n",
       "      <td>6559.490234</td>\n",
       "      <td>6263249920</td>\n",
       "      <td>6846.371322</td>\n",
       "      <td>1031.063862</td>\n",
       "      <td>6618.805243</td>\n",
       "      <td>30.978407</td>\n",
       "      <td>...</td>\n",
       "      <td>7771.077715</td>\n",
       "      <td>275.694434</td>\n",
       "      <td>419.202748</td>\n",
       "      <td>-143.508315</td>\n",
       "      <td>53.591318</td>\n",
       "      <td>462.353197</td>\n",
       "      <td>27.607649</td>\n",
       "      <td>18.467999</td>\n",
       "      <td>94.388000</td>\n",
       "      <td>2584.840088</td>\n",
       "    </tr>\n",
       "    <tr>\n",
       "      <th>...</th>\n",
       "      <td>...</td>\n",
       "      <td>...</td>\n",
       "      <td>...</td>\n",
       "      <td>...</td>\n",
       "      <td>...</td>\n",
       "      <td>...</td>\n",
       "      <td>...</td>\n",
       "      <td>...</td>\n",
       "      <td>...</td>\n",
       "      <td>...</td>\n",
       "      <td>...</td>\n",
       "      <td>...</td>\n",
       "      <td>...</td>\n",
       "      <td>...</td>\n",
       "      <td>...</td>\n",
       "      <td>...</td>\n",
       "      <td>...</td>\n",
       "      <td>...</td>\n",
       "      <td>...</td>\n",
       "      <td>...</td>\n",
       "      <td>...</td>\n",
       "    </tr>\n",
       "    <tr>\n",
       "      <th>2022-05-24</th>\n",
       "      <td>29101.125000</td>\n",
       "      <td>29774.355469</td>\n",
       "      <td>28786.589844</td>\n",
       "      <td>29655.585938</td>\n",
       "      <td>29655.585938</td>\n",
       "      <td>26616506245</td>\n",
       "      <td>29782.070833</td>\n",
       "      <td>12250.832165</td>\n",
       "      <td>30662.861100</td>\n",
       "      <td>41.719564</td>\n",
       "      <td>...</td>\n",
       "      <td>31290.517495</td>\n",
       "      <td>-2174.369749</td>\n",
       "      <td>-2424.447237</td>\n",
       "      <td>250.077488</td>\n",
       "      <td>39.098232</td>\n",
       "      <td>754.223331</td>\n",
       "      <td>49.584235</td>\n",
       "      <td>47.287931</td>\n",
       "      <td>103.694000</td>\n",
       "      <td>4123.339844</td>\n",
       "    </tr>\n",
       "    <tr>\n",
       "      <th>2022-05-25</th>\n",
       "      <td>29653.134766</td>\n",
       "      <td>30157.785156</td>\n",
       "      <td>29384.949219</td>\n",
       "      <td>29562.361328</td>\n",
       "      <td>29562.361328</td>\n",
       "      <td>27525063551</td>\n",
       "      <td>29684.701172</td>\n",
       "      <td>12256.997240</td>\n",
       "      <td>30525.298628</td>\n",
       "      <td>41.149818</td>\n",
       "      <td>...</td>\n",
       "      <td>31041.086512</td>\n",
       "      <td>-2066.217894</td>\n",
       "      <td>-2352.801368</td>\n",
       "      <td>286.583474</td>\n",
       "      <td>38.850037</td>\n",
       "      <td>678.192670</td>\n",
       "      <td>36.400659</td>\n",
       "      <td>44.096835</td>\n",
       "      <td>103.694000</td>\n",
       "      <td>4123.339844</td>\n",
       "    </tr>\n",
       "    <tr>\n",
       "      <th>2022-05-26</th>\n",
       "      <td>29564.777344</td>\n",
       "      <td>29834.160156</td>\n",
       "      <td>28261.906250</td>\n",
       "      <td>29267.224609</td>\n",
       "      <td>29267.224609</td>\n",
       "      <td>36774325352</td>\n",
       "      <td>29706.759115</td>\n",
       "      <td>12263.052856</td>\n",
       "      <td>30368.039376</td>\n",
       "      <td>41.131924</td>\n",
       "      <td>...</td>\n",
       "      <td>31023.942631</td>\n",
       "      <td>-1981.480561</td>\n",
       "      <td>-2278.537207</td>\n",
       "      <td>297.056645</td>\n",
       "      <td>38.031135</td>\n",
       "      <td>658.591758</td>\n",
       "      <td>44.145672</td>\n",
       "      <td>43.376855</td>\n",
       "      <td>103.694000</td>\n",
       "      <td>4123.339844</td>\n",
       "    </tr>\n",
       "    <tr>\n",
       "      <th>2022-05-27</th>\n",
       "      <td>29251.140625</td>\n",
       "      <td>29346.943359</td>\n",
       "      <td>28326.613281</td>\n",
       "      <td>28627.574219</td>\n",
       "      <td>28627.574219</td>\n",
       "      <td>36582005748</td>\n",
       "      <td>29678.747266</td>\n",
       "      <td>12268.876529</td>\n",
       "      <td>30150.481231</td>\n",
       "      <td>41.115222</td>\n",
       "      <td>...</td>\n",
       "      <td>31066.765152</td>\n",
       "      <td>-1943.536181</td>\n",
       "      <td>-2211.537001</td>\n",
       "      <td>268.000821</td>\n",
       "      <td>36.256500</td>\n",
       "      <td>694.008943</td>\n",
       "      <td>33.958974</td>\n",
       "      <td>38.168435</td>\n",
       "      <td>103.694000</td>\n",
       "      <td>4123.339844</td>\n",
       "    </tr>\n",
       "    <tr>\n",
       "      <th>2022-05-28</th>\n",
       "      <td>28622.625000</td>\n",
       "      <td>28814.900391</td>\n",
       "      <td>28554.566406</td>\n",
       "      <td>28814.900391</td>\n",
       "      <td>28814.900391</td>\n",
       "      <td>35519577634</td>\n",
       "      <td>29647.533724</td>\n",
       "      <td>12274.762699</td>\n",
       "      <td>29983.533626</td>\n",
       "      <td>41.099634</td>\n",
       "      <td>...</td>\n",
       "      <td>31089.736610</td>\n",
       "      <td>-1876.715718</td>\n",
       "      <td>-2144.572745</td>\n",
       "      <td>267.857027</td>\n",
       "      <td>37.176339</td>\n",
       "      <td>721.101443</td>\n",
       "      <td>29.347399</td>\n",
       "      <td>35.817349</td>\n",
       "      <td>103.694000</td>\n",
       "      <td>4123.339844</td>\n",
       "    </tr>\n",
       "  </tbody>\n",
       "</table>\n",
       "<p>1662 rows × 22 columns</p>\n",
       "</div>"
      ],
      "text/plain": [
       "                    Open          High           Low         Close  \\\n",
       "Date                                                                 \n",
       "2017-11-09   7446.830078   7446.830078   7101.520020   7143.580078   \n",
       "2017-11-10   7173.729980   7312.000000   6436.870117   6618.140137   \n",
       "2017-11-11   6618.609863   6873.149902   6204.220215   6357.600098   \n",
       "2017-11-12   6295.450195   6625.049805   5519.009766   5950.069824   \n",
       "2017-11-13   5938.250000   6811.189941   5844.290039   6559.490234   \n",
       "...                  ...           ...           ...           ...   \n",
       "2022-05-24  29101.125000  29774.355469  28786.589844  29655.585938   \n",
       "2022-05-25  29653.134766  30157.785156  29384.949219  29562.361328   \n",
       "2022-05-26  29564.777344  29834.160156  28261.906250  29267.224609   \n",
       "2022-05-27  29251.140625  29346.943359  28326.613281  28627.574219   \n",
       "2022-05-28  28622.625000  28814.900391  28554.566406  28814.900391   \n",
       "\n",
       "               Adj Close       Volume         SMA30         CMA30  \\\n",
       "Date                                                                \n",
       "2017-11-09   7143.580078   3226249984   6720.195964   1012.489040   \n",
       "2017-11-10   6618.140137   5208249856   6767.749967   1017.359285   \n",
       "2017-11-11   6357.600098   4908680192   6806.196647   1021.994910   \n",
       "2017-11-12   5950.069824   8957349888   6819.328646   1026.269043   \n",
       "2017-11-13   6559.490234   6263249920   6846.371322   1031.063862   \n",
       "...                  ...          ...           ...           ...   \n",
       "2022-05-24  29655.585938  26616506245  29782.070833  12250.832165   \n",
       "2022-05-25  29562.361328  27525063551  29684.701172  12256.997240   \n",
       "2022-05-26  29267.224609  36774325352  29706.759115  12263.052856   \n",
       "2022-05-27  28627.574219  36582005748  29678.747266  12268.876529   \n",
       "2022-05-28  28814.900391  35519577634  29647.533724  12274.762699   \n",
       "\n",
       "                   EMA30        adx  ...       bb_high         macd  \\\n",
       "Date                                 ...                              \n",
       "2017-11-09   6798.973215  37.428679  ...   7929.899976   547.298468   \n",
       "2017-11-10   6776.369081  36.238180  ...   7899.045668   482.149729   \n",
       "2017-11-11   6724.022958  34.548539  ...   7835.311479   404.828866   \n",
       "2017-11-12   6627.278816  32.896648  ...   7798.154128   307.126870   \n",
       "2017-11-13   6618.805243  30.978407  ...   7771.077715   275.694434   \n",
       "...                  ...        ...  ...           ...          ...   \n",
       "2022-05-24  30662.861100  41.719564  ...  31290.517495 -2174.369749   \n",
       "2022-05-25  30525.298628  41.149818  ...  31041.086512 -2066.217894   \n",
       "2022-05-26  30368.039376  41.131924  ...  31023.942631 -1981.480561   \n",
       "2022-05-27  30150.481231  41.115222  ...  31066.765152 -1943.536181   \n",
       "2022-05-28  29983.533626  41.099634  ...  31089.736610 -1876.715718   \n",
       "\n",
       "             macdsignal    macdhist        rsi       stdev      slowk  \\\n",
       "Date                                                                    \n",
       "2017-11-09   521.809901   25.488567  65.836431  604.852006  33.184032   \n",
       "2017-11-10   513.877867  -31.728137  55.203600  565.647850  30.022892   \n",
       "2017-11-11   492.068066  -87.239201  50.841315  514.557416  13.668599   \n",
       "2017-11-12   455.079827 -147.952957  44.895661  489.412741  14.127749   \n",
       "2017-11-13   419.202748 -143.508315  53.591318  462.353197  27.607649   \n",
       "...                 ...         ...        ...         ...        ...   \n",
       "2022-05-24 -2424.447237  250.077488  39.098232  754.223331  49.584235   \n",
       "2022-05-25 -2352.801368  286.583474  38.850037  678.192670  36.400659   \n",
       "2022-05-26 -2278.537207  297.056645  38.031135  658.591758  44.145672   \n",
       "2022-05-27 -2211.537001  268.000821  36.256500  694.008943  33.958974   \n",
       "2022-05-28 -2144.572745  267.857027  37.176339  721.101443  29.347399   \n",
       "\n",
       "                slowd  dollar_close  sp500_close  \n",
       "Date                                              \n",
       "2017-11-09  38.772059     94.351997  2584.620117  \n",
       "2017-11-10  33.577955     94.278000  2582.300049  \n",
       "2017-11-11  25.625174     94.278000  2582.300049  \n",
       "2017-11-12  19.273080     94.278000  2582.300049  \n",
       "2017-11-13  18.467999     94.388000  2584.840088  \n",
       "...               ...           ...          ...  \n",
       "2022-05-24  47.287931    103.694000  4123.339844  \n",
       "2022-05-25  44.096835    103.694000  4123.339844  \n",
       "2022-05-26  43.376855    103.694000  4123.339844  \n",
       "2022-05-27  38.168435    103.694000  4123.339844  \n",
       "2022-05-28  35.817349    103.694000  4123.339844  \n",
       "\n",
       "[1662 rows x 22 columns]"
      ]
     },
     "execution_count": 3,
     "metadata": {},
     "output_type": "execute_result"
    }
   ],
   "source": [
    "df_coin = yf.download('BTC-USD',\n",
    "                      end=datetime.today() - timedelta(days=1), \n",
    "                      progress=False,\n",
    "    )\n",
    "def df_converter(df): \n",
    "    df_sp500 = yf.download('^GSPC', \n",
    "                      start='2017-11-09', \n",
    "                      end='2022-05-08', \n",
    "                      progress=False)\n",
    "    df_dollar = yf.download('DX=F', \n",
    "                      start='2017-11-09', \n",
    "                      end='2022-05-08', \n",
    "                      progress=False)\n",
    "    # clearing dollar and sp500 df\n",
    "    df_dollar.drop(['Open', 'High', 'Low', 'Adj Close', 'Volume'], axis=1, inplace=True)\n",
    "    df_dollar.rename(columns={\"Close\": \"dollar_close\"}, inplace=True)\n",
    "    df_sp500.drop(['Open', 'High', 'Low', 'Adj Close', 'Volume'], axis=1, inplace=True)\n",
    "    df_sp500.rename(columns={\"Close\": \"sp500_close\"}, inplace=True)\n",
    "    # clearing general df\n",
    "    #df_eth.drop('Unnamed: 0', axis=1, inplace=True)\n",
    "    #df.drop('adj_close', axis=1, inplace=True)\n",
    "    df.index = df.index.astype('datetime64[ns]')\n",
    "    # MA df\n",
    "    df_ma = df['Close'].to_frame()\n",
    "    df_ma['SMA30'] = df_ma['Close'].rolling(15).mean()\n",
    "    df_ma['CMA30'] = df_ma['Close'].expanding().mean()\n",
    "    df_ma['EMA30'] = tb.EMA(df_ma['Close'], timeperiod=15)\n",
    "    df_ma.dropna(inplace=True)\n",
    "    # Stoch df\n",
    "    slowk, slowd = tb.STOCH(df[\"High\"], df[\"Low\"], df[\"Close\"], fastk_period=5, slowk_period=3, slowk_matype=0, slowd_period=3, slowd_matype=0)\n",
    "    df_stoch = pd.DataFrame(index=df.index,\n",
    "                                data={\"slowk\": slowk,\n",
    "                                    \"slowd\": slowd})\n",
    "    df_stoch.dropna(inplace=True)\n",
    "    # for later use in the concat\n",
    "    stoch_c = ['slowk', 'slowd']\n",
    "    # MACD df \n",
    "    macd, macdsignal, macdhist = tb.MACD(df.Close, fastperiod=12, slowperiod=26, signalperiod=9)\n",
    "    df_macd = pd.DataFrame(index=df.index,\n",
    "                            data={\"macd\": macd,\n",
    "                                  \"macdsignal\": macdsignal,\n",
    "                                  \"macdhist\": macdhist})\n",
    "    df_macd.dropna(inplace=True)\n",
    "    # for later use in the concat\n",
    "    macd_c = ['macd', 'macdsignal', 'macdhist']\n",
    "    # bb df\n",
    "    upper, middle, lower = tb.BBANDS(df[\"Close\"], timeperiod=15)\n",
    "    df_bands = pd.DataFrame(index=df.index,\n",
    "                                data={\"bb_low\": lower,\n",
    "                                    \"bb_ma\": middle,\n",
    "                                    \"bb_high\": upper})\n",
    "    df_bands.dropna(inplace=True)\n",
    "    # for later use in the concat\n",
    "    bands_c = ['bb_low', 'bb_ma', 'bb_high']\n",
    "    # rsi df\n",
    "    rsi = tb.RSI(df['Close'], timeperiod=15)\n",
    "    df_rsi = pd.DataFrame(index=df.index,\n",
    "                            data={\"close\": df['Close'],\n",
    "                                  \"rsi\": rsi})\n",
    "\n",
    "    df_rsi.dropna(inplace=True)\n",
    "    #stdev df\n",
    "    stdev = tb.STDDEV(df['Close'], timeperiod=15, nbdev=1)\n",
    "    df_stdev = pd.DataFrame(index=df.index,\n",
    "                            data={\"close\": df['Close'],\n",
    "                                  \"stdev\": stdev})\n",
    "    df_stdev.dropna(inplace=True)\n",
    "    # adx df\n",
    "    adx = tb.ADX(df['High'], df['Low'], df['Close'], timeperiod=15)\n",
    "    df_adx = pd.DataFrame(index=df.index,\n",
    "                                data={\"close\": df['Close'],\n",
    "                                    \"adx\": adx})\n",
    "\n",
    "    df_adx.dropna(inplace=True)\n",
    "\n",
    "    # concat \n",
    "    result =pd.concat([df, df_ma[['SMA30','CMA30','EMA30']], df_adx['adx'], df_bands[bands_c], df_macd[macd_c], df_rsi['rsi'], df_stdev['stdev'], df_stoch[stoch_c], df_dollar['dollar_close'], df_sp500['sp500_close']], axis=1)\n",
    "    result.fillna(method='ffill', inplace=True)\n",
    "    result.dropna(inplace=True)\n",
    "\n",
    "    return result \n",
    "\n",
    "df_coin = df_converter(df_coin)\n",
    "df_coin"
   ]
  },
  {
   "cell_type": "code",
   "execution_count": 4,
   "metadata": {},
   "outputs": [],
   "source": [
    "df_coin = df_coin.tail(100)\n",
    "df_coin.reset_index(inplace=True)\n",
    "df_coin['Date'] = pd.to_datetime(df_coin['Date'], format='%Y-%m-%d')"
   ]
  },
  {
   "cell_type": "code",
   "execution_count": 5,
   "metadata": {},
   "outputs": [],
   "source": [
    "fig2 = go.Figure()\n",
    "fig2.add_trace(go.Scatter(x=df_coin['Date'], y=df_coin['Close'], \n",
    "                name='Actual Values', mode='lines',line=dict(color='black')))\n",
    "#Models\n",
    "model_rf = RandomForestRegressor(random_state=10)\n",
    "model_gb = GradientBoostingRegressor(random_state = 10)\n",
    "model_xgb = XGBRegressor(random_state = 10)\n",
    "#Predictions"
   ]
  },
  {
   "cell_type": "code",
   "execution_count": 6,
   "metadata": {},
   "outputs": [],
   "source": [
    "def add_days(df, forecast_length):\n",
    "    end_point = len(df)\n",
    "    df1 = pd.DataFrame(index=range(forecast_length), columns=range(2))\n",
    "    df1.columns = ['Close', 'Date']\n",
    "    df = df.append(df1)\n",
    "    df = df.reset_index(drop=True)\n",
    "    x = df.at[end_point - 1, 'Date']\n",
    "    x = pd.to_datetime(x, format='%Y-%m-%d')\n",
    "    for i in range(forecast_length):\n",
    "        df.at[df.index[end_point + i], 'Date'] = x + timedelta(days=1+i)\n",
    "        df.at[df.index[end_point + i], 'close'] = 0\n",
    "    df['Date'] = pd.to_datetime(df['Date'], format='%Y-%m-%d')\n",
    "    df = df.drop(['Date'], axis=1)"
   ]
  },
  {
   "cell_type": "code",
   "execution_count": 7,
   "metadata": {},
   "outputs": [],
   "source": [
    "def forecasting(model,df1, forecast_length):\n",
    "    df3 = df1[['Close', 'Date']]\n",
    "    df3 = add_days(df3, forecast_length)\n",
    "    finaldf = df1.drop('Date', axis=1)\n",
    "    finaldf = finaldf.reset_index(drop=True)\n",
    "    end_point = len(finaldf)\n",
    "    x = end_point - forecast_length\n",
    "    finaldf_train = finaldf.loc[:x - 1, :]\n",
    "    finaldf_train_x = finaldf_train.loc[:, finaldf_train.columns != 'Close']\n",
    "    finaldf_train_y = finaldf_train['Close']\n",
    "\n",
    "    fit = model.fit(finaldf_train_x, finaldf_train_y)\n",
    "    yhat = []\n",
    "    end_point = len(finaldf)\n",
    "    df3_end = len(df3)\n",
    "    for i in range(forecast_length, 0, -1):\n",
    "        y = end_point - i\n",
    "        inputfile = finaldf.loc[y:end_point, :]\n",
    "        inputfile_x = inputfile.loc[:, inputfile.columns != 'Close']\n",
    "        pred_set = inputfile_x.head(1)\n",
    "        pred = fit.predict(pred_set)\n",
    "        df3.at[df3.index[df3_end - i], 'Close'] = pred[0]\n",
    "        finaldf = df1.drop('Date', axis=1)\n",
    "        finaldf = finaldf.reset_index(drop=True)\n",
    "        yhat.append(pred)\n",
    "    yhat = np.array(yhat)\n",
    "    return yhat"
   ]
  },
  {
   "cell_type": "code",
   "execution_count": 154,
   "metadata": {},
   "outputs": [],
   "source": [
    "def portofolio (df_transactions, signal, value, date, df_coin, coin, df_summary):\n",
    "    value_at_day = df_coin[df_coin.index == date]['Close'][0]\n",
    "    percentage = value/value_at_day\n",
    "    list_to_add = [coin, date, percentage, value, signal]\n",
    "    df_length = len(df_transactions)\n",
    "    df_transactions.loc[df_length] = list_to_add\n",
    "\n",
    "    \n",
    "    for coins in df_transactions['Coin'].unique():\n",
    "        if coins == coin:\n",
    "            if ~(df_summary['Coin'].str.contains(coins).any()):\n",
    "                    for idx,percentage in enumerate(df_transactions['Percentage']):\n",
    "                        df_summary.drop(df_summary.index[df_summary['Coin'] == coins], inplace=True)\n",
    "                        df_length = len(df_summary)\n",
    "                        actual_value = percentage * df_coin.tail(1)['Close'][0]\n",
    "                        df_summary.loc[df_length] = [coins, percentage,actual_value,value]\n",
    "            else:\n",
    "                    value_to_add = 0\n",
    "                    spent_to_add = 0\n",
    "                    for idx,percentage in enumerate(df_transactions[df_transactions['Coin'] == coins]['Percentage']):\n",
    "                        value_to_add += percentage\n",
    "                        spent_to_add += df_transactions['Value'][idx]\n",
    "                        print(spent_to_add)\n",
    "                        actual_value = value_to_add * df_coin.tail(1)['Close'][0]\n",
    "                        df_summary.drop(df_summary.index[df_summary['Coin'] == coins], inplace=True)\n",
    "                        df_length = len(df_summary)\n",
    "                        df_summary.loc[df_length] = [coins, value_to_add,actual_value,spent_to_add]\n",
    "\n",
    "    return df_transactions, df_summary"
   ]
  },
  {
   "cell_type": "code",
   "execution_count": 155,
   "metadata": {},
   "outputs": [],
   "source": [
    "def atualization(df_summary):\n",
    "    value_list=[]\n",
    "    for idx,coins in enumerate(df_summary['Coin'].unique()):\n",
    "        df_coin = yf.download(coins, progress=False)\n",
    "        value_to_add = df_coin.tail(1)['Close'][0] * df_summary[df_summary['Coin'] == coins]['Percentage'][idx]\n",
    "        value_list.append(round(value_to_add,2))\n",
    "    \n",
    "    df_summary.drop('Value', axis=1, inplace=True)\n",
    "    df_summary['Value'] = value_list\n",
    "    return df_summary"
   ]
  },
  {
   "cell_type": "code",
   "execution_count": 156,
   "metadata": {},
   "outputs": [],
   "source": [
    "df_summary = pd.DataFrame(columns=['Coin', 'Percentage','Value','Spent'])\n",
    "df_transactions = pd.DataFrame(columns=['Coin', 'Date', 'Percentage', 'Value', 'Signal'])"
   ]
  },
  {
   "cell_type": "code",
   "execution_count": 157,
   "metadata": {},
   "outputs": [],
   "source": [
    "data = pd.to_datetime('2022-05-24', format='%Y-%m-%d')"
   ]
  },
  {
   "cell_type": "code",
   "execution_count": 158,
   "metadata": {},
   "outputs": [],
   "source": [
    "df_btc = yf.download('BTC-USD', progress=False)"
   ]
  },
  {
   "cell_type": "code",
   "execution_count": 159,
   "metadata": {},
   "outputs": [
    {
     "name": "stdout",
     "output_type": "stream",
     "text": [
      "10\n"
     ]
    },
    {
     "data": {
      "text/html": [
       "<div>\n",
       "<style scoped>\n",
       "    .dataframe tbody tr th:only-of-type {\n",
       "        vertical-align: middle;\n",
       "    }\n",
       "\n",
       "    .dataframe tbody tr th {\n",
       "        vertical-align: top;\n",
       "    }\n",
       "\n",
       "    .dataframe thead th {\n",
       "        text-align: right;\n",
       "    }\n",
       "</style>\n",
       "<table border=\"1\" class=\"dataframe\">\n",
       "  <thead>\n",
       "    <tr style=\"text-align: right;\">\n",
       "      <th></th>\n",
       "      <th>Coin</th>\n",
       "      <th>Date</th>\n",
       "      <th>Percentage</th>\n",
       "      <th>Value</th>\n",
       "      <th>Signal</th>\n",
       "    </tr>\n",
       "  </thead>\n",
       "  <tbody>\n",
       "    <tr>\n",
       "      <th>0</th>\n",
       "      <td>BTC-USD</td>\n",
       "      <td>2022-05-24</td>\n",
       "      <td>0.000337</td>\n",
       "      <td>10</td>\n",
       "      <td>0</td>\n",
       "    </tr>\n",
       "  </tbody>\n",
       "</table>\n",
       "</div>"
      ],
      "text/plain": [
       "      Coin       Date  Percentage  Value  Signal\n",
       "0  BTC-USD 2022-05-24    0.000337     10       0"
      ]
     },
     "execution_count": 159,
     "metadata": {},
     "output_type": "execute_result"
    }
   ],
   "source": [
    "df_transactions, df_summary = portofolio(df_transactions,0,10,data,df_btc,'BTC-USD',df_summary)\n",
    "df_transactions"
   ]
  },
  {
   "cell_type": "code",
   "execution_count": 160,
   "metadata": {},
   "outputs": [
    {
     "data": {
      "text/html": [
       "<div>\n",
       "<style scoped>\n",
       "    .dataframe tbody tr th:only-of-type {\n",
       "        vertical-align: middle;\n",
       "    }\n",
       "\n",
       "    .dataframe tbody tr th {\n",
       "        vertical-align: top;\n",
       "    }\n",
       "\n",
       "    .dataframe thead th {\n",
       "        text-align: right;\n",
       "    }\n",
       "</style>\n",
       "<table border=\"1\" class=\"dataframe\">\n",
       "  <thead>\n",
       "    <tr style=\"text-align: right;\">\n",
       "      <th></th>\n",
       "      <th>Coin</th>\n",
       "      <th>Percentage</th>\n",
       "      <th>Value</th>\n",
       "      <th>Spent</th>\n",
       "    </tr>\n",
       "  </thead>\n",
       "  <tbody>\n",
       "    <tr>\n",
       "      <th>0</th>\n",
       "      <td>BTC-USD</td>\n",
       "      <td>0.000337</td>\n",
       "      <td>9.892408</td>\n",
       "      <td>10</td>\n",
       "    </tr>\n",
       "  </tbody>\n",
       "</table>\n",
       "</div>"
      ],
      "text/plain": [
       "      Coin  Percentage     Value  Spent\n",
       "0  BTC-USD    0.000337  9.892408     10"
      ]
     },
     "execution_count": 160,
     "metadata": {},
     "output_type": "execute_result"
    }
   ],
   "source": [
    "df_summary"
   ]
  },
  {
   "cell_type": "code",
   "execution_count": 161,
   "metadata": {},
   "outputs": [
    {
     "name": "stdout",
     "output_type": "stream",
     "text": [
      "10\n",
      "10\n",
      "0\n",
      "10\n",
      "20\n"
     ]
    },
    {
     "data": {
      "text/html": [
       "<div>\n",
       "<style scoped>\n",
       "    .dataframe tbody tr th:only-of-type {\n",
       "        vertical-align: middle;\n",
       "    }\n",
       "\n",
       "    .dataframe tbody tr th {\n",
       "        vertical-align: top;\n",
       "    }\n",
       "\n",
       "    .dataframe thead th {\n",
       "        text-align: right;\n",
       "    }\n",
       "</style>\n",
       "<table border=\"1\" class=\"dataframe\">\n",
       "  <thead>\n",
       "    <tr style=\"text-align: right;\">\n",
       "      <th></th>\n",
       "      <th>Coin</th>\n",
       "      <th>Date</th>\n",
       "      <th>Percentage</th>\n",
       "      <th>Value</th>\n",
       "      <th>Signal</th>\n",
       "    </tr>\n",
       "  </thead>\n",
       "  <tbody>\n",
       "    <tr>\n",
       "      <th>0</th>\n",
       "      <td>BTC-USD</td>\n",
       "      <td>2022-05-24</td>\n",
       "      <td>0.000337</td>\n",
       "      <td>10</td>\n",
       "      <td>0</td>\n",
       "    </tr>\n",
       "    <tr>\n",
       "      <th>1</th>\n",
       "      <td>BTC-USD</td>\n",
       "      <td>2022-05-24</td>\n",
       "      <td>0.000337</td>\n",
       "      <td>10</td>\n",
       "      <td>0</td>\n",
       "    </tr>\n",
       "  </tbody>\n",
       "</table>\n",
       "</div>"
      ],
      "text/plain": [
       "      Coin       Date  Percentage  Value  Signal\n",
       "0  BTC-USD 2022-05-24    0.000337     10       0\n",
       "1  BTC-USD 2022-05-24    0.000337     10       0"
      ]
     },
     "execution_count": 161,
     "metadata": {},
     "output_type": "execute_result"
    }
   ],
   "source": [
    "df_transactions, df_summary = portofolio(df_transactions,0,10,data,df_btc,'BTC-USD',df_summary)\n",
    "df_transactions"
   ]
  },
  {
   "cell_type": "code",
   "execution_count": 162,
   "metadata": {},
   "outputs": [
    {
     "data": {
      "text/html": [
       "<div>\n",
       "<style scoped>\n",
       "    .dataframe tbody tr th:only-of-type {\n",
       "        vertical-align: middle;\n",
       "    }\n",
       "\n",
       "    .dataframe tbody tr th {\n",
       "        vertical-align: top;\n",
       "    }\n",
       "\n",
       "    .dataframe thead th {\n",
       "        text-align: right;\n",
       "    }\n",
       "</style>\n",
       "<table border=\"1\" class=\"dataframe\">\n",
       "  <thead>\n",
       "    <tr style=\"text-align: right;\">\n",
       "      <th></th>\n",
       "      <th>Coin</th>\n",
       "      <th>Percentage</th>\n",
       "      <th>Value</th>\n",
       "      <th>Spent</th>\n",
       "    </tr>\n",
       "  </thead>\n",
       "  <tbody>\n",
       "    <tr>\n",
       "      <th>0</th>\n",
       "      <td>BTC-USD</td>\n",
       "      <td>0.000674</td>\n",
       "      <td>19.784816</td>\n",
       "      <td>20</td>\n",
       "    </tr>\n",
       "  </tbody>\n",
       "</table>\n",
       "</div>"
      ],
      "text/plain": [
       "      Coin  Percentage      Value  Spent\n",
       "0  BTC-USD    0.000674  19.784816     20"
      ]
     },
     "execution_count": 162,
     "metadata": {},
     "output_type": "execute_result"
    }
   ],
   "source": [
    "df_summary"
   ]
  },
  {
   "cell_type": "code",
   "execution_count": 163,
   "metadata": {},
   "outputs": [],
   "source": [
    "df_sol = yf.download('SOL-USD', progress=False)"
   ]
  },
  {
   "cell_type": "code",
   "execution_count": 164,
   "metadata": {},
   "outputs": [
    {
     "name": "stdout",
     "output_type": "stream",
     "text": [
      "20\n",
      "20\n",
      "20\n"
     ]
    },
    {
     "data": {
      "text/html": [
       "<div>\n",
       "<style scoped>\n",
       "    .dataframe tbody tr th:only-of-type {\n",
       "        vertical-align: middle;\n",
       "    }\n",
       "\n",
       "    .dataframe tbody tr th {\n",
       "        vertical-align: top;\n",
       "    }\n",
       "\n",
       "    .dataframe thead th {\n",
       "        text-align: right;\n",
       "    }\n",
       "</style>\n",
       "<table border=\"1\" class=\"dataframe\">\n",
       "  <thead>\n",
       "    <tr style=\"text-align: right;\">\n",
       "      <th></th>\n",
       "      <th>Coin</th>\n",
       "      <th>Date</th>\n",
       "      <th>Percentage</th>\n",
       "      <th>Value</th>\n",
       "      <th>Signal</th>\n",
       "    </tr>\n",
       "  </thead>\n",
       "  <tbody>\n",
       "    <tr>\n",
       "      <th>0</th>\n",
       "      <td>BTC-USD</td>\n",
       "      <td>2022-05-24</td>\n",
       "      <td>0.000337</td>\n",
       "      <td>10</td>\n",
       "      <td>0</td>\n",
       "    </tr>\n",
       "    <tr>\n",
       "      <th>1</th>\n",
       "      <td>BTC-USD</td>\n",
       "      <td>2022-05-24</td>\n",
       "      <td>0.000337</td>\n",
       "      <td>10</td>\n",
       "      <td>0</td>\n",
       "    </tr>\n",
       "    <tr>\n",
       "      <th>2</th>\n",
       "      <td>SOL-USD</td>\n",
       "      <td>2022-05-24</td>\n",
       "      <td>0.201396</td>\n",
       "      <td>10</td>\n",
       "      <td>0</td>\n",
       "    </tr>\n",
       "  </tbody>\n",
       "</table>\n",
       "</div>"
      ],
      "text/plain": [
       "      Coin       Date  Percentage  Value  Signal\n",
       "0  BTC-USD 2022-05-24    0.000337     10       0\n",
       "1  BTC-USD 2022-05-24    0.000337     10       0\n",
       "2  SOL-USD 2022-05-24    0.201396     10       0"
      ]
     },
     "execution_count": 164,
     "metadata": {},
     "output_type": "execute_result"
    }
   ],
   "source": [
    "df_transactions, df_summary = portofolio(df_transactions,0,10,data,df_sol,'SOL-USD',df_summary)\n",
    "df_transactions"
   ]
  },
  {
   "cell_type": "code",
   "execution_count": 165,
   "metadata": {},
   "outputs": [
    {
     "data": {
      "text/html": [
       "<div>\n",
       "<style scoped>\n",
       "    .dataframe tbody tr th:only-of-type {\n",
       "        vertical-align: middle;\n",
       "    }\n",
       "\n",
       "    .dataframe tbody tr th {\n",
       "        vertical-align: top;\n",
       "    }\n",
       "\n",
       "    .dataframe thead th {\n",
       "        text-align: right;\n",
       "    }\n",
       "</style>\n",
       "<table border=\"1\" class=\"dataframe\">\n",
       "  <thead>\n",
       "    <tr style=\"text-align: right;\">\n",
       "      <th></th>\n",
       "      <th>Coin</th>\n",
       "      <th>Percentage</th>\n",
       "      <th>Value</th>\n",
       "      <th>Spent</th>\n",
       "    </tr>\n",
       "  </thead>\n",
       "  <tbody>\n",
       "    <tr>\n",
       "      <th>0</th>\n",
       "      <td>BTC-USD</td>\n",
       "      <td>0.000674</td>\n",
       "      <td>19.784816</td>\n",
       "      <td>20</td>\n",
       "    </tr>\n",
       "    <tr>\n",
       "      <th>1</th>\n",
       "      <td>SOL-USD</td>\n",
       "      <td>0.201396</td>\n",
       "      <td>9.088509</td>\n",
       "      <td>10</td>\n",
       "    </tr>\n",
       "  </tbody>\n",
       "</table>\n",
       "</div>"
      ],
      "text/plain": [
       "      Coin  Percentage      Value  Spent\n",
       "0  BTC-USD    0.000674  19.784816     20\n",
       "1  SOL-USD    0.201396   9.088509     10"
      ]
     },
     "execution_count": 165,
     "metadata": {},
     "output_type": "execute_result"
    }
   ],
   "source": [
    "df_summary"
   ]
  },
  {
   "cell_type": "code",
   "execution_count": 166,
   "metadata": {},
   "outputs": [
    {
     "name": "stdout",
     "output_type": "stream",
     "text": [
      "20\n",
      "10\n",
      "0\n",
      "10\n",
      "20\n"
     ]
    },
    {
     "data": {
      "text/html": [
       "<div>\n",
       "<style scoped>\n",
       "    .dataframe tbody tr th:only-of-type {\n",
       "        vertical-align: middle;\n",
       "    }\n",
       "\n",
       "    .dataframe tbody tr th {\n",
       "        vertical-align: top;\n",
       "    }\n",
       "\n",
       "    .dataframe thead th {\n",
       "        text-align: right;\n",
       "    }\n",
       "</style>\n",
       "<table border=\"1\" class=\"dataframe\">\n",
       "  <thead>\n",
       "    <tr style=\"text-align: right;\">\n",
       "      <th></th>\n",
       "      <th>Coin</th>\n",
       "      <th>Date</th>\n",
       "      <th>Percentage</th>\n",
       "      <th>Value</th>\n",
       "      <th>Signal</th>\n",
       "    </tr>\n",
       "  </thead>\n",
       "  <tbody>\n",
       "    <tr>\n",
       "      <th>0</th>\n",
       "      <td>BTC-USD</td>\n",
       "      <td>2022-05-24</td>\n",
       "      <td>0.000337</td>\n",
       "      <td>10</td>\n",
       "      <td>0</td>\n",
       "    </tr>\n",
       "    <tr>\n",
       "      <th>1</th>\n",
       "      <td>BTC-USD</td>\n",
       "      <td>2022-05-24</td>\n",
       "      <td>0.000337</td>\n",
       "      <td>10</td>\n",
       "      <td>0</td>\n",
       "    </tr>\n",
       "    <tr>\n",
       "      <th>2</th>\n",
       "      <td>SOL-USD</td>\n",
       "      <td>2022-05-24</td>\n",
       "      <td>0.201396</td>\n",
       "      <td>10</td>\n",
       "      <td>0</td>\n",
       "    </tr>\n",
       "    <tr>\n",
       "      <th>3</th>\n",
       "      <td>SOL-USD</td>\n",
       "      <td>2022-05-24</td>\n",
       "      <td>0.201396</td>\n",
       "      <td>10</td>\n",
       "      <td>0</td>\n",
       "    </tr>\n",
       "  </tbody>\n",
       "</table>\n",
       "</div>"
      ],
      "text/plain": [
       "      Coin       Date  Percentage  Value  Signal\n",
       "0  BTC-USD 2022-05-24    0.000337     10       0\n",
       "1  BTC-USD 2022-05-24    0.000337     10       0\n",
       "2  SOL-USD 2022-05-24    0.201396     10       0\n",
       "3  SOL-USD 2022-05-24    0.201396     10       0"
      ]
     },
     "execution_count": 166,
     "metadata": {},
     "output_type": "execute_result"
    }
   ],
   "source": [
    "df_transactions, df_summary = portofolio(df_transactions,0,10,data,df_sol,'SOL-USD',df_summary)\n",
    "df_transactions"
   ]
  },
  {
   "cell_type": "code",
   "execution_count": 167,
   "metadata": {},
   "outputs": [
    {
     "data": {
      "text/html": [
       "<div>\n",
       "<style scoped>\n",
       "    .dataframe tbody tr th:only-of-type {\n",
       "        vertical-align: middle;\n",
       "    }\n",
       "\n",
       "    .dataframe tbody tr th {\n",
       "        vertical-align: top;\n",
       "    }\n",
       "\n",
       "    .dataframe thead th {\n",
       "        text-align: right;\n",
       "    }\n",
       "</style>\n",
       "<table border=\"1\" class=\"dataframe\">\n",
       "  <thead>\n",
       "    <tr style=\"text-align: right;\">\n",
       "      <th></th>\n",
       "      <th>Coin</th>\n",
       "      <th>Percentage</th>\n",
       "      <th>Value</th>\n",
       "      <th>Spent</th>\n",
       "    </tr>\n",
       "  </thead>\n",
       "  <tbody>\n",
       "    <tr>\n",
       "      <th>0</th>\n",
       "      <td>BTC-USD</td>\n",
       "      <td>0.000674</td>\n",
       "      <td>19.784816</td>\n",
       "      <td>20</td>\n",
       "    </tr>\n",
       "    <tr>\n",
       "      <th>1</th>\n",
       "      <td>SOL-USD</td>\n",
       "      <td>0.402793</td>\n",
       "      <td>18.177018</td>\n",
       "      <td>20</td>\n",
       "    </tr>\n",
       "  </tbody>\n",
       "</table>\n",
       "</div>"
      ],
      "text/plain": [
       "      Coin  Percentage      Value  Spent\n",
       "0  BTC-USD    0.000674  19.784816     20\n",
       "1  SOL-USD    0.402793  18.177018     20"
      ]
     },
     "execution_count": 167,
     "metadata": {},
     "output_type": "execute_result"
    }
   ],
   "source": [
    "df_summary"
   ]
  },
  {
   "cell_type": "code",
   "execution_count": 168,
   "metadata": {},
   "outputs": [
    {
     "name": "stdout",
     "output_type": "stream",
     "text": [
      "20\n",
      "10\n",
      "0\n",
      "10\n",
      "20\n",
      "30\n"
     ]
    },
    {
     "data": {
      "text/html": [
       "<div>\n",
       "<style scoped>\n",
       "    .dataframe tbody tr th:only-of-type {\n",
       "        vertical-align: middle;\n",
       "    }\n",
       "\n",
       "    .dataframe tbody tr th {\n",
       "        vertical-align: top;\n",
       "    }\n",
       "\n",
       "    .dataframe thead th {\n",
       "        text-align: right;\n",
       "    }\n",
       "</style>\n",
       "<table border=\"1\" class=\"dataframe\">\n",
       "  <thead>\n",
       "    <tr style=\"text-align: right;\">\n",
       "      <th></th>\n",
       "      <th>Coin</th>\n",
       "      <th>Date</th>\n",
       "      <th>Percentage</th>\n",
       "      <th>Value</th>\n",
       "      <th>Signal</th>\n",
       "    </tr>\n",
       "  </thead>\n",
       "  <tbody>\n",
       "    <tr>\n",
       "      <th>0</th>\n",
       "      <td>BTC-USD</td>\n",
       "      <td>2022-05-24</td>\n",
       "      <td>0.000337</td>\n",
       "      <td>10</td>\n",
       "      <td>0</td>\n",
       "    </tr>\n",
       "    <tr>\n",
       "      <th>1</th>\n",
       "      <td>BTC-USD</td>\n",
       "      <td>2022-05-24</td>\n",
       "      <td>0.000337</td>\n",
       "      <td>10</td>\n",
       "      <td>0</td>\n",
       "    </tr>\n",
       "    <tr>\n",
       "      <th>2</th>\n",
       "      <td>SOL-USD</td>\n",
       "      <td>2022-05-24</td>\n",
       "      <td>0.201396</td>\n",
       "      <td>10</td>\n",
       "      <td>0</td>\n",
       "    </tr>\n",
       "    <tr>\n",
       "      <th>3</th>\n",
       "      <td>SOL-USD</td>\n",
       "      <td>2022-05-24</td>\n",
       "      <td>0.201396</td>\n",
       "      <td>10</td>\n",
       "      <td>0</td>\n",
       "    </tr>\n",
       "    <tr>\n",
       "      <th>4</th>\n",
       "      <td>SOL-USD</td>\n",
       "      <td>2022-05-24</td>\n",
       "      <td>0.201396</td>\n",
       "      <td>10</td>\n",
       "      <td>0</td>\n",
       "    </tr>\n",
       "  </tbody>\n",
       "</table>\n",
       "</div>"
      ],
      "text/plain": [
       "      Coin       Date  Percentage  Value  Signal\n",
       "0  BTC-USD 2022-05-24    0.000337     10       0\n",
       "1  BTC-USD 2022-05-24    0.000337     10       0\n",
       "2  SOL-USD 2022-05-24    0.201396     10       0\n",
       "3  SOL-USD 2022-05-24    0.201396     10       0\n",
       "4  SOL-USD 2022-05-24    0.201396     10       0"
      ]
     },
     "execution_count": 168,
     "metadata": {},
     "output_type": "execute_result"
    }
   ],
   "source": [
    "df_transactions, df_summary = portofolio(df_transactions,0,10,data,df_sol,'SOL-USD',df_summary)\n",
    "df_transactions"
   ]
  },
  {
   "cell_type": "code",
   "execution_count": 169,
   "metadata": {},
   "outputs": [
    {
     "data": {
      "text/html": [
       "<div>\n",
       "<style scoped>\n",
       "    .dataframe tbody tr th:only-of-type {\n",
       "        vertical-align: middle;\n",
       "    }\n",
       "\n",
       "    .dataframe tbody tr th {\n",
       "        vertical-align: top;\n",
       "    }\n",
       "\n",
       "    .dataframe thead th {\n",
       "        text-align: right;\n",
       "    }\n",
       "</style>\n",
       "<table border=\"1\" class=\"dataframe\">\n",
       "  <thead>\n",
       "    <tr style=\"text-align: right;\">\n",
       "      <th></th>\n",
       "      <th>Coin</th>\n",
       "      <th>Percentage</th>\n",
       "      <th>Value</th>\n",
       "      <th>Spent</th>\n",
       "    </tr>\n",
       "  </thead>\n",
       "  <tbody>\n",
       "    <tr>\n",
       "      <th>0</th>\n",
       "      <td>BTC-USD</td>\n",
       "      <td>0.000674</td>\n",
       "      <td>19.784816</td>\n",
       "      <td>20</td>\n",
       "    </tr>\n",
       "    <tr>\n",
       "      <th>1</th>\n",
       "      <td>SOL-USD</td>\n",
       "      <td>0.604189</td>\n",
       "      <td>27.265528</td>\n",
       "      <td>30</td>\n",
       "    </tr>\n",
       "  </tbody>\n",
       "</table>\n",
       "</div>"
      ],
      "text/plain": [
       "      Coin  Percentage      Value  Spent\n",
       "0  BTC-USD    0.000674  19.784816     20\n",
       "1  SOL-USD    0.604189  27.265528     30"
      ]
     },
     "execution_count": 169,
     "metadata": {},
     "output_type": "execute_result"
    }
   ],
   "source": [
    "df_summary"
   ]
  },
  {
   "cell_type": "code",
   "execution_count": 170,
   "metadata": {},
   "outputs": [],
   "source": [
    "df_near = yf.download('NEAR-USD', progress=False)"
   ]
  },
  {
   "cell_type": "code",
   "execution_count": 171,
   "metadata": {},
   "outputs": [
    {
     "name": "stdout",
     "output_type": "stream",
     "text": [
      "20\n",
      "20\n",
      "20\n",
      "20\n",
      "20\n",
      "20\n"
     ]
    },
    {
     "data": {
      "text/html": [
       "<div>\n",
       "<style scoped>\n",
       "    .dataframe tbody tr th:only-of-type {\n",
       "        vertical-align: middle;\n",
       "    }\n",
       "\n",
       "    .dataframe tbody tr th {\n",
       "        vertical-align: top;\n",
       "    }\n",
       "\n",
       "    .dataframe thead th {\n",
       "        text-align: right;\n",
       "    }\n",
       "</style>\n",
       "<table border=\"1\" class=\"dataframe\">\n",
       "  <thead>\n",
       "    <tr style=\"text-align: right;\">\n",
       "      <th></th>\n",
       "      <th>Coin</th>\n",
       "      <th>Date</th>\n",
       "      <th>Percentage</th>\n",
       "      <th>Value</th>\n",
       "      <th>Signal</th>\n",
       "    </tr>\n",
       "  </thead>\n",
       "  <tbody>\n",
       "    <tr>\n",
       "      <th>0</th>\n",
       "      <td>BTC-USD</td>\n",
       "      <td>2022-05-24</td>\n",
       "      <td>0.000337</td>\n",
       "      <td>10</td>\n",
       "      <td>0</td>\n",
       "    </tr>\n",
       "    <tr>\n",
       "      <th>1</th>\n",
       "      <td>BTC-USD</td>\n",
       "      <td>2022-05-24</td>\n",
       "      <td>0.000337</td>\n",
       "      <td>10</td>\n",
       "      <td>0</td>\n",
       "    </tr>\n",
       "    <tr>\n",
       "      <th>2</th>\n",
       "      <td>SOL-USD</td>\n",
       "      <td>2022-05-24</td>\n",
       "      <td>0.201396</td>\n",
       "      <td>10</td>\n",
       "      <td>0</td>\n",
       "    </tr>\n",
       "    <tr>\n",
       "      <th>3</th>\n",
       "      <td>SOL-USD</td>\n",
       "      <td>2022-05-24</td>\n",
       "      <td>0.201396</td>\n",
       "      <td>10</td>\n",
       "      <td>0</td>\n",
       "    </tr>\n",
       "    <tr>\n",
       "      <th>4</th>\n",
       "      <td>SOL-USD</td>\n",
       "      <td>2022-05-24</td>\n",
       "      <td>0.201396</td>\n",
       "      <td>10</td>\n",
       "      <td>0</td>\n",
       "    </tr>\n",
       "    <tr>\n",
       "      <th>5</th>\n",
       "      <td>NEAR-USD</td>\n",
       "      <td>2022-05-24</td>\n",
       "      <td>16.771247</td>\n",
       "      <td>100</td>\n",
       "      <td>0</td>\n",
       "    </tr>\n",
       "  </tbody>\n",
       "</table>\n",
       "</div>"
      ],
      "text/plain": [
       "       Coin       Date  Percentage  Value  Signal\n",
       "0   BTC-USD 2022-05-24    0.000337     10       0\n",
       "1   BTC-USD 2022-05-24    0.000337     10       0\n",
       "2   SOL-USD 2022-05-24    0.201396     10       0\n",
       "3   SOL-USD 2022-05-24    0.201396     10       0\n",
       "4   SOL-USD 2022-05-24    0.201396     10       0\n",
       "5  NEAR-USD 2022-05-24   16.771247    100       0"
      ]
     },
     "execution_count": 171,
     "metadata": {},
     "output_type": "execute_result"
    }
   ],
   "source": [
    "df_transactions, df_summary = portofolio(df_transactions,0,100,data,df_near,'NEAR-USD',df_summary)\n",
    "df_transactions"
   ]
  },
  {
   "cell_type": "code",
   "execution_count": 201,
   "metadata": {},
   "outputs": [
    {
     "data": {
      "application/vnd.plotly.v1+json": {
       "config": {
        "plotlyServerURL": "https://plot.ly"
       },
       "data": [
        {
         "alignmentgroup": "True",
         "bingroup": "x",
         "histfunc": "sum",
         "hovertemplate": "variable=Spent<br>Coin=%{x}<br>sum of value=%{y}<extra></extra>",
         "legendgroup": "Spent",
         "marker": {
          "color": "rgb(30,144,255)",
          "pattern": {
           "shape": ""
          }
         },
         "name": "Spent",
         "offsetgroup": "Spent",
         "orientation": "v",
         "showlegend": true,
         "type": "histogram",
         "x": [
          "BTC-USD",
          "SOL-USD",
          "NEAR-USD"
         ],
         "xaxis": "x",
         "y": [
          20,
          30,
          100
         ],
         "yaxis": "y"
        },
        {
         "alignmentgroup": "True",
         "bingroup": "x",
         "histfunc": "sum",
         "hovertemplate": "variable=Value<br>Coin=%{x}<br>sum of value=%{y}<extra></extra>",
         "legendgroup": "Value",
         "marker": {
          "color": "rgb(0,0,255)",
          "pattern": {
           "shape": ""
          }
         },
         "name": "Value",
         "offsetgroup": "Value",
         "orientation": "v",
         "showlegend": true,
         "type": "histogram",
         "x": [
          "BTC-USD",
          "SOL-USD",
          "NEAR-USD"
         ],
         "xaxis": "x",
         "y": [
          19.784816045670148,
          27.26552750223489,
          86.7799772704899
         ],
         "yaxis": "y"
        }
       ],
       "layout": {
        "barmode": "group",
        "font": {
         "color": "white",
         "size": 10
        },
        "height": 400,
        "legend": {
         "title": {
          "text": "variable"
         },
         "tracegroupgap": 0
        },
        "margin": {
         "b": 10,
         "l": 0,
         "r": 0,
         "t": 0
        },
        "paper_bgcolor": "rgba(0, 0, 0, 0)",
        "plot_bgcolor": "rgba(0, 0, 0, 0)",
        "template": {
         "data": {
          "bar": [
           {
            "error_x": {
             "color": "#f2f5fa"
            },
            "error_y": {
             "color": "#f2f5fa"
            },
            "marker": {
             "line": {
              "color": "rgb(17,17,17)",
              "width": 0.5
             },
             "pattern": {
              "fillmode": "overlay",
              "size": 10,
              "solidity": 0.2
             }
            },
            "type": "bar"
           }
          ],
          "barpolar": [
           {
            "marker": {
             "line": {
              "color": "rgb(17,17,17)",
              "width": 0.5
             },
             "pattern": {
              "fillmode": "overlay",
              "size": 10,
              "solidity": 0.2
             }
            },
            "type": "barpolar"
           }
          ],
          "carpet": [
           {
            "aaxis": {
             "endlinecolor": "#A2B1C6",
             "gridcolor": "#506784",
             "linecolor": "#506784",
             "minorgridcolor": "#506784",
             "startlinecolor": "#A2B1C6"
            },
            "baxis": {
             "endlinecolor": "#A2B1C6",
             "gridcolor": "#506784",
             "linecolor": "#506784",
             "minorgridcolor": "#506784",
             "startlinecolor": "#A2B1C6"
            },
            "type": "carpet"
           }
          ],
          "choropleth": [
           {
            "colorbar": {
             "outlinewidth": 0,
             "ticks": ""
            },
            "type": "choropleth"
           }
          ],
          "contour": [
           {
            "colorbar": {
             "outlinewidth": 0,
             "ticks": ""
            },
            "colorscale": [
             [
              0,
              "#0d0887"
             ],
             [
              0.1111111111111111,
              "#46039f"
             ],
             [
              0.2222222222222222,
              "#7201a8"
             ],
             [
              0.3333333333333333,
              "#9c179e"
             ],
             [
              0.4444444444444444,
              "#bd3786"
             ],
             [
              0.5555555555555556,
              "#d8576b"
             ],
             [
              0.6666666666666666,
              "#ed7953"
             ],
             [
              0.7777777777777778,
              "#fb9f3a"
             ],
             [
              0.8888888888888888,
              "#fdca26"
             ],
             [
              1,
              "#f0f921"
             ]
            ],
            "type": "contour"
           }
          ],
          "contourcarpet": [
           {
            "colorbar": {
             "outlinewidth": 0,
             "ticks": ""
            },
            "type": "contourcarpet"
           }
          ],
          "heatmap": [
           {
            "colorbar": {
             "outlinewidth": 0,
             "ticks": ""
            },
            "colorscale": [
             [
              0,
              "#0d0887"
             ],
             [
              0.1111111111111111,
              "#46039f"
             ],
             [
              0.2222222222222222,
              "#7201a8"
             ],
             [
              0.3333333333333333,
              "#9c179e"
             ],
             [
              0.4444444444444444,
              "#bd3786"
             ],
             [
              0.5555555555555556,
              "#d8576b"
             ],
             [
              0.6666666666666666,
              "#ed7953"
             ],
             [
              0.7777777777777778,
              "#fb9f3a"
             ],
             [
              0.8888888888888888,
              "#fdca26"
             ],
             [
              1,
              "#f0f921"
             ]
            ],
            "type": "heatmap"
           }
          ],
          "heatmapgl": [
           {
            "colorbar": {
             "outlinewidth": 0,
             "ticks": ""
            },
            "colorscale": [
             [
              0,
              "#0d0887"
             ],
             [
              0.1111111111111111,
              "#46039f"
             ],
             [
              0.2222222222222222,
              "#7201a8"
             ],
             [
              0.3333333333333333,
              "#9c179e"
             ],
             [
              0.4444444444444444,
              "#bd3786"
             ],
             [
              0.5555555555555556,
              "#d8576b"
             ],
             [
              0.6666666666666666,
              "#ed7953"
             ],
             [
              0.7777777777777778,
              "#fb9f3a"
             ],
             [
              0.8888888888888888,
              "#fdca26"
             ],
             [
              1,
              "#f0f921"
             ]
            ],
            "type": "heatmapgl"
           }
          ],
          "histogram": [
           {
            "marker": {
             "pattern": {
              "fillmode": "overlay",
              "size": 10,
              "solidity": 0.2
             }
            },
            "type": "histogram"
           }
          ],
          "histogram2d": [
           {
            "colorbar": {
             "outlinewidth": 0,
             "ticks": ""
            },
            "colorscale": [
             [
              0,
              "#0d0887"
             ],
             [
              0.1111111111111111,
              "#46039f"
             ],
             [
              0.2222222222222222,
              "#7201a8"
             ],
             [
              0.3333333333333333,
              "#9c179e"
             ],
             [
              0.4444444444444444,
              "#bd3786"
             ],
             [
              0.5555555555555556,
              "#d8576b"
             ],
             [
              0.6666666666666666,
              "#ed7953"
             ],
             [
              0.7777777777777778,
              "#fb9f3a"
             ],
             [
              0.8888888888888888,
              "#fdca26"
             ],
             [
              1,
              "#f0f921"
             ]
            ],
            "type": "histogram2d"
           }
          ],
          "histogram2dcontour": [
           {
            "colorbar": {
             "outlinewidth": 0,
             "ticks": ""
            },
            "colorscale": [
             [
              0,
              "#0d0887"
             ],
             [
              0.1111111111111111,
              "#46039f"
             ],
             [
              0.2222222222222222,
              "#7201a8"
             ],
             [
              0.3333333333333333,
              "#9c179e"
             ],
             [
              0.4444444444444444,
              "#bd3786"
             ],
             [
              0.5555555555555556,
              "#d8576b"
             ],
             [
              0.6666666666666666,
              "#ed7953"
             ],
             [
              0.7777777777777778,
              "#fb9f3a"
             ],
             [
              0.8888888888888888,
              "#fdca26"
             ],
             [
              1,
              "#f0f921"
             ]
            ],
            "type": "histogram2dcontour"
           }
          ],
          "mesh3d": [
           {
            "colorbar": {
             "outlinewidth": 0,
             "ticks": ""
            },
            "type": "mesh3d"
           }
          ],
          "parcoords": [
           {
            "line": {
             "colorbar": {
              "outlinewidth": 0,
              "ticks": ""
             }
            },
            "type": "parcoords"
           }
          ],
          "pie": [
           {
            "automargin": true,
            "type": "pie"
           }
          ],
          "scatter": [
           {
            "marker": {
             "line": {
              "color": "#283442"
             }
            },
            "type": "scatter"
           }
          ],
          "scatter3d": [
           {
            "line": {
             "colorbar": {
              "outlinewidth": 0,
              "ticks": ""
             }
            },
            "marker": {
             "colorbar": {
              "outlinewidth": 0,
              "ticks": ""
             }
            },
            "type": "scatter3d"
           }
          ],
          "scattercarpet": [
           {
            "marker": {
             "colorbar": {
              "outlinewidth": 0,
              "ticks": ""
             }
            },
            "type": "scattercarpet"
           }
          ],
          "scattergeo": [
           {
            "marker": {
             "colorbar": {
              "outlinewidth": 0,
              "ticks": ""
             }
            },
            "type": "scattergeo"
           }
          ],
          "scattergl": [
           {
            "marker": {
             "line": {
              "color": "#283442"
             }
            },
            "type": "scattergl"
           }
          ],
          "scattermapbox": [
           {
            "marker": {
             "colorbar": {
              "outlinewidth": 0,
              "ticks": ""
             }
            },
            "type": "scattermapbox"
           }
          ],
          "scatterpolar": [
           {
            "marker": {
             "colorbar": {
              "outlinewidth": 0,
              "ticks": ""
             }
            },
            "type": "scatterpolar"
           }
          ],
          "scatterpolargl": [
           {
            "marker": {
             "colorbar": {
              "outlinewidth": 0,
              "ticks": ""
             }
            },
            "type": "scatterpolargl"
           }
          ],
          "scatterternary": [
           {
            "marker": {
             "colorbar": {
              "outlinewidth": 0,
              "ticks": ""
             }
            },
            "type": "scatterternary"
           }
          ],
          "surface": [
           {
            "colorbar": {
             "outlinewidth": 0,
             "ticks": ""
            },
            "colorscale": [
             [
              0,
              "#0d0887"
             ],
             [
              0.1111111111111111,
              "#46039f"
             ],
             [
              0.2222222222222222,
              "#7201a8"
             ],
             [
              0.3333333333333333,
              "#9c179e"
             ],
             [
              0.4444444444444444,
              "#bd3786"
             ],
             [
              0.5555555555555556,
              "#d8576b"
             ],
             [
              0.6666666666666666,
              "#ed7953"
             ],
             [
              0.7777777777777778,
              "#fb9f3a"
             ],
             [
              0.8888888888888888,
              "#fdca26"
             ],
             [
              1,
              "#f0f921"
             ]
            ],
            "type": "surface"
           }
          ],
          "table": [
           {
            "cells": {
             "fill": {
              "color": "#506784"
             },
             "line": {
              "color": "rgb(17,17,17)"
             }
            },
            "header": {
             "fill": {
              "color": "#2a3f5f"
             },
             "line": {
              "color": "rgb(17,17,17)"
             }
            },
            "type": "table"
           }
          ]
         },
         "layout": {
          "annotationdefaults": {
           "arrowcolor": "#f2f5fa",
           "arrowhead": 0,
           "arrowwidth": 1
          },
          "autotypenumbers": "strict",
          "coloraxis": {
           "colorbar": {
            "outlinewidth": 0,
            "ticks": ""
           }
          },
          "colorscale": {
           "diverging": [
            [
             0,
             "#8e0152"
            ],
            [
             0.1,
             "#c51b7d"
            ],
            [
             0.2,
             "#de77ae"
            ],
            [
             0.3,
             "#f1b6da"
            ],
            [
             0.4,
             "#fde0ef"
            ],
            [
             0.5,
             "#f7f7f7"
            ],
            [
             0.6,
             "#e6f5d0"
            ],
            [
             0.7,
             "#b8e186"
            ],
            [
             0.8,
             "#7fbc41"
            ],
            [
             0.9,
             "#4d9221"
            ],
            [
             1,
             "#276419"
            ]
           ],
           "sequential": [
            [
             0,
             "#0d0887"
            ],
            [
             0.1111111111111111,
             "#46039f"
            ],
            [
             0.2222222222222222,
             "#7201a8"
            ],
            [
             0.3333333333333333,
             "#9c179e"
            ],
            [
             0.4444444444444444,
             "#bd3786"
            ],
            [
             0.5555555555555556,
             "#d8576b"
            ],
            [
             0.6666666666666666,
             "#ed7953"
            ],
            [
             0.7777777777777778,
             "#fb9f3a"
            ],
            [
             0.8888888888888888,
             "#fdca26"
            ],
            [
             1,
             "#f0f921"
            ]
           ],
           "sequentialminus": [
            [
             0,
             "#0d0887"
            ],
            [
             0.1111111111111111,
             "#46039f"
            ],
            [
             0.2222222222222222,
             "#7201a8"
            ],
            [
             0.3333333333333333,
             "#9c179e"
            ],
            [
             0.4444444444444444,
             "#bd3786"
            ],
            [
             0.5555555555555556,
             "#d8576b"
            ],
            [
             0.6666666666666666,
             "#ed7953"
            ],
            [
             0.7777777777777778,
             "#fb9f3a"
            ],
            [
             0.8888888888888888,
             "#fdca26"
            ],
            [
             1,
             "#f0f921"
            ]
           ]
          },
          "colorway": [
           "#636efa",
           "#EF553B",
           "#00cc96",
           "#ab63fa",
           "#FFA15A",
           "#19d3f3",
           "#FF6692",
           "#B6E880",
           "#FF97FF",
           "#FECB52"
          ],
          "font": {
           "color": "#f2f5fa"
          },
          "geo": {
           "bgcolor": "rgb(17,17,17)",
           "lakecolor": "rgb(17,17,17)",
           "landcolor": "rgb(17,17,17)",
           "showlakes": true,
           "showland": true,
           "subunitcolor": "#506784"
          },
          "hoverlabel": {
           "align": "left"
          },
          "hovermode": "closest",
          "mapbox": {
           "style": "dark"
          },
          "paper_bgcolor": "rgb(17,17,17)",
          "plot_bgcolor": "rgb(17,17,17)",
          "polar": {
           "angularaxis": {
            "gridcolor": "#506784",
            "linecolor": "#506784",
            "ticks": ""
           },
           "bgcolor": "rgb(17,17,17)",
           "radialaxis": {
            "gridcolor": "#506784",
            "linecolor": "#506784",
            "ticks": ""
           }
          },
          "scene": {
           "xaxis": {
            "backgroundcolor": "rgb(17,17,17)",
            "gridcolor": "#506784",
            "gridwidth": 2,
            "linecolor": "#506784",
            "showbackground": true,
            "ticks": "",
            "zerolinecolor": "#C8D4E3"
           },
           "yaxis": {
            "backgroundcolor": "rgb(17,17,17)",
            "gridcolor": "#506784",
            "gridwidth": 2,
            "linecolor": "#506784",
            "showbackground": true,
            "ticks": "",
            "zerolinecolor": "#C8D4E3"
           },
           "zaxis": {
            "backgroundcolor": "rgb(17,17,17)",
            "gridcolor": "#506784",
            "gridwidth": 2,
            "linecolor": "#506784",
            "showbackground": true,
            "ticks": "",
            "zerolinecolor": "#C8D4E3"
           }
          },
          "shapedefaults": {
           "line": {
            "color": "#f2f5fa"
           }
          },
          "sliderdefaults": {
           "bgcolor": "#C8D4E3",
           "bordercolor": "rgb(17,17,17)",
           "borderwidth": 1,
           "tickwidth": 0
          },
          "ternary": {
           "aaxis": {
            "gridcolor": "#506784",
            "linecolor": "#506784",
            "ticks": ""
           },
           "baxis": {
            "gridcolor": "#506784",
            "linecolor": "#506784",
            "ticks": ""
           },
           "bgcolor": "rgb(17,17,17)",
           "caxis": {
            "gridcolor": "#506784",
            "linecolor": "#506784",
            "ticks": ""
           }
          },
          "title": {
           "x": 0.05
          },
          "updatemenudefaults": {
           "bgcolor": "#506784",
           "borderwidth": 0
          },
          "xaxis": {
           "automargin": true,
           "gridcolor": "#283442",
           "linecolor": "#506784",
           "ticks": "",
           "title": {
            "standoff": 15
           },
           "zerolinecolor": "#283442",
           "zerolinewidth": 2
          },
          "yaxis": {
           "automargin": true,
           "gridcolor": "#283442",
           "linecolor": "#506784",
           "ticks": "",
           "title": {
            "standoff": 15
           },
           "zerolinecolor": "#283442",
           "zerolinewidth": 2
          }
         }
        },
        "xaxis": {
         "anchor": "y",
         "domain": [
          0,
          1
         ],
         "title": {
          "text": "Coin"
         }
        },
        "yaxis": {
         "anchor": "x",
         "domain": [
          0,
          1
         ],
         "title": {
          "text": "sum of value"
         }
        }
       }
      }
     },
     "metadata": {},
     "output_type": "display_data"
    }
   ],
   "source": [
    "import plotly.express as px\n",
    "\n",
    "color_discrete_map = {'Spent': 'rgb(30,144,255)', 'Value': 'rgb(0,0,255)'}\n",
    "fig = px.histogram(df_summary, x=\"Coin\", y=['Spent',\"Value\"],\n",
    "              barmode='group',color_discrete_map=color_discrete_map,\n",
    "             height=400)\n",
    "\n",
    "fig.update_layout(\n",
    "        template=\"plotly_dark\",\n",
    "        plot_bgcolor = 'rgba(0, 0, 0, 0)',\n",
    "        paper_bgcolor = 'rgba(0, 0, 0, 0)',\n",
    "        font_color=\"white\",\n",
    "        font_size= 10,\n",
    "        margin={'t': 0,'l':0,'b':10,'r':0})\n",
    "fig.show()"
   ]
  },
  {
   "cell_type": "code",
   "execution_count": null,
   "metadata": {},
   "outputs": [],
   "source": []
  }
 ],
 "metadata": {
  "interpreter": {
   "hash": "20f5f4a9de05844b4ac8af346b75ae95ee290ce3bd4eae42415f2bbcfecf46df"
  },
  "kernelspec": {
   "display_name": "Python 3.9.12 ('BC')",
   "language": "python",
   "name": "python3"
  },
  "language_info": {
   "codemirror_mode": {
    "name": "ipython",
    "version": 3
   },
   "file_extension": ".py",
   "mimetype": "text/x-python",
   "name": "python",
   "nbconvert_exporter": "python",
   "pygments_lexer": "ipython3",
   "version": "3.9.12"
  },
  "orig_nbformat": 4
 },
 "nbformat": 4,
 "nbformat_minor": 2
}

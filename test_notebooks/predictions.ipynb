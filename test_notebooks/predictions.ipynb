{
 "cells": [
  {
   "cell_type": "code",
   "execution_count": 1,
   "metadata": {},
   "outputs": [],
   "source": [
    "import pandas as pd \n",
    "import numpy as np \n",
    "import plotly.express as px\n",
    "from plotly.subplots import make_subplots\n",
    "import plotly.graph_objects as go\n",
    "\n",
    "from sklearn.preprocessing import MinMaxScaler\n",
    "import seaborn as sns\n",
    "import matplotlib.pyplot as plt\n",
    "from sklearn.model_selection import TimeSeriesSplit\n",
    "\n",
    "# Models\n",
    "from sklearn.ensemble import GradientBoostingRegressor\n",
    "from sklearn.ensemble import RandomForestRegressor\n",
    "from xgboost import XGBRegressor\n",
    "from sklearn.neural_network import MLPRegressor\n",
    "\n",
    "from sklearn.metrics import mean_absolute_error\n",
    "from sklearn.metrics import mean_squared_error\n",
    "from sklearn.metrics import r2_score\n",
    "import warnings\n",
    "warnings.filterwarnings('ignore')\n",
    "\n",
    "import math\n",
    "\n",
    "import datetime\n",
    "from datetime import datetime as dt\n",
    "from dateutil.relativedelta import *\n",
    "from datetime import timedelta"
   ]
  },
  {
   "cell_type": "code",
   "execution_count": 2,
   "metadata": {},
   "outputs": [],
   "source": [
    "def add_days(df, forecast_length):\n",
    "    end_point = len(df)\n",
    "    df1 = pd.DataFrame(index=range(forecast_length), columns=range(2))\n",
    "    df1.columns = ['Close', 'Date']\n",
    "    df = df.append(df1)\n",
    "    df = df.reset_index(drop=True)\n",
    "    x = df.at[end_point - 1, 'Date']\n",
    "    x = pd.to_datetime(x, format='%Y-%m-%d')\n",
    "    for i in range(forecast_length):\n",
    "        df.at[df.index[end_point + i], 'Date'] = x + timedelta(days=1+i)\n",
    "        df.at[df.index[end_point + i], 'Close'] = 0\n",
    "    df['Date'] = pd.to_datetime(df['Date'], format='%Y-%m-%d')\n",
    "    df = df.drop(['Date'], axis=1)\n",
    "    return df"
   ]
  },
  {
   "cell_type": "code",
   "execution_count": 9,
   "metadata": {},
   "outputs": [],
   "source": [
    "def forecasting(model,df1, forecast_length,target='Close'):\n",
    "    df3 = df1[[target, 'Date']]\n",
    "    df3 = add_days(df3, forecast_length)\n",
    "    finaldf = df1.drop('Date', axis=1)\n",
    "    finaldf = finaldf.reset_index(drop=True)\n",
    "    end_point = len(finaldf)\n",
    "    x = end_point - forecast_length\n",
    "    finaldf_train = finaldf.loc[:x - 1, :]\n",
    "    finaldf_train_x = finaldf_train.loc[:, finaldf_train.columns != target]\n",
    "    finaldf_train_y = finaldf_train[target]\n",
    "\n",
    "    fit = model.fit(finaldf_train_x, finaldf_train_y)\n",
    "    yhat = []\n",
    "    end_point = len(finaldf)\n",
    "    df3_end = len(df3)\n",
    "    for i in range(forecast_length, 0, -1):\n",
    "        y = end_point - i\n",
    "        inputfile = finaldf.loc[y:end_point, :]\n",
    "        inputfile_x = inputfile.loc[:, inputfile.columns != target]\n",
    "        pred_set = inputfile_x.head(1)\n",
    "        pred = fit.predict(pred_set)\n",
    "        df3.at[df3.index[df3_end - i], 'Close'] = pred[0]\n",
    "        finaldf = df1.drop('Date', axis=1)\n",
    "        finaldf = finaldf.reset_index(drop=True)\n",
    "        yhat.append(pred)\n",
    "    yhat = np.array(yhat)\n",
    "    return yhat"
   ]
  },
  {
   "cell_type": "code",
   "execution_count": 17,
   "metadata": {},
   "outputs": [],
   "source": [
    "def predictions(df_coin, forecast_lenght = 5, train_lenght = 100,target = 'Close'):\n",
    "    \"\"\" df_coin must be with date in index,\n",
    "        forecast_lenght is the amount of days that we will predict\n",
    "        model is the model predefined to use to get our predictions\n",
    "        train_length is the amount of days that we will use to train the model\n",
    "        target is what we are predicting\n",
    "        This will return a graphic that will contain the data from the train set and our predictions\n",
    "    \"\"\"\n",
    "    df_coin = df_coin.tail(train_lenght)\n",
    "    df_coin.reset_index(inplace=True)\n",
    "    df_coin['Date'] = pd.to_datetime(df_coin['Date'], format='%Y-%m-%d')\n",
    "\n",
    "    df_test = df_coin.copy()\n",
    "    df_validation = df_test.tail(forecast_lenght)\n",
    "    df_test.drop(df_test.tail(forecast_lenght).index, inplace = True)\n",
    "\n",
    "    #Models\n",
    "    model_rf = RandomForestRegressor(random_state=10)\n",
    "    model_gb = GradientBoostingRegressor(random_state = 10)\n",
    "    model_xgb = XGBRegressor(random_state = 10)\n",
    "    #Metrics\n",
    "    forecast_test_rf = forecasting(model_rf,df_test,forecast_lenght,target)\n",
    "    forecast_test_gb = forecasting(model_gb,df_test,forecast_lenght,target)\n",
    "    forecast_test_xgb = forecasting(model_xgb,df_test,forecast_lenght,target)\n",
    "\n",
    "    forecast_test = (forecast_test_rf+forecast_test_gb+forecast_test_xgb)/3\n",
    "\n",
    "    value_mae = mean_absolute_error(df_validation[target], forecast_test)\n",
    "    value_mse = mean_squared_error(df_validation[target], forecast_test)\n",
    "    value_r2 = r2_score(df_validation[target], forecast_test)\n",
    "    value_rmse = math.sqrt(value_mse)\n",
    "\n",
    "    fig2 = go.Figure()\n",
    "    fig2.add_trace(go.Scatter(x=df_coin['Date'], y=df_coin[target], \n",
    "                    name='Actual Values', mode='lines',line=dict(color='black')))\n",
    "   \n",
    "    #Predictions\n",
    "    forecast_rf = forecasting(model_rf,df_coin,forecast_lenght,target)\n",
    "    forecast_gb = forecasting(model_gb,df_coin,forecast_lenght,target)\n",
    "    forecast_xgb = forecasting(model_xgb,df_coin,forecast_lenght,target)\n",
    "    #ensamble\n",
    "    forecast = (forecast_rf+forecast_gb+forecast_xgb)/3\n",
    "    #df that will contain the predictions\n",
    "    df_pred = pd.DataFrame(columns=['Date',target])\n",
    "    #Adding the predictions to our dataset\n",
    "    for day, x in enumerate(forecast):\n",
    "        new_row={'Date':df_coin['Date'].max() + timedelta(days=1+day),\n",
    "     target:x[0]}\n",
    "        df_pred = df_pred.append(new_row, ignore_index=True)\n",
    "\n",
    "    df_pred['Date'] = pd.to_datetime(df_pred['Date'], format='%Y-%m-%d')\n",
    "\n",
    "    fig2.add_trace(go.Scatter(x=df_pred['Date'], y=df_pred[target], name='Predictions', mode='lines',line=dict(color='red')))\n",
    "    fig2.update_layout(dict(updatemenus=[\n",
    "                        dict(\n",
    "                        type = \"buttons\",\n",
    "                        direction = \"left\",\n",
    "                        buttons=list([\n",
    "                                dict(\n",
    "                                args=[\"visible\", \"legendonly\"],\n",
    "                                label=\"Deselect All\",\n",
    "                                method=\"restyle\"\n",
    "                                ),\n",
    "                                dict(\n",
    "                                args=[\"visible\", True],\n",
    "                                label=\"Select All\",\n",
    "                                method=\"restyle\"\n",
    "                                )\n",
    "                        ]),\n",
    "                        pad={\"r\": 10, \"t\": 10},\n",
    "                        showactive=False,\n",
    "                        x=1,\n",
    "                        xanchor=\"right\",\n",
    "                        y=1.1,\n",
    "                        yanchor=\"top\"\n",
    "                        ),\n",
    "                ]\n",
    "        ))\n",
    "    fig2.show()\n",
    "    return(value_mse, value_rmse, value_mae)"
   ]
  },
  {
   "cell_type": "code",
   "execution_count": 18,
   "metadata": {},
   "outputs": [
    {
     "data": {
      "text/html": [
       "<div>\n",
       "<style scoped>\n",
       "    .dataframe tbody tr th:only-of-type {\n",
       "        vertical-align: middle;\n",
       "    }\n",
       "\n",
       "    .dataframe tbody tr th {\n",
       "        vertical-align: top;\n",
       "    }\n",
       "\n",
       "    .dataframe thead th {\n",
       "        text-align: right;\n",
       "    }\n",
       "</style>\n",
       "<table border=\"1\" class=\"dataframe\">\n",
       "  <thead>\n",
       "    <tr style=\"text-align: right;\">\n",
       "      <th></th>\n",
       "      <th>Open</th>\n",
       "      <th>High</th>\n",
       "      <th>Low</th>\n",
       "      <th>Close</th>\n",
       "      <th>Adj Close</th>\n",
       "      <th>Volume</th>\n",
       "      <th>SMA30</th>\n",
       "      <th>CMA30</th>\n",
       "      <th>EMA30</th>\n",
       "      <th>adx</th>\n",
       "      <th>...</th>\n",
       "      <th>bb_high</th>\n",
       "      <th>macd</th>\n",
       "      <th>macdsignal</th>\n",
       "      <th>macdhist</th>\n",
       "      <th>rsi</th>\n",
       "      <th>stdev</th>\n",
       "      <th>slowk</th>\n",
       "      <th>slowd</th>\n",
       "      <th>dollar_close</th>\n",
       "      <th>sp500_close</th>\n",
       "    </tr>\n",
       "    <tr>\n",
       "      <th>Date</th>\n",
       "      <th></th>\n",
       "      <th></th>\n",
       "      <th></th>\n",
       "      <th></th>\n",
       "      <th></th>\n",
       "      <th></th>\n",
       "      <th></th>\n",
       "      <th></th>\n",
       "      <th></th>\n",
       "      <th></th>\n",
       "      <th></th>\n",
       "      <th></th>\n",
       "      <th></th>\n",
       "      <th></th>\n",
       "      <th></th>\n",
       "      <th></th>\n",
       "      <th></th>\n",
       "      <th></th>\n",
       "      <th></th>\n",
       "      <th></th>\n",
       "      <th></th>\n",
       "    </tr>\n",
       "  </thead>\n",
       "  <tbody>\n",
       "    <tr>\n",
       "      <th>2020-05-13</th>\n",
       "      <td>0.538372</td>\n",
       "      <td>0.564874</td>\n",
       "      <td>0.518038</td>\n",
       "      <td>0.550532</td>\n",
       "      <td>0.550532</td>\n",
       "      <td>2.326446e+06</td>\n",
       "      <td>0.630456</td>\n",
       "      <td>0.658397</td>\n",
       "      <td>0.603585</td>\n",
       "      <td>21.590463</td>\n",
       "      <td>...</td>\n",
       "      <td>0.773171</td>\n",
       "      <td>-0.041228</td>\n",
       "      <td>-0.028529</td>\n",
       "      <td>-0.012699</td>\n",
       "      <td>36.035358</td>\n",
       "      <td>0.071357</td>\n",
       "      <td>23.592362</td>\n",
       "      <td>18.768069</td>\n",
       "      <td>100.291000</td>\n",
       "      <td>2820.000000</td>\n",
       "    </tr>\n",
       "    <tr>\n",
       "      <th>2020-05-14</th>\n",
       "      <td>0.550532</td>\n",
       "      <td>0.580946</td>\n",
       "      <td>0.550110</td>\n",
       "      <td>0.569118</td>\n",
       "      <td>0.569118</td>\n",
       "      <td>2.047897e+06</td>\n",
       "      <td>0.618675</td>\n",
       "      <td>0.655847</td>\n",
       "      <td>0.599277</td>\n",
       "      <td>22.187288</td>\n",
       "      <td>...</td>\n",
       "      <td>0.750072</td>\n",
       "      <td>-0.039807</td>\n",
       "      <td>-0.030785</td>\n",
       "      <td>-0.009022</td>\n",
       "      <td>38.130968</td>\n",
       "      <td>0.065699</td>\n",
       "      <td>40.929769</td>\n",
       "      <td>26.836762</td>\n",
       "      <td>100.507004</td>\n",
       "      <td>2852.500000</td>\n",
       "    </tr>\n",
       "    <tr>\n",
       "      <th>2020-05-15</th>\n",
       "      <td>0.569193</td>\n",
       "      <td>0.574620</td>\n",
       "      <td>0.547093</td>\n",
       "      <td>0.559752</td>\n",
       "      <td>0.559752</td>\n",
       "      <td>1.850070e+06</td>\n",
       "      <td>0.609922</td>\n",
       "      <td>0.653177</td>\n",
       "      <td>0.594336</td>\n",
       "      <td>22.784645</td>\n",
       "      <td>...</td>\n",
       "      <td>0.738327</td>\n",
       "      <td>-0.038987</td>\n",
       "      <td>-0.032425</td>\n",
       "      <td>-0.006561</td>\n",
       "      <td>37.468194</td>\n",
       "      <td>0.064203</td>\n",
       "      <td>56.470298</td>\n",
       "      <td>40.330810</td>\n",
       "      <td>100.433998</td>\n",
       "      <td>2863.699951</td>\n",
       "    </tr>\n",
       "    <tr>\n",
       "      <th>2020-05-16</th>\n",
       "      <td>0.558981</td>\n",
       "      <td>0.606534</td>\n",
       "      <td>0.554361</td>\n",
       "      <td>0.599120</td>\n",
       "      <td>0.599120</td>\n",
       "      <td>2.300409e+06</td>\n",
       "      <td>0.601277</td>\n",
       "      <td>0.651716</td>\n",
       "      <td>0.594934</td>\n",
       "      <td>22.556816</td>\n",
       "      <td>...</td>\n",
       "      <td>0.712865</td>\n",
       "      <td>-0.034759</td>\n",
       "      <td>-0.032892</td>\n",
       "      <td>-0.001867</td>\n",
       "      <td>42.007706</td>\n",
       "      <td>0.055794</td>\n",
       "      <td>74.794339</td>\n",
       "      <td>57.398135</td>\n",
       "      <td>100.433998</td>\n",
       "      <td>2863.699951</td>\n",
       "    </tr>\n",
       "    <tr>\n",
       "      <th>2020-05-17</th>\n",
       "      <td>0.595228</td>\n",
       "      <td>0.640196</td>\n",
       "      <td>0.589175</td>\n",
       "      <td>0.612989</td>\n",
       "      <td>0.612989</td>\n",
       "      <td>2.936428e+06</td>\n",
       "      <td>0.594418</td>\n",
       "      <td>0.650697</td>\n",
       "      <td>0.597191</td>\n",
       "      <td>21.610798</td>\n",
       "      <td>...</td>\n",
       "      <td>0.688217</td>\n",
       "      <td>-0.029945</td>\n",
       "      <td>-0.032303</td>\n",
       "      <td>0.002358</td>\n",
       "      <td>43.554393</td>\n",
       "      <td>0.046899</td>\n",
       "      <td>80.809923</td>\n",
       "      <td>70.691520</td>\n",
       "      <td>100.433998</td>\n",
       "      <td>2863.699951</td>\n",
       "    </tr>\n",
       "    <tr>\n",
       "      <th>...</th>\n",
       "      <td>...</td>\n",
       "      <td>...</td>\n",
       "      <td>...</td>\n",
       "      <td>...</td>\n",
       "      <td>...</td>\n",
       "      <td>...</td>\n",
       "      <td>...</td>\n",
       "      <td>...</td>\n",
       "      <td>...</td>\n",
       "      <td>...</td>\n",
       "      <td>...</td>\n",
       "      <td>...</td>\n",
       "      <td>...</td>\n",
       "      <td>...</td>\n",
       "      <td>...</td>\n",
       "      <td>...</td>\n",
       "      <td>...</td>\n",
       "      <td>...</td>\n",
       "      <td>...</td>\n",
       "      <td>...</td>\n",
       "      <td>...</td>\n",
       "    </tr>\n",
       "    <tr>\n",
       "      <th>2022-05-22</th>\n",
       "      <td>50.320660</td>\n",
       "      <td>53.021660</td>\n",
       "      <td>49.862785</td>\n",
       "      <td>52.755180</td>\n",
       "      <td>52.755180</td>\n",
       "      <td>1.105761e+09</td>\n",
       "      <td>55.021761</td>\n",
       "      <td>56.982347</td>\n",
       "      <td>58.130016</td>\n",
       "      <td>44.655632</td>\n",
       "      <td>...</td>\n",
       "      <td>70.562499</td>\n",
       "      <td>-10.944958</td>\n",
       "      <td>-11.448725</td>\n",
       "      <td>0.503767</td>\n",
       "      <td>37.165800</td>\n",
       "      <td>7.770369</td>\n",
       "      <td>28.435353</td>\n",
       "      <td>25.943267</td>\n",
       "      <td>103.694000</td>\n",
       "      <td>4123.339844</td>\n",
       "    </tr>\n",
       "    <tr>\n",
       "      <th>2022-05-23</th>\n",
       "      <td>52.736088</td>\n",
       "      <td>54.474648</td>\n",
       "      <td>48.927246</td>\n",
       "      <td>49.056850</td>\n",
       "      <td>49.056850</td>\n",
       "      <td>1.661669e+09</td>\n",
       "      <td>53.277539</td>\n",
       "      <td>56.972107</td>\n",
       "      <td>56.995870</td>\n",
       "      <td>44.561843</td>\n",
       "      <td>...</td>\n",
       "      <td>64.681031</td>\n",
       "      <td>-10.665722</td>\n",
       "      <td>-11.292124</td>\n",
       "      <td>0.626402</td>\n",
       "      <td>35.070199</td>\n",
       "      <td>5.701746</td>\n",
       "      <td>29.044400</td>\n",
       "      <td>27.101726</td>\n",
       "      <td>103.694000</td>\n",
       "      <td>4123.339844</td>\n",
       "    </tr>\n",
       "    <tr>\n",
       "      <th>2022-05-24</th>\n",
       "      <td>49.064232</td>\n",
       "      <td>50.577522</td>\n",
       "      <td>47.500824</td>\n",
       "      <td>49.653336</td>\n",
       "      <td>49.653336</td>\n",
       "      <td>1.508167e+09</td>\n",
       "      <td>52.369784</td>\n",
       "      <td>56.962664</td>\n",
       "      <td>56.078053</td>\n",
       "      <td>44.610040</td>\n",
       "      <td>...</td>\n",
       "      <td>62.549252</td>\n",
       "      <td>-10.277818</td>\n",
       "      <td>-11.089263</td>\n",
       "      <td>0.811445</td>\n",
       "      <td>35.696748</td>\n",
       "      <td>5.089734</td>\n",
       "      <td>31.765465</td>\n",
       "      <td>29.748406</td>\n",
       "      <td>103.694000</td>\n",
       "      <td>4123.339844</td>\n",
       "    </tr>\n",
       "    <tr>\n",
       "      <th>2022-05-25</th>\n",
       "      <td>49.648418</td>\n",
       "      <td>50.442371</td>\n",
       "      <td>47.673145</td>\n",
       "      <td>47.982426</td>\n",
       "      <td>47.982426</td>\n",
       "      <td>1.304580e+09</td>\n",
       "      <td>51.117536</td>\n",
       "      <td>56.951091</td>\n",
       "      <td>55.066100</td>\n",
       "      <td>44.655023</td>\n",
       "      <td>...</td>\n",
       "      <td>57.988781</td>\n",
       "      <td>-9.990071</td>\n",
       "      <td>-10.869424</td>\n",
       "      <td>0.879354</td>\n",
       "      <td>34.692000</td>\n",
       "      <td>3.435623</td>\n",
       "      <td>17.811823</td>\n",
       "      <td>26.207229</td>\n",
       "      <td>103.694000</td>\n",
       "      <td>4123.339844</td>\n",
       "    </tr>\n",
       "    <tr>\n",
       "      <th>2022-05-26</th>\n",
       "      <td>47.983974</td>\n",
       "      <td>48.551022</td>\n",
       "      <td>42.321381</td>\n",
       "      <td>43.491211</td>\n",
       "      <td>43.491211</td>\n",
       "      <td>2.208995e+09</td>\n",
       "      <td>50.669560</td>\n",
       "      <td>56.933768</td>\n",
       "      <td>53.619239</td>\n",
       "      <td>45.185204</td>\n",
       "      <td>...</td>\n",
       "      <td>58.524597</td>\n",
       "      <td>-10.009054</td>\n",
       "      <td>-10.697350</td>\n",
       "      <td>0.688296</td>\n",
       "      <td>32.090749</td>\n",
       "      <td>3.927519</td>\n",
       "      <td>15.799027</td>\n",
       "      <td>21.792105</td>\n",
       "      <td>103.694000</td>\n",
       "      <td>4123.339844</td>\n",
       "    </tr>\n",
       "  </tbody>\n",
       "</table>\n",
       "<p>744 rows × 22 columns</p>\n",
       "</div>"
      ],
      "text/plain": [
       "                 Open       High        Low      Close  Adj Close  \\\n",
       "Date                                                                \n",
       "2020-05-13   0.538372   0.564874   0.518038   0.550532   0.550532   \n",
       "2020-05-14   0.550532   0.580946   0.550110   0.569118   0.569118   \n",
       "2020-05-15   0.569193   0.574620   0.547093   0.559752   0.559752   \n",
       "2020-05-16   0.558981   0.606534   0.554361   0.599120   0.599120   \n",
       "2020-05-17   0.595228   0.640196   0.589175   0.612989   0.612989   \n",
       "...               ...        ...        ...        ...        ...   \n",
       "2022-05-22  50.320660  53.021660  49.862785  52.755180  52.755180   \n",
       "2022-05-23  52.736088  54.474648  48.927246  49.056850  49.056850   \n",
       "2022-05-24  49.064232  50.577522  47.500824  49.653336  49.653336   \n",
       "2022-05-25  49.648418  50.442371  47.673145  47.982426  47.982426   \n",
       "2022-05-26  47.983974  48.551022  42.321381  43.491211  43.491211   \n",
       "\n",
       "                  Volume      SMA30      CMA30      EMA30        adx  ...  \\\n",
       "Date                                                                  ...   \n",
       "2020-05-13  2.326446e+06   0.630456   0.658397   0.603585  21.590463  ...   \n",
       "2020-05-14  2.047897e+06   0.618675   0.655847   0.599277  22.187288  ...   \n",
       "2020-05-15  1.850070e+06   0.609922   0.653177   0.594336  22.784645  ...   \n",
       "2020-05-16  2.300409e+06   0.601277   0.651716   0.594934  22.556816  ...   \n",
       "2020-05-17  2.936428e+06   0.594418   0.650697   0.597191  21.610798  ...   \n",
       "...                  ...        ...        ...        ...        ...  ...   \n",
       "2022-05-22  1.105761e+09  55.021761  56.982347  58.130016  44.655632  ...   \n",
       "2022-05-23  1.661669e+09  53.277539  56.972107  56.995870  44.561843  ...   \n",
       "2022-05-24  1.508167e+09  52.369784  56.962664  56.078053  44.610040  ...   \n",
       "2022-05-25  1.304580e+09  51.117536  56.951091  55.066100  44.655023  ...   \n",
       "2022-05-26  2.208995e+09  50.669560  56.933768  53.619239  45.185204  ...   \n",
       "\n",
       "              bb_high       macd  macdsignal  macdhist        rsi     stdev  \\\n",
       "Date                                                                          \n",
       "2020-05-13   0.773171  -0.041228   -0.028529 -0.012699  36.035358  0.071357   \n",
       "2020-05-14   0.750072  -0.039807   -0.030785 -0.009022  38.130968  0.065699   \n",
       "2020-05-15   0.738327  -0.038987   -0.032425 -0.006561  37.468194  0.064203   \n",
       "2020-05-16   0.712865  -0.034759   -0.032892 -0.001867  42.007706  0.055794   \n",
       "2020-05-17   0.688217  -0.029945   -0.032303  0.002358  43.554393  0.046899   \n",
       "...               ...        ...         ...       ...        ...       ...   \n",
       "2022-05-22  70.562499 -10.944958  -11.448725  0.503767  37.165800  7.770369   \n",
       "2022-05-23  64.681031 -10.665722  -11.292124  0.626402  35.070199  5.701746   \n",
       "2022-05-24  62.549252 -10.277818  -11.089263  0.811445  35.696748  5.089734   \n",
       "2022-05-25  57.988781  -9.990071  -10.869424  0.879354  34.692000  3.435623   \n",
       "2022-05-26  58.524597 -10.009054  -10.697350  0.688296  32.090749  3.927519   \n",
       "\n",
       "                slowk      slowd  dollar_close  sp500_close  \n",
       "Date                                                         \n",
       "2020-05-13  23.592362  18.768069    100.291000  2820.000000  \n",
       "2020-05-14  40.929769  26.836762    100.507004  2852.500000  \n",
       "2020-05-15  56.470298  40.330810    100.433998  2863.699951  \n",
       "2020-05-16  74.794339  57.398135    100.433998  2863.699951  \n",
       "2020-05-17  80.809923  70.691520    100.433998  2863.699951  \n",
       "...               ...        ...           ...          ...  \n",
       "2022-05-22  28.435353  25.943267    103.694000  4123.339844  \n",
       "2022-05-23  29.044400  27.101726    103.694000  4123.339844  \n",
       "2022-05-24  31.765465  29.748406    103.694000  4123.339844  \n",
       "2022-05-25  17.811823  26.207229    103.694000  4123.339844  \n",
       "2022-05-26  15.799027  21.792105    103.694000  4123.339844  \n",
       "\n",
       "[744 rows x 22 columns]"
      ]
     },
     "execution_count": 18,
     "metadata": {},
     "output_type": "execute_result"
    }
   ],
   "source": [
    "import dash\n",
    "from dash import dcc, dash_table\n",
    "from dash import html\n",
    "from dash.dependencies import Input, Output\n",
    "import plotly.graph_objects as go\n",
    "import pandas as pd\n",
    "import numpy as np\n",
    "import plotly.express as px\n",
    "import dash_bootstrap_components as dbc\n",
    "import yfinance as yf\n",
    "from datetime import datetime, timedelta\n",
    "import talib as tb\n",
    "\n",
    "df_coin = yf.download('SOL-USD',\n",
    "                      end=datetime.today() - timedelta(days=1), \n",
    "                      progress=False,\n",
    "    )\n",
    "def df_converter(df): \n",
    "    df_sp500 = yf.download('^GSPC', \n",
    "                      start='2017-11-09', \n",
    "                      end='2022-05-08', \n",
    "                      progress=False)\n",
    "    df_dollar = yf.download('DX=F', \n",
    "                      start='2017-11-09', \n",
    "                      end='2022-05-08', \n",
    "                      progress=False)\n",
    "    # clearing dollar and sp500 df\n",
    "    df_dollar.drop(['Open', 'High', 'Low', 'Adj Close', 'Volume'], axis=1, inplace=True)\n",
    "    df_dollar.rename(columns={\"Close\": \"dollar_close\"}, inplace=True)\n",
    "    df_sp500.drop(['Open', 'High', 'Low', 'Adj Close', 'Volume'], axis=1, inplace=True)\n",
    "    df_sp500.rename(columns={\"Close\": \"sp500_close\"}, inplace=True)\n",
    "    # clearing general df\n",
    "    #df_eth.drop('Unnamed: 0', axis=1, inplace=True)\n",
    "    #df.drop('adj_close', axis=1, inplace=True)\n",
    "    df.index = df.index.astype('datetime64[ns]')\n",
    "    # MA df\n",
    "    df_ma = df['Close'].to_frame()\n",
    "    df_ma['SMA30'] = df_ma['Close'].rolling(15).mean()\n",
    "    df_ma['CMA30'] = df_ma['Close'].expanding().mean()\n",
    "    df_ma['EMA30'] = tb.EMA(df_ma['Close'], timeperiod=15)\n",
    "    df_ma.dropna(inplace=True)\n",
    "    # Stoch df\n",
    "    slowk, slowd = tb.STOCH(df[\"High\"], df[\"Low\"], df[\"Close\"], fastk_period=5, slowk_period=3, slowk_matype=0, slowd_period=3, slowd_matype=0)\n",
    "    df_stoch = pd.DataFrame(index=df.index,\n",
    "                                data={\"slowk\": slowk,\n",
    "                                    \"slowd\": slowd})\n",
    "    df_stoch.dropna(inplace=True)\n",
    "    # for later use in the concat\n",
    "    stoch_c = ['slowk', 'slowd']\n",
    "    # MACD df \n",
    "    macd, macdsignal, macdhist = tb.MACD(df.Close, fastperiod=12, slowperiod=26, signalperiod=9)\n",
    "    df_macd = pd.DataFrame(index=df.index,\n",
    "                            data={\"macd\": macd,\n",
    "                                  \"macdsignal\": macdsignal,\n",
    "                                  \"macdhist\": macdhist})\n",
    "    df_macd.dropna(inplace=True)\n",
    "    # for later use in the concat\n",
    "    macd_c = ['macd', 'macdsignal', 'macdhist']\n",
    "    # bb df\n",
    "    upper, middle, lower = tb.BBANDS(df[\"Close\"], timeperiod=15)\n",
    "    df_bands = pd.DataFrame(index=df.index,\n",
    "                                data={\"bb_low\": lower,\n",
    "                                    \"bb_ma\": middle,\n",
    "                                    \"bb_high\": upper})\n",
    "    df_bands.dropna(inplace=True)\n",
    "    # for later use in the concat\n",
    "    bands_c = ['bb_low', 'bb_ma', 'bb_high']\n",
    "    # rsi df\n",
    "    rsi = tb.RSI(df['Close'], timeperiod=15)\n",
    "    df_rsi = pd.DataFrame(index=df.index,\n",
    "                            data={\"close\": df['Close'],\n",
    "                                  \"rsi\": rsi})\n",
    "\n",
    "    df_rsi.dropna(inplace=True)\n",
    "    #stdev df\n",
    "    stdev = tb.STDDEV(df['Close'], timeperiod=15, nbdev=1)\n",
    "    df_stdev = pd.DataFrame(index=df.index,\n",
    "                            data={\"close\": df['Close'],\n",
    "                                  \"stdev\": stdev})\n",
    "    df_stdev.dropna(inplace=True)\n",
    "    # adx df\n",
    "    adx = tb.ADX(df['High'], df['Low'], df['Close'], timeperiod=15)\n",
    "    df_adx = pd.DataFrame(index=df.index,\n",
    "                                data={\"close\": df['Close'],\n",
    "                                    \"adx\": adx})\n",
    "\n",
    "    df_adx.dropna(inplace=True)\n",
    "\n",
    "    # concat \n",
    "    result =pd.concat([df, df_ma[['SMA30','CMA30','EMA30']], df_adx['adx'], df_bands[bands_c], df_macd[macd_c], df_rsi['rsi'], df_stdev['stdev'], df_stoch[stoch_c], df_dollar['dollar_close'], df_sp500['sp500_close']], axis=1)\n",
    "    result.fillna(method='ffill', inplace=True)\n",
    "    result.dropna(inplace=True)\n",
    "\n",
    "    return result \n",
    "\n",
    "df_coin = df_converter(df_coin)\n",
    "df_coin"
   ]
  },
  {
   "cell_type": "code",
   "execution_count": 20,
   "metadata": {},
   "outputs": [
    {
     "data": {
      "application/vnd.plotly.v1+json": {
       "config": {
        "plotlyServerURL": "https://plot.ly"
       },
       "data": [
        {
         "line": {
          "color": "black"
         },
         "mode": "lines",
         "name": "Actual Values",
         "type": "scatter",
         "x": [
          "2021-01-12T00:00:00",
          "2021-01-13T00:00:00",
          "2021-01-14T00:00:00",
          "2021-01-15T00:00:00",
          "2021-01-16T00:00:00",
          "2021-01-17T00:00:00",
          "2021-01-18T00:00:00",
          "2021-01-19T00:00:00",
          "2021-01-20T00:00:00",
          "2021-01-21T00:00:00",
          "2021-01-22T00:00:00",
          "2021-01-23T00:00:00",
          "2021-01-24T00:00:00",
          "2021-01-25T00:00:00",
          "2021-01-26T00:00:00",
          "2021-01-27T00:00:00",
          "2021-01-28T00:00:00",
          "2021-01-29T00:00:00",
          "2021-01-30T00:00:00",
          "2021-01-31T00:00:00",
          "2021-02-01T00:00:00",
          "2021-02-02T00:00:00",
          "2021-02-03T00:00:00",
          "2021-02-04T00:00:00",
          "2021-02-05T00:00:00",
          "2021-02-06T00:00:00",
          "2021-02-07T00:00:00",
          "2021-02-08T00:00:00",
          "2021-02-09T00:00:00",
          "2021-02-10T00:00:00",
          "2021-02-11T00:00:00",
          "2021-02-12T00:00:00",
          "2021-02-13T00:00:00",
          "2021-02-14T00:00:00",
          "2021-02-15T00:00:00",
          "2021-02-16T00:00:00",
          "2021-02-17T00:00:00",
          "2021-02-18T00:00:00",
          "2021-02-19T00:00:00",
          "2021-02-20T00:00:00",
          "2021-02-21T00:00:00",
          "2021-02-22T00:00:00",
          "2021-02-23T00:00:00",
          "2021-02-24T00:00:00",
          "2021-02-25T00:00:00",
          "2021-02-26T00:00:00",
          "2021-02-27T00:00:00",
          "2021-02-28T00:00:00",
          "2021-03-01T00:00:00",
          "2021-03-02T00:00:00",
          "2021-03-03T00:00:00",
          "2021-03-04T00:00:00",
          "2021-03-05T00:00:00",
          "2021-03-06T00:00:00",
          "2021-03-07T00:00:00",
          "2021-03-08T00:00:00",
          "2021-03-09T00:00:00",
          "2021-03-10T00:00:00",
          "2021-03-11T00:00:00",
          "2021-03-12T00:00:00",
          "2021-03-13T00:00:00",
          "2021-03-14T00:00:00",
          "2021-03-15T00:00:00",
          "2021-03-16T00:00:00",
          "2021-03-17T00:00:00",
          "2021-03-18T00:00:00",
          "2021-03-19T00:00:00",
          "2021-03-20T00:00:00",
          "2021-03-21T00:00:00",
          "2021-03-22T00:00:00",
          "2021-03-23T00:00:00",
          "2021-03-24T00:00:00",
          "2021-03-25T00:00:00",
          "2021-03-26T00:00:00",
          "2021-03-27T00:00:00",
          "2021-03-28T00:00:00",
          "2021-03-29T00:00:00",
          "2021-03-30T00:00:00",
          "2021-03-31T00:00:00",
          "2021-04-01T00:00:00",
          "2021-04-02T00:00:00",
          "2021-04-03T00:00:00",
          "2021-04-04T00:00:00",
          "2021-04-05T00:00:00",
          "2021-04-06T00:00:00",
          "2021-04-07T00:00:00",
          "2021-04-08T00:00:00",
          "2021-04-09T00:00:00",
          "2021-04-10T00:00:00",
          "2021-04-11T00:00:00",
          "2021-04-12T00:00:00",
          "2021-04-13T00:00:00",
          "2021-04-14T00:00:00",
          "2021-04-15T00:00:00",
          "2021-04-16T00:00:00",
          "2021-04-17T00:00:00",
          "2021-04-18T00:00:00",
          "2021-04-19T00:00:00",
          "2021-04-20T00:00:00",
          "2021-04-21T00:00:00",
          "2021-04-22T00:00:00",
          "2021-04-23T00:00:00",
          "2021-04-24T00:00:00",
          "2021-04-25T00:00:00",
          "2021-04-26T00:00:00",
          "2021-04-27T00:00:00",
          "2021-04-28T00:00:00",
          "2021-04-29T00:00:00",
          "2021-04-30T00:00:00",
          "2021-05-01T00:00:00",
          "2021-05-02T00:00:00",
          "2021-05-03T00:00:00",
          "2021-05-04T00:00:00",
          "2021-05-05T00:00:00",
          "2021-05-06T00:00:00",
          "2021-05-07T00:00:00",
          "2021-05-08T00:00:00",
          "2021-05-09T00:00:00",
          "2021-05-10T00:00:00",
          "2021-05-11T00:00:00",
          "2021-05-12T00:00:00",
          "2021-05-13T00:00:00",
          "2021-05-14T00:00:00",
          "2021-05-15T00:00:00",
          "2021-05-16T00:00:00",
          "2021-05-17T00:00:00",
          "2021-05-18T00:00:00",
          "2021-05-19T00:00:00",
          "2021-05-20T00:00:00",
          "2021-05-21T00:00:00",
          "2021-05-22T00:00:00",
          "2021-05-23T00:00:00",
          "2021-05-24T00:00:00",
          "2021-05-25T00:00:00",
          "2021-05-26T00:00:00",
          "2021-05-27T00:00:00",
          "2021-05-28T00:00:00",
          "2021-05-29T00:00:00",
          "2021-05-30T00:00:00",
          "2021-05-31T00:00:00",
          "2021-06-01T00:00:00",
          "2021-06-02T00:00:00",
          "2021-06-03T00:00:00",
          "2021-06-04T00:00:00",
          "2021-06-05T00:00:00",
          "2021-06-06T00:00:00",
          "2021-06-07T00:00:00",
          "2021-06-08T00:00:00",
          "2021-06-09T00:00:00",
          "2021-06-10T00:00:00",
          "2021-06-11T00:00:00",
          "2021-06-12T00:00:00",
          "2021-06-13T00:00:00",
          "2021-06-14T00:00:00",
          "2021-06-15T00:00:00",
          "2021-06-16T00:00:00",
          "2021-06-17T00:00:00",
          "2021-06-18T00:00:00",
          "2021-06-19T00:00:00",
          "2021-06-20T00:00:00",
          "2021-06-21T00:00:00",
          "2021-06-22T00:00:00",
          "2021-06-23T00:00:00",
          "2021-06-24T00:00:00",
          "2021-06-25T00:00:00",
          "2021-06-26T00:00:00",
          "2021-06-27T00:00:00",
          "2021-06-28T00:00:00",
          "2021-06-29T00:00:00",
          "2021-06-30T00:00:00",
          "2021-07-01T00:00:00",
          "2021-07-02T00:00:00",
          "2021-07-03T00:00:00",
          "2021-07-04T00:00:00",
          "2021-07-05T00:00:00",
          "2021-07-06T00:00:00",
          "2021-07-07T00:00:00",
          "2021-07-08T00:00:00",
          "2021-07-09T00:00:00",
          "2021-07-10T00:00:00",
          "2021-07-11T00:00:00",
          "2021-07-12T00:00:00",
          "2021-07-13T00:00:00",
          "2021-07-14T00:00:00",
          "2021-07-15T00:00:00",
          "2021-07-16T00:00:00",
          "2021-07-17T00:00:00",
          "2021-07-18T00:00:00",
          "2021-07-19T00:00:00",
          "2021-07-20T00:00:00",
          "2021-07-21T00:00:00",
          "2021-07-22T00:00:00",
          "2021-07-23T00:00:00",
          "2021-07-24T00:00:00",
          "2021-07-25T00:00:00",
          "2021-07-26T00:00:00",
          "2021-07-27T00:00:00",
          "2021-07-28T00:00:00",
          "2021-07-29T00:00:00",
          "2021-07-30T00:00:00",
          "2021-07-31T00:00:00",
          "2021-08-01T00:00:00",
          "2021-08-02T00:00:00",
          "2021-08-03T00:00:00",
          "2021-08-04T00:00:00",
          "2021-08-05T00:00:00",
          "2021-08-06T00:00:00",
          "2021-08-07T00:00:00",
          "2021-08-08T00:00:00",
          "2021-08-09T00:00:00",
          "2021-08-10T00:00:00",
          "2021-08-11T00:00:00",
          "2021-08-12T00:00:00",
          "2021-08-13T00:00:00",
          "2021-08-14T00:00:00",
          "2021-08-15T00:00:00",
          "2021-08-16T00:00:00",
          "2021-08-17T00:00:00",
          "2021-08-18T00:00:00",
          "2021-08-19T00:00:00",
          "2021-08-20T00:00:00",
          "2021-08-21T00:00:00",
          "2021-08-22T00:00:00",
          "2021-08-23T00:00:00",
          "2021-08-24T00:00:00",
          "2021-08-25T00:00:00",
          "2021-08-26T00:00:00",
          "2021-08-27T00:00:00",
          "2021-08-28T00:00:00",
          "2021-08-29T00:00:00",
          "2021-08-30T00:00:00",
          "2021-08-31T00:00:00",
          "2021-09-01T00:00:00",
          "2021-09-02T00:00:00",
          "2021-09-03T00:00:00",
          "2021-09-04T00:00:00",
          "2021-09-05T00:00:00",
          "2021-09-06T00:00:00",
          "2021-09-07T00:00:00",
          "2021-09-08T00:00:00",
          "2021-09-09T00:00:00",
          "2021-09-10T00:00:00",
          "2021-09-11T00:00:00",
          "2021-09-12T00:00:00",
          "2021-09-13T00:00:00",
          "2021-09-14T00:00:00",
          "2021-09-15T00:00:00",
          "2021-09-16T00:00:00",
          "2021-09-17T00:00:00",
          "2021-09-18T00:00:00",
          "2021-09-19T00:00:00",
          "2021-09-20T00:00:00",
          "2021-09-21T00:00:00",
          "2021-09-22T00:00:00",
          "2021-09-23T00:00:00",
          "2021-09-24T00:00:00",
          "2021-09-25T00:00:00",
          "2021-09-26T00:00:00",
          "2021-09-27T00:00:00",
          "2021-09-28T00:00:00",
          "2021-09-29T00:00:00",
          "2021-09-30T00:00:00",
          "2021-10-01T00:00:00",
          "2021-10-02T00:00:00",
          "2021-10-03T00:00:00",
          "2021-10-04T00:00:00",
          "2021-10-05T00:00:00",
          "2021-10-06T00:00:00",
          "2021-10-07T00:00:00",
          "2021-10-08T00:00:00",
          "2021-10-09T00:00:00",
          "2021-10-10T00:00:00",
          "2021-10-11T00:00:00",
          "2021-10-12T00:00:00",
          "2021-10-13T00:00:00",
          "2021-10-14T00:00:00",
          "2021-10-15T00:00:00",
          "2021-10-16T00:00:00",
          "2021-10-17T00:00:00",
          "2021-10-18T00:00:00",
          "2021-10-19T00:00:00",
          "2021-10-20T00:00:00",
          "2021-10-21T00:00:00",
          "2021-10-22T00:00:00",
          "2021-10-23T00:00:00",
          "2021-10-24T00:00:00",
          "2021-10-25T00:00:00",
          "2021-10-26T00:00:00",
          "2021-10-27T00:00:00",
          "2021-10-28T00:00:00",
          "2021-10-29T00:00:00",
          "2021-10-30T00:00:00",
          "2021-10-31T00:00:00",
          "2021-11-01T00:00:00",
          "2021-11-02T00:00:00",
          "2021-11-03T00:00:00",
          "2021-11-04T00:00:00",
          "2021-11-05T00:00:00",
          "2021-11-06T00:00:00",
          "2021-11-07T00:00:00",
          "2021-11-08T00:00:00",
          "2021-11-09T00:00:00",
          "2021-11-10T00:00:00",
          "2021-11-11T00:00:00",
          "2021-11-12T00:00:00",
          "2021-11-13T00:00:00",
          "2021-11-14T00:00:00",
          "2021-11-15T00:00:00",
          "2021-11-16T00:00:00",
          "2021-11-17T00:00:00",
          "2021-11-18T00:00:00",
          "2021-11-19T00:00:00",
          "2021-11-20T00:00:00",
          "2021-11-21T00:00:00",
          "2021-11-22T00:00:00",
          "2021-11-23T00:00:00",
          "2021-11-24T00:00:00",
          "2021-11-25T00:00:00",
          "2021-11-26T00:00:00",
          "2021-11-27T00:00:00",
          "2021-11-28T00:00:00",
          "2021-11-29T00:00:00",
          "2021-11-30T00:00:00",
          "2021-12-01T00:00:00",
          "2021-12-02T00:00:00",
          "2021-12-03T00:00:00",
          "2021-12-04T00:00:00",
          "2021-12-05T00:00:00",
          "2021-12-06T00:00:00",
          "2021-12-07T00:00:00",
          "2021-12-08T00:00:00",
          "2021-12-09T00:00:00",
          "2021-12-10T00:00:00",
          "2021-12-11T00:00:00",
          "2021-12-12T00:00:00",
          "2021-12-13T00:00:00",
          "2021-12-14T00:00:00",
          "2021-12-15T00:00:00",
          "2021-12-16T00:00:00",
          "2021-12-17T00:00:00",
          "2021-12-18T00:00:00",
          "2021-12-19T00:00:00",
          "2021-12-20T00:00:00",
          "2021-12-21T00:00:00",
          "2021-12-22T00:00:00",
          "2021-12-23T00:00:00",
          "2021-12-24T00:00:00",
          "2021-12-25T00:00:00",
          "2021-12-26T00:00:00",
          "2021-12-27T00:00:00",
          "2021-12-28T00:00:00",
          "2021-12-29T00:00:00",
          "2021-12-30T00:00:00",
          "2021-12-31T00:00:00",
          "2022-01-01T00:00:00",
          "2022-01-02T00:00:00",
          "2022-01-03T00:00:00",
          "2022-01-04T00:00:00",
          "2022-01-05T00:00:00",
          "2022-01-06T00:00:00",
          "2022-01-07T00:00:00",
          "2022-01-08T00:00:00",
          "2022-01-09T00:00:00",
          "2022-01-10T00:00:00",
          "2022-01-11T00:00:00",
          "2022-01-12T00:00:00",
          "2022-01-13T00:00:00",
          "2022-01-14T00:00:00",
          "2022-01-15T00:00:00",
          "2022-01-16T00:00:00",
          "2022-01-17T00:00:00",
          "2022-01-18T00:00:00",
          "2022-01-19T00:00:00",
          "2022-01-20T00:00:00",
          "2022-01-21T00:00:00",
          "2022-01-22T00:00:00",
          "2022-01-23T00:00:00",
          "2022-01-24T00:00:00",
          "2022-01-25T00:00:00",
          "2022-01-26T00:00:00",
          "2022-01-27T00:00:00",
          "2022-01-28T00:00:00",
          "2022-01-29T00:00:00",
          "2022-01-30T00:00:00",
          "2022-01-31T00:00:00",
          "2022-02-01T00:00:00",
          "2022-02-02T00:00:00",
          "2022-02-03T00:00:00",
          "2022-02-04T00:00:00",
          "2022-02-05T00:00:00",
          "2022-02-06T00:00:00",
          "2022-02-07T00:00:00",
          "2022-02-08T00:00:00",
          "2022-02-09T00:00:00",
          "2022-02-10T00:00:00",
          "2022-02-11T00:00:00",
          "2022-02-12T00:00:00",
          "2022-02-13T00:00:00",
          "2022-02-14T00:00:00",
          "2022-02-15T00:00:00",
          "2022-02-16T00:00:00",
          "2022-02-17T00:00:00",
          "2022-02-18T00:00:00",
          "2022-02-19T00:00:00",
          "2022-02-20T00:00:00",
          "2022-02-21T00:00:00",
          "2022-02-22T00:00:00",
          "2022-02-23T00:00:00",
          "2022-02-24T00:00:00",
          "2022-02-25T00:00:00",
          "2022-02-26T00:00:00",
          "2022-02-27T00:00:00",
          "2022-02-28T00:00:00",
          "2022-03-01T00:00:00",
          "2022-03-02T00:00:00",
          "2022-03-03T00:00:00",
          "2022-03-04T00:00:00",
          "2022-03-05T00:00:00",
          "2022-03-06T00:00:00",
          "2022-03-07T00:00:00",
          "2022-03-08T00:00:00",
          "2022-03-09T00:00:00",
          "2022-03-10T00:00:00",
          "2022-03-11T00:00:00",
          "2022-03-12T00:00:00",
          "2022-03-13T00:00:00",
          "2022-03-14T00:00:00",
          "2022-03-15T00:00:00",
          "2022-03-16T00:00:00",
          "2022-03-17T00:00:00",
          "2022-03-18T00:00:00",
          "2022-03-19T00:00:00",
          "2022-03-20T00:00:00",
          "2022-03-21T00:00:00",
          "2022-03-22T00:00:00",
          "2022-03-23T00:00:00",
          "2022-03-24T00:00:00",
          "2022-03-25T00:00:00",
          "2022-03-26T00:00:00",
          "2022-03-27T00:00:00",
          "2022-03-28T00:00:00",
          "2022-03-29T00:00:00",
          "2022-03-30T00:00:00",
          "2022-03-31T00:00:00",
          "2022-04-01T00:00:00",
          "2022-04-02T00:00:00",
          "2022-04-03T00:00:00",
          "2022-04-04T00:00:00",
          "2022-04-05T00:00:00",
          "2022-04-06T00:00:00",
          "2022-04-07T00:00:00",
          "2022-04-08T00:00:00",
          "2022-04-09T00:00:00",
          "2022-04-10T00:00:00",
          "2022-04-11T00:00:00",
          "2022-04-12T00:00:00",
          "2022-04-13T00:00:00",
          "2022-04-14T00:00:00",
          "2022-04-15T00:00:00",
          "2022-04-16T00:00:00",
          "2022-04-17T00:00:00",
          "2022-04-18T00:00:00",
          "2022-04-19T00:00:00",
          "2022-04-20T00:00:00",
          "2022-04-21T00:00:00",
          "2022-04-22T00:00:00",
          "2022-04-23T00:00:00",
          "2022-04-24T00:00:00",
          "2022-04-25T00:00:00",
          "2022-04-26T00:00:00",
          "2022-04-27T00:00:00",
          "2022-04-28T00:00:00",
          "2022-04-29T00:00:00",
          "2022-04-30T00:00:00",
          "2022-05-01T00:00:00",
          "2022-05-02T00:00:00",
          "2022-05-03T00:00:00",
          "2022-05-04T00:00:00",
          "2022-05-05T00:00:00",
          "2022-05-06T00:00:00",
          "2022-05-07T00:00:00",
          "2022-05-08T00:00:00",
          "2022-05-09T00:00:00",
          "2022-05-10T00:00:00",
          "2022-05-11T00:00:00",
          "2022-05-12T00:00:00",
          "2022-05-13T00:00:00",
          "2022-05-14T00:00:00",
          "2022-05-15T00:00:00",
          "2022-05-16T00:00:00",
          "2022-05-17T00:00:00",
          "2022-05-18T00:00:00",
          "2022-05-19T00:00:00",
          "2022-05-20T00:00:00",
          "2022-05-21T00:00:00",
          "2022-05-22T00:00:00",
          "2022-05-23T00:00:00",
          "2022-05-24T00:00:00",
          "2022-05-25T00:00:00",
          "2022-05-26T00:00:00"
         ],
         "y": [
          3.6133980751037598,
          3.513782024383545,
          3.2781639099121094,
          3.2501609325408936,
          3.4470551013946533,
          3.81813907623291,
          3.7955150604248047,
          3.6418659687042236,
          3.7235779762268066,
          2.9905359745025635,
          3.346229076385498,
          3.5041120052337646,
          3.634411096572876,
          3.6999809741973877,
          4.04734992980957,
          3.690587043762207,
          3.8220720291137695,
          3.8346760272979736,
          4.224276065826416,
          4.264143943786621,
          4.611601829528809,
          5.267508029937744,
          5.71599006652832,
          6.426064968109131,
          6.681719779968262,
          6.110806941986084,
          6.700462818145752,
          7.8832502365112305,
          7.816792964935303,
          9.072214126586914,
          9.215352058410645,
          9.2470121383667,
          8.732455253601074,
          8.738896369934082,
          8.861739158630371,
          8.297866821289062,
          8.222577095031738,
          8.980451583862305,
          11.465653419494629,
          10.002663612365723,
          11.0855131149292,
          14.454785346984863,
          15.2015380859375,
          17.30270767211914,
          13.816014289855957,
          13.58794116973877,
          13.201168060302734,
          13.08924674987793,
          14.955588340759277,
          13.958921432495117,
          14.115591049194336,
          13.097983360290527,
          12.610443115234375,
          13.036458015441895,
          13.877732276916504,
          13.602188110351562,
          14.84631061553955,
          14.231083869934082,
          15.992279052734375,
          14.552142143249512,
          15.308802604675293,
          14.50826644897461,
          14.186661720275879,
          13.622773170471191,
          14.220203399658203,
          14.230025291442871,
          14.204795837402344,
          14.211980819702148,
          14.332205772399902,
          14.919293403625488,
          14.20483112335205,
          13.661297798156738,
          13.02508544921875,
          14.779420852661133,
          16.50832176208496,
          18.016233444213867,
          18.854808807373047,
          19.233924865722656,
          19.465229034423828,
          19.084901809692383,
          19.810222625732422,
          22.552276611328125,
          24.061323165893555,
          22.984283447265625,
          24.95714569091797,
          26.47808074951172,
          27.033987045288086,
          27.778274536132812,
          26.84140396118164,
          27.9318904876709,
          28.512123107910156,
          27.4355525970459,
          26.47511100769043,
          27.818313598632812,
          25.39736557006836,
          25.09987449645996,
          32.30291748046875,
          31.67589569091797,
          31.77005386352539,
          32.51304244995117,
          38.8797607421875,
          36.97842025756836,
          40.7373161315918,
          47.36762619018555,
          43.97651672363281,
          43.2390022277832,
          44.825984954833984,
          42.460540771484375,
          42.95600128173828,
          49.50802230834961,
          46.890987396240234,
          45.93368911743164,
          42.729557037353516,
          44.92357635498047,
          43.4556770324707,
          43.1550178527832,
          45.56153106689453,
          44.330196380615234,
          42.90963363647461,
          44.57746887207031,
          42.45730972290039,
          40.99785232543945,
          42.717864990234375,
          43.461307525634766,
          47.200828552246094,
          46.86320495605469,
          55.91096115112305,
          35.107181549072266,
          44.74274826049805,
          38.81285095214844,
          31.315582275390625,
          24.68874740600586,
          31.283571243286133,
          29.99707794189453,
          35.539817810058594,
          33.584590911865234,
          29.039276123046875,
          27.376420974731445,
          28.602659225463867,
          32.816246032714844,
          30.985260009765625,
          33.95631790161133,
          39.47090530395508,
          37.415069580078125,
          39.58539962768555,
          42.30837631225586,
          38.262332916259766,
          41.51781463623047,
          42.031776428222656,
          41.09867477416992,
          36.046085357666016,
          36.441688537597656,
          38.77043533325195,
          38.71305465698242,
          41.153648376464844,
          39.703617095947266,
          39.264591217041016,
          36.64879608154297,
          35.35343551635742,
          35.32201385498047,
          26.657400131225586,
          26.7718563079834,
          30.048887252807617,
          31.181034088134766,
          28.698862075805664,
          29.712854385375977,
          31.929391860961914,
          32.92778015136719,
          33.86680221557617,
          35.55640411376953,
          33.40403366088867,
          34.02048110961914,
          34.478816986083984,
          34.31060028076172,
          32.984588623046875,
          34.26913833618164,
          36.59136962890625,
          33.20372772216797,
          33.2646484375,
          31.788644790649414,
          32.17784118652344,
          30.848087310791016,
          29.12118911743164,
          31.2810001373291,
          28.45210075378418,
          26.37000846862793,
          26.721668243408203,
          26.751909255981445,
          24.44757652282715,
          23.48955535888672,
          26.623079299926758,
          27.70208168029785,
          28.513879776000977,
          28.702619552612305,
          28.168773651123047,
          28.306642532348633,
          28.065326690673828,
          27.815410614013672,
          31.281137466430664,
          32.393943786621094,
          36.82731246948242,
          34.25436019897461,
          33.22241973876953,
          33.99644088745117,
          35.76362609863281,
          37.35513687133789,
          39.446102142333984,
          39.403472900390625,
          37.673824310302734,
          38.767784118652344,
          40.63979721069336,
          41.74411392211914,
          41.099361419677734,
          44.894500732421875,
          44.112850189208984,
          53.74515914916992,
          62.432464599609375,
          64.21070861816406,
          72.5433120727539,
          72.75760650634766,
          78.72461700439453,
          73.75621032714844,
          72.80391693115234,
          75.70803833007812,
          70.67090606689453,
          71.95156860351562,
          75.31620788574219,
          88.08698272705078,
          96.70317077636719,
          94.46967315673828,
          110.54480743408203,
          108.48377227783203,
          111.03300476074219,
          128.10238647460938,
          146.5830535888672,
          139.11306762695312,
          142.0708770751953,
          164.38092041015625,
          173.14892578125,
          191.04139709472656,
          188.19580078125,
          179.865234375,
          178.8678741455078,
          174.53762817382812,
          169.26954650878906,
          158.09481811523438,
          159.1173858642578,
          152.47406005859375,
          147.5930633544922,
          169.18421936035156,
          152.51669311523438,
          132.13446044921875,
          123.95039367675781,
          147.92425537109375,
          149.75357055664062,
          139.39564514160156,
          136.17892456054688,
          135.69937133789062,
          136.72842407226562,
          131.53721618652344,
          135.35145568847656,
          141.0690460205078,
          161.682373046875,
          169.093017578125,
          172.5891571044922,
          166.73191833496094,
          164.11582946777344,
          154.1077423095703,
          154.28118896484375,
          158.94920349121094,
          156.82583618164062,
          148.0487060546875,
          144.85813903808594,
          152.73712158203125,
          148.17604064941406,
          149.75680541992188,
          162.59620666503906,
          157.538818359375,
          159.74380493164062,
          157.2312774658203,
          156.01702880859375,
          175.94686889648438,
          190.3184356689453,
          196.43153381347656,
          197.703857421875,
          202.3619842529297,
          210.1042938232422,
          199.8072509765625,
          183.77459716796875,
          194.86398315429688,
          200.18275451660156,
          195.4160614013672,
          202.4210205078125,
          203.5450897216797,
          220.23959350585938,
          242.89881896972656,
          247.3877716064453,
          236.47433471679688,
          258.934326171875,
          249.823486328125,
          248.46717834472656,
          239.213134765625,
          233.77952575683594,
          234.24075317382812,
          228.50209045410156,
          241.8250274658203,
          238.42552185058594,
          237.55360412597656,
          219.23902893066406,
          218.71524047851562,
          195.48741149902344,
          215.28001403808594,
          218.01527404785156,
          231.28262329101562,
          215.73727416992188,
          221.83689880371094,
          214.92153930664062,
          206.25299072265625,
          191.51174926757812,
          193.10215759277344,
          200.67665100097656,
          204.31936645507812,
          208.67098999023438,
          229.7992401123047,
          233.9930419921875,
          211.22439575195312,
          201.1248321533203,
          196.1682586669922,
          194.19921875,
          190.59690856933594,
          194.6217041015625,
          181.17808532714844,
          167.954833984375,
          171.94949340820312,
          173.43167114257812,
          155.2130584716797,
          153.34144592285156,
          178.34078979492188,
          176.9546661376953,
          175.5032958984375,
          182.8351287841797,
          180.09805297851562,
          173.67178344726562,
          180.09254455566406,
          178.5971221923828,
          190.03631591796875,
          190.273193359375,
          193.1209259033203,
          198.000732421875,
          195.42950439453125,
          177.42562866210938,
          170.65756225585938,
          172.75119018554688,
          170.299072265625,
          178.5179443359375,
          176.38284301757812,
          170.29774475097656,
          167.93890380859375,
          155.0997314453125,
          150.4313507080078,
          136.40281677246094,
          142.51345825195312,
          140.83900451660156,
          135.95494079589844,
          140.18385314941406,
          151.70310974121094,
          146.01004028320312,
          146.15902709960938,
          147.80117797851562,
          147.8565216064453,
          139.92601013183594,
          141.58718872070312,
          135.79238891601562,
          127.20528411865234,
          111.96605682373047,
          94.1783676147461,
          99.5782241821289,
          91.65016174316406,
          94.72035217285156,
          92.23804473876953,
          89.63249206542969,
          91.31289672851562,
          96.2234878540039,
          93.29767608642578,
          99.73883819580078,
          109.9789810180664,
          101.83760070800781,
          101.45903778076172,
          112.17424774169922,
          113.89430236816406,
          115.29975891113281,
          117.35514831542969,
          113.5954818725586,
          114.01937866210938,
          106.20280456542969,
          96.38188171386719,
          95.91820526123047,
          93.24410247802734,
          96.43327331542969,
          104.87330627441406,
          101.93289947509766,
          93.4104232788086,
          90.06546020507812,
          91.49665069580078,
          90.90141296386719,
          83.12316131591797,
          86.46538543701172,
          84.90278625488281,
          89.19474792480469,
          92.59882354736328,
          90.14156341552734,
          85.51905059814453,
          99.52034759521484,
          98.65355682373047,
          100.6496353149414,
          95.53919982910156,
          88.24597930908203,
          89.64784240722656,
          84.54218292236328,
          82.13006591796875,
          82.2547607421875,
          88.20206451416016,
          82.9390869140625,
          80.7449951171875,
          81.55381774902344,
          78.93607330322266,
          81.17333984375,
          82.95508575439453,
          87.90362548828125,
          87.87684631347656,
          89.82203674316406,
          92.41815185546875,
          88.61486053466797,
          88.7572021484375,
          90.51296997070312,
          95.1026840209961,
          102.22369384765625,
          98.6581039428711,
          101.7641830444336,
          107.08422088623047,
          106.46525573730469,
          111.71031188964844,
          120.6994857788086,
          122.66146087646484,
          134.43093872070312,
          132.19886779785156,
          136.77532958984375,
          132.41262817382812,
          126.86223602294922,
          112.88338470458984,
          118.79651641845703,
          109.8008804321289,
          112.97279357910156,
          111.74243927001953,
          99.33910369873047,
          103.30638885498047,
          105.00194549560547,
          100.70780181884766,
          101.30977630615234,
          102.25731658935547,
          100.40969848632812,
          102.15853118896484,
          108.58203125,
          105.49700164794922,
          101.77613830566406,
          100.61205291748047,
          100.74443817138672,
          99.23579406738281,
          101.24763488769531,
          95.78215026855469,
          98.37886810302734,
          98.18572998046875,
          94.01134490966797,
          85.09593200683594,
          89.6715087890625,
          87.58101654052734,
          85.84237670898438,
          92.7708511352539,
          84.59602355957031,
          81.76410675048828,
          78.9834213256836,
          75.22018432617188,
          63.2696533203125,
          66.76615142822266,
          50.21084976196289,
          44.683589935302734,
          48.59355163574219,
          52.4172248840332,
          58.81126022338867,
          53.646461486816406,
          57.12562561035156,
          49.75621032714844,
          52.2139778137207,
          49.538509368896484,
          50.3179817199707,
          52.75518035888672,
          49.05685043334961,
          49.65333557128906,
          47.982425689697266,
          43.4912109375
         ]
        },
        {
         "line": {
          "color": "red"
         },
         "mode": "lines",
         "name": "Predictions",
         "type": "scatter",
         "x": [
          "2022-05-27T00:00:00",
          "2022-05-28T00:00:00",
          "2022-05-29T00:00:00",
          "2022-05-30T00:00:00",
          "2022-05-31T00:00:00",
          "2022-06-01T00:00:00",
          "2022-06-02T00:00:00",
          "2022-06-03T00:00:00",
          "2022-06-04T00:00:00",
          "2022-06-05T00:00:00",
          "2022-06-06T00:00:00",
          "2022-06-07T00:00:00",
          "2022-06-08T00:00:00",
          "2022-06-09T00:00:00",
          "2022-06-10T00:00:00"
         ],
         "y": [
          46.39904933953943,
          49.86195095971681,
          54.079044094020674,
          58.07781045453573,
          56.79003159175917,
          58.86001880802156,
          52.64787765917583,
          54.53912867609076,
          50.04547490060807,
          50.74939850567682,
          56.371223707272094,
          49.917888169412635,
          49.67540125280525,
          48.434763582527324,
          44.14401586526426
         ]
        }
       ],
       "layout": {
        "template": {
         "data": {
          "bar": [
           {
            "error_x": {
             "color": "#2a3f5f"
            },
            "error_y": {
             "color": "#2a3f5f"
            },
            "marker": {
             "line": {
              "color": "#E5ECF6",
              "width": 0.5
             },
             "pattern": {
              "fillmode": "overlay",
              "size": 10,
              "solidity": 0.2
             }
            },
            "type": "bar"
           }
          ],
          "barpolar": [
           {
            "marker": {
             "line": {
              "color": "#E5ECF6",
              "width": 0.5
             },
             "pattern": {
              "fillmode": "overlay",
              "size": 10,
              "solidity": 0.2
             }
            },
            "type": "barpolar"
           }
          ],
          "carpet": [
           {
            "aaxis": {
             "endlinecolor": "#2a3f5f",
             "gridcolor": "white",
             "linecolor": "white",
             "minorgridcolor": "white",
             "startlinecolor": "#2a3f5f"
            },
            "baxis": {
             "endlinecolor": "#2a3f5f",
             "gridcolor": "white",
             "linecolor": "white",
             "minorgridcolor": "white",
             "startlinecolor": "#2a3f5f"
            },
            "type": "carpet"
           }
          ],
          "choropleth": [
           {
            "colorbar": {
             "outlinewidth": 0,
             "ticks": ""
            },
            "type": "choropleth"
           }
          ],
          "contour": [
           {
            "colorbar": {
             "outlinewidth": 0,
             "ticks": ""
            },
            "colorscale": [
             [
              0,
              "#0d0887"
             ],
             [
              0.1111111111111111,
              "#46039f"
             ],
             [
              0.2222222222222222,
              "#7201a8"
             ],
             [
              0.3333333333333333,
              "#9c179e"
             ],
             [
              0.4444444444444444,
              "#bd3786"
             ],
             [
              0.5555555555555556,
              "#d8576b"
             ],
             [
              0.6666666666666666,
              "#ed7953"
             ],
             [
              0.7777777777777778,
              "#fb9f3a"
             ],
             [
              0.8888888888888888,
              "#fdca26"
             ],
             [
              1,
              "#f0f921"
             ]
            ],
            "type": "contour"
           }
          ],
          "contourcarpet": [
           {
            "colorbar": {
             "outlinewidth": 0,
             "ticks": ""
            },
            "type": "contourcarpet"
           }
          ],
          "heatmap": [
           {
            "colorbar": {
             "outlinewidth": 0,
             "ticks": ""
            },
            "colorscale": [
             [
              0,
              "#0d0887"
             ],
             [
              0.1111111111111111,
              "#46039f"
             ],
             [
              0.2222222222222222,
              "#7201a8"
             ],
             [
              0.3333333333333333,
              "#9c179e"
             ],
             [
              0.4444444444444444,
              "#bd3786"
             ],
             [
              0.5555555555555556,
              "#d8576b"
             ],
             [
              0.6666666666666666,
              "#ed7953"
             ],
             [
              0.7777777777777778,
              "#fb9f3a"
             ],
             [
              0.8888888888888888,
              "#fdca26"
             ],
             [
              1,
              "#f0f921"
             ]
            ],
            "type": "heatmap"
           }
          ],
          "heatmapgl": [
           {
            "colorbar": {
             "outlinewidth": 0,
             "ticks": ""
            },
            "colorscale": [
             [
              0,
              "#0d0887"
             ],
             [
              0.1111111111111111,
              "#46039f"
             ],
             [
              0.2222222222222222,
              "#7201a8"
             ],
             [
              0.3333333333333333,
              "#9c179e"
             ],
             [
              0.4444444444444444,
              "#bd3786"
             ],
             [
              0.5555555555555556,
              "#d8576b"
             ],
             [
              0.6666666666666666,
              "#ed7953"
             ],
             [
              0.7777777777777778,
              "#fb9f3a"
             ],
             [
              0.8888888888888888,
              "#fdca26"
             ],
             [
              1,
              "#f0f921"
             ]
            ],
            "type": "heatmapgl"
           }
          ],
          "histogram": [
           {
            "marker": {
             "pattern": {
              "fillmode": "overlay",
              "size": 10,
              "solidity": 0.2
             }
            },
            "type": "histogram"
           }
          ],
          "histogram2d": [
           {
            "colorbar": {
             "outlinewidth": 0,
             "ticks": ""
            },
            "colorscale": [
             [
              0,
              "#0d0887"
             ],
             [
              0.1111111111111111,
              "#46039f"
             ],
             [
              0.2222222222222222,
              "#7201a8"
             ],
             [
              0.3333333333333333,
              "#9c179e"
             ],
             [
              0.4444444444444444,
              "#bd3786"
             ],
             [
              0.5555555555555556,
              "#d8576b"
             ],
             [
              0.6666666666666666,
              "#ed7953"
             ],
             [
              0.7777777777777778,
              "#fb9f3a"
             ],
             [
              0.8888888888888888,
              "#fdca26"
             ],
             [
              1,
              "#f0f921"
             ]
            ],
            "type": "histogram2d"
           }
          ],
          "histogram2dcontour": [
           {
            "colorbar": {
             "outlinewidth": 0,
             "ticks": ""
            },
            "colorscale": [
             [
              0,
              "#0d0887"
             ],
             [
              0.1111111111111111,
              "#46039f"
             ],
             [
              0.2222222222222222,
              "#7201a8"
             ],
             [
              0.3333333333333333,
              "#9c179e"
             ],
             [
              0.4444444444444444,
              "#bd3786"
             ],
             [
              0.5555555555555556,
              "#d8576b"
             ],
             [
              0.6666666666666666,
              "#ed7953"
             ],
             [
              0.7777777777777778,
              "#fb9f3a"
             ],
             [
              0.8888888888888888,
              "#fdca26"
             ],
             [
              1,
              "#f0f921"
             ]
            ],
            "type": "histogram2dcontour"
           }
          ],
          "mesh3d": [
           {
            "colorbar": {
             "outlinewidth": 0,
             "ticks": ""
            },
            "type": "mesh3d"
           }
          ],
          "parcoords": [
           {
            "line": {
             "colorbar": {
              "outlinewidth": 0,
              "ticks": ""
             }
            },
            "type": "parcoords"
           }
          ],
          "pie": [
           {
            "automargin": true,
            "type": "pie"
           }
          ],
          "scatter": [
           {
            "marker": {
             "colorbar": {
              "outlinewidth": 0,
              "ticks": ""
             }
            },
            "type": "scatter"
           }
          ],
          "scatter3d": [
           {
            "line": {
             "colorbar": {
              "outlinewidth": 0,
              "ticks": ""
             }
            },
            "marker": {
             "colorbar": {
              "outlinewidth": 0,
              "ticks": ""
             }
            },
            "type": "scatter3d"
           }
          ],
          "scattercarpet": [
           {
            "marker": {
             "colorbar": {
              "outlinewidth": 0,
              "ticks": ""
             }
            },
            "type": "scattercarpet"
           }
          ],
          "scattergeo": [
           {
            "marker": {
             "colorbar": {
              "outlinewidth": 0,
              "ticks": ""
             }
            },
            "type": "scattergeo"
           }
          ],
          "scattergl": [
           {
            "marker": {
             "colorbar": {
              "outlinewidth": 0,
              "ticks": ""
             }
            },
            "type": "scattergl"
           }
          ],
          "scattermapbox": [
           {
            "marker": {
             "colorbar": {
              "outlinewidth": 0,
              "ticks": ""
             }
            },
            "type": "scattermapbox"
           }
          ],
          "scatterpolar": [
           {
            "marker": {
             "colorbar": {
              "outlinewidth": 0,
              "ticks": ""
             }
            },
            "type": "scatterpolar"
           }
          ],
          "scatterpolargl": [
           {
            "marker": {
             "colorbar": {
              "outlinewidth": 0,
              "ticks": ""
             }
            },
            "type": "scatterpolargl"
           }
          ],
          "scatterternary": [
           {
            "marker": {
             "colorbar": {
              "outlinewidth": 0,
              "ticks": ""
             }
            },
            "type": "scatterternary"
           }
          ],
          "surface": [
           {
            "colorbar": {
             "outlinewidth": 0,
             "ticks": ""
            },
            "colorscale": [
             [
              0,
              "#0d0887"
             ],
             [
              0.1111111111111111,
              "#46039f"
             ],
             [
              0.2222222222222222,
              "#7201a8"
             ],
             [
              0.3333333333333333,
              "#9c179e"
             ],
             [
              0.4444444444444444,
              "#bd3786"
             ],
             [
              0.5555555555555556,
              "#d8576b"
             ],
             [
              0.6666666666666666,
              "#ed7953"
             ],
             [
              0.7777777777777778,
              "#fb9f3a"
             ],
             [
              0.8888888888888888,
              "#fdca26"
             ],
             [
              1,
              "#f0f921"
             ]
            ],
            "type": "surface"
           }
          ],
          "table": [
           {
            "cells": {
             "fill": {
              "color": "#EBF0F8"
             },
             "line": {
              "color": "white"
             }
            },
            "header": {
             "fill": {
              "color": "#C8D4E3"
             },
             "line": {
              "color": "white"
             }
            },
            "type": "table"
           }
          ]
         },
         "layout": {
          "annotationdefaults": {
           "arrowcolor": "#2a3f5f",
           "arrowhead": 0,
           "arrowwidth": 1
          },
          "autotypenumbers": "strict",
          "coloraxis": {
           "colorbar": {
            "outlinewidth": 0,
            "ticks": ""
           }
          },
          "colorscale": {
           "diverging": [
            [
             0,
             "#8e0152"
            ],
            [
             0.1,
             "#c51b7d"
            ],
            [
             0.2,
             "#de77ae"
            ],
            [
             0.3,
             "#f1b6da"
            ],
            [
             0.4,
             "#fde0ef"
            ],
            [
             0.5,
             "#f7f7f7"
            ],
            [
             0.6,
             "#e6f5d0"
            ],
            [
             0.7,
             "#b8e186"
            ],
            [
             0.8,
             "#7fbc41"
            ],
            [
             0.9,
             "#4d9221"
            ],
            [
             1,
             "#276419"
            ]
           ],
           "sequential": [
            [
             0,
             "#0d0887"
            ],
            [
             0.1111111111111111,
             "#46039f"
            ],
            [
             0.2222222222222222,
             "#7201a8"
            ],
            [
             0.3333333333333333,
             "#9c179e"
            ],
            [
             0.4444444444444444,
             "#bd3786"
            ],
            [
             0.5555555555555556,
             "#d8576b"
            ],
            [
             0.6666666666666666,
             "#ed7953"
            ],
            [
             0.7777777777777778,
             "#fb9f3a"
            ],
            [
             0.8888888888888888,
             "#fdca26"
            ],
            [
             1,
             "#f0f921"
            ]
           ],
           "sequentialminus": [
            [
             0,
             "#0d0887"
            ],
            [
             0.1111111111111111,
             "#46039f"
            ],
            [
             0.2222222222222222,
             "#7201a8"
            ],
            [
             0.3333333333333333,
             "#9c179e"
            ],
            [
             0.4444444444444444,
             "#bd3786"
            ],
            [
             0.5555555555555556,
             "#d8576b"
            ],
            [
             0.6666666666666666,
             "#ed7953"
            ],
            [
             0.7777777777777778,
             "#fb9f3a"
            ],
            [
             0.8888888888888888,
             "#fdca26"
            ],
            [
             1,
             "#f0f921"
            ]
           ]
          },
          "colorway": [
           "#636efa",
           "#EF553B",
           "#00cc96",
           "#ab63fa",
           "#FFA15A",
           "#19d3f3",
           "#FF6692",
           "#B6E880",
           "#FF97FF",
           "#FECB52"
          ],
          "font": {
           "color": "#2a3f5f"
          },
          "geo": {
           "bgcolor": "white",
           "lakecolor": "white",
           "landcolor": "#E5ECF6",
           "showlakes": true,
           "showland": true,
           "subunitcolor": "white"
          },
          "hoverlabel": {
           "align": "left"
          },
          "hovermode": "closest",
          "mapbox": {
           "style": "light"
          },
          "paper_bgcolor": "white",
          "plot_bgcolor": "#E5ECF6",
          "polar": {
           "angularaxis": {
            "gridcolor": "white",
            "linecolor": "white",
            "ticks": ""
           },
           "bgcolor": "#E5ECF6",
           "radialaxis": {
            "gridcolor": "white",
            "linecolor": "white",
            "ticks": ""
           }
          },
          "scene": {
           "xaxis": {
            "backgroundcolor": "#E5ECF6",
            "gridcolor": "white",
            "gridwidth": 2,
            "linecolor": "white",
            "showbackground": true,
            "ticks": "",
            "zerolinecolor": "white"
           },
           "yaxis": {
            "backgroundcolor": "#E5ECF6",
            "gridcolor": "white",
            "gridwidth": 2,
            "linecolor": "white",
            "showbackground": true,
            "ticks": "",
            "zerolinecolor": "white"
           },
           "zaxis": {
            "backgroundcolor": "#E5ECF6",
            "gridcolor": "white",
            "gridwidth": 2,
            "linecolor": "white",
            "showbackground": true,
            "ticks": "",
            "zerolinecolor": "white"
           }
          },
          "shapedefaults": {
           "line": {
            "color": "#2a3f5f"
           }
          },
          "ternary": {
           "aaxis": {
            "gridcolor": "white",
            "linecolor": "white",
            "ticks": ""
           },
           "baxis": {
            "gridcolor": "white",
            "linecolor": "white",
            "ticks": ""
           },
           "bgcolor": "#E5ECF6",
           "caxis": {
            "gridcolor": "white",
            "linecolor": "white",
            "ticks": ""
           }
          },
          "title": {
           "x": 0.05
          },
          "xaxis": {
           "automargin": true,
           "gridcolor": "white",
           "linecolor": "white",
           "ticks": "",
           "title": {
            "standoff": 15
           },
           "zerolinecolor": "white",
           "zerolinewidth": 2
          },
          "yaxis": {
           "automargin": true,
           "gridcolor": "white",
           "linecolor": "white",
           "ticks": "",
           "title": {
            "standoff": 15
           },
           "zerolinecolor": "white",
           "zerolinewidth": 2
          }
         }
        },
        "updatemenus": [
         {
          "buttons": [
           {
            "args": [
             "visible",
             "legendonly"
            ],
            "label": "Deselect All",
            "method": "restyle"
           },
           {
            "args": [
             "visible",
             true
            ],
            "label": "Select All",
            "method": "restyle"
           }
          ],
          "direction": "left",
          "pad": {
           "r": 10,
           "t": 10
          },
          "showactive": false,
          "type": "buttons",
          "x": 1,
          "xanchor": "right",
          "y": 1.1,
          "yanchor": "top"
         }
        ]
       }
      }
     },
     "metadata": {},
     "output_type": "display_data"
    },
    {
     "data": {
      "text/plain": [
       "(1197.5982591919628, 34.60633264580289, 33.30507032342677)"
      ]
     },
     "execution_count": 20,
     "metadata": {},
     "output_type": "execute_result"
    }
   ],
   "source": [
    "predictions(df_coin=df_coin, forecast_lenght = 15, train_lenght = 500,target = 'Close')"
   ]
  },
  {
   "cell_type": "code",
   "execution_count": null,
   "metadata": {},
   "outputs": [],
   "source": []
  }
 ],
 "metadata": {
  "interpreter": {
   "hash": "20f5f4a9de05844b4ac8af346b75ae95ee290ce3bd4eae42415f2bbcfecf46df"
  },
  "kernelspec": {
   "display_name": "Python 3.9.12 ('BC')",
   "language": "python",
   "name": "python3"
  },
  "language_info": {
   "codemirror_mode": {
    "name": "ipython",
    "version": 3
   },
   "file_extension": ".py",
   "mimetype": "text/x-python",
   "name": "python",
   "nbconvert_exporter": "python",
   "pygments_lexer": "ipython3",
   "version": "3.9.12"
  },
  "orig_nbformat": 4
 },
 "nbformat": 4,
 "nbformat_minor": 2
}

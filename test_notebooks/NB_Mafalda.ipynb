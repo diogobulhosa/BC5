{
 "cells": [
  {
   "cell_type": "code",
   "execution_count": 1,
   "metadata": {},
   "outputs": [],
   "source": [
    "import plotly.graph_objects as go\n",
    "import pandas as pd\n",
    "import numpy as np\n",
    "import plotly.express as px\n",
    "import plotly.io as pio\n",
    "from plotly.subplots import make_subplots\n",
    "import talib as tb\n",
    "import yfinance as yf\n",
    "\n",
    "\n",
    "import datetime\n",
    "from datetime import date\n",
    "from datetime import datetime as dt\n",
    "from dateutil.relativedelta import *\n",
    "from datetime import timedelta\n"
   ]
  },
  {
   "cell_type": "markdown",
   "metadata": {},
   "source": [
    "To comment several lines of code use CTRL + K + C / CTRL + K + U"
   ]
  },
  {
   "cell_type": "code",
   "execution_count": 2,
   "metadata": {},
   "outputs": [],
   "source": [
    "def df_converter(df): \n",
    "    df_sp500 = yf.download('^GSPC', \n",
    "                      start='2017-11-09', \n",
    "                      end='2022-05-08', \n",
    "                      progress=False)\n",
    "    df_dollar = yf.download('DX=F', \n",
    "                      start='2017-11-09', \n",
    "                      end='2022-05-08', \n",
    "                      progress=False)\n",
    "    # clearing dollar and sp500 df\n",
    "    df_dollar.drop(['Open', 'High', 'Low', 'Adj Close', 'Volume'], axis=1, inplace=True)\n",
    "    df_dollar.rename(columns={\"Close\": \"dollar_close\"}, inplace=True)\n",
    "    df_sp500.drop(['Open', 'High', 'Low', 'Adj Close', 'Volume'], axis=1, inplace=True)\n",
    "    df_sp500.rename(columns={\"Close\": \"sp500_close\"}, inplace=True)\n",
    "    # clearing general df\n",
    "    #df_eth.drop('Unnamed: 0', axis=1, inplace=True)\n",
    "    #df.drop('adj_close', axis=1, inplace=True)\n",
    "    df.index = df.index.astype('datetime64[ns]')\n",
    "    # MA df\n",
    "    df_ma = df['Close'].to_frame()\n",
    "    df_ma['SMA30'] = df_ma['Close'].rolling(15).mean()\n",
    "    df_ma['CMA30'] = df_ma['Close'].expanding().mean()\n",
    "    df_ma['EMA30'] = tb.EMA(df_ma['Close'], timeperiod=15)\n",
    "    df_ma.dropna(inplace=True)\n",
    "    # Stoch df\n",
    "    slowk, slowd = tb.STOCH(df[\"High\"], df[\"Low\"], df[\"Close\"], fastk_period=5, slowk_period=3, slowk_matype=0, slowd_period=3, slowd_matype=0)\n",
    "    df_stoch = pd.DataFrame(index=df.index,\n",
    "                                data={\"slowk\": slowk,\n",
    "                                    \"slowd\": slowd})\n",
    "    df_stoch.dropna(inplace=True)\n",
    "    # for later use in the concat\n",
    "    stoch_c = ['slowk', 'slowd']\n",
    "    # MACD df \n",
    "    macd, macdsignal, macdhist = tb.MACD(df.Close, fastperiod=12, slowperiod=26, signalperiod=9)\n",
    "    df_macd = pd.DataFrame(index=df.index,\n",
    "                            data={\"macd\": macd,\n",
    "                                  \"macdsignal\": macdsignal,\n",
    "                                  \"macdhist\": macdhist})\n",
    "    df_macd.dropna(inplace=True)\n",
    "    # for later use in the concat\n",
    "    macd_c = ['macd', 'macdsignal', 'macdhist']\n",
    "    # bb df\n",
    "    upper, middle, lower = tb.BBANDS(df[\"Close\"], timeperiod=15)\n",
    "    df_bands = pd.DataFrame(index=df.index,\n",
    "                                data={\"bb_low\": lower,\n",
    "                                    \"bb_ma\": middle,\n",
    "                                    \"bb_high\": upper})\n",
    "    df_bands.dropna(inplace=True)\n",
    "    # for later use in the concat\n",
    "    bands_c = ['bb_low', 'bb_ma', 'bb_high']\n",
    "    # rsi df\n",
    "    rsi = tb.RSI(df['Close'], timeperiod=15)\n",
    "    df_rsi = pd.DataFrame(index=df.index,\n",
    "                            data={\"close\": df['Close'],\n",
    "                                  \"rsi\": rsi})\n",
    "\n",
    "    df_rsi.dropna(inplace=True)\n",
    "    #stdev df\n",
    "    stdev = tb.STDDEV(df['Close'], timeperiod=15, nbdev=1)\n",
    "    df_stdev = pd.DataFrame(index=df.index,\n",
    "                            data={\"close\": df['Close'],\n",
    "                                  \"stdev\": stdev})\n",
    "    df_stdev.dropna(inplace=True)\n",
    "    # adx df\n",
    "    adx = tb.ADX(df['High'], df['Low'], df['Close'], timeperiod=15)\n",
    "    df_adx = pd.DataFrame(index=df.index,\n",
    "                                data={\"close\": df['Close'],\n",
    "                                    \"adx\": adx})\n",
    "\n",
    "    df_adx.dropna(inplace=True)\n",
    "\n",
    "    # concat \n",
    "    result =pd.concat([df, df_ma[['SMA30','CMA30','EMA30']], df_adx['adx'], df_bands[bands_c], df_macd[macd_c], df_rsi['rsi'], df_stdev['stdev'], df_stoch[stoch_c], df_dollar['dollar_close'], df_sp500['sp500_close']], axis=1)\n",
    "    result.fillna(method='ffill', inplace=True)\n",
    "    result.dropna(inplace=True)\n",
    "\n",
    "    return result "
   ]
  },
  {
   "cell_type": "code",
   "execution_count": 3,
   "metadata": {},
   "outputs": [],
   "source": [
    "df_btc = yf.download('BTC-USD',\n",
    "                      end=date.today(), \n",
    "                      progress=False,\n",
    "    )"
   ]
  },
  {
   "cell_type": "code",
   "execution_count": 4,
   "metadata": {},
   "outputs": [],
   "source": [
    "df_btc = df_converter(df_btc)"
   ]
  },
  {
   "cell_type": "code",
   "execution_count": 5,
   "metadata": {},
   "outputs": [
    {
     "data": {
      "text/html": [
       "<div>\n",
       "<style scoped>\n",
       "    .dataframe tbody tr th:only-of-type {\n",
       "        vertical-align: middle;\n",
       "    }\n",
       "\n",
       "    .dataframe tbody tr th {\n",
       "        vertical-align: top;\n",
       "    }\n",
       "\n",
       "    .dataframe thead th {\n",
       "        text-align: right;\n",
       "    }\n",
       "</style>\n",
       "<table border=\"1\" class=\"dataframe\">\n",
       "  <thead>\n",
       "    <tr style=\"text-align: right;\">\n",
       "      <th></th>\n",
       "      <th>Open</th>\n",
       "      <th>High</th>\n",
       "      <th>Low</th>\n",
       "      <th>Close</th>\n",
       "      <th>Adj Close</th>\n",
       "      <th>Volume</th>\n",
       "      <th>SMA30</th>\n",
       "      <th>CMA30</th>\n",
       "      <th>EMA30</th>\n",
       "      <th>adx</th>\n",
       "      <th>...</th>\n",
       "      <th>bb_high</th>\n",
       "      <th>macd</th>\n",
       "      <th>macdsignal</th>\n",
       "      <th>macdhist</th>\n",
       "      <th>rsi</th>\n",
       "      <th>stdev</th>\n",
       "      <th>slowk</th>\n",
       "      <th>slowd</th>\n",
       "      <th>dollar_close</th>\n",
       "      <th>sp500_close</th>\n",
       "    </tr>\n",
       "    <tr>\n",
       "      <th>Date</th>\n",
       "      <th></th>\n",
       "      <th></th>\n",
       "      <th></th>\n",
       "      <th></th>\n",
       "      <th></th>\n",
       "      <th></th>\n",
       "      <th></th>\n",
       "      <th></th>\n",
       "      <th></th>\n",
       "      <th></th>\n",
       "      <th></th>\n",
       "      <th></th>\n",
       "      <th></th>\n",
       "      <th></th>\n",
       "      <th></th>\n",
       "      <th></th>\n",
       "      <th></th>\n",
       "      <th></th>\n",
       "      <th></th>\n",
       "      <th></th>\n",
       "      <th></th>\n",
       "    </tr>\n",
       "  </thead>\n",
       "  <tbody>\n",
       "    <tr>\n",
       "      <th>2017-11-09</th>\n",
       "      <td>7446.830078</td>\n",
       "      <td>7446.830078</td>\n",
       "      <td>7101.520020</td>\n",
       "      <td>7143.580078</td>\n",
       "      <td>7143.580078</td>\n",
       "      <td>3226249984</td>\n",
       "      <td>6720.195964</td>\n",
       "      <td>1012.489040</td>\n",
       "      <td>6798.973215</td>\n",
       "      <td>37.428679</td>\n",
       "      <td>...</td>\n",
       "      <td>7929.899976</td>\n",
       "      <td>547.298468</td>\n",
       "      <td>521.809901</td>\n",
       "      <td>25.488567</td>\n",
       "      <td>65.836431</td>\n",
       "      <td>604.852006</td>\n",
       "      <td>33.184032</td>\n",
       "      <td>38.772059</td>\n",
       "      <td>94.351997</td>\n",
       "      <td>2584.620117</td>\n",
       "    </tr>\n",
       "    <tr>\n",
       "      <th>2017-11-10</th>\n",
       "      <td>7173.729980</td>\n",
       "      <td>7312.000000</td>\n",
       "      <td>6436.870117</td>\n",
       "      <td>6618.140137</td>\n",
       "      <td>6618.140137</td>\n",
       "      <td>5208249856</td>\n",
       "      <td>6767.749967</td>\n",
       "      <td>1017.359285</td>\n",
       "      <td>6776.369081</td>\n",
       "      <td>36.238180</td>\n",
       "      <td>...</td>\n",
       "      <td>7899.045668</td>\n",
       "      <td>482.149729</td>\n",
       "      <td>513.877867</td>\n",
       "      <td>-31.728137</td>\n",
       "      <td>55.203600</td>\n",
       "      <td>565.647850</td>\n",
       "      <td>30.022892</td>\n",
       "      <td>33.577955</td>\n",
       "      <td>94.278000</td>\n",
       "      <td>2582.300049</td>\n",
       "    </tr>\n",
       "    <tr>\n",
       "      <th>2017-11-11</th>\n",
       "      <td>6618.609863</td>\n",
       "      <td>6873.149902</td>\n",
       "      <td>6204.220215</td>\n",
       "      <td>6357.600098</td>\n",
       "      <td>6357.600098</td>\n",
       "      <td>4908680192</td>\n",
       "      <td>6806.196647</td>\n",
       "      <td>1021.994910</td>\n",
       "      <td>6724.022958</td>\n",
       "      <td>34.548539</td>\n",
       "      <td>...</td>\n",
       "      <td>7835.311479</td>\n",
       "      <td>404.828866</td>\n",
       "      <td>492.068066</td>\n",
       "      <td>-87.239201</td>\n",
       "      <td>50.841315</td>\n",
       "      <td>514.557416</td>\n",
       "      <td>13.668599</td>\n",
       "      <td>25.625174</td>\n",
       "      <td>94.278000</td>\n",
       "      <td>2582.300049</td>\n",
       "    </tr>\n",
       "    <tr>\n",
       "      <th>2017-11-12</th>\n",
       "      <td>6295.450195</td>\n",
       "      <td>6625.049805</td>\n",
       "      <td>5519.009766</td>\n",
       "      <td>5950.069824</td>\n",
       "      <td>5950.069824</td>\n",
       "      <td>8957349888</td>\n",
       "      <td>6819.328646</td>\n",
       "      <td>1026.269043</td>\n",
       "      <td>6627.278816</td>\n",
       "      <td>32.896648</td>\n",
       "      <td>...</td>\n",
       "      <td>7798.154128</td>\n",
       "      <td>307.126870</td>\n",
       "      <td>455.079827</td>\n",
       "      <td>-147.952957</td>\n",
       "      <td>44.895661</td>\n",
       "      <td>489.412741</td>\n",
       "      <td>14.127749</td>\n",
       "      <td>19.273080</td>\n",
       "      <td>94.278000</td>\n",
       "      <td>2582.300049</td>\n",
       "    </tr>\n",
       "    <tr>\n",
       "      <th>2017-11-13</th>\n",
       "      <td>5938.250000</td>\n",
       "      <td>6811.189941</td>\n",
       "      <td>5844.290039</td>\n",
       "      <td>6559.490234</td>\n",
       "      <td>6559.490234</td>\n",
       "      <td>6263249920</td>\n",
       "      <td>6846.371322</td>\n",
       "      <td>1031.063862</td>\n",
       "      <td>6618.805243</td>\n",
       "      <td>30.978407</td>\n",
       "      <td>...</td>\n",
       "      <td>7771.077715</td>\n",
       "      <td>275.694434</td>\n",
       "      <td>419.202748</td>\n",
       "      <td>-143.508315</td>\n",
       "      <td>53.591318</td>\n",
       "      <td>462.353197</td>\n",
       "      <td>27.607649</td>\n",
       "      <td>18.467999</td>\n",
       "      <td>94.388000</td>\n",
       "      <td>2584.840088</td>\n",
       "    </tr>\n",
       "  </tbody>\n",
       "</table>\n",
       "<p>5 rows × 22 columns</p>\n",
       "</div>"
      ],
      "text/plain": [
       "                   Open         High          Low        Close    Adj Close  \\\n",
       "Date                                                                          \n",
       "2017-11-09  7446.830078  7446.830078  7101.520020  7143.580078  7143.580078   \n",
       "2017-11-10  7173.729980  7312.000000  6436.870117  6618.140137  6618.140137   \n",
       "2017-11-11  6618.609863  6873.149902  6204.220215  6357.600098  6357.600098   \n",
       "2017-11-12  6295.450195  6625.049805  5519.009766  5950.069824  5950.069824   \n",
       "2017-11-13  5938.250000  6811.189941  5844.290039  6559.490234  6559.490234   \n",
       "\n",
       "                Volume        SMA30        CMA30        EMA30        adx  ...  \\\n",
       "Date                                                                      ...   \n",
       "2017-11-09  3226249984  6720.195964  1012.489040  6798.973215  37.428679  ...   \n",
       "2017-11-10  5208249856  6767.749967  1017.359285  6776.369081  36.238180  ...   \n",
       "2017-11-11  4908680192  6806.196647  1021.994910  6724.022958  34.548539  ...   \n",
       "2017-11-12  8957349888  6819.328646  1026.269043  6627.278816  32.896648  ...   \n",
       "2017-11-13  6263249920  6846.371322  1031.063862  6618.805243  30.978407  ...   \n",
       "\n",
       "                bb_high        macd  macdsignal    macdhist        rsi  \\\n",
       "Date                                                                     \n",
       "2017-11-09  7929.899976  547.298468  521.809901   25.488567  65.836431   \n",
       "2017-11-10  7899.045668  482.149729  513.877867  -31.728137  55.203600   \n",
       "2017-11-11  7835.311479  404.828866  492.068066  -87.239201  50.841315   \n",
       "2017-11-12  7798.154128  307.126870  455.079827 -147.952957  44.895661   \n",
       "2017-11-13  7771.077715  275.694434  419.202748 -143.508315  53.591318   \n",
       "\n",
       "                 stdev      slowk      slowd  dollar_close  sp500_close  \n",
       "Date                                                                     \n",
       "2017-11-09  604.852006  33.184032  38.772059     94.351997  2584.620117  \n",
       "2017-11-10  565.647850  30.022892  33.577955     94.278000  2582.300049  \n",
       "2017-11-11  514.557416  13.668599  25.625174     94.278000  2582.300049  \n",
       "2017-11-12  489.412741  14.127749  19.273080     94.278000  2582.300049  \n",
       "2017-11-13  462.353197  27.607649  18.467999     94.388000  2584.840088  \n",
       "\n",
       "[5 rows x 22 columns]"
      ]
     },
     "execution_count": 5,
     "metadata": {},
     "output_type": "execute_result"
    }
   ],
   "source": [
    "df_btc.head()"
   ]
  },
  {
   "cell_type": "code",
   "execution_count": 6,
   "metadata": {},
   "outputs": [],
   "source": [
    "df_sol = yf.download('SOL-USD',\n",
    "                      end=date.today(), \n",
    "                      progress=False,\n",
    "    )"
   ]
  },
  {
   "cell_type": "code",
   "execution_count": 7,
   "metadata": {},
   "outputs": [
    {
     "data": {
      "text/plain": [
       "93.77913607014075"
      ]
     },
     "execution_count": 7,
     "metadata": {},
     "output_type": "execute_result"
    }
   ],
   "source": [
    "df_btc['rsi'].max()"
   ]
  },
  {
   "cell_type": "code",
   "execution_count": 8,
   "metadata": {},
   "outputs": [
    {
     "data": {
      "text/plain": [
       "['SMA30',\n",
       " 'CMA30',\n",
       " 'EMA30',\n",
       " 'adx',\n",
       " 'bb_low',\n",
       " 'bb_ma',\n",
       " 'bb_high',\n",
       " 'macd',\n",
       " 'macdsignal',\n",
       " 'macdhist',\n",
       " 'rsi',\n",
       " 'stdev',\n",
       " 'slowk',\n",
       " 'slowd',\n",
       " 'dollar_close',\n",
       " 'sp500_close']"
      ]
     },
     "execution_count": 8,
     "metadata": {},
     "output_type": "execute_result"
    }
   ],
   "source": [
    "df_btc.columns.tolist()[6:]"
   ]
  },
  {
   "cell_type": "code",
   "execution_count": 9,
   "metadata": {},
   "outputs": [
    {
     "data": {
      "text/html": [
       "<div>\n",
       "<style scoped>\n",
       "    .dataframe tbody tr th:only-of-type {\n",
       "        vertical-align: middle;\n",
       "    }\n",
       "\n",
       "    .dataframe tbody tr th {\n",
       "        vertical-align: top;\n",
       "    }\n",
       "\n",
       "    .dataframe thead th {\n",
       "        text-align: right;\n",
       "    }\n",
       "</style>\n",
       "<table border=\"1\" class=\"dataframe\">\n",
       "  <thead>\n",
       "    <tr style=\"text-align: right;\">\n",
       "      <th></th>\n",
       "      <th>Open</th>\n",
       "      <th>High</th>\n",
       "      <th>Low</th>\n",
       "      <th>Close</th>\n",
       "      <th>Adj Close</th>\n",
       "      <th>Volume</th>\n",
       "      <th>SMA30</th>\n",
       "      <th>CMA30</th>\n",
       "      <th>EMA30</th>\n",
       "      <th>adx</th>\n",
       "      <th>...</th>\n",
       "      <th>bb_high</th>\n",
       "      <th>macd</th>\n",
       "      <th>macdsignal</th>\n",
       "      <th>macdhist</th>\n",
       "      <th>rsi</th>\n",
       "      <th>stdev</th>\n",
       "      <th>slowk</th>\n",
       "      <th>slowd</th>\n",
       "      <th>dollar_close</th>\n",
       "      <th>sp500_close</th>\n",
       "    </tr>\n",
       "    <tr>\n",
       "      <th>Date</th>\n",
       "      <th></th>\n",
       "      <th></th>\n",
       "      <th></th>\n",
       "      <th></th>\n",
       "      <th></th>\n",
       "      <th></th>\n",
       "      <th></th>\n",
       "      <th></th>\n",
       "      <th></th>\n",
       "      <th></th>\n",
       "      <th></th>\n",
       "      <th></th>\n",
       "      <th></th>\n",
       "      <th></th>\n",
       "      <th></th>\n",
       "      <th></th>\n",
       "      <th></th>\n",
       "      <th></th>\n",
       "      <th></th>\n",
       "      <th></th>\n",
       "      <th></th>\n",
       "    </tr>\n",
       "  </thead>\n",
       "  <tbody>\n",
       "    <tr>\n",
       "      <th>2022-04-25</th>\n",
       "      <td>39472.605469</td>\n",
       "      <td>40491.753906</td>\n",
       "      <td>38338.378906</td>\n",
       "      <td>40458.308594</td>\n",
       "      <td>40458.308594</td>\n",
       "      <td>35445730570</td>\n",
       "      <td>40322.10625</td>\n",
       "      <td>12030.588997</td>\n",
       "      <td>40763.991139</td>\n",
       "      <td>20.839138</td>\n",
       "      <td>...</td>\n",
       "      <td>41643.822748</td>\n",
       "      <td>-823.171966</td>\n",
       "      <td>-728.838232</td>\n",
       "      <td>-94.333734</td>\n",
       "      <td>45.335035</td>\n",
       "      <td>660.858249</td>\n",
       "      <td>19.255884</td>\n",
       "      <td>18.573572</td>\n",
       "      <td>101.768997</td>\n",
       "      <td>4296.120117</td>\n",
       "    </tr>\n",
       "  </tbody>\n",
       "</table>\n",
       "<p>1 rows × 22 columns</p>\n",
       "</div>"
      ],
      "text/plain": [
       "                    Open          High           Low         Close  \\\n",
       "Date                                                                 \n",
       "2022-04-25  39472.605469  40491.753906  38338.378906  40458.308594   \n",
       "\n",
       "               Adj Close       Volume        SMA30         CMA30  \\\n",
       "Date                                                               \n",
       "2022-04-25  40458.308594  35445730570  40322.10625  12030.588997   \n",
       "\n",
       "                   EMA30        adx  ...       bb_high        macd  \\\n",
       "Date                                 ...                             \n",
       "2022-04-25  40763.991139  20.839138  ...  41643.822748 -823.171966   \n",
       "\n",
       "            macdsignal   macdhist        rsi       stdev      slowk  \\\n",
       "Date                                                                  \n",
       "2022-04-25 -728.838232 -94.333734  45.335035  660.858249  19.255884   \n",
       "\n",
       "                slowd  dollar_close  sp500_close  \n",
       "Date                                              \n",
       "2022-04-25  18.573572    101.768997  4296.120117  \n",
       "\n",
       "[1 rows x 22 columns]"
      ]
     },
     "execution_count": 9,
     "metadata": {},
     "output_type": "execute_result"
    }
   ],
   "source": [
    "df_btc[df_btc.index == '2022-04-25']"
   ]
  },
  {
   "cell_type": "code",
   "execution_count": 10,
   "metadata": {},
   "outputs": [],
   "source": [
    "indicators2 = ['S&P 500', 'Dollar', 'Bollinger Bands', 'SMA30', 'EMA30', 'CMA30', 'Stochastic Oscillator', 'MACD', 'RSI', 'ADX', 'STDEV']"
   ]
  },
  {
   "cell_type": "code",
   "execution_count": 11,
   "metadata": {},
   "outputs": [],
   "source": [
    "def list_converter(indicators): \n",
    "    for i,indicator in enumerate(indicators):\n",
    "        if indicator == 'S&P 500': \n",
    "            indicators[i] = 'sp500_close'\n",
    "        elif indicator == 'Dollar': \n",
    "            indicators[i] = 'dollar_close'\n",
    "        elif indicator == 'STDEV': \n",
    "            indicators[i] = 'stdev'\n",
    "        elif indicator == 'RSI': \n",
    "            indicators[i] = 'rsi'\n",
    "        elif indicator == 'ADX': \n",
    "            indicators[i] = 'adx'\n",
    "        \n"
   ]
  },
  {
   "cell_type": "code",
   "execution_count": 12,
   "metadata": {},
   "outputs": [
    {
     "data": {
      "text/plain": [
       "['sp500_close',\n",
       " 'dollar_close',\n",
       " 'Bollinger Bands',\n",
       " 'SMA30',\n",
       " 'EMA30',\n",
       " 'CMA30',\n",
       " 'Stochastic Oscillator',\n",
       " 'MACD',\n",
       " 'RSI',\n",
       " 'ADX',\n",
       " 'stdev']"
      ]
     },
     "execution_count": 12,
     "metadata": {},
     "output_type": "execute_result"
    }
   ],
   "source": [
    "list_converter(indicators2)"
   ]
  },
  {
   "cell_type": "code",
   "execution_count": 27,
   "metadata": {},
   "outputs": [],
   "source": [
    "def candlestick(df, days, comparison = None, indicators = None):\n",
    "\n",
    "    today = date.today()\n",
    "\n",
    "    indicators = list_converter(indicators)\n",
    "\n",
    "    separate_indicators=['RSI', 'ADX','MACD', 'Stochastic Oscillator' ]\n",
    "\n",
    "    df = df[today - pd.offsets.Day(days):]\n",
    "    df_normal = df.copy() # df with absolute values\n",
    "    df= df.pct_change()\n",
    "\n",
    "    color_palete= ['violet', 'magenta', 'turquoise', 'mediumorchid','lightpink', 'mediumpurple', 'mediumvioletred', 'darkviolet']\n",
    "\n",
    "    #Editing the text(hover) on the candlestick to get the absolute value and the % changes   \n",
    "    hovertext=[]\n",
    "    for i in range(len(df_normal.Open)):\n",
    "        hovertext.append('Open: '+str(df_normal.Open[i].round(2))+'<br>% change:' + str(df.Open[i].round(3))\n",
    "                        +'<br>High: '+str(df_normal.High[i].round(2)) +'<br>% change:' + str(df.High[i].round(3))\n",
    "                        +'<br>Low: '+str(df_normal.Low[i].round(2)) +'<br>% change:' + str(df.Low[i].round(3))\n",
    "                        +'<br>Close: '+str(df_normal.Close[i].round(2)) +'<br>% change:' + str(df.Close[i].round(3)))\n",
    "\n",
    "    if comparison is None and indicators is None: \n",
    "\n",
    "        fig = go.Figure(\n",
    "            data = [\n",
    "                go.Candlestick(\n",
    "                    x = df_normal.index,\n",
    "                    open = df_normal.Open,\n",
    "                    high = df_normal.High,\n",
    "                    low = df_normal.Low,\n",
    "                    close = df_normal.Close,\n",
    "                    text= hovertext,\n",
    "                    hoverinfo='text'\n",
    "                )\n",
    "            ]\n",
    "        )\n",
    "        \n",
    "        fig.update_layout(width=1200, height= 700)\n",
    "\n",
    "    elif comparison is not None and indicators is None: \n",
    "\n",
    "        comparison = comparison[today - pd.offsets.Day(days):]\n",
    "        comparison = comparison.pct_change()\n",
    "\n",
    "        fig = go.Figure(\n",
    "            data = [\n",
    "                go.Candlestick(\n",
    "                    x = df.index,\n",
    "                    open = df.Open,\n",
    "                    high = df.High,\n",
    "                    low = df.Low,\n",
    "                    close = df.Close,\n",
    "                    text= hovertext,\n",
    "                    hoverinfo='text'\n",
    "                ),\n",
    "                go.Scatter(\n",
    "                    x = comparison.index, \n",
    "                    y = comparison.Close,\n",
    "                    mode = 'lines', \n",
    "                    name = 'Extra Coin',\n",
    "                    line = {'color': 'orange'},\n",
    "                    customdata=df_normal[['Open','High','Low','Close']],\n",
    "                            hovertemplate='<br>'.join([\n",
    "                                'Percentual Change: %{y}',\n",
    "                                'Date: %{x}',\n",
    "                                'Open: %{customdata[0]:.3f}',\n",
    "                                'High: %{customdata[1]:.3f}',\n",
    "                                'Low: %{customdata[2]:.3f}',\n",
    "                                'Close: %{customdata[3]:.3f}'\n",
    "                            ])\n",
    "                )\n",
    "\n",
    "            ],\n",
    "            layout = go.Layout(yaxis=dict(tickformat=\".2%\"))\n",
    "        )   \n",
    "\n",
    "        fig.update_layout(width=1200, height= 700)\n",
    "\n",
    "    elif comparison is None and indicators is not None:\n",
    "\n",
    "        fig = make_subplots(rows=5, cols=1, specs = [[{ }], [{ }], [{ }], [{ }], [{ }]], vertical_spacing = 0.10, \n",
    "                            row_heights=[180, 30, 30, 30, 30])\n",
    "        fig.update_yaxes(tickformat=\".2%\", row=1)\n",
    "        fig.append_trace(\n",
    "                        go.Candlestick(\n",
    "                            x = df.index,\n",
    "                            open = df.Open,\n",
    "                            high = df.High,\n",
    "                            low = df.Low,\n",
    "                            close = df.Close,\n",
    "                            text= hovertext,\n",
    "                            hoverinfo='text'\n",
    "                        ), row=1, col=1)\n",
    "        r=1\n",
    "        for i,v in enumerate(indicators):\n",
    "            if v == 'Stochastic Oscillator': \n",
    "                r = r+1\n",
    "                fig.append_trace(go.Scatter(\n",
    "                        x=df_normal['slowk'].index,\n",
    "                        y=df_normal['slowk'],\n",
    "                        mode=\"lines\",\n",
    "                        name = 'slowk'\n",
    "                        ),  row=r, col=1\n",
    "                    )\n",
    "                fig.add_trace(\n",
    "                        go.Scatter(\n",
    "                            x=df_normal['slowd'].index,\n",
    "                            y=df_normal['slowd'],\n",
    "                            mode=\"lines\",\n",
    "                            name = 'slowd'\n",
    "                            ),  row=r, col=1\n",
    "                    )\n",
    "\n",
    "                fig.add_annotation(xref=\"x domain\",yref=\"y domain\",x=0.5, y=1.5, showarrow=False,\n",
    "                text=\"<b>Stochastic Oscillator</b>\", row=r, col=1)\n",
    "                fig.add_hline(y=20 , line_width=2, line_dash=\"dash\", line_color=\"darkslategray\", row=r, col=1)\n",
    "                fig.add_hline(y=80, line_width=2, line_dash=\"dash\", line_color=\"darkslategray\", row=r, col=1)\n",
    "            \n",
    "            elif v == 'MACD':\n",
    "                r = r+1 \n",
    "                fig.append_trace(go.Scatter(\n",
    "                        x=df_normal['macd'].index,\n",
    "                        y=df_normal['macd'],\n",
    "                        mode=\"lines\",\n",
    "                        name = 'macd'\n",
    "                        ),  row=r, col=1\n",
    "                    )\n",
    "                fig.add_trace(\n",
    "                        go.Scatter(\n",
    "                            x=df_normal['macdsignal'].index,\n",
    "                            y=df_normal['macdsignal'],\n",
    "                            mode=\"lines\",\n",
    "                            name = 'macd signal'\n",
    "                            ),  row=r, col=1\n",
    "                    )\n",
    "                \n",
    "                fig.add_annotation(xref=\"x domain\",yref=\"y domain\",x=0.5, y=1.5, showarrow=False,\n",
    "                text=\"<b>MACD</b>\", row=r, col=1)\n",
    "\n",
    "            elif v == 'RSI': \n",
    "                r= r+1\n",
    "                fig.append_trace(go.Scatter(\n",
    "                        x=df_normal['rsi'].index,\n",
    "                        y=df_normal['rsi'],\n",
    "                        mode=\"lines\",\n",
    "                        name = 'rsi'\n",
    "                        ),  row=r, col=1\n",
    "                    )\n",
    "                \n",
    "                fig.add_annotation(xref=\"x domain\",yref=\"y domain\",x=0.5, y=1.5, showarrow=False,\n",
    "                text=\"<b>RSI</b>\", row=r, col=1)\n",
    "                \n",
    "                fig.add_hline(y=30 , line_width=2, line_dash=\"dash\", line_color=\"darkslategray\", \n",
    "                row=r, col=1)\n",
    "                fig.add_hline(y=70, line_width=2, line_dash=\"dash\", line_color=\"darkslategray\", \n",
    "                row=r, col=1)\n",
    "            \n",
    "            elif v == 'ADX': \n",
    "                r= r+1\n",
    "                fig.append_trace(go.Scatter(\n",
    "                        x=df_normal['adx'].index,\n",
    "                        y=df_normal['adx'],\n",
    "                        mode=\"lines\",\n",
    "                        name = 'adx'\n",
    "                        ),  row=r, col=1\n",
    "                    )\n",
    "                \n",
    "                fig.add_annotation(xref=\"x domain\",yref=\"y domain\",x=0.5, y=1.5, showarrow=False,\n",
    "                text=\"<b>ADX</b>\", row=r, col=1)\n",
    "        \n",
    "        \n",
    "            elif v == 'Bollinger Bands':\n",
    "\n",
    "                fig.add_trace(go.Scatter(x=df['bb_low'].index,\n",
    "                    y=df['bb_low'],\n",
    "                    fill=None,\n",
    "                    mode='lines',\n",
    "                    line_color='indigo',\n",
    "                    name = 'bb_low',\n",
    "                    customdata=df_normal[['Open','High','Low','Close']],\n",
    "                            hovertemplate='<br>'.join([\n",
    "                                'Percentual Change: %{y}',\n",
    "                                'Date: %{x}',\n",
    "                                'Open: %{customdata[0]:.3f}',\n",
    "                                'High: %{customdata[1]:.3f}',\n",
    "                                'Low: %{customdata[2]:.3f}',\n",
    "                                'Close: %{customdata[3]:.3f}'\n",
    "                            ])\n",
    "                    \n",
    "                    ))\n",
    "                fig.add_trace(go.Scatter(\n",
    "                    x=df['bb_high'].index,\n",
    "                    y=df['bb_high'],\n",
    "                    name = 'bb_high',\n",
    "                    fill='tonexty', # fill area between trace0 and trace1\n",
    "                    mode='lines', line_color='indigo', \n",
    "                    customdata=df_normal[['Open','High','Low','Close']],\n",
    "                            hovertemplate='<br>'.join([\n",
    "                                'Percentual Change: %{y}',\n",
    "                                'Date: %{x}',\n",
    "                                'Open: %{customdata[0]:.3f}',\n",
    "                                'High: %{customdata[1]:.3f}',\n",
    "                                'Low: %{customdata[2]:.3f}',\n",
    "                                'Close: %{customdata[3]:.3f}'\n",
    "                            ])))    \n",
    "\n",
    "            else:\n",
    "                for ind, value in enumerate(color_palete):\n",
    "                    if i == ind: \n",
    "                        fig.add_trace(\n",
    "                        go.Scatter(\n",
    "                            x=df[v].index,\n",
    "                            y=df[v],\n",
    "                            mode=\"lines\",\n",
    "                            name = v,\n",
    "                            line_color=value,\n",
    "                            customdata=df_normal[['Open','High','Low','Close']],\n",
    "                            hovertemplate='<br>'.join([\n",
    "                                'Percentual Change: %{y}',\n",
    "                                'Date: %{x}',\n",
    "                                'Open: %{customdata[0]:.3f}',\n",
    "                                'High: %{customdata[1]:.3f}',\n",
    "                                'Low: %{customdata[2]:.3f}',\n",
    "                                'Close: %{customdata[3]:.3f}'\n",
    "                            ]),\n",
    "                        )\n",
    "                        )\n",
    "                \n",
    "        fig.update_layout(width=1300, height= 2000)\n",
    "    \n",
    "    else:\n",
    "\n",
    "        comparison = comparison[today - pd.offsets.Day(days):]\n",
    "        comparison = comparison.pct_change()\n",
    "        \n",
    "        fig = make_subplots(rows=5, cols=1, specs = [[{ }], [{ }], [{ }],  [{ }], [{ }]], vertical_spacing = 0.10, \n",
    "                            row_heights=[180, 30, 30, 30, 30] )\n",
    "        fig.update_yaxes(tickformat=\".2%\", row = 1)\n",
    "\n",
    "        fig.append_trace(\n",
    "                go.Candlestick(\n",
    "                    x = df.index,\n",
    "                    open = df.Open,\n",
    "                    high = df.High,\n",
    "                    low = df.Low,\n",
    "                    close = df.Close,\n",
    "                    text= hovertext,\n",
    "                    hoverinfo='text'\n",
    "                ), row=1, col=1)\n",
    "        \n",
    "        \n",
    "        \n",
    "        fig.add_trace(go.Scatter(\n",
    "                        x = comparison.index, \n",
    "                        y = comparison.Close,\n",
    "                        mode = 'lines', \n",
    "                        name = 'Extra Coin',\n",
    "                        line = {'color': 'orange'},\n",
    "                        customdata=df_normal[['Open','High','Low','Close']],\n",
    "                            hovertemplate='<br>'.join([\n",
    "                                'Percentual Change: %{y}',\n",
    "                                'Date: %{x}',\n",
    "                                'Open: %{customdata[0]:.3f}',\n",
    "                                'High: %{customdata[1]:.3f}',\n",
    "                                'Low: %{customdata[2]:.3f}',\n",
    "                                'Close: %{customdata[3]:.3f}'\n",
    "                            ])\n",
    "                        ))\n",
    "        r=1\n",
    "        for i,v in enumerate(indicators):\n",
    "\n",
    "            if v == 'Stochastic Oscillator': \n",
    "                r = r+1\n",
    "                fig.append_trace(go.Scatter(\n",
    "                        x=df_normal['slowk'].index,\n",
    "                        y=df_normal['slowk'],\n",
    "                        mode=\"lines\",\n",
    "                        name = 'slowk'\n",
    "                        ),  row=r, col=1\n",
    "                    )\n",
    "                fig.add_trace(\n",
    "                        go.Scatter(\n",
    "                            x=df_normal['slowd'].index,\n",
    "                            y=df_normal['slowd'],\n",
    "                            mode=\"lines\",\n",
    "                            name = 'slowd'\n",
    "                            ),  row=r, col=1\n",
    "                    )\n",
    "\n",
    "                fig.add_annotation(xref=\"x domain\",yref=\"y domain\",x=0.5, y=1.5, showarrow=False,\n",
    "                text=\"<b>Stochastic Oscillator</b>\", row=r, col=1)\n",
    "                fig.add_hline(y=20 , line_width=2, line_dash=\"dash\", line_color=\"darkslategray\", row=r, col=1)\n",
    "                fig.add_hline(y=80, line_width=2, line_dash=\"dash\", line_color=\"darkslategray\", row=r, col=1)\n",
    "            \n",
    "            elif v == 'MACD':\n",
    "                r = r+1 \n",
    "                fig.append_trace(go.Scatter(\n",
    "                        x=df_normal['macd'].index,\n",
    "                        y=df_normal['macd'],\n",
    "                        mode=\"lines\",\n",
    "                        name = 'macd'\n",
    "                        ),  row=r, col=1\n",
    "                    )\n",
    "                fig.add_trace(\n",
    "                        go.Scatter(\n",
    "                            x=df_normal['macdsignal'].index,\n",
    "                            y=df_normal['macdsignal'],\n",
    "                            mode=\"lines\",\n",
    "                            name = 'macd signal'\n",
    "                            ),  row=r, col=1\n",
    "                    )\n",
    "                \n",
    "                fig.add_annotation(xref=\"x domain\",yref=\"y domain\",x=0.5, y=1.5, showarrow=False,\n",
    "                text=\"<b>MACD</b>\", row=r, col=1)\n",
    "\n",
    "            elif v == 'RSI': \n",
    "                r= r+1\n",
    "                fig.append_trace(go.Scatter(\n",
    "                        x=df_normal['rsi'].index,\n",
    "                        y=df_normal['rsi'],\n",
    "                        mode=\"lines\",\n",
    "                        name = 'rsi'\n",
    "                        ),  row=r, col=1\n",
    "                    )\n",
    "                \n",
    "                fig.add_annotation(xref=\"x domain\",yref=\"y domain\",x=0.5, y=1.5, showarrow=False,\n",
    "                text=\"<b>RSI</b>\", row=r, col=1)\n",
    "                \n",
    "                fig.add_hline(y=30 , line_width=2, line_dash=\"dash\", line_color=\"darkslategray\", \n",
    "                row=r, col=1)\n",
    "                fig.add_hline(y=70, line_width=2, line_dash=\"dash\", line_color=\"darkslategray\", \n",
    "                row=r, col=1)\n",
    "            \n",
    "            elif v == 'ADX': \n",
    "                r= r+1\n",
    "                fig.append_trace(go.Scatter(\n",
    "                        x=df_normal['adx'].index,\n",
    "                        y=df_normal['adx'],\n",
    "                        mode=\"lines\",\n",
    "                        name = 'adx'\n",
    "                        ),  row=r, col=1\n",
    "                    )\n",
    "                \n",
    "                fig.add_annotation(xref=\"x domain\",yref=\"y domain\",x=0.5, y=1.5, showarrow=False,\n",
    "                text=\"<b>ADX</b>\", row=r, col=1) \n",
    " \n",
    "            elif v == 'Bollinger Bands':\n",
    "\n",
    "                fig.add_trace(go.Scatter(x=df['bb_low'].index,\n",
    "                    y=df['bb_low'],\n",
    "                    fill=None,\n",
    "                    mode='lines',\n",
    "                    line_color='indigo',\n",
    "                    name = 'bb_low',\n",
    "                    customdata=df_normal[['Open','High','Low','Close']],\n",
    "                            hovertemplate='<br>'.join([\n",
    "                                'Percentual Change: %{y}',\n",
    "                                'Date: %{x}',\n",
    "                                'Open: %{customdata[0]:.3f}',\n",
    "                                'High: %{customdata[1]:.3f}',\n",
    "                                'Low: %{customdata[2]:.3f}',\n",
    "                                'Close: %{customdata[3]:.3f}'\n",
    "                            ])\n",
    "                    \n",
    "                    ))\n",
    "                fig.add_trace(go.Scatter(\n",
    "                    x=df['bb_high'].index,\n",
    "                    y=df['bb_high'],\n",
    "                    name = 'bb_high',\n",
    "                    fill='tonexty', # fill area between trace0 and trace1\n",
    "                    mode='lines', line_color='indigo', \n",
    "                    customdata=df_normal[['Open','High','Low','Close']],\n",
    "                            hovertemplate='<br>'.join([\n",
    "                                'Percentual Change: %{y}',\n",
    "                                'Date: %{x}',\n",
    "                                'Open: %{customdata[0]:.3f}',\n",
    "                                'High: %{customdata[1]:.3f}',\n",
    "                                'Low: %{customdata[2]:.3f}',\n",
    "                                'Close: %{customdata[3]:.3f}'\n",
    "                            ])))\n",
    "                    \n",
    "            else:\n",
    "                \n",
    "                for ind, value in enumerate(color_palete):\n",
    "\n",
    "                    if i == ind: \n",
    "                        fig.add_trace(\n",
    "                        go.Scatter(\n",
    "                            x=df[v].index,\n",
    "                            y=df[v],\n",
    "                            mode=\"lines\",\n",
    "                            name = v,\n",
    "                            line_color=value,\n",
    "                            customdata=df_normal[['Open','High','Low','Close']],\n",
    "                            hovertemplate='<br>'.join([\n",
    "                                'Percentual Change: %{y}',\n",
    "                                'Date: %{x}',\n",
    "                                'Open: %{customdata[0]:.3f}',\n",
    "                                'High: %{customdata[1]:.3f}',\n",
    "                                'Low: %{customdata[2]:.3f}',\n",
    "                                'Close: %{customdata[3]:.3f}'\n",
    "                            ]),\n",
    "                        )\n",
    "                        )\n",
    "        fig.update_layout(width=1300, height= 2000)\n",
    "                        \n",
    "    fig.update_layout(xaxis_rangeslider_visible=False)\n",
    "    fig.update_layout(\n",
    "        template=\"plotly_dark\",\n",
    "        plot_bgcolor = 'rgba(0, 0, 0, 0)',\n",
    "        paper_bgcolor = 'rgba(0, 0, 0, 0)',\n",
    "        font_color=\"white\",\n",
    "        font_size= 15\n",
    "    )       \n",
    "    return fig\n",
    "\n",
    "\n",
    "    \n"
   ]
  },
  {
   "cell_type": "code",
   "execution_count": 31,
   "metadata": {},
   "outputs": [
    {
     "data": {
      "application/vnd.plotly.v1+json": {
       "config": {
        "plotlyServerURL": "https://plot.ly"
       },
       "data": [
        {
         "close": [
          null,
          0.009228086961576842,
          0.04668769779745485,
          -0.013759752216496501,
          -0.07788223029977337,
          -0.012507647384577658,
          0.0022777282826873524,
          -0.04214073972532317,
          -0.03528620868790788,
          0.03265642371222732,
          -0.025843815613622922,
          0.027778400368163814,
          0.022998939789759643,
          -0.002781397053842838,
          -0.03568234201898368,
          0.1454118392886461,
          0.026888524570001016,
          -0.009706302725009275,
          -0.03351981142193561,
          -0.07806935036049167,
          0.00671938064683042,
          -0.024887994408395286,
          -0.009316643885282638,
          0.017740259990833174,
          0.08378639716414904,
          -0.060630954045771346,
          -0.016291319622939393,
          0.002810649293818468,
          -0.027101257933814904,
          0.0480080837903738,
          -0.008268101563720931,
          0.04588714481344902,
          -0.00467993171076464,
          0.020750884742987363,
          0.009317830622209256,
          -0.022346848712323064,
          -0.004117262624553253,
          0.031180014163224357,
          0.012610091153007819,
          0.024898646221148013,
          0.008821397620525806,
          0.003429583093865096,
          0.052126312256127294,
          0.0065678873583499,
          0.0071661546110000085,
          -0.008491735032190584,
          -0.03238210822970233,
          0.016315115388267687,
          -0.008917040798352427,
          0.012745379989237415,
          0.003640395949819908,
          -0.02287907280900814,
          -0.05156849392240015,
          0.006876459247305178,
          -0.02795577079433975,
          0.011693070951357853,
          -0.013427680050824398,
          -0.06363225953812457,
          0.015315083892861292,
          0.025906300465151855,
          -0.029908006531745968,
          0.015473675726454417,
          -0.0031805042860567623,
          -0.017502542356175654,
          0.027929174608607443,
          0.016571096753378534,
          -0.003093074404708074,
          -0.020471984048854197,
          -0.019420038833716236,
          -0.0063811726165236005,
          -0.0004416040475622163,
          0.025057850055308917,
          -0.057858267871623625,
          0.029478882606909007,
          0.013575224570606004,
          -0.02926557389929385,
          -0.023179313474195662,
          0.019997911964443782,
          0.001565786170879102,
          -0.020215120218891713,
          0.051599856624237495,
          -0.07867402068901796,
          -0.014606061408683924,
          -0.014954355270636377,
          -0.040636848764922684,
          -0.11046369999353145,
          0.02396125848050934,
          -0.06725839173272163,
          0.003849706798608521,
          0.008102229834508146,
          0.027939733537411415,
          0.03999325713567892,
          -0.046069001557128786,
          0.018850785235190015,
          -0.05605711989808215,
          0.05550304428240649,
          -0.036734890846488066,
          0.007927413013061102,
          0.030289794482822652,
          -0.04039123144227663
         ],
         "high": [
          null,
          0.001937613901265678,
          0.04421758115697605,
          -0.0019912009016679333,
          -0.00998927536087113,
          -0.07259470911815602,
          -0.0124672368783596,
          -0.007397243301663359,
          -0.018082131174803062,
          -0.026262134882621413,
          0.019878569749075536,
          -0.0039249818253671576,
          0.016974700238762575,
          0.009463042377093833,
          -0.005659399636903983,
          0.10009104024006099,
          0.02360908914895976,
          0.0063396680015508355,
          -0.02342628073477493,
          -0.03502747764679326,
          -0.06858059946218686,
          0.001866229005047071,
          -0.0052963745647491844,
          -0.0031900693253846812,
          0.08042934476731478,
          -0.010854539493848514,
          -0.04578167821515622,
          -0.01928766551894523,
          -0.002524793548167148,
          0.013597481627569241,
          0.0013116665094043967,
          0.0419861741313432,
          -0.004290751826916184,
          0.021997218629373982,
          0.0028630514905836346,
          -0.0017815870303418135,
          -0.018625289423509273,
          0.04029238068288299,
          -0.00536117772539213,
          0.0288702817606612,
          0.019660100612909348,
          -0.005855534828083986,
          0.04675319572334735,
          0.026892057059096253,
          -0.001342298234882744,
          -0.007645212924402123,
          -0.003003266141069827,
          -0.01885386093439001,
          0.008838959194580553,
          0.0060643362870080875,
          -0.011040970917872373,
          0.006733136208240786,
          -0.033154598010543324,
          -0.036967396566962796,
          0.000964880023661463,
          -0.025424290559456608,
          0.013779069103956099,
          -0.02194256612699541,
          -0.0425933147003944,
          0.02000288129506722,
          0.0005171555145560003,
          -0.020114065965112227,
          0.00039285883615503003,
          -0.0015492843740501083,
          0.010243685169398331,
          0.016752921944802823,
          0.010878512914642924,
          0.01821382926510151,
          -0.04932729136980263,
          -0.020646020837416512,
          -0.0022519508821763345,
          0.01620813451657588,
          0.005485974237231295,
          -0.03232244907201132,
          0.022121648044734377,
          -0.009490945906109216,
          -0.027980320710486728,
          -0.003697371297767482,
          0.011574891502773133,
          -0.01138776388699092,
          0.032952452853236336,
          -0.0028486107161369567,
          -0.07954207202473651,
          -0.013500129481787027,
          -0.017353602628361386,
          -0.036077776566268205,
          -0.04750634384719021,
          -0.01788258472039883,
          -0.061879173895796336,
          0.02971331325391713,
          -0.023670320754749175,
          0.03694220379895752,
          -0.0000910180130824223,
          -0.0195126942380478,
          -0.002468633195124359,
          -0.006138887040791463,
          0.007696970805578296,
          -0.03509239342419601,
          0.028287400357279058,
          0.005413967006506093
         ],
         "hoverinfo": "text",
         "low": [
          null,
          -0.006411879352007266,
          0.01941075186065322,
          0.02272611731978391,
          -0.07380498166592409,
          -0.015199092299481798,
          0.0019032780374546032,
          -0.04029521145978532,
          -0.030497249120620573,
          -0.012490852938508712,
          0.01953695935422206,
          -0.07372214373353114,
          0.10598397562335915,
          0.015512216261070577,
          -0.03704043127827239,
          0.006687553677038327,
          0.14484620647283508,
          0.01118129710976734,
          -0.03495284117634889,
          -0.07417203594796584,
          -0.0007424783052086825,
          -0.014580452488742512,
          -0.024899352721100443,
          0.018711212910222264,
          0.019724936197468956,
          0.0032772011835990877,
          -0.012502473284752513,
          0.011085528356434393,
          -0.026936351228806554,
          -0.0012566257057972097,
          0.01670552798242797,
          0.01858869218735948,
          0.04204061354666466,
          -0.008864909106366725,
          0.0322628325276082,
          -0.014371918567797737,
          -0.008211604255527472,
          0.006890872065453024,
          0.022692687803593792,
          0.020265204266684878,
          0.022939599546457634,
          0.01052453393386199,
          0.006136345907324925,
          0.05069863634209959,
          0.008786305210575218,
          -0.007520663953493045,
          -0.02900067936655959,
          -0.021753397467706104,
          0.031064719169287436,
          -0.0032415488890537025,
          -0.008727881447632369,
          0.00683069770920075,
          -0.05161632118644144,
          -0.006807593510810395,
          -0.016704399849358675,
          -8.334165206846933e-7,
          -0.003841497750745826,
          -0.06301933296515361,
          0.000387816740567537,
          0.008236398552394775,
          -0.00042807414928869303,
          0.004309931273138057,
          0.005307513519863916,
          -0.011415898730584573,
          -0.023338774551661445,
          0.04968037774227829,
          0.008431225278577426,
          -0.02190540738873703,
          -0.01868044546105141,
          0.0009356419987507358,
          -0.0030154363180905364,
          -0.02281619699981663,
          -0.011826126826037675,
          0.0029649774667486195,
          0.024846740805682055,
          -0.018126886096143657,
          -0.01406005559496204,
          -0.002975025679556209,
          0.015185884126335258,
          -0.014963124790132731,
          0.0038961043010234953,
          -0.0497068815922137,
          -0.010441137572189896,
          -0.015255807665521814,
          -0.03039022114510348,
          -0.10572966840251052,
          -0.011623293905895005,
          -0.059255313438351664,
          -0.06460408512587867,
          0.09228822014770688,
          -0.0027593291321247326,
          0.028736810087718334,
          -0.009342247884884247,
          0.010885382986472791,
          -0.028746112531741308,
          -0.0003940215626497823,
          0.00294857093874179,
          0.008119478568036076,
          0.00853638662723366,
          -0.010234711113441763
         ],
         "open": [
          null,
          -0.0018743940496612765,
          0.010177724958197132,
          0.04677102237314057,
          -0.014383844990365047,
          -0.07704058272262615,
          -0.01297365486132529,
          0.0023004564803641436,
          -0.04224752814784938,
          -0.03525060434051597,
          0.03281769894531972,
          -0.02629508810908887,
          0.028305264639229666,
          0.02293895137066637,
          -0.002916955428518553,
          -0.035620090861798404,
          0.14556049186469,
          0.026927344362478012,
          -0.009748537058971163,
          -0.033398933734109404,
          -0.07795186877074889,
          0.006532825823340804,
          -0.02474087915955181,
          -0.009612516977705154,
          0.017943137539661702,
          0.0834026590211634,
          -0.060373024194066205,
          -0.0163667448709629,
          0.002326664876382223,
          -0.026704833698160346,
          0.048034624406664506,
          -0.008286547394694255,
          0.04589417219981984,
          -0.004764216977197977,
          0.020754961968173946,
          0.009493029067903613,
          -0.022404406999351867,
          -0.004170750856377636,
          0.03141330584744351,
          0.01232812685996798,
          0.025133566560764375,
          0.008764164022786902,
          0.003506123715865783,
          0.052049827921867964,
          0.005949912876216157,
          0.007568102472508942,
          -0.008318074147215526,
          -0.03204240403522274,
          0.01605420607645458,
          -0.009211763808320117,
          0.012781414414745118,
          0.0038590444567236926,
          -0.02316705085861326,
          -0.051309442074625955,
          0.006888542932361297,
          -0.028112969777724706,
          0.011801967662865342,
          -0.01355857888072809,
          -0.06320517878243892,
          0.014920314751125652,
          0.025836395650390198,
          -0.029660104910156693,
          0.015346100004821839,
          -0.0033176665212462098,
          -0.017234352419374543,
          0.027868558078828265,
          0.01649768326924206,
          -0.0031379515564433635,
          -0.020440448723589633,
          -0.01942316736196914,
          -0.006551485272993651,
          -0.00014614409154378727,
          0.02472135788002494,
          -0.057557773228946285,
          0.02941028489474684,
          0.013434462102891453,
          -0.02923807501321607,
          -0.02312068075806173,
          0.020123472799897568,
          0.00145356629383242,
          -0.02024749381437818,
          0.05159833025145888,
          -0.07866239603169067,
          -0.014510076382595494,
          -0.014970172477568489,
          -0.040642429164925,
          -0.11116733972798931,
          0.024527243708125646,
          -0.06704400663816756,
          0.0032545407518882463,
          0.008774524136652362,
          0.027759109509252422,
          0.0400613193258923,
          -0.04606278824844767,
          0.01882200218672181,
          -0.05601144945672021,
          0.05538787815481494,
          -0.03666178607491977,
          0.007966246626829765,
          0.029794432780651414
         ],
         "text": [
          "Open: 42236.57<br>% change:nan<br>High: 42693.05<br>% change:nan<br>Low: 41950.94<br>% change:nan<br>Close: 42197.52<br>% change:nan",
          "Open: 42157.4<br>% change:-0.002<br>High: 42775.78<br>% change:0.002<br>Low: 41681.96<br>% change:-0.006<br>Close: 42586.92<br>% change:0.009",
          "Open: 42586.46<br>% change:0.01<br>High: 44667.22<br>% change:0.044<br>Low: 42491.04<br>% change:0.019<br>Close: 44575.2<br>% change:0.047",
          "Open: 44578.28<br>% change:0.047<br>High: 44578.28<br>% change:-0.002<br>Low: 43456.69<br>% change:0.023<br>Close: 43961.86<br>% change:-0.014",
          "Open: 43937.07<br>% change:-0.014<br>High: 44132.97<br>% change:-0.01<br>Low: 40249.37<br>% change:-0.074<br>Close: 40538.01<br>% change:-0.078",
          "Open: 40552.13<br>% change:-0.077<br>High: 40929.15<br>% change:-0.073<br>Low: 39637.62<br>% change:-0.015<br>Close: 40030.98<br>% change:-0.013",
          "Open: 40026.02<br>% change:-0.013<br>High: 40418.88<br>% change:-0.012<br>Low: 39713.06<br>% change:0.002<br>Close: 40122.16<br>% change:0.002",
          "Open: 40118.1<br>% change:0.002<br>High: 40119.89<br>% change:-0.007<br>Low: 38112.81<br>% change:-0.04<br>Close: 38431.38<br>% change:-0.042",
          "Open: 38423.21<br>% change:-0.042<br>High: 39394.44<br>% change:-0.018<br>Low: 36950.48<br>% change:-0.03<br>Close: 37075.28<br>% change:-0.035",
          "Open: 37068.77<br>% change:-0.035<br>High: 38359.86<br>% change:-0.026<br>Low: 36488.93<br>% change:-0.012<br>Close: 38286.03<br>% change:0.033",
          "Open: 38285.28<br>% change:0.033<br>High: 39122.39<br>% change:0.02<br>Low: 37201.82<br>% change:0.02<br>Close: 37296.57<br>% change:-0.026",
          "Open: 37278.57<br>% change:-0.026<br>High: 38968.84<br>% change:-0.004<br>Low: 34459.22<br>% change:-0.074<br>Close: 38332.61<br>% change:0.028",
          "Open: 38333.75<br>% change:0.028<br>High: 39630.32<br>% change:0.017<br>Low: 38111.34<br>% change:0.106<br>Close: 39214.22<br>% change:0.023",
          "Open: 39213.08<br>% change:0.023<br>High: 40005.35<br>% change:0.009<br>Low: 38702.54<br>% change:0.016<br>Close: 39105.15<br>% change:-0.003",
          "Open: 39098.7<br>% change:-0.003<br>High: 39778.94<br>% change:-0.006<br>Low: 37268.98<br>% change:-0.037<br>Close: 37709.79<br>% change:-0.036",
          "Open: 37706.0<br>% change:-0.036<br>High: 43760.46<br>% change:0.1<br>Low: 37518.21<br>% change:0.007<br>Close: 43193.23<br>% change:0.145",
          "Open: 43194.5<br>% change:0.146<br>High: 44793.6<br>% change:0.024<br>Low: 42952.59<br>% change:0.145<br>Close: 44354.64<br>% change:0.027",
          "Open: 44357.62<br>% change:0.027<br>High: 45077.58<br>% change:0.006<br>Low: 43432.85<br>% change:0.011<br>Close: 43924.12<br>% change:-0.01",
          "Open: 43925.2<br>% change:-0.01<br>High: 44021.58<br>% change:-0.023<br>Low: 41914.75<br>% change:-0.035<br>Close: 42451.79<br>% change:-0.034",
          "Open: 42458.14<br>% change:-0.033<br>High: 42479.61<br>% change:-0.035<br>Low: 38805.85<br>% change:-0.074<br>Close: 39137.61<br>% change:-0.078",
          "Open: 39148.45<br>% change:-0.078<br>High: 39566.34<br>% change:-0.069<br>Low: 38777.04<br>% change:-0.001<br>Close: 39400.59<br>% change:0.007",
          "Open: 39404.2<br>% change:0.007<br>High: 39640.18<br>% change:0.002<br>Low: 38211.65<br>% change:-0.015<br>Close: 38419.98<br>% change:-0.025",
          "Open: 38429.3<br>% change:-0.025<br>High: 39430.23<br>% change:-0.005<br>Low: 37260.2<br>% change:-0.025<br>Close: 38062.04<br>% change:-0.009",
          "Open: 38059.9<br>% change:-0.01<br>High: 39304.44<br>% change:-0.003<br>Low: 37957.39<br>% change:0.019<br>Close: 38737.27<br>% change:0.018",
          "Open: 38742.82<br>% change:0.018<br>High: 42465.67<br>% change:0.08<br>Low: 38706.09<br>% change:0.02<br>Close: 41982.93<br>% change:0.084",
          "Open: 41974.07<br>% change:0.083<br>High: 42004.73<br>% change:-0.011<br>Low: 38832.94<br>% change:0.003<br>Close: 39437.46<br>% change:-0.061",
          "Open: 39439.97<br>% change:-0.06<br>High: 40081.68<br>% change:-0.046<br>Low: 38347.43<br>% change:-0.013<br>Close: 38794.97<br>% change:-0.016",
          "Open: 38794.46<br>% change:-0.016<br>High: 39308.6<br>% change:-0.019<br>Low: 38772.54<br>% change:0.011<br>Close: 38904.01<br>% change:0.003",
          "Open: 38884.73<br>% change:0.002<br>High: 39209.35<br>% change:-0.003<br>Low: 37728.14<br>% change:-0.027<br>Close: 37849.66<br>% change:-0.027",
          "Open: 37846.32<br>% change:-0.027<br>High: 39742.5<br>% change:0.014<br>Low: 37680.73<br>% change:-0.001<br>Close: 39666.75<br>% change:0.048",
          "Open: 39664.25<br>% change:0.048<br>High: 39794.63<br>% change:0.001<br>Low: 38310.21<br>% change:0.017<br>Close: 39338.79<br>% change:-0.008",
          "Open: 39335.57<br>% change:-0.008<br>High: 41465.45<br>% change:0.042<br>Low: 39022.35<br>% change:0.019<br>Close: 41143.93<br>% change:0.046",
          "Open: 41140.84<br>% change:0.046<br>High: 41287.54<br>% change:-0.004<br>Low: 40662.87<br>% change:0.042<br>Close: 40951.38<br>% change:-0.005",
          "Open: 40944.84<br>% change:-0.005<br>High: 42195.75<br>% change:0.022<br>Low: 40302.4<br>% change:-0.009<br>Close: 41801.16<br>% change:0.021",
          "Open: 41794.65<br>% change:0.021<br>High: 42316.55<br>% change:0.003<br>Low: 41602.67<br>% change:0.032<br>Close: 42190.65<br>% change:0.009",
          "Open: 42191.41<br>% change:0.009<br>High: 42241.16<br>% change:-0.002<br>Low: 41004.76<br>% change:-0.014<br>Close: 41247.82<br>% change:-0.022",
          "Open: 41246.13<br>% change:-0.022<br>High: 41454.41<br>% change:-0.019<br>Low: 40668.04<br>% change:-0.008<br>Close: 41078.0<br>% change:-0.004",
          "Open: 41074.11<br>% change:-0.004<br>High: 43124.71<br>% change:0.04<br>Low: 40948.28<br>% change:0.007<br>Close: 42358.81<br>% change:0.031",
          "Open: 42364.38<br>% change:0.031<br>High: 42893.51<br>% change:-0.005<br>Low: 41877.51<br>% change:0.023<br>Close: 42892.96<br>% change:0.013",
          "Open: 42886.65<br>% change:0.012<br>High: 44131.86<br>% change:0.029<br>Low: 42726.16<br>% change:0.02<br>Close: 43960.93<br>% change:0.025",
          "Open: 43964.55<br>% change:0.025<br>High: 44999.49<br>% change:0.02<br>Low: 43706.29<br>% change:0.023<br>Close: 44348.73<br>% change:0.009",
          "Open: 44349.86<br>% change:0.009<br>High: 44736.0<br>% change:-0.006<br>Low: 44166.27<br>% change:0.011<br>Close: 44500.83<br>% change:0.003",
          "Open: 44505.36<br>% change:0.004<br>High: 46827.55<br>% change:0.047<br>Low: 44437.29<br>% change:0.006<br>Close: 46820.49<br>% change:0.052",
          "Open: 46821.85<br>% change:0.052<br>High: 48086.84<br>% change:0.027<br>Low: 46690.2<br>% change:0.051<br>Close: 47128.0<br>% change:0.007",
          "Open: 47100.44<br>% change:0.006<br>High: 48022.29<br>% change:-0.001<br>Low: 47100.44<br>% change:0.009<br>Close: 47465.73<br>% change:0.007",
          "Open: 47456.9<br>% change:0.008<br>High: 47655.15<br>% change:-0.008<br>Low: 46746.21<br>% change:-0.008<br>Close: 47062.66<br>% change:-0.008",
          "Open: 47062.15<br>% change:-0.008<br>High: 47512.03<br>% change:-0.003<br>Low: 45390.54<br>% change:-0.029<br>Close: 45538.68<br>% change:-0.032",
          "Open: 45554.16<br>% change:-0.032<br>High: 46616.24<br>% change:-0.019<br>Low: 44403.14<br>% change:-0.022<br>Close: 46281.64<br>% change:0.016",
          "Open: 46285.5<br>% change:0.016<br>High: 47028.28<br>% change:0.009<br>Low: 45782.51<br>% change:0.031<br>Close: 45868.95<br>% change:-0.009",
          "Open: 45859.13<br>% change:-0.009<br>High: 47313.48<br>% change:0.006<br>Low: 45634.11<br>% change:-0.003<br>Close: 46453.57<br>% change:0.013",
          "Open: 46445.27<br>% change:0.013<br>High: 46791.09<br>% change:-0.011<br>Low: 45235.82<br>% change:-0.009<br>Close: 46622.68<br>% change:0.004",
          "Open: 46624.51<br>% change:0.004<br>High: 47106.14<br>% change:0.007<br>Low: 45544.81<br>% change:0.007<br>Close: 45555.99<br>% change:-0.023",
          "Open: 45544.36<br>% change:-0.023<br>High: 45544.36<br>% change:-0.033<br>Low: 43193.95<br>% change:-0.052<br>Close: 43206.74<br>% change:-0.052",
          "Open: 43207.5<br>% change:-0.051<br>High: 43860.7<br>% change:-0.037<br>Low: 42899.91<br>% change:-0.007<br>Close: 43503.85<br>% change:0.007",
          "Open: 43505.14<br>% change:0.007<br>High: 43903.02<br>% change:0.001<br>Low: 42183.29<br>% change:-0.017<br>Close: 42287.66<br>% change:-0.028",
          "Open: 42282.08<br>% change:-0.028<br>High: 42786.82<br>% change:-0.025<br>Low: 42183.25<br>% change:-0.0<br>Close: 42782.14<br>% change:0.012",
          "Open: 42781.09<br>% change:0.012<br>High: 43376.38<br>% change:0.014<br>Low: 42021.21<br>% change:-0.004<br>Close: 42207.67<br>% change:-0.013",
          "Open: 42201.04<br>% change:-0.014<br>High: 42424.59<br>% change:-0.022<br>Low: 39373.06<br>% change:-0.063<br>Close: 39521.9<br>% change:-0.064",
          "Open: 39533.71<br>% change:-0.063<br>High: 40617.59<br>% change:-0.043<br>Low: 39388.33<br>% change:0.0<br>Close: 40127.18<br>% change:0.015",
          "Open: 40123.57<br>% change:0.015<br>High: 41430.05<br>% change:0.02<br>Low: 39712.75<br>% change:0.008<br>Close: 41166.73<br>% change:0.026",
          "Open: 41160.22<br>% change:0.026<br>High: 41451.48<br>% change:0.001<br>Low: 39695.75<br>% change:-0.0<br>Close: 39935.52<br>% change:-0.03",
          "Open: 39939.4<br>% change:-0.03<br>High: 40617.72<br>% change:-0.02<br>Low: 39866.83<br>% change:0.004<br>Close: 40553.46<br>% change:0.015",
          "Open: 40552.32<br>% change:0.015<br>High: 40633.68<br>% change:0.0<br>Low: 40078.43<br>% change:0.005<br>Close: 40424.48<br>% change:-0.003",
          "Open: 40417.78<br>% change:-0.003<br>High: 40570.73<br>% change:-0.002<br>Low: 39620.89<br>% change:-0.011<br>Close: 39716.95<br>% change:-0.018",
          "Open: 39721.2<br>% change:-0.017<br>High: 40986.32<br>% change:0.01<br>Low: 38696.19<br>% change:-0.023<br>Close: 40826.21<br>% change:0.028",
          "Open: 40828.18<br>% change:0.028<br>High: 41672.96<br>% change:0.017<br>Low: 40618.63<br>% change:0.05<br>Close: 41502.75<br>% change:0.017",
          "Open: 41501.75<br>% change:0.016<br>High: 42126.3<br>% change:0.011<br>Low: 40961.1<br>% change:0.008<br>Close: 41374.38<br>% change:-0.003",
          "Open: 41371.52<br>% change:-0.003<br>High: 42893.58<br>% change:0.018<br>Low: 40063.83<br>% change:-0.022<br>Close: 40527.36<br>% change:-0.02",
          "Open: 40525.86<br>% change:-0.02<br>High: 40777.76<br>% change:-0.049<br>Low: 39315.42<br>% change:-0.019<br>Close: 39740.32<br>% change:-0.019",
          "Open: 39738.72<br>% change:-0.019<br>High: 39935.86<br>% change:-0.021<br>Low: 39352.2<br>% change:0.001<br>Close: 39486.73<br>% change:-0.006",
          "Open: 39478.38<br>% change:-0.007<br>High: 39845.93<br>% change:-0.002<br>Low: 39233.54<br>% change:-0.003<br>Close: 39469.29<br>% change:-0.0",
          "Open: 39472.61<br>% change:-0.0<br>High: 40491.75<br>% change:0.016<br>Low: 38338.38<br>% change:-0.023<br>Close: 40458.31<br>% change:0.025",
          "Open: 40448.42<br>% change:0.025<br>High: 40713.89<br>% change:0.005<br>Low: 37884.98<br>% change:-0.012<br>Close: 38117.46<br>% change:-0.058",
          "Open: 38120.3<br>% change:-0.058<br>High: 39397.92<br>% change:-0.032<br>Low: 37997.31<br>% change:0.003<br>Close: 39241.12<br>% change:0.029",
          "Open: 39241.43<br>% change:0.029<br>High: 40269.46<br>% change:0.022<br>Low: 38941.42<br>% change:0.025<br>Close: 39773.83<br>% change:0.014",
          "Open: 39768.62<br>% change:0.013<br>High: 39887.27<br>% change:-0.009<br>Low: 38235.54<br>% change:-0.018<br>Close: 38609.82<br>% change:-0.029",
          "Open: 38605.86<br>% change:-0.029<br>High: 38771.21<br>% change:-0.028<br>Low: 37697.94<br>% change:-0.014<br>Close: 37714.88<br>% change:-0.023",
          "Open: 37713.27<br>% change:-0.023<br>High: 38627.86<br>% change:-0.004<br>Low: 37585.79<br>% change:-0.003<br>Close: 38469.09<br>% change:0.02",
          "Open: 38472.19<br>% change:0.02<br>High: 39074.97<br>% change:0.012<br>Low: 38156.56<br>% change:0.015<br>Close: 38529.33<br>% change:0.002",
          "Open: 38528.11<br>% change:0.001<br>High: 38630.0<br>% change:-0.011<br>Low: 37585.62<br>% change:-0.015<br>Close: 37750.45<br>% change:-0.02",
          "Open: 37748.01<br>% change:-0.02<br>High: 39902.95<br>% change:0.033<br>Low: 37732.06<br>% change:0.004<br>Close: 39698.37<br>% change:0.052",
          "Open: 39695.75<br>% change:0.052<br>High: 39789.28<br>% change:-0.003<br>Low: 35856.52<br>% change:-0.05<br>Close: 36575.14<br>% change:-0.079",
          "Open: 36573.18<br>% change:-0.079<br>High: 36624.36<br>% change:-0.08<br>Low: 35482.13<br>% change:-0.01<br>Close: 36040.92<br>% change:-0.015",
          "Open: 36042.5<br>% change:-0.015<br>High: 36129.93<br>% change:-0.014<br>Low: 34940.82<br>% change:-0.015<br>Close: 35501.95<br>% change:-0.015",
          "Open: 35502.94<br>% change:-0.015<br>High: 35502.94<br>% change:-0.017<br>Low: 33878.96<br>% change:-0.03<br>Close: 34059.27<br>% change:-0.041",
          "Open: 34060.02<br>% change:-0.041<br>High: 34222.07<br>% change:-0.036<br>Low: 30296.95<br>% change:-0.106<br>Close: 30296.95<br>% change:-0.11",
          "Open: 30273.65<br>% change:-0.111<br>High: 32596.31<br>% change:-0.048<br>Low: 29944.8<br>% change:-0.012<br>Close: 31022.91<br>% change:0.024",
          "Open: 31016.18<br>% change:0.025<br>High: 32013.4<br>% change:-0.018<br>Low: 28170.41<br>% change:-0.059<br>Close: 28936.36<br>% change:-0.067",
          "Open: 28936.73<br>% change:-0.067<br>High: 30032.44<br>% change:-0.062<br>Low: 26350.49<br>% change:-0.065<br>Close: 29047.75<br>% change:0.004",
          "Open: 29030.91<br>% change:0.003<br>High: 30924.8<br>% change:0.03<br>Low: 28782.33<br>% change:0.092<br>Close: 29283.1<br>% change:0.008",
          "Open: 29285.64<br>% change:0.009<br>High: 30192.8<br>% change:-0.024<br>Low: 28702.91<br>% change:-0.003<br>Close: 30101.27<br>% change:0.028",
          "Open: 30098.59<br>% change:0.028<br>High: 31308.19<br>% change:0.037<br>Low: 29527.74<br>% change:0.029<br>Close: 31305.11<br>% change:0.04",
          "Open: 31304.38<br>% change:0.04<br>High: 31305.34<br>% change:-0.0<br>Low: 29251.88<br>% change:-0.009<br>Close: 29862.92<br>% change:-0.046",
          "Open: 29862.41<br>% change:-0.046<br>High: 30694.49<br>% change:-0.02<br>Low: 29570.3<br>% change:0.011<br>Close: 30425.86<br>% change:0.019",
          "Open: 30424.48<br>% change:0.019<br>High: 30618.72<br>% change:-0.002<br>Low: 28720.27<br>% change:-0.029<br>Close: 28720.27<br>% change:-0.056",
          "Open: 28720.36<br>% change:-0.056<br>High: 30430.75<br>% change:-0.006<br>Low: 28708.96<br>% change:-0.0<br>Close: 30314.33<br>% change:0.056",
          "Open: 30311.12<br>% change:0.055<br>High: 30664.98<br>% change:0.008<br>Low: 28793.61<br>% change:0.003<br>Close: 29200.74<br>% change:-0.037",
          "Open: 29199.86<br>% change:-0.037<br>High: 29588.87<br>% change:-0.035<br>Low: 29027.39<br>% change:0.008<br>Close: 29432.23<br>% change:0.008",
          "Open: 29432.47<br>% change:0.008<br>High: 30425.86<br>% change:0.028<br>Low: 29275.18<br>% change:0.009<br>Close: 30323.72<br>% change:0.03",
          "Open: 30309.4<br>% change:0.03<br>High: 30590.59<br>% change:0.005<br>Low: 28975.56<br>% change:-0.01<br>Close: 29098.91<br>% change:-0.04"
         ],
         "type": "candlestick",
         "x": [
          "2022-02-13T00:00:00",
          "2022-02-14T00:00:00",
          "2022-02-15T00:00:00",
          "2022-02-16T00:00:00",
          "2022-02-17T00:00:00",
          "2022-02-18T00:00:00",
          "2022-02-19T00:00:00",
          "2022-02-20T00:00:00",
          "2022-02-21T00:00:00",
          "2022-02-22T00:00:00",
          "2022-02-23T00:00:00",
          "2022-02-24T00:00:00",
          "2022-02-25T00:00:00",
          "2022-02-26T00:00:00",
          "2022-02-27T00:00:00",
          "2022-02-28T00:00:00",
          "2022-03-01T00:00:00",
          "2022-03-02T00:00:00",
          "2022-03-03T00:00:00",
          "2022-03-04T00:00:00",
          "2022-03-05T00:00:00",
          "2022-03-06T00:00:00",
          "2022-03-07T00:00:00",
          "2022-03-08T00:00:00",
          "2022-03-09T00:00:00",
          "2022-03-10T00:00:00",
          "2022-03-11T00:00:00",
          "2022-03-12T00:00:00",
          "2022-03-13T00:00:00",
          "2022-03-14T00:00:00",
          "2022-03-15T00:00:00",
          "2022-03-16T00:00:00",
          "2022-03-17T00:00:00",
          "2022-03-18T00:00:00",
          "2022-03-19T00:00:00",
          "2022-03-20T00:00:00",
          "2022-03-21T00:00:00",
          "2022-03-22T00:00:00",
          "2022-03-23T00:00:00",
          "2022-03-24T00:00:00",
          "2022-03-25T00:00:00",
          "2022-03-26T00:00:00",
          "2022-03-27T00:00:00",
          "2022-03-28T00:00:00",
          "2022-03-29T00:00:00",
          "2022-03-30T00:00:00",
          "2022-03-31T00:00:00",
          "2022-04-01T00:00:00",
          "2022-04-02T00:00:00",
          "2022-04-03T00:00:00",
          "2022-04-04T00:00:00",
          "2022-04-05T00:00:00",
          "2022-04-06T00:00:00",
          "2022-04-07T00:00:00",
          "2022-04-08T00:00:00",
          "2022-04-09T00:00:00",
          "2022-04-10T00:00:00",
          "2022-04-11T00:00:00",
          "2022-04-12T00:00:00",
          "2022-04-13T00:00:00",
          "2022-04-14T00:00:00",
          "2022-04-15T00:00:00",
          "2022-04-16T00:00:00",
          "2022-04-17T00:00:00",
          "2022-04-18T00:00:00",
          "2022-04-19T00:00:00",
          "2022-04-20T00:00:00",
          "2022-04-21T00:00:00",
          "2022-04-22T00:00:00",
          "2022-04-23T00:00:00",
          "2022-04-24T00:00:00",
          "2022-04-25T00:00:00",
          "2022-04-26T00:00:00",
          "2022-04-27T00:00:00",
          "2022-04-28T00:00:00",
          "2022-04-29T00:00:00",
          "2022-04-30T00:00:00",
          "2022-05-01T00:00:00",
          "2022-05-02T00:00:00",
          "2022-05-03T00:00:00",
          "2022-05-04T00:00:00",
          "2022-05-05T00:00:00",
          "2022-05-06T00:00:00",
          "2022-05-07T00:00:00",
          "2022-05-08T00:00:00",
          "2022-05-09T00:00:00",
          "2022-05-10T00:00:00",
          "2022-05-11T00:00:00",
          "2022-05-12T00:00:00",
          "2022-05-13T00:00:00",
          "2022-05-14T00:00:00",
          "2022-05-15T00:00:00",
          "2022-05-16T00:00:00",
          "2022-05-17T00:00:00",
          "2022-05-18T00:00:00",
          "2022-05-19T00:00:00",
          "2022-05-20T00:00:00",
          "2022-05-21T00:00:00",
          "2022-05-22T00:00:00",
          "2022-05-23T00:00:00"
         ],
         "xaxis": "x",
         "yaxis": "y"
        },
        {
         "customdata": [
          [
           42236.56640625,
           42693.0546875,
           41950.94140625,
           42197.515625
          ],
          [
           42157.3984375,
           42775.77734375,
           41681.95703125,
           42586.91796875
          ],
          [
           42586.46484375,
           44667.21875,
           42491.03515625,
           44575.203125
          ],
          [
           44578.27734375,
           44578.27734375,
           43456.69140625,
           43961.859375
          ],
          [
           43937.0703125,
           44132.97265625,
           40249.37109375,
           40538.01171875
          ],
          [
           40552.1328125,
           40929.15234375,
           39637.6171875,
           40030.9765625
          ],
          [
           40026.0234375,
           40418.87890625,
           39713.05859375,
           40122.15625
          ],
          [
           40118.1015625,
           40119.890625,
           38112.8125,
           38431.37890625
          ],
          [
           38423.2109375,
           39394.4375,
           36950.4765625,
           37075.28125
          ],
          [
           37068.76953125,
           38359.85546875,
           36488.93359375,
           38286.02734375
          ],
          [
           38285.28125,
           39122.39453125,
           37201.81640625,
           37296.5703125
          ],
          [
           37278.56640625,
           38968.83984375,
           34459.21875,
           38332.609375
          ],
          [
           38333.74609375,
           39630.32421875,
           38111.34375,
           39214.21875
          ],
          [
           39213.08203125,
           40005.34765625,
           38702.53515625,
           39105.1484375
          ],
          [
           39098.69921875,
           39778.94140625,
           37268.9765625,
           37709.78515625
          ],
          [
           37706,
           43760.45703125,
           37518.21484375,
           43193.234375
          ],
          [
           43194.50390625,
           44793.6015625,
           42952.5859375,
           44354.63671875
          ],
          [
           44357.6171875,
           45077.578125,
           43432.8515625,
           43924.1171875
          ],
          [
           43925.1953125,
           44021.578125,
           41914.75,
           42451.7890625
          ],
          [
           42458.140625,
           42479.61328125,
           38805.84765625,
           39137.60546875
          ],
          [
           39148.44921875,
           39566.3359375,
           38777.03515625,
           39400.5859375
          ],
          [
           39404.19921875,
           39640.17578125,
           38211.6484375,
           38419.984375
          ],
          [
           38429.3046875,
           39430.2265625,
           37260.203125,
           38062.0390625
          ],
          [
           38059.90234375,
           39304.44140625,
           37957.38671875,
           38737.26953125
          ],
          [
           38742.81640625,
           42465.671875,
           38706.09375,
           41982.92578125
          ],
          [
           41974.0703125,
           42004.7265625,
           38832.94140625,
           39437.4609375
          ],
          [
           39439.96875,
           40081.6796875,
           38347.43359375,
           38794.97265625
          ],
          [
           38794.46484375,
           39308.59765625,
           38772.53515625,
           38904.01171875
          ],
          [
           38884.7265625,
           39209.3515625,
           37728.14453125,
           37849.6640625
          ],
          [
           37846.31640625,
           39742.5,
           37680.734375,
           39666.75390625
          ],
          [
           39664.25,
           39794.62890625,
           38310.2109375,
           39338.78515625
          ],
          [
           39335.5703125,
           41465.453125,
           39022.34765625,
           41143.9296875
          ],
          [
           41140.84375,
           41287.53515625,
           40662.87109375,
           40951.37890625
          ],
          [
           40944.83984375,
           42195.74609375,
           40302.3984375,
           41801.15625
          ],
          [
           41794.6484375,
           42316.5546875,
           41602.66796875,
           42190.65234375
          ],
          [
           42191.40625,
           42241.1640625,
           41004.7578125,
           41247.82421875
          ],
          [
           41246.1328125,
           41454.41015625,
           40668.04296875,
           41077.99609375
          ],
          [
           41074.10546875,
           43124.70703125,
           40948.28125,
           42358.80859375
          ],
          [
           42364.37890625,
           42893.5078125,
           41877.5078125,
           42892.95703125
          ],
          [
           42886.65234375,
           44131.85546875,
           42726.1640625,
           43960.93359375
          ],
          [
           43964.546875,
           44999.4921875,
           43706.28515625,
           44348.73046875
          ],
          [
           44349.859375,
           44735.99609375,
           44166.2734375,
           44500.828125
          ],
          [
           44505.35546875,
           46827.546875,
           44437.29296875,
           46820.4921875
          ],
          [
           46821.8515625,
           48086.8359375,
           46690.203125,
           47128.00390625
          ],
          [
           47100.4375,
           48022.2890625,
           47100.4375,
           47465.73046875
          ],
          [
           47456.8984375,
           47655.1484375,
           46746.2109375,
           47062.6640625
          ],
          [
           47062.1484375,
           47512.02734375,
           45390.5390625,
           45538.67578125
          ],
          [
           45554.1640625,
           46616.2421875,
           44403.140625,
           46281.64453125
          ],
          [
           46285.5,
           47028.28125,
           45782.51171875,
           45868.94921875
          ],
          [
           45859.12890625,
           47313.4765625,
           45634.10546875,
           46453.56640625
          ],
          [
           46445.2734375,
           46791.08984375,
           45235.81640625,
           46622.67578125
          ],
          [
           46624.5078125,
           47106.140625,
           45544.80859375,
           45555.9921875
          ],
          [
           45544.35546875,
           45544.35546875,
           43193.953125,
           43206.73828125
          ],
          [
           43207.5,
           43860.69921875,
           42899.90625,
           43503.84765625
          ],
          [
           43505.13671875,
           43903.01953125,
           42183.2890625,
           42287.6640625
          ],
          [
           42282.078125,
           42786.81640625,
           42183.25390625,
           42782.13671875
          ],
          [
           42781.08984375,
           43376.37890625,
           42021.20703125,
           42207.671875
          ],
          [
           42201.0390625,
           42424.58984375,
           39373.05859375,
           39521.90234375
          ],
          [
           39533.71484375,
           40617.5859375,
           39388.328125,
           40127.18359375
          ],
          [
           40123.5703125,
           41430.0546875,
           39712.74609375,
           41166.73046875
          ],
          [
           41160.21875,
           41451.48046875,
           39695.74609375,
           39935.515625
          ],
          [
           39939.40234375,
           40617.72265625,
           39866.83203125,
           40553.46484375
          ],
          [
           40552.31640625,
           40633.6796875,
           40078.42578125,
           40424.484375
          ],
          [
           40417.77734375,
           40570.7265625,
           39620.89453125,
           39716.953125
          ],
          [
           39721.203125,
           40986.3203125,
           38696.19140625,
           40826.21484375
          ],
          [
           40828.17578125,
           41672.9609375,
           40618.6328125,
           41502.75
          ],
          [
           41501.74609375,
           42126.30078125,
           40961.09765625,
           41374.37890625
          ],
          [
           41371.515625,
           42893.58203125,
           40063.828125,
           40527.36328125
          ],
          [
           40525.86328125,
           40777.7578125,
           39315.41796875,
           39740.3203125
          ],
          [
           39738.72265625,
           39935.859375,
           39352.203125,
           39486.73046875
          ],
          [
           39478.375,
           39845.92578125,
           39233.5390625,
           39469.29296875
          ],
          [
           39472.60546875,
           40491.75390625,
           38338.37890625,
           40458.30859375
          ],
          [
           40448.421875,
           40713.890625,
           37884.984375,
           38117.4609375
          ],
          [
           38120.30078125,
           39397.91796875,
           37997.3125,
           39241.12109375
          ],
          [
           39241.4296875,
           40269.46484375,
           38941.421875,
           39773.828125
          ],
          [
           39768.6171875,
           39887.26953125,
           38235.53515625,
           38609.82421875
          ],
          [
           38605.859375,
           38771.2109375,
           37697.94140625,
           37714.875
          ],
          [
           37713.265625,
           38627.859375,
           37585.7890625,
           38469.09375
          ],
          [
           38472.1875,
           39074.97265625,
           38156.5625,
           38529.328125
          ],
          [
           38528.109375,
           38629.99609375,
           37585.62109375,
           37750.453125
          ],
          [
           37748.01171875,
           39902.94921875,
           37732.05859375,
           39698.37109375
          ],
          [
           39695.74609375,
           39789.28125,
           35856.515625,
           36575.140625
          ],
          [
           36573.18359375,
           36624.359375,
           35482.1328125,
           36040.921875
          ],
          [
           36042.50390625,
           36129.92578125,
           34940.82421875,
           35501.953125
          ],
          [
           35502.94140625,
           35502.94140625,
           33878.96484375,
           34059.265625
          ],
          [
           34060.015625,
           34222.07421875,
           30296.953125,
           30296.953125
          ],
          [
           30273.654296875,
           32596.30859375,
           29944.802734375,
           31022.90625
          ],
          [
           31016.18359375,
           32013.40234375,
           28170.4140625,
           28936.35546875
          ],
          [
           28936.734375,
           30032.439453125,
           26350.490234375,
           29047.751953125
          ],
          [
           29030.91015625,
           30924.802734375,
           28782.330078125,
           29283.103515625
          ],
          [
           29285.642578125,
           30192.802734375,
           28702.91015625,
           30101.265625
          ],
          [
           30098.5859375,
           31308.19140625,
           29527.740234375,
           31305.11328125
          ],
          [
           31304.375,
           31305.341796875,
           29251.884765625,
           29862.91796875
          ],
          [
           29862.408203125,
           30694.490234375,
           29570.302734375,
           30425.857421875
          ],
          [
           30424.478515625,
           30618.716796875,
           28720.271484375,
           28720.271484375
          ],
          [
           28720.359375,
           30430.751953125,
           28708.955078125,
           30314.333984375
          ],
          [
           30311.119140625,
           30664.9765625,
           28793.60546875,
           29200.740234375
          ],
          [
           29199.859375,
           29588.869140625,
           29027.39453125,
           29432.2265625
          ],
          [
           29432.47265625,
           30425.861328125,
           29275.18359375,
           30323.72265625
          ],
          [
           30309.396484375,
           30590.5859375,
           28975.560546875,
           29098.91015625
          ]
         ],
         "hovertemplate": "Percentual Change: %{y}<br>Date: %{x}<br>Open: %{customdata[0]:.3f}<br>High: %{customdata[1]:.3f}<br>Low: %{customdata[2]:.3f}<br>Close: %{customdata[3]:.3f}",
         "line": {
          "color": "orange"
         },
         "mode": "lines",
         "name": "Extra Coin",
         "type": "scatter",
         "x": [
          "2022-02-13T00:00:00",
          "2022-02-14T00:00:00",
          "2022-02-15T00:00:00",
          "2022-02-16T00:00:00",
          "2022-02-17T00:00:00",
          "2022-02-18T00:00:00",
          "2022-02-19T00:00:00",
          "2022-02-20T00:00:00",
          "2022-02-21T00:00:00",
          "2022-02-22T00:00:00",
          "2022-02-23T00:00:00",
          "2022-02-24T00:00:00",
          "2022-02-25T00:00:00",
          "2022-02-26T00:00:00",
          "2022-02-27T00:00:00",
          "2022-02-28T00:00:00",
          "2022-03-01T00:00:00",
          "2022-03-02T00:00:00",
          "2022-03-03T00:00:00",
          "2022-03-04T00:00:00",
          "2022-03-05T00:00:00",
          "2022-03-06T00:00:00",
          "2022-03-07T00:00:00",
          "2022-03-08T00:00:00",
          "2022-03-09T00:00:00",
          "2022-03-10T00:00:00",
          "2022-03-11T00:00:00",
          "2022-03-12T00:00:00",
          "2022-03-13T00:00:00",
          "2022-03-14T00:00:00",
          "2022-03-15T00:00:00",
          "2022-03-16T00:00:00",
          "2022-03-17T00:00:00",
          "2022-03-18T00:00:00",
          "2022-03-19T00:00:00",
          "2022-03-20T00:00:00",
          "2022-03-21T00:00:00",
          "2022-03-22T00:00:00",
          "2022-03-23T00:00:00",
          "2022-03-24T00:00:00",
          "2022-03-25T00:00:00",
          "2022-03-26T00:00:00",
          "2022-03-27T00:00:00",
          "2022-03-28T00:00:00",
          "2022-03-29T00:00:00",
          "2022-03-30T00:00:00",
          "2022-03-31T00:00:00",
          "2022-04-01T00:00:00",
          "2022-04-02T00:00:00",
          "2022-04-03T00:00:00",
          "2022-04-04T00:00:00",
          "2022-04-05T00:00:00",
          "2022-04-06T00:00:00",
          "2022-04-07T00:00:00",
          "2022-04-08T00:00:00",
          "2022-04-09T00:00:00",
          "2022-04-10T00:00:00",
          "2022-04-11T00:00:00",
          "2022-04-12T00:00:00",
          "2022-04-13T00:00:00",
          "2022-04-14T00:00:00",
          "2022-04-15T00:00:00",
          "2022-04-16T00:00:00",
          "2022-04-17T00:00:00",
          "2022-04-18T00:00:00",
          "2022-04-19T00:00:00",
          "2022-04-20T00:00:00",
          "2022-04-21T00:00:00",
          "2022-04-22T00:00:00",
          "2022-04-23T00:00:00",
          "2022-04-24T00:00:00",
          "2022-04-25T00:00:00",
          "2022-04-26T00:00:00",
          "2022-04-27T00:00:00",
          "2022-04-28T00:00:00",
          "2022-04-29T00:00:00",
          "2022-04-30T00:00:00",
          "2022-05-01T00:00:00",
          "2022-05-02T00:00:00",
          "2022-05-03T00:00:00",
          "2022-05-04T00:00:00",
          "2022-05-05T00:00:00",
          "2022-05-06T00:00:00",
          "2022-05-07T00:00:00",
          "2022-05-08T00:00:00",
          "2022-05-09T00:00:00",
          "2022-05-10T00:00:00",
          "2022-05-11T00:00:00",
          "2022-05-12T00:00:00",
          "2022-05-13T00:00:00",
          "2022-05-14T00:00:00",
          "2022-05-15T00:00:00",
          "2022-05-16T00:00:00",
          "2022-05-17T00:00:00",
          "2022-05-18T00:00:00",
          "2022-05-19T00:00:00",
          "2022-05-20T00:00:00",
          "2022-05-21T00:00:00",
          "2022-05-22T00:00:00",
          "2022-05-23T00:00:00"
         ],
         "y": [
          null,
          0.034202386560092224,
          0.08752200012310407,
          -0.02803770476752654,
          -0.08360869003212368,
          -0.03580931288306577,
          0.015890558794279697,
          -0.006505568536192441,
          -0.08556799497760315,
          0.04020809685511462,
          -0.01807196225670249,
          0.050551481985964264,
          0.038164529882728004,
          -0.02653662366000875,
          -0.05128059290556486,
          0.1637213801970585,
          -0.008709683923230682,
          0.02023321363645758,
          -0.05077450573813658,
          -0.07633746706132649,
          0.015885858020052046,
          -0.056952396708788044,
          -0.028531520254328258,
          0.0015182603693912888,
          0.0723034596211809,
          -0.059669551150389744,
          -0.026454255508604918,
          0.010017000195022163,
          -0.032098367900528224,
          0.0283427645549732,
          0.021949890371324,
          0.059653241135062984,
          -0.0003046424383059687,
          0.02213541463184243,
          0.028902875134394712,
          -0.04115307701401216,
          0.0016062950718502833,
          0.01978169410217867,
          0.050707805210441714,
          0.07487706472183309,
          -0.03488026865962157,
          0.03148326368973309,
          0.05227809709309983,
          -0.00578017138102338,
          0.049265425758104,
          0.08046861330080257,
          0.016255041063320874,
          0.09595090226498759,
          -0.016603848370715935,
          0.03461801048848745,
          -0.03189684447552288,
          -0.041917392830482014,
          -0.11018922381149432,
          0.05238265781400475,
          -0.07572306206893542,
          0.028887866240137283,
          -0.01089071333108671,
          -0.11099932713404503,
          0.03993679234596015,
          0.016412892362399623,
          -0.04089584870537022,
          0.005977436468998842,
          0.00935290075401718,
          -0.018068321804756482,
          0.01741696996406028,
          0.06287776445369464,
          -0.0284119717280642,
          -0.035269849229477956,
          -0.011437704432128326,
          0.0013157991519647805,
          -0.014974961708927315,
          0.020273338256823203,
          -0.0539813559615786,
          0.027110665475685858,
          -0.0019632074070655703,
          -0.04251519107339896,
          -0.09483337262538394,
          0.05376963004364299,
          -0.02331278102449119,
          -0.01985178866630799,
          0.08071158665326639,
          -0.08811849277706019,
          -0.03347576741698588,
          -0.03400863209195493,
          -0.04764591019670095,
          -0.15887399257145063,
          0.05526343079846807,
          -0.24795950211474505,
          -0.1100809855412429,
          0.08750330280312468,
          0.07868684464460052,
          0.12198347687237354,
          -0.08781989566206017,
          0.06485356213829974,
          -0.12900366874700342,
          0.04939619537767004,
          -0.05124046389204928,
          0.015734675124553066,
          0.04843593792134793,
          -0.07010363532790231
         ]
        },
        {
         "mode": "lines",
         "name": "adx",
         "type": "scatter",
         "x": [
          "2022-02-13T00:00:00",
          "2022-02-14T00:00:00",
          "2022-02-15T00:00:00",
          "2022-02-16T00:00:00",
          "2022-02-17T00:00:00",
          "2022-02-18T00:00:00",
          "2022-02-19T00:00:00",
          "2022-02-20T00:00:00",
          "2022-02-21T00:00:00",
          "2022-02-22T00:00:00",
          "2022-02-23T00:00:00",
          "2022-02-24T00:00:00",
          "2022-02-25T00:00:00",
          "2022-02-26T00:00:00",
          "2022-02-27T00:00:00",
          "2022-02-28T00:00:00",
          "2022-03-01T00:00:00",
          "2022-03-02T00:00:00",
          "2022-03-03T00:00:00",
          "2022-03-04T00:00:00",
          "2022-03-05T00:00:00",
          "2022-03-06T00:00:00",
          "2022-03-07T00:00:00",
          "2022-03-08T00:00:00",
          "2022-03-09T00:00:00",
          "2022-03-10T00:00:00",
          "2022-03-11T00:00:00",
          "2022-03-12T00:00:00",
          "2022-03-13T00:00:00",
          "2022-03-14T00:00:00",
          "2022-03-15T00:00:00",
          "2022-03-16T00:00:00",
          "2022-03-17T00:00:00",
          "2022-03-18T00:00:00",
          "2022-03-19T00:00:00",
          "2022-03-20T00:00:00",
          "2022-03-21T00:00:00",
          "2022-03-22T00:00:00",
          "2022-03-23T00:00:00",
          "2022-03-24T00:00:00",
          "2022-03-25T00:00:00",
          "2022-03-26T00:00:00",
          "2022-03-27T00:00:00",
          "2022-03-28T00:00:00",
          "2022-03-29T00:00:00",
          "2022-03-30T00:00:00",
          "2022-03-31T00:00:00",
          "2022-04-01T00:00:00",
          "2022-04-02T00:00:00",
          "2022-04-03T00:00:00",
          "2022-04-04T00:00:00",
          "2022-04-05T00:00:00",
          "2022-04-06T00:00:00",
          "2022-04-07T00:00:00",
          "2022-04-08T00:00:00",
          "2022-04-09T00:00:00",
          "2022-04-10T00:00:00",
          "2022-04-11T00:00:00",
          "2022-04-12T00:00:00",
          "2022-04-13T00:00:00",
          "2022-04-14T00:00:00",
          "2022-04-15T00:00:00",
          "2022-04-16T00:00:00",
          "2022-04-17T00:00:00",
          "2022-04-18T00:00:00",
          "2022-04-19T00:00:00",
          "2022-04-20T00:00:00",
          "2022-04-21T00:00:00",
          "2022-04-22T00:00:00",
          "2022-04-23T00:00:00",
          "2022-04-24T00:00:00",
          "2022-04-25T00:00:00",
          "2022-04-26T00:00:00",
          "2022-04-27T00:00:00",
          "2022-04-28T00:00:00",
          "2022-04-29T00:00:00",
          "2022-04-30T00:00:00",
          "2022-05-01T00:00:00",
          "2022-05-02T00:00:00",
          "2022-05-03T00:00:00",
          "2022-05-04T00:00:00",
          "2022-05-05T00:00:00",
          "2022-05-06T00:00:00",
          "2022-05-07T00:00:00",
          "2022-05-08T00:00:00",
          "2022-05-09T00:00:00",
          "2022-05-10T00:00:00",
          "2022-05-11T00:00:00",
          "2022-05-12T00:00:00",
          "2022-05-13T00:00:00",
          "2022-05-14T00:00:00",
          "2022-05-15T00:00:00",
          "2022-05-16T00:00:00",
          "2022-05-17T00:00:00",
          "2022-05-18T00:00:00",
          "2022-05-19T00:00:00",
          "2022-05-20T00:00:00",
          "2022-05-21T00:00:00",
          "2022-05-22T00:00:00",
          "2022-05-23T00:00:00"
         ],
         "xaxis": "x2",
         "y": [
          26.43946374319758,
          25.376456169780052,
          25.20579363506401,
          25.046508602662367,
          23.58610798904127,
          22.49041895349551,
          21.4677758536528,
          21.1977913572673,
          21.382045401039488,
          21.71933269388649,
          21.5740763931954,
          22.37060734875751,
          22.73149043792355,
          22.851585818356906,
          23.438432780265014,
          22.061897791045237,
          20.79877319313421,
          19.727320829881275,
          18.704489239289977,
          18.771668168370034,
          18.842874875992102,
          19.08212014540187,
          19.59027346237748,
          20.064549891554712,
          19.040610185232648,
          18.08493312599872,
          17.38166227992956,
          16.725276156931677,
          16.53387764920328,
          16.08177108218082,
          15.632292572485055,
          14.801112591468511,
          14.025344609186403,
          13.731293565888304,
          13.513509344779777,
          12.96046400588745,
          12.248863459594064,
          12.424879144805198,
          12.589160451002256,
          13.303722828598632,
          14.324044737203575,
          15.276345185234858,
          16.929349297136163,
          18.84713193299957,
          20.637062393138752,
          22.02194726038243,
          22.2997826434239,
          21.907222343586454,
          21.727429897994796,
          21.69012890411016,
          21.372688713684827,
          21.23590030688238,
          20.020841437963025,
          19.04499170672609,
          18.512990471970053,
          18.016474700856172,
          17.155666885687392,
          17.65086906111004,
          18.113057758171177,
          17.984452255095754,
          17.849693073408464,
          17.723917837166994,
          17.593980747433402,
          17.739366551684046,
          18.373784745168205,
          18.379989857063137,
          18.01790716688553,
          18.20167441014535,
          18.765962425474672,
          19.29263123978204,
          19.849478915598162,
          20.839138031863886,
          21.981437939254242,
          23.047584519485238,
          23.125096124424267,
          23.599972221474037,
          24.327030728816524,
          25.06438847628063,
          25.2618790432495,
          25.778400618513636,
          25.002077661132983,
          25.32523550436901,
          25.803019352362575,
          26.497102119668785,
          27.58653341346489,
          29.64334672649013,
          31.64046383116226,
          33.85748742716667,
          36.221378648687285,
          37.72733929090484,
          39.149052930353065,
          39.61385704477352,
          40.12342897468201,
          40.599029442596596,
          41.287032227002925,
          41.93240515657963,
          42.318692491512365,
          42.67922733744959,
          42.218628141029974,
          41.91765829693888
         ],
         "yaxis": "y2"
        },
        {
         "mode": "lines",
         "name": "slowk",
         "type": "scatter",
         "x": [
          "2022-02-13T00:00:00",
          "2022-02-14T00:00:00",
          "2022-02-15T00:00:00",
          "2022-02-16T00:00:00",
          "2022-02-17T00:00:00",
          "2022-02-18T00:00:00",
          "2022-02-19T00:00:00",
          "2022-02-20T00:00:00",
          "2022-02-21T00:00:00",
          "2022-02-22T00:00:00",
          "2022-02-23T00:00:00",
          "2022-02-24T00:00:00",
          "2022-02-25T00:00:00",
          "2022-02-26T00:00:00",
          "2022-02-27T00:00:00",
          "2022-02-28T00:00:00",
          "2022-03-01T00:00:00",
          "2022-03-02T00:00:00",
          "2022-03-03T00:00:00",
          "2022-03-04T00:00:00",
          "2022-03-05T00:00:00",
          "2022-03-06T00:00:00",
          "2022-03-07T00:00:00",
          "2022-03-08T00:00:00",
          "2022-03-09T00:00:00",
          "2022-03-10T00:00:00",
          "2022-03-11T00:00:00",
          "2022-03-12T00:00:00",
          "2022-03-13T00:00:00",
          "2022-03-14T00:00:00",
          "2022-03-15T00:00:00",
          "2022-03-16T00:00:00",
          "2022-03-17T00:00:00",
          "2022-03-18T00:00:00",
          "2022-03-19T00:00:00",
          "2022-03-20T00:00:00",
          "2022-03-21T00:00:00",
          "2022-03-22T00:00:00",
          "2022-03-23T00:00:00",
          "2022-03-24T00:00:00",
          "2022-03-25T00:00:00",
          "2022-03-26T00:00:00",
          "2022-03-27T00:00:00",
          "2022-03-28T00:00:00",
          "2022-03-29T00:00:00",
          "2022-03-30T00:00:00",
          "2022-03-31T00:00:00",
          "2022-04-01T00:00:00",
          "2022-04-02T00:00:00",
          "2022-04-03T00:00:00",
          "2022-04-04T00:00:00",
          "2022-04-05T00:00:00",
          "2022-04-06T00:00:00",
          "2022-04-07T00:00:00",
          "2022-04-08T00:00:00",
          "2022-04-09T00:00:00",
          "2022-04-10T00:00:00",
          "2022-04-11T00:00:00",
          "2022-04-12T00:00:00",
          "2022-04-13T00:00:00",
          "2022-04-14T00:00:00",
          "2022-04-15T00:00:00",
          "2022-04-16T00:00:00",
          "2022-04-17T00:00:00",
          "2022-04-18T00:00:00",
          "2022-04-19T00:00:00",
          "2022-04-20T00:00:00",
          "2022-04-21T00:00:00",
          "2022-04-22T00:00:00",
          "2022-04-23T00:00:00",
          "2022-04-24T00:00:00",
          "2022-04-25T00:00:00",
          "2022-04-26T00:00:00",
          "2022-04-27T00:00:00",
          "2022-04-28T00:00:00",
          "2022-04-29T00:00:00",
          "2022-04-30T00:00:00",
          "2022-05-01T00:00:00",
          "2022-05-02T00:00:00",
          "2022-05-03T00:00:00",
          "2022-05-04T00:00:00",
          "2022-05-05T00:00:00",
          "2022-05-06T00:00:00",
          "2022-05-07T00:00:00",
          "2022-05-08T00:00:00",
          "2022-05-09T00:00:00",
          "2022-05-10T00:00:00",
          "2022-05-11T00:00:00",
          "2022-05-12T00:00:00",
          "2022-05-13T00:00:00",
          "2022-05-14T00:00:00",
          "2022-05-15T00:00:00",
          "2022-05-16T00:00:00",
          "2022-05-17T00:00:00",
          "2022-05-18T00:00:00",
          "2022-05-19T00:00:00",
          "2022-05-20T00:00:00",
          "2022-05-21T00:00:00",
          "2022-05-22T00:00:00",
          "2022-05-23T00:00:00"
         ],
         "xaxis": "x3",
         "y": [
          12.06928107725817,
          14.029615099548034,
          42.90559400414312,
          65.34393668971764,
          59.941041335756246,
          30.242113223877595,
          7.996048095845697,
          7.460610740749833,
          5.432856525608018,
          15.712637848975442,
          20.920517270793514,
          43.15008992570361,
          60.31014608431593,
          81.38282425904517,
          78.11059200558294,
          78.76005358358657,
          82.22585901554218,
          91.09875400317567,
          81.92257951871387,
          57.67458808908544,
          32.56407127352343,
          11.451145936042417,
          8.263396289078129,
          14.397633146473146,
          43.62824322026898,
          53.617339317509696,
          54.01210665866258,
          30.76919910679959,
          17.68209469640184,
          23.16424080362961,
          39.184506403995805,
          68.83105732973739,
          82.32668389356576,
          89.72743146658706,
          91.51167523067267,
          85.22506446492197,
          67.64067509999744,
          59.64243228894939,
          67.31216527298942,
          86.16489043031703,
          90.20262128252621,
          89.24412518332362,
          90.84145303251451,
          89.88735146672423,
          89.26411991694266,
          80.60393084968509,
          63.292286051930596,
          51.68355328816748,
          40.55840749389932,
          51.51588130979855,
          58.315265280464295,
          58.0188791600153,
          37.105306963880665,
          17.868804217163074,
          5.371435885115319,
          9.323076522473277,
          6.52601806172375,
          6.914534090301314,
          8.408606559762942,
          21.57928747561118,
          25.16728782596732,
          32.51226423839381,
          34.318060447673524,
          31.383947101129625,
          44.25871053191091,
          58.94538747312395,
          83.22250584786822,
          71.99574601538315,
          48.86029328151951,
          24.42994067934065,
          12.034891799132838,
          19.255883625370974,
          20.33879653544466,
          34.171218184956764,
          40.914804330756745,
          46.77685722176226,
          30.984495637218625,
          19.69935760373579,
          22.8779714146195,
          25.077974483153227,
          44.49724901298072,
          38.69758452904251,
          40.52374267993099,
          13.902551953595955,
          8.980412813130046,
          4.7670955496037655,
          6.377798020088214,
          8.58777173531241,
          18.4112302023314,
          25.44967988797509,
          42.25955169342624,
          61.60025794813867,
          72.79766358701481,
          74.82442523661808,
          45.88239044327732,
          42.85424787743367,
          27.123670048815487,
          39.043883409223845,
          45.97394647173727,
          46.30561249390149
         ],
         "yaxis": "y3"
        },
        {
         "mode": "lines",
         "name": "slowd",
         "type": "scatter",
         "x": [
          "2022-02-13T00:00:00",
          "2022-02-14T00:00:00",
          "2022-02-15T00:00:00",
          "2022-02-16T00:00:00",
          "2022-02-17T00:00:00",
          "2022-02-18T00:00:00",
          "2022-02-19T00:00:00",
          "2022-02-20T00:00:00",
          "2022-02-21T00:00:00",
          "2022-02-22T00:00:00",
          "2022-02-23T00:00:00",
          "2022-02-24T00:00:00",
          "2022-02-25T00:00:00",
          "2022-02-26T00:00:00",
          "2022-02-27T00:00:00",
          "2022-02-28T00:00:00",
          "2022-03-01T00:00:00",
          "2022-03-02T00:00:00",
          "2022-03-03T00:00:00",
          "2022-03-04T00:00:00",
          "2022-03-05T00:00:00",
          "2022-03-06T00:00:00",
          "2022-03-07T00:00:00",
          "2022-03-08T00:00:00",
          "2022-03-09T00:00:00",
          "2022-03-10T00:00:00",
          "2022-03-11T00:00:00",
          "2022-03-12T00:00:00",
          "2022-03-13T00:00:00",
          "2022-03-14T00:00:00",
          "2022-03-15T00:00:00",
          "2022-03-16T00:00:00",
          "2022-03-17T00:00:00",
          "2022-03-18T00:00:00",
          "2022-03-19T00:00:00",
          "2022-03-20T00:00:00",
          "2022-03-21T00:00:00",
          "2022-03-22T00:00:00",
          "2022-03-23T00:00:00",
          "2022-03-24T00:00:00",
          "2022-03-25T00:00:00",
          "2022-03-26T00:00:00",
          "2022-03-27T00:00:00",
          "2022-03-28T00:00:00",
          "2022-03-29T00:00:00",
          "2022-03-30T00:00:00",
          "2022-03-31T00:00:00",
          "2022-04-01T00:00:00",
          "2022-04-02T00:00:00",
          "2022-04-03T00:00:00",
          "2022-04-04T00:00:00",
          "2022-04-05T00:00:00",
          "2022-04-06T00:00:00",
          "2022-04-07T00:00:00",
          "2022-04-08T00:00:00",
          "2022-04-09T00:00:00",
          "2022-04-10T00:00:00",
          "2022-04-11T00:00:00",
          "2022-04-12T00:00:00",
          "2022-04-13T00:00:00",
          "2022-04-14T00:00:00",
          "2022-04-15T00:00:00",
          "2022-04-16T00:00:00",
          "2022-04-17T00:00:00",
          "2022-04-18T00:00:00",
          "2022-04-19T00:00:00",
          "2022-04-20T00:00:00",
          "2022-04-21T00:00:00",
          "2022-04-22T00:00:00",
          "2022-04-23T00:00:00",
          "2022-04-24T00:00:00",
          "2022-04-25T00:00:00",
          "2022-04-26T00:00:00",
          "2022-04-27T00:00:00",
          "2022-04-28T00:00:00",
          "2022-04-29T00:00:00",
          "2022-04-30T00:00:00",
          "2022-05-01T00:00:00",
          "2022-05-02T00:00:00",
          "2022-05-03T00:00:00",
          "2022-05-04T00:00:00",
          "2022-05-05T00:00:00",
          "2022-05-06T00:00:00",
          "2022-05-07T00:00:00",
          "2022-05-08T00:00:00",
          "2022-05-09T00:00:00",
          "2022-05-10T00:00:00",
          "2022-05-11T00:00:00",
          "2022-05-12T00:00:00",
          "2022-05-13T00:00:00",
          "2022-05-14T00:00:00",
          "2022-05-15T00:00:00",
          "2022-05-16T00:00:00",
          "2022-05-17T00:00:00",
          "2022-05-18T00:00:00",
          "2022-05-19T00:00:00",
          "2022-05-20T00:00:00",
          "2022-05-21T00:00:00",
          "2022-05-22T00:00:00",
          "2022-05-23T00:00:00"
         ],
         "xaxis": "x3",
         "y": [
          29.20596797811832,
          17.553930876548126,
          23.00149672698313,
          40.75971526446962,
          56.06352400987236,
          51.84236374978385,
          32.72640088515987,
          15.23292402015773,
          6.963171787401204,
          9.535368371777786,
          14.022003881792346,
          26.59441501515754,
          41.46025109360437,
          61.61435342302159,
          73.26785411631471,
          79.41782328273825,
          79.69883486823727,
          84.02822220076818,
          85.08239751247727,
          76.89864053699169,
          57.38707962710762,
          33.89660176621713,
          17.426204499548028,
          11.3707251238646,
          22.096424218606785,
          37.21440522808397,
          50.41922973214712,
          46.13288169432399,
          34.154466820621366,
          23.871844868943707,
          26.676947301342448,
          43.726601512454295,
          63.447415875766346,
          80.29505756329677,
          87.85526353027518,
          88.82139038739392,
          81.45913826519738,
          70.83605728462295,
          64.86509088731209,
          71.03982933075196,
          81.22655899527757,
          88.5372122987223,
          90.09606649945478,
          89.99097656085412,
          89.99764147206048,
          86.585134077784,
          77.7201122728528,
          65.19325672992774,
          51.84474894466581,
          47.91928069728846,
          50.1298513613874,
          55.95000858342606,
          51.14648380145343,
          37.664330113686354,
          20.115182355386356,
          10.854438874917228,
          7.073510156437454,
          7.587876224832786,
          7.283052903929341,
          12.300809375225151,
          18.385060620447153,
          26.419613179990776,
          30.665870837344887,
          32.738090595732324,
          36.653572693571356,
          44.86268170205483,
          62.14220128430103,
          71.38787977879178,
          68.02618171492364,
          48.428659992081116,
          28.441708586664344,
          18.57357203461483,
          17.209857319982834,
          24.588632781924144,
          31.808273017052738,
          40.62095991249194,
          39.558719063245896,
          32.48690348757225,
          24.52060821852466,
          22.551767833836195,
          30.817731636917838,
          36.09093600839217,
          41.23952540731809,
          31.04129305418984,
          21.135569148885686,
          9.216686772109945,
          6.708435460940699,
          6.577555101668153,
          11.125599985910696,
          17.482893941872987,
          28.706820594577596,
          43.103163176513355,
          58.885824409526585,
          69.74078225725721,
          64.5014930889701,
          54.52035451910971,
          38.62010278984218,
          36.34060044515768,
          37.38049997659221,
          43.77448079162088
         ],
         "yaxis": "y3"
        },
        {
         "mode": "lines",
         "name": "rsi",
         "type": "scatter",
         "x": [
          "2022-02-13T00:00:00",
          "2022-02-14T00:00:00",
          "2022-02-15T00:00:00",
          "2022-02-16T00:00:00",
          "2022-02-17T00:00:00",
          "2022-02-18T00:00:00",
          "2022-02-19T00:00:00",
          "2022-02-20T00:00:00",
          "2022-02-21T00:00:00",
          "2022-02-22T00:00:00",
          "2022-02-23T00:00:00",
          "2022-02-24T00:00:00",
          "2022-02-25T00:00:00",
          "2022-02-26T00:00:00",
          "2022-02-27T00:00:00",
          "2022-02-28T00:00:00",
          "2022-03-01T00:00:00",
          "2022-03-02T00:00:00",
          "2022-03-03T00:00:00",
          "2022-03-04T00:00:00",
          "2022-03-05T00:00:00",
          "2022-03-06T00:00:00",
          "2022-03-07T00:00:00",
          "2022-03-08T00:00:00",
          "2022-03-09T00:00:00",
          "2022-03-10T00:00:00",
          "2022-03-11T00:00:00",
          "2022-03-12T00:00:00",
          "2022-03-13T00:00:00",
          "2022-03-14T00:00:00",
          "2022-03-15T00:00:00",
          "2022-03-16T00:00:00",
          "2022-03-17T00:00:00",
          "2022-03-18T00:00:00",
          "2022-03-19T00:00:00",
          "2022-03-20T00:00:00",
          "2022-03-21T00:00:00",
          "2022-03-22T00:00:00",
          "2022-03-23T00:00:00",
          "2022-03-24T00:00:00",
          "2022-03-25T00:00:00",
          "2022-03-26T00:00:00",
          "2022-03-27T00:00:00",
          "2022-03-28T00:00:00",
          "2022-03-29T00:00:00",
          "2022-03-30T00:00:00",
          "2022-03-31T00:00:00",
          "2022-04-01T00:00:00",
          "2022-04-02T00:00:00",
          "2022-04-03T00:00:00",
          "2022-04-04T00:00:00",
          "2022-04-05T00:00:00",
          "2022-04-06T00:00:00",
          "2022-04-07T00:00:00",
          "2022-04-08T00:00:00",
          "2022-04-09T00:00:00",
          "2022-04-10T00:00:00",
          "2022-04-11T00:00:00",
          "2022-04-12T00:00:00",
          "2022-04-13T00:00:00",
          "2022-04-14T00:00:00",
          "2022-04-15T00:00:00",
          "2022-04-16T00:00:00",
          "2022-04-17T00:00:00",
          "2022-04-18T00:00:00",
          "2022-04-19T00:00:00",
          "2022-04-20T00:00:00",
          "2022-04-21T00:00:00",
          "2022-04-22T00:00:00",
          "2022-04-23T00:00:00",
          "2022-04-24T00:00:00",
          "2022-04-25T00:00:00",
          "2022-04-26T00:00:00",
          "2022-04-27T00:00:00",
          "2022-04-28T00:00:00",
          "2022-04-29T00:00:00",
          "2022-04-30T00:00:00",
          "2022-05-01T00:00:00",
          "2022-05-02T00:00:00",
          "2022-05-03T00:00:00",
          "2022-05-04T00:00:00",
          "2022-05-05T00:00:00",
          "2022-05-06T00:00:00",
          "2022-05-07T00:00:00",
          "2022-05-08T00:00:00",
          "2022-05-09T00:00:00",
          "2022-05-10T00:00:00",
          "2022-05-11T00:00:00",
          "2022-05-12T00:00:00",
          "2022-05-13T00:00:00",
          "2022-05-14T00:00:00",
          "2022-05-15T00:00:00",
          "2022-05-16T00:00:00",
          "2022-05-17T00:00:00",
          "2022-05-18T00:00:00",
          "2022-05-19T00:00:00",
          "2022-05-20T00:00:00",
          "2022-05-21T00:00:00",
          "2022-05-22T00:00:00",
          "2022-05-23T00:00:00"
         ],
         "xaxis": "x4",
         "y": [
          53.293763262425934,
          54.879504211326115,
          61.94732994513781,
          58.89802272323885,
          45.501835275022415,
          43.916943994435734,
          44.290814000275965,
          39.110734027680685,
          35.53887546709479,
          40.717891580847215,
          38.041704681645776,
          42.296473144054744,
          45.6963912455988,
          45.342261137172954,
          40.98829762069931,
          57.97806457312434,
          60.55516597332783,
          59.11527841482416,
          54.37753165669263,
          45.569454474207525,
          46.30884607859683,
          43.9250119902656,
          43.058140619789505,
          45.24231072795836,
          54.275089828481995,
          47.66772206467326,
          46.14841333271241,
          46.45871957342894,
          43.84148747252749,
          49.13285747857287,
          48.25362888811671,
          53.19312003168991,
          52.61908011571887,
          54.91945628268628,
          55.96927046239204,
          52.7814264784274,
          52.20754658895525,
          56.067360323222694,
          57.597523927094485,
          60.541625205341575,
          61.57946598544329,
          61.99947879083864,
          67.7588543131887,
          68.43828665170348,
          69.2019908256663,
          67.12505139613287,
          59.848482683564356,
          62.00015424783025,
          60.08389480544566,
          61.87246320491487,
          62.39469799982066,
          57.10832690638159,
          47.59323932299471,
          48.75029522704198,
          44.44650901211611,
          46.50383199477785,
          44.45459503891433,
          36.41624201700686,
          39.07628407236999,
          43.4311029925994,
          39.81925216710188,
          42.39538579347426,
          41.99338576421853,
          39.776617763066064,
          44.68184012964113,
          47.477342207646785,
          46.9945286161759,
          43.84259715635582,
          41.09834481326728,
          40.22905569118264,
          40.166463652298646,
          45.33503472268423,
          37.18858016559763,
          42.50242948742524,
          44.87142408195555,
          40.92393287805148,
          38.15857914718022,
          41.71483897547697,
          42.000236730533395,
          39.331995377537346,
          48.15725489068275,
          38.52891974671202,
          37.16707930281389,
          35.79928306161699,
          32.38159005851162,
          25.562730058910816,
          28.668106767272487,
          25.404364917874002,
          25.88699783905028,
          26.956772497827348,
          30.68343800924017,
          35.84373749673219,
          32.71742241331945,
          35.08532154716942,
          31.487988562078222,
          37.867254206381276,
          35.40011685784629,
          36.324104910986854,
          39.8727555575762,
          36.84976816034368
         ],
         "yaxis": "y4"
        },
        {
         "customdata": [
          [
           42236.56640625,
           42693.0546875,
           41950.94140625,
           42197.515625
          ],
          [
           42157.3984375,
           42775.77734375,
           41681.95703125,
           42586.91796875
          ],
          [
           42586.46484375,
           44667.21875,
           42491.03515625,
           44575.203125
          ],
          [
           44578.27734375,
           44578.27734375,
           43456.69140625,
           43961.859375
          ],
          [
           43937.0703125,
           44132.97265625,
           40249.37109375,
           40538.01171875
          ],
          [
           40552.1328125,
           40929.15234375,
           39637.6171875,
           40030.9765625
          ],
          [
           40026.0234375,
           40418.87890625,
           39713.05859375,
           40122.15625
          ],
          [
           40118.1015625,
           40119.890625,
           38112.8125,
           38431.37890625
          ],
          [
           38423.2109375,
           39394.4375,
           36950.4765625,
           37075.28125
          ],
          [
           37068.76953125,
           38359.85546875,
           36488.93359375,
           38286.02734375
          ],
          [
           38285.28125,
           39122.39453125,
           37201.81640625,
           37296.5703125
          ],
          [
           37278.56640625,
           38968.83984375,
           34459.21875,
           38332.609375
          ],
          [
           38333.74609375,
           39630.32421875,
           38111.34375,
           39214.21875
          ],
          [
           39213.08203125,
           40005.34765625,
           38702.53515625,
           39105.1484375
          ],
          [
           39098.69921875,
           39778.94140625,
           37268.9765625,
           37709.78515625
          ],
          [
           37706,
           43760.45703125,
           37518.21484375,
           43193.234375
          ],
          [
           43194.50390625,
           44793.6015625,
           42952.5859375,
           44354.63671875
          ],
          [
           44357.6171875,
           45077.578125,
           43432.8515625,
           43924.1171875
          ],
          [
           43925.1953125,
           44021.578125,
           41914.75,
           42451.7890625
          ],
          [
           42458.140625,
           42479.61328125,
           38805.84765625,
           39137.60546875
          ],
          [
           39148.44921875,
           39566.3359375,
           38777.03515625,
           39400.5859375
          ],
          [
           39404.19921875,
           39640.17578125,
           38211.6484375,
           38419.984375
          ],
          [
           38429.3046875,
           39430.2265625,
           37260.203125,
           38062.0390625
          ],
          [
           38059.90234375,
           39304.44140625,
           37957.38671875,
           38737.26953125
          ],
          [
           38742.81640625,
           42465.671875,
           38706.09375,
           41982.92578125
          ],
          [
           41974.0703125,
           42004.7265625,
           38832.94140625,
           39437.4609375
          ],
          [
           39439.96875,
           40081.6796875,
           38347.43359375,
           38794.97265625
          ],
          [
           38794.46484375,
           39308.59765625,
           38772.53515625,
           38904.01171875
          ],
          [
           38884.7265625,
           39209.3515625,
           37728.14453125,
           37849.6640625
          ],
          [
           37846.31640625,
           39742.5,
           37680.734375,
           39666.75390625
          ],
          [
           39664.25,
           39794.62890625,
           38310.2109375,
           39338.78515625
          ],
          [
           39335.5703125,
           41465.453125,
           39022.34765625,
           41143.9296875
          ],
          [
           41140.84375,
           41287.53515625,
           40662.87109375,
           40951.37890625
          ],
          [
           40944.83984375,
           42195.74609375,
           40302.3984375,
           41801.15625
          ],
          [
           41794.6484375,
           42316.5546875,
           41602.66796875,
           42190.65234375
          ],
          [
           42191.40625,
           42241.1640625,
           41004.7578125,
           41247.82421875
          ],
          [
           41246.1328125,
           41454.41015625,
           40668.04296875,
           41077.99609375
          ],
          [
           41074.10546875,
           43124.70703125,
           40948.28125,
           42358.80859375
          ],
          [
           42364.37890625,
           42893.5078125,
           41877.5078125,
           42892.95703125
          ],
          [
           42886.65234375,
           44131.85546875,
           42726.1640625,
           43960.93359375
          ],
          [
           43964.546875,
           44999.4921875,
           43706.28515625,
           44348.73046875
          ],
          [
           44349.859375,
           44735.99609375,
           44166.2734375,
           44500.828125
          ],
          [
           44505.35546875,
           46827.546875,
           44437.29296875,
           46820.4921875
          ],
          [
           46821.8515625,
           48086.8359375,
           46690.203125,
           47128.00390625
          ],
          [
           47100.4375,
           48022.2890625,
           47100.4375,
           47465.73046875
          ],
          [
           47456.8984375,
           47655.1484375,
           46746.2109375,
           47062.6640625
          ],
          [
           47062.1484375,
           47512.02734375,
           45390.5390625,
           45538.67578125
          ],
          [
           45554.1640625,
           46616.2421875,
           44403.140625,
           46281.64453125
          ],
          [
           46285.5,
           47028.28125,
           45782.51171875,
           45868.94921875
          ],
          [
           45859.12890625,
           47313.4765625,
           45634.10546875,
           46453.56640625
          ],
          [
           46445.2734375,
           46791.08984375,
           45235.81640625,
           46622.67578125
          ],
          [
           46624.5078125,
           47106.140625,
           45544.80859375,
           45555.9921875
          ],
          [
           45544.35546875,
           45544.35546875,
           43193.953125,
           43206.73828125
          ],
          [
           43207.5,
           43860.69921875,
           42899.90625,
           43503.84765625
          ],
          [
           43505.13671875,
           43903.01953125,
           42183.2890625,
           42287.6640625
          ],
          [
           42282.078125,
           42786.81640625,
           42183.25390625,
           42782.13671875
          ],
          [
           42781.08984375,
           43376.37890625,
           42021.20703125,
           42207.671875
          ],
          [
           42201.0390625,
           42424.58984375,
           39373.05859375,
           39521.90234375
          ],
          [
           39533.71484375,
           40617.5859375,
           39388.328125,
           40127.18359375
          ],
          [
           40123.5703125,
           41430.0546875,
           39712.74609375,
           41166.73046875
          ],
          [
           41160.21875,
           41451.48046875,
           39695.74609375,
           39935.515625
          ],
          [
           39939.40234375,
           40617.72265625,
           39866.83203125,
           40553.46484375
          ],
          [
           40552.31640625,
           40633.6796875,
           40078.42578125,
           40424.484375
          ],
          [
           40417.77734375,
           40570.7265625,
           39620.89453125,
           39716.953125
          ],
          [
           39721.203125,
           40986.3203125,
           38696.19140625,
           40826.21484375
          ],
          [
           40828.17578125,
           41672.9609375,
           40618.6328125,
           41502.75
          ],
          [
           41501.74609375,
           42126.30078125,
           40961.09765625,
           41374.37890625
          ],
          [
           41371.515625,
           42893.58203125,
           40063.828125,
           40527.36328125
          ],
          [
           40525.86328125,
           40777.7578125,
           39315.41796875,
           39740.3203125
          ],
          [
           39738.72265625,
           39935.859375,
           39352.203125,
           39486.73046875
          ],
          [
           39478.375,
           39845.92578125,
           39233.5390625,
           39469.29296875
          ],
          [
           39472.60546875,
           40491.75390625,
           38338.37890625,
           40458.30859375
          ],
          [
           40448.421875,
           40713.890625,
           37884.984375,
           38117.4609375
          ],
          [
           38120.30078125,
           39397.91796875,
           37997.3125,
           39241.12109375
          ],
          [
           39241.4296875,
           40269.46484375,
           38941.421875,
           39773.828125
          ],
          [
           39768.6171875,
           39887.26953125,
           38235.53515625,
           38609.82421875
          ],
          [
           38605.859375,
           38771.2109375,
           37697.94140625,
           37714.875
          ],
          [
           37713.265625,
           38627.859375,
           37585.7890625,
           38469.09375
          ],
          [
           38472.1875,
           39074.97265625,
           38156.5625,
           38529.328125
          ],
          [
           38528.109375,
           38629.99609375,
           37585.62109375,
           37750.453125
          ],
          [
           37748.01171875,
           39902.94921875,
           37732.05859375,
           39698.37109375
          ],
          [
           39695.74609375,
           39789.28125,
           35856.515625,
           36575.140625
          ],
          [
           36573.18359375,
           36624.359375,
           35482.1328125,
           36040.921875
          ],
          [
           36042.50390625,
           36129.92578125,
           34940.82421875,
           35501.953125
          ],
          [
           35502.94140625,
           35502.94140625,
           33878.96484375,
           34059.265625
          ],
          [
           34060.015625,
           34222.07421875,
           30296.953125,
           30296.953125
          ],
          [
           30273.654296875,
           32596.30859375,
           29944.802734375,
           31022.90625
          ],
          [
           31016.18359375,
           32013.40234375,
           28170.4140625,
           28936.35546875
          ],
          [
           28936.734375,
           30032.439453125,
           26350.490234375,
           29047.751953125
          ],
          [
           29030.91015625,
           30924.802734375,
           28782.330078125,
           29283.103515625
          ],
          [
           29285.642578125,
           30192.802734375,
           28702.91015625,
           30101.265625
          ],
          [
           30098.5859375,
           31308.19140625,
           29527.740234375,
           31305.11328125
          ],
          [
           31304.375,
           31305.341796875,
           29251.884765625,
           29862.91796875
          ],
          [
           29862.408203125,
           30694.490234375,
           29570.302734375,
           30425.857421875
          ],
          [
           30424.478515625,
           30618.716796875,
           28720.271484375,
           28720.271484375
          ],
          [
           28720.359375,
           30430.751953125,
           28708.955078125,
           30314.333984375
          ],
          [
           30311.119140625,
           30664.9765625,
           28793.60546875,
           29200.740234375
          ],
          [
           29199.859375,
           29588.869140625,
           29027.39453125,
           29432.2265625
          ],
          [
           29432.47265625,
           30425.861328125,
           29275.18359375,
           30323.72265625
          ],
          [
           30309.396484375,
           30590.5859375,
           28975.560546875,
           29098.91015625
          ]
         ],
         "hovertemplate": "Percentual Change: %{y}<br>Date: %{x}<br>Open: %{customdata[0]:.3f}<br>High: %{customdata[1]:.3f}<br>Low: %{customdata[2]:.3f}<br>Close: %{customdata[3]:.3f}",
         "line": {
          "color": "indigo"
         },
         "mode": "lines",
         "name": "bb_low",
         "type": "scatter",
         "x": [
          "2022-02-13T00:00:00",
          "2022-02-14T00:00:00",
          "2022-02-15T00:00:00",
          "2022-02-16T00:00:00",
          "2022-02-17T00:00:00",
          "2022-02-18T00:00:00",
          "2022-02-19T00:00:00",
          "2022-02-20T00:00:00",
          "2022-02-21T00:00:00",
          "2022-02-22T00:00:00",
          "2022-02-23T00:00:00",
          "2022-02-24T00:00:00",
          "2022-02-25T00:00:00",
          "2022-02-26T00:00:00",
          "2022-02-27T00:00:00",
          "2022-02-28T00:00:00",
          "2022-03-01T00:00:00",
          "2022-03-02T00:00:00",
          "2022-03-03T00:00:00",
          "2022-03-04T00:00:00",
          "2022-03-05T00:00:00",
          "2022-03-06T00:00:00",
          "2022-03-07T00:00:00",
          "2022-03-08T00:00:00",
          "2022-03-09T00:00:00",
          "2022-03-10T00:00:00",
          "2022-03-11T00:00:00",
          "2022-03-12T00:00:00",
          "2022-03-13T00:00:00",
          "2022-03-14T00:00:00",
          "2022-03-15T00:00:00",
          "2022-03-16T00:00:00",
          "2022-03-17T00:00:00",
          "2022-03-18T00:00:00",
          "2022-03-19T00:00:00",
          "2022-03-20T00:00:00",
          "2022-03-21T00:00:00",
          "2022-03-22T00:00:00",
          "2022-03-23T00:00:00",
          "2022-03-24T00:00:00",
          "2022-03-25T00:00:00",
          "2022-03-26T00:00:00",
          "2022-03-27T00:00:00",
          "2022-03-28T00:00:00",
          "2022-03-29T00:00:00",
          "2022-03-30T00:00:00",
          "2022-03-31T00:00:00",
          "2022-04-01T00:00:00",
          "2022-04-02T00:00:00",
          "2022-04-03T00:00:00",
          "2022-04-04T00:00:00",
          "2022-04-05T00:00:00",
          "2022-04-06T00:00:00",
          "2022-04-07T00:00:00",
          "2022-04-08T00:00:00",
          "2022-04-09T00:00:00",
          "2022-04-10T00:00:00",
          "2022-04-11T00:00:00",
          "2022-04-12T00:00:00",
          "2022-04-13T00:00:00",
          "2022-04-14T00:00:00",
          "2022-04-15T00:00:00",
          "2022-04-16T00:00:00",
          "2022-04-17T00:00:00",
          "2022-04-18T00:00:00",
          "2022-04-19T00:00:00",
          "2022-04-20T00:00:00",
          "2022-04-21T00:00:00",
          "2022-04-22T00:00:00",
          "2022-04-23T00:00:00",
          "2022-04-24T00:00:00",
          "2022-04-25T00:00:00",
          "2022-04-26T00:00:00",
          "2022-04-27T00:00:00",
          "2022-04-28T00:00:00",
          "2022-04-29T00:00:00",
          "2022-04-30T00:00:00",
          "2022-05-01T00:00:00",
          "2022-05-02T00:00:00",
          "2022-05-03T00:00:00",
          "2022-05-04T00:00:00",
          "2022-05-05T00:00:00",
          "2022-05-06T00:00:00",
          "2022-05-07T00:00:00",
          "2022-05-08T00:00:00",
          "2022-05-09T00:00:00",
          "2022-05-10T00:00:00",
          "2022-05-11T00:00:00",
          "2022-05-12T00:00:00",
          "2022-05-13T00:00:00",
          "2022-05-14T00:00:00",
          "2022-05-15T00:00:00",
          "2022-05-16T00:00:00",
          "2022-05-17T00:00:00",
          "2022-05-18T00:00:00",
          "2022-05-19T00:00:00",
          "2022-05-20T00:00:00",
          "2022-05-21T00:00:00",
          "2022-05-22T00:00:00",
          "2022-05-23T00:00:00"
         ],
         "y": [
          null,
          0.016072495224080052,
          0.012370513254620574,
          0.015002861811395318,
          0.028683336938438497,
          0.029602761835153757,
          -0.008163941941516373,
          -0.02081315226884828,
          -0.031566120858418256,
          -0.0163892079608684,
          -0.01944892304586543,
          -0.007796622496642924,
          -0.002888993324585476,
          -0.00410946034504911,
          -0.009489296136779957,
          -0.0024596066388890003,
          -0.005861032298208224,
          0.002843764026692286,
          0.004661120596943569,
          -0.0029131406536738735,
          -0.0013703925253136795,
          -0.004708227695896405,
          -0.0015894389829912425,
          0.008266568629928583,
          0.005960578996174748,
          0.010425082779097261,
          0.0021846198139066075,
          -0.0012059297853904694,
          -0.005957128123173061,
          0.008752137765197565,
          0.00041842595489138823,
          0.012119801064096603,
          0.014026328602587457,
          0.0033921338781677246,
          -0.002634521003881729,
          0.0010777456871791102,
          0.006400008614897867,
          0.007821965251141316,
          0.004212717391390619,
          -0.006568481942244575,
          -0.0007597646393322499,
          0.0063236721202122315,
          -0.0011646839009206156,
          0.01394632621529146,
          0.005693035179981543,
          0.01574565360996205,
          0.010550692716583487,
          0.013167513746251247,
          0.01062212008451957,
          0.009740144876830836,
          0.018653609891218004,
          0.024567567253791056,
          0.00633366629599319,
          0.004258103100006849,
          -0.011384996298437922,
          -0.008281536756866492,
          -0.011839006392715068,
          -0.03265696397436768,
          -0.02050099102215064,
          -0.008666073451982004,
          -0.013595393557161106,
          -0.009976270603326176,
          -0.006214381913755007,
          -0.007914726950900342,
          0.004141608590383594,
          0.013785175405609307,
          0.013493512935752072,
          0.0006749762722078056,
          0.0014763768574239666,
          -0.003471364708829139,
          0.0017370295842873418,
          0.004769682871354597,
          -0.011700477221821104,
          -0.0033675420941924328,
          -0.0004621507700696137,
          -0.006283839717662665,
          -0.01257526428100586,
          -0.005300317210313654,
          -0.004030683762561216,
          -0.007390455086388248,
          0.004302908730456467,
          -0.01072167485842257,
          -0.015435852853170617,
          -0.018399379624379986,
          -0.02856588001913385,
          -0.06450550207476025,
          -0.03878179310558849,
          -0.056550993302935115,
          -0.04476428743139038,
          -0.032760568111541155,
          -0.022353853195927975,
          -0.011739835293925194,
          -0.013990420097642509,
          -0.002848054421311974,
          -0.01129445448799904,
          0.029500456801057062,
          0.0072915107355682185,
          0.01591277143928349,
          0.029697635341987327,
          0.025303930465937485
         ]
        },
        {
         "customdata": [
          [
           42236.56640625,
           42693.0546875,
           41950.94140625,
           42197.515625
          ],
          [
           42157.3984375,
           42775.77734375,
           41681.95703125,
           42586.91796875
          ],
          [
           42586.46484375,
           44667.21875,
           42491.03515625,
           44575.203125
          ],
          [
           44578.27734375,
           44578.27734375,
           43456.69140625,
           43961.859375
          ],
          [
           43937.0703125,
           44132.97265625,
           40249.37109375,
           40538.01171875
          ],
          [
           40552.1328125,
           40929.15234375,
           39637.6171875,
           40030.9765625
          ],
          [
           40026.0234375,
           40418.87890625,
           39713.05859375,
           40122.15625
          ],
          [
           40118.1015625,
           40119.890625,
           38112.8125,
           38431.37890625
          ],
          [
           38423.2109375,
           39394.4375,
           36950.4765625,
           37075.28125
          ],
          [
           37068.76953125,
           38359.85546875,
           36488.93359375,
           38286.02734375
          ],
          [
           38285.28125,
           39122.39453125,
           37201.81640625,
           37296.5703125
          ],
          [
           37278.56640625,
           38968.83984375,
           34459.21875,
           38332.609375
          ],
          [
           38333.74609375,
           39630.32421875,
           38111.34375,
           39214.21875
          ],
          [
           39213.08203125,
           40005.34765625,
           38702.53515625,
           39105.1484375
          ],
          [
           39098.69921875,
           39778.94140625,
           37268.9765625,
           37709.78515625
          ],
          [
           37706,
           43760.45703125,
           37518.21484375,
           43193.234375
          ],
          [
           43194.50390625,
           44793.6015625,
           42952.5859375,
           44354.63671875
          ],
          [
           44357.6171875,
           45077.578125,
           43432.8515625,
           43924.1171875
          ],
          [
           43925.1953125,
           44021.578125,
           41914.75,
           42451.7890625
          ],
          [
           42458.140625,
           42479.61328125,
           38805.84765625,
           39137.60546875
          ],
          [
           39148.44921875,
           39566.3359375,
           38777.03515625,
           39400.5859375
          ],
          [
           39404.19921875,
           39640.17578125,
           38211.6484375,
           38419.984375
          ],
          [
           38429.3046875,
           39430.2265625,
           37260.203125,
           38062.0390625
          ],
          [
           38059.90234375,
           39304.44140625,
           37957.38671875,
           38737.26953125
          ],
          [
           38742.81640625,
           42465.671875,
           38706.09375,
           41982.92578125
          ],
          [
           41974.0703125,
           42004.7265625,
           38832.94140625,
           39437.4609375
          ],
          [
           39439.96875,
           40081.6796875,
           38347.43359375,
           38794.97265625
          ],
          [
           38794.46484375,
           39308.59765625,
           38772.53515625,
           38904.01171875
          ],
          [
           38884.7265625,
           39209.3515625,
           37728.14453125,
           37849.6640625
          ],
          [
           37846.31640625,
           39742.5,
           37680.734375,
           39666.75390625
          ],
          [
           39664.25,
           39794.62890625,
           38310.2109375,
           39338.78515625
          ],
          [
           39335.5703125,
           41465.453125,
           39022.34765625,
           41143.9296875
          ],
          [
           41140.84375,
           41287.53515625,
           40662.87109375,
           40951.37890625
          ],
          [
           40944.83984375,
           42195.74609375,
           40302.3984375,
           41801.15625
          ],
          [
           41794.6484375,
           42316.5546875,
           41602.66796875,
           42190.65234375
          ],
          [
           42191.40625,
           42241.1640625,
           41004.7578125,
           41247.82421875
          ],
          [
           41246.1328125,
           41454.41015625,
           40668.04296875,
           41077.99609375
          ],
          [
           41074.10546875,
           43124.70703125,
           40948.28125,
           42358.80859375
          ],
          [
           42364.37890625,
           42893.5078125,
           41877.5078125,
           42892.95703125
          ],
          [
           42886.65234375,
           44131.85546875,
           42726.1640625,
           43960.93359375
          ],
          [
           43964.546875,
           44999.4921875,
           43706.28515625,
           44348.73046875
          ],
          [
           44349.859375,
           44735.99609375,
           44166.2734375,
           44500.828125
          ],
          [
           44505.35546875,
           46827.546875,
           44437.29296875,
           46820.4921875
          ],
          [
           46821.8515625,
           48086.8359375,
           46690.203125,
           47128.00390625
          ],
          [
           47100.4375,
           48022.2890625,
           47100.4375,
           47465.73046875
          ],
          [
           47456.8984375,
           47655.1484375,
           46746.2109375,
           47062.6640625
          ],
          [
           47062.1484375,
           47512.02734375,
           45390.5390625,
           45538.67578125
          ],
          [
           45554.1640625,
           46616.2421875,
           44403.140625,
           46281.64453125
          ],
          [
           46285.5,
           47028.28125,
           45782.51171875,
           45868.94921875
          ],
          [
           45859.12890625,
           47313.4765625,
           45634.10546875,
           46453.56640625
          ],
          [
           46445.2734375,
           46791.08984375,
           45235.81640625,
           46622.67578125
          ],
          [
           46624.5078125,
           47106.140625,
           45544.80859375,
           45555.9921875
          ],
          [
           45544.35546875,
           45544.35546875,
           43193.953125,
           43206.73828125
          ],
          [
           43207.5,
           43860.69921875,
           42899.90625,
           43503.84765625
          ],
          [
           43505.13671875,
           43903.01953125,
           42183.2890625,
           42287.6640625
          ],
          [
           42282.078125,
           42786.81640625,
           42183.25390625,
           42782.13671875
          ],
          [
           42781.08984375,
           43376.37890625,
           42021.20703125,
           42207.671875
          ],
          [
           42201.0390625,
           42424.58984375,
           39373.05859375,
           39521.90234375
          ],
          [
           39533.71484375,
           40617.5859375,
           39388.328125,
           40127.18359375
          ],
          [
           40123.5703125,
           41430.0546875,
           39712.74609375,
           41166.73046875
          ],
          [
           41160.21875,
           41451.48046875,
           39695.74609375,
           39935.515625
          ],
          [
           39939.40234375,
           40617.72265625,
           39866.83203125,
           40553.46484375
          ],
          [
           40552.31640625,
           40633.6796875,
           40078.42578125,
           40424.484375
          ],
          [
           40417.77734375,
           40570.7265625,
           39620.89453125,
           39716.953125
          ],
          [
           39721.203125,
           40986.3203125,
           38696.19140625,
           40826.21484375
          ],
          [
           40828.17578125,
           41672.9609375,
           40618.6328125,
           41502.75
          ],
          [
           41501.74609375,
           42126.30078125,
           40961.09765625,
           41374.37890625
          ],
          [
           41371.515625,
           42893.58203125,
           40063.828125,
           40527.36328125
          ],
          [
           40525.86328125,
           40777.7578125,
           39315.41796875,
           39740.3203125
          ],
          [
           39738.72265625,
           39935.859375,
           39352.203125,
           39486.73046875
          ],
          [
           39478.375,
           39845.92578125,
           39233.5390625,
           39469.29296875
          ],
          [
           39472.60546875,
           40491.75390625,
           38338.37890625,
           40458.30859375
          ],
          [
           40448.421875,
           40713.890625,
           37884.984375,
           38117.4609375
          ],
          [
           38120.30078125,
           39397.91796875,
           37997.3125,
           39241.12109375
          ],
          [
           39241.4296875,
           40269.46484375,
           38941.421875,
           39773.828125
          ],
          [
           39768.6171875,
           39887.26953125,
           38235.53515625,
           38609.82421875
          ],
          [
           38605.859375,
           38771.2109375,
           37697.94140625,
           37714.875
          ],
          [
           37713.265625,
           38627.859375,
           37585.7890625,
           38469.09375
          ],
          [
           38472.1875,
           39074.97265625,
           38156.5625,
           38529.328125
          ],
          [
           38528.109375,
           38629.99609375,
           37585.62109375,
           37750.453125
          ],
          [
           37748.01171875,
           39902.94921875,
           37732.05859375,
           39698.37109375
          ],
          [
           39695.74609375,
           39789.28125,
           35856.515625,
           36575.140625
          ],
          [
           36573.18359375,
           36624.359375,
           35482.1328125,
           36040.921875
          ],
          [
           36042.50390625,
           36129.92578125,
           34940.82421875,
           35501.953125
          ],
          [
           35502.94140625,
           35502.94140625,
           33878.96484375,
           34059.265625
          ],
          [
           34060.015625,
           34222.07421875,
           30296.953125,
           30296.953125
          ],
          [
           30273.654296875,
           32596.30859375,
           29944.802734375,
           31022.90625
          ],
          [
           31016.18359375,
           32013.40234375,
           28170.4140625,
           28936.35546875
          ],
          [
           28936.734375,
           30032.439453125,
           26350.490234375,
           29047.751953125
          ],
          [
           29030.91015625,
           30924.802734375,
           28782.330078125,
           29283.103515625
          ],
          [
           29285.642578125,
           30192.802734375,
           28702.91015625,
           30101.265625
          ],
          [
           30098.5859375,
           31308.19140625,
           29527.740234375,
           31305.11328125
          ],
          [
           31304.375,
           31305.341796875,
           29251.884765625,
           29862.91796875
          ],
          [
           29862.408203125,
           30694.490234375,
           29570.302734375,
           30425.857421875
          ],
          [
           30424.478515625,
           30618.716796875,
           28720.271484375,
           28720.271484375
          ],
          [
           28720.359375,
           30430.751953125,
           28708.955078125,
           30314.333984375
          ],
          [
           30311.119140625,
           30664.9765625,
           28793.60546875,
           29200.740234375
          ],
          [
           29199.859375,
           29588.869140625,
           29027.39453125,
           29432.2265625
          ],
          [
           29432.47265625,
           30425.861328125,
           29275.18359375,
           30323.72265625
          ],
          [
           30309.396484375,
           30590.5859375,
           28975.560546875,
           29098.91015625
          ]
         ],
         "fill": "tonexty",
         "hovertemplate": "Percentual Change: %{y}<br>Date: %{x}<br>Open: %{customdata[0]:.3f}<br>High: %{customdata[1]:.3f}<br>Low: %{customdata[2]:.3f}<br>Close: %{customdata[3]:.3f}",
         "line": {
          "color": "indigo"
         },
         "mode": "lines",
         "name": "bb_high",
         "type": "scatter",
         "x": [
          "2022-02-13T00:00:00",
          "2022-02-14T00:00:00",
          "2022-02-15T00:00:00",
          "2022-02-16T00:00:00",
          "2022-02-17T00:00:00",
          "2022-02-18T00:00:00",
          "2022-02-19T00:00:00",
          "2022-02-20T00:00:00",
          "2022-02-21T00:00:00",
          "2022-02-22T00:00:00",
          "2022-02-23T00:00:00",
          "2022-02-24T00:00:00",
          "2022-02-25T00:00:00",
          "2022-02-26T00:00:00",
          "2022-02-27T00:00:00",
          "2022-02-28T00:00:00",
          "2022-03-01T00:00:00",
          "2022-03-02T00:00:00",
          "2022-03-03T00:00:00",
          "2022-03-04T00:00:00",
          "2022-03-05T00:00:00",
          "2022-03-06T00:00:00",
          "2022-03-07T00:00:00",
          "2022-03-08T00:00:00",
          "2022-03-09T00:00:00",
          "2022-03-10T00:00:00",
          "2022-03-11T00:00:00",
          "2022-03-12T00:00:00",
          "2022-03-13T00:00:00",
          "2022-03-14T00:00:00",
          "2022-03-15T00:00:00",
          "2022-03-16T00:00:00",
          "2022-03-17T00:00:00",
          "2022-03-18T00:00:00",
          "2022-03-19T00:00:00",
          "2022-03-20T00:00:00",
          "2022-03-21T00:00:00",
          "2022-03-22T00:00:00",
          "2022-03-23T00:00:00",
          "2022-03-24T00:00:00",
          "2022-03-25T00:00:00",
          "2022-03-26T00:00:00",
          "2022-03-27T00:00:00",
          "2022-03-28T00:00:00",
          "2022-03-29T00:00:00",
          "2022-03-30T00:00:00",
          "2022-03-31T00:00:00",
          "2022-04-01T00:00:00",
          "2022-04-02T00:00:00",
          "2022-04-03T00:00:00",
          "2022-04-04T00:00:00",
          "2022-04-05T00:00:00",
          "2022-04-06T00:00:00",
          "2022-04-07T00:00:00",
          "2022-04-08T00:00:00",
          "2022-04-09T00:00:00",
          "2022-04-10T00:00:00",
          "2022-04-11T00:00:00",
          "2022-04-12T00:00:00",
          "2022-04-13T00:00:00",
          "2022-04-14T00:00:00",
          "2022-04-15T00:00:00",
          "2022-04-16T00:00:00",
          "2022-04-17T00:00:00",
          "2022-04-18T00:00:00",
          "2022-04-19T00:00:00",
          "2022-04-20T00:00:00",
          "2022-04-21T00:00:00",
          "2022-04-22T00:00:00",
          "2022-04-23T00:00:00",
          "2022-04-24T00:00:00",
          "2022-04-25T00:00:00",
          "2022-04-26T00:00:00",
          "2022-04-27T00:00:00",
          "2022-04-28T00:00:00",
          "2022-04-29T00:00:00",
          "2022-04-30T00:00:00",
          "2022-05-01T00:00:00",
          "2022-05-02T00:00:00",
          "2022-05-03T00:00:00",
          "2022-05-04T00:00:00",
          "2022-05-05T00:00:00",
          "2022-05-06T00:00:00",
          "2022-05-07T00:00:00",
          "2022-05-08T00:00:00",
          "2022-05-09T00:00:00",
          "2022-05-10T00:00:00",
          "2022-05-11T00:00:00",
          "2022-05-12T00:00:00",
          "2022-05-13T00:00:00",
          "2022-05-14T00:00:00",
          "2022-05-15T00:00:00",
          "2022-05-16T00:00:00",
          "2022-05-17T00:00:00",
          "2022-05-18T00:00:00",
          "2022-05-19T00:00:00",
          "2022-05-20T00:00:00",
          "2022-05-21T00:00:00",
          "2022-05-22T00:00:00",
          "2022-05-23T00:00:00"
         ],
         "y": [
          null,
          0.0009067057123581801,
          0.007748534850577471,
          0.002967598321725884,
          -0.01292914876754736,
          -0.01659427884630227,
          0.0031390504372181827,
          0.009308941697343531,
          0.011178085247468328,
          -0.0026859137729987603,
          -0.0041189228756408625,
          -0.011239122069296448,
          -0.010445198054916283,
          -0.006494695500664505,
          -0.005929187676344205,
          0.004931970822100951,
          0.009881934583331198,
          -0.00412558820288067,
          -0.00811175402327513,
          -0.0018753629019957474,
          -0.0008021384254465191,
          -0.0013755282070282426,
          0.0001443570146892892,
          -0.001516245173652897,
          0.0063648515314909115,
          -0.0018853483555371087,
          -0.0003729045585745272,
          0.000043711591317219245,
          0.001037732144883785,
          -0.00114548483519894,
          -0.01185898232466498,
          -0.01960733644234869,
          -0.020994432275061037,
          -0.005011898638748402,
          0.011990094744513957,
          0.00484684542169056,
          0.002747488623637606,
          0.006561715154542513,
          0.009165874883283243,
          0.01172653137691726,
          0.015490066229309818,
          0.011702742275078393,
          0.024258973858963584,
          0.015353977935949281,
          0.017458070879168286,
          0.008885768945918082,
          0.0036181122276512934,
          0.00396355656348546,
          0.002437006736634384,
          0.003598790604120161,
          -0.0008650346897335348,
          -0.008598285832111863,
          -0.0032100230470448743,
          -0.00207626299280117,
          0.005495643778684833,
          0.002933480192844451,
          0.0039492845144628586,
          0.00786624832165339,
          -0.0022063705067706385,
          -0.010130924772795091,
          -0.00860922387150631,
          -0.005806307490506035,
          -0.011331619472110033,
          -0.01096272421067579,
          -0.019304402376673857,
          -0.026140056065804385,
          -0.02396174436131615,
          -0.008763857848350431,
          -0.012892320056559936,
          -0.005570722558359442,
          -0.011956874924720418,
          -0.009946812349255318,
          0.006461085943170408,
          0.00027812686838779577,
          -0.004006415153513632,
          0.0015451144242828452,
          0.002423024611812652,
          -0.0014557135184452008,
          -0.0001743173983368429,
          -0.003207694645137149,
          -0.009587800692123616,
          -0.005831668566847026,
          -0.0007305209842790594,
          0.0024775039908726537,
          0.007109250957039404,
          0.024279285404794182,
          -0.0001008302294422947,
          0.012561722513849238,
          -0.001087172482775789,
          -0.011210638609522317,
          -0.012460580312641856,
          -0.012970397862623328,
          -0.018883179961996177,
          -0.024804484506035118,
          -0.023071848637433945,
          -0.051756711212367024,
          -0.03201799767984659,
          -0.03664752881694622,
          -0.04346353259763558,
          -0.04156618241903054
         ]
        },
        {
         "customdata": [
          [
           42236.56640625,
           42693.0546875,
           41950.94140625,
           42197.515625
          ],
          [
           42157.3984375,
           42775.77734375,
           41681.95703125,
           42586.91796875
          ],
          [
           42586.46484375,
           44667.21875,
           42491.03515625,
           44575.203125
          ],
          [
           44578.27734375,
           44578.27734375,
           43456.69140625,
           43961.859375
          ],
          [
           43937.0703125,
           44132.97265625,
           40249.37109375,
           40538.01171875
          ],
          [
           40552.1328125,
           40929.15234375,
           39637.6171875,
           40030.9765625
          ],
          [
           40026.0234375,
           40418.87890625,
           39713.05859375,
           40122.15625
          ],
          [
           40118.1015625,
           40119.890625,
           38112.8125,
           38431.37890625
          ],
          [
           38423.2109375,
           39394.4375,
           36950.4765625,
           37075.28125
          ],
          [
           37068.76953125,
           38359.85546875,
           36488.93359375,
           38286.02734375
          ],
          [
           38285.28125,
           39122.39453125,
           37201.81640625,
           37296.5703125
          ],
          [
           37278.56640625,
           38968.83984375,
           34459.21875,
           38332.609375
          ],
          [
           38333.74609375,
           39630.32421875,
           38111.34375,
           39214.21875
          ],
          [
           39213.08203125,
           40005.34765625,
           38702.53515625,
           39105.1484375
          ],
          [
           39098.69921875,
           39778.94140625,
           37268.9765625,
           37709.78515625
          ],
          [
           37706,
           43760.45703125,
           37518.21484375,
           43193.234375
          ],
          [
           43194.50390625,
           44793.6015625,
           42952.5859375,
           44354.63671875
          ],
          [
           44357.6171875,
           45077.578125,
           43432.8515625,
           43924.1171875
          ],
          [
           43925.1953125,
           44021.578125,
           41914.75,
           42451.7890625
          ],
          [
           42458.140625,
           42479.61328125,
           38805.84765625,
           39137.60546875
          ],
          [
           39148.44921875,
           39566.3359375,
           38777.03515625,
           39400.5859375
          ],
          [
           39404.19921875,
           39640.17578125,
           38211.6484375,
           38419.984375
          ],
          [
           38429.3046875,
           39430.2265625,
           37260.203125,
           38062.0390625
          ],
          [
           38059.90234375,
           39304.44140625,
           37957.38671875,
           38737.26953125
          ],
          [
           38742.81640625,
           42465.671875,
           38706.09375,
           41982.92578125
          ],
          [
           41974.0703125,
           42004.7265625,
           38832.94140625,
           39437.4609375
          ],
          [
           39439.96875,
           40081.6796875,
           38347.43359375,
           38794.97265625
          ],
          [
           38794.46484375,
           39308.59765625,
           38772.53515625,
           38904.01171875
          ],
          [
           38884.7265625,
           39209.3515625,
           37728.14453125,
           37849.6640625
          ],
          [
           37846.31640625,
           39742.5,
           37680.734375,
           39666.75390625
          ],
          [
           39664.25,
           39794.62890625,
           38310.2109375,
           39338.78515625
          ],
          [
           39335.5703125,
           41465.453125,
           39022.34765625,
           41143.9296875
          ],
          [
           41140.84375,
           41287.53515625,
           40662.87109375,
           40951.37890625
          ],
          [
           40944.83984375,
           42195.74609375,
           40302.3984375,
           41801.15625
          ],
          [
           41794.6484375,
           42316.5546875,
           41602.66796875,
           42190.65234375
          ],
          [
           42191.40625,
           42241.1640625,
           41004.7578125,
           41247.82421875
          ],
          [
           41246.1328125,
           41454.41015625,
           40668.04296875,
           41077.99609375
          ],
          [
           41074.10546875,
           43124.70703125,
           40948.28125,
           42358.80859375
          ],
          [
           42364.37890625,
           42893.5078125,
           41877.5078125,
           42892.95703125
          ],
          [
           42886.65234375,
           44131.85546875,
           42726.1640625,
           43960.93359375
          ],
          [
           43964.546875,
           44999.4921875,
           43706.28515625,
           44348.73046875
          ],
          [
           44349.859375,
           44735.99609375,
           44166.2734375,
           44500.828125
          ],
          [
           44505.35546875,
           46827.546875,
           44437.29296875,
           46820.4921875
          ],
          [
           46821.8515625,
           48086.8359375,
           46690.203125,
           47128.00390625
          ],
          [
           47100.4375,
           48022.2890625,
           47100.4375,
           47465.73046875
          ],
          [
           47456.8984375,
           47655.1484375,
           46746.2109375,
           47062.6640625
          ],
          [
           47062.1484375,
           47512.02734375,
           45390.5390625,
           45538.67578125
          ],
          [
           45554.1640625,
           46616.2421875,
           44403.140625,
           46281.64453125
          ],
          [
           46285.5,
           47028.28125,
           45782.51171875,
           45868.94921875
          ],
          [
           45859.12890625,
           47313.4765625,
           45634.10546875,
           46453.56640625
          ],
          [
           46445.2734375,
           46791.08984375,
           45235.81640625,
           46622.67578125
          ],
          [
           46624.5078125,
           47106.140625,
           45544.80859375,
           45555.9921875
          ],
          [
           45544.35546875,
           45544.35546875,
           43193.953125,
           43206.73828125
          ],
          [
           43207.5,
           43860.69921875,
           42899.90625,
           43503.84765625
          ],
          [
           43505.13671875,
           43903.01953125,
           42183.2890625,
           42287.6640625
          ],
          [
           42282.078125,
           42786.81640625,
           42183.25390625,
           42782.13671875
          ],
          [
           42781.08984375,
           43376.37890625,
           42021.20703125,
           42207.671875
          ],
          [
           42201.0390625,
           42424.58984375,
           39373.05859375,
           39521.90234375
          ],
          [
           39533.71484375,
           40617.5859375,
           39388.328125,
           40127.18359375
          ],
          [
           40123.5703125,
           41430.0546875,
           39712.74609375,
           41166.73046875
          ],
          [
           41160.21875,
           41451.48046875,
           39695.74609375,
           39935.515625
          ],
          [
           39939.40234375,
           40617.72265625,
           39866.83203125,
           40553.46484375
          ],
          [
           40552.31640625,
           40633.6796875,
           40078.42578125,
           40424.484375
          ],
          [
           40417.77734375,
           40570.7265625,
           39620.89453125,
           39716.953125
          ],
          [
           39721.203125,
           40986.3203125,
           38696.19140625,
           40826.21484375
          ],
          [
           40828.17578125,
           41672.9609375,
           40618.6328125,
           41502.75
          ],
          [
           41501.74609375,
           42126.30078125,
           40961.09765625,
           41374.37890625
          ],
          [
           41371.515625,
           42893.58203125,
           40063.828125,
           40527.36328125
          ],
          [
           40525.86328125,
           40777.7578125,
           39315.41796875,
           39740.3203125
          ],
          [
           39738.72265625,
           39935.859375,
           39352.203125,
           39486.73046875
          ],
          [
           39478.375,
           39845.92578125,
           39233.5390625,
           39469.29296875
          ],
          [
           39472.60546875,
           40491.75390625,
           38338.37890625,
           40458.30859375
          ],
          [
           40448.421875,
           40713.890625,
           37884.984375,
           38117.4609375
          ],
          [
           38120.30078125,
           39397.91796875,
           37997.3125,
           39241.12109375
          ],
          [
           39241.4296875,
           40269.46484375,
           38941.421875,
           39773.828125
          ],
          [
           39768.6171875,
           39887.26953125,
           38235.53515625,
           38609.82421875
          ],
          [
           38605.859375,
           38771.2109375,
           37697.94140625,
           37714.875
          ],
          [
           37713.265625,
           38627.859375,
           37585.7890625,
           38469.09375
          ],
          [
           38472.1875,
           39074.97265625,
           38156.5625,
           38529.328125
          ],
          [
           38528.109375,
           38629.99609375,
           37585.62109375,
           37750.453125
          ],
          [
           37748.01171875,
           39902.94921875,
           37732.05859375,
           39698.37109375
          ],
          [
           39695.74609375,
           39789.28125,
           35856.515625,
           36575.140625
          ],
          [
           36573.18359375,
           36624.359375,
           35482.1328125,
           36040.921875
          ],
          [
           36042.50390625,
           36129.92578125,
           34940.82421875,
           35501.953125
          ],
          [
           35502.94140625,
           35502.94140625,
           33878.96484375,
           34059.265625
          ],
          [
           34060.015625,
           34222.07421875,
           30296.953125,
           30296.953125
          ],
          [
           30273.654296875,
           32596.30859375,
           29944.802734375,
           31022.90625
          ],
          [
           31016.18359375,
           32013.40234375,
           28170.4140625,
           28936.35546875
          ],
          [
           28936.734375,
           30032.439453125,
           26350.490234375,
           29047.751953125
          ],
          [
           29030.91015625,
           30924.802734375,
           28782.330078125,
           29283.103515625
          ],
          [
           29285.642578125,
           30192.802734375,
           28702.91015625,
           30101.265625
          ],
          [
           30098.5859375,
           31308.19140625,
           29527.740234375,
           31305.11328125
          ],
          [
           31304.375,
           31305.341796875,
           29251.884765625,
           29862.91796875
          ],
          [
           29862.408203125,
           30694.490234375,
           29570.302734375,
           30425.857421875
          ],
          [
           30424.478515625,
           30618.716796875,
           28720.271484375,
           28720.271484375
          ],
          [
           28720.359375,
           30430.751953125,
           28708.955078125,
           30314.333984375
          ],
          [
           30311.119140625,
           30664.9765625,
           28793.60546875,
           29200.740234375
          ],
          [
           29199.859375,
           29588.869140625,
           29027.39453125,
           29432.2265625
          ],
          [
           29432.47265625,
           30425.861328125,
           29275.18359375,
           30323.72265625
          ],
          [
           30309.396484375,
           30590.5859375,
           28975.560546875,
           29098.91015625
          ]
         ],
         "hovertemplate": "Percentual Change: %{y}<br>Date: %{x}<br>Open: %{customdata[0]:.3f}<br>High: %{customdata[1]:.3f}<br>Low: %{customdata[2]:.3f}<br>Close: %{customdata[3]:.3f}",
         "line": {
          "color": "lightpink"
         },
         "mode": "lines",
         "name": "SMA30",
         "type": "scatter",
         "x": [
          "2022-02-13T00:00:00",
          "2022-02-14T00:00:00",
          "2022-02-15T00:00:00",
          "2022-02-16T00:00:00",
          "2022-02-17T00:00:00",
          "2022-02-18T00:00:00",
          "2022-02-19T00:00:00",
          "2022-02-20T00:00:00",
          "2022-02-21T00:00:00",
          "2022-02-22T00:00:00",
          "2022-02-23T00:00:00",
          "2022-02-24T00:00:00",
          "2022-02-25T00:00:00",
          "2022-02-26T00:00:00",
          "2022-02-27T00:00:00",
          "2022-02-28T00:00:00",
          "2022-03-01T00:00:00",
          "2022-03-02T00:00:00",
          "2022-03-03T00:00:00",
          "2022-03-04T00:00:00",
          "2022-03-05T00:00:00",
          "2022-03-06T00:00:00",
          "2022-03-07T00:00:00",
          "2022-03-08T00:00:00",
          "2022-03-09T00:00:00",
          "2022-03-10T00:00:00",
          "2022-03-11T00:00:00",
          "2022-03-12T00:00:00",
          "2022-03-13T00:00:00",
          "2022-03-14T00:00:00",
          "2022-03-15T00:00:00",
          "2022-03-16T00:00:00",
          "2022-03-17T00:00:00",
          "2022-03-18T00:00:00",
          "2022-03-19T00:00:00",
          "2022-03-20T00:00:00",
          "2022-03-21T00:00:00",
          "2022-03-22T00:00:00",
          "2022-03-23T00:00:00",
          "2022-03-24T00:00:00",
          "2022-03-25T00:00:00",
          "2022-03-26T00:00:00",
          "2022-03-27T00:00:00",
          "2022-03-28T00:00:00",
          "2022-03-29T00:00:00",
          "2022-03-30T00:00:00",
          "2022-03-31T00:00:00",
          "2022-04-01T00:00:00",
          "2022-04-02T00:00:00",
          "2022-04-03T00:00:00",
          "2022-04-04T00:00:00",
          "2022-04-05T00:00:00",
          "2022-04-06T00:00:00",
          "2022-04-07T00:00:00",
          "2022-04-08T00:00:00",
          "2022-04-09T00:00:00",
          "2022-04-10T00:00:00",
          "2022-04-11T00:00:00",
          "2022-04-12T00:00:00",
          "2022-04-13T00:00:00",
          "2022-04-14T00:00:00",
          "2022-04-15T00:00:00",
          "2022-04-16T00:00:00",
          "2022-04-17T00:00:00",
          "2022-04-18T00:00:00",
          "2022-04-19T00:00:00",
          "2022-04-20T00:00:00",
          "2022-04-21T00:00:00",
          "2022-04-22T00:00:00",
          "2022-04-23T00:00:00",
          "2022-04-24T00:00:00",
          "2022-04-25T00:00:00",
          "2022-04-26T00:00:00",
          "2022-04-27T00:00:00",
          "2022-04-28T00:00:00",
          "2022-04-29T00:00:00",
          "2022-04-30T00:00:00",
          "2022-05-01T00:00:00",
          "2022-05-02T00:00:00",
          "2022-05-03T00:00:00",
          "2022-05-04T00:00:00",
          "2022-05-05T00:00:00",
          "2022-05-06T00:00:00",
          "2022-05-07T00:00:00",
          "2022-05-08T00:00:00",
          "2022-05-09T00:00:00",
          "2022-05-10T00:00:00",
          "2022-05-11T00:00:00",
          "2022-05-12T00:00:00",
          "2022-05-13T00:00:00",
          "2022-05-14T00:00:00",
          "2022-05-15T00:00:00",
          "2022-05-16T00:00:00",
          "2022-05-17T00:00:00",
          "2022-05-18T00:00:00",
          "2022-05-19T00:00:00",
          "2022-05-20T00:00:00",
          "2022-05-21T00:00:00",
          "2022-05-22T00:00:00",
          "2022-05-23T00:00:00"
         ],
         "y": [
          null,
          0.007563867744629249,
          0.009794527767670758,
          0.008308791567435803,
          0.005660879930738716,
          0.004516327425372335,
          -0.00215505617978895,
          -0.004714713958936523,
          -0.008400049960928357,
          -0.008815801603772822,
          -0.010924087270271277,
          -0.009724127932985382,
          -0.007113349317494966,
          -0.005438470116471361,
          -0.007507774881626128,
          0.0016610160317982459,
          0.0029439439404208567,
          -0.0010811302580601145,
          -0.0025101903717630325,
          -0.002333753931639926,
          -0.0010529930119251851,
          -0.00284627398668047,
          -0.0006193517056500841,
          0.0027887411072498036,
          0.006185977151940136,
          0.003560303423641775,
          0.0007661827933036491,
          -0.0005136509234974218,
          -0.002079940354213883,
          0.0032488353866357844,
          -0.00637819041141896,
          -0.0053470557914767625,
          -0.004977360990345736,
          -0.0010948269103121522,
          0.005143025906708232,
          0.0030958527515481116,
          0.004440908575470415,
          0.007147145256804821,
          0.006863418876591698,
          0.0032445544209656063,
          0.008029971765751043,
          0.009254811355237536,
          0.012722665830650515,
          0.014723997032754399,
          0.012196778299895294,
          0.011933779804929046,
          0.006710026867781105,
          0.008084160514700622,
          0.006119953558041402,
          0.006374499636948139,
          0.007986313865997019,
          0.006600988472352354,
          0.0012417316543129608,
          0.0008934956223383139,
          -0.002445158435657402,
          -0.0022948838546651418,
          -0.00336694303930829,
          -0.010752409406741492,
          -0.010425832982729144,
          -0.009479492590040217,
          -0.010828438033229859,
          -0.00765705785645332,
          -0.009065749268986623,
          -0.009609212899243103,
          -0.008875017557028686,
          -0.008147050627270502,
          -0.006708622076488147,
          -0.004327591865033287,
          -0.006105080550395714,
          -0.0045714993725338715,
          -0.005431837060413391,
          -0.002883973294862119,
          -0.002322037110433217,
          -0.0014683835431641423,
          -0.0023117134536190242,
          -0.002205265579795168,
          -0.004732383100393589,
          -0.0032754494795059763,
          -0.0019959127484043826,
          -0.005179437400332665,
          -0.003054308417950513,
          -0.008148655544957806,
          -0.007680138653862745,
          -0.007311625778929964,
          -0.009431905914717209,
          -0.016091563483089044,
          -0.016823790249958948,
          -0.01665049067474611,
          -0.018799309868954506,
          -0.019718405618018298,
          -0.01631441309978321,
          -0.012493986660885192,
          -0.016987505732908414,
          -0.01627164394581171,
          -0.0184323904824909,
          -0.019514376229958108,
          -0.015640493090894436,
          -0.01423920414659996,
          -0.011318264024039126,
          -0.010966163920743677
         ]
        }
       ],
       "layout": {
        "annotations": [
         {
          "showarrow": false,
          "text": "<b>ADX</b>",
          "x": 0.5,
          "xref": "x2 domain",
          "y": 1.5,
          "yref": "y2 domain"
         },
         {
          "showarrow": false,
          "text": "<b>Stochastic Oscillator</b>",
          "x": 0.5,
          "xref": "x3 domain",
          "y": 1.5,
          "yref": "y3 domain"
         },
         {
          "showarrow": false,
          "text": "<b>RSI</b>",
          "x": 0.5,
          "xref": "x4 domain",
          "y": 1.5,
          "yref": "y4 domain"
         }
        ],
        "font": {
         "color": "white",
         "size": 15
        },
        "height": 2000,
        "paper_bgcolor": "rgba(0, 0, 0, 0)",
        "plot_bgcolor": "rgba(0, 0, 0, 0)",
        "shapes": [
         {
          "line": {
           "color": "darkslategray",
           "dash": "dash",
           "width": 2
          },
          "type": "line",
          "x0": 0,
          "x1": 1,
          "xref": "x3 domain",
          "y0": 20,
          "y1": 20,
          "yref": "y3"
         },
         {
          "line": {
           "color": "darkslategray",
           "dash": "dash",
           "width": 2
          },
          "type": "line",
          "x0": 0,
          "x1": 1,
          "xref": "x3 domain",
          "y0": 80,
          "y1": 80,
          "yref": "y3"
         },
         {
          "line": {
           "color": "darkslategray",
           "dash": "dash",
           "width": 2
          },
          "type": "line",
          "x0": 0,
          "x1": 1,
          "xref": "x4 domain",
          "y0": 30,
          "y1": 30,
          "yref": "y4"
         },
         {
          "line": {
           "color": "darkslategray",
           "dash": "dash",
           "width": 2
          },
          "type": "line",
          "x0": 0,
          "x1": 1,
          "xref": "x4 domain",
          "y0": 70,
          "y1": 70,
          "yref": "y4"
         }
        ],
        "template": {
         "data": {
          "bar": [
           {
            "error_x": {
             "color": "#f2f5fa"
            },
            "error_y": {
             "color": "#f2f5fa"
            },
            "marker": {
             "line": {
              "color": "rgb(17,17,17)",
              "width": 0.5
             },
             "pattern": {
              "fillmode": "overlay",
              "size": 10,
              "solidity": 0.2
             }
            },
            "type": "bar"
           }
          ],
          "barpolar": [
           {
            "marker": {
             "line": {
              "color": "rgb(17,17,17)",
              "width": 0.5
             },
             "pattern": {
              "fillmode": "overlay",
              "size": 10,
              "solidity": 0.2
             }
            },
            "type": "barpolar"
           }
          ],
          "carpet": [
           {
            "aaxis": {
             "endlinecolor": "#A2B1C6",
             "gridcolor": "#506784",
             "linecolor": "#506784",
             "minorgridcolor": "#506784",
             "startlinecolor": "#A2B1C6"
            },
            "baxis": {
             "endlinecolor": "#A2B1C6",
             "gridcolor": "#506784",
             "linecolor": "#506784",
             "minorgridcolor": "#506784",
             "startlinecolor": "#A2B1C6"
            },
            "type": "carpet"
           }
          ],
          "choropleth": [
           {
            "colorbar": {
             "outlinewidth": 0,
             "ticks": ""
            },
            "type": "choropleth"
           }
          ],
          "contour": [
           {
            "colorbar": {
             "outlinewidth": 0,
             "ticks": ""
            },
            "colorscale": [
             [
              0,
              "#0d0887"
             ],
             [
              0.1111111111111111,
              "#46039f"
             ],
             [
              0.2222222222222222,
              "#7201a8"
             ],
             [
              0.3333333333333333,
              "#9c179e"
             ],
             [
              0.4444444444444444,
              "#bd3786"
             ],
             [
              0.5555555555555556,
              "#d8576b"
             ],
             [
              0.6666666666666666,
              "#ed7953"
             ],
             [
              0.7777777777777778,
              "#fb9f3a"
             ],
             [
              0.8888888888888888,
              "#fdca26"
             ],
             [
              1,
              "#f0f921"
             ]
            ],
            "type": "contour"
           }
          ],
          "contourcarpet": [
           {
            "colorbar": {
             "outlinewidth": 0,
             "ticks": ""
            },
            "type": "contourcarpet"
           }
          ],
          "heatmap": [
           {
            "colorbar": {
             "outlinewidth": 0,
             "ticks": ""
            },
            "colorscale": [
             [
              0,
              "#0d0887"
             ],
             [
              0.1111111111111111,
              "#46039f"
             ],
             [
              0.2222222222222222,
              "#7201a8"
             ],
             [
              0.3333333333333333,
              "#9c179e"
             ],
             [
              0.4444444444444444,
              "#bd3786"
             ],
             [
              0.5555555555555556,
              "#d8576b"
             ],
             [
              0.6666666666666666,
              "#ed7953"
             ],
             [
              0.7777777777777778,
              "#fb9f3a"
             ],
             [
              0.8888888888888888,
              "#fdca26"
             ],
             [
              1,
              "#f0f921"
             ]
            ],
            "type": "heatmap"
           }
          ],
          "heatmapgl": [
           {
            "colorbar": {
             "outlinewidth": 0,
             "ticks": ""
            },
            "colorscale": [
             [
              0,
              "#0d0887"
             ],
             [
              0.1111111111111111,
              "#46039f"
             ],
             [
              0.2222222222222222,
              "#7201a8"
             ],
             [
              0.3333333333333333,
              "#9c179e"
             ],
             [
              0.4444444444444444,
              "#bd3786"
             ],
             [
              0.5555555555555556,
              "#d8576b"
             ],
             [
              0.6666666666666666,
              "#ed7953"
             ],
             [
              0.7777777777777778,
              "#fb9f3a"
             ],
             [
              0.8888888888888888,
              "#fdca26"
             ],
             [
              1,
              "#f0f921"
             ]
            ],
            "type": "heatmapgl"
           }
          ],
          "histogram": [
           {
            "marker": {
             "pattern": {
              "fillmode": "overlay",
              "size": 10,
              "solidity": 0.2
             }
            },
            "type": "histogram"
           }
          ],
          "histogram2d": [
           {
            "colorbar": {
             "outlinewidth": 0,
             "ticks": ""
            },
            "colorscale": [
             [
              0,
              "#0d0887"
             ],
             [
              0.1111111111111111,
              "#46039f"
             ],
             [
              0.2222222222222222,
              "#7201a8"
             ],
             [
              0.3333333333333333,
              "#9c179e"
             ],
             [
              0.4444444444444444,
              "#bd3786"
             ],
             [
              0.5555555555555556,
              "#d8576b"
             ],
             [
              0.6666666666666666,
              "#ed7953"
             ],
             [
              0.7777777777777778,
              "#fb9f3a"
             ],
             [
              0.8888888888888888,
              "#fdca26"
             ],
             [
              1,
              "#f0f921"
             ]
            ],
            "type": "histogram2d"
           }
          ],
          "histogram2dcontour": [
           {
            "colorbar": {
             "outlinewidth": 0,
             "ticks": ""
            },
            "colorscale": [
             [
              0,
              "#0d0887"
             ],
             [
              0.1111111111111111,
              "#46039f"
             ],
             [
              0.2222222222222222,
              "#7201a8"
             ],
             [
              0.3333333333333333,
              "#9c179e"
             ],
             [
              0.4444444444444444,
              "#bd3786"
             ],
             [
              0.5555555555555556,
              "#d8576b"
             ],
             [
              0.6666666666666666,
              "#ed7953"
             ],
             [
              0.7777777777777778,
              "#fb9f3a"
             ],
             [
              0.8888888888888888,
              "#fdca26"
             ],
             [
              1,
              "#f0f921"
             ]
            ],
            "type": "histogram2dcontour"
           }
          ],
          "mesh3d": [
           {
            "colorbar": {
             "outlinewidth": 0,
             "ticks": ""
            },
            "type": "mesh3d"
           }
          ],
          "parcoords": [
           {
            "line": {
             "colorbar": {
              "outlinewidth": 0,
              "ticks": ""
             }
            },
            "type": "parcoords"
           }
          ],
          "pie": [
           {
            "automargin": true,
            "type": "pie"
           }
          ],
          "scatter": [
           {
            "marker": {
             "line": {
              "color": "#283442"
             }
            },
            "type": "scatter"
           }
          ],
          "scatter3d": [
           {
            "line": {
             "colorbar": {
              "outlinewidth": 0,
              "ticks": ""
             }
            },
            "marker": {
             "colorbar": {
              "outlinewidth": 0,
              "ticks": ""
             }
            },
            "type": "scatter3d"
           }
          ],
          "scattercarpet": [
           {
            "marker": {
             "colorbar": {
              "outlinewidth": 0,
              "ticks": ""
             }
            },
            "type": "scattercarpet"
           }
          ],
          "scattergeo": [
           {
            "marker": {
             "colorbar": {
              "outlinewidth": 0,
              "ticks": ""
             }
            },
            "type": "scattergeo"
           }
          ],
          "scattergl": [
           {
            "marker": {
             "line": {
              "color": "#283442"
             }
            },
            "type": "scattergl"
           }
          ],
          "scattermapbox": [
           {
            "marker": {
             "colorbar": {
              "outlinewidth": 0,
              "ticks": ""
             }
            },
            "type": "scattermapbox"
           }
          ],
          "scatterpolar": [
           {
            "marker": {
             "colorbar": {
              "outlinewidth": 0,
              "ticks": ""
             }
            },
            "type": "scatterpolar"
           }
          ],
          "scatterpolargl": [
           {
            "marker": {
             "colorbar": {
              "outlinewidth": 0,
              "ticks": ""
             }
            },
            "type": "scatterpolargl"
           }
          ],
          "scatterternary": [
           {
            "marker": {
             "colorbar": {
              "outlinewidth": 0,
              "ticks": ""
             }
            },
            "type": "scatterternary"
           }
          ],
          "surface": [
           {
            "colorbar": {
             "outlinewidth": 0,
             "ticks": ""
            },
            "colorscale": [
             [
              0,
              "#0d0887"
             ],
             [
              0.1111111111111111,
              "#46039f"
             ],
             [
              0.2222222222222222,
              "#7201a8"
             ],
             [
              0.3333333333333333,
              "#9c179e"
             ],
             [
              0.4444444444444444,
              "#bd3786"
             ],
             [
              0.5555555555555556,
              "#d8576b"
             ],
             [
              0.6666666666666666,
              "#ed7953"
             ],
             [
              0.7777777777777778,
              "#fb9f3a"
             ],
             [
              0.8888888888888888,
              "#fdca26"
             ],
             [
              1,
              "#f0f921"
             ]
            ],
            "type": "surface"
           }
          ],
          "table": [
           {
            "cells": {
             "fill": {
              "color": "#506784"
             },
             "line": {
              "color": "rgb(17,17,17)"
             }
            },
            "header": {
             "fill": {
              "color": "#2a3f5f"
             },
             "line": {
              "color": "rgb(17,17,17)"
             }
            },
            "type": "table"
           }
          ]
         },
         "layout": {
          "annotationdefaults": {
           "arrowcolor": "#f2f5fa",
           "arrowhead": 0,
           "arrowwidth": 1
          },
          "autotypenumbers": "strict",
          "coloraxis": {
           "colorbar": {
            "outlinewidth": 0,
            "ticks": ""
           }
          },
          "colorscale": {
           "diverging": [
            [
             0,
             "#8e0152"
            ],
            [
             0.1,
             "#c51b7d"
            ],
            [
             0.2,
             "#de77ae"
            ],
            [
             0.3,
             "#f1b6da"
            ],
            [
             0.4,
             "#fde0ef"
            ],
            [
             0.5,
             "#f7f7f7"
            ],
            [
             0.6,
             "#e6f5d0"
            ],
            [
             0.7,
             "#b8e186"
            ],
            [
             0.8,
             "#7fbc41"
            ],
            [
             0.9,
             "#4d9221"
            ],
            [
             1,
             "#276419"
            ]
           ],
           "sequential": [
            [
             0,
             "#0d0887"
            ],
            [
             0.1111111111111111,
             "#46039f"
            ],
            [
             0.2222222222222222,
             "#7201a8"
            ],
            [
             0.3333333333333333,
             "#9c179e"
            ],
            [
             0.4444444444444444,
             "#bd3786"
            ],
            [
             0.5555555555555556,
             "#d8576b"
            ],
            [
             0.6666666666666666,
             "#ed7953"
            ],
            [
             0.7777777777777778,
             "#fb9f3a"
            ],
            [
             0.8888888888888888,
             "#fdca26"
            ],
            [
             1,
             "#f0f921"
            ]
           ],
           "sequentialminus": [
            [
             0,
             "#0d0887"
            ],
            [
             0.1111111111111111,
             "#46039f"
            ],
            [
             0.2222222222222222,
             "#7201a8"
            ],
            [
             0.3333333333333333,
             "#9c179e"
            ],
            [
             0.4444444444444444,
             "#bd3786"
            ],
            [
             0.5555555555555556,
             "#d8576b"
            ],
            [
             0.6666666666666666,
             "#ed7953"
            ],
            [
             0.7777777777777778,
             "#fb9f3a"
            ],
            [
             0.8888888888888888,
             "#fdca26"
            ],
            [
             1,
             "#f0f921"
            ]
           ]
          },
          "colorway": [
           "#636efa",
           "#EF553B",
           "#00cc96",
           "#ab63fa",
           "#FFA15A",
           "#19d3f3",
           "#FF6692",
           "#B6E880",
           "#FF97FF",
           "#FECB52"
          ],
          "font": {
           "color": "#f2f5fa"
          },
          "geo": {
           "bgcolor": "rgb(17,17,17)",
           "lakecolor": "rgb(17,17,17)",
           "landcolor": "rgb(17,17,17)",
           "showlakes": true,
           "showland": true,
           "subunitcolor": "#506784"
          },
          "hoverlabel": {
           "align": "left"
          },
          "hovermode": "closest",
          "mapbox": {
           "style": "dark"
          },
          "paper_bgcolor": "rgb(17,17,17)",
          "plot_bgcolor": "rgb(17,17,17)",
          "polar": {
           "angularaxis": {
            "gridcolor": "#506784",
            "linecolor": "#506784",
            "ticks": ""
           },
           "bgcolor": "rgb(17,17,17)",
           "radialaxis": {
            "gridcolor": "#506784",
            "linecolor": "#506784",
            "ticks": ""
           }
          },
          "scene": {
           "xaxis": {
            "backgroundcolor": "rgb(17,17,17)",
            "gridcolor": "#506784",
            "gridwidth": 2,
            "linecolor": "#506784",
            "showbackground": true,
            "ticks": "",
            "zerolinecolor": "#C8D4E3"
           },
           "yaxis": {
            "backgroundcolor": "rgb(17,17,17)",
            "gridcolor": "#506784",
            "gridwidth": 2,
            "linecolor": "#506784",
            "showbackground": true,
            "ticks": "",
            "zerolinecolor": "#C8D4E3"
           },
           "zaxis": {
            "backgroundcolor": "rgb(17,17,17)",
            "gridcolor": "#506784",
            "gridwidth": 2,
            "linecolor": "#506784",
            "showbackground": true,
            "ticks": "",
            "zerolinecolor": "#C8D4E3"
           }
          },
          "shapedefaults": {
           "line": {
            "color": "#f2f5fa"
           }
          },
          "sliderdefaults": {
           "bgcolor": "#C8D4E3",
           "bordercolor": "rgb(17,17,17)",
           "borderwidth": 1,
           "tickwidth": 0
          },
          "ternary": {
           "aaxis": {
            "gridcolor": "#506784",
            "linecolor": "#506784",
            "ticks": ""
           },
           "baxis": {
            "gridcolor": "#506784",
            "linecolor": "#506784",
            "ticks": ""
           },
           "bgcolor": "rgb(17,17,17)",
           "caxis": {
            "gridcolor": "#506784",
            "linecolor": "#506784",
            "ticks": ""
           }
          },
          "title": {
           "x": 0.05
          },
          "updatemenudefaults": {
           "bgcolor": "#506784",
           "borderwidth": 0
          },
          "xaxis": {
           "automargin": true,
           "gridcolor": "#283442",
           "linecolor": "#506784",
           "ticks": "",
           "title": {
            "standoff": 15
           },
           "zerolinecolor": "#283442",
           "zerolinewidth": 2
          },
          "yaxis": {
           "automargin": true,
           "gridcolor": "#283442",
           "linecolor": "#506784",
           "ticks": "",
           "title": {
            "standoff": 15
           },
           "zerolinecolor": "#283442",
           "zerolinewidth": 2
          }
         }
        },
        "width": 1300,
        "xaxis": {
         "anchor": "y",
         "domain": [
          0,
          1
         ],
         "rangeslider": {
          "visible": false
         }
        },
        "xaxis2": {
         "anchor": "y2",
         "domain": [
          0,
          1
         ]
        },
        "xaxis3": {
         "anchor": "y3",
         "domain": [
          0,
          1
         ]
        },
        "xaxis4": {
         "anchor": "y4",
         "domain": [
          0,
          1
         ]
        },
        "xaxis5": {
         "anchor": "y5",
         "domain": [
          0,
          1
         ]
        },
        "yaxis": {
         "anchor": "x",
         "domain": [
          0.64,
          1
         ],
         "tickformat": ".2%"
        },
        "yaxis2": {
         "anchor": "x2",
         "domain": [
          0.48000000000000004,
          0.54
         ]
        },
        "yaxis3": {
         "anchor": "x3",
         "domain": [
          0.32,
          0.38
         ]
        },
        "yaxis4": {
         "anchor": "x4",
         "domain": [
          0.16,
          0.22
         ]
        },
        "yaxis5": {
         "anchor": "x5",
         "domain": [
          0,
          0.06
         ]
        }
       }
      }
     },
     "metadata": {},
     "output_type": "display_data"
    }
   ],
   "source": [
    "candlestick(df_btc, 100,comparison= df_sol, indicators= ['ADX', 'Stochastic Oscillator', 'RSI', 'Bollinger Bands', 'SMA30'])"
   ]
  },
  {
   "cell_type": "code",
   "execution_count": null,
   "metadata": {},
   "outputs": [],
   "source": []
  }
 ],
 "metadata": {
  "interpreter": {
   "hash": "ba2313ef674dfb72e23ac2c661efd5768c8a6078bbaca91f0cbc1ecf0e01dff3"
  },
  "kernelspec": {
   "display_name": "Python 3.9.6 ('DM2021')",
   "language": "python",
   "name": "python3"
  },
  "language_info": {
   "codemirror_mode": {
    "name": "ipython",
    "version": 3
   },
   "file_extension": ".py",
   "mimetype": "text/x-python",
   "name": "python",
   "nbconvert_exporter": "python",
   "pygments_lexer": "ipython3",
   "version": "3.9.6"
  },
  "orig_nbformat": 4
 },
 "nbformat": 4,
 "nbformat_minor": 2
}

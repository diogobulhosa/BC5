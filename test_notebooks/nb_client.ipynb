{
 "cells": [
  {
   "cell_type": "code",
   "execution_count": 84,
   "metadata": {},
   "outputs": [],
   "source": [
    "from datetime import date, timedelta, datetime\n",
    "import yfinance as yf\n",
    "\n",
    "import warnings\n",
    "warnings.filterwarnings(\"ignore\")"
   ]
  },
  {
   "cell_type": "code",
   "execution_count": 2,
   "metadata": {},
   "outputs": [
    {
     "name": "stdout",
     "output_type": "stream",
     "text": [
      "   past_value  current_value\n",
      "0         100            200\n"
     ]
    }
   ],
   "source": [
    "import pandas as pd\n",
    "\n",
    "df = pd.read_csv (r'./client_value.csv')\n",
    "print (df)"
   ]
  },
  {
   "cell_type": "code",
   "execution_count": 3,
   "metadata": {},
   "outputs": [],
   "source": [
    "def update_client_value(df, new_value): \n",
    "    past_value=df.iloc[0][1]\n",
    "    df.iloc[0][0] = past_value\n",
    "    df.iloc[0][1] = new_value   \n",
    "    return df"
   ]
  },
  {
   "cell_type": "code",
   "execution_count": 4,
   "metadata": {},
   "outputs": [],
   "source": [
    "df = update_client_value(df,200)"
   ]
  },
  {
   "cell_type": "code",
   "execution_count": 5,
   "metadata": {},
   "outputs": [],
   "source": [
    "df[['past_value','current_value']].to_csv('client_value.csv',index=False)"
   ]
  },
  {
   "cell_type": "markdown",
   "metadata": {},
   "source": [
    "# Update Version 2 With Time"
   ]
  },
  {
   "cell_type": "code",
   "execution_count": 6,
   "metadata": {},
   "outputs": [
    {
     "name": "stdout",
     "output_type": "stream",
     "text": [
      "   past_value  current_value                        time\n",
      "0           0            500                  2022-05-24\n",
      "1         500           5000  2022-05-24 17:34:06.964684\n"
     ]
    }
   ],
   "source": [
    "df_time = pd.read_csv (r'./client_valuev2.csv')\n",
    "print (df_time)"
   ]
  },
  {
   "cell_type": "code",
   "execution_count": 7,
   "metadata": {},
   "outputs": [
    {
     "data": {
      "text/html": [
       "<div>\n",
       "<style scoped>\n",
       "    .dataframe tbody tr th:only-of-type {\n",
       "        vertical-align: middle;\n",
       "    }\n",
       "\n",
       "    .dataframe tbody tr th {\n",
       "        vertical-align: top;\n",
       "    }\n",
       "\n",
       "    .dataframe thead th {\n",
       "        text-align: right;\n",
       "    }\n",
       "</style>\n",
       "<table border=\"1\" class=\"dataframe\">\n",
       "  <thead>\n",
       "    <tr style=\"text-align: right;\">\n",
       "      <th></th>\n",
       "      <th>past_value</th>\n",
       "      <th>current_value</th>\n",
       "      <th>time</th>\n",
       "    </tr>\n",
       "  </thead>\n",
       "  <tbody>\n",
       "    <tr>\n",
       "      <th>0</th>\n",
       "      <td>0</td>\n",
       "      <td>500</td>\n",
       "      <td>2022-05-24</td>\n",
       "    </tr>\n",
       "    <tr>\n",
       "      <th>1</th>\n",
       "      <td>500</td>\n",
       "      <td>5000</td>\n",
       "      <td>2022-05-24 17:34:06.964684</td>\n",
       "    </tr>\n",
       "    <tr>\n",
       "      <th>2</th>\n",
       "      <td>0</td>\n",
       "      <td>500</td>\n",
       "      <td>2022-05-24</td>\n",
       "    </tr>\n",
       "  </tbody>\n",
       "</table>\n",
       "</div>"
      ],
      "text/plain": [
       "   past_value  current_value                        time\n",
       "0           0            500                  2022-05-24\n",
       "1         500           5000  2022-05-24 17:34:06.964684\n",
       "2           0            500                  2022-05-24"
      ]
     },
     "execution_count": 7,
     "metadata": {},
     "output_type": "execute_result"
    }
   ],
   "source": [
    "df2 = {'past_value': 0, 'current_value': 500, 'time': date.today()}\n",
    "df_time = df_time.append(df2, ignore_index = True)\n",
    "df_time"
   ]
  },
  {
   "cell_type": "code",
   "execution_count": 25,
   "metadata": {},
   "outputs": [],
   "source": [
    "def update_client_valuev2(df, new_value, date): \n",
    "    past_value = df.iloc[-1][1]\n",
    "    df2 = {'past_value': past_value, 'current_value': new_value, 'time': date}   \n",
    "    df = df.append(df2, ignore_index = True)\n",
    "    return df"
   ]
  },
  {
   "cell_type": "code",
   "execution_count": 26,
   "metadata": {},
   "outputs": [],
   "source": [
    "df_time = update_client_valuev2(df_time,9000, date.today())"
   ]
  },
  {
   "cell_type": "code",
   "execution_count": 27,
   "metadata": {},
   "outputs": [
    {
     "data": {
      "text/html": [
       "<div>\n",
       "<style scoped>\n",
       "    .dataframe tbody tr th:only-of-type {\n",
       "        vertical-align: middle;\n",
       "    }\n",
       "\n",
       "    .dataframe tbody tr th {\n",
       "        vertical-align: top;\n",
       "    }\n",
       "\n",
       "    .dataframe thead th {\n",
       "        text-align: right;\n",
       "    }\n",
       "</style>\n",
       "<table border=\"1\" class=\"dataframe\">\n",
       "  <thead>\n",
       "    <tr style=\"text-align: right;\">\n",
       "      <th></th>\n",
       "      <th>past_value</th>\n",
       "      <th>current_value</th>\n",
       "      <th>time</th>\n",
       "    </tr>\n",
       "  </thead>\n",
       "  <tbody>\n",
       "    <tr>\n",
       "      <th>0</th>\n",
       "      <td>0</td>\n",
       "      <td>500</td>\n",
       "      <td>2022-05-24</td>\n",
       "    </tr>\n",
       "    <tr>\n",
       "      <th>1</th>\n",
       "      <td>500</td>\n",
       "      <td>5000</td>\n",
       "      <td>2022-05-24 17:34:06.964684</td>\n",
       "    </tr>\n",
       "    <tr>\n",
       "      <th>2</th>\n",
       "      <td>0</td>\n",
       "      <td>500</td>\n",
       "      <td>2022-05-24</td>\n",
       "    </tr>\n",
       "    <tr>\n",
       "      <th>3</th>\n",
       "      <td>500</td>\n",
       "      <td>9000</td>\n",
       "      <td>2022-05-24 20:17:53.210195</td>\n",
       "    </tr>\n",
       "    <tr>\n",
       "      <th>4</th>\n",
       "      <td>9000</td>\n",
       "      <td>9000</td>\n",
       "      <td>2022-05-24</td>\n",
       "    </tr>\n",
       "  </tbody>\n",
       "</table>\n",
       "</div>"
      ],
      "text/plain": [
       "   past_value  current_value                        time\n",
       "0           0            500                  2022-05-24\n",
       "1         500           5000  2022-05-24 17:34:06.964684\n",
       "2           0            500                  2022-05-24\n",
       "3         500           9000  2022-05-24 20:17:53.210195\n",
       "4        9000           9000                  2022-05-24"
      ]
     },
     "execution_count": 27,
     "metadata": {},
     "output_type": "execute_result"
    }
   ],
   "source": [
    "df_time"
   ]
  },
  {
   "cell_type": "code",
   "execution_count": 28,
   "metadata": {},
   "outputs": [],
   "source": [
    "df_time[['past_value','current_value','time']].to_csv('client_valuev2.csv',index=False)"
   ]
  },
  {
   "cell_type": "markdown",
   "metadata": {},
   "source": [
    "# Portfolio"
   ]
  },
  {
   "cell_type": "code",
   "execution_count": 29,
   "metadata": {},
   "outputs": [],
   "source": [
    "df_portfolio = pd.read_csv (r'./portfolio.csv')"
   ]
  },
  {
   "cell_type": "code",
   "execution_count": 30,
   "metadata": {},
   "outputs": [
    {
     "data": {
      "text/html": [
       "<div>\n",
       "<style scoped>\n",
       "    .dataframe tbody tr th:only-of-type {\n",
       "        vertical-align: middle;\n",
       "    }\n",
       "\n",
       "    .dataframe tbody tr th {\n",
       "        vertical-align: top;\n",
       "    }\n",
       "\n",
       "    .dataframe thead th {\n",
       "        text-align: right;\n",
       "    }\n",
       "</style>\n",
       "<table border=\"1\" class=\"dataframe\">\n",
       "  <thead>\n",
       "    <tr style=\"text-align: right;\">\n",
       "      <th></th>\n",
       "      <th>coin</th>\n",
       "      <th>percentage</th>\n",
       "      <th>spent</th>\n",
       "    </tr>\n",
       "  </thead>\n",
       "  <tbody>\n",
       "    <tr>\n",
       "      <th>0</th>\n",
       "      <td>BTC-USD</td>\n",
       "      <td>0.206853</td>\n",
       "      <td>210</td>\n",
       "    </tr>\n",
       "    <tr>\n",
       "      <th>1</th>\n",
       "      <td>ETH-USD</td>\n",
       "      <td>0.100000</td>\n",
       "      <td>15</td>\n",
       "    </tr>\n",
       "  </tbody>\n",
       "</table>\n",
       "</div>"
      ],
      "text/plain": [
       "      coin  percentage  spent\n",
       "0  BTC-USD    0.206853    210\n",
       "1  ETH-USD    0.100000     15"
      ]
     },
     "execution_count": 30,
     "metadata": {},
     "output_type": "execute_result"
    }
   ],
   "source": [
    "df_portfolio"
   ]
  },
  {
   "cell_type": "code",
   "execution_count": 31,
   "metadata": {},
   "outputs": [],
   "source": [
    "def update_portfolio(df, value, signal, coin):\n",
    "\n",
    "    df_coin = yf.download(coin,\n",
    "                      start=date.today(), \n",
    "                      progress=False,\n",
    "                      interval='1m'\n",
    "    )\n",
    "    if signal == 'buy':\n",
    "            if coin not in df['coin'].tolist():\n",
    "                                p= float(value/df_coin[df_coin.index == df_coin.index.min()]['Open'])\n",
    "                                df2 = {'coin': coin, 'percentage':p, 'spent':value}\n",
    "                                df = df.append(df2, ignore_index = True)\n",
    "\n",
    "            \n",
    "            else:\n",
    "\n",
    "                for i, coin_name in enumerate(df.coin):\n",
    "                    if coin_name==coin:\n",
    "                        df['percentage'][i] = df['percentage'][i] + (value/df_coin[df_coin.index == df_coin.index.min()]['Open'])\n",
    "                        df['spent'][i] = df['spent'][i] + value\n",
    "\n",
    "            \n",
    "    if signal == 'sell': \n",
    "        for i, coin_name in enumerate(df.coin):\n",
    "                    if coin_name==coin:\n",
    "                        if float(df['percentage'][i] - (value/df_coin[df_coin.index == df_coin.index.min()]['Open'])) < 0: return 'error'\n",
    "                        df['percentage'][i] = df['percentage'][i] - (value/df_coin[df_coin.index == df_coin.index.min()]['Open'])\n",
    "                        df['spent'][i] = df['spent'][i] - value \n",
    "        if coin not in df['coin'].tolist():\n",
    "            print('error: coin not found')\n",
    "    return df"
   ]
  },
  {
   "cell_type": "code",
   "execution_count": 32,
   "metadata": {},
   "outputs": [
    {
     "name": "stderr",
     "output_type": "stream",
     "text": [
      "C:\\Users\\Admin\\AppData\\Local\\Temp/ipykernel_2988/1955119821.py:19: SettingWithCopyWarning: \n",
      "A value is trying to be set on a copy of a slice from a DataFrame\n",
      "\n",
      "See the caveats in the documentation: https://pandas.pydata.org/pandas-docs/stable/user_guide/indexing.html#returning-a-view-versus-a-copy\n",
      "  df['percentage'][i] = df['percentage'][i] + (value/df_coin[df_coin.index == df_coin.index.min()]['Open'])\n",
      "C:\\Users\\Admin\\AppData\\Local\\Temp/ipykernel_2988/1955119821.py:20: SettingWithCopyWarning: \n",
      "A value is trying to be set on a copy of a slice from a DataFrame\n",
      "\n",
      "See the caveats in the documentation: https://pandas.pydata.org/pandas-docs/stable/user_guide/indexing.html#returning-a-view-versus-a-copy\n",
      "  df['spent'][i] = df['spent'][i] + value\n"
     ]
    }
   ],
   "source": [
    "df_portfolio = update_portfolio(df_portfolio, 100, signal='buy', coin='BTC-USD')"
   ]
  },
  {
   "cell_type": "code",
   "execution_count": 135,
   "metadata": {},
   "outputs": [
    {
     "data": {
      "text/html": [
       "<div>\n",
       "<style scoped>\n",
       "    .dataframe tbody tr th:only-of-type {\n",
       "        vertical-align: middle;\n",
       "    }\n",
       "\n",
       "    .dataframe tbody tr th {\n",
       "        vertical-align: top;\n",
       "    }\n",
       "\n",
       "    .dataframe thead th {\n",
       "        text-align: right;\n",
       "    }\n",
       "</style>\n",
       "<table border=\"1\" class=\"dataframe\">\n",
       "  <thead>\n",
       "    <tr style=\"text-align: right;\">\n",
       "      <th></th>\n",
       "      <th>coin</th>\n",
       "      <th>percentage</th>\n",
       "      <th>spent</th>\n",
       "    </tr>\n",
       "  </thead>\n",
       "  <tbody>\n",
       "    <tr>\n",
       "      <th>0</th>\n",
       "      <td>ETH-USD</td>\n",
       "      <td>84.817972</td>\n",
       "      <td>167578</td>\n",
       "    </tr>\n",
       "  </tbody>\n",
       "</table>\n",
       "</div>"
      ],
      "text/plain": [
       "      coin  percentage   spent\n",
       "0  ETH-USD   84.817972  167578"
      ]
     },
     "execution_count": 135,
     "metadata": {},
     "output_type": "execute_result"
    }
   ],
   "source": [
    "df_portfolio"
   ]
  },
  {
   "cell_type": "code",
   "execution_count": 136,
   "metadata": {},
   "outputs": [],
   "source": [
    "df_portfolio[['coin','percentage','spent']].to_csv('portfolio.csv',index=False)"
   ]
  },
  {
   "cell_type": "code",
   "execution_count": 141,
   "metadata": {},
   "outputs": [
    {
     "data": {
      "text/plain": [
       "datetime.date(2022, 4, 24)"
      ]
     },
     "execution_count": 141,
     "metadata": {},
     "output_type": "execute_result"
    }
   ],
   "source": [
    "date.today()-timedelta(days=30)"
   ]
  },
  {
   "cell_type": "code",
   "execution_count": 156,
   "metadata": {},
   "outputs": [],
   "source": [
    "def total_value(df,date_bought):\n",
    "    total = 0 \n",
    "    for i, v in enumerate(df['coin']):\n",
    "        df_coin = yf.download(v,\n",
    "                      start=date_bought, \n",
    "                      progress=False,\n",
    "                      interval='1d'\n",
    "                    )\n",
    "\n",
    "        coin_value = df_coin[df_coin.index == df_coin.index.min()]['Open']\n",
    "        total = total + df['percentage'][i]*coin_value\n",
    "    \n",
    "    return float(total)\n"
   ]
  },
  {
   "cell_type": "code",
   "execution_count": 159,
   "metadata": {},
   "outputs": [
    {
     "data": {
      "text/plain": [
       "166253.6199668871"
      ]
     },
     "execution_count": 159,
     "metadata": {},
     "output_type": "execute_result"
    }
   ],
   "source": [
    "total_value(df_portfolio, date.today()-timedelta(days=10))"
   ]
  },
  {
   "cell_type": "markdown",
   "metadata": {},
   "source": [
    "# Database generator"
   ]
  },
  {
   "cell_type": "code",
   "execution_count": 389,
   "metadata": {},
   "outputs": [],
   "source": [
    "# para este caso as funções anteriores foram mudadas para 1d\n",
    "# caso se pretenda voltar a usar para o dia presente será necessário repor o 1m no intervalo. \n",
    "# as datas devem tambem ser modificadas para date.today()\n",
    "# AVISO NA FUNÇÃO TOTAL VALUE É NECESSÁRIO ACRESCENTAR [0] NA PARTE DO COIN VALUE (tambem falta algures no update portfolio)\n",
    "# o spent está mal. Devia subtrair ao valor do portfolio dele não ao valor que ele gastou"
   ]
  },
  {
   "cell_type": "code",
   "execution_count": 390,
   "metadata": {},
   "outputs": [],
   "source": [
    "def update_portfolio(df, value, signal, coin, date_bought):\n",
    "\n",
    "    df_coin = yf.download(coin,\n",
    "                      start=date_bought, \n",
    "                      progress=False,\n",
    "                      interval='1d'\n",
    "    )\n",
    "    # conversion     \n",
    "    new_date_bought = datetime.strptime(str(date_bought), '%Y-%m-%d')\n",
    "\n",
    "    if signal == 'buy':\n",
    "            if coin not in df['coin'].tolist():\n",
    "                                p= float(value/df_coin[df_coin.index == new_date_bought]['Open'])\n",
    "                                df2 = {'coin': coin, 'percentage':p, 'spent':value}\n",
    "                                df = df.append(df2, ignore_index = True)\n",
    "\n",
    "            \n",
    "            else:\n",
    "                for i, coin_name in enumerate(df.coin):\n",
    "                    if coin_name==coin:\n",
    "                        df['percentage'][i] = df['percentage'][i] + (value/df_coin[df_coin.index == new_date_bought]['Open'])\n",
    "                        df['spent'][i] = df['spent'][i] + value\n",
    "\n",
    "            \n",
    "    if signal == 'sell': \n",
    "        for i, coin_name in enumerate(df.coin):\n",
    "                    if coin_name==coin:\n",
    "                        if float(df['percentage'][i] - (value/df_coin[df_coin.index == new_date_bought]['Open'][0])) < 0: return 'error'\n",
    "                        df['percentage'][i] = df['percentage'][i] - (value/df_coin[df_coin.index == new_date_bought]['Open'])\n",
    "                        df['spent'][i] = df['spent'][i] - value # ISTO ESTÁ MAL \n",
    "        if coin not in df['coin'].tolist():\n",
    "            return 'error'\n",
    "    return df\n",
    "\n",
    "def total_value(df,date_bought):\n",
    "    total = 0 \n",
    "    for i, v in enumerate(df['coin']):\n",
    "        #print('nome da coin no total value'+v)\n",
    "        df_coin = yf.download(v,\n",
    "                      start=date_bought, \n",
    "                      progress=False,\n",
    "                      interval='1d'\n",
    "                    )\n",
    "\n",
    "        new_date_bought = datetime.strptime(str(date_bought), '%Y-%m-%d')\n",
    "        coin_value = df_coin[df_coin.index == new_date_bought]['Open'][0]\n",
    "        total = df['percentage'][i]*coin_value\n",
    "        #print(\"total\"+str(total))\n",
    "    \n",
    "    return float(total)\n",
    "\n",
    "def update_client_valuev2(df, new_value,investment, signal, date): \n",
    "    last_invest = df.iloc[-1][2]\n",
    "    if signal=='sell':\n",
    "        investment = -abs(investment)    \n",
    "    investment = last_invest+investment\n",
    "    past_value = df.iloc[-1][1]\n",
    "    df2 = {'past_value': past_value, 'current_value': new_value, 'spent': investment, 'time': date}   \n",
    "    df = df.append(df2, ignore_index = True)\n",
    "    return df\n"
   ]
  },
  {
   "cell_type": "code",
   "execution_count": 391,
   "metadata": {},
   "outputs": [],
   "source": [
    "import random"
   ]
  },
  {
   "cell_type": "code",
   "execution_count": 395,
   "metadata": {},
   "outputs": [],
   "source": [
    "df_time = pd.read_csv (r'./client_valuev2.csv')\n",
    "df_portfolio = pd.read_csv (r'./portfolio.csv')"
   ]
  },
  {
   "cell_type": "code",
   "execution_count": 396,
   "metadata": {},
   "outputs": [
    {
     "data": {
      "text/plain": [
       "\"df_portfolio = update_portfolio(df_portfolio, investment, signal, coin_name)\\nportfolio_value = total_value(df_portfolio)\\ndf_time = update_client_valuev2(df_time, portfolio_value)\\ndf_portfolio[['coin','percentage','spent']].to_csv('portfolio_test.csv',index=False)\\ndf_time[['coin','percentage','time']].to_csv('client_valuev2_test.csv',index=False)\""
      ]
     },
     "execution_count": 396,
     "metadata": {},
     "output_type": "execute_result"
    }
   ],
   "source": [
    "\"\"\"df_portfolio = update_portfolio(df_portfolio, investment, signal, coin_name)\n",
    "portfolio_value = total_value(df_portfolio)\n",
    "df_time = update_client_valuev2(df_time, portfolio_value)\n",
    "df_portfolio[['coin','percentage','spent']].to_csv('portfolio_test.csv',index=False)\n",
    "df_time[['coin','percentage','time']].to_csv('client_valuev2_test.csv',index=False)\"\"\""
   ]
  },
  {
   "cell_type": "code",
   "execution_count": 398,
   "metadata": {},
   "outputs": [
    {
     "name": "stdout",
     "output_type": "stream",
     "text": [
      "2021-07-29 sell\n",
      "       coin   percentage spent\n",
      "0   BTC-USD     0.043607  2176\n",
      "1   SOL-USD     0.195122    39\n",
      "2  LUNA-USD  3611.445491    39\n",
      "2021-08-28 buy\n",
      "       coin   percentage spent\n",
      "0   BTC-USD     0.043607  2176\n",
      "1   SOL-USD    11.195121  1007\n",
      "2  LUNA-USD  3611.445491    39\n",
      "2021-09-27 buy\n",
      "       coin   percentage spent\n",
      "0   BTC-USD     0.043607  2176\n",
      "1   SOL-USD    11.195121  1007\n",
      "2  LUNA-USD  3611.445491    39\n",
      "3   ETH-USD     0.151998   466\n",
      "2021-10-27 buy\n",
      "       coin    percentage spent\n",
      "0   BTC-USD      0.043607  2176\n",
      "1   SOL-USD     11.195121  1007\n",
      "2  LUNA-USD  90635.191215   827\n",
      "3   ETH-USD      0.151998   466\n",
      "2021-11-26 sell\n",
      "       coin    percentage spent\n",
      "0   BTC-USD      0.027630  1234\n",
      "1   SOL-USD     11.195121  1007\n",
      "2  LUNA-USD  90635.191215   827\n",
      "3   ETH-USD      0.151998   466\n"
     ]
    }
   ],
   "source": [
    "iterations = 100\n",
    "days_to_buy = 300\n",
    "interval = 30\n",
    "margin_price = 500\n",
    "i = 1\n",
    "\n",
    "while i < 6: \n",
    "    investment = random.randint(1, margin_price)\n",
    "    signal = random.choice(['buy', 'sell'])\n",
    "    date_bought = date.today()-timedelta(days=days_to_buy)\n",
    "    coin_name = random.choice(['BTC-USD', 'ETH-USD', 'LUNA-USD', 'SOL-USD'])\n",
    "    #print(i,investment,signal, coin_name)\n",
    "    print(date_bought, signal)\n",
    "\n",
    "    if i == 1:\n",
    "        signal = 'buy'\n",
    "        df_portfolio = update_portfolio(df_portfolio, investment, signal, coin_name, date_bought)\n",
    "        print(df_portfolio)\n",
    "        portfolio_value = total_value(df_portfolio, date_bought)\n",
    "        df2 = {'past_value': 0, 'current_value': portfolio_value,'spent':investment, 'time': date_bought}   \n",
    "        df_time = df_time.append(df2, ignore_index = True)\n",
    "        df_portfolio[['coin','percentage','spent']].to_csv('portfolio_test.csv',index=False)\n",
    "        df_time[['past_value','current_value','time']].to_csv('client_valuev2_test.csv',index=False)  \n",
    "        days_to_buy=days_to_buy-interval\n",
    "        i+=1\n",
    "\n",
    "    else:    \n",
    "        if isinstance(update_portfolio(df_portfolio, investment, signal, coin_name, date_bought), str): \n",
    "            while isinstance(update_portfolio(df_portfolio, investment, signal, coin_name, date_bought), str):\n",
    "                investment = random.randint(1, margin_price)\n",
    "                signal = random.choice(['buy', 'sell'])\n",
    "                date_bought = date.today()-timedelta(days=days_to_buy)\n",
    "                coin_name = random.choice(['BTC-USD', 'ETH-USD'])\n",
    "\n",
    "            \n",
    "        df_portfolio = update_portfolio(df_portfolio, investment, signal, coin_name, date_bought)\n",
    "        print(df_portfolio)\n",
    "        portfolio_value = total_value(df_portfolio, date_bought)\n",
    "        df_time = update_client_valuev2(df_time, new_value=portfolio_value, investment=investment, signal=signal,date= date_bought)\n",
    "        df_portfolio[['coin','percentage','spent']].to_csv('portfolio_test.csv',index=False)\n",
    "        df_time[['past_value','current_value','spent','time']].to_csv('client_valuev2_test.csv',index=False)\n",
    "        days_to_buy=days_to_buy-interval\n",
    "        i+=1\n",
    "            \n",
    "    \n",
    "    "
   ]
  },
  {
   "cell_type": "markdown",
   "metadata": {},
   "source": [
    "# 2nd Try"
   ]
  },
  {
   "cell_type": "code",
   "execution_count": 399,
   "metadata": {},
   "outputs": [],
   "source": [
    "df_time = pd.read_csv (r'./client_valuev2.csv')\n",
    "df_portfolio = pd.read_csv (r'./portfolio2.csv')"
   ]
  },
  {
   "cell_type": "code",
   "execution_count": 400,
   "metadata": {},
   "outputs": [
    {
     "data": {
      "text/html": [
       "<div>\n",
       "<style scoped>\n",
       "    .dataframe tbody tr th:only-of-type {\n",
       "        vertical-align: middle;\n",
       "    }\n",
       "\n",
       "    .dataframe tbody tr th {\n",
       "        vertical-align: top;\n",
       "    }\n",
       "\n",
       "    .dataframe thead th {\n",
       "        text-align: right;\n",
       "    }\n",
       "</style>\n",
       "<table border=\"1\" class=\"dataframe\">\n",
       "  <thead>\n",
       "    <tr style=\"text-align: right;\">\n",
       "      <th></th>\n",
       "      <th>coin</th>\n",
       "      <th>quantity</th>\n",
       "    </tr>\n",
       "  </thead>\n",
       "  <tbody>\n",
       "    <tr>\n",
       "      <th>0</th>\n",
       "      <td>BTC-USD</td>\n",
       "      <td>10</td>\n",
       "    </tr>\n",
       "  </tbody>\n",
       "</table>\n",
       "</div>"
      ],
      "text/plain": [
       "      coin   quantity\n",
       "0  BTC-USD         10"
      ]
     },
     "execution_count": 400,
     "metadata": {},
     "output_type": "execute_result"
    }
   ],
   "source": [
    "df_portfolio"
   ]
  },
  {
   "cell_type": "markdown",
   "metadata": {},
   "source": [
    "# New Idea "
   ]
  },
  {
   "cell_type": "code",
   "execution_count": 401,
   "metadata": {},
   "outputs": [],
   "source": [
    "your_account = 100000\n",
    "coin_name = 'BTC-USD'\n",
    "investment= 10000\n",
    "signal = 'buy'"
   ]
  },
  {
   "cell_type": "code",
   "execution_count": 404,
   "metadata": {},
   "outputs": [],
   "source": [
    "def translate_quantity(coin_name, investment):\n",
    "    df_coin = yf.download(coin_name,\n",
    "                      start=date.today(), \n",
    "                      progress=False,\n",
    "                      interval='1m')\n",
    "    coin_value = (investment/df_coin[df_coin.index == df_coin.index.min()]['Open'][0])\n",
    "\n",
    "    return coin_value\n",
    "    "
   ]
  },
  {
   "cell_type": "code",
   "execution_count": 405,
   "metadata": {},
   "outputs": [
    {
     "data": {
      "text/plain": [
       "1.0140681489446923"
      ]
     },
     "execution_count": 405,
     "metadata": {},
     "output_type": "execute_result"
    }
   ],
   "source": [
    "translate_quantity('BTC-USD', 30000)"
   ]
  },
  {
   "cell_type": "code",
   "execution_count": 424,
   "metadata": {},
   "outputs": [],
   "source": [
    "account_coins = {'BTC-USD', 3}"
   ]
  },
  {
   "cell_type": "code",
   "execution_count": 429,
   "metadata": {},
   "outputs": [],
   "source": [
    "def update_tuple(account_coins, coin_name, investment): \n",
    "    for coins in account_coins: \n",
    "        print(coins)\n",
    "        if coins.get_key() == coin_name: \n",
    "           new_value = translate_quantity('BTC-USD', investment)\n",
    "           print(new_value)\n",
    "           coins[1] = coins[1]+new_value\n",
    "\n"
   ]
  },
  {
   "cell_type": "code",
   "execution_count": 422,
   "metadata": {},
   "outputs": [
    {
     "data": {
      "text/plain": [
       "[('BTC-USD', 3)]"
      ]
     },
     "execution_count": 422,
     "metadata": {},
     "output_type": "execute_result"
    }
   ],
   "source": [
    "account_coins"
   ]
  },
  {
   "cell_type": "code",
   "execution_count": null,
   "metadata": {},
   "outputs": [],
   "source": []
  }
 ],
 "metadata": {
  "interpreter": {
   "hash": "d19c53bfdcdba8e8c7323a867deef73bb52b58a4da617c41f03de0eef59a0bfa"
  },
  "kernelspec": {
   "display_name": "Python 3.8.12 ('ML')",
   "language": "python",
   "name": "python3"
  },
  "language_info": {
   "codemirror_mode": {
    "name": "ipython",
    "version": 3
   },
   "file_extension": ".py",
   "mimetype": "text/x-python",
   "name": "python",
   "nbconvert_exporter": "python",
   "pygments_lexer": "ipython3",
   "version": "3.8.12"
  },
  "orig_nbformat": 4
 },
 "nbformat": 4,
 "nbformat_minor": 2
}

{
 "cells": [
  {
   "cell_type": "code",
   "execution_count": 1,
   "metadata": {},
   "outputs": [],
   "source": [
    "import plotly.graph_objects as go\n",
    "import pandas as pd\n",
    "import numpy as np\n",
    "import plotly.express as px\n",
    "import plotly.io as pio\n",
    "from plotly.subplots import make_subplots\n",
    "import talib as tb\n",
    "import yfinance as yf\n",
    "\n",
    "\n",
    "import datetime\n",
    "from datetime import date\n",
    "from datetime import datetime as dt\n",
    "from dateutil.relativedelta import *\n",
    "from datetime import timedelta\n"
   ]
  },
  {
   "cell_type": "markdown",
   "metadata": {},
   "source": [
    "To comment several lines of code use CTRL + K + C / CTRL + K + U"
   ]
  },
  {
   "cell_type": "code",
   "execution_count": 2,
   "metadata": {},
   "outputs": [],
   "source": [
    "def df_converter(df): \n",
    "    df_sp500 = yf.download('^GSPC', \n",
    "                      start='2017-11-09', \n",
    "                      end='2022-05-08', \n",
    "                      progress=False)\n",
    "    df_dollar = yf.download('DX=F', \n",
    "                      start='2017-11-09', \n",
    "                      end='2022-05-08', \n",
    "                      progress=False)\n",
    "    # clearing dollar and sp500 df\n",
    "    df_dollar.drop(['Open', 'High', 'Low', 'Adj Close', 'Volume'], axis=1, inplace=True)\n",
    "    df_dollar.rename(columns={\"Close\": \"dollar_close\"}, inplace=True)\n",
    "    df_sp500.drop(['Open', 'High', 'Low', 'Adj Close', 'Volume'], axis=1, inplace=True)\n",
    "    df_sp500.rename(columns={\"Close\": \"sp500_close\"}, inplace=True)\n",
    "    # clearing general df\n",
    "    #df_eth.drop('Unnamed: 0', axis=1, inplace=True)\n",
    "    #df.drop('adj_close', axis=1, inplace=True)\n",
    "    df.index = df.index.astype('datetime64[ns]')\n",
    "    # MA df\n",
    "    df_ma = df['Close'].to_frame()\n",
    "    df_ma['SMA30'] = df_ma['Close'].rolling(15).mean()\n",
    "    df_ma['CMA30'] = df_ma['Close'].expanding().mean()\n",
    "    df_ma['EMA30'] = tb.EMA(df_ma['Close'], timeperiod=15)\n",
    "    df_ma.dropna(inplace=True)\n",
    "    # Stoch df\n",
    "    slowk, slowd = tb.STOCH(df[\"High\"], df[\"Low\"], df[\"Close\"], fastk_period=5, slowk_period=3, slowk_matype=0, slowd_period=3, slowd_matype=0)\n",
    "    df_stoch = pd.DataFrame(index=df.index,\n",
    "                                data={\"slowk\": slowk,\n",
    "                                    \"slowd\": slowd})\n",
    "    df_stoch.dropna(inplace=True)\n",
    "    # for later use in the concat\n",
    "    stoch_c = ['slowk', 'slowd']\n",
    "    # MACD df \n",
    "    macd, macdsignal, macdhist = tb.MACD(df.Close, fastperiod=12, slowperiod=26, signalperiod=9)\n",
    "    df_macd = pd.DataFrame(index=df.index,\n",
    "                            data={\"macd\": macd,\n",
    "                                  \"macdsignal\": macdsignal,\n",
    "                                  \"macdhist\": macdhist})\n",
    "    df_macd.dropna(inplace=True)\n",
    "    # for later use in the concat\n",
    "    macd_c = ['macd', 'macdsignal', 'macdhist']\n",
    "    # bb df\n",
    "    upper, middle, lower = tb.BBANDS(df[\"Close\"], timeperiod=15)\n",
    "    df_bands = pd.DataFrame(index=df.index,\n",
    "                                data={\"bb_low\": lower,\n",
    "                                    \"bb_ma\": middle,\n",
    "                                    \"bb_high\": upper})\n",
    "    df_bands.dropna(inplace=True)\n",
    "    # for later use in the concat\n",
    "    bands_c = ['bb_low', 'bb_ma', 'bb_high']\n",
    "    # rsi df\n",
    "    rsi = tb.RSI(df['Close'], timeperiod=15)\n",
    "    df_rsi = pd.DataFrame(index=df.index,\n",
    "                            data={\"close\": df['Close'],\n",
    "                                  \"rsi\": rsi})\n",
    "\n",
    "    df_rsi.dropna(inplace=True)\n",
    "    #stdev df\n",
    "    stdev = tb.STDDEV(df['Close'], timeperiod=15, nbdev=1)\n",
    "    df_stdev = pd.DataFrame(index=df.index,\n",
    "                            data={\"close\": df['Close'],\n",
    "                                  \"stdev\": stdev})\n",
    "    df_stdev.dropna(inplace=True)\n",
    "    # adx df\n",
    "    adx = tb.ADX(df['High'], df['Low'], df['Close'], timeperiod=15)\n",
    "    df_adx = pd.DataFrame(index=df.index,\n",
    "                                data={\"close\": df['Close'],\n",
    "                                    \"adx\": adx})\n",
    "\n",
    "    df_adx.dropna(inplace=True)\n",
    "\n",
    "    # concat \n",
    "    result =pd.concat([df, df_ma[['SMA30','CMA30','EMA30']], df_adx['adx'], df_bands[bands_c], df_macd[macd_c], df_rsi['rsi'], df_stdev['stdev'], df_stoch[stoch_c], df_dollar['dollar_close'], df_sp500['sp500_close']], axis=1)\n",
    "    result.fillna(method='ffill', inplace=True)\n",
    "    result.dropna(inplace=True)\n",
    "\n",
    "    return result "
   ]
  },
  {
   "cell_type": "code",
   "execution_count": 3,
   "metadata": {},
   "outputs": [],
   "source": [
    "df_btc = yf.download('BTC-USD',\n",
    "                      end=date.today(), \n",
    "                      progress=False,\n",
    "    )"
   ]
  },
  {
   "cell_type": "code",
   "execution_count": 4,
   "metadata": {},
   "outputs": [],
   "source": [
    "df_btc = df_converter(df_btc)"
   ]
  },
  {
   "cell_type": "code",
   "execution_count": 5,
   "metadata": {},
   "outputs": [
    {
     "data": {
      "text/html": [
       "<div>\n",
       "<style scoped>\n",
       "    .dataframe tbody tr th:only-of-type {\n",
       "        vertical-align: middle;\n",
       "    }\n",
       "\n",
       "    .dataframe tbody tr th {\n",
       "        vertical-align: top;\n",
       "    }\n",
       "\n",
       "    .dataframe thead th {\n",
       "        text-align: right;\n",
       "    }\n",
       "</style>\n",
       "<table border=\"1\" class=\"dataframe\">\n",
       "  <thead>\n",
       "    <tr style=\"text-align: right;\">\n",
       "      <th></th>\n",
       "      <th>Open</th>\n",
       "      <th>High</th>\n",
       "      <th>Low</th>\n",
       "      <th>Close</th>\n",
       "      <th>Adj Close</th>\n",
       "      <th>Volume</th>\n",
       "      <th>SMA30</th>\n",
       "      <th>CMA30</th>\n",
       "      <th>EMA30</th>\n",
       "      <th>adx</th>\n",
       "      <th>...</th>\n",
       "      <th>bb_high</th>\n",
       "      <th>macd</th>\n",
       "      <th>macdsignal</th>\n",
       "      <th>macdhist</th>\n",
       "      <th>rsi</th>\n",
       "      <th>stdev</th>\n",
       "      <th>slowk</th>\n",
       "      <th>slowd</th>\n",
       "      <th>dollar_close</th>\n",
       "      <th>sp500_close</th>\n",
       "    </tr>\n",
       "    <tr>\n",
       "      <th>Date</th>\n",
       "      <th></th>\n",
       "      <th></th>\n",
       "      <th></th>\n",
       "      <th></th>\n",
       "      <th></th>\n",
       "      <th></th>\n",
       "      <th></th>\n",
       "      <th></th>\n",
       "      <th></th>\n",
       "      <th></th>\n",
       "      <th></th>\n",
       "      <th></th>\n",
       "      <th></th>\n",
       "      <th></th>\n",
       "      <th></th>\n",
       "      <th></th>\n",
       "      <th></th>\n",
       "      <th></th>\n",
       "      <th></th>\n",
       "      <th></th>\n",
       "      <th></th>\n",
       "    </tr>\n",
       "  </thead>\n",
       "  <tbody>\n",
       "    <tr>\n",
       "      <th>2017-11-09</th>\n",
       "      <td>7446.830078</td>\n",
       "      <td>7446.830078</td>\n",
       "      <td>7101.520020</td>\n",
       "      <td>7143.580078</td>\n",
       "      <td>7143.580078</td>\n",
       "      <td>3226249984</td>\n",
       "      <td>6720.195964</td>\n",
       "      <td>1012.489040</td>\n",
       "      <td>6798.973215</td>\n",
       "      <td>37.428679</td>\n",
       "      <td>...</td>\n",
       "      <td>7929.899976</td>\n",
       "      <td>547.298468</td>\n",
       "      <td>521.809901</td>\n",
       "      <td>25.488567</td>\n",
       "      <td>65.836431</td>\n",
       "      <td>604.852006</td>\n",
       "      <td>33.184032</td>\n",
       "      <td>38.772059</td>\n",
       "      <td>94.351997</td>\n",
       "      <td>2584.620117</td>\n",
       "    </tr>\n",
       "    <tr>\n",
       "      <th>2017-11-10</th>\n",
       "      <td>7173.729980</td>\n",
       "      <td>7312.000000</td>\n",
       "      <td>6436.870117</td>\n",
       "      <td>6618.140137</td>\n",
       "      <td>6618.140137</td>\n",
       "      <td>5208249856</td>\n",
       "      <td>6767.749967</td>\n",
       "      <td>1017.359285</td>\n",
       "      <td>6776.369081</td>\n",
       "      <td>36.238180</td>\n",
       "      <td>...</td>\n",
       "      <td>7899.045668</td>\n",
       "      <td>482.149729</td>\n",
       "      <td>513.877867</td>\n",
       "      <td>-31.728137</td>\n",
       "      <td>55.203600</td>\n",
       "      <td>565.647850</td>\n",
       "      <td>30.022892</td>\n",
       "      <td>33.577955</td>\n",
       "      <td>94.278000</td>\n",
       "      <td>2582.300049</td>\n",
       "    </tr>\n",
       "    <tr>\n",
       "      <th>2017-11-11</th>\n",
       "      <td>6618.609863</td>\n",
       "      <td>6873.149902</td>\n",
       "      <td>6204.220215</td>\n",
       "      <td>6357.600098</td>\n",
       "      <td>6357.600098</td>\n",
       "      <td>4908680192</td>\n",
       "      <td>6806.196647</td>\n",
       "      <td>1021.994910</td>\n",
       "      <td>6724.022958</td>\n",
       "      <td>34.548539</td>\n",
       "      <td>...</td>\n",
       "      <td>7835.311479</td>\n",
       "      <td>404.828866</td>\n",
       "      <td>492.068066</td>\n",
       "      <td>-87.239201</td>\n",
       "      <td>50.841315</td>\n",
       "      <td>514.557416</td>\n",
       "      <td>13.668599</td>\n",
       "      <td>25.625174</td>\n",
       "      <td>94.278000</td>\n",
       "      <td>2582.300049</td>\n",
       "    </tr>\n",
       "    <tr>\n",
       "      <th>2017-11-12</th>\n",
       "      <td>6295.450195</td>\n",
       "      <td>6625.049805</td>\n",
       "      <td>5519.009766</td>\n",
       "      <td>5950.069824</td>\n",
       "      <td>5950.069824</td>\n",
       "      <td>8957349888</td>\n",
       "      <td>6819.328646</td>\n",
       "      <td>1026.269043</td>\n",
       "      <td>6627.278816</td>\n",
       "      <td>32.896648</td>\n",
       "      <td>...</td>\n",
       "      <td>7798.154128</td>\n",
       "      <td>307.126870</td>\n",
       "      <td>455.079827</td>\n",
       "      <td>-147.952957</td>\n",
       "      <td>44.895661</td>\n",
       "      <td>489.412741</td>\n",
       "      <td>14.127749</td>\n",
       "      <td>19.273080</td>\n",
       "      <td>94.278000</td>\n",
       "      <td>2582.300049</td>\n",
       "    </tr>\n",
       "    <tr>\n",
       "      <th>2017-11-13</th>\n",
       "      <td>5938.250000</td>\n",
       "      <td>6811.189941</td>\n",
       "      <td>5844.290039</td>\n",
       "      <td>6559.490234</td>\n",
       "      <td>6559.490234</td>\n",
       "      <td>6263249920</td>\n",
       "      <td>6846.371322</td>\n",
       "      <td>1031.063862</td>\n",
       "      <td>6618.805243</td>\n",
       "      <td>30.978407</td>\n",
       "      <td>...</td>\n",
       "      <td>7771.077715</td>\n",
       "      <td>275.694434</td>\n",
       "      <td>419.202748</td>\n",
       "      <td>-143.508315</td>\n",
       "      <td>53.591318</td>\n",
       "      <td>462.353197</td>\n",
       "      <td>27.607649</td>\n",
       "      <td>18.467999</td>\n",
       "      <td>94.388000</td>\n",
       "      <td>2584.840088</td>\n",
       "    </tr>\n",
       "  </tbody>\n",
       "</table>\n",
       "<p>5 rows × 22 columns</p>\n",
       "</div>"
      ],
      "text/plain": [
       "                   Open         High          Low        Close    Adj Close  \\\n",
       "Date                                                                          \n",
       "2017-11-09  7446.830078  7446.830078  7101.520020  7143.580078  7143.580078   \n",
       "2017-11-10  7173.729980  7312.000000  6436.870117  6618.140137  6618.140137   \n",
       "2017-11-11  6618.609863  6873.149902  6204.220215  6357.600098  6357.600098   \n",
       "2017-11-12  6295.450195  6625.049805  5519.009766  5950.069824  5950.069824   \n",
       "2017-11-13  5938.250000  6811.189941  5844.290039  6559.490234  6559.490234   \n",
       "\n",
       "                Volume        SMA30        CMA30        EMA30        adx  ...  \\\n",
       "Date                                                                      ...   \n",
       "2017-11-09  3226249984  6720.195964  1012.489040  6798.973215  37.428679  ...   \n",
       "2017-11-10  5208249856  6767.749967  1017.359285  6776.369081  36.238180  ...   \n",
       "2017-11-11  4908680192  6806.196647  1021.994910  6724.022958  34.548539  ...   \n",
       "2017-11-12  8957349888  6819.328646  1026.269043  6627.278816  32.896648  ...   \n",
       "2017-11-13  6263249920  6846.371322  1031.063862  6618.805243  30.978407  ...   \n",
       "\n",
       "                bb_high        macd  macdsignal    macdhist        rsi  \\\n",
       "Date                                                                     \n",
       "2017-11-09  7929.899976  547.298468  521.809901   25.488567  65.836431   \n",
       "2017-11-10  7899.045668  482.149729  513.877867  -31.728137  55.203600   \n",
       "2017-11-11  7835.311479  404.828866  492.068066  -87.239201  50.841315   \n",
       "2017-11-12  7798.154128  307.126870  455.079827 -147.952957  44.895661   \n",
       "2017-11-13  7771.077715  275.694434  419.202748 -143.508315  53.591318   \n",
       "\n",
       "                 stdev      slowk      slowd  dollar_close  sp500_close  \n",
       "Date                                                                     \n",
       "2017-11-09  604.852006  33.184032  38.772059     94.351997  2584.620117  \n",
       "2017-11-10  565.647850  30.022892  33.577955     94.278000  2582.300049  \n",
       "2017-11-11  514.557416  13.668599  25.625174     94.278000  2582.300049  \n",
       "2017-11-12  489.412741  14.127749  19.273080     94.278000  2582.300049  \n",
       "2017-11-13  462.353197  27.607649  18.467999     94.388000  2584.840088  \n",
       "\n",
       "[5 rows x 22 columns]"
      ]
     },
     "execution_count": 5,
     "metadata": {},
     "output_type": "execute_result"
    }
   ],
   "source": [
    "df_btc.head()"
   ]
  },
  {
   "cell_type": "code",
   "execution_count": 6,
   "metadata": {},
   "outputs": [],
   "source": [
    "df_sol = yf.download('SOL-USD',\n",
    "                      end=date.today(), \n",
    "                      progress=False,\n",
    "    )"
   ]
  },
  {
   "cell_type": "code",
   "execution_count": 7,
   "metadata": {},
   "outputs": [
    {
     "data": {
      "text/plain": [
       "93.77913607014075"
      ]
     },
     "execution_count": 7,
     "metadata": {},
     "output_type": "execute_result"
    }
   ],
   "source": [
    "df_btc['rsi'].max()"
   ]
  },
  {
   "cell_type": "code",
   "execution_count": 8,
   "metadata": {},
   "outputs": [
    {
     "data": {
      "text/plain": [
       "['SMA30',\n",
       " 'CMA30',\n",
       " 'EMA30',\n",
       " 'adx',\n",
       " 'bb_low',\n",
       " 'bb_ma',\n",
       " 'bb_high',\n",
       " 'macd',\n",
       " 'macdsignal',\n",
       " 'macdhist',\n",
       " 'rsi',\n",
       " 'stdev',\n",
       " 'slowk',\n",
       " 'slowd',\n",
       " 'dollar_close',\n",
       " 'sp500_close']"
      ]
     },
     "execution_count": 8,
     "metadata": {},
     "output_type": "execute_result"
    }
   ],
   "source": [
    "df_btc.columns.tolist()[6:]"
   ]
  },
  {
   "cell_type": "code",
   "execution_count": 9,
   "metadata": {},
   "outputs": [],
   "source": [
    "def candlestick(df, days, comparison = None, indicators = None):\n",
    "\n",
    "    today = date.today()\n",
    "    df = df[today - pd.offsets.Day(days):]\n",
    "    \n",
    "    if comparison is None and indicators is None: \n",
    "        fig = go.Figure(\n",
    "            data = [\n",
    "                go.Candlestick(\n",
    "                    x = df.index,\n",
    "                    open = df.Open,\n",
    "                    high = df.High,\n",
    "                    low = df.Low,\n",
    "                    close = df.Close\n",
    "                )\n",
    "            ]\n",
    "        )\n",
    "    elif comparison is not None and indicators is None:  \n",
    "        df= df.pct_change()\n",
    "        comparison = comparison[today - pd.offsets.Day(days):]\n",
    "        comparison = comparison.pct_change()\n",
    "        \n",
    "        fig = go.Figure(\n",
    "            data = [\n",
    "                go.Candlestick(\n",
    "                    x = df.index,\n",
    "                    open = df.Open,\n",
    "                    high = df.High,\n",
    "                    low = df.Low,\n",
    "                    close = df.Close\n",
    "                ),\n",
    "                go.Scatter(\n",
    "                    x = comparison.index, \n",
    "                    y = comparison.Close,\n",
    "                    mode = 'lines', \n",
    "                    name = 'SOL',\n",
    "                    line = {'color': 'red'},\n",
    "                    customdata=df_normal[['Open','High','Low','Close']],\n",
    "                            hovertemplate='<br>'.join([\n",
    "                                'Percentual Change: %{y}',\n",
    "                                'Date: %{x}',\n",
    "                                'Open: %{customdata[0]:.3f}',\n",
    "                                'High: %{customdata[1]:.3f}',\n",
    "                                'Low: %{customdata[2]:.3f}',\n",
    "                                'Close: %{customdata[3]:.3f}'\n",
    "                            ])\n",
    "                )\n",
    "\n",
    "            ],\n",
    "            layout = go.Layout(yaxis=dict(tickformat=\".2%\"))\n",
    "        )   \n",
    "\n",
    "    elif comparison is None and indicators is not None:\n",
    "\n",
    "        df= df.pct_change()\n",
    "\n",
    "        fig = make_subplots(rows=2, cols=1)\n",
    "        fig.update_yaxes(tickformat=\".2%\")\n",
    "        fig.append_trace(\n",
    "                        go.Candlestick(\n",
    "                            x = df.index,\n",
    "                            open = df.Open,\n",
    "                            high = df.High,\n",
    "                            low = df.Low,\n",
    "                            close = df.Close\n",
    "                        ), row=1, col=1)\n",
    "        \n",
    "        for i in indicators: \n",
    "            if i == 'rsi': \n",
    "                fig.append_trace(go.Scatter(\n",
    "                        x=df['rsi'].index,\n",
    "                        y=df['rsi'],\n",
    "                        mode=\"lines\",\n",
    "                        name = 'rsi'\n",
    "                        ),  row=2, col=1\n",
    "                    )\n",
    "                \n",
    "\n",
    "            else:\n",
    "                fig.add_trace(\n",
    "                        go.Scatter(\n",
    "                            x=df[i].index,\n",
    "                            y=df[i],\n",
    "                            mode=\"lines\",\n",
    "                            name = i,\n",
    "                            marker=dict(\n",
    "                            colorscale='Mint',\n",
    "                            customdata=df_normal[['Open','High','Low','Close']],\n",
    "                            hovertemplate='<br>'.join([\n",
    "                                'Percentual Change: %{y}',\n",
    "                                'Date: %{x}',\n",
    "                                'Open: %{customdata[0]:.3f}',\n",
    "                                'High: %{customdata[1]:.3f}',\n",
    "                                'Low: %{customdata[2]:.3f}',\n",
    "                                'Close: %{customdata[3]:.3f}'\n",
    "                            ]),\n",
    "                            )\n",
    "                            )\n",
    "                        )\n",
    "    \n",
    "    else:\n",
    "        df_normal = df.copy()\n",
    "        df = df.pct_change()\n",
    "        comparison = comparison[today - pd.offsets.Day(days):]\n",
    "        comparison = comparison.pct_change()\n",
    "\n",
    "        fig = make_subplots(rows=2, cols=1, specs = [[{ }], [{ }]], vertical_spacing = 0.40, \n",
    "                            row_heights=[20, 15])\n",
    "        fig.update_yaxes(tickformat=\".2%\", row = 1)\n",
    "        fig.update_layout(width=1000, height= 800)\n",
    "\n",
    "        hovertext=[]\n",
    "        for i in range(len(df_normal.Open)):\n",
    "            hovertext.append('Open: '+str(df_normal.Open[i].round(2))+', ' + str(df.Open[i].round(2))+'<br>High: '+str(df_normal.High[i].round(2)) +', ' + str(df.High[i].round(2))\n",
    "                            +'<br>Low: '+str(df_normal.Low[i].round(2)) +', ' + str(df.Low[i].round(2))+'<br>Close: '+str(df_normal.Close[i].round(2)) +', ' + str(df.Close[i].round(2)))\n",
    "\n",
    "        fig.append_trace(\n",
    "                go.Candlestick(\n",
    "                    x = df.index,\n",
    "                    open = df.Open,\n",
    "                    high = df.High,\n",
    "                    low = df.Low,\n",
    "                    close = df.Close,\n",
    "                    text= hovertext,\n",
    "                    hoverinfo='text'\n",
    "                ), row=1, col=1)\n",
    "        fig.add_trace(go.Scatter(\n",
    "                        x = comparison.index, \n",
    "                        y = comparison.Close,\n",
    "                        mode = 'lines', \n",
    "                        name = 'SOL',\n",
    "                        line = {'color': 'orange'},\n",
    "                        customdata=df_normal[['Open','High','Low','Close']],\n",
    "                            hovertemplate='<br>'.join([\n",
    "                                'Percentual Change: %{y}',\n",
    "                                'Date: %{x}',\n",
    "                                'Open: %{customdata[0]:.3f}',\n",
    "                                'High: %{customdata[1]:.3f}',\n",
    "                                'Low: %{customdata[2]:.3f}',\n",
    "                                'Close: %{customdata[3]:.3f}'\n",
    "                            ])\n",
    "                        ))\n",
    "\n",
    "        for i,v in enumerate(indicators): \n",
    "            if v == 'rsi': \n",
    "            \n",
    "                fig.append_trace(go.Scatter(\n",
    "                        x=df_normal['rsi'].index,\n",
    "                        y=df_normal['rsi'],\n",
    "                        mode=\"lines\",\n",
    "                        name = 'rsi'\n",
    "                        ),  row=2, col=1\n",
    "                    )\n",
    "\n",
    "                fig.add_hline(y=30 , line_width=2, line_dash=\"dash\", line_color=\"blue\", row=2, col=1)\n",
    "                fig.add_hline(y=70, line_width=2, line_dash=\"dash\", line_color=\"blue\", row=2, col=1)\n",
    "            \n",
    "            elif v == 'bolinger bands':\n",
    "\n",
    "                fig.add_trace(go.Scatter(x=df['bb_low'].index,\n",
    "                    y=df['bb_low'],\n",
    "                    fill=None,\n",
    "                    mode='lines',\n",
    "                    line_color='indigo',\n",
    "                    name = 'bb_low',\n",
    "                    customdata=df_normal[['Open','High','Low','Close']],\n",
    "                            hovertemplate='<br>'.join([\n",
    "                                'Percentual Change: %{y}',\n",
    "                                'Date: %{x}',\n",
    "                                'Open: %{customdata[0]:.3f}',\n",
    "                                'High: %{customdata[1]:.3f}',\n",
    "                                'Low: %{customdata[2]:.3f}',\n",
    "                                'Close: %{customdata[3]:.3f}'\n",
    "                            ])\n",
    "                    \n",
    "                    ))\n",
    "                fig.add_trace(go.Scatter(\n",
    "                    x=df['bb_high'].index,\n",
    "                    y=df['bb_high'],\n",
    "                    name = 'bb_high',\n",
    "                    fill='tonexty', # fill area between trace0 and trace1\n",
    "                    mode='lines', line_color='indigo', \n",
    "                    customdata=df_normal[['Open','High','Low','Close']],\n",
    "                            hovertemplate='<br>'.join([\n",
    "                                'Percentual Change: %{y}',\n",
    "                                'Date: %{x}',\n",
    "                                'Open: %{customdata[0]:.3f}',\n",
    "                                'High: %{customdata[1]:.3f}',\n",
    "                                'Low: %{customdata[2]:.3f}',\n",
    "                                'Close: %{customdata[3]:.3f}'\n",
    "                            ])))\n",
    "                    \n",
    "            else:\n",
    "                \n",
    "                color_palete= ['violet', 'pink',  'magenta', 'turquoise', 'lightpink', 'lightsalmon', 'mediumorchid', 'mediumpurple', 'mediumvioletred', 'darkviolet']\n",
    "                for ind, value in enumerate(color_palete):\n",
    "\n",
    "                    if i == ind: \n",
    "                        fig.add_trace(\n",
    "                        go.Scatter(\n",
    "                            x=df[v].index,\n",
    "                            y=df[v],\n",
    "                            mode=\"lines\",\n",
    "                            name = v,\n",
    "                            line_color=value,\n",
    "                            customdata=df_normal[['Open','High','Low','Close']],\n",
    "                            hovertemplate='<br>'.join([\n",
    "                                'Percentual Change: %{y}',\n",
    "                                'Date: %{x}',\n",
    "                                'Open: %{customdata[0]:.3f}',\n",
    "                                'High: %{customdata[1]:.3f}',\n",
    "                                'Low: %{customdata[2]:.3f}',\n",
    "                                'Close: %{customdata[3]:.3f}'\n",
    "                            ]),\n",
    "                        )\n",
    "                        )\n",
    "                        \n",
    "            \n",
    "    fig.show()\n",
    "\n",
    "\n",
    "    \n"
   ]
  },
  {
   "cell_type": "code",
   "execution_count": 10,
   "metadata": {},
   "outputs": [
    {
     "data": {
      "application/vnd.plotly.v1+json": {
       "config": {
        "plotlyServerURL": "https://plot.ly"
       },
       "data": [
        {
         "close": [
          null,
          -0.014954355270636377,
          -0.040636848764922684,
          -0.11046369999353145,
          0.02396125848050934,
          -0.06725839173272163,
          0.003849706798608521,
          0.008102229834508146,
          0.027939733537411415,
          0.03999325713567892,
          -0.046069001557128786,
          0.018850785235190015,
          -0.05605711989808215,
          0.05550304428240649,
          -0.036734890846488066
         ],
         "high": [
          null,
          -0.013500129481787027,
          -0.017353602628361386,
          -0.036077776566268205,
          -0.04750634384719021,
          -0.01788258472039883,
          -0.061879173895796336,
          0.02971331325391713,
          -0.023670320754749175,
          0.03694220379895752,
          -0.0000910180130824223,
          -0.0195126942380478,
          -0.002468633195124359,
          -0.006138887040791463,
          0.007696970805578296
         ],
         "hoverinfo": "text",
         "low": [
          null,
          -0.015255807665521814,
          -0.03039022114510348,
          -0.10572966840251052,
          -0.011623293905895005,
          -0.059255313438351664,
          -0.06460408512587867,
          0.09228822014770688,
          -0.0027593291321247326,
          0.028736810087718334,
          -0.009342247884884247,
          0.010885382986472791,
          -0.028746112531741308,
          -0.0003940215626497823,
          0.00294857093874179
         ],
         "open": [
          null,
          -0.014510076382595494,
          -0.014970172477568489,
          -0.040642429164925,
          -0.11116733972798931,
          0.024527243708125646,
          -0.06704400663816756,
          0.0032545407518882463,
          0.008774524136652362,
          0.027759109509252422,
          0.0400613193258923,
          -0.04606278824844767,
          0.01882200218672181,
          -0.05601144945672021,
          0.05538787815481494
         ],
         "text": [
          "Open: 36573.18, nan<br>High: 36624.36, nan<br>Low: 35482.13, nan<br>Close: 36040.92, nan",
          "Open: 36042.5, -0.01<br>High: 36129.93, -0.01<br>Low: 34940.82, -0.02<br>Close: 35501.95, -0.01",
          "Open: 35502.94, -0.01<br>High: 35502.94, -0.02<br>Low: 33878.96, -0.03<br>Close: 34059.27, -0.04",
          "Open: 34060.02, -0.04<br>High: 34222.07, -0.04<br>Low: 30296.95, -0.11<br>Close: 30296.95, -0.11",
          "Open: 30273.65, -0.11<br>High: 32596.31, -0.05<br>Low: 29944.8, -0.01<br>Close: 31022.91, 0.02",
          "Open: 31016.18, 0.02<br>High: 32013.4, -0.02<br>Low: 28170.41, -0.06<br>Close: 28936.36, -0.07",
          "Open: 28936.73, -0.07<br>High: 30032.44, -0.06<br>Low: 26350.49, -0.06<br>Close: 29047.75, 0.0",
          "Open: 29030.91, 0.0<br>High: 30924.8, 0.03<br>Low: 28782.33, 0.09<br>Close: 29283.1, 0.01",
          "Open: 29285.64, 0.01<br>High: 30192.8, -0.02<br>Low: 28702.91, -0.0<br>Close: 30101.27, 0.03",
          "Open: 30098.59, 0.03<br>High: 31308.19, 0.04<br>Low: 29527.74, 0.03<br>Close: 31305.11, 0.04",
          "Open: 31304.38, 0.04<br>High: 31305.34, -0.0<br>Low: 29251.88, -0.01<br>Close: 29862.92, -0.05",
          "Open: 29862.41, -0.05<br>High: 30694.49, -0.02<br>Low: 29570.3, 0.01<br>Close: 30425.86, 0.02",
          "Open: 30424.48, 0.02<br>High: 30618.72, -0.0<br>Low: 28720.27, -0.03<br>Close: 28720.27, -0.06",
          "Open: 28720.36, -0.06<br>High: 30430.75, -0.01<br>Low: 28708.96, -0.0<br>Close: 30314.33, 0.06",
          "Open: 30311.12, 0.06<br>High: 30664.98, 0.01<br>Low: 28793.61, 0.0<br>Close: 29200.74, -0.04"
         ],
         "type": "candlestick",
         "x": [
          "2022-05-06T00:00:00",
          "2022-05-07T00:00:00",
          "2022-05-08T00:00:00",
          "2022-05-09T00:00:00",
          "2022-05-10T00:00:00",
          "2022-05-11T00:00:00",
          "2022-05-12T00:00:00",
          "2022-05-13T00:00:00",
          "2022-05-14T00:00:00",
          "2022-05-15T00:00:00",
          "2022-05-16T00:00:00",
          "2022-05-17T00:00:00",
          "2022-05-18T00:00:00",
          "2022-05-19T00:00:00",
          "2022-05-20T00:00:00"
         ],
         "xaxis": "x",
         "yaxis": "y"
        },
        {
         "customdata": [
          [
           36573.18359375,
           36624.359375,
           35482.1328125,
           36040.921875
          ],
          [
           36042.50390625,
           36129.92578125,
           34940.82421875,
           35501.953125
          ],
          [
           35502.94140625,
           35502.94140625,
           33878.96484375,
           34059.265625
          ],
          [
           34060.015625,
           34222.07421875,
           30296.953125,
           30296.953125
          ],
          [
           30273.654296875,
           32596.30859375,
           29944.802734375,
           31022.90625
          ],
          [
           31016.18359375,
           32013.40234375,
           28170.4140625,
           28936.35546875
          ],
          [
           28936.734375,
           30032.439453125,
           26350.490234375,
           29047.751953125
          ],
          [
           29030.91015625,
           30924.802734375,
           28782.330078125,
           29283.103515625
          ],
          [
           29285.642578125,
           30192.802734375,
           28702.91015625,
           30101.265625
          ],
          [
           30098.5859375,
           31308.19140625,
           29527.740234375,
           31305.11328125
          ],
          [
           31304.375,
           31305.341796875,
           29251.884765625,
           29862.91796875
          ],
          [
           29862.408203125,
           30694.490234375,
           29570.302734375,
           30425.857421875
          ],
          [
           30424.478515625,
           30618.716796875,
           28720.271484375,
           28720.271484375
          ],
          [
           28720.359375,
           30430.751953125,
           28708.955078125,
           30314.333984375
          ],
          [
           30311.119140625,
           30664.9765625,
           28793.60546875,
           29200.740234375
          ]
         ],
         "hovertemplate": "Percentual Change: %{y}<br>Date: %{x}<br>Open: %{customdata[0]:.3f}<br>High: %{customdata[1]:.3f}<br>Low: %{customdata[2]:.3f}<br>Close: %{customdata[3]:.3f}",
         "line": {
          "color": "orange"
         },
         "mode": "lines",
         "name": "SOL",
         "type": "scatter",
         "x": [
          "2022-05-06T00:00:00",
          "2022-05-07T00:00:00",
          "2022-05-08T00:00:00",
          "2022-05-09T00:00:00",
          "2022-05-10T00:00:00",
          "2022-05-11T00:00:00",
          "2022-05-12T00:00:00",
          "2022-05-13T00:00:00",
          "2022-05-14T00:00:00",
          "2022-05-15T00:00:00",
          "2022-05-16T00:00:00",
          "2022-05-17T00:00:00",
          "2022-05-18T00:00:00",
          "2022-05-19T00:00:00",
          "2022-05-20T00:00:00"
         ],
         "y": [
          null,
          -0.03400863209195493,
          -0.04764591019670095,
          -0.15887399257145063,
          0.05526343079846807,
          -0.24795950211474505,
          -0.1100809855412429,
          0.08750330280312468,
          0.07868684464460052,
          0.12198347687237354,
          -0.08781989566206017,
          0.06485356213829974,
          -0.12900366874700342,
          0.04939619537767004,
          -0.05124046389204928
         ]
        },
        {
         "customdata": [
          [
           36573.18359375,
           36624.359375,
           35482.1328125,
           36040.921875
          ],
          [
           36042.50390625,
           36129.92578125,
           34940.82421875,
           35501.953125
          ],
          [
           35502.94140625,
           35502.94140625,
           33878.96484375,
           34059.265625
          ],
          [
           34060.015625,
           34222.07421875,
           30296.953125,
           30296.953125
          ],
          [
           30273.654296875,
           32596.30859375,
           29944.802734375,
           31022.90625
          ],
          [
           31016.18359375,
           32013.40234375,
           28170.4140625,
           28936.35546875
          ],
          [
           28936.734375,
           30032.439453125,
           26350.490234375,
           29047.751953125
          ],
          [
           29030.91015625,
           30924.802734375,
           28782.330078125,
           29283.103515625
          ],
          [
           29285.642578125,
           30192.802734375,
           28702.91015625,
           30101.265625
          ],
          [
           30098.5859375,
           31308.19140625,
           29527.740234375,
           31305.11328125
          ],
          [
           31304.375,
           31305.341796875,
           29251.884765625,
           29862.91796875
          ],
          [
           29862.408203125,
           30694.490234375,
           29570.302734375,
           30425.857421875
          ],
          [
           30424.478515625,
           30618.716796875,
           28720.271484375,
           28720.271484375
          ],
          [
           28720.359375,
           30430.751953125,
           28708.955078125,
           30314.333984375
          ],
          [
           30311.119140625,
           30664.9765625,
           28793.60546875,
           29200.740234375
          ]
         ],
         "hovertemplate": "Percentual Change: %{y}<br>Date: %{x}<br>Open: %{customdata[0]:.3f}<br>High: %{customdata[1]:.3f}<br>Low: %{customdata[2]:.3f}<br>Close: %{customdata[3]:.3f}",
         "line": {
          "color": "indigo"
         },
         "mode": "lines",
         "name": "bb_low",
         "type": "scatter",
         "x": [
          "2022-05-06T00:00:00",
          "2022-05-07T00:00:00",
          "2022-05-08T00:00:00",
          "2022-05-09T00:00:00",
          "2022-05-10T00:00:00",
          "2022-05-11T00:00:00",
          "2022-05-12T00:00:00",
          "2022-05-13T00:00:00",
          "2022-05-14T00:00:00",
          "2022-05-15T00:00:00",
          "2022-05-16T00:00:00",
          "2022-05-17T00:00:00",
          "2022-05-18T00:00:00",
          "2022-05-19T00:00:00",
          "2022-05-20T00:00:00"
         ],
         "y": [
          null,
          -0.018399379624379986,
          -0.02856588001913385,
          -0.06450550207476025,
          -0.03878179310558849,
          -0.056550993302935115,
          -0.04476428743139038,
          -0.032760568111541155,
          -0.022353853195927975,
          -0.011739835293925194,
          -0.013990420097642509,
          -0.002848054421311974,
          -0.01129445448799904,
          0.029500456801057062,
          0.0072915107355682185
         ]
        },
        {
         "customdata": [
          [
           36573.18359375,
           36624.359375,
           35482.1328125,
           36040.921875
          ],
          [
           36042.50390625,
           36129.92578125,
           34940.82421875,
           35501.953125
          ],
          [
           35502.94140625,
           35502.94140625,
           33878.96484375,
           34059.265625
          ],
          [
           34060.015625,
           34222.07421875,
           30296.953125,
           30296.953125
          ],
          [
           30273.654296875,
           32596.30859375,
           29944.802734375,
           31022.90625
          ],
          [
           31016.18359375,
           32013.40234375,
           28170.4140625,
           28936.35546875
          ],
          [
           28936.734375,
           30032.439453125,
           26350.490234375,
           29047.751953125
          ],
          [
           29030.91015625,
           30924.802734375,
           28782.330078125,
           29283.103515625
          ],
          [
           29285.642578125,
           30192.802734375,
           28702.91015625,
           30101.265625
          ],
          [
           30098.5859375,
           31308.19140625,
           29527.740234375,
           31305.11328125
          ],
          [
           31304.375,
           31305.341796875,
           29251.884765625,
           29862.91796875
          ],
          [
           29862.408203125,
           30694.490234375,
           29570.302734375,
           30425.857421875
          ],
          [
           30424.478515625,
           30618.716796875,
           28720.271484375,
           28720.271484375
          ],
          [
           28720.359375,
           30430.751953125,
           28708.955078125,
           30314.333984375
          ],
          [
           30311.119140625,
           30664.9765625,
           28793.60546875,
           29200.740234375
          ]
         ],
         "fill": "tonexty",
         "hovertemplate": "Percentual Change: %{y}<br>Date: %{x}<br>Open: %{customdata[0]:.3f}<br>High: %{customdata[1]:.3f}<br>Low: %{customdata[2]:.3f}<br>Close: %{customdata[3]:.3f}",
         "line": {
          "color": "indigo"
         },
         "mode": "lines",
         "name": "bb_high",
         "type": "scatter",
         "x": [
          "2022-05-06T00:00:00",
          "2022-05-07T00:00:00",
          "2022-05-08T00:00:00",
          "2022-05-09T00:00:00",
          "2022-05-10T00:00:00",
          "2022-05-11T00:00:00",
          "2022-05-12T00:00:00",
          "2022-05-13T00:00:00",
          "2022-05-14T00:00:00",
          "2022-05-15T00:00:00",
          "2022-05-16T00:00:00",
          "2022-05-17T00:00:00",
          "2022-05-18T00:00:00",
          "2022-05-19T00:00:00",
          "2022-05-20T00:00:00"
         ],
         "y": [
          null,
          0.0024775039908726537,
          0.007109250957039404,
          0.024279285404794182,
          -0.0001008302294422947,
          0.012561722513849238,
          -0.001087172482775789,
          -0.011210638609522317,
          -0.012460580312641856,
          -0.012970397862623328,
          -0.018883179961996177,
          -0.024804484506035118,
          -0.023071848637433945,
          -0.051756711212367024,
          -0.03201799767984659
         ]
        },
        {
         "customdata": [
          [
           36573.18359375,
           36624.359375,
           35482.1328125,
           36040.921875
          ],
          [
           36042.50390625,
           36129.92578125,
           34940.82421875,
           35501.953125
          ],
          [
           35502.94140625,
           35502.94140625,
           33878.96484375,
           34059.265625
          ],
          [
           34060.015625,
           34222.07421875,
           30296.953125,
           30296.953125
          ],
          [
           30273.654296875,
           32596.30859375,
           29944.802734375,
           31022.90625
          ],
          [
           31016.18359375,
           32013.40234375,
           28170.4140625,
           28936.35546875
          ],
          [
           28936.734375,
           30032.439453125,
           26350.490234375,
           29047.751953125
          ],
          [
           29030.91015625,
           30924.802734375,
           28782.330078125,
           29283.103515625
          ],
          [
           29285.642578125,
           30192.802734375,
           28702.91015625,
           30101.265625
          ],
          [
           30098.5859375,
           31308.19140625,
           29527.740234375,
           31305.11328125
          ],
          [
           31304.375,
           31305.341796875,
           29251.884765625,
           29862.91796875
          ],
          [
           29862.408203125,
           30694.490234375,
           29570.302734375,
           30425.857421875
          ],
          [
           30424.478515625,
           30618.716796875,
           28720.271484375,
           28720.271484375
          ],
          [
           28720.359375,
           30430.751953125,
           28708.955078125,
           30314.333984375
          ],
          [
           30311.119140625,
           30664.9765625,
           28793.60546875,
           29200.740234375
          ]
         ],
         "hovertemplate": "Percentual Change: %{y}<br>Date: %{x}<br>Open: %{customdata[0]:.3f}<br>High: %{customdata[1]:.3f}<br>Low: %{customdata[2]:.3f}<br>Close: %{customdata[3]:.3f}",
         "line": {
          "color": "pink"
         },
         "mode": "lines",
         "name": "stdev",
         "type": "scatter",
         "x": [
          "2022-05-06T00:00:00",
          "2022-05-07T00:00:00",
          "2022-05-08T00:00:00",
          "2022-05-09T00:00:00",
          "2022-05-10T00:00:00",
          "2022-05-11T00:00:00",
          "2022-05-12T00:00:00",
          "2022-05-13T00:00:00",
          "2022-05-14T00:00:00",
          "2022-05-15T00:00:00",
          "2022-05-16T00:00:00",
          "2022-05-17T00:00:00",
          "2022-05-18T00:00:00",
          "2022-05-19T00:00:00",
          "2022-05-20T00:00:00"
         ],
         "y": [
          null,
          0.15984908421271915,
          0.23470259246377,
          0.46991863183553506,
          0.12346266602205413,
          0.201454005034166,
          0.0926520789845462,
          0.029222927421078237,
          0.004984007858658046,
          -0.015081197327650897,
          -0.027304264701037306,
          -0.06311164738703867,
          -0.04494145518973425,
          -0.20796008790785114,
          -0.1302393310165808
         ]
        },
        {
         "mode": "lines",
         "name": "rsi",
         "type": "scatter",
         "x": [
          "2022-05-06T00:00:00",
          "2022-05-07T00:00:00",
          "2022-05-08T00:00:00",
          "2022-05-09T00:00:00",
          "2022-05-10T00:00:00",
          "2022-05-11T00:00:00",
          "2022-05-12T00:00:00",
          "2022-05-13T00:00:00",
          "2022-05-14T00:00:00",
          "2022-05-15T00:00:00",
          "2022-05-16T00:00:00",
          "2022-05-17T00:00:00",
          "2022-05-18T00:00:00",
          "2022-05-19T00:00:00",
          "2022-05-20T00:00:00"
         ],
         "xaxis": "x2",
         "y": [
          37.16707930281389,
          35.79928306161699,
          32.38159005851162,
          25.562730058910816,
          28.668106767272487,
          25.404364917874002,
          25.88699783905028,
          26.956772497827348,
          30.68343800924017,
          35.84373749673219,
          32.71742241331945,
          35.08532154716942,
          31.487988562078222,
          37.867254206381276,
          35.40011685784629
         ],
         "yaxis": "y2"
        }
       ],
       "layout": {
        "height": 800,
        "shapes": [
         {
          "line": {
           "color": "blue",
           "dash": "dash",
           "width": 2
          },
          "type": "line",
          "x0": 0,
          "x1": 1,
          "xref": "x2 domain",
          "y0": 30,
          "y1": 30,
          "yref": "y2"
         },
         {
          "line": {
           "color": "blue",
           "dash": "dash",
           "width": 2
          },
          "type": "line",
          "x0": 0,
          "x1": 1,
          "xref": "x2 domain",
          "y0": 70,
          "y1": 70,
          "yref": "y2"
         }
        ],
        "template": {
         "data": {
          "bar": [
           {
            "error_x": {
             "color": "#2a3f5f"
            },
            "error_y": {
             "color": "#2a3f5f"
            },
            "marker": {
             "line": {
              "color": "#E5ECF6",
              "width": 0.5
             },
             "pattern": {
              "fillmode": "overlay",
              "size": 10,
              "solidity": 0.2
             }
            },
            "type": "bar"
           }
          ],
          "barpolar": [
           {
            "marker": {
             "line": {
              "color": "#E5ECF6",
              "width": 0.5
             },
             "pattern": {
              "fillmode": "overlay",
              "size": 10,
              "solidity": 0.2
             }
            },
            "type": "barpolar"
           }
          ],
          "carpet": [
           {
            "aaxis": {
             "endlinecolor": "#2a3f5f",
             "gridcolor": "white",
             "linecolor": "white",
             "minorgridcolor": "white",
             "startlinecolor": "#2a3f5f"
            },
            "baxis": {
             "endlinecolor": "#2a3f5f",
             "gridcolor": "white",
             "linecolor": "white",
             "minorgridcolor": "white",
             "startlinecolor": "#2a3f5f"
            },
            "type": "carpet"
           }
          ],
          "choropleth": [
           {
            "colorbar": {
             "outlinewidth": 0,
             "ticks": ""
            },
            "type": "choropleth"
           }
          ],
          "contour": [
           {
            "colorbar": {
             "outlinewidth": 0,
             "ticks": ""
            },
            "colorscale": [
             [
              0,
              "#0d0887"
             ],
             [
              0.1111111111111111,
              "#46039f"
             ],
             [
              0.2222222222222222,
              "#7201a8"
             ],
             [
              0.3333333333333333,
              "#9c179e"
             ],
             [
              0.4444444444444444,
              "#bd3786"
             ],
             [
              0.5555555555555556,
              "#d8576b"
             ],
             [
              0.6666666666666666,
              "#ed7953"
             ],
             [
              0.7777777777777778,
              "#fb9f3a"
             ],
             [
              0.8888888888888888,
              "#fdca26"
             ],
             [
              1,
              "#f0f921"
             ]
            ],
            "type": "contour"
           }
          ],
          "contourcarpet": [
           {
            "colorbar": {
             "outlinewidth": 0,
             "ticks": ""
            },
            "type": "contourcarpet"
           }
          ],
          "heatmap": [
           {
            "colorbar": {
             "outlinewidth": 0,
             "ticks": ""
            },
            "colorscale": [
             [
              0,
              "#0d0887"
             ],
             [
              0.1111111111111111,
              "#46039f"
             ],
             [
              0.2222222222222222,
              "#7201a8"
             ],
             [
              0.3333333333333333,
              "#9c179e"
             ],
             [
              0.4444444444444444,
              "#bd3786"
             ],
             [
              0.5555555555555556,
              "#d8576b"
             ],
             [
              0.6666666666666666,
              "#ed7953"
             ],
             [
              0.7777777777777778,
              "#fb9f3a"
             ],
             [
              0.8888888888888888,
              "#fdca26"
             ],
             [
              1,
              "#f0f921"
             ]
            ],
            "type": "heatmap"
           }
          ],
          "heatmapgl": [
           {
            "colorbar": {
             "outlinewidth": 0,
             "ticks": ""
            },
            "colorscale": [
             [
              0,
              "#0d0887"
             ],
             [
              0.1111111111111111,
              "#46039f"
             ],
             [
              0.2222222222222222,
              "#7201a8"
             ],
             [
              0.3333333333333333,
              "#9c179e"
             ],
             [
              0.4444444444444444,
              "#bd3786"
             ],
             [
              0.5555555555555556,
              "#d8576b"
             ],
             [
              0.6666666666666666,
              "#ed7953"
             ],
             [
              0.7777777777777778,
              "#fb9f3a"
             ],
             [
              0.8888888888888888,
              "#fdca26"
             ],
             [
              1,
              "#f0f921"
             ]
            ],
            "type": "heatmapgl"
           }
          ],
          "histogram": [
           {
            "marker": {
             "pattern": {
              "fillmode": "overlay",
              "size": 10,
              "solidity": 0.2
             }
            },
            "type": "histogram"
           }
          ],
          "histogram2d": [
           {
            "colorbar": {
             "outlinewidth": 0,
             "ticks": ""
            },
            "colorscale": [
             [
              0,
              "#0d0887"
             ],
             [
              0.1111111111111111,
              "#46039f"
             ],
             [
              0.2222222222222222,
              "#7201a8"
             ],
             [
              0.3333333333333333,
              "#9c179e"
             ],
             [
              0.4444444444444444,
              "#bd3786"
             ],
             [
              0.5555555555555556,
              "#d8576b"
             ],
             [
              0.6666666666666666,
              "#ed7953"
             ],
             [
              0.7777777777777778,
              "#fb9f3a"
             ],
             [
              0.8888888888888888,
              "#fdca26"
             ],
             [
              1,
              "#f0f921"
             ]
            ],
            "type": "histogram2d"
           }
          ],
          "histogram2dcontour": [
           {
            "colorbar": {
             "outlinewidth": 0,
             "ticks": ""
            },
            "colorscale": [
             [
              0,
              "#0d0887"
             ],
             [
              0.1111111111111111,
              "#46039f"
             ],
             [
              0.2222222222222222,
              "#7201a8"
             ],
             [
              0.3333333333333333,
              "#9c179e"
             ],
             [
              0.4444444444444444,
              "#bd3786"
             ],
             [
              0.5555555555555556,
              "#d8576b"
             ],
             [
              0.6666666666666666,
              "#ed7953"
             ],
             [
              0.7777777777777778,
              "#fb9f3a"
             ],
             [
              0.8888888888888888,
              "#fdca26"
             ],
             [
              1,
              "#f0f921"
             ]
            ],
            "type": "histogram2dcontour"
           }
          ],
          "mesh3d": [
           {
            "colorbar": {
             "outlinewidth": 0,
             "ticks": ""
            },
            "type": "mesh3d"
           }
          ],
          "parcoords": [
           {
            "line": {
             "colorbar": {
              "outlinewidth": 0,
              "ticks": ""
             }
            },
            "type": "parcoords"
           }
          ],
          "pie": [
           {
            "automargin": true,
            "type": "pie"
           }
          ],
          "scatter": [
           {
            "marker": {
             "colorbar": {
              "outlinewidth": 0,
              "ticks": ""
             }
            },
            "type": "scatter"
           }
          ],
          "scatter3d": [
           {
            "line": {
             "colorbar": {
              "outlinewidth": 0,
              "ticks": ""
             }
            },
            "marker": {
             "colorbar": {
              "outlinewidth": 0,
              "ticks": ""
             }
            },
            "type": "scatter3d"
           }
          ],
          "scattercarpet": [
           {
            "marker": {
             "colorbar": {
              "outlinewidth": 0,
              "ticks": ""
             }
            },
            "type": "scattercarpet"
           }
          ],
          "scattergeo": [
           {
            "marker": {
             "colorbar": {
              "outlinewidth": 0,
              "ticks": ""
             }
            },
            "type": "scattergeo"
           }
          ],
          "scattergl": [
           {
            "marker": {
             "colorbar": {
              "outlinewidth": 0,
              "ticks": ""
             }
            },
            "type": "scattergl"
           }
          ],
          "scattermapbox": [
           {
            "marker": {
             "colorbar": {
              "outlinewidth": 0,
              "ticks": ""
             }
            },
            "type": "scattermapbox"
           }
          ],
          "scatterpolar": [
           {
            "marker": {
             "colorbar": {
              "outlinewidth": 0,
              "ticks": ""
             }
            },
            "type": "scatterpolar"
           }
          ],
          "scatterpolargl": [
           {
            "marker": {
             "colorbar": {
              "outlinewidth": 0,
              "ticks": ""
             }
            },
            "type": "scatterpolargl"
           }
          ],
          "scatterternary": [
           {
            "marker": {
             "colorbar": {
              "outlinewidth": 0,
              "ticks": ""
             }
            },
            "type": "scatterternary"
           }
          ],
          "surface": [
           {
            "colorbar": {
             "outlinewidth": 0,
             "ticks": ""
            },
            "colorscale": [
             [
              0,
              "#0d0887"
             ],
             [
              0.1111111111111111,
              "#46039f"
             ],
             [
              0.2222222222222222,
              "#7201a8"
             ],
             [
              0.3333333333333333,
              "#9c179e"
             ],
             [
              0.4444444444444444,
              "#bd3786"
             ],
             [
              0.5555555555555556,
              "#d8576b"
             ],
             [
              0.6666666666666666,
              "#ed7953"
             ],
             [
              0.7777777777777778,
              "#fb9f3a"
             ],
             [
              0.8888888888888888,
              "#fdca26"
             ],
             [
              1,
              "#f0f921"
             ]
            ],
            "type": "surface"
           }
          ],
          "table": [
           {
            "cells": {
             "fill": {
              "color": "#EBF0F8"
             },
             "line": {
              "color": "white"
             }
            },
            "header": {
             "fill": {
              "color": "#C8D4E3"
             },
             "line": {
              "color": "white"
             }
            },
            "type": "table"
           }
          ]
         },
         "layout": {
          "annotationdefaults": {
           "arrowcolor": "#2a3f5f",
           "arrowhead": 0,
           "arrowwidth": 1
          },
          "autotypenumbers": "strict",
          "coloraxis": {
           "colorbar": {
            "outlinewidth": 0,
            "ticks": ""
           }
          },
          "colorscale": {
           "diverging": [
            [
             0,
             "#8e0152"
            ],
            [
             0.1,
             "#c51b7d"
            ],
            [
             0.2,
             "#de77ae"
            ],
            [
             0.3,
             "#f1b6da"
            ],
            [
             0.4,
             "#fde0ef"
            ],
            [
             0.5,
             "#f7f7f7"
            ],
            [
             0.6,
             "#e6f5d0"
            ],
            [
             0.7,
             "#b8e186"
            ],
            [
             0.8,
             "#7fbc41"
            ],
            [
             0.9,
             "#4d9221"
            ],
            [
             1,
             "#276419"
            ]
           ],
           "sequential": [
            [
             0,
             "#0d0887"
            ],
            [
             0.1111111111111111,
             "#46039f"
            ],
            [
             0.2222222222222222,
             "#7201a8"
            ],
            [
             0.3333333333333333,
             "#9c179e"
            ],
            [
             0.4444444444444444,
             "#bd3786"
            ],
            [
             0.5555555555555556,
             "#d8576b"
            ],
            [
             0.6666666666666666,
             "#ed7953"
            ],
            [
             0.7777777777777778,
             "#fb9f3a"
            ],
            [
             0.8888888888888888,
             "#fdca26"
            ],
            [
             1,
             "#f0f921"
            ]
           ],
           "sequentialminus": [
            [
             0,
             "#0d0887"
            ],
            [
             0.1111111111111111,
             "#46039f"
            ],
            [
             0.2222222222222222,
             "#7201a8"
            ],
            [
             0.3333333333333333,
             "#9c179e"
            ],
            [
             0.4444444444444444,
             "#bd3786"
            ],
            [
             0.5555555555555556,
             "#d8576b"
            ],
            [
             0.6666666666666666,
             "#ed7953"
            ],
            [
             0.7777777777777778,
             "#fb9f3a"
            ],
            [
             0.8888888888888888,
             "#fdca26"
            ],
            [
             1,
             "#f0f921"
            ]
           ]
          },
          "colorway": [
           "#636efa",
           "#EF553B",
           "#00cc96",
           "#ab63fa",
           "#FFA15A",
           "#19d3f3",
           "#FF6692",
           "#B6E880",
           "#FF97FF",
           "#FECB52"
          ],
          "font": {
           "color": "#2a3f5f"
          },
          "geo": {
           "bgcolor": "white",
           "lakecolor": "white",
           "landcolor": "#E5ECF6",
           "showlakes": true,
           "showland": true,
           "subunitcolor": "white"
          },
          "hoverlabel": {
           "align": "left"
          },
          "hovermode": "closest",
          "mapbox": {
           "style": "light"
          },
          "paper_bgcolor": "white",
          "plot_bgcolor": "#E5ECF6",
          "polar": {
           "angularaxis": {
            "gridcolor": "white",
            "linecolor": "white",
            "ticks": ""
           },
           "bgcolor": "#E5ECF6",
           "radialaxis": {
            "gridcolor": "white",
            "linecolor": "white",
            "ticks": ""
           }
          },
          "scene": {
           "xaxis": {
            "backgroundcolor": "#E5ECF6",
            "gridcolor": "white",
            "gridwidth": 2,
            "linecolor": "white",
            "showbackground": true,
            "ticks": "",
            "zerolinecolor": "white"
           },
           "yaxis": {
            "backgroundcolor": "#E5ECF6",
            "gridcolor": "white",
            "gridwidth": 2,
            "linecolor": "white",
            "showbackground": true,
            "ticks": "",
            "zerolinecolor": "white"
           },
           "zaxis": {
            "backgroundcolor": "#E5ECF6",
            "gridcolor": "white",
            "gridwidth": 2,
            "linecolor": "white",
            "showbackground": true,
            "ticks": "",
            "zerolinecolor": "white"
           }
          },
          "shapedefaults": {
           "line": {
            "color": "#2a3f5f"
           }
          },
          "ternary": {
           "aaxis": {
            "gridcolor": "white",
            "linecolor": "white",
            "ticks": ""
           },
           "baxis": {
            "gridcolor": "white",
            "linecolor": "white",
            "ticks": ""
           },
           "bgcolor": "#E5ECF6",
           "caxis": {
            "gridcolor": "white",
            "linecolor": "white",
            "ticks": ""
           }
          },
          "title": {
           "x": 0.05
          },
          "xaxis": {
           "automargin": true,
           "gridcolor": "white",
           "linecolor": "white",
           "ticks": "",
           "title": {
            "standoff": 15
           },
           "zerolinecolor": "white",
           "zerolinewidth": 2
          },
          "yaxis": {
           "automargin": true,
           "gridcolor": "white",
           "linecolor": "white",
           "ticks": "",
           "title": {
            "standoff": 15
           },
           "zerolinecolor": "white",
           "zerolinewidth": 2
          }
         }
        },
        "width": 1000,
        "xaxis": {
         "anchor": "y",
         "domain": [
          0,
          1
         ]
        },
        "xaxis2": {
         "anchor": "y2",
         "domain": [
          0,
          1
         ]
        },
        "yaxis": {
         "anchor": "x",
         "domain": [
          0.6571428571428571,
          1
         ],
         "tickformat": ".2%"
        },
        "yaxis2": {
         "anchor": "x2",
         "domain": [
          0,
          0.2571428571428571
         ]
        }
       }
      }
     },
     "metadata": {},
     "output_type": "display_data"
    }
   ],
   "source": [
    "candlestick(df_btc, 15, comparison = df_sol, indicators = ['bolinger bands', 'stdev','rsi'])"
   ]
  },
  {
   "cell_type": "code",
   "execution_count": null,
   "metadata": {},
   "outputs": [],
   "source": []
  }
 ],
 "metadata": {
  "interpreter": {
   "hash": "ba2313ef674dfb72e23ac2c661efd5768c8a6078bbaca91f0cbc1ecf0e01dff3"
  },
  "kernelspec": {
   "display_name": "Python 3.9.6 ('DM2021')",
   "language": "python",
   "name": "python3"
  },
  "language_info": {
   "codemirror_mode": {
    "name": "ipython",
    "version": 3
   },
   "file_extension": ".py",
   "mimetype": "text/x-python",
   "name": "python",
   "nbconvert_exporter": "python",
   "pygments_lexer": "ipython3",
   "version": "3.9.6"
  },
  "orig_nbformat": 4
 },
 "nbformat": 4,
 "nbformat_minor": 2
}

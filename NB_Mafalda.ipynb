{
 "cells": [
  {
   "cell_type": "code",
   "execution_count": 43,
   "metadata": {},
   "outputs": [],
   "source": [
    "import plotly.graph_objects as go\n",
    "import pandas as pd\n",
    "import numpy as np\n",
    "import plotly.express as px\n",
    "import plotly.io as pio\n",
    "from plotly.subplots import make_subplots\n",
    "import talib as tb\n",
    "import yfinance as yf\n",
    "\n",
    "\n",
    "import datetime\n",
    "from datetime import date\n",
    "from datetime import datetime as dt\n",
    "from dateutil.relativedelta import *\n",
    "from datetime import timedelta\n"
   ]
  },
  {
   "cell_type": "markdown",
   "metadata": {},
   "source": [
    "To comment several lines of code use CTRL + K + C / CTRL + K + U"
   ]
  },
  {
   "cell_type": "code",
   "execution_count": 44,
   "metadata": {},
   "outputs": [],
   "source": [
    "def df_converter(df): \n",
    "    df_sp500 = yf.download('^GSPC', \n",
    "                      start='2017-11-09', \n",
    "                      end='2022-05-08', \n",
    "                      progress=False)\n",
    "    df_dollar = yf.download('DX=F', \n",
    "                      start='2017-11-09', \n",
    "                      end='2022-05-08', \n",
    "                      progress=False)\n",
    "    # clearing dollar and sp500 df\n",
    "    df_dollar.drop(['Open', 'High', 'Low', 'Adj Close', 'Volume'], axis=1, inplace=True)\n",
    "    df_dollar.rename(columns={\"Close\": \"dollar_close\"}, inplace=True)\n",
    "    df_sp500.drop(['Open', 'High', 'Low', 'Adj Close', 'Volume'], axis=1, inplace=True)\n",
    "    df_sp500.rename(columns={\"Close\": \"sp500_close\"}, inplace=True)\n",
    "    # clearing general df\n",
    "    #df_eth.drop('Unnamed: 0', axis=1, inplace=True)\n",
    "    #df.drop('adj_close', axis=1, inplace=True)\n",
    "    df.index = df.index.astype('datetime64[ns]')\n",
    "    # MA df\n",
    "    df_ma = df['Close'].to_frame()\n",
    "    df_ma['SMA30'] = df_ma['Close'].rolling(15).mean()\n",
    "    df_ma['CMA30'] = df_ma['Close'].expanding().mean()\n",
    "    df_ma['EMA30'] = tb.EMA(df_ma['Close'], timeperiod=15)\n",
    "    df_ma.dropna(inplace=True)\n",
    "    # Stoch df\n",
    "    slowk, slowd = tb.STOCH(df[\"High\"], df[\"Low\"], df[\"Close\"], fastk_period=5, slowk_period=3, slowk_matype=0, slowd_period=3, slowd_matype=0)\n",
    "    df_stoch = pd.DataFrame(index=df.index,\n",
    "                                data={\"slowk\": slowk,\n",
    "                                    \"slowd\": slowd})\n",
    "    df_stoch.dropna(inplace=True)\n",
    "    # for later use in the concat\n",
    "    stoch_c = ['slowk', 'slowd']\n",
    "    # MACD df \n",
    "    macd, macdsignal, macdhist = tb.MACD(df.Close, fastperiod=12, slowperiod=26, signalperiod=9)\n",
    "    df_macd = pd.DataFrame(index=df.index,\n",
    "                            data={\"macd\": macd,\n",
    "                                  \"macdsignal\": macdsignal,\n",
    "                                  \"macdhist\": macdhist})\n",
    "    df_macd.dropna(inplace=True)\n",
    "    # for later use in the concat\n",
    "    macd_c = ['macd', 'macdsignal', 'macdhist']\n",
    "    # bb df\n",
    "    upper, middle, lower = tb.BBANDS(df[\"Close\"], timeperiod=15)\n",
    "    df_bands = pd.DataFrame(index=df.index,\n",
    "                                data={\"bb_low\": lower,\n",
    "                                    \"bb_ma\": middle,\n",
    "                                    \"bb_high\": upper})\n",
    "    df_bands.dropna(inplace=True)\n",
    "    # for later use in the concat\n",
    "    bands_c = ['bb_low', 'bb_ma', 'bb_high']\n",
    "    # rsi df\n",
    "    rsi = tb.RSI(df['Close'], timeperiod=15)\n",
    "    df_rsi = pd.DataFrame(index=df.index,\n",
    "                            data={\"close\": df['Close'],\n",
    "                                  \"rsi\": rsi})\n",
    "\n",
    "    df_rsi.dropna(inplace=True)\n",
    "    #stdev df\n",
    "    stdev = tb.STDDEV(df['Close'], timeperiod=15, nbdev=1)\n",
    "    df_stdev = pd.DataFrame(index=df.index,\n",
    "                            data={\"close\": df['Close'],\n",
    "                                  \"stdev\": stdev})\n",
    "    df_stdev.dropna(inplace=True)\n",
    "    # adx df\n",
    "    adx = tb.ADX(df['High'], df['Low'], df['Close'], timeperiod=15)\n",
    "    df_adx = pd.DataFrame(index=df.index,\n",
    "                                data={\"close\": df['Close'],\n",
    "                                    \"adx\": adx})\n",
    "\n",
    "    df_adx.dropna(inplace=True)\n",
    "\n",
    "    # concat \n",
    "    result =pd.concat([df, df_ma[['SMA30','CMA30','EMA30']], df_adx['adx'], df_bands[bands_c], df_macd[macd_c], df_rsi['rsi'], df_stdev['stdev'], df_stoch[stoch_c], df_dollar['dollar_close'], df_sp500['sp500_close']], axis=1)\n",
    "    result.fillna(method='ffill', inplace=True)\n",
    "    result.dropna(inplace=True)\n",
    "\n",
    "    return result "
   ]
  },
  {
   "cell_type": "code",
   "execution_count": 45,
   "metadata": {},
   "outputs": [],
   "source": [
    "df_btc = yf.download('BTC-USD',\n",
    "                      end=date.today(), \n",
    "                      progress=False,\n",
    "    )"
   ]
  },
  {
   "cell_type": "code",
   "execution_count": 46,
   "metadata": {},
   "outputs": [],
   "source": [
    "df_btc = df_converter(df_btc)"
   ]
  },
  {
   "cell_type": "code",
   "execution_count": 47,
   "metadata": {},
   "outputs": [
    {
     "data": {
      "text/html": [
       "<div>\n",
       "<style scoped>\n",
       "    .dataframe tbody tr th:only-of-type {\n",
       "        vertical-align: middle;\n",
       "    }\n",
       "\n",
       "    .dataframe tbody tr th {\n",
       "        vertical-align: top;\n",
       "    }\n",
       "\n",
       "    .dataframe thead th {\n",
       "        text-align: right;\n",
       "    }\n",
       "</style>\n",
       "<table border=\"1\" class=\"dataframe\">\n",
       "  <thead>\n",
       "    <tr style=\"text-align: right;\">\n",
       "      <th></th>\n",
       "      <th>Open</th>\n",
       "      <th>High</th>\n",
       "      <th>Low</th>\n",
       "      <th>Close</th>\n",
       "      <th>Adj Close</th>\n",
       "      <th>Volume</th>\n",
       "      <th>SMA30</th>\n",
       "      <th>CMA30</th>\n",
       "      <th>EMA30</th>\n",
       "      <th>adx</th>\n",
       "      <th>...</th>\n",
       "      <th>bb_high</th>\n",
       "      <th>macd</th>\n",
       "      <th>macdsignal</th>\n",
       "      <th>macdhist</th>\n",
       "      <th>rsi</th>\n",
       "      <th>stdev</th>\n",
       "      <th>slowk</th>\n",
       "      <th>slowd</th>\n",
       "      <th>dollar_close</th>\n",
       "      <th>sp500_close</th>\n",
       "    </tr>\n",
       "    <tr>\n",
       "      <th>Date</th>\n",
       "      <th></th>\n",
       "      <th></th>\n",
       "      <th></th>\n",
       "      <th></th>\n",
       "      <th></th>\n",
       "      <th></th>\n",
       "      <th></th>\n",
       "      <th></th>\n",
       "      <th></th>\n",
       "      <th></th>\n",
       "      <th></th>\n",
       "      <th></th>\n",
       "      <th></th>\n",
       "      <th></th>\n",
       "      <th></th>\n",
       "      <th></th>\n",
       "      <th></th>\n",
       "      <th></th>\n",
       "      <th></th>\n",
       "      <th></th>\n",
       "      <th></th>\n",
       "    </tr>\n",
       "  </thead>\n",
       "  <tbody>\n",
       "    <tr>\n",
       "      <th>2017-11-09</th>\n",
       "      <td>7446.830078</td>\n",
       "      <td>7446.830078</td>\n",
       "      <td>7101.520020</td>\n",
       "      <td>7143.580078</td>\n",
       "      <td>7143.580078</td>\n",
       "      <td>3226249984</td>\n",
       "      <td>6720.195964</td>\n",
       "      <td>1012.489040</td>\n",
       "      <td>6798.973215</td>\n",
       "      <td>37.428679</td>\n",
       "      <td>...</td>\n",
       "      <td>7929.899976</td>\n",
       "      <td>547.298468</td>\n",
       "      <td>521.809901</td>\n",
       "      <td>25.488567</td>\n",
       "      <td>65.836431</td>\n",
       "      <td>604.852006</td>\n",
       "      <td>33.184032</td>\n",
       "      <td>38.772059</td>\n",
       "      <td>94.351997</td>\n",
       "      <td>2584.620117</td>\n",
       "    </tr>\n",
       "    <tr>\n",
       "      <th>2017-11-10</th>\n",
       "      <td>7173.729980</td>\n",
       "      <td>7312.000000</td>\n",
       "      <td>6436.870117</td>\n",
       "      <td>6618.140137</td>\n",
       "      <td>6618.140137</td>\n",
       "      <td>5208249856</td>\n",
       "      <td>6767.749967</td>\n",
       "      <td>1017.359285</td>\n",
       "      <td>6776.369081</td>\n",
       "      <td>36.238180</td>\n",
       "      <td>...</td>\n",
       "      <td>7899.045668</td>\n",
       "      <td>482.149729</td>\n",
       "      <td>513.877867</td>\n",
       "      <td>-31.728137</td>\n",
       "      <td>55.203600</td>\n",
       "      <td>565.647850</td>\n",
       "      <td>30.022892</td>\n",
       "      <td>33.577955</td>\n",
       "      <td>94.278000</td>\n",
       "      <td>2582.300049</td>\n",
       "    </tr>\n",
       "    <tr>\n",
       "      <th>2017-11-11</th>\n",
       "      <td>6618.609863</td>\n",
       "      <td>6873.149902</td>\n",
       "      <td>6204.220215</td>\n",
       "      <td>6357.600098</td>\n",
       "      <td>6357.600098</td>\n",
       "      <td>4908680192</td>\n",
       "      <td>6806.196647</td>\n",
       "      <td>1021.994910</td>\n",
       "      <td>6724.022958</td>\n",
       "      <td>34.548539</td>\n",
       "      <td>...</td>\n",
       "      <td>7835.311479</td>\n",
       "      <td>404.828866</td>\n",
       "      <td>492.068066</td>\n",
       "      <td>-87.239201</td>\n",
       "      <td>50.841315</td>\n",
       "      <td>514.557416</td>\n",
       "      <td>13.668599</td>\n",
       "      <td>25.625174</td>\n",
       "      <td>94.278000</td>\n",
       "      <td>2582.300049</td>\n",
       "    </tr>\n",
       "    <tr>\n",
       "      <th>2017-11-12</th>\n",
       "      <td>6295.450195</td>\n",
       "      <td>6625.049805</td>\n",
       "      <td>5519.009766</td>\n",
       "      <td>5950.069824</td>\n",
       "      <td>5950.069824</td>\n",
       "      <td>8957349888</td>\n",
       "      <td>6819.328646</td>\n",
       "      <td>1026.269043</td>\n",
       "      <td>6627.278816</td>\n",
       "      <td>32.896648</td>\n",
       "      <td>...</td>\n",
       "      <td>7798.154128</td>\n",
       "      <td>307.126870</td>\n",
       "      <td>455.079827</td>\n",
       "      <td>-147.952957</td>\n",
       "      <td>44.895661</td>\n",
       "      <td>489.412741</td>\n",
       "      <td>14.127749</td>\n",
       "      <td>19.273080</td>\n",
       "      <td>94.278000</td>\n",
       "      <td>2582.300049</td>\n",
       "    </tr>\n",
       "    <tr>\n",
       "      <th>2017-11-13</th>\n",
       "      <td>5938.250000</td>\n",
       "      <td>6811.189941</td>\n",
       "      <td>5844.290039</td>\n",
       "      <td>6559.490234</td>\n",
       "      <td>6559.490234</td>\n",
       "      <td>6263249920</td>\n",
       "      <td>6846.371322</td>\n",
       "      <td>1031.063862</td>\n",
       "      <td>6618.805243</td>\n",
       "      <td>30.978407</td>\n",
       "      <td>...</td>\n",
       "      <td>7771.077715</td>\n",
       "      <td>275.694434</td>\n",
       "      <td>419.202748</td>\n",
       "      <td>-143.508315</td>\n",
       "      <td>53.591318</td>\n",
       "      <td>462.353197</td>\n",
       "      <td>27.607649</td>\n",
       "      <td>18.467999</td>\n",
       "      <td>94.388000</td>\n",
       "      <td>2584.840088</td>\n",
       "    </tr>\n",
       "  </tbody>\n",
       "</table>\n",
       "<p>5 rows × 22 columns</p>\n",
       "</div>"
      ],
      "text/plain": [
       "                   Open         High          Low        Close    Adj Close  \\\n",
       "Date                                                                          \n",
       "2017-11-09  7446.830078  7446.830078  7101.520020  7143.580078  7143.580078   \n",
       "2017-11-10  7173.729980  7312.000000  6436.870117  6618.140137  6618.140137   \n",
       "2017-11-11  6618.609863  6873.149902  6204.220215  6357.600098  6357.600098   \n",
       "2017-11-12  6295.450195  6625.049805  5519.009766  5950.069824  5950.069824   \n",
       "2017-11-13  5938.250000  6811.189941  5844.290039  6559.490234  6559.490234   \n",
       "\n",
       "                Volume        SMA30        CMA30        EMA30        adx  ...  \\\n",
       "Date                                                                      ...   \n",
       "2017-11-09  3226249984  6720.195964  1012.489040  6798.973215  37.428679  ...   \n",
       "2017-11-10  5208249856  6767.749967  1017.359285  6776.369081  36.238180  ...   \n",
       "2017-11-11  4908680192  6806.196647  1021.994910  6724.022958  34.548539  ...   \n",
       "2017-11-12  8957349888  6819.328646  1026.269043  6627.278816  32.896648  ...   \n",
       "2017-11-13  6263249920  6846.371322  1031.063862  6618.805243  30.978407  ...   \n",
       "\n",
       "                bb_high        macd  macdsignal    macdhist        rsi  \\\n",
       "Date                                                                     \n",
       "2017-11-09  7929.899976  547.298468  521.809901   25.488567  65.836431   \n",
       "2017-11-10  7899.045668  482.149729  513.877867  -31.728137  55.203600   \n",
       "2017-11-11  7835.311479  404.828866  492.068066  -87.239201  50.841315   \n",
       "2017-11-12  7798.154128  307.126870  455.079827 -147.952957  44.895661   \n",
       "2017-11-13  7771.077715  275.694434  419.202748 -143.508315  53.591318   \n",
       "\n",
       "                 stdev      slowk      slowd  dollar_close  sp500_close  \n",
       "Date                                                                     \n",
       "2017-11-09  604.852006  33.184032  38.772059     94.351997  2584.620117  \n",
       "2017-11-10  565.647850  30.022892  33.577955     94.278000  2582.300049  \n",
       "2017-11-11  514.557416  13.668599  25.625174     94.278000  2582.300049  \n",
       "2017-11-12  489.412741  14.127749  19.273080     94.278000  2582.300049  \n",
       "2017-11-13  462.353197  27.607649  18.467999     94.388000  2584.840088  \n",
       "\n",
       "[5 rows x 22 columns]"
      ]
     },
     "execution_count": 47,
     "metadata": {},
     "output_type": "execute_result"
    }
   ],
   "source": [
    "df_btc.head()"
   ]
  },
  {
   "cell_type": "code",
   "execution_count": 48,
   "metadata": {},
   "outputs": [],
   "source": [
    "df_sol = yf.download('SOL-USD',\n",
    "                      end=date.today(), \n",
    "                      progress=False,\n",
    "    )"
   ]
  },
  {
   "cell_type": "code",
   "execution_count": 49,
   "metadata": {},
   "outputs": [
    {
     "data": {
      "text/plain": [
       "93.77913607014075"
      ]
     },
     "execution_count": 49,
     "metadata": {},
     "output_type": "execute_result"
    }
   ],
   "source": [
    "df_btc['rsi'].max()"
   ]
  },
  {
   "cell_type": "code",
   "execution_count": 50,
   "metadata": {},
   "outputs": [
    {
     "data": {
      "text/plain": [
       "['SMA30',\n",
       " 'CMA30',\n",
       " 'EMA30',\n",
       " 'adx',\n",
       " 'bb_low',\n",
       " 'bb_ma',\n",
       " 'bb_high',\n",
       " 'macd',\n",
       " 'macdsignal',\n",
       " 'macdhist',\n",
       " 'rsi',\n",
       " 'stdev',\n",
       " 'slowk',\n",
       " 'slowd',\n",
       " 'dollar_close',\n",
       " 'sp500_close']"
      ]
     },
     "execution_count": 50,
     "metadata": {},
     "output_type": "execute_result"
    }
   ],
   "source": [
    "df_btc.columns.tolist()[6:]"
   ]
  },
  {
   "cell_type": "code",
   "execution_count": 212,
   "metadata": {},
   "outputs": [
    {
     "data": {
      "text/html": [
       "<div>\n",
       "<style scoped>\n",
       "    .dataframe tbody tr th:only-of-type {\n",
       "        vertical-align: middle;\n",
       "    }\n",
       "\n",
       "    .dataframe tbody tr th {\n",
       "        vertical-align: top;\n",
       "    }\n",
       "\n",
       "    .dataframe thead th {\n",
       "        text-align: right;\n",
       "    }\n",
       "</style>\n",
       "<table border=\"1\" class=\"dataframe\">\n",
       "  <thead>\n",
       "    <tr style=\"text-align: right;\">\n",
       "      <th></th>\n",
       "      <th>Open</th>\n",
       "      <th>High</th>\n",
       "      <th>Low</th>\n",
       "      <th>Close</th>\n",
       "      <th>Adj Close</th>\n",
       "      <th>Volume</th>\n",
       "      <th>SMA30</th>\n",
       "      <th>CMA30</th>\n",
       "      <th>EMA30</th>\n",
       "      <th>adx</th>\n",
       "      <th>...</th>\n",
       "      <th>bb_high</th>\n",
       "      <th>macd</th>\n",
       "      <th>macdsignal</th>\n",
       "      <th>macdhist</th>\n",
       "      <th>rsi</th>\n",
       "      <th>stdev</th>\n",
       "      <th>slowk</th>\n",
       "      <th>slowd</th>\n",
       "      <th>dollar_close</th>\n",
       "      <th>sp500_close</th>\n",
       "    </tr>\n",
       "    <tr>\n",
       "      <th>Date</th>\n",
       "      <th></th>\n",
       "      <th></th>\n",
       "      <th></th>\n",
       "      <th></th>\n",
       "      <th></th>\n",
       "      <th></th>\n",
       "      <th></th>\n",
       "      <th></th>\n",
       "      <th></th>\n",
       "      <th></th>\n",
       "      <th></th>\n",
       "      <th></th>\n",
       "      <th></th>\n",
       "      <th></th>\n",
       "      <th></th>\n",
       "      <th></th>\n",
       "      <th></th>\n",
       "      <th></th>\n",
       "      <th></th>\n",
       "      <th></th>\n",
       "      <th></th>\n",
       "    </tr>\n",
       "  </thead>\n",
       "  <tbody>\n",
       "    <tr>\n",
       "      <th>2022-04-25</th>\n",
       "      <td>39472.605469</td>\n",
       "      <td>40491.753906</td>\n",
       "      <td>38338.378906</td>\n",
       "      <td>40458.308594</td>\n",
       "      <td>40458.308594</td>\n",
       "      <td>35445730570</td>\n",
       "      <td>40322.10625</td>\n",
       "      <td>12030.588997</td>\n",
       "      <td>40763.991139</td>\n",
       "      <td>20.839138</td>\n",
       "      <td>...</td>\n",
       "      <td>41643.822748</td>\n",
       "      <td>-823.171966</td>\n",
       "      <td>-728.838232</td>\n",
       "      <td>-94.333734</td>\n",
       "      <td>45.335035</td>\n",
       "      <td>660.858249</td>\n",
       "      <td>19.255884</td>\n",
       "      <td>18.573572</td>\n",
       "      <td>101.768997</td>\n",
       "      <td>4296.120117</td>\n",
       "    </tr>\n",
       "  </tbody>\n",
       "</table>\n",
       "<p>1 rows × 22 columns</p>\n",
       "</div>"
      ],
      "text/plain": [
       "                    Open          High           Low         Close  \\\n",
       "Date                                                                 \n",
       "2022-04-25  39472.605469  40491.753906  38338.378906  40458.308594   \n",
       "\n",
       "               Adj Close       Volume        SMA30         CMA30  \\\n",
       "Date                                                               \n",
       "2022-04-25  40458.308594  35445730570  40322.10625  12030.588997   \n",
       "\n",
       "                   EMA30        adx  ...       bb_high        macd  \\\n",
       "Date                                 ...                             \n",
       "2022-04-25  40763.991139  20.839138  ...  41643.822748 -823.171966   \n",
       "\n",
       "            macdsignal   macdhist        rsi       stdev      slowk  \\\n",
       "Date                                                                  \n",
       "2022-04-25 -728.838232 -94.333734  45.335035  660.858249  19.255884   \n",
       "\n",
       "                slowd  dollar_close  sp500_close  \n",
       "Date                                              \n",
       "2022-04-25  18.573572    101.768997  4296.120117  \n",
       "\n",
       "[1 rows x 22 columns]"
      ]
     },
     "execution_count": 212,
     "metadata": {},
     "output_type": "execute_result"
    }
   ],
   "source": [
    "df_btc[df_btc.index == '2022-04-25']"
   ]
  },
  {
   "cell_type": "code",
   "execution_count": 220,
   "metadata": {},
   "outputs": [],
   "source": [
    "def candlestick(df, days, comparison = None, indicators = None):\n",
    "\n",
    "    today = date.today()\n",
    "\n",
    "    df = df[today - pd.offsets.Day(days):]\n",
    "    df_normal = df.copy() # df with absolute values\n",
    "    df= df.pct_change()\n",
    "\n",
    "    color_palete= ['violet', 'magenta', 'turquoise', 'mediumorchid','lightpink', 'mediumpurple', 'mediumvioletred', 'darkviolet']\n",
    "\n",
    "    #Editing the text(hover) on the candlestick to get the absolute value and the % changes   \n",
    "    hovertext=[]\n",
    "    for i in range(len(df_normal.Open)):\n",
    "        hovertext.append('Open: '+str(df_normal.Open[i].round(2))+'<br>% change:' + str(df.Open[i].round(3))\n",
    "                        +'<br>High: '+str(df_normal.High[i].round(2)) +'<br>% change:' + str(df.High[i].round(3))\n",
    "                        +'<br>Low: '+str(df_normal.Low[i].round(2)) +'<br>% change:' + str(df.Low[i].round(3))\n",
    "                        +'<br>Close: '+str(df_normal.Close[i].round(2)) +'<br>% change:' + str(df.Close[i].round(3)))\n",
    "\n",
    "    if comparison is None and indicators is None: \n",
    "\n",
    "        fig = go.Figure(\n",
    "            data = [\n",
    "                go.Candlestick(\n",
    "                    x = df_normal.index,\n",
    "                    open = df_normal.Open,\n",
    "                    high = df_normal.High,\n",
    "                    low = df_normal.Low,\n",
    "                    close = df_normal.Close,\n",
    "                    text= hovertext,\n",
    "                    hoverinfo='text'\n",
    "                )\n",
    "            ]\n",
    "        )\n",
    "        \n",
    "        fig.update_layout(width=1200, height= 700)\n",
    "\n",
    "    elif comparison is not None and indicators is None: \n",
    "\n",
    "        comparison = comparison[today - pd.offsets.Day(days):]\n",
    "        comparison = comparison.pct_change()\n",
    "\n",
    "        fig = go.Figure(\n",
    "            data = [\n",
    "                go.Candlestick(\n",
    "                    x = df.index,\n",
    "                    open = df.Open,\n",
    "                    high = df.High,\n",
    "                    low = df.Low,\n",
    "                    close = df.Close,\n",
    "                    text= hovertext,\n",
    "                    hoverinfo='text'\n",
    "                ),\n",
    "                go.Scatter(\n",
    "                    x = comparison.index, \n",
    "                    y = comparison.Close,\n",
    "                    mode = 'lines', \n",
    "                    name = 'SOL',\n",
    "                    line = {'color': 'orange'},\n",
    "                    customdata=df_normal[['Open','High','Low','Close']],\n",
    "                            hovertemplate='<br>'.join([\n",
    "                                'Percentual Change: %{y}',\n",
    "                                'Date: %{x}',\n",
    "                                'Open: %{customdata[0]:.3f}',\n",
    "                                'High: %{customdata[1]:.3f}',\n",
    "                                'Low: %{customdata[2]:.3f}',\n",
    "                                'Close: %{customdata[3]:.3f}'\n",
    "                            ])\n",
    "                )\n",
    "\n",
    "            ],\n",
    "            layout = go.Layout(yaxis=dict(tickformat=\".2%\"))\n",
    "        )   \n",
    "\n",
    "        fig.update_layout(width=1200, height= 700)\n",
    "\n",
    "    elif comparison is None and indicators is not None:\n",
    "\n",
    "        fig = make_subplots(rows=5, cols=1, specs = [[{ }], [{ }], [{ }], [{ }], [{ }]], vertical_spacing = 0.10, \n",
    "                            row_heights=[180, 30, 30, 30, 30])\n",
    "        fig.update_yaxes(tickformat=\".2%\", row=1)\n",
    "        fig.append_trace(\n",
    "                        go.Candlestick(\n",
    "                            x = df.index,\n",
    "                            open = df.Open,\n",
    "                            high = df.High,\n",
    "                            low = df.Low,\n",
    "                            close = df.Close,\n",
    "                            text= hovertext,\n",
    "                            hoverinfo='text'\n",
    "                        ), row=1, col=1)\n",
    "        \n",
    "        for i,v in enumerate(indicators): \n",
    "            if v == 'rsi': \n",
    "                fig.append_trace(go.Scatter(\n",
    "                        x=df_normal['rsi'].index,\n",
    "                        y=df_normal['rsi'],\n",
    "                        mode=\"lines\",\n",
    "                        name = 'rsi'\n",
    "                        ),  row=3, col=1\n",
    "                    )\n",
    "                \n",
    "                fig.add_annotation(xref=\"x domain\",yref=\"y domain\",x=0.5, y=1.5, showarrow=False,\n",
    "                   text=\"<b>RSI</b>\", row=3, col=1)\n",
    "                \n",
    "                fig.add_hline(y=30 , line_width=2, line_dash=\"dash\", line_color=\"darkslategray\", row=3, col=1)\n",
    "                fig.add_hline(y=70, line_width=2, line_dash=\"dash\", line_color=\"darkslategray\", row=3, col=1)\n",
    "\n",
    "            \n",
    "            elif v == 'adx': \n",
    "                fig.append_trace(go.Scatter(\n",
    "                        x=df_normal['adx'].index,\n",
    "                        y=df_normal['adx'],\n",
    "                        mode=\"lines\",\n",
    "                        name = 'adx'\n",
    "                        ),  row=5, col=1\n",
    "                    )\n",
    "                \n",
    "                fig.add_annotation(xref=\"x domain\",yref=\"y domain\",x=0.5, y=1.5, showarrow=False,\n",
    "                   text=\"<b>ADX</b>\", row=5, col=1)\n",
    "\n",
    "            elif v == 'stochastic': \n",
    "                fig.append_trace(go.Scatter(\n",
    "                        x=df_normal['slowk'].index,\n",
    "                        y=df_normal['slowk'],\n",
    "                        mode=\"lines\",\n",
    "                        name = 'slowk'\n",
    "                        ),  row=2, col=1\n",
    "                    )\n",
    "                fig.add_trace(\n",
    "                        go.Scatter(\n",
    "                            x=df_normal['slowd'].index,\n",
    "                            y=df_normal['slowd'],\n",
    "                            mode=\"lines\",\n",
    "                            name = 'slowd'\n",
    "                            ),  row=2, col=1\n",
    "                    )\n",
    "\n",
    "                fig.add_annotation(xref=\"x domain\",yref=\"y domain\",x=0.5, y=1.5, showarrow=False,\n",
    "                   text=\"<b>Stochastic Oscilator</b>\", row=2, col=1)\n",
    "                fig.add_hline(y=20 , line_width=2, line_dash=\"dash\", line_color=\"darkslategray\", row=2, col=1)\n",
    "                fig.add_hline(y=80, line_width=2, line_dash=\"dash\", line_color=\"darkslategray\", row=2, col=1)\n",
    "\n",
    "            elif v == 'macd': \n",
    "                fig.append_trace(go.Scatter(\n",
    "                        x=df_normal['macd'].index,\n",
    "                        y=df_normal['macd'],\n",
    "                        mode=\"lines\",\n",
    "                        name = 'macd'\n",
    "                        ),  row=4, col=1\n",
    "                    )\n",
    "                fig.add_trace(\n",
    "                        go.Scatter(\n",
    "                            x=df_normal['macdsignal'].index,\n",
    "                            y=df_normal['macdsignal'],\n",
    "                            mode=\"lines\",\n",
    "                            name = 'macd signal'\n",
    "                            ),  row=4, col=1\n",
    "                    )\n",
    "                \n",
    "                fig.add_annotation(xref=\"x domain\",yref=\"y domain\",x=0.5, y=1.5, showarrow=False,\n",
    "                   text=\"<b>MACD</b>\", row=4, col=1)\n",
    "                          \n",
    "            elif v == 'bolinger bands':\n",
    "\n",
    "                fig.add_trace(go.Scatter(x=df['bb_low'].index,\n",
    "                    y=df['bb_low'],\n",
    "                    fill=None,\n",
    "                    mode='lines',\n",
    "                    line_color='indigo',\n",
    "                    name = 'bb_low',\n",
    "                    customdata=df_normal[['Open','High','Low','Close']],\n",
    "                            hovertemplate='<br>'.join([\n",
    "                                'Percentual Change: %{y}',\n",
    "                                'Date: %{x}',\n",
    "                                'Open: %{customdata[0]:.3f}',\n",
    "                                'High: %{customdata[1]:.3f}',\n",
    "                                'Low: %{customdata[2]:.3f}',\n",
    "                                'Close: %{customdata[3]:.3f}'\n",
    "                            ])\n",
    "                    \n",
    "                    ))\n",
    "                fig.add_trace(go.Scatter(\n",
    "                    x=df['bb_high'].index,\n",
    "                    y=df['bb_high'],\n",
    "                    name = 'bb_high',\n",
    "                    fill='tonexty', # fill area between trace0 and trace1\n",
    "                    mode='lines', line_color='indigo', \n",
    "                    customdata=df_normal[['Open','High','Low','Close']],\n",
    "                            hovertemplate='<br>'.join([\n",
    "                                'Percentual Change: %{y}',\n",
    "                                'Date: %{x}',\n",
    "                                'Open: %{customdata[0]:.3f}',\n",
    "                                'High: %{customdata[1]:.3f}',\n",
    "                                'Low: %{customdata[2]:.3f}',\n",
    "                                'Close: %{customdata[3]:.3f}'\n",
    "                            ])))    \n",
    "\n",
    "            else:\n",
    "                for ind, value in enumerate(color_palete):\n",
    "                    if i == ind: \n",
    "                        fig.add_trace(\n",
    "                        go.Scatter(\n",
    "                            x=df[v].index,\n",
    "                            y=df[v],\n",
    "                            mode=\"lines\",\n",
    "                            name = v,\n",
    "                            line_color=value,\n",
    "                            customdata=df_normal[['Open','High','Low','Close']],\n",
    "                            hovertemplate='<br>'.join([\n",
    "                                'Percentual Change: %{y}',\n",
    "                                'Date: %{x}',\n",
    "                                'Open: %{customdata[0]:.3f}',\n",
    "                                'High: %{customdata[1]:.3f}',\n",
    "                                'Low: %{customdata[2]:.3f}',\n",
    "                                'Close: %{customdata[3]:.3f}'\n",
    "                            ]),\n",
    "                        )\n",
    "                        )\n",
    "                \n",
    "        fig.update_layout(width=1300, height= 2000)\n",
    "    \n",
    "    else:\n",
    "\n",
    "        comparison = comparison[today - pd.offsets.Day(days):]\n",
    "        comparison = comparison.pct_change()\n",
    "        \n",
    "        fig = make_subplots(rows=5, cols=1, specs = [[{ }], [{ }], [{ }],  [{ }], [{ }]], vertical_spacing = 0.10, \n",
    "                            row_heights=[180, 30, 30, 30, 30] )\n",
    "        fig.update_yaxes(tickformat=\".2%\", row = 1)\n",
    "\n",
    "        fig.append_trace(\n",
    "                go.Candlestick(\n",
    "                    x = df.index,\n",
    "                    open = df.Open,\n",
    "                    high = df.High,\n",
    "                    low = df.Low,\n",
    "                    close = df.Close,\n",
    "                    text= hovertext,\n",
    "                    hoverinfo='text'\n",
    "                ), row=1, col=1)\n",
    "        \n",
    "        \n",
    "        \n",
    "        fig.add_trace(go.Scatter(\n",
    "                        x = comparison.index, \n",
    "                        y = comparison.Close,\n",
    "                        mode = 'lines', \n",
    "                        name = 'SOL',\n",
    "                        line = {'color': 'orange'},\n",
    "                        customdata=df_normal[['Open','High','Low','Close']],\n",
    "                            hovertemplate='<br>'.join([\n",
    "                                'Percentual Change: %{y}',\n",
    "                                'Date: %{x}',\n",
    "                                'Open: %{customdata[0]:.3f}',\n",
    "                                'High: %{customdata[1]:.3f}',\n",
    "                                'Low: %{customdata[2]:.3f}',\n",
    "                                'Close: %{customdata[3]:.3f}'\n",
    "                            ])\n",
    "                        ))\n",
    "\n",
    "        for i,v in enumerate(indicators): \n",
    "            if v == 'rsi': \n",
    "            \n",
    "                fig.append_trace(go.Scatter(\n",
    "                        x=df_normal['rsi'].index,\n",
    "                        y=df_normal['rsi'],\n",
    "                        mode=\"lines\",\n",
    "                        name = 'rsi'\n",
    "                        ),  row=3, col=1\n",
    "                    )\n",
    "                \n",
    "                fig.add_annotation(xref=\"x domain\",yref=\"y domain\",x=0.5, y=1.5, showarrow=False,\n",
    "                   text=\"<b>RSI</b>\", row=3, col=1)\n",
    "                fig.add_hline(y=30 , line_width=2, line_dash=\"dash\", line_color=\"darkslategray\", row=3, col=1)\n",
    "                fig.add_hline(y=70, line_width=2, line_dash=\"dash\", line_color=\"darkslategray\", row=3, col=1)\n",
    "\n",
    "            elif v == 'adx': \n",
    "                fig.append_trace(go.Scatter(\n",
    "                        x=df_normal['adx'].index,\n",
    "                        y=df_normal['adx'],\n",
    "                        mode=\"lines\",\n",
    "                        name = 'adx'\n",
    "                        ),  row=5, col=1\n",
    "                    )\n",
    "                \n",
    "                fig.add_annotation(xref=\"x domain\",yref=\"y domain\",x=0.5, y=1.5, showarrow=False,\n",
    "                   text=\"<b>ADX</b>\", row=5, col=1)\n",
    "\n",
    "            elif v == 'stochastic': \n",
    "                fig.append_trace(go.Scatter(\n",
    "                        x=df_normal['slowk'].index,\n",
    "                        y=df_normal['slowk'],\n",
    "                        mode=\"lines\",\n",
    "                        name = 'slowk'\n",
    "                        ),  row=2, col=1\n",
    "                    )\n",
    "                fig.add_trace(\n",
    "                        go.Scatter(\n",
    "                            x=df_normal['slowd'].index,\n",
    "                            y=df_normal['slowd'],\n",
    "                            mode=\"lines\",\n",
    "                            name = 'slowd'\n",
    "                            ),  row=2, col=1\n",
    "                    )\n",
    "\n",
    "                fig.add_annotation(xref=\"x domain\",yref=\"y domain\",x=0.5, y=1.5, showarrow=False,\n",
    "                   text=\"<b>Stochastic Oscilator</b>\", row=2, col=1)\n",
    "                fig.add_hline(y=20 , line_width=2, line_dash=\"dash\", line_color=\"darkslategray\", row=2, col=1)\n",
    "                fig.add_hline(y=80, line_width=2, line_dash=\"dash\", line_color=\"darkslategray\", row=2, col=1)\n",
    "\n",
    "            elif v == 'macd': \n",
    "                fig.append_trace(go.Scatter(\n",
    "                        x=df_normal['macd'].index,\n",
    "                        y=df_normal['macd'],\n",
    "                        mode=\"lines\",\n",
    "                        name = 'macd'\n",
    "                        ),  row=4, col=1\n",
    "                    )\n",
    "                fig.add_trace(\n",
    "                        go.Scatter(\n",
    "                            x=df_normal['macdsignal'].index,\n",
    "                            y=df_normal['macdsignal'],\n",
    "                            mode=\"lines\",\n",
    "                            name = 'macd signal'\n",
    "                            ),  row=4, col=1\n",
    "                    )\n",
    "                \n",
    "                fig.add_annotation(xref=\"x domain\",yref=\"y domain\",x=0.5, y=1.5, showarrow=False,\n",
    "                   text=\"<b>MACD</b>\", row=4, col=1)\n",
    "            \n",
    "            elif v == 'bolinger bands':\n",
    "\n",
    "                fig.add_trace(go.Scatter(x=df['bb_low'].index,\n",
    "                    y=df['bb_low'],\n",
    "                    fill=None,\n",
    "                    mode='lines',\n",
    "                    line_color='indigo',\n",
    "                    name = 'bb_low',\n",
    "                    customdata=df_normal[['Open','High','Low','Close']],\n",
    "                            hovertemplate='<br>'.join([\n",
    "                                'Percentual Change: %{y}',\n",
    "                                'Date: %{x}',\n",
    "                                'Open: %{customdata[0]:.3f}',\n",
    "                                'High: %{customdata[1]:.3f}',\n",
    "                                'Low: %{customdata[2]:.3f}',\n",
    "                                'Close: %{customdata[3]:.3f}'\n",
    "                            ])\n",
    "                    \n",
    "                    ))\n",
    "                fig.add_trace(go.Scatter(\n",
    "                    x=df['bb_high'].index,\n",
    "                    y=df['bb_high'],\n",
    "                    name = 'bb_high',\n",
    "                    fill='tonexty', # fill area between trace0 and trace1\n",
    "                    mode='lines', line_color='indigo', \n",
    "                    customdata=df_normal[['Open','High','Low','Close']],\n",
    "                            hovertemplate='<br>'.join([\n",
    "                                'Percentual Change: %{y}',\n",
    "                                'Date: %{x}',\n",
    "                                'Open: %{customdata[0]:.3f}',\n",
    "                                'High: %{customdata[1]:.3f}',\n",
    "                                'Low: %{customdata[2]:.3f}',\n",
    "                                'Close: %{customdata[3]:.3f}'\n",
    "                            ])))\n",
    "                    \n",
    "            else:\n",
    "                \n",
    "                for ind, value in enumerate(color_palete):\n",
    "\n",
    "                    if i == ind: \n",
    "                        fig.add_trace(\n",
    "                        go.Scatter(\n",
    "                            x=df[v].index,\n",
    "                            y=df[v],\n",
    "                            mode=\"lines\",\n",
    "                            name = v,\n",
    "                            line_color=value,\n",
    "                            customdata=df_normal[['Open','High','Low','Close']],\n",
    "                            hovertemplate='<br>'.join([\n",
    "                                'Percentual Change: %{y}',\n",
    "                                'Date: %{x}',\n",
    "                                'Open: %{customdata[0]:.3f}',\n",
    "                                'High: %{customdata[1]:.3f}',\n",
    "                                'Low: %{customdata[2]:.3f}',\n",
    "                                'Close: %{customdata[3]:.3f}'\n",
    "                            ]),\n",
    "                        )\n",
    "                        )\n",
    "        fig.update_layout(width=1300, height= 2000)\n",
    "                        \n",
    "    fig.update_layout(xaxis_rangeslider_visible=False)\n",
    "    fig.update_layout(\n",
    "        template=\"plotly_dark\",\n",
    "        plot_bgcolor = 'rgba(0, 0, 0, 0)',\n",
    "        paper_bgcolor = 'rgba(0, 0, 0, 0)',\n",
    "        font_color=\"white\",\n",
    "        font_size= 15\n",
    "    )       \n",
    "    fig.show()\n",
    "\n",
    "\n",
    "    \n"
   ]
  },
  {
   "cell_type": "code",
   "execution_count": 154,
   "metadata": {},
   "outputs": [
    {
     "data": {
      "application/vnd.plotly.v1+json": {
       "config": {
        "plotlyServerURL": "https://plot.ly"
       },
       "data": [
        {
         "close": [
          35697.60546875,
          34616.06640625,
          35678.12890625,
          37332.85546875,
          36684.92578125,
          37575.1796875,
          39208.765625,
          36894.40625,
          35551.95703125,
          35862.37890625,
          33560.70703125,
          33472.6328125,
          37345.12109375,
          36702.59765625,
          37334.3984375,
          35552.515625,
          39097.859375,
          40218.4765625,
          40406.26953125,
          38347.0625,
          38053.50390625,
          35787.24609375,
          35615.87109375,
          35698.296875,
          31676.693359375,
          32505.66015625,
          33723.02734375,
          34662.4375,
          31637.779296875,
          32186.27734375,
          34649.64453125,
          34434.3359375,
          35867.77734375,
          35040.8359375,
          33572.1171875,
          33897.046875,
          34668.546875,
          35287.78125,
          33746.00390625,
          34235.1953125,
          33855.328125,
          32877.37109375,
          33798.01171875,
          33520.51953125,
          34240.1875,
          33155.84765625,
          32702.025390625,
          32822.34765625,
          31780.73046875,
          31421.5390625,
          31533.068359375,
          31796.810546875,
          30817.83203125,
          29807.34765625,
          32110.693359375,
          32313.10546875,
          33581.55078125,
          34292.4453125,
          35350.1875,
          37337.53515625,
          39406.94140625,
          39995.90625,
          40008.421875,
          42235.546875,
          41626.1953125,
          39974.89453125,
          39201.9453125,
          38152.98046875,
          39747.50390625,
          40869.5546875,
          42816.5,
          44555.80078125,
          43798.1171875,
          46365.40234375,
          45585.03125,
          45593.63671875,
          44428.2890625,
          47793.3203125,
          47096.9453125,
          47047.00390625,
          46004.484375,
          44695.359375,
          44801.1875,
          46717.578125,
          49339.17578125,
          48905.4921875,
          49321.65234375,
          49546.1484375,
          47706.1171875,
          48960.7890625,
          46942.21875,
          49058.66796875,
          48902.40234375,
          48829.83203125,
          47054.984375,
          47166.6875,
          48847.02734375,
          49327.72265625,
          50025.375,
          49944.625,
          51753.41015625,
          52633.53515625,
          46811.12890625,
          46091.390625,
          46391.421875,
          44883.91015625,
          45201.45703125,
          46063.26953125,
          44963.07421875,
          47092.4921875,
          48176.34765625,
          47783.359375,
          47267.51953125,
          48278.36328125,
          47260.21875,
          42843.80078125,
          40693.67578125,
          43574.5078125,
          44895.09765625,
          42839.75,
          42716.59375,
          43208.5390625,
          42235.73046875,
          41034.54296875,
          41564.36328125,
          43790.89453125,
          48116.94140625,
          47711.48828125,
          48199.953125,
          49112.90234375,
          51514.8125,
          55361.44921875,
          53805.984375,
          53967.84765625,
          54968.22265625,
          54771.578125,
          57484.7890625,
          56041.05859375,
          57401.09765625,
          57321.5234375,
          61593.94921875,
          60892.1796875,
          61553.6171875,
          62026.078125,
          64261.9921875,
          65992.8359375,
          62210.171875,
          60692.265625,
          61393.6171875,
          60930.8359375,
          63039.82421875,
          60363.79296875,
          58482.38671875,
          60622.13671875,
          62227.96484375,
          61888.83203125,
          61318.95703125,
          61004.40625,
          63226.40234375,
          62970.046875,
          61452.23046875,
          61125.67578125,
          61527.48046875,
          63326.98828125,
          67566.828125,
          66971.828125,
          64995.23046875,
          64949.9609375,
          64155.94140625,
          64469.52734375,
          65466.83984375,
          63557.87109375,
          60161.24609375,
          60368.01171875,
          56942.13671875,
          58119.578125,
          59697.1953125,
          58730.4765625,
          56289.2890625,
          57569.07421875,
          56280.42578125,
          57274.6796875,
          53569.765625,
          54815.078125,
          57248.45703125,
          57806.56640625,
          57005.42578125,
          57229.828125,
          56477.81640625,
          53598.24609375,
          49200.703125,
          49368.84765625,
          50582.625,
          50700.0859375,
          50504.796875,
          47672.12109375,
          47243.3046875,
          49362.5078125,
          50098.3359375,
          46737.48046875,
          46612.6328125,
          48896.72265625,
          47665.42578125,
          46202.14453125,
          46848.77734375,
          46707.015625,
          46880.27734375,
          48936.61328125,
          48628.51171875,
          50784.5390625,
          50822.1953125,
          50429.859375,
          50809.515625,
          50640.41796875,
          47588.85546875,
          46444.7109375,
          47178.125,
          46306.4453125,
          47686.8125,
          47345.21875,
          46458.1171875,
          45897.57421875,
          43569.00390625,
          43160.9296875,
          41557.90234375,
          41733.94140625,
          41911.6015625,
          41821.26171875,
          42735.85546875,
          43949.1015625,
          42591.5703125,
          43099.69921875,
          43177.3984375,
          43113.87890625,
          42250.55078125,
          42375.6328125,
          41744.328125,
          40680.41796875,
          36457.31640625,
          35030.25,
          36276.8046875,
          36654.328125,
          36954.00390625,
          36852.12109375,
          37138.234375,
          37784.33203125,
          38138.1796875,
          37917.6015625,
          38483.125,
          38743.2734375,
          36952.984375,
          37154.6015625,
          41500.875,
          41441.1640625,
          42412.43359375,
          43840.28515625,
          44118.4453125,
          44338.796875,
          43565.11328125,
          42407.9375,
          42244.46875,
          42197.515625,
          42586.91796875,
          44575.203125,
          43961.859375,
          40538.01171875,
          40030.9765625,
          40122.15625,
          38431.37890625,
          37075.28125,
          38286.02734375,
          37296.5703125,
          38332.609375,
          39214.21875,
          39105.1484375,
          37709.78515625,
          43193.234375,
          44354.63671875,
          43924.1171875,
          42451.7890625,
          39137.60546875,
          39400.5859375,
          38419.984375,
          38062.0390625,
          38737.26953125,
          41982.92578125,
          39437.4609375,
          38794.97265625,
          38904.01171875,
          37849.6640625,
          39666.75390625,
          39338.78515625,
          41143.9296875,
          40951.37890625,
          41801.15625,
          42190.65234375,
          41247.82421875,
          41077.99609375,
          42358.80859375,
          42892.95703125,
          43960.93359375,
          44348.73046875,
          44500.828125,
          46820.4921875,
          47128.00390625,
          47465.73046875,
          47062.6640625,
          45538.67578125,
          46281.64453125,
          45868.94921875,
          46453.56640625,
          46622.67578125,
          45555.9921875,
          43206.73828125,
          43503.84765625,
          42287.6640625,
          42782.13671875,
          42207.671875,
          39521.90234375,
          40127.18359375,
          41166.73046875,
          39935.515625,
          40553.46484375,
          40424.484375,
          39716.953125,
          40826.21484375,
          41502.75,
          41374.37890625,
          40527.36328125,
          39740.3203125,
          39486.73046875,
          39469.29296875,
          40458.30859375,
          38117.4609375,
          39241.12109375,
          39773.828125,
          38609.82421875,
          37714.875,
          38469.09375,
          38529.328125,
          37750.453125,
          39698.37109375,
          36575.140625,
          36040.921875,
          35501.953125,
          34059.265625,
          30296.953125,
          31022.90625,
          28936.35546875,
          29047.751953125,
          29283.103515625,
          30101.265625,
          31305.11328125,
          29862.91796875,
          30425.857421875,
          28720.271484375,
          30314.333984375,
          29200.740234375
         ],
         "high": [
          38856.96875,
          37234.5,
          36400.66796875,
          37468.25,
          37896.734375,
          38231.33984375,
          39478.953125,
          39242.484375,
          37917.71484375,
          36436.421875,
          36790.5703125,
          34017.38671875,
          37537.37109375,
          38334.32421875,
          37608.6953125,
          37408.92578125,
          39322.78125,
          40978.36328125,
          41295.26953125,
          40516.77734375,
          39513.671875,
          38187.26171875,
          36457.796875,
          36059.484375,
          35721.640625,
          33292.453125,
          34753.41015625,
          35228.8515625,
          35487.24609375,
          32637.587890625,
          34656.12890625,
          35219.890625,
          36542.109375,
          36074.7578125,
          35035.984375,
          33939.58984375,
          34909.26171875,
          35937.56640625,
          35284.34375,
          35038.53515625,
          34997.6640625,
          33907.90625,
          34042.29296875,
          34209.0703125,
          34584.703125,
          34592.15625,
          33327.1015625,
          33061.3984375,
          33159.640625,
          32218.40625,
          31935.9453125,
          32398.99609375,
          31885.859375,
          31006.1875,
          32752.326171875,
          32576.400390625,
          33581.55078125,
          34490.390625,
          35364.92578125,
          40499.67578125,
          39406.94140625,
          40816.0703125,
          40593.0703125,
          42235.546875,
          42231.44921875,
          42541.6796875,
          40419.1796875,
          39750.03125,
          39952.296875,
          41341.93359375,
          43271.66015625,
          44689.859375,
          45282.3515625,
          46456.83203125,
          46637.98828125,
          46735.6328125,
          46228.91015625,
          47831.9765625,
          48098.68359375,
          47357.10546875,
          47998.09765625,
          47139.5703125,
          45952.0625,
          46970.76171875,
          49342.15234375,
          49717.01953125,
          49471.609375,
          50482.078125,
          49878.76953125,
          49202.87890625,
          49347.58203125,
          49112.78515625,
          49283.50390625,
          49644.11328125,
          48925.60546875,
          48189.55078125,
          49111.08984375,
          50343.421875,
          50982.2734375,
          50545.58203125,
          51868.6796875,
          52700.94140625,
          52853.765625,
          47334.0546875,
          47261.94921875,
          47031.7421875,
          45969.29296875,
          46364.87890625,
          46598.6796875,
          47218.125,
          48450.46875,
          48486.828125,
          48160.921875,
          48791.78125,
          48328.3671875,
          47328.19921875,
          43607.609375,
          43978.62109375,
          44942.17578125,
          45080.4921875,
          42996.2578125,
          43919.30078125,
          44313.24609375,
          42775.14453125,
          42545.2578125,
          44092.6015625,
          48436.01171875,
          48282.0625,
          49130.69140625,
          49456.77734375,
          51839.984375,
          55568.46484375,
          55338.625,
          55922.98046875,
          55397.9453125,
          56401.3046875,
          57793.0390625,
          57627.87890625,
          57688.66015625,
          58478.734375,
          62757.12890625,
          62274.4765625,
          61645.5234375,
          62614.66015625,
          64434.53515625,
          66930.390625,
          66600.546875,
          63715.0234375,
          61743.87890625,
          61505.8046875,
          63729.32421875,
          63229.02734375,
          61435.18359375,
          62128.6328125,
          62927.609375,
          62330.14453125,
          62406.171875,
          62419.00390625,
          64242.79296875,
          63516.9375,
          63123.2890625,
          62541.46875,
          61590.68359375,
          63326.98828125,
          67673.7421875,
          68530.3359375,
          68789.625,
          65579.015625,
          65460.81640625,
          64915.67578125,
          65495.1796875,
          66281.5703125,
          63721.1953125,
          60823.609375,
          60948.5,
          58351.11328125,
          59859.87890625,
          60004.42578125,
          59266.359375,
          57875.515625,
          57803.06640625,
          59367.96875,
          59183.48046875,
          55329.2578125,
          57393.84375,
          58872.87890625,
          59113.40234375,
          59041.68359375,
          57349.234375,
          57482.16796875,
          53904.6796875,
          49768.1484375,
          50929.51953125,
          51934.78125,
          51171.375,
          50797.1640625,
          50015.25390625,
          49458.2109375,
          50724.8671875,
          50205,
          48431.3984375,
          49473.95703125,
          49425.57421875,
          48004.89453125,
          47313.828125,
          48089.6640625,
          47401.71875,
          49300.91796875,
          49544.796875,
          51332.33984375,
          51814.02734375,
          51176.59765625,
          51196.37890625,
          51956.328125,
          50679.859375,
          48119.7421875,
          47879.96484375,
          48472.52734375,
          47827.3125,
          47881.40625,
          47510.7265625,
          47406.546875,
          46929.046875,
          43748.71875,
          43153.5703125,
          42228.94140625,
          42663.94921875,
          42199.484375,
          43001.15625,
          44135.3671875,
          44278.421875,
          43346.6875,
          43724.671875,
          43436.80859375,
          43179.390625,
          42534.40234375,
          42478.3046875,
          43413.0234375,
          41060.52734375,
          36688.8125,
          36433.3125,
          37247.51953125,
          37444.5703125,
          38825.41015625,
          37148.32421875,
          37952.87890625,
          38576.26171875,
          38266.33984375,
          38647.26171875,
          39115.1328125,
          38834.6171875,
          37154.6015625,
          41527.78515625,
          41847.1640625,
          42500.78515625,
          44401.86328125,
          45293.8671875,
          44727.80078125,
          45661.171875,
          43810.83203125,
          42992.55078125,
          42693.0546875,
          42775.77734375,
          44667.21875,
          44578.27734375,
          44132.97265625,
          40929.15234375,
          40418.87890625,
          40119.890625,
          39394.4375,
          38359.85546875,
          39122.39453125,
          38968.83984375,
          39630.32421875,
          40005.34765625,
          39778.94140625,
          43760.45703125,
          44793.6015625,
          45077.578125,
          44021.578125,
          42479.61328125,
          39566.3359375,
          39640.17578125,
          39430.2265625,
          39304.44140625,
          42465.671875,
          42004.7265625,
          40081.6796875,
          39308.59765625,
          39209.3515625,
          39742.5,
          39794.62890625,
          41465.453125,
          41287.53515625,
          42195.74609375,
          42316.5546875,
          42241.1640625,
          41454.41015625,
          43124.70703125,
          42893.5078125,
          44131.85546875,
          44999.4921875,
          44735.99609375,
          46827.546875,
          48086.8359375,
          48022.2890625,
          47655.1484375,
          47512.02734375,
          46616.2421875,
          47028.28125,
          47313.4765625,
          46791.08984375,
          47106.140625,
          45544.35546875,
          43860.69921875,
          43903.01953125,
          42786.81640625,
          43376.37890625,
          42424.58984375,
          40617.5859375,
          41430.0546875,
          41451.48046875,
          40617.72265625,
          40633.6796875,
          40570.7265625,
          40986.3203125,
          41672.9609375,
          42126.30078125,
          42893.58203125,
          40777.7578125,
          39935.859375,
          39845.92578125,
          40491.75390625,
          40713.890625,
          39397.91796875,
          40269.46484375,
          39887.26953125,
          38771.2109375,
          38627.859375,
          39074.97265625,
          38629.99609375,
          39902.94921875,
          39789.28125,
          36624.359375,
          36129.92578125,
          35502.94140625,
          34222.07421875,
          32596.30859375,
          32013.40234375,
          30032.439453125,
          30924.802734375,
          30192.802734375,
          31308.19140625,
          31305.341796875,
          30694.490234375,
          30618.716796875,
          30430.751953125,
          30664.9765625
         ],
         "hoverinfo": "text",
         "low": [
          34779.0390625,
          33693.9296875,
          33520.73828125,
          34241.9453125,
          35787.0859375,
          35966.30859375,
          37243.97265625,
          35717.72265625,
          34900.4140625,
          35304.578125,
          33480.640625,
          31114.443359375,
          32475.865234375,
          35847.59375,
          36044.44921875,
          34728.19140625,
          34864.109375,
          38757.28515625,
          39609.46875,
          38176.03515625,
          37439.67578125,
          35255.85546875,
          34933.0625,
          33432.07421875,
          31295.935546875,
          28893.62109375,
          31772.6328125,
          32385.21484375,
          31350.884765625,
          30184.501953125,
          32071.7578125,
          33902.07421875,
          34252.484375,
          34086.15234375,
          32883.78125,
          32770.6796875,
          33402.6953125,
          34396.4765625,
          33213.66015625,
          33599.91796875,
          33839.2890625,
          32133.18359375,
          32318.880859375,
          33116.01171875,
          33346.73828125,
          32697.30859375,
          32261.419921875,
          31639.125,
          31175.708984375,
          31100.673828125,
          31223.990234375,
          31215.4921875,
          30563.734375,
          29360.955078125,
          29526.18359375,
          31745.298828125,
          32057.892578125,
          33424.859375,
          33881.8359375,
          35287.3125,
          36441.7265625,
          38862.4375,
          39352.05859375,
          38397.35546875,
          41110.83203125,
          39540.94140625,
          38746.34765625,
          37782.05078125,
          37589.1640625,
          37458.00390625,
          39932.1796875,
          42618.56640625,
          43331.91015625,
          42848.6875,
          44705.5546875,
          45351.7109375,
          43861.4453125,
          44282.41796875,
          46177.6328125,
          45579.58984375,
          45700.3203125,
          44512.41796875,
          44364.02734375,
          43998.31640625,
          46650.70703125,
          48312.19921875,
          48199.94140625,
          49074.60546875,
          47687.1171875,
          47163.61328125,
          46405.78125,
          46394.28125,
          48499.23828125,
          47925.85546875,
          46950.2734375,
          46750.09375,
          46562.4375,
          48652.3203125,
          48386.0859375,
          49548.78125,
          49538.59765625,
          51053.6796875,
          43285.20703125,
          44561.39453125,
          45669.73828125,
          44344.484375,
          44818.265625,
          44790.4609375,
          43591.3203125,
          44752.33203125,
          46773.328125,
          47079.55859375,
          46832.5234375,
          47087.28515625,
          46919.8046875,
          42598.9140625,
          39787.609375,
          40625.6328125,
          43109.33984375,
          40936.55859375,
          41759.921875,
          40848.4609375,
          42190.6328125,
          40931.6640625,
          40829.66796875,
          41444.58203125,
          43320.0234375,
          47465.49609375,
          47157.2890625,
          47045.00390625,
          49072.83984375,
          50488.19140625,
          53525.46875,
          53688.0546875,
          53735.14453125,
          54264.2578125,
          54519.765625,
          54477.97265625,
          54370.97265625,
          56957.07421875,
          56868.14453125,
          60206.12109375,
          59164.46875,
          60012.7578125,
          61622.93359375,
          63610.67578125,
          62117.41015625,
          60122.796875,
          59826.5234375,
          59643.34375,
          60691.80078125,
          59991.16015625,
          58208.1875,
          58206.91796875,
          60329.96484375,
          60918.38671875,
          60074.328125,
          59695.18359375,
          60673.0546875,
          61184.23828125,
          60799.6640625,
          60844.609375,
          60163.78125,
          61432.48828125,
          63344.06640625,
          66382.0625,
          63208.11328125,
          64180.48828125,
          62333.9140625,
          63303.734375,
          63647.80859375,
          63548.14453125,
          59016.3359375,
          58515.41015625,
          56550.79296875,
          55705.1796875,
          57469.7265625,
          58618.9296875,
          55679.83984375,
          55632.76171875,
          55964.22265625,
          57146.68359375,
          53569.765625,
          53668.35546875,
          53576.734375,
          56792.52734375,
          56057.28125,
          56553.08203125,
          55895.1328125,
          52496.5859375,
          42874.6171875,
          47857.49609375,
          47281.03515625,
          50175.80859375,
          48765.98828125,
          47358.3515625,
          47023.69921875,
          46942.34765625,
          48725.8515625,
          45894.84765625,
          46424.49609375,
          46671.96484375,
          47529.87890625,
          45618.21484375,
          45598.44140625,
          46502.953125,
          45579.80859375,
          46698.7734375,
          48450.94140625,
          48065.8359375,
          50514.49609375,
          50236.70703125,
          49623.10546875,
          50499.46875,
          47414.2109375,
          46201.49609375,
          46060.3125,
          45819.953125,
          46288.484375,
          46856.9375,
          45835.96484375,
          45752.46484375,
          42798.22265625,
          42645.5390625,
          41077.4453125,
          40672.27734375,
          41338.16015625,
          39796.5703125,
          41407.75390625,
          42528.98828125,
          42447.04296875,
          41982.6171875,
          42669.03515625,
          42691.0234375,
          41680.3203125,
          41392.21484375,
          41242.9140625,
          40672.82421875,
          35791.42578125,
          34349.25,
          34784.96875,
          33184.05859375,
          35779.4296875,
          36374.90625,
          35629.28125,
          36211.109375,
          37406.47265625,
          37437.7109375,
          36733.57421875,
          38113.6640625,
          36832.73046875,
          36375.5390625,
          37093.62890625,
          41038.09765625,
          41244.90625,
          41748.15625,
          42807.8359375,
          43232.96875,
          43402.80859375,
          42114.5390625,
          41852.57421875,
          41950.94140625,
          41681.95703125,
          42491.03515625,
          43456.69140625,
          40249.37109375,
          39637.6171875,
          39713.05859375,
          38112.8125,
          36950.4765625,
          36488.93359375,
          37201.81640625,
          34459.21875,
          38111.34375,
          38702.53515625,
          37268.9765625,
          37518.21484375,
          42952.5859375,
          43432.8515625,
          41914.75,
          38805.84765625,
          38777.03515625,
          38211.6484375,
          37260.203125,
          37957.38671875,
          38706.09375,
          38832.94140625,
          38347.43359375,
          38772.53515625,
          37728.14453125,
          37680.734375,
          38310.2109375,
          39022.34765625,
          40662.87109375,
          40302.3984375,
          41602.66796875,
          41004.7578125,
          40668.04296875,
          40948.28125,
          41877.5078125,
          42726.1640625,
          43706.28515625,
          44166.2734375,
          44437.29296875,
          46690.203125,
          47100.4375,
          46746.2109375,
          45390.5390625,
          44403.140625,
          45782.51171875,
          45634.10546875,
          45235.81640625,
          45544.80859375,
          43193.953125,
          42899.90625,
          42183.2890625,
          42183.25390625,
          42021.20703125,
          39373.05859375,
          39388.328125,
          39712.74609375,
          39695.74609375,
          39866.83203125,
          40078.42578125,
          39620.89453125,
          38696.19140625,
          40618.6328125,
          40961.09765625,
          40063.828125,
          39315.41796875,
          39352.203125,
          39233.5390625,
          38338.37890625,
          37884.984375,
          37997.3125,
          38941.421875,
          38235.53515625,
          37697.94140625,
          37585.7890625,
          38156.5625,
          37585.62109375,
          37732.05859375,
          35856.515625,
          35482.1328125,
          34940.82421875,
          33878.96484375,
          30296.953125,
          29944.802734375,
          28170.4140625,
          26350.490234375,
          28782.330078125,
          28702.91015625,
          29527.740234375,
          29251.884765625,
          29570.302734375,
          28720.271484375,
          28708.955078125,
          28793.60546875
         ],
         "open": [
          38507.08203125,
          35684.15625,
          34607.40625,
          35658.59375,
          37293.79296875,
          36699.921875,
          37599.41015625,
          39242.484375,
          36880.15625,
          35538.609375,
          35835.265625,
          33589.51953125,
          33416.9765625,
          37389.515625,
          36697.03125,
          37340.14453125,
          35555.7890625,
          39016.96875,
          40427.16796875,
          40168.69140625,
          38341.421875,
          38099.4765625,
          35854.52734375,
          35563.140625,
          35641.14453125,
          31622.376953125,
          32515.71484375,
          33682.80078125,
          34659.10546875,
          31594.6640625,
          32287.5234375,
          34679.12109375,
          34475.55859375,
          35908.38671875,
          35035.984375,
          33549.6015625,
          33854.421875,
          34665.56640625,
          35284.34375,
          33723.5078125,
          34225.6796875,
          33889.60546875,
          32861.671875,
          33811.2421875,
          33509.078125,
          34254.015625,
          33125.46875,
          32723.845703125,
          32827.875,
          31841.55078125,
          31397.30859375,
          31533.884765625,
          31800.01171875,
          30838.28515625,
          29796.28515625,
          32138.873046875,
          32305.958984375,
          33593.73046875,
          34290.29296875,
          35384.03125,
          37276.03515625,
          39503.1875,
          39995.453125,
          40027.484375,
          42196.3046875,
          41460.84375,
          39907.26171875,
          39178.40234375,
          38213.33203125,
          39744.515625,
          40865.8671875,
          42832.796875,
          44574.4375,
          43791.92578125,
          46280.84765625,
          45599.703125,
          45576.87890625,
          44439.69140625,
          47810.6875,
          47096.66796875,
          47019.9609375,
          45936.45703125,
          44686.75,
          44741.8828125,
          46723.12109375,
          49327.07421875,
          48869.10546875,
          49291.67578125,
          49562.34765625,
          47727.2578125,
          49002.640625,
          46894.5546875,
          49072.5859375,
          48911.25,
          48834.8515625,
          47024.33984375,
          47099.7734375,
          48807.84765625,
          49288.25,
          50009.32421875,
          49937.859375,
          51769.00390625,
          52660.48046875,
          46827.76171875,
          45774.7421875,
          46396.6640625,
          44869.83984375,
          45206.62890625,
          46057.21484375,
          44960.05078125,
          47098,
          48158.90625,
          47771.00390625,
          47273.52734375,
          48268.85546875,
          47261.40625,
          43012.234375,
          40677.953125,
          43560.296875,
          44894.30078125,
          42840.890625,
          42721.62890625,
          43234.18359375,
          42200.8984375,
          41064.984375,
          41551.26953125,
          43816.7421875,
          48137.46875,
          47680.02734375,
          48208.90625,
          49174.9609375,
          51486.6640625,
          55338.625,
          53802.14453125,
          53929.78125,
          54952.8203125,
          54734.125,
          57526.83203125,
          56038.2578125,
          57372.83203125,
          57345.90234375,
          61609.52734375,
          60887.65234375,
          61548.8046875,
          62043.1640625,
          64284.5859375,
          66002.234375,
          62237.890625,
          60694.62890625,
          61368.34375,
          60893.92578125,
          63032.76171875,
          60352,
          58470.73046875,
          60624.87109375,
          62239.36328125,
          61850.48828125,
          61320.44921875,
          60963.25390625,
          63254.3359375,
          62941.8046875,
          61460.078125,
          61068.875,
          61554.921875,
          63344.06640625,
          67549.734375,
          66953.3359375,
          64978.890625,
          64863.98046875,
          64158.12109375,
          64455.37109375,
          65521.2890625,
          63721.1953125,
          60139.62109375,
          60360.13671875,
          56896.12890625,
          58115.08203125,
          59730.5078125,
          58706.84765625,
          56304.5546875,
          57565.8515625,
          57165.41796875,
          58960.28515625,
          53736.4296875,
          54813.0234375,
          57291.90625,
          57830.11328125,
          56907.96484375,
          57217.37109375,
          56509.1640625,
          53727.87890625,
          49201.51953125,
          49413.48046875,
          50581.828125,
          50667.6484375,
          50450.08203125,
          47642.14453125,
          47264.6328125,
          49354.85546875,
          50114.7421875,
          46709.82421875,
          48379.75390625,
          48900.46484375,
          47653.73046875,
          46219.25390625,
          46853.8671875,
          46707.0625,
          46886.078125,
          48937.09765625,
          48626.34375,
          50806.05078125,
          50854.91796875,
          50428.69140625,
          50802.609375,
          50679.859375,
          47623.87109375,
          46490.60546875,
          47169.37109375,
          46311.74609375,
          47680.92578125,
          47343.54296875,
          46458.8515625,
          45899.359375,
          43565.51171875,
          43153.5703125,
          41561.46484375,
          41734.7265625,
          41910.23046875,
          41819.5078125,
          42742.1796875,
          43946.7421875,
          42598.87109375,
          43101.8984375,
          43172.0390625,
          43118.12109375,
          42250.07421875,
          42374.0390625,
          41744.02734375,
          40699.60546875,
          36471.58984375,
          35047.359375,
          36275.734375,
          36654.8046875,
          36950.515625,
          36841.87890625,
          37128.4453125,
          37780.71484375,
          38151.91796875,
          37920.28125,
          38481.765625,
          38743.71484375,
          36944.8046875,
          37149.265625,
          41501.48046875,
          41441.12109375,
          42406.78125,
          43854.65234375,
          44096.703125,
          44347.80078125,
          43571.12890625,
          42412.30078125,
          42236.56640625,
          42157.3984375,
          42586.46484375,
          44578.27734375,
          43937.0703125,
          40552.1328125,
          40026.0234375,
          40118.1015625,
          38423.2109375,
          37068.76953125,
          38285.28125,
          37278.56640625,
          38333.74609375,
          39213.08203125,
          39098.69921875,
          37706,
          43194.50390625,
          44357.6171875,
          43925.1953125,
          42458.140625,
          39148.44921875,
          39404.19921875,
          38429.3046875,
          38059.90234375,
          38742.81640625,
          41974.0703125,
          39439.96875,
          38794.46484375,
          38884.7265625,
          37846.31640625,
          39664.25,
          39335.5703125,
          41140.84375,
          40944.83984375,
          41794.6484375,
          42191.40625,
          41246.1328125,
          41074.10546875,
          42364.37890625,
          42886.65234375,
          43964.546875,
          44349.859375,
          44505.35546875,
          46821.8515625,
          47100.4375,
          47456.8984375,
          47062.1484375,
          45554.1640625,
          46285.5,
          45859.12890625,
          46445.2734375,
          46624.5078125,
          45544.35546875,
          43207.5,
          43505.13671875,
          42282.078125,
          42781.08984375,
          42201.0390625,
          39533.71484375,
          40123.5703125,
          41160.21875,
          39939.40234375,
          40552.31640625,
          40417.77734375,
          39721.203125,
          40828.17578125,
          41501.74609375,
          41371.515625,
          40525.86328125,
          39738.72265625,
          39478.375,
          39472.60546875,
          40448.421875,
          38120.30078125,
          39241.4296875,
          39768.6171875,
          38605.859375,
          37713.265625,
          38472.1875,
          38528.109375,
          37748.01171875,
          39695.74609375,
          36573.18359375,
          36042.50390625,
          35502.94140625,
          34060.015625,
          30273.654296875,
          31016.18359375,
          28936.734375,
          29030.91015625,
          29285.642578125,
          30098.5859375,
          31304.375,
          29862.408203125,
          30424.478515625,
          28720.359375,
          30311.119140625
         ],
         "text": [
          "Open: 38507.08<br>% change:nan<br>High: 38856.97<br>% change:nan<br>Low: 34779.04<br>% change:nan<br>Close: 35697.61<br>% change:nan",
          "Open: 35684.16<br>% change:-0.073<br>High: 37234.5<br>% change:-0.042<br>Low: 33693.93<br>% change:-0.031<br>Close: 34616.07<br>% change:-0.03",
          "Open: 34607.41<br>% change:-0.03<br>High: 36400.67<br>% change:-0.022<br>Low: 33520.74<br>% change:-0.005<br>Close: 35678.13<br>% change:0.031",
          "Open: 35658.59<br>% change:0.03<br>High: 37468.25<br>% change:0.029<br>Low: 34241.95<br>% change:0.022<br>Close: 37332.86<br>% change:0.046",
          "Open: 37293.79<br>% change:0.046<br>High: 37896.73<br>% change:0.011<br>Low: 35787.09<br>% change:0.045<br>Close: 36684.93<br>% change:-0.017",
          "Open: 36699.92<br>% change:-0.016<br>High: 38231.34<br>% change:0.009<br>Low: 35966.31<br>% change:0.005<br>Close: 37575.18<br>% change:0.024",
          "Open: 37599.41<br>% change:0.025<br>High: 39478.95<br>% change:0.033<br>Low: 37243.97<br>% change:0.036<br>Close: 39208.77<br>% change:0.043",
          "Open: 39242.48<br>% change:0.044<br>High: 39242.48<br>% change:-0.006<br>Low: 35717.72<br>% change:-0.041<br>Close: 36894.41<br>% change:-0.059",
          "Open: 36880.16<br>% change:-0.06<br>High: 37917.71<br>% change:-0.034<br>Low: 34900.41<br>% change:-0.023<br>Close: 35551.96<br>% change:-0.036",
          "Open: 35538.61<br>% change:-0.036<br>High: 36436.42<br>% change:-0.039<br>Low: 35304.58<br>% change:0.012<br>Close: 35862.38<br>% change:0.009",
          "Open: 35835.27<br>% change:0.008<br>High: 36790.57<br>% change:0.01<br>Low: 33480.64<br>% change:-0.052<br>Close: 33560.71<br>% change:-0.064",
          "Open: 33589.52<br>% change:-0.063<br>High: 34017.39<br>% change:-0.075<br>Low: 31114.44<br>% change:-0.071<br>Close: 33472.63<br>% change:-0.003",
          "Open: 33416.98<br>% change:-0.005<br>High: 37537.37<br>% change:0.103<br>Low: 32475.87<br>% change:0.044<br>Close: 37345.12<br>% change:0.116",
          "Open: 37389.52<br>% change:0.119<br>High: 38334.32<br>% change:0.021<br>Low: 35847.59<br>% change:0.104<br>Close: 36702.6<br>% change:-0.017",
          "Open: 36697.03<br>% change:-0.019<br>High: 37608.7<br>% change:-0.019<br>Low: 36044.45<br>% change:0.005<br>Close: 37334.4<br>% change:0.017",
          "Open: 37340.14<br>% change:0.018<br>High: 37408.93<br>% change:-0.005<br>Low: 34728.19<br>% change:-0.037<br>Close: 35552.52<br>% change:-0.048",
          "Open: 35555.79<br>% change:-0.048<br>High: 39322.78<br>% change:0.051<br>Low: 34864.11<br>% change:0.004<br>Close: 39097.86<br>% change:0.1",
          "Open: 39016.97<br>% change:0.097<br>High: 40978.36<br>% change:0.042<br>Low: 38757.29<br>% change:0.112<br>Close: 40218.48<br>% change:0.029",
          "Open: 40427.17<br>% change:0.036<br>High: 41295.27<br>% change:0.008<br>Low: 39609.47<br>% change:0.022<br>Close: 40406.27<br>% change:0.005",
          "Open: 40168.69<br>% change:-0.006<br>High: 40516.78<br>% change:-0.019<br>Low: 38176.04<br>% change:-0.036<br>Close: 38347.06<br>% change:-0.051",
          "Open: 38341.42<br>% change:-0.045<br>High: 39513.67<br>% change:-0.025<br>Low: 37439.68<br>% change:-0.019<br>Close: 38053.5<br>% change:-0.008",
          "Open: 38099.48<br>% change:-0.006<br>High: 38187.26<br>% change:-0.034<br>Low: 35255.86<br>% change:-0.058<br>Close: 35787.25<br>% change:-0.06",
          "Open: 35854.53<br>% change:-0.059<br>High: 36457.8<br>% change:-0.045<br>Low: 34933.06<br>% change:-0.009<br>Close: 35615.87<br>% change:-0.005",
          "Open: 35563.14<br>% change:-0.008<br>High: 36059.48<br>% change:-0.011<br>Low: 33432.07<br>% change:-0.043<br>Close: 35698.3<br>% change:0.002",
          "Open: 35641.14<br>% change:0.002<br>High: 35721.64<br>% change:-0.009<br>Low: 31295.94<br>% change:-0.064<br>Close: 31676.69<br>% change:-0.113",
          "Open: 31622.38<br>% change:-0.113<br>High: 33292.45<br>% change:-0.068<br>Low: 28893.62<br>% change:-0.077<br>Close: 32505.66<br>% change:0.026",
          "Open: 32515.71<br>% change:0.028<br>High: 34753.41<br>% change:0.044<br>Low: 31772.63<br>% change:0.1<br>Close: 33723.03<br>% change:0.037",
          "Open: 33682.8<br>% change:0.036<br>High: 35228.85<br>% change:0.014<br>Low: 32385.21<br>% change:0.019<br>Close: 34662.44<br>% change:0.028",
          "Open: 34659.11<br>% change:0.029<br>High: 35487.25<br>% change:0.007<br>Low: 31350.88<br>% change:-0.032<br>Close: 31637.78<br>% change:-0.087",
          "Open: 31594.66<br>% change:-0.088<br>High: 32637.59<br>% change:-0.08<br>Low: 30184.5<br>% change:-0.037<br>Close: 32186.28<br>% change:0.017",
          "Open: 32287.52<br>% change:0.022<br>High: 34656.13<br>% change:0.062<br>Low: 32071.76<br>% change:0.063<br>Close: 34649.64<br>% change:0.077",
          "Open: 34679.12<br>% change:0.074<br>High: 35219.89<br>% change:0.016<br>Low: 33902.07<br>% change:0.057<br>Close: 34434.34<br>% change:-0.006",
          "Open: 34475.56<br>% change:-0.006<br>High: 36542.11<br>% change:0.038<br>Low: 34252.48<br>% change:0.01<br>Close: 35867.78<br>% change:0.042",
          "Open: 35908.39<br>% change:0.042<br>High: 36074.76<br>% change:-0.013<br>Low: 34086.15<br>% change:-0.005<br>Close: 35040.84<br>% change:-0.023",
          "Open: 35035.98<br>% change:-0.024<br>High: 35035.98<br>% change:-0.029<br>Low: 32883.78<br>% change:-0.035<br>Close: 33572.12<br>% change:-0.042",
          "Open: 33549.6<br>% change:-0.042<br>High: 33939.59<br>% change:-0.031<br>Low: 32770.68<br>% change:-0.003<br>Close: 33897.05<br>% change:0.01",
          "Open: 33854.42<br>% change:0.009<br>High: 34909.26<br>% change:0.029<br>Low: 33402.7<br>% change:0.019<br>Close: 34668.55<br>% change:0.023",
          "Open: 34665.57<br>% change:0.024<br>High: 35937.57<br>% change:0.029<br>Low: 34396.48<br>% change:0.03<br>Close: 35287.78<br>% change:0.018",
          "Open: 35284.34<br>% change:0.018<br>High: 35284.34<br>% change:-0.018<br>Low: 33213.66<br>% change:-0.034<br>Close: 33746.0<br>% change:-0.044",
          "Open: 33723.51<br>% change:-0.044<br>High: 35038.54<br>% change:-0.007<br>Low: 33599.92<br>% change:0.012<br>Close: 34235.2<br>% change:0.014",
          "Open: 34225.68<br>% change:0.015<br>High: 34997.66<br>% change:-0.001<br>Low: 33839.29<br>% change:0.007<br>Close: 33855.33<br>% change:-0.011",
          "Open: 33889.61<br>% change:-0.01<br>High: 33907.91<br>% change:-0.031<br>Low: 32133.18<br>% change:-0.05<br>Close: 32877.37<br>% change:-0.029",
          "Open: 32861.67<br>% change:-0.03<br>High: 34042.29<br>% change:0.004<br>Low: 32318.88<br>% change:0.006<br>Close: 33798.01<br>% change:0.028",
          "Open: 33811.24<br>% change:0.029<br>High: 34209.07<br>% change:0.005<br>Low: 33116.01<br>% change:0.025<br>Close: 33520.52<br>% change:-0.008",
          "Open: 33509.08<br>% change:-0.009<br>High: 34584.7<br>% change:0.011<br>Low: 33346.74<br>% change:0.007<br>Close: 34240.19<br>% change:0.021",
          "Open: 34254.02<br>% change:0.022<br>High: 34592.16<br>% change:0.0<br>Low: 32697.31<br>% change:-0.019<br>Close: 33155.85<br>% change:-0.032",
          "Open: 33125.47<br>% change:-0.033<br>High: 33327.1<br>% change:-0.037<br>Low: 32261.42<br>% change:-0.013<br>Close: 32702.03<br>% change:-0.014",
          "Open: 32723.85<br>% change:-0.012<br>High: 33061.4<br>% change:-0.008<br>Low: 31639.12<br>% change:-0.019<br>Close: 32822.35<br>% change:0.004",
          "Open: 32827.88<br>% change:0.003<br>High: 33159.64<br>% change:0.003<br>Low: 31175.71<br>% change:-0.015<br>Close: 31780.73<br>% change:-0.032",
          "Open: 31841.55<br>% change:-0.03<br>High: 32218.41<br>% change:-0.028<br>Low: 31100.67<br>% change:-0.002<br>Close: 31421.54<br>% change:-0.011",
          "Open: 31397.31<br>% change:-0.014<br>High: 31935.95<br>% change:-0.009<br>Low: 31223.99<br>% change:0.004<br>Close: 31533.07<br>% change:0.004",
          "Open: 31533.88<br>% change:0.004<br>High: 32399.0<br>% change:0.014<br>Low: 31215.49<br>% change:-0.0<br>Close: 31796.81<br>% change:0.008",
          "Open: 31800.01<br>% change:0.008<br>High: 31885.86<br>% change:-0.016<br>Low: 30563.73<br>% change:-0.021<br>Close: 30817.83<br>% change:-0.031",
          "Open: 30838.29<br>% change:-0.03<br>High: 31006.19<br>% change:-0.028<br>Low: 29360.96<br>% change:-0.039<br>Close: 29807.35<br>% change:-0.033",
          "Open: 29796.29<br>% change:-0.034<br>High: 32752.33<br>% change:0.056<br>Low: 29526.18<br>% change:0.006<br>Close: 32110.69<br>% change:0.077",
          "Open: 32138.87<br>% change:0.079<br>High: 32576.4<br>% change:-0.005<br>Low: 31745.3<br>% change:0.075<br>Close: 32313.11<br>% change:0.006",
          "Open: 32305.96<br>% change:0.005<br>High: 33581.55<br>% change:0.031<br>Low: 32057.89<br>% change:0.01<br>Close: 33581.55<br>% change:0.039",
          "Open: 33593.73<br>% change:0.04<br>High: 34490.39<br>% change:0.027<br>Low: 33424.86<br>% change:0.043<br>Close: 34292.45<br>% change:0.021",
          "Open: 34290.29<br>% change:0.021<br>High: 35364.93<br>% change:0.025<br>Low: 33881.84<br>% change:0.014<br>Close: 35350.19<br>% change:0.031",
          "Open: 35384.03<br>% change:0.032<br>High: 40499.68<br>% change:0.145<br>Low: 35287.31<br>% change:0.041<br>Close: 37337.54<br>% change:0.056",
          "Open: 37276.04<br>% change:0.053<br>High: 39406.94<br>% change:-0.027<br>Low: 36441.73<br>% change:0.033<br>Close: 39406.94<br>% change:0.055",
          "Open: 39503.19<br>% change:0.06<br>High: 40816.07<br>% change:0.036<br>Low: 38862.44<br>% change:0.066<br>Close: 39995.91<br>% change:0.015",
          "Open: 39995.45<br>% change:0.012<br>High: 40593.07<br>% change:-0.005<br>Low: 39352.06<br>% change:0.013<br>Close: 40008.42<br>% change:0.0",
          "Open: 40027.48<br>% change:0.001<br>High: 42235.55<br>% change:0.04<br>Low: 38397.36<br>% change:-0.024<br>Close: 42235.55<br>% change:0.056",
          "Open: 42196.3<br>% change:0.054<br>High: 42231.45<br>% change:-0.0<br>Low: 41110.83<br>% change:0.071<br>Close: 41626.2<br>% change:-0.014",
          "Open: 41460.84<br>% change:-0.017<br>High: 42541.68<br>% change:0.007<br>Low: 39540.94<br>% change:-0.038<br>Close: 39974.89<br>% change:-0.04",
          "Open: 39907.26<br>% change:-0.037<br>High: 40419.18<br>% change:-0.05<br>Low: 38746.35<br>% change:-0.02<br>Close: 39201.95<br>% change:-0.019",
          "Open: 39178.4<br>% change:-0.018<br>High: 39750.03<br>% change:-0.017<br>Low: 37782.05<br>% change:-0.025<br>Close: 38152.98<br>% change:-0.027",
          "Open: 38213.33<br>% change:-0.025<br>High: 39952.3<br>% change:0.005<br>Low: 37589.16<br>% change:-0.005<br>Close: 39747.5<br>% change:0.042",
          "Open: 39744.52<br>% change:0.04<br>High: 41341.93<br>% change:0.035<br>Low: 37458.0<br>% change:-0.003<br>Close: 40869.55<br>% change:0.028",
          "Open: 40865.87<br>% change:0.028<br>High: 43271.66<br>% change:0.047<br>Low: 39932.18<br>% change:0.066<br>Close: 42816.5<br>% change:0.048",
          "Open: 42832.8<br>% change:0.048<br>High: 44689.86<br>% change:0.033<br>Low: 42618.57<br>% change:0.067<br>Close: 44555.8<br>% change:0.041",
          "Open: 44574.44<br>% change:0.041<br>High: 45282.35<br>% change:0.013<br>Low: 43331.91<br>% change:0.017<br>Close: 43798.12<br>% change:-0.017",
          "Open: 43791.93<br>% change:-0.018<br>High: 46456.83<br>% change:0.026<br>Low: 42848.69<br>% change:-0.011<br>Close: 46365.4<br>% change:0.059",
          "Open: 46280.85<br>% change:0.057<br>High: 46637.99<br>% change:0.004<br>Low: 44705.55<br>% change:0.043<br>Close: 45585.03<br>% change:-0.017",
          "Open: 45599.7<br>% change:-0.015<br>High: 46735.63<br>% change:0.002<br>Low: 45351.71<br>% change:0.014<br>Close: 45593.64<br>% change:0.0",
          "Open: 45576.88<br>% change:-0.001<br>High: 46228.91<br>% change:-0.011<br>Low: 43861.45<br>% change:-0.033<br>Close: 44428.29<br>% change:-0.026",
          "Open: 44439.69<br>% change:-0.025<br>High: 47831.98<br>% change:0.035<br>Low: 44282.42<br>% change:0.01<br>Close: 47793.32<br>% change:0.076",
          "Open: 47810.69<br>% change:0.076<br>High: 48098.68<br>% change:0.006<br>Low: 46177.63<br>% change:0.043<br>Close: 47096.95<br>% change:-0.015",
          "Open: 47096.67<br>% change:-0.015<br>High: 47357.11<br>% change:-0.015<br>Low: 45579.59<br>% change:-0.013<br>Close: 47047.0<br>% change:-0.001",
          "Open: 47019.96<br>% change:-0.002<br>High: 47998.1<br>% change:0.014<br>Low: 45700.32<br>% change:0.003<br>Close: 46004.48<br>% change:-0.022",
          "Open: 45936.46<br>% change:-0.023<br>High: 47139.57<br>% change:-0.018<br>Low: 44512.42<br>% change:-0.026<br>Close: 44695.36<br>% change:-0.028",
          "Open: 44686.75<br>% change:-0.027<br>High: 45952.06<br>% change:-0.025<br>Low: 44364.03<br>% change:-0.003<br>Close: 44801.19<br>% change:0.002",
          "Open: 44741.88<br>% change:0.001<br>High: 46970.76<br>% change:0.022<br>Low: 43998.32<br>% change:-0.008<br>Close: 46717.58<br>% change:0.043",
          "Open: 46723.12<br>% change:0.044<br>High: 49342.15<br>% change:0.05<br>Low: 46650.71<br>% change:0.06<br>Close: 49339.18<br>% change:0.056",
          "Open: 49327.07<br>% change:0.056<br>High: 49717.02<br>% change:0.008<br>Low: 48312.2<br>% change:0.036<br>Close: 48905.49<br>% change:-0.009",
          "Open: 48869.11<br>% change:-0.009<br>High: 49471.61<br>% change:-0.005<br>Low: 48199.94<br>% change:-0.002<br>Close: 49321.65<br>% change:0.009",
          "Open: 49291.68<br>% change:0.009<br>High: 50482.08<br>% change:0.02<br>Low: 49074.61<br>% change:0.018<br>Close: 49546.15<br>% change:0.005",
          "Open: 49562.35<br>% change:0.005<br>High: 49878.77<br>% change:-0.012<br>Low: 47687.12<br>% change:-0.028<br>Close: 47706.12<br>% change:-0.037",
          "Open: 47727.26<br>% change:-0.037<br>High: 49202.88<br>% change:-0.014<br>Low: 47163.61<br>% change:-0.011<br>Close: 48960.79<br>% change:0.026",
          "Open: 49002.64<br>% change:0.027<br>High: 49347.58<br>% change:0.003<br>Low: 46405.78<br>% change:-0.016<br>Close: 46942.22<br>% change:-0.041",
          "Open: 46894.55<br>% change:-0.043<br>High: 49112.79<br>% change:-0.005<br>Low: 46394.28<br>% change:-0.0<br>Close: 49058.67<br>% change:0.045",
          "Open: 49072.59<br>% change:0.046<br>High: 49283.5<br>% change:0.003<br>Low: 48499.24<br>% change:0.045<br>Close: 48902.4<br>% change:-0.003",
          "Open: 48911.25<br>% change:-0.003<br>High: 49644.11<br>% change:0.007<br>Low: 47925.86<br>% change:-0.012<br>Close: 48829.83<br>% change:-0.001",
          "Open: 48834.85<br>% change:-0.002<br>High: 48925.61<br>% change:-0.014<br>Low: 46950.27<br>% change:-0.02<br>Close: 47054.98<br>% change:-0.036",
          "Open: 47024.34<br>% change:-0.037<br>High: 48189.55<br>% change:-0.015<br>Low: 46750.09<br>% change:-0.004<br>Close: 47166.69<br>% change:0.002",
          "Open: 47099.77<br>% change:0.002<br>High: 49111.09<br>% change:0.019<br>Low: 46562.44<br>% change:-0.004<br>Close: 48847.03<br>% change:0.036",
          "Open: 48807.85<br>% change:0.036<br>High: 50343.42<br>% change:0.025<br>Low: 48652.32<br>% change:0.045<br>Close: 49327.72<br>% change:0.01",
          "Open: 49288.25<br>% change:0.01<br>High: 50982.27<br>% change:0.013<br>Low: 48386.09<br>% change:-0.005<br>Close: 50025.38<br>% change:0.014",
          "Open: 50009.32<br>% change:0.015<br>High: 50545.58<br>% change:-0.009<br>Low: 49548.78<br>% change:0.024<br>Close: 49944.62<br>% change:-0.002",
          "Open: 49937.86<br>% change:-0.001<br>High: 51868.68<br>% change:0.026<br>Low: 49538.6<br>% change:-0.0<br>Close: 51753.41<br>% change:0.036",
          "Open: 51769.0<br>% change:0.037<br>High: 52700.94<br>% change:0.016<br>Low: 51053.68<br>% change:0.031<br>Close: 52633.54<br>% change:0.017",
          "Open: 52660.48<br>% change:0.017<br>High: 52853.77<br>% change:0.003<br>Low: 43285.21<br>% change:-0.152<br>Close: 46811.13<br>% change:-0.111",
          "Open: 46827.76<br>% change:-0.111<br>High: 47334.05<br>% change:-0.104<br>Low: 44561.39<br>% change:0.029<br>Close: 46091.39<br>% change:-0.015",
          "Open: 45774.74<br>% change:-0.022<br>High: 47261.95<br>% change:-0.002<br>Low: 45669.74<br>% change:0.025<br>Close: 46391.42<br>% change:0.007",
          "Open: 46396.66<br>% change:0.014<br>High: 47031.74<br>% change:-0.005<br>Low: 44344.48<br>% change:-0.029<br>Close: 44883.91<br>% change:-0.032",
          "Open: 44869.84<br>% change:-0.033<br>High: 45969.29<br>% change:-0.023<br>Low: 44818.27<br>% change:0.011<br>Close: 45201.46<br>% change:0.007",
          "Open: 45206.63<br>% change:0.008<br>High: 46364.88<br>% change:0.009<br>Low: 44790.46<br>% change:-0.001<br>Close: 46063.27<br>% change:0.019",
          "Open: 46057.21<br>% change:0.019<br>High: 46598.68<br>% change:0.005<br>Low: 43591.32<br>% change:-0.027<br>Close: 44963.07<br>% change:-0.024",
          "Open: 44960.05<br>% change:-0.024<br>High: 47218.12<br>% change:0.013<br>Low: 44752.33<br>% change:0.027<br>Close: 47092.49<br>% change:0.047",
          "Open: 47098.0<br>% change:0.048<br>High: 48450.47<br>% change:0.026<br>Low: 46773.33<br>% change:0.045<br>Close: 48176.35<br>% change:0.023",
          "Open: 48158.91<br>% change:0.023<br>High: 48486.83<br>% change:0.001<br>Low: 47079.56<br>% change:0.007<br>Close: 47783.36<br>% change:-0.008",
          "Open: 47771.0<br>% change:-0.008<br>High: 48160.92<br>% change:-0.007<br>Low: 46832.52<br>% change:-0.005<br>Close: 47267.52<br>% change:-0.011",
          "Open: 47273.53<br>% change:-0.01<br>High: 48791.78<br>% change:0.013<br>Low: 47087.29<br>% change:0.005<br>Close: 48278.36<br>% change:0.021",
          "Open: 48268.86<br>% change:0.021<br>High: 48328.37<br>% change:-0.009<br>Low: 46919.8<br>% change:-0.004<br>Close: 47260.22<br>% change:-0.021",
          "Open: 47261.41<br>% change:-0.021<br>High: 47328.2<br>% change:-0.021<br>Low: 42598.91<br>% change:-0.092<br>Close: 42843.8<br>% change:-0.093",
          "Open: 43012.23<br>% change:-0.09<br>High: 43607.61<br>% change:-0.079<br>Low: 39787.61<br>% change:-0.066<br>Close: 40693.68<br>% change:-0.05",
          "Open: 40677.95<br>% change:-0.054<br>High: 43978.62<br>% change:0.009<br>Low: 40625.63<br>% change:0.021<br>Close: 43574.51<br>% change:0.071",
          "Open: 43560.3<br>% change:0.071<br>High: 44942.18<br>% change:0.022<br>Low: 43109.34<br>% change:0.061<br>Close: 44895.1<br>% change:0.03",
          "Open: 44894.3<br>% change:0.031<br>High: 45080.49<br>% change:0.003<br>Low: 40936.56<br>% change:-0.05<br>Close: 42839.75<br>% change:-0.046",
          "Open: 42840.89<br>% change:-0.046<br>High: 42996.26<br>% change:-0.046<br>Low: 41759.92<br>% change:0.02<br>Close: 42716.59<br>% change:-0.003",
          "Open: 42721.63<br>% change:-0.003<br>High: 43919.3<br>% change:0.021<br>Low: 40848.46<br>% change:-0.022<br>Close: 43208.54<br>% change:0.012",
          "Open: 43234.18<br>% change:0.012<br>High: 44313.25<br>% change:0.009<br>Low: 42190.63<br>% change:0.033<br>Close: 42235.73<br>% change:-0.023",
          "Open: 42200.9<br>% change:-0.024<br>High: 42775.14<br>% change:-0.035<br>Low: 40931.66<br>% change:-0.03<br>Close: 41034.54<br>% change:-0.028",
          "Open: 41064.98<br>% change:-0.027<br>High: 42545.26<br>% change:-0.005<br>Low: 40829.67<br>% change:-0.002<br>Close: 41564.36<br>% change:0.013",
          "Open: 41551.27<br>% change:0.012<br>High: 44092.6<br>% change:0.036<br>Low: 41444.58<br>% change:0.015<br>Close: 43790.89<br>% change:0.054",
          "Open: 43816.74<br>% change:0.055<br>High: 48436.01<br>% change:0.099<br>Low: 43320.02<br>% change:0.045<br>Close: 48116.94<br>% change:0.099",
          "Open: 48137.47<br>% change:0.099<br>High: 48282.06<br>% change:-0.003<br>Low: 47465.5<br>% change:0.096<br>Close: 47711.49<br>% change:-0.008",
          "Open: 47680.03<br>% change:-0.01<br>High: 49130.69<br>% change:0.018<br>Low: 47157.29<br>% change:-0.006<br>Close: 48199.95<br>% change:0.01",
          "Open: 48208.91<br>% change:0.011<br>High: 49456.78<br>% change:0.007<br>Low: 47045.0<br>% change:-0.002<br>Close: 49112.9<br>% change:0.019",
          "Open: 49174.96<br>% change:0.02<br>High: 51839.98<br>% change:0.048<br>Low: 49072.84<br>% change:0.043<br>Close: 51514.81<br>% change:0.049",
          "Open: 51486.66<br>% change:0.047<br>High: 55568.46<br>% change:0.072<br>Low: 50488.19<br>% change:0.029<br>Close: 55361.45<br>% change:0.075",
          "Open: 55338.62<br>% change:0.075<br>High: 55338.62<br>% change:-0.004<br>Low: 53525.47<br>% change:0.06<br>Close: 53805.98<br>% change:-0.028",
          "Open: 53802.14<br>% change:-0.028<br>High: 55922.98<br>% change:0.011<br>Low: 53688.05<br>% change:0.003<br>Close: 53967.85<br>% change:0.003",
          "Open: 53929.78<br>% change:0.002<br>High: 55397.95<br>% change:-0.009<br>Low: 53735.14<br>% change:0.001<br>Close: 54968.22<br>% change:0.019",
          "Open: 54952.82<br>% change:0.019<br>High: 56401.3<br>% change:0.018<br>Low: 54264.26<br>% change:0.01<br>Close: 54771.58<br>% change:-0.004",
          "Open: 54734.12<br>% change:-0.004<br>High: 57793.04<br>% change:0.025<br>Low: 54519.77<br>% change:0.005<br>Close: 57484.79<br>% change:0.05",
          "Open: 57526.83<br>% change:0.051<br>High: 57627.88<br>% change:-0.003<br>Low: 54477.97<br>% change:-0.001<br>Close: 56041.06<br>% change:-0.025",
          "Open: 56038.26<br>% change:-0.026<br>High: 57688.66<br>% change:0.001<br>Low: 54370.97<br>% change:-0.002<br>Close: 57401.1<br>% change:0.024",
          "Open: 57372.83<br>% change:0.024<br>High: 58478.73<br>% change:0.014<br>Low: 56957.07<br>% change:0.048<br>Close: 57321.52<br>% change:-0.001",
          "Open: 57345.9<br>% change:-0.0<br>High: 62757.13<br>% change:0.073<br>Low: 56868.14<br>% change:-0.002<br>Close: 61593.95<br>% change:0.075",
          "Open: 61609.53<br>% change:0.074<br>High: 62274.48<br>% change:-0.008<br>Low: 60206.12<br>% change:0.059<br>Close: 60892.18<br>% change:-0.011",
          "Open: 60887.65<br>% change:-0.012<br>High: 61645.52<br>% change:-0.01<br>Low: 59164.47<br>% change:-0.017<br>Close: 61553.62<br>% change:0.011",
          "Open: 61548.8<br>% change:0.011<br>High: 62614.66<br>% change:0.016<br>Low: 60012.76<br>% change:0.014<br>Close: 62026.08<br>% change:0.008",
          "Open: 62043.16<br>% change:0.008<br>High: 64434.54<br>% change:0.029<br>Low: 61622.93<br>% change:0.027<br>Close: 64261.99<br>% change:0.036",
          "Open: 64284.59<br>% change:0.036<br>High: 66930.39<br>% change:0.039<br>Low: 63610.68<br>% change:0.032<br>Close: 65992.84<br>% change:0.027",
          "Open: 66002.23<br>% change:0.027<br>High: 66600.55<br>% change:-0.005<br>Low: 62117.41<br>% change:-0.023<br>Close: 62210.17<br>% change:-0.057",
          "Open: 62237.89<br>% change:-0.057<br>High: 63715.02<br>% change:-0.043<br>Low: 60122.8<br>% change:-0.032<br>Close: 60692.27<br>% change:-0.024",
          "Open: 60694.63<br>% change:-0.025<br>High: 61743.88<br>% change:-0.031<br>Low: 59826.52<br>% change:-0.005<br>Close: 61393.62<br>% change:0.012",
          "Open: 61368.34<br>% change:0.011<br>High: 61505.8<br>% change:-0.004<br>Low: 59643.34<br>% change:-0.003<br>Close: 60930.84<br>% change:-0.008",
          "Open: 60893.93<br>% change:-0.008<br>High: 63729.32<br>% change:0.036<br>Low: 60691.8<br>% change:0.018<br>Close: 63039.82<br>% change:0.035",
          "Open: 63032.76<br>% change:0.035<br>High: 63229.03<br>% change:-0.008<br>Low: 59991.16<br>% change:-0.012<br>Close: 60363.79<br>% change:-0.042",
          "Open: 60352.0<br>% change:-0.043<br>High: 61435.18<br>% change:-0.028<br>Low: 58208.19<br>% change:-0.03<br>Close: 58482.39<br>% change:-0.031",
          "Open: 58470.73<br>% change:-0.031<br>High: 62128.63<br>% change:0.011<br>Low: 58206.92<br>% change:-0.0<br>Close: 60622.14<br>% change:0.037",
          "Open: 60624.87<br>% change:0.037<br>High: 62927.61<br>% change:0.013<br>Low: 60329.96<br>% change:0.036<br>Close: 62227.96<br>% change:0.026",
          "Open: 62239.36<br>% change:0.027<br>High: 62330.14<br>% change:-0.009<br>Low: 60918.39<br>% change:0.01<br>Close: 61888.83<br>% change:-0.005",
          "Open: 61850.49<br>% change:-0.006<br>High: 62406.17<br>% change:0.001<br>Low: 60074.33<br>% change:-0.014<br>Close: 61318.96<br>% change:-0.009",
          "Open: 61320.45<br>% change:-0.009<br>High: 62419.0<br>% change:0.0<br>Low: 59695.18<br>% change:-0.006<br>Close: 61004.41<br>% change:-0.005",
          "Open: 60963.25<br>% change:-0.006<br>High: 64242.79<br>% change:0.029<br>Low: 60673.05<br>% change:0.016<br>Close: 63226.4<br>% change:0.036",
          "Open: 63254.34<br>% change:0.038<br>High: 63516.94<br>% change:-0.011<br>Low: 61184.24<br>% change:0.008<br>Close: 62970.05<br>% change:-0.004",
          "Open: 62941.8<br>% change:-0.005<br>High: 63123.29<br>% change:-0.006<br>Low: 60799.66<br>% change:-0.006<br>Close: 61452.23<br>% change:-0.024",
          "Open: 61460.08<br>% change:-0.024<br>High: 62541.47<br>% change:-0.009<br>Low: 60844.61<br>% change:0.001<br>Close: 61125.68<br>% change:-0.005",
          "Open: 61068.88<br>% change:-0.006<br>High: 61590.68<br>% change:-0.015<br>Low: 60163.78<br>% change:-0.011<br>Close: 61527.48<br>% change:0.007",
          "Open: 61554.92<br>% change:0.008<br>High: 63326.99<br>% change:0.028<br>Low: 61432.49<br>% change:0.021<br>Close: 63326.99<br>% change:0.029",
          "Open: 63344.07<br>% change:0.029<br>High: 67673.74<br>% change:0.069<br>Low: 63344.07<br>% change:0.031<br>Close: 67566.83<br>% change:0.067",
          "Open: 67549.73<br>% change:0.066<br>High: 68530.34<br>% change:0.013<br>Low: 66382.06<br>% change:0.048<br>Close: 66971.83<br>% change:-0.009",
          "Open: 66953.34<br>% change:-0.009<br>High: 68789.62<br>% change:0.004<br>Low: 63208.11<br>% change:-0.048<br>Close: 64995.23<br>% change:-0.03",
          "Open: 64978.89<br>% change:-0.029<br>High: 65579.02<br>% change:-0.047<br>Low: 64180.49<br>% change:0.015<br>Close: 64949.96<br>% change:-0.001",
          "Open: 64863.98<br>% change:-0.002<br>High: 65460.82<br>% change:-0.002<br>Low: 62333.91<br>% change:-0.029<br>Close: 64155.94<br>% change:-0.012",
          "Open: 64158.12<br>% change:-0.011<br>High: 64915.68<br>% change:-0.008<br>Low: 63303.73<br>% change:0.016<br>Close: 64469.53<br>% change:0.005",
          "Open: 64455.37<br>% change:0.005<br>High: 65495.18<br>% change:0.009<br>Low: 63647.81<br>% change:0.005<br>Close: 65466.84<br>% change:0.015",
          "Open: 65521.29<br>% change:0.017<br>High: 66281.57<br>% change:0.012<br>Low: 63548.14<br>% change:-0.002<br>Close: 63557.87<br>% change:-0.029",
          "Open: 63721.2<br>% change:-0.027<br>High: 63721.2<br>% change:-0.039<br>Low: 59016.34<br>% change:-0.071<br>Close: 60161.25<br>% change:-0.053",
          "Open: 60139.62<br>% change:-0.056<br>High: 60823.61<br>% change:-0.045<br>Low: 58515.41<br>% change:-0.008<br>Close: 60368.01<br>% change:0.003",
          "Open: 60360.14<br>% change:0.004<br>High: 60948.5<br>% change:0.002<br>Low: 56550.79<br>% change:-0.034<br>Close: 56942.14<br>% change:-0.057",
          "Open: 56896.13<br>% change:-0.057<br>High: 58351.11<br>% change:-0.043<br>Low: 55705.18<br>% change:-0.015<br>Close: 58119.58<br>% change:0.021",
          "Open: 58115.08<br>% change:0.021<br>High: 59859.88<br>% change:0.026<br>Low: 57469.73<br>% change:0.032<br>Close: 59697.2<br>% change:0.027",
          "Open: 59730.51<br>% change:0.028<br>High: 60004.43<br>% change:0.002<br>Low: 58618.93<br>% change:0.02<br>Close: 58730.48<br>% change:-0.016",
          "Open: 58706.85<br>% change:-0.017<br>High: 59266.36<br>% change:-0.012<br>Low: 55679.84<br>% change:-0.05<br>Close: 56289.29<br>% change:-0.042",
          "Open: 56304.55<br>% change:-0.041<br>High: 57875.52<br>% change:-0.023<br>Low: 55632.76<br>% change:-0.001<br>Close: 57569.07<br>% change:0.023",
          "Open: 57565.85<br>% change:0.022<br>High: 57803.07<br>% change:-0.001<br>Low: 55964.22<br>% change:0.006<br>Close: 56280.43<br>% change:-0.022",
          "Open: 57165.42<br>% change:-0.007<br>High: 59367.97<br>% change:0.027<br>Low: 57146.68<br>% change:0.021<br>Close: 57274.68<br>% change:0.018",
          "Open: 58960.29<br>% change:0.031<br>High: 59183.48<br>% change:-0.003<br>Low: 53569.77<br>% change:-0.063<br>Close: 53569.77<br>% change:-0.065",
          "Open: 53736.43<br>% change:-0.089<br>High: 55329.26<br>% change:-0.065<br>Low: 53668.36<br>% change:0.002<br>Close: 54815.08<br>% change:0.023",
          "Open: 54813.02<br>% change:0.02<br>High: 57393.84<br>% change:0.037<br>Low: 53576.73<br>% change:-0.002<br>Close: 57248.46<br>% change:0.044",
          "Open: 57291.91<br>% change:0.045<br>High: 58872.88<br>% change:0.026<br>Low: 56792.53<br>% change:0.06<br>Close: 57806.57<br>% change:0.01",
          "Open: 57830.11<br>% change:0.009<br>High: 59113.4<br>% change:0.004<br>Low: 56057.28<br>% change:-0.013<br>Close: 57005.43<br>% change:-0.014",
          "Open: 56907.96<br>% change:-0.016<br>High: 59041.68<br>% change:-0.001<br>Low: 56553.08<br>% change:0.009<br>Close: 57229.83<br>% change:0.004",
          "Open: 57217.37<br>% change:0.005<br>High: 57349.23<br>% change:-0.029<br>Low: 55895.13<br>% change:-0.012<br>Close: 56477.82<br>% change:-0.013",
          "Open: 56509.16<br>% change:-0.012<br>High: 57482.17<br>% change:0.002<br>Low: 52496.59<br>% change:-0.061<br>Close: 53598.25<br>% change:-0.051",
          "Open: 53727.88<br>% change:-0.049<br>High: 53904.68<br>% change:-0.062<br>Low: 42874.62<br>% change:-0.183<br>Close: 49200.7<br>% change:-0.082",
          "Open: 49201.52<br>% change:-0.084<br>High: 49768.15<br>% change:-0.077<br>Low: 47857.5<br>% change:0.116<br>Close: 49368.85<br>% change:0.003",
          "Open: 49413.48<br>% change:0.004<br>High: 50929.52<br>% change:0.023<br>Low: 47281.04<br>% change:-0.012<br>Close: 50582.62<br>% change:0.025",
          "Open: 50581.83<br>% change:0.024<br>High: 51934.78<br>% change:0.02<br>Low: 50175.81<br>% change:0.061<br>Close: 50700.09<br>% change:0.002",
          "Open: 50667.65<br>% change:0.002<br>High: 51171.38<br>% change:-0.015<br>Low: 48765.99<br>% change:-0.028<br>Close: 50504.8<br>% change:-0.004",
          "Open: 50450.08<br>% change:-0.004<br>High: 50797.16<br>% change:-0.007<br>Low: 47358.35<br>% change:-0.029<br>Close: 47672.12<br>% change:-0.056",
          "Open: 47642.14<br>% change:-0.056<br>High: 50015.25<br>% change:-0.015<br>Low: 47023.7<br>% change:-0.007<br>Close: 47243.3<br>% change:-0.009",
          "Open: 47264.63<br>% change:-0.008<br>High: 49458.21<br>% change:-0.011<br>Low: 46942.35<br>% change:-0.002<br>Close: 49362.51<br>% change:0.045",
          "Open: 49354.86<br>% change:0.044<br>High: 50724.87<br>% change:0.026<br>Low: 48725.85<br>% change:0.038<br>Close: 50098.34<br>% change:0.015",
          "Open: 50114.74<br>% change:0.015<br>High: 50205.0<br>% change:-0.01<br>Low: 45894.85<br>% change:-0.058<br>Close: 46737.48<br>% change:-0.067",
          "Open: 46709.82<br>% change:-0.068<br>High: 48431.4<br>% change:-0.035<br>Low: 46424.5<br>% change:0.012<br>Close: 46612.63<br>% change:-0.003",
          "Open: 48379.75<br>% change:0.036<br>High: 49473.96<br>% change:0.022<br>Low: 46671.96<br>% change:0.005<br>Close: 48896.72<br>% change:0.049",
          "Open: 48900.46<br>% change:0.011<br>High: 49425.57<br>% change:-0.001<br>Low: 47529.88<br>% change:0.018<br>Close: 47665.43<br>% change:-0.025",
          "Open: 47653.73<br>% change:-0.025<br>High: 48004.89<br>% change:-0.029<br>Low: 45618.21<br>% change:-0.04<br>Close: 46202.14<br>% change:-0.031",
          "Open: 46219.25<br>% change:-0.03<br>High: 47313.83<br>% change:-0.014<br>Low: 45598.44<br>% change:-0.0<br>Close: 46848.78<br>% change:0.014",
          "Open: 46853.87<br>% change:0.014<br>High: 48089.66<br>% change:0.016<br>Low: 46502.95<br>% change:0.02<br>Close: 46707.02<br>% change:-0.003",
          "Open: 46707.06<br>% change:-0.003<br>High: 47401.72<br>% change:-0.014<br>Low: 45579.81<br>% change:-0.02<br>Close: 46880.28<br>% change:0.004",
          "Open: 46886.08<br>% change:0.004<br>High: 49300.92<br>% change:0.04<br>Low: 46698.77<br>% change:0.025<br>Close: 48936.61<br>% change:0.044",
          "Open: 48937.1<br>% change:0.044<br>High: 49544.8<br>% change:0.005<br>Low: 48450.94<br>% change:0.038<br>Close: 48628.51<br>% change:-0.006",
          "Open: 48626.34<br>% change:-0.006<br>High: 51332.34<br>% change:0.036<br>Low: 48065.84<br>% change:-0.008<br>Close: 50784.54<br>% change:0.044",
          "Open: 50806.05<br>% change:0.045<br>High: 51814.03<br>% change:0.009<br>Low: 50514.5<br>% change:0.051<br>Close: 50822.2<br>% change:0.001",
          "Open: 50854.92<br>% change:0.001<br>High: 51176.6<br>% change:-0.012<br>Low: 50236.71<br>% change:-0.005<br>Close: 50429.86<br>% change:-0.008",
          "Open: 50428.69<br>% change:-0.008<br>High: 51196.38<br>% change:0.0<br>Low: 49623.11<br>% change:-0.012<br>Close: 50809.52<br>% change:0.008",
          "Open: 50802.61<br>% change:0.007<br>High: 51956.33<br>% change:0.015<br>Low: 50499.47<br>% change:0.018<br>Close: 50640.42<br>% change:-0.003",
          "Open: 50679.86<br>% change:-0.002<br>High: 50679.86<br>% change:-0.025<br>Low: 47414.21<br>% change:-0.061<br>Close: 47588.86<br>% change:-0.06",
          "Open: 47623.87<br>% change:-0.06<br>High: 48119.74<br>% change:-0.051<br>Low: 46201.5<br>% change:-0.026<br>Close: 46444.71<br>% change:-0.024",
          "Open: 46490.61<br>% change:-0.024<br>High: 47879.96<br>% change:-0.005<br>Low: 46060.31<br>% change:-0.003<br>Close: 47178.12<br>% change:0.016",
          "Open: 47169.37<br>% change:0.015<br>High: 48472.53<br>% change:0.012<br>Low: 45819.95<br>% change:-0.005<br>Close: 46306.45<br>% change:-0.018",
          "Open: 46311.75<br>% change:-0.018<br>High: 47827.31<br>% change:-0.013<br>Low: 46288.48<br>% change:0.01<br>Close: 47686.81<br>% change:0.03",
          "Open: 47680.93<br>% change:0.03<br>High: 47881.41<br>% change:0.001<br>Low: 46856.94<br>% change:0.012<br>Close: 47345.22<br>% change:-0.007",
          "Open: 47343.54<br>% change:-0.007<br>High: 47510.73<br>% change:-0.008<br>Low: 45835.96<br>% change:-0.022<br>Close: 46458.12<br>% change:-0.019",
          "Open: 46458.85<br>% change:-0.019<br>High: 47406.55<br>% change:-0.002<br>Low: 45752.46<br>% change:-0.002<br>Close: 45897.57<br>% change:-0.012",
          "Open: 45899.36<br>% change:-0.012<br>High: 46929.05<br>% change:-0.01<br>Low: 42798.22<br>% change:-0.065<br>Close: 43569.0<br>% change:-0.051",
          "Open: 43565.51<br>% change:-0.051<br>High: 43748.72<br>% change:-0.068<br>Low: 42645.54<br>% change:-0.004<br>Close: 43160.93<br>% change:-0.009",
          "Open: 43153.57<br>% change:-0.009<br>High: 43153.57<br>% change:-0.014<br>Low: 41077.45<br>% change:-0.037<br>Close: 41557.9<br>% change:-0.037",
          "Open: 41561.46<br>% change:-0.037<br>High: 42228.94<br>% change:-0.021<br>Low: 40672.28<br>% change:-0.01<br>Close: 41733.94<br>% change:0.004",
          "Open: 41734.73<br>% change:0.004<br>High: 42663.95<br>% change:0.01<br>Low: 41338.16<br>% change:0.016<br>Close: 41911.6<br>% change:0.004",
          "Open: 41910.23<br>% change:0.004<br>High: 42199.48<br>% change:-0.011<br>Low: 39796.57<br>% change:-0.037<br>Close: 41821.26<br>% change:-0.002",
          "Open: 41819.51<br>% change:-0.002<br>High: 43001.16<br>% change:0.019<br>Low: 41407.75<br>% change:0.04<br>Close: 42735.86<br>% change:0.022",
          "Open: 42742.18<br>% change:0.022<br>High: 44135.37<br>% change:0.026<br>Low: 42528.99<br>% change:0.027<br>Close: 43949.1<br>% change:0.028",
          "Open: 43946.74<br>% change:0.028<br>High: 44278.42<br>% change:0.003<br>Low: 42447.04<br>% change:-0.002<br>Close: 42591.57<br>% change:-0.031",
          "Open: 42598.87<br>% change:-0.031<br>High: 43346.69<br>% change:-0.021<br>Low: 41982.62<br>% change:-0.011<br>Close: 43099.7<br>% change:0.012",
          "Open: 43101.9<br>% change:0.012<br>High: 43724.67<br>% change:0.009<br>Low: 42669.04<br>% change:0.016<br>Close: 43177.4<br>% change:0.002",
          "Open: 43172.04<br>% change:0.002<br>High: 43436.81<br>% change:-0.007<br>Low: 42691.02<br>% change:0.001<br>Close: 43113.88<br>% change:-0.001",
          "Open: 43118.12<br>% change:-0.001<br>High: 43179.39<br>% change:-0.006<br>Low: 41680.32<br>% change:-0.024<br>Close: 42250.55<br>% change:-0.02",
          "Open: 42250.07<br>% change:-0.02<br>High: 42534.4<br>% change:-0.015<br>Low: 41392.21<br>% change:-0.007<br>Close: 42375.63<br>% change:0.003",
          "Open: 42374.04<br>% change:0.003<br>High: 42478.3<br>% change:-0.001<br>Low: 41242.91<br>% change:-0.004<br>Close: 41744.33<br>% change:-0.015",
          "Open: 41744.03<br>% change:-0.015<br>High: 43413.02<br>% change:0.022<br>Low: 40672.82<br>% change:-0.014<br>Close: 40680.42<br>% change:-0.025",
          "Open: 40699.61<br>% change:-0.025<br>High: 41060.53<br>% change:-0.054<br>Low: 35791.43<br>% change:-0.12<br>Close: 36457.32<br>% change:-0.104",
          "Open: 36471.59<br>% change:-0.104<br>High: 36688.81<br>% change:-0.106<br>Low: 34349.25<br>% change:-0.04<br>Close: 35030.25<br>% change:-0.039",
          "Open: 35047.36<br>% change:-0.039<br>High: 36433.31<br>% change:-0.007<br>Low: 34784.97<br>% change:0.013<br>Close: 36276.8<br>% change:0.036",
          "Open: 36275.73<br>% change:0.035<br>High: 37247.52<br>% change:0.022<br>Low: 33184.06<br>% change:-0.046<br>Close: 36654.33<br>% change:0.01",
          "Open: 36654.8<br>% change:0.01<br>High: 37444.57<br>% change:0.005<br>Low: 35779.43<br>% change:0.078<br>Close: 36954.0<br>% change:0.008",
          "Open: 36950.52<br>% change:0.008<br>High: 38825.41<br>% change:0.037<br>Low: 36374.91<br>% change:0.017<br>Close: 36852.12<br>% change:-0.003",
          "Open: 36841.88<br>% change:-0.003<br>High: 37148.32<br>% change:-0.043<br>Low: 35629.28<br>% change:-0.02<br>Close: 37138.23<br>% change:0.008",
          "Open: 37128.45<br>% change:0.008<br>High: 37952.88<br>% change:0.022<br>Low: 36211.11<br>% change:0.016<br>Close: 37784.33<br>% change:0.017",
          "Open: 37780.71<br>% change:0.018<br>High: 38576.26<br>% change:0.016<br>Low: 37406.47<br>% change:0.033<br>Close: 38138.18<br>% change:0.009",
          "Open: 38151.92<br>% change:0.01<br>High: 38266.34<br>% change:-0.008<br>Low: 37437.71<br>% change:0.001<br>Close: 37917.6<br>% change:-0.006",
          "Open: 37920.28<br>% change:-0.006<br>High: 38647.26<br>% change:0.01<br>Low: 36733.57<br>% change:-0.019<br>Close: 38483.12<br>% change:0.015",
          "Open: 38481.77<br>% change:0.015<br>High: 39115.13<br>% change:0.012<br>Low: 38113.66<br>% change:0.038<br>Close: 38743.27<br>% change:0.007",
          "Open: 38743.71<br>% change:0.007<br>High: 38834.62<br>% change:-0.007<br>Low: 36832.73<br>% change:-0.034<br>Close: 36952.98<br>% change:-0.046",
          "Open: 36944.8<br>% change:-0.046<br>High: 37154.6<br>% change:-0.043<br>Low: 36375.54<br>% change:-0.012<br>Close: 37154.6<br>% change:0.005",
          "Open: 37149.27<br>% change:0.006<br>High: 41527.79<br>% change:0.118<br>Low: 37093.63<br>% change:0.02<br>Close: 41500.88<br>% change:0.117",
          "Open: 41501.48<br>% change:0.117<br>High: 41847.16<br>% change:0.008<br>Low: 41038.1<br>% change:0.106<br>Close: 41441.16<br>% change:-0.001",
          "Open: 41441.12<br>% change:-0.001<br>High: 42500.79<br>% change:0.016<br>Low: 41244.91<br>% change:0.005<br>Close: 42412.43<br>% change:0.023",
          "Open: 42406.78<br>% change:0.023<br>High: 44401.86<br>% change:0.045<br>Low: 41748.16<br>% change:0.012<br>Close: 43840.29<br>% change:0.034",
          "Open: 43854.65<br>% change:0.034<br>High: 45293.87<br>% change:0.02<br>Low: 42807.84<br>% change:0.025<br>Close: 44118.45<br>% change:0.006",
          "Open: 44096.7<br>% change:0.006<br>High: 44727.8<br>% change:-0.012<br>Low: 43232.97<br>% change:0.01<br>Close: 44338.8<br>% change:0.005",
          "Open: 44347.8<br>% change:0.006<br>High: 45661.17<br>% change:0.021<br>Low: 43402.81<br>% change:0.004<br>Close: 43565.11<br>% change:-0.017",
          "Open: 43571.13<br>% change:-0.018<br>High: 43810.83<br>% change:-0.041<br>Low: 42114.54<br>% change:-0.03<br>Close: 42407.94<br>% change:-0.027",
          "Open: 42412.3<br>% change:-0.027<br>High: 42992.55<br>% change:-0.019<br>Low: 41852.57<br>% change:-0.006<br>Close: 42244.47<br>% change:-0.004",
          "Open: 42236.57<br>% change:-0.004<br>High: 42693.05<br>% change:-0.007<br>Low: 41950.94<br>% change:0.002<br>Close: 42197.52<br>% change:-0.001",
          "Open: 42157.4<br>% change:-0.002<br>High: 42775.78<br>% change:0.002<br>Low: 41681.96<br>% change:-0.006<br>Close: 42586.92<br>% change:0.009",
          "Open: 42586.46<br>% change:0.01<br>High: 44667.22<br>% change:0.044<br>Low: 42491.04<br>% change:0.019<br>Close: 44575.2<br>% change:0.047",
          "Open: 44578.28<br>% change:0.047<br>High: 44578.28<br>% change:-0.002<br>Low: 43456.69<br>% change:0.023<br>Close: 43961.86<br>% change:-0.014",
          "Open: 43937.07<br>% change:-0.014<br>High: 44132.97<br>% change:-0.01<br>Low: 40249.37<br>% change:-0.074<br>Close: 40538.01<br>% change:-0.078",
          "Open: 40552.13<br>% change:-0.077<br>High: 40929.15<br>% change:-0.073<br>Low: 39637.62<br>% change:-0.015<br>Close: 40030.98<br>% change:-0.013",
          "Open: 40026.02<br>% change:-0.013<br>High: 40418.88<br>% change:-0.012<br>Low: 39713.06<br>% change:0.002<br>Close: 40122.16<br>% change:0.002",
          "Open: 40118.1<br>% change:0.002<br>High: 40119.89<br>% change:-0.007<br>Low: 38112.81<br>% change:-0.04<br>Close: 38431.38<br>% change:-0.042",
          "Open: 38423.21<br>% change:-0.042<br>High: 39394.44<br>% change:-0.018<br>Low: 36950.48<br>% change:-0.03<br>Close: 37075.28<br>% change:-0.035",
          "Open: 37068.77<br>% change:-0.035<br>High: 38359.86<br>% change:-0.026<br>Low: 36488.93<br>% change:-0.012<br>Close: 38286.03<br>% change:0.033",
          "Open: 38285.28<br>% change:0.033<br>High: 39122.39<br>% change:0.02<br>Low: 37201.82<br>% change:0.02<br>Close: 37296.57<br>% change:-0.026",
          "Open: 37278.57<br>% change:-0.026<br>High: 38968.84<br>% change:-0.004<br>Low: 34459.22<br>% change:-0.074<br>Close: 38332.61<br>% change:0.028",
          "Open: 38333.75<br>% change:0.028<br>High: 39630.32<br>% change:0.017<br>Low: 38111.34<br>% change:0.106<br>Close: 39214.22<br>% change:0.023",
          "Open: 39213.08<br>% change:0.023<br>High: 40005.35<br>% change:0.009<br>Low: 38702.54<br>% change:0.016<br>Close: 39105.15<br>% change:-0.003",
          "Open: 39098.7<br>% change:-0.003<br>High: 39778.94<br>% change:-0.006<br>Low: 37268.98<br>% change:-0.037<br>Close: 37709.79<br>% change:-0.036",
          "Open: 37706.0<br>% change:-0.036<br>High: 43760.46<br>% change:0.1<br>Low: 37518.21<br>% change:0.007<br>Close: 43193.23<br>% change:0.145",
          "Open: 43194.5<br>% change:0.146<br>High: 44793.6<br>% change:0.024<br>Low: 42952.59<br>% change:0.145<br>Close: 44354.64<br>% change:0.027",
          "Open: 44357.62<br>% change:0.027<br>High: 45077.58<br>% change:0.006<br>Low: 43432.85<br>% change:0.011<br>Close: 43924.12<br>% change:-0.01",
          "Open: 43925.2<br>% change:-0.01<br>High: 44021.58<br>% change:-0.023<br>Low: 41914.75<br>% change:-0.035<br>Close: 42451.79<br>% change:-0.034",
          "Open: 42458.14<br>% change:-0.033<br>High: 42479.61<br>% change:-0.035<br>Low: 38805.85<br>% change:-0.074<br>Close: 39137.61<br>% change:-0.078",
          "Open: 39148.45<br>% change:-0.078<br>High: 39566.34<br>% change:-0.069<br>Low: 38777.04<br>% change:-0.001<br>Close: 39400.59<br>% change:0.007",
          "Open: 39404.2<br>% change:0.007<br>High: 39640.18<br>% change:0.002<br>Low: 38211.65<br>% change:-0.015<br>Close: 38419.98<br>% change:-0.025",
          "Open: 38429.3<br>% change:-0.025<br>High: 39430.23<br>% change:-0.005<br>Low: 37260.2<br>% change:-0.025<br>Close: 38062.04<br>% change:-0.009",
          "Open: 38059.9<br>% change:-0.01<br>High: 39304.44<br>% change:-0.003<br>Low: 37957.39<br>% change:0.019<br>Close: 38737.27<br>% change:0.018",
          "Open: 38742.82<br>% change:0.018<br>High: 42465.67<br>% change:0.08<br>Low: 38706.09<br>% change:0.02<br>Close: 41982.93<br>% change:0.084",
          "Open: 41974.07<br>% change:0.083<br>High: 42004.73<br>% change:-0.011<br>Low: 38832.94<br>% change:0.003<br>Close: 39437.46<br>% change:-0.061",
          "Open: 39439.97<br>% change:-0.06<br>High: 40081.68<br>% change:-0.046<br>Low: 38347.43<br>% change:-0.013<br>Close: 38794.97<br>% change:-0.016",
          "Open: 38794.46<br>% change:-0.016<br>High: 39308.6<br>% change:-0.019<br>Low: 38772.54<br>% change:0.011<br>Close: 38904.01<br>% change:0.003",
          "Open: 38884.73<br>% change:0.002<br>High: 39209.35<br>% change:-0.003<br>Low: 37728.14<br>% change:-0.027<br>Close: 37849.66<br>% change:-0.027",
          "Open: 37846.32<br>% change:-0.027<br>High: 39742.5<br>% change:0.014<br>Low: 37680.73<br>% change:-0.001<br>Close: 39666.75<br>% change:0.048",
          "Open: 39664.25<br>% change:0.048<br>High: 39794.63<br>% change:0.001<br>Low: 38310.21<br>% change:0.017<br>Close: 39338.79<br>% change:-0.008",
          "Open: 39335.57<br>% change:-0.008<br>High: 41465.45<br>% change:0.042<br>Low: 39022.35<br>% change:0.019<br>Close: 41143.93<br>% change:0.046",
          "Open: 41140.84<br>% change:0.046<br>High: 41287.54<br>% change:-0.004<br>Low: 40662.87<br>% change:0.042<br>Close: 40951.38<br>% change:-0.005",
          "Open: 40944.84<br>% change:-0.005<br>High: 42195.75<br>% change:0.022<br>Low: 40302.4<br>% change:-0.009<br>Close: 41801.16<br>% change:0.021",
          "Open: 41794.65<br>% change:0.021<br>High: 42316.55<br>% change:0.003<br>Low: 41602.67<br>% change:0.032<br>Close: 42190.65<br>% change:0.009",
          "Open: 42191.41<br>% change:0.009<br>High: 42241.16<br>% change:-0.002<br>Low: 41004.76<br>% change:-0.014<br>Close: 41247.82<br>% change:-0.022",
          "Open: 41246.13<br>% change:-0.022<br>High: 41454.41<br>% change:-0.019<br>Low: 40668.04<br>% change:-0.008<br>Close: 41078.0<br>% change:-0.004",
          "Open: 41074.11<br>% change:-0.004<br>High: 43124.71<br>% change:0.04<br>Low: 40948.28<br>% change:0.007<br>Close: 42358.81<br>% change:0.031",
          "Open: 42364.38<br>% change:0.031<br>High: 42893.51<br>% change:-0.005<br>Low: 41877.51<br>% change:0.023<br>Close: 42892.96<br>% change:0.013",
          "Open: 42886.65<br>% change:0.012<br>High: 44131.86<br>% change:0.029<br>Low: 42726.16<br>% change:0.02<br>Close: 43960.93<br>% change:0.025",
          "Open: 43964.55<br>% change:0.025<br>High: 44999.49<br>% change:0.02<br>Low: 43706.29<br>% change:0.023<br>Close: 44348.73<br>% change:0.009",
          "Open: 44349.86<br>% change:0.009<br>High: 44736.0<br>% change:-0.006<br>Low: 44166.27<br>% change:0.011<br>Close: 44500.83<br>% change:0.003",
          "Open: 44505.36<br>% change:0.004<br>High: 46827.55<br>% change:0.047<br>Low: 44437.29<br>% change:0.006<br>Close: 46820.49<br>% change:0.052",
          "Open: 46821.85<br>% change:0.052<br>High: 48086.84<br>% change:0.027<br>Low: 46690.2<br>% change:0.051<br>Close: 47128.0<br>% change:0.007",
          "Open: 47100.44<br>% change:0.006<br>High: 48022.29<br>% change:-0.001<br>Low: 47100.44<br>% change:0.009<br>Close: 47465.73<br>% change:0.007",
          "Open: 47456.9<br>% change:0.008<br>High: 47655.15<br>% change:-0.008<br>Low: 46746.21<br>% change:-0.008<br>Close: 47062.66<br>% change:-0.008",
          "Open: 47062.15<br>% change:-0.008<br>High: 47512.03<br>% change:-0.003<br>Low: 45390.54<br>% change:-0.029<br>Close: 45538.68<br>% change:-0.032",
          "Open: 45554.16<br>% change:-0.032<br>High: 46616.24<br>% change:-0.019<br>Low: 44403.14<br>% change:-0.022<br>Close: 46281.64<br>% change:0.016",
          "Open: 46285.5<br>% change:0.016<br>High: 47028.28<br>% change:0.009<br>Low: 45782.51<br>% change:0.031<br>Close: 45868.95<br>% change:-0.009",
          "Open: 45859.13<br>% change:-0.009<br>High: 47313.48<br>% change:0.006<br>Low: 45634.11<br>% change:-0.003<br>Close: 46453.57<br>% change:0.013",
          "Open: 46445.27<br>% change:0.013<br>High: 46791.09<br>% change:-0.011<br>Low: 45235.82<br>% change:-0.009<br>Close: 46622.68<br>% change:0.004",
          "Open: 46624.51<br>% change:0.004<br>High: 47106.14<br>% change:0.007<br>Low: 45544.81<br>% change:0.007<br>Close: 45555.99<br>% change:-0.023",
          "Open: 45544.36<br>% change:-0.023<br>High: 45544.36<br>% change:-0.033<br>Low: 43193.95<br>% change:-0.052<br>Close: 43206.74<br>% change:-0.052",
          "Open: 43207.5<br>% change:-0.051<br>High: 43860.7<br>% change:-0.037<br>Low: 42899.91<br>% change:-0.007<br>Close: 43503.85<br>% change:0.007",
          "Open: 43505.14<br>% change:0.007<br>High: 43903.02<br>% change:0.001<br>Low: 42183.29<br>% change:-0.017<br>Close: 42287.66<br>% change:-0.028",
          "Open: 42282.08<br>% change:-0.028<br>High: 42786.82<br>% change:-0.025<br>Low: 42183.25<br>% change:-0.0<br>Close: 42782.14<br>% change:0.012",
          "Open: 42781.09<br>% change:0.012<br>High: 43376.38<br>% change:0.014<br>Low: 42021.21<br>% change:-0.004<br>Close: 42207.67<br>% change:-0.013",
          "Open: 42201.04<br>% change:-0.014<br>High: 42424.59<br>% change:-0.022<br>Low: 39373.06<br>% change:-0.063<br>Close: 39521.9<br>% change:-0.064",
          "Open: 39533.71<br>% change:-0.063<br>High: 40617.59<br>% change:-0.043<br>Low: 39388.33<br>% change:0.0<br>Close: 40127.18<br>% change:0.015",
          "Open: 40123.57<br>% change:0.015<br>High: 41430.05<br>% change:0.02<br>Low: 39712.75<br>% change:0.008<br>Close: 41166.73<br>% change:0.026",
          "Open: 41160.22<br>% change:0.026<br>High: 41451.48<br>% change:0.001<br>Low: 39695.75<br>% change:-0.0<br>Close: 39935.52<br>% change:-0.03",
          "Open: 39939.4<br>% change:-0.03<br>High: 40617.72<br>% change:-0.02<br>Low: 39866.83<br>% change:0.004<br>Close: 40553.46<br>% change:0.015",
          "Open: 40552.32<br>% change:0.015<br>High: 40633.68<br>% change:0.0<br>Low: 40078.43<br>% change:0.005<br>Close: 40424.48<br>% change:-0.003",
          "Open: 40417.78<br>% change:-0.003<br>High: 40570.73<br>% change:-0.002<br>Low: 39620.89<br>% change:-0.011<br>Close: 39716.95<br>% change:-0.018",
          "Open: 39721.2<br>% change:-0.017<br>High: 40986.32<br>% change:0.01<br>Low: 38696.19<br>% change:-0.023<br>Close: 40826.21<br>% change:0.028",
          "Open: 40828.18<br>% change:0.028<br>High: 41672.96<br>% change:0.017<br>Low: 40618.63<br>% change:0.05<br>Close: 41502.75<br>% change:0.017",
          "Open: 41501.75<br>% change:0.016<br>High: 42126.3<br>% change:0.011<br>Low: 40961.1<br>% change:0.008<br>Close: 41374.38<br>% change:-0.003",
          "Open: 41371.52<br>% change:-0.003<br>High: 42893.58<br>% change:0.018<br>Low: 40063.83<br>% change:-0.022<br>Close: 40527.36<br>% change:-0.02",
          "Open: 40525.86<br>% change:-0.02<br>High: 40777.76<br>% change:-0.049<br>Low: 39315.42<br>% change:-0.019<br>Close: 39740.32<br>% change:-0.019",
          "Open: 39738.72<br>% change:-0.019<br>High: 39935.86<br>% change:-0.021<br>Low: 39352.2<br>% change:0.001<br>Close: 39486.73<br>% change:-0.006",
          "Open: 39478.38<br>% change:-0.007<br>High: 39845.93<br>% change:-0.002<br>Low: 39233.54<br>% change:-0.003<br>Close: 39469.29<br>% change:-0.0",
          "Open: 39472.61<br>% change:-0.0<br>High: 40491.75<br>% change:0.016<br>Low: 38338.38<br>% change:-0.023<br>Close: 40458.31<br>% change:0.025",
          "Open: 40448.42<br>% change:0.025<br>High: 40713.89<br>% change:0.005<br>Low: 37884.98<br>% change:-0.012<br>Close: 38117.46<br>% change:-0.058",
          "Open: 38120.3<br>% change:-0.058<br>High: 39397.92<br>% change:-0.032<br>Low: 37997.31<br>% change:0.003<br>Close: 39241.12<br>% change:0.029",
          "Open: 39241.43<br>% change:0.029<br>High: 40269.46<br>% change:0.022<br>Low: 38941.42<br>% change:0.025<br>Close: 39773.83<br>% change:0.014",
          "Open: 39768.62<br>% change:0.013<br>High: 39887.27<br>% change:-0.009<br>Low: 38235.54<br>% change:-0.018<br>Close: 38609.82<br>% change:-0.029",
          "Open: 38605.86<br>% change:-0.029<br>High: 38771.21<br>% change:-0.028<br>Low: 37697.94<br>% change:-0.014<br>Close: 37714.88<br>% change:-0.023",
          "Open: 37713.27<br>% change:-0.023<br>High: 38627.86<br>% change:-0.004<br>Low: 37585.79<br>% change:-0.003<br>Close: 38469.09<br>% change:0.02",
          "Open: 38472.19<br>% change:0.02<br>High: 39074.97<br>% change:0.012<br>Low: 38156.56<br>% change:0.015<br>Close: 38529.33<br>% change:0.002",
          "Open: 38528.11<br>% change:0.001<br>High: 38630.0<br>% change:-0.011<br>Low: 37585.62<br>% change:-0.015<br>Close: 37750.45<br>% change:-0.02",
          "Open: 37748.01<br>% change:-0.02<br>High: 39902.95<br>% change:0.033<br>Low: 37732.06<br>% change:0.004<br>Close: 39698.37<br>% change:0.052",
          "Open: 39695.75<br>% change:0.052<br>High: 39789.28<br>% change:-0.003<br>Low: 35856.52<br>% change:-0.05<br>Close: 36575.14<br>% change:-0.079",
          "Open: 36573.18<br>% change:-0.079<br>High: 36624.36<br>% change:-0.08<br>Low: 35482.13<br>% change:-0.01<br>Close: 36040.92<br>% change:-0.015",
          "Open: 36042.5<br>% change:-0.015<br>High: 36129.93<br>% change:-0.014<br>Low: 34940.82<br>% change:-0.015<br>Close: 35501.95<br>% change:-0.015",
          "Open: 35502.94<br>% change:-0.015<br>High: 35502.94<br>% change:-0.017<br>Low: 33878.96<br>% change:-0.03<br>Close: 34059.27<br>% change:-0.041",
          "Open: 34060.02<br>% change:-0.041<br>High: 34222.07<br>% change:-0.036<br>Low: 30296.95<br>% change:-0.106<br>Close: 30296.95<br>% change:-0.11",
          "Open: 30273.65<br>% change:-0.111<br>High: 32596.31<br>% change:-0.048<br>Low: 29944.8<br>% change:-0.012<br>Close: 31022.91<br>% change:0.024",
          "Open: 31016.18<br>% change:0.025<br>High: 32013.4<br>% change:-0.018<br>Low: 28170.41<br>% change:-0.059<br>Close: 28936.36<br>% change:-0.067",
          "Open: 28936.73<br>% change:-0.067<br>High: 30032.44<br>% change:-0.062<br>Low: 26350.49<br>% change:-0.065<br>Close: 29047.75<br>% change:0.004",
          "Open: 29030.91<br>% change:0.003<br>High: 30924.8<br>% change:0.03<br>Low: 28782.33<br>% change:0.092<br>Close: 29283.1<br>% change:0.008",
          "Open: 29285.64<br>% change:0.009<br>High: 30192.8<br>% change:-0.024<br>Low: 28702.91<br>% change:-0.003<br>Close: 30101.27<br>% change:0.028",
          "Open: 30098.59<br>% change:0.028<br>High: 31308.19<br>% change:0.037<br>Low: 29527.74<br>% change:0.029<br>Close: 31305.11<br>% change:0.04",
          "Open: 31304.38<br>% change:0.04<br>High: 31305.34<br>% change:-0.0<br>Low: 29251.88<br>% change:-0.009<br>Close: 29862.92<br>% change:-0.046",
          "Open: 29862.41<br>% change:-0.046<br>High: 30694.49<br>% change:-0.02<br>Low: 29570.3<br>% change:0.011<br>Close: 30425.86<br>% change:0.019",
          "Open: 30424.48<br>% change:0.019<br>High: 30618.72<br>% change:-0.002<br>Low: 28720.27<br>% change:-0.029<br>Close: 28720.27<br>% change:-0.056",
          "Open: 28720.36<br>% change:-0.056<br>High: 30430.75<br>% change:-0.006<br>Low: 28708.96<br>% change:-0.0<br>Close: 30314.33<br>% change:0.056",
          "Open: 30311.12<br>% change:0.055<br>High: 30664.98<br>% change:0.008<br>Low: 28793.61<br>% change:0.003<br>Close: 29200.74<br>% change:-0.037"
         ],
         "type": "candlestick",
         "x": [
          "2021-05-28T00:00:00",
          "2021-05-29T00:00:00",
          "2021-05-30T00:00:00",
          "2021-05-31T00:00:00",
          "2021-06-01T00:00:00",
          "2021-06-02T00:00:00",
          "2021-06-03T00:00:00",
          "2021-06-04T00:00:00",
          "2021-06-05T00:00:00",
          "2021-06-06T00:00:00",
          "2021-06-07T00:00:00",
          "2021-06-08T00:00:00",
          "2021-06-09T00:00:00",
          "2021-06-10T00:00:00",
          "2021-06-11T00:00:00",
          "2021-06-12T00:00:00",
          "2021-06-13T00:00:00",
          "2021-06-14T00:00:00",
          "2021-06-15T00:00:00",
          "2021-06-16T00:00:00",
          "2021-06-17T00:00:00",
          "2021-06-18T00:00:00",
          "2021-06-19T00:00:00",
          "2021-06-20T00:00:00",
          "2021-06-21T00:00:00",
          "2021-06-22T00:00:00",
          "2021-06-23T00:00:00",
          "2021-06-24T00:00:00",
          "2021-06-25T00:00:00",
          "2021-06-26T00:00:00",
          "2021-06-27T00:00:00",
          "2021-06-28T00:00:00",
          "2021-06-29T00:00:00",
          "2021-06-30T00:00:00",
          "2021-07-01T00:00:00",
          "2021-07-02T00:00:00",
          "2021-07-03T00:00:00",
          "2021-07-04T00:00:00",
          "2021-07-05T00:00:00",
          "2021-07-06T00:00:00",
          "2021-07-07T00:00:00",
          "2021-07-08T00:00:00",
          "2021-07-09T00:00:00",
          "2021-07-10T00:00:00",
          "2021-07-11T00:00:00",
          "2021-07-12T00:00:00",
          "2021-07-13T00:00:00",
          "2021-07-14T00:00:00",
          "2021-07-15T00:00:00",
          "2021-07-16T00:00:00",
          "2021-07-17T00:00:00",
          "2021-07-18T00:00:00",
          "2021-07-19T00:00:00",
          "2021-07-20T00:00:00",
          "2021-07-21T00:00:00",
          "2021-07-22T00:00:00",
          "2021-07-23T00:00:00",
          "2021-07-24T00:00:00",
          "2021-07-25T00:00:00",
          "2021-07-26T00:00:00",
          "2021-07-27T00:00:00",
          "2021-07-28T00:00:00",
          "2021-07-29T00:00:00",
          "2021-07-30T00:00:00",
          "2021-07-31T00:00:00",
          "2021-08-01T00:00:00",
          "2021-08-02T00:00:00",
          "2021-08-03T00:00:00",
          "2021-08-04T00:00:00",
          "2021-08-05T00:00:00",
          "2021-08-06T00:00:00",
          "2021-08-07T00:00:00",
          "2021-08-08T00:00:00",
          "2021-08-09T00:00:00",
          "2021-08-10T00:00:00",
          "2021-08-11T00:00:00",
          "2021-08-12T00:00:00",
          "2021-08-13T00:00:00",
          "2021-08-14T00:00:00",
          "2021-08-15T00:00:00",
          "2021-08-16T00:00:00",
          "2021-08-17T00:00:00",
          "2021-08-18T00:00:00",
          "2021-08-19T00:00:00",
          "2021-08-20T00:00:00",
          "2021-08-21T00:00:00",
          "2021-08-22T00:00:00",
          "2021-08-23T00:00:00",
          "2021-08-24T00:00:00",
          "2021-08-25T00:00:00",
          "2021-08-26T00:00:00",
          "2021-08-27T00:00:00",
          "2021-08-28T00:00:00",
          "2021-08-29T00:00:00",
          "2021-08-30T00:00:00",
          "2021-08-31T00:00:00",
          "2021-09-01T00:00:00",
          "2021-09-02T00:00:00",
          "2021-09-03T00:00:00",
          "2021-09-04T00:00:00",
          "2021-09-05T00:00:00",
          "2021-09-06T00:00:00",
          "2021-09-07T00:00:00",
          "2021-09-08T00:00:00",
          "2021-09-09T00:00:00",
          "2021-09-10T00:00:00",
          "2021-09-11T00:00:00",
          "2021-09-12T00:00:00",
          "2021-09-13T00:00:00",
          "2021-09-14T00:00:00",
          "2021-09-15T00:00:00",
          "2021-09-16T00:00:00",
          "2021-09-17T00:00:00",
          "2021-09-18T00:00:00",
          "2021-09-19T00:00:00",
          "2021-09-20T00:00:00",
          "2021-09-21T00:00:00",
          "2021-09-22T00:00:00",
          "2021-09-23T00:00:00",
          "2021-09-24T00:00:00",
          "2021-09-25T00:00:00",
          "2021-09-26T00:00:00",
          "2021-09-27T00:00:00",
          "2021-09-28T00:00:00",
          "2021-09-29T00:00:00",
          "2021-09-30T00:00:00",
          "2021-10-01T00:00:00",
          "2021-10-02T00:00:00",
          "2021-10-03T00:00:00",
          "2021-10-04T00:00:00",
          "2021-10-05T00:00:00",
          "2021-10-06T00:00:00",
          "2021-10-07T00:00:00",
          "2021-10-08T00:00:00",
          "2021-10-09T00:00:00",
          "2021-10-10T00:00:00",
          "2021-10-11T00:00:00",
          "2021-10-12T00:00:00",
          "2021-10-13T00:00:00",
          "2021-10-14T00:00:00",
          "2021-10-15T00:00:00",
          "2021-10-16T00:00:00",
          "2021-10-17T00:00:00",
          "2021-10-18T00:00:00",
          "2021-10-19T00:00:00",
          "2021-10-20T00:00:00",
          "2021-10-21T00:00:00",
          "2021-10-22T00:00:00",
          "2021-10-23T00:00:00",
          "2021-10-24T00:00:00",
          "2021-10-25T00:00:00",
          "2021-10-26T00:00:00",
          "2021-10-27T00:00:00",
          "2021-10-28T00:00:00",
          "2021-10-29T00:00:00",
          "2021-10-30T00:00:00",
          "2021-10-31T00:00:00",
          "2021-11-01T00:00:00",
          "2021-11-02T00:00:00",
          "2021-11-03T00:00:00",
          "2021-11-04T00:00:00",
          "2021-11-05T00:00:00",
          "2021-11-06T00:00:00",
          "2021-11-07T00:00:00",
          "2021-11-08T00:00:00",
          "2021-11-09T00:00:00",
          "2021-11-10T00:00:00",
          "2021-11-11T00:00:00",
          "2021-11-12T00:00:00",
          "2021-11-13T00:00:00",
          "2021-11-14T00:00:00",
          "2021-11-15T00:00:00",
          "2021-11-16T00:00:00",
          "2021-11-17T00:00:00",
          "2021-11-18T00:00:00",
          "2021-11-19T00:00:00",
          "2021-11-20T00:00:00",
          "2021-11-21T00:00:00",
          "2021-11-22T00:00:00",
          "2021-11-23T00:00:00",
          "2021-11-24T00:00:00",
          "2021-11-25T00:00:00",
          "2021-11-26T00:00:00",
          "2021-11-27T00:00:00",
          "2021-11-28T00:00:00",
          "2021-11-29T00:00:00",
          "2021-11-30T00:00:00",
          "2021-12-01T00:00:00",
          "2021-12-02T00:00:00",
          "2021-12-03T00:00:00",
          "2021-12-04T00:00:00",
          "2021-12-05T00:00:00",
          "2021-12-06T00:00:00",
          "2021-12-07T00:00:00",
          "2021-12-08T00:00:00",
          "2021-12-09T00:00:00",
          "2021-12-10T00:00:00",
          "2021-12-11T00:00:00",
          "2021-12-12T00:00:00",
          "2021-12-13T00:00:00",
          "2021-12-14T00:00:00",
          "2021-12-15T00:00:00",
          "2021-12-16T00:00:00",
          "2021-12-17T00:00:00",
          "2021-12-18T00:00:00",
          "2021-12-19T00:00:00",
          "2021-12-20T00:00:00",
          "2021-12-21T00:00:00",
          "2021-12-22T00:00:00",
          "2021-12-23T00:00:00",
          "2021-12-24T00:00:00",
          "2021-12-25T00:00:00",
          "2021-12-26T00:00:00",
          "2021-12-27T00:00:00",
          "2021-12-28T00:00:00",
          "2021-12-29T00:00:00",
          "2021-12-30T00:00:00",
          "2021-12-31T00:00:00",
          "2022-01-01T00:00:00",
          "2022-01-02T00:00:00",
          "2022-01-03T00:00:00",
          "2022-01-04T00:00:00",
          "2022-01-05T00:00:00",
          "2022-01-06T00:00:00",
          "2022-01-07T00:00:00",
          "2022-01-08T00:00:00",
          "2022-01-09T00:00:00",
          "2022-01-10T00:00:00",
          "2022-01-11T00:00:00",
          "2022-01-12T00:00:00",
          "2022-01-13T00:00:00",
          "2022-01-14T00:00:00",
          "2022-01-15T00:00:00",
          "2022-01-16T00:00:00",
          "2022-01-17T00:00:00",
          "2022-01-18T00:00:00",
          "2022-01-19T00:00:00",
          "2022-01-20T00:00:00",
          "2022-01-21T00:00:00",
          "2022-01-22T00:00:00",
          "2022-01-23T00:00:00",
          "2022-01-24T00:00:00",
          "2022-01-25T00:00:00",
          "2022-01-26T00:00:00",
          "2022-01-27T00:00:00",
          "2022-01-28T00:00:00",
          "2022-01-29T00:00:00",
          "2022-01-30T00:00:00",
          "2022-01-31T00:00:00",
          "2022-02-01T00:00:00",
          "2022-02-02T00:00:00",
          "2022-02-03T00:00:00",
          "2022-02-04T00:00:00",
          "2022-02-05T00:00:00",
          "2022-02-06T00:00:00",
          "2022-02-07T00:00:00",
          "2022-02-08T00:00:00",
          "2022-02-09T00:00:00",
          "2022-02-10T00:00:00",
          "2022-02-11T00:00:00",
          "2022-02-12T00:00:00",
          "2022-02-13T00:00:00",
          "2022-02-14T00:00:00",
          "2022-02-15T00:00:00",
          "2022-02-16T00:00:00",
          "2022-02-17T00:00:00",
          "2022-02-18T00:00:00",
          "2022-02-19T00:00:00",
          "2022-02-20T00:00:00",
          "2022-02-21T00:00:00",
          "2022-02-22T00:00:00",
          "2022-02-23T00:00:00",
          "2022-02-24T00:00:00",
          "2022-02-25T00:00:00",
          "2022-02-26T00:00:00",
          "2022-02-27T00:00:00",
          "2022-02-28T00:00:00",
          "2022-03-01T00:00:00",
          "2022-03-02T00:00:00",
          "2022-03-03T00:00:00",
          "2022-03-04T00:00:00",
          "2022-03-05T00:00:00",
          "2022-03-06T00:00:00",
          "2022-03-07T00:00:00",
          "2022-03-08T00:00:00",
          "2022-03-09T00:00:00",
          "2022-03-10T00:00:00",
          "2022-03-11T00:00:00",
          "2022-03-12T00:00:00",
          "2022-03-13T00:00:00",
          "2022-03-14T00:00:00",
          "2022-03-15T00:00:00",
          "2022-03-16T00:00:00",
          "2022-03-17T00:00:00",
          "2022-03-18T00:00:00",
          "2022-03-19T00:00:00",
          "2022-03-20T00:00:00",
          "2022-03-21T00:00:00",
          "2022-03-22T00:00:00",
          "2022-03-23T00:00:00",
          "2022-03-24T00:00:00",
          "2022-03-25T00:00:00",
          "2022-03-26T00:00:00",
          "2022-03-27T00:00:00",
          "2022-03-28T00:00:00",
          "2022-03-29T00:00:00",
          "2022-03-30T00:00:00",
          "2022-03-31T00:00:00",
          "2022-04-01T00:00:00",
          "2022-04-02T00:00:00",
          "2022-04-03T00:00:00",
          "2022-04-04T00:00:00",
          "2022-04-05T00:00:00",
          "2022-04-06T00:00:00",
          "2022-04-07T00:00:00",
          "2022-04-08T00:00:00",
          "2022-04-09T00:00:00",
          "2022-04-10T00:00:00",
          "2022-04-11T00:00:00",
          "2022-04-12T00:00:00",
          "2022-04-13T00:00:00",
          "2022-04-14T00:00:00",
          "2022-04-15T00:00:00",
          "2022-04-16T00:00:00",
          "2022-04-17T00:00:00",
          "2022-04-18T00:00:00",
          "2022-04-19T00:00:00",
          "2022-04-20T00:00:00",
          "2022-04-21T00:00:00",
          "2022-04-22T00:00:00",
          "2022-04-23T00:00:00",
          "2022-04-24T00:00:00",
          "2022-04-25T00:00:00",
          "2022-04-26T00:00:00",
          "2022-04-27T00:00:00",
          "2022-04-28T00:00:00",
          "2022-04-29T00:00:00",
          "2022-04-30T00:00:00",
          "2022-05-01T00:00:00",
          "2022-05-02T00:00:00",
          "2022-05-03T00:00:00",
          "2022-05-04T00:00:00",
          "2022-05-05T00:00:00",
          "2022-05-06T00:00:00",
          "2022-05-07T00:00:00",
          "2022-05-08T00:00:00",
          "2022-05-09T00:00:00",
          "2022-05-10T00:00:00",
          "2022-05-11T00:00:00",
          "2022-05-12T00:00:00",
          "2022-05-13T00:00:00",
          "2022-05-14T00:00:00",
          "2022-05-15T00:00:00",
          "2022-05-16T00:00:00",
          "2022-05-17T00:00:00",
          "2022-05-18T00:00:00",
          "2022-05-19T00:00:00",
          "2022-05-20T00:00:00"
         ]
        }
       ],
       "layout": {
        "font": {
         "color": "white",
         "size": 15
        },
        "height": 700,
        "paper_bgcolor": "rgba(0, 0, 0, 0)",
        "plot_bgcolor": "rgba(0, 0, 0, 0)",
        "template": {
         "data": {
          "bar": [
           {
            "error_x": {
             "color": "#f2f5fa"
            },
            "error_y": {
             "color": "#f2f5fa"
            },
            "marker": {
             "line": {
              "color": "rgb(17,17,17)",
              "width": 0.5
             },
             "pattern": {
              "fillmode": "overlay",
              "size": 10,
              "solidity": 0.2
             }
            },
            "type": "bar"
           }
          ],
          "barpolar": [
           {
            "marker": {
             "line": {
              "color": "rgb(17,17,17)",
              "width": 0.5
             },
             "pattern": {
              "fillmode": "overlay",
              "size": 10,
              "solidity": 0.2
             }
            },
            "type": "barpolar"
           }
          ],
          "carpet": [
           {
            "aaxis": {
             "endlinecolor": "#A2B1C6",
             "gridcolor": "#506784",
             "linecolor": "#506784",
             "minorgridcolor": "#506784",
             "startlinecolor": "#A2B1C6"
            },
            "baxis": {
             "endlinecolor": "#A2B1C6",
             "gridcolor": "#506784",
             "linecolor": "#506784",
             "minorgridcolor": "#506784",
             "startlinecolor": "#A2B1C6"
            },
            "type": "carpet"
           }
          ],
          "choropleth": [
           {
            "colorbar": {
             "outlinewidth": 0,
             "ticks": ""
            },
            "type": "choropleth"
           }
          ],
          "contour": [
           {
            "colorbar": {
             "outlinewidth": 0,
             "ticks": ""
            },
            "colorscale": [
             [
              0,
              "#0d0887"
             ],
             [
              0.1111111111111111,
              "#46039f"
             ],
             [
              0.2222222222222222,
              "#7201a8"
             ],
             [
              0.3333333333333333,
              "#9c179e"
             ],
             [
              0.4444444444444444,
              "#bd3786"
             ],
             [
              0.5555555555555556,
              "#d8576b"
             ],
             [
              0.6666666666666666,
              "#ed7953"
             ],
             [
              0.7777777777777778,
              "#fb9f3a"
             ],
             [
              0.8888888888888888,
              "#fdca26"
             ],
             [
              1,
              "#f0f921"
             ]
            ],
            "type": "contour"
           }
          ],
          "contourcarpet": [
           {
            "colorbar": {
             "outlinewidth": 0,
             "ticks": ""
            },
            "type": "contourcarpet"
           }
          ],
          "heatmap": [
           {
            "colorbar": {
             "outlinewidth": 0,
             "ticks": ""
            },
            "colorscale": [
             [
              0,
              "#0d0887"
             ],
             [
              0.1111111111111111,
              "#46039f"
             ],
             [
              0.2222222222222222,
              "#7201a8"
             ],
             [
              0.3333333333333333,
              "#9c179e"
             ],
             [
              0.4444444444444444,
              "#bd3786"
             ],
             [
              0.5555555555555556,
              "#d8576b"
             ],
             [
              0.6666666666666666,
              "#ed7953"
             ],
             [
              0.7777777777777778,
              "#fb9f3a"
             ],
             [
              0.8888888888888888,
              "#fdca26"
             ],
             [
              1,
              "#f0f921"
             ]
            ],
            "type": "heatmap"
           }
          ],
          "heatmapgl": [
           {
            "colorbar": {
             "outlinewidth": 0,
             "ticks": ""
            },
            "colorscale": [
             [
              0,
              "#0d0887"
             ],
             [
              0.1111111111111111,
              "#46039f"
             ],
             [
              0.2222222222222222,
              "#7201a8"
             ],
             [
              0.3333333333333333,
              "#9c179e"
             ],
             [
              0.4444444444444444,
              "#bd3786"
             ],
             [
              0.5555555555555556,
              "#d8576b"
             ],
             [
              0.6666666666666666,
              "#ed7953"
             ],
             [
              0.7777777777777778,
              "#fb9f3a"
             ],
             [
              0.8888888888888888,
              "#fdca26"
             ],
             [
              1,
              "#f0f921"
             ]
            ],
            "type": "heatmapgl"
           }
          ],
          "histogram": [
           {
            "marker": {
             "pattern": {
              "fillmode": "overlay",
              "size": 10,
              "solidity": 0.2
             }
            },
            "type": "histogram"
           }
          ],
          "histogram2d": [
           {
            "colorbar": {
             "outlinewidth": 0,
             "ticks": ""
            },
            "colorscale": [
             [
              0,
              "#0d0887"
             ],
             [
              0.1111111111111111,
              "#46039f"
             ],
             [
              0.2222222222222222,
              "#7201a8"
             ],
             [
              0.3333333333333333,
              "#9c179e"
             ],
             [
              0.4444444444444444,
              "#bd3786"
             ],
             [
              0.5555555555555556,
              "#d8576b"
             ],
             [
              0.6666666666666666,
              "#ed7953"
             ],
             [
              0.7777777777777778,
              "#fb9f3a"
             ],
             [
              0.8888888888888888,
              "#fdca26"
             ],
             [
              1,
              "#f0f921"
             ]
            ],
            "type": "histogram2d"
           }
          ],
          "histogram2dcontour": [
           {
            "colorbar": {
             "outlinewidth": 0,
             "ticks": ""
            },
            "colorscale": [
             [
              0,
              "#0d0887"
             ],
             [
              0.1111111111111111,
              "#46039f"
             ],
             [
              0.2222222222222222,
              "#7201a8"
             ],
             [
              0.3333333333333333,
              "#9c179e"
             ],
             [
              0.4444444444444444,
              "#bd3786"
             ],
             [
              0.5555555555555556,
              "#d8576b"
             ],
             [
              0.6666666666666666,
              "#ed7953"
             ],
             [
              0.7777777777777778,
              "#fb9f3a"
             ],
             [
              0.8888888888888888,
              "#fdca26"
             ],
             [
              1,
              "#f0f921"
             ]
            ],
            "type": "histogram2dcontour"
           }
          ],
          "mesh3d": [
           {
            "colorbar": {
             "outlinewidth": 0,
             "ticks": ""
            },
            "type": "mesh3d"
           }
          ],
          "parcoords": [
           {
            "line": {
             "colorbar": {
              "outlinewidth": 0,
              "ticks": ""
             }
            },
            "type": "parcoords"
           }
          ],
          "pie": [
           {
            "automargin": true,
            "type": "pie"
           }
          ],
          "scatter": [
           {
            "marker": {
             "line": {
              "color": "#283442"
             }
            },
            "type": "scatter"
           }
          ],
          "scatter3d": [
           {
            "line": {
             "colorbar": {
              "outlinewidth": 0,
              "ticks": ""
             }
            },
            "marker": {
             "colorbar": {
              "outlinewidth": 0,
              "ticks": ""
             }
            },
            "type": "scatter3d"
           }
          ],
          "scattercarpet": [
           {
            "marker": {
             "colorbar": {
              "outlinewidth": 0,
              "ticks": ""
             }
            },
            "type": "scattercarpet"
           }
          ],
          "scattergeo": [
           {
            "marker": {
             "colorbar": {
              "outlinewidth": 0,
              "ticks": ""
             }
            },
            "type": "scattergeo"
           }
          ],
          "scattergl": [
           {
            "marker": {
             "line": {
              "color": "#283442"
             }
            },
            "type": "scattergl"
           }
          ],
          "scattermapbox": [
           {
            "marker": {
             "colorbar": {
              "outlinewidth": 0,
              "ticks": ""
             }
            },
            "type": "scattermapbox"
           }
          ],
          "scatterpolar": [
           {
            "marker": {
             "colorbar": {
              "outlinewidth": 0,
              "ticks": ""
             }
            },
            "type": "scatterpolar"
           }
          ],
          "scatterpolargl": [
           {
            "marker": {
             "colorbar": {
              "outlinewidth": 0,
              "ticks": ""
             }
            },
            "type": "scatterpolargl"
           }
          ],
          "scatterternary": [
           {
            "marker": {
             "colorbar": {
              "outlinewidth": 0,
              "ticks": ""
             }
            },
            "type": "scatterternary"
           }
          ],
          "surface": [
           {
            "colorbar": {
             "outlinewidth": 0,
             "ticks": ""
            },
            "colorscale": [
             [
              0,
              "#0d0887"
             ],
             [
              0.1111111111111111,
              "#46039f"
             ],
             [
              0.2222222222222222,
              "#7201a8"
             ],
             [
              0.3333333333333333,
              "#9c179e"
             ],
             [
              0.4444444444444444,
              "#bd3786"
             ],
             [
              0.5555555555555556,
              "#d8576b"
             ],
             [
              0.6666666666666666,
              "#ed7953"
             ],
             [
              0.7777777777777778,
              "#fb9f3a"
             ],
             [
              0.8888888888888888,
              "#fdca26"
             ],
             [
              1,
              "#f0f921"
             ]
            ],
            "type": "surface"
           }
          ],
          "table": [
           {
            "cells": {
             "fill": {
              "color": "#506784"
             },
             "line": {
              "color": "rgb(17,17,17)"
             }
            },
            "header": {
             "fill": {
              "color": "#2a3f5f"
             },
             "line": {
              "color": "rgb(17,17,17)"
             }
            },
            "type": "table"
           }
          ]
         },
         "layout": {
          "annotationdefaults": {
           "arrowcolor": "#f2f5fa",
           "arrowhead": 0,
           "arrowwidth": 1
          },
          "autotypenumbers": "strict",
          "coloraxis": {
           "colorbar": {
            "outlinewidth": 0,
            "ticks": ""
           }
          },
          "colorscale": {
           "diverging": [
            [
             0,
             "#8e0152"
            ],
            [
             0.1,
             "#c51b7d"
            ],
            [
             0.2,
             "#de77ae"
            ],
            [
             0.3,
             "#f1b6da"
            ],
            [
             0.4,
             "#fde0ef"
            ],
            [
             0.5,
             "#f7f7f7"
            ],
            [
             0.6,
             "#e6f5d0"
            ],
            [
             0.7,
             "#b8e186"
            ],
            [
             0.8,
             "#7fbc41"
            ],
            [
             0.9,
             "#4d9221"
            ],
            [
             1,
             "#276419"
            ]
           ],
           "sequential": [
            [
             0,
             "#0d0887"
            ],
            [
             0.1111111111111111,
             "#46039f"
            ],
            [
             0.2222222222222222,
             "#7201a8"
            ],
            [
             0.3333333333333333,
             "#9c179e"
            ],
            [
             0.4444444444444444,
             "#bd3786"
            ],
            [
             0.5555555555555556,
             "#d8576b"
            ],
            [
             0.6666666666666666,
             "#ed7953"
            ],
            [
             0.7777777777777778,
             "#fb9f3a"
            ],
            [
             0.8888888888888888,
             "#fdca26"
            ],
            [
             1,
             "#f0f921"
            ]
           ],
           "sequentialminus": [
            [
             0,
             "#0d0887"
            ],
            [
             0.1111111111111111,
             "#46039f"
            ],
            [
             0.2222222222222222,
             "#7201a8"
            ],
            [
             0.3333333333333333,
             "#9c179e"
            ],
            [
             0.4444444444444444,
             "#bd3786"
            ],
            [
             0.5555555555555556,
             "#d8576b"
            ],
            [
             0.6666666666666666,
             "#ed7953"
            ],
            [
             0.7777777777777778,
             "#fb9f3a"
            ],
            [
             0.8888888888888888,
             "#fdca26"
            ],
            [
             1,
             "#f0f921"
            ]
           ]
          },
          "colorway": [
           "#636efa",
           "#EF553B",
           "#00cc96",
           "#ab63fa",
           "#FFA15A",
           "#19d3f3",
           "#FF6692",
           "#B6E880",
           "#FF97FF",
           "#FECB52"
          ],
          "font": {
           "color": "#f2f5fa"
          },
          "geo": {
           "bgcolor": "rgb(17,17,17)",
           "lakecolor": "rgb(17,17,17)",
           "landcolor": "rgb(17,17,17)",
           "showlakes": true,
           "showland": true,
           "subunitcolor": "#506784"
          },
          "hoverlabel": {
           "align": "left"
          },
          "hovermode": "closest",
          "mapbox": {
           "style": "dark"
          },
          "paper_bgcolor": "rgb(17,17,17)",
          "plot_bgcolor": "rgb(17,17,17)",
          "polar": {
           "angularaxis": {
            "gridcolor": "#506784",
            "linecolor": "#506784",
            "ticks": ""
           },
           "bgcolor": "rgb(17,17,17)",
           "radialaxis": {
            "gridcolor": "#506784",
            "linecolor": "#506784",
            "ticks": ""
           }
          },
          "scene": {
           "xaxis": {
            "backgroundcolor": "rgb(17,17,17)",
            "gridcolor": "#506784",
            "gridwidth": 2,
            "linecolor": "#506784",
            "showbackground": true,
            "ticks": "",
            "zerolinecolor": "#C8D4E3"
           },
           "yaxis": {
            "backgroundcolor": "rgb(17,17,17)",
            "gridcolor": "#506784",
            "gridwidth": 2,
            "linecolor": "#506784",
            "showbackground": true,
            "ticks": "",
            "zerolinecolor": "#C8D4E3"
           },
           "zaxis": {
            "backgroundcolor": "rgb(17,17,17)",
            "gridcolor": "#506784",
            "gridwidth": 2,
            "linecolor": "#506784",
            "showbackground": true,
            "ticks": "",
            "zerolinecolor": "#C8D4E3"
           }
          },
          "shapedefaults": {
           "line": {
            "color": "#f2f5fa"
           }
          },
          "sliderdefaults": {
           "bgcolor": "#C8D4E3",
           "bordercolor": "rgb(17,17,17)",
           "borderwidth": 1,
           "tickwidth": 0
          },
          "ternary": {
           "aaxis": {
            "gridcolor": "#506784",
            "linecolor": "#506784",
            "ticks": ""
           },
           "baxis": {
            "gridcolor": "#506784",
            "linecolor": "#506784",
            "ticks": ""
           },
           "bgcolor": "rgb(17,17,17)",
           "caxis": {
            "gridcolor": "#506784",
            "linecolor": "#506784",
            "ticks": ""
           }
          },
          "title": {
           "x": 0.05
          },
          "updatemenudefaults": {
           "bgcolor": "#506784",
           "borderwidth": 0
          },
          "xaxis": {
           "automargin": true,
           "gridcolor": "#283442",
           "linecolor": "#506784",
           "ticks": "",
           "title": {
            "standoff": 15
           },
           "zerolinecolor": "#283442",
           "zerolinewidth": 2
          },
          "yaxis": {
           "automargin": true,
           "gridcolor": "#283442",
           "linecolor": "#506784",
           "ticks": "",
           "title": {
            "standoff": 15
           },
           "zerolinecolor": "#283442",
           "zerolinewidth": 2
          }
         }
        },
        "width": 1200,
        "xaxis": {
         "rangeslider": {
          "visible": false
         }
        }
       }
      }
     },
     "metadata": {},
     "output_type": "display_data"
    }
   ],
   "source": [
    "candlestick(df_btc, 360)\n"
   ]
  },
  {
   "cell_type": "code",
   "execution_count": 155,
   "metadata": {},
   "outputs": [
    {
     "data": {
      "application/vnd.plotly.v1+json": {
       "config": {
        "plotlyServerURL": "https://plot.ly"
       },
       "data": [
        {
         "close": [
          null,
          -0.001111462077505676,
          0.009228086961576842,
          0.04668769779745485,
          -0.013759752216496501,
          -0.07788223029977337,
          -0.012507647384577658,
          0.0022777282826873524,
          -0.04214073972532317,
          -0.03528620868790788,
          0.03265642371222732,
          -0.025843815613622922,
          0.027778400368163814,
          0.022998939789759643,
          -0.002781397053842838,
          -0.03568234201898368,
          0.1454118392886461,
          0.026888524570001016,
          -0.009706302725009275,
          -0.03351981142193561,
          -0.07806935036049167,
          0.00671938064683042,
          -0.024887994408395286,
          -0.009316643885282638,
          0.017740259990833174,
          0.08378639716414904,
          -0.060630954045771346,
          -0.016291319622939393,
          0.002810649293818468,
          -0.027101257933814904,
          0.0480080837903738,
          -0.008268101563720931,
          0.04588714481344902,
          -0.00467993171076464,
          0.020750884742987363,
          0.009317830622209256,
          -0.022346848712323064,
          -0.004117262624553253,
          0.031180014163224357,
          0.012610091153007819,
          0.024898646221148013,
          0.008821397620525806,
          0.003429583093865096,
          0.052126312256127294,
          0.0065678873583499,
          0.0071661546110000085,
          -0.008491735032190584,
          -0.03238210822970233,
          0.016315115388267687,
          -0.008917040798352427,
          0.012745379989237415,
          0.003640395949819908,
          -0.02287907280900814,
          -0.05156849392240015,
          0.006876459247305178,
          -0.02795577079433975,
          0.011693070951357853,
          -0.013427680050824398,
          -0.06363225953812457,
          0.015315083892861292,
          0.025906300465151855,
          -0.029908006531745968,
          0.015473675726454417,
          -0.0031805042860567623,
          -0.017502542356175654,
          0.027929174608607443,
          0.016571096753378534,
          -0.003093074404708074,
          -0.020471984048854197,
          -0.019420038833716236,
          -0.0063811726165236005,
          -0.0004416040475622163,
          0.025057850055308917,
          -0.057858267871623625,
          0.029478882606909007,
          0.013575224570606004,
          -0.02926557389929385,
          -0.023179313474195662,
          0.019997911964443782,
          0.001565786170879102,
          -0.020215120218891713,
          0.051599856624237495,
          -0.07867402068901796,
          -0.014606061408683924,
          -0.014954355270636377,
          -0.040636848764922684,
          -0.11046369999353145,
          0.02396125848050934,
          -0.06725839173272163,
          0.003849706798608521,
          0.008102229834508146,
          0.027939733537411415,
          0.03999325713567892,
          -0.046069001557128786,
          0.018850785235190015,
          -0.05605711989808215,
          0.05550304428240649,
          -0.036734890846488066
         ],
         "high": [
          null,
          -0.006966232249718374,
          0.001937613901265678,
          0.04421758115697605,
          -0.0019912009016679333,
          -0.00998927536087113,
          -0.07259470911815602,
          -0.0124672368783596,
          -0.007397243301663359,
          -0.018082131174803062,
          -0.026262134882621413,
          0.019878569749075536,
          -0.0039249818253671576,
          0.016974700238762575,
          0.009463042377093833,
          -0.005659399636903983,
          0.10009104024006099,
          0.02360908914895976,
          0.0063396680015508355,
          -0.02342628073477493,
          -0.03502747764679326,
          -0.06858059946218686,
          0.001866229005047071,
          -0.0052963745647491844,
          -0.0031900693253846812,
          0.08042934476731478,
          -0.010854539493848514,
          -0.04578167821515622,
          -0.01928766551894523,
          -0.002524793548167148,
          0.013597481627569241,
          0.0013116665094043967,
          0.0419861741313432,
          -0.004290751826916184,
          0.021997218629373982,
          0.0028630514905836346,
          -0.0017815870303418135,
          -0.018625289423509273,
          0.04029238068288299,
          -0.00536117772539213,
          0.0288702817606612,
          0.019660100612909348,
          -0.005855534828083986,
          0.04675319572334735,
          0.026892057059096253,
          -0.001342298234882744,
          -0.007645212924402123,
          -0.003003266141069827,
          -0.01885386093439001,
          0.008838959194580553,
          0.0060643362870080875,
          -0.011040970917872373,
          0.006733136208240786,
          -0.033154598010543324,
          -0.036967396566962796,
          0.000964880023661463,
          -0.025424290559456608,
          0.013779069103956099,
          -0.02194256612699541,
          -0.0425933147003944,
          0.02000288129506722,
          0.0005171555145560003,
          -0.020114065965112227,
          0.00039285883615503003,
          -0.0015492843740501083,
          0.010243685169398331,
          0.016752921944802823,
          0.010878512914642924,
          0.01821382926510151,
          -0.04932729136980263,
          -0.020646020837416512,
          -0.0022519508821763345,
          0.01620813451657588,
          0.005485974237231295,
          -0.03232244907201132,
          0.022121648044734377,
          -0.009490945906109216,
          -0.027980320710486728,
          -0.003697371297767482,
          0.011574891502773133,
          -0.01138776388699092,
          0.032952452853236336,
          -0.0028486107161369567,
          -0.07954207202473651,
          -0.013500129481787027,
          -0.017353602628361386,
          -0.036077776566268205,
          -0.04750634384719021,
          -0.01788258472039883,
          -0.061879173895796336,
          0.02971331325391713,
          -0.023670320754749175,
          0.03694220379895752,
          -0.0000910180130824223,
          -0.0195126942380478,
          -0.002468633195124359,
          -0.006138887040791463,
          0.007696970805578296
         ],
         "hoverinfo": "text",
         "low": [
          null,
          0.00235032586014583,
          -0.006411879352007266,
          0.01941075186065322,
          0.02272611731978391,
          -0.07380498166592409,
          -0.015199092299481798,
          0.0019032780374546032,
          -0.04029521145978532,
          -0.030497249120620573,
          -0.012490852938508712,
          0.01953695935422206,
          -0.07372214373353114,
          0.10598397562335915,
          0.015512216261070577,
          -0.03704043127827239,
          0.006687553677038327,
          0.14484620647283508,
          0.01118129710976734,
          -0.03495284117634889,
          -0.07417203594796584,
          -0.0007424783052086825,
          -0.014580452488742512,
          -0.024899352721100443,
          0.018711212910222264,
          0.019724936197468956,
          0.0032772011835990877,
          -0.012502473284752513,
          0.011085528356434393,
          -0.026936351228806554,
          -0.0012566257057972097,
          0.01670552798242797,
          0.01858869218735948,
          0.04204061354666466,
          -0.008864909106366725,
          0.0322628325276082,
          -0.014371918567797737,
          -0.008211604255527472,
          0.006890872065453024,
          0.022692687803593792,
          0.020265204266684878,
          0.022939599546457634,
          0.01052453393386199,
          0.006136345907324925,
          0.05069863634209959,
          0.008786305210575218,
          -0.007520663953493045,
          -0.02900067936655959,
          -0.021753397467706104,
          0.031064719169287436,
          -0.0032415488890537025,
          -0.008727881447632369,
          0.00683069770920075,
          -0.05161632118644144,
          -0.006807593510810395,
          -0.016704399849358675,
          -8.334165206846933e-7,
          -0.003841497750745826,
          -0.06301933296515361,
          0.000387816740567537,
          0.008236398552394775,
          -0.00042807414928869303,
          0.004309931273138057,
          0.005307513519863916,
          -0.011415898730584573,
          -0.023338774551661445,
          0.04968037774227829,
          0.008431225278577426,
          -0.02190540738873703,
          -0.01868044546105141,
          0.0009356419987507358,
          -0.0030154363180905364,
          -0.02281619699981663,
          -0.011826126826037675,
          0.0029649774667486195,
          0.024846740805682055,
          -0.018126886096143657,
          -0.01406005559496204,
          -0.002975025679556209,
          0.015185884126335258,
          -0.014963124790132731,
          0.0038961043010234953,
          -0.0497068815922137,
          -0.010441137572189896,
          -0.015255807665521814,
          -0.03039022114510348,
          -0.10572966840251052,
          -0.011623293905895005,
          -0.059255313438351664,
          -0.06460408512587867,
          0.09228822014770688,
          -0.0027593291321247326,
          0.028736810087718334,
          -0.009342247884884247,
          0.010885382986472791,
          -0.028746112531741308,
          -0.0003940215626497823,
          0.00294857093874179
         ],
         "open": [
          null,
          -0.004143476580211636,
          -0.0018743940496612765,
          0.010177724958197132,
          0.04677102237314057,
          -0.014383844990365047,
          -0.07704058272262615,
          -0.01297365486132529,
          0.0023004564803641436,
          -0.04224752814784938,
          -0.03525060434051597,
          0.03281769894531972,
          -0.02629508810908887,
          0.028305264639229666,
          0.02293895137066637,
          -0.002916955428518553,
          -0.035620090861798404,
          0.14556049186469,
          0.026927344362478012,
          -0.009748537058971163,
          -0.033398933734109404,
          -0.07795186877074889,
          0.006532825823340804,
          -0.02474087915955181,
          -0.009612516977705154,
          0.017943137539661702,
          0.0834026590211634,
          -0.060373024194066205,
          -0.0163667448709629,
          0.002326664876382223,
          -0.026704833698160346,
          0.048034624406664506,
          -0.008286547394694255,
          0.04589417219981984,
          -0.004764216977197977,
          0.020754961968173946,
          0.009493029067903613,
          -0.022404406999351867,
          -0.004170750856377636,
          0.03141330584744351,
          0.01232812685996798,
          0.025133566560764375,
          0.008764164022786902,
          0.003506123715865783,
          0.052049827921867964,
          0.005949912876216157,
          0.007568102472508942,
          -0.008318074147215526,
          -0.03204240403522274,
          0.01605420607645458,
          -0.009211763808320117,
          0.012781414414745118,
          0.0038590444567236926,
          -0.02316705085861326,
          -0.051309442074625955,
          0.006888542932361297,
          -0.028112969777724706,
          0.011801967662865342,
          -0.01355857888072809,
          -0.06320517878243892,
          0.014920314751125652,
          0.025836395650390198,
          -0.029660104910156693,
          0.015346100004821839,
          -0.0033176665212462098,
          -0.017234352419374543,
          0.027868558078828265,
          0.01649768326924206,
          -0.0031379515564433635,
          -0.020440448723589633,
          -0.01942316736196914,
          -0.006551485272993651,
          -0.00014614409154378727,
          0.02472135788002494,
          -0.057557773228946285,
          0.02941028489474684,
          0.013434462102891453,
          -0.02923807501321607,
          -0.02312068075806173,
          0.020123472799897568,
          0.00145356629383242,
          -0.02024749381437818,
          0.05159833025145888,
          -0.07866239603169067,
          -0.014510076382595494,
          -0.014970172477568489,
          -0.040642429164925,
          -0.11116733972798931,
          0.024527243708125646,
          -0.06704400663816756,
          0.0032545407518882463,
          0.008774524136652362,
          0.027759109509252422,
          0.0400613193258923,
          -0.04606278824844767,
          0.01882200218672181,
          -0.05601144945672021,
          0.05538787815481494
         ],
         "text": [
          "Open: 42412.3<br>% change:nan<br>High: 42992.55<br>% change:nan<br>Low: 41852.57<br>% change:nan<br>Close: 42244.47<br>% change:nan",
          "Open: 42236.57<br>% change:-0.004<br>High: 42693.05<br>% change:-0.007<br>Low: 41950.94<br>% change:0.002<br>Close: 42197.52<br>% change:-0.001",
          "Open: 42157.4<br>% change:-0.002<br>High: 42775.78<br>% change:0.002<br>Low: 41681.96<br>% change:-0.006<br>Close: 42586.92<br>% change:0.009",
          "Open: 42586.46<br>% change:0.01<br>High: 44667.22<br>% change:0.044<br>Low: 42491.04<br>% change:0.019<br>Close: 44575.2<br>% change:0.047",
          "Open: 44578.28<br>% change:0.047<br>High: 44578.28<br>% change:-0.002<br>Low: 43456.69<br>% change:0.023<br>Close: 43961.86<br>% change:-0.014",
          "Open: 43937.07<br>% change:-0.014<br>High: 44132.97<br>% change:-0.01<br>Low: 40249.37<br>% change:-0.074<br>Close: 40538.01<br>% change:-0.078",
          "Open: 40552.13<br>% change:-0.077<br>High: 40929.15<br>% change:-0.073<br>Low: 39637.62<br>% change:-0.015<br>Close: 40030.98<br>% change:-0.013",
          "Open: 40026.02<br>% change:-0.013<br>High: 40418.88<br>% change:-0.012<br>Low: 39713.06<br>% change:0.002<br>Close: 40122.16<br>% change:0.002",
          "Open: 40118.1<br>% change:0.002<br>High: 40119.89<br>% change:-0.007<br>Low: 38112.81<br>% change:-0.04<br>Close: 38431.38<br>% change:-0.042",
          "Open: 38423.21<br>% change:-0.042<br>High: 39394.44<br>% change:-0.018<br>Low: 36950.48<br>% change:-0.03<br>Close: 37075.28<br>% change:-0.035",
          "Open: 37068.77<br>% change:-0.035<br>High: 38359.86<br>% change:-0.026<br>Low: 36488.93<br>% change:-0.012<br>Close: 38286.03<br>% change:0.033",
          "Open: 38285.28<br>% change:0.033<br>High: 39122.39<br>% change:0.02<br>Low: 37201.82<br>% change:0.02<br>Close: 37296.57<br>% change:-0.026",
          "Open: 37278.57<br>% change:-0.026<br>High: 38968.84<br>% change:-0.004<br>Low: 34459.22<br>% change:-0.074<br>Close: 38332.61<br>% change:0.028",
          "Open: 38333.75<br>% change:0.028<br>High: 39630.32<br>% change:0.017<br>Low: 38111.34<br>% change:0.106<br>Close: 39214.22<br>% change:0.023",
          "Open: 39213.08<br>% change:0.023<br>High: 40005.35<br>% change:0.009<br>Low: 38702.54<br>% change:0.016<br>Close: 39105.15<br>% change:-0.003",
          "Open: 39098.7<br>% change:-0.003<br>High: 39778.94<br>% change:-0.006<br>Low: 37268.98<br>% change:-0.037<br>Close: 37709.79<br>% change:-0.036",
          "Open: 37706.0<br>% change:-0.036<br>High: 43760.46<br>% change:0.1<br>Low: 37518.21<br>% change:0.007<br>Close: 43193.23<br>% change:0.145",
          "Open: 43194.5<br>% change:0.146<br>High: 44793.6<br>% change:0.024<br>Low: 42952.59<br>% change:0.145<br>Close: 44354.64<br>% change:0.027",
          "Open: 44357.62<br>% change:0.027<br>High: 45077.58<br>% change:0.006<br>Low: 43432.85<br>% change:0.011<br>Close: 43924.12<br>% change:-0.01",
          "Open: 43925.2<br>% change:-0.01<br>High: 44021.58<br>% change:-0.023<br>Low: 41914.75<br>% change:-0.035<br>Close: 42451.79<br>% change:-0.034",
          "Open: 42458.14<br>% change:-0.033<br>High: 42479.61<br>% change:-0.035<br>Low: 38805.85<br>% change:-0.074<br>Close: 39137.61<br>% change:-0.078",
          "Open: 39148.45<br>% change:-0.078<br>High: 39566.34<br>% change:-0.069<br>Low: 38777.04<br>% change:-0.001<br>Close: 39400.59<br>% change:0.007",
          "Open: 39404.2<br>% change:0.007<br>High: 39640.18<br>% change:0.002<br>Low: 38211.65<br>% change:-0.015<br>Close: 38419.98<br>% change:-0.025",
          "Open: 38429.3<br>% change:-0.025<br>High: 39430.23<br>% change:-0.005<br>Low: 37260.2<br>% change:-0.025<br>Close: 38062.04<br>% change:-0.009",
          "Open: 38059.9<br>% change:-0.01<br>High: 39304.44<br>% change:-0.003<br>Low: 37957.39<br>% change:0.019<br>Close: 38737.27<br>% change:0.018",
          "Open: 38742.82<br>% change:0.018<br>High: 42465.67<br>% change:0.08<br>Low: 38706.09<br>% change:0.02<br>Close: 41982.93<br>% change:0.084",
          "Open: 41974.07<br>% change:0.083<br>High: 42004.73<br>% change:-0.011<br>Low: 38832.94<br>% change:0.003<br>Close: 39437.46<br>% change:-0.061",
          "Open: 39439.97<br>% change:-0.06<br>High: 40081.68<br>% change:-0.046<br>Low: 38347.43<br>% change:-0.013<br>Close: 38794.97<br>% change:-0.016",
          "Open: 38794.46<br>% change:-0.016<br>High: 39308.6<br>% change:-0.019<br>Low: 38772.54<br>% change:0.011<br>Close: 38904.01<br>% change:0.003",
          "Open: 38884.73<br>% change:0.002<br>High: 39209.35<br>% change:-0.003<br>Low: 37728.14<br>% change:-0.027<br>Close: 37849.66<br>% change:-0.027",
          "Open: 37846.32<br>% change:-0.027<br>High: 39742.5<br>% change:0.014<br>Low: 37680.73<br>% change:-0.001<br>Close: 39666.75<br>% change:0.048",
          "Open: 39664.25<br>% change:0.048<br>High: 39794.63<br>% change:0.001<br>Low: 38310.21<br>% change:0.017<br>Close: 39338.79<br>% change:-0.008",
          "Open: 39335.57<br>% change:-0.008<br>High: 41465.45<br>% change:0.042<br>Low: 39022.35<br>% change:0.019<br>Close: 41143.93<br>% change:0.046",
          "Open: 41140.84<br>% change:0.046<br>High: 41287.54<br>% change:-0.004<br>Low: 40662.87<br>% change:0.042<br>Close: 40951.38<br>% change:-0.005",
          "Open: 40944.84<br>% change:-0.005<br>High: 42195.75<br>% change:0.022<br>Low: 40302.4<br>% change:-0.009<br>Close: 41801.16<br>% change:0.021",
          "Open: 41794.65<br>% change:0.021<br>High: 42316.55<br>% change:0.003<br>Low: 41602.67<br>% change:0.032<br>Close: 42190.65<br>% change:0.009",
          "Open: 42191.41<br>% change:0.009<br>High: 42241.16<br>% change:-0.002<br>Low: 41004.76<br>% change:-0.014<br>Close: 41247.82<br>% change:-0.022",
          "Open: 41246.13<br>% change:-0.022<br>High: 41454.41<br>% change:-0.019<br>Low: 40668.04<br>% change:-0.008<br>Close: 41078.0<br>% change:-0.004",
          "Open: 41074.11<br>% change:-0.004<br>High: 43124.71<br>% change:0.04<br>Low: 40948.28<br>% change:0.007<br>Close: 42358.81<br>% change:0.031",
          "Open: 42364.38<br>% change:0.031<br>High: 42893.51<br>% change:-0.005<br>Low: 41877.51<br>% change:0.023<br>Close: 42892.96<br>% change:0.013",
          "Open: 42886.65<br>% change:0.012<br>High: 44131.86<br>% change:0.029<br>Low: 42726.16<br>% change:0.02<br>Close: 43960.93<br>% change:0.025",
          "Open: 43964.55<br>% change:0.025<br>High: 44999.49<br>% change:0.02<br>Low: 43706.29<br>% change:0.023<br>Close: 44348.73<br>% change:0.009",
          "Open: 44349.86<br>% change:0.009<br>High: 44736.0<br>% change:-0.006<br>Low: 44166.27<br>% change:0.011<br>Close: 44500.83<br>% change:0.003",
          "Open: 44505.36<br>% change:0.004<br>High: 46827.55<br>% change:0.047<br>Low: 44437.29<br>% change:0.006<br>Close: 46820.49<br>% change:0.052",
          "Open: 46821.85<br>% change:0.052<br>High: 48086.84<br>% change:0.027<br>Low: 46690.2<br>% change:0.051<br>Close: 47128.0<br>% change:0.007",
          "Open: 47100.44<br>% change:0.006<br>High: 48022.29<br>% change:-0.001<br>Low: 47100.44<br>% change:0.009<br>Close: 47465.73<br>% change:0.007",
          "Open: 47456.9<br>% change:0.008<br>High: 47655.15<br>% change:-0.008<br>Low: 46746.21<br>% change:-0.008<br>Close: 47062.66<br>% change:-0.008",
          "Open: 47062.15<br>% change:-0.008<br>High: 47512.03<br>% change:-0.003<br>Low: 45390.54<br>% change:-0.029<br>Close: 45538.68<br>% change:-0.032",
          "Open: 45554.16<br>% change:-0.032<br>High: 46616.24<br>% change:-0.019<br>Low: 44403.14<br>% change:-0.022<br>Close: 46281.64<br>% change:0.016",
          "Open: 46285.5<br>% change:0.016<br>High: 47028.28<br>% change:0.009<br>Low: 45782.51<br>% change:0.031<br>Close: 45868.95<br>% change:-0.009",
          "Open: 45859.13<br>% change:-0.009<br>High: 47313.48<br>% change:0.006<br>Low: 45634.11<br>% change:-0.003<br>Close: 46453.57<br>% change:0.013",
          "Open: 46445.27<br>% change:0.013<br>High: 46791.09<br>% change:-0.011<br>Low: 45235.82<br>% change:-0.009<br>Close: 46622.68<br>% change:0.004",
          "Open: 46624.51<br>% change:0.004<br>High: 47106.14<br>% change:0.007<br>Low: 45544.81<br>% change:0.007<br>Close: 45555.99<br>% change:-0.023",
          "Open: 45544.36<br>% change:-0.023<br>High: 45544.36<br>% change:-0.033<br>Low: 43193.95<br>% change:-0.052<br>Close: 43206.74<br>% change:-0.052",
          "Open: 43207.5<br>% change:-0.051<br>High: 43860.7<br>% change:-0.037<br>Low: 42899.91<br>% change:-0.007<br>Close: 43503.85<br>% change:0.007",
          "Open: 43505.14<br>% change:0.007<br>High: 43903.02<br>% change:0.001<br>Low: 42183.29<br>% change:-0.017<br>Close: 42287.66<br>% change:-0.028",
          "Open: 42282.08<br>% change:-0.028<br>High: 42786.82<br>% change:-0.025<br>Low: 42183.25<br>% change:-0.0<br>Close: 42782.14<br>% change:0.012",
          "Open: 42781.09<br>% change:0.012<br>High: 43376.38<br>% change:0.014<br>Low: 42021.21<br>% change:-0.004<br>Close: 42207.67<br>% change:-0.013",
          "Open: 42201.04<br>% change:-0.014<br>High: 42424.59<br>% change:-0.022<br>Low: 39373.06<br>% change:-0.063<br>Close: 39521.9<br>% change:-0.064",
          "Open: 39533.71<br>% change:-0.063<br>High: 40617.59<br>% change:-0.043<br>Low: 39388.33<br>% change:0.0<br>Close: 40127.18<br>% change:0.015",
          "Open: 40123.57<br>% change:0.015<br>High: 41430.05<br>% change:0.02<br>Low: 39712.75<br>% change:0.008<br>Close: 41166.73<br>% change:0.026",
          "Open: 41160.22<br>% change:0.026<br>High: 41451.48<br>% change:0.001<br>Low: 39695.75<br>% change:-0.0<br>Close: 39935.52<br>% change:-0.03",
          "Open: 39939.4<br>% change:-0.03<br>High: 40617.72<br>% change:-0.02<br>Low: 39866.83<br>% change:0.004<br>Close: 40553.46<br>% change:0.015",
          "Open: 40552.32<br>% change:0.015<br>High: 40633.68<br>% change:0.0<br>Low: 40078.43<br>% change:0.005<br>Close: 40424.48<br>% change:-0.003",
          "Open: 40417.78<br>% change:-0.003<br>High: 40570.73<br>% change:-0.002<br>Low: 39620.89<br>% change:-0.011<br>Close: 39716.95<br>% change:-0.018",
          "Open: 39721.2<br>% change:-0.017<br>High: 40986.32<br>% change:0.01<br>Low: 38696.19<br>% change:-0.023<br>Close: 40826.21<br>% change:0.028",
          "Open: 40828.18<br>% change:0.028<br>High: 41672.96<br>% change:0.017<br>Low: 40618.63<br>% change:0.05<br>Close: 41502.75<br>% change:0.017",
          "Open: 41501.75<br>% change:0.016<br>High: 42126.3<br>% change:0.011<br>Low: 40961.1<br>% change:0.008<br>Close: 41374.38<br>% change:-0.003",
          "Open: 41371.52<br>% change:-0.003<br>High: 42893.58<br>% change:0.018<br>Low: 40063.83<br>% change:-0.022<br>Close: 40527.36<br>% change:-0.02",
          "Open: 40525.86<br>% change:-0.02<br>High: 40777.76<br>% change:-0.049<br>Low: 39315.42<br>% change:-0.019<br>Close: 39740.32<br>% change:-0.019",
          "Open: 39738.72<br>% change:-0.019<br>High: 39935.86<br>% change:-0.021<br>Low: 39352.2<br>% change:0.001<br>Close: 39486.73<br>% change:-0.006",
          "Open: 39478.38<br>% change:-0.007<br>High: 39845.93<br>% change:-0.002<br>Low: 39233.54<br>% change:-0.003<br>Close: 39469.29<br>% change:-0.0",
          "Open: 39472.61<br>% change:-0.0<br>High: 40491.75<br>% change:0.016<br>Low: 38338.38<br>% change:-0.023<br>Close: 40458.31<br>% change:0.025",
          "Open: 40448.42<br>% change:0.025<br>High: 40713.89<br>% change:0.005<br>Low: 37884.98<br>% change:-0.012<br>Close: 38117.46<br>% change:-0.058",
          "Open: 38120.3<br>% change:-0.058<br>High: 39397.92<br>% change:-0.032<br>Low: 37997.31<br>% change:0.003<br>Close: 39241.12<br>% change:0.029",
          "Open: 39241.43<br>% change:0.029<br>High: 40269.46<br>% change:0.022<br>Low: 38941.42<br>% change:0.025<br>Close: 39773.83<br>% change:0.014",
          "Open: 39768.62<br>% change:0.013<br>High: 39887.27<br>% change:-0.009<br>Low: 38235.54<br>% change:-0.018<br>Close: 38609.82<br>% change:-0.029",
          "Open: 38605.86<br>% change:-0.029<br>High: 38771.21<br>% change:-0.028<br>Low: 37697.94<br>% change:-0.014<br>Close: 37714.88<br>% change:-0.023",
          "Open: 37713.27<br>% change:-0.023<br>High: 38627.86<br>% change:-0.004<br>Low: 37585.79<br>% change:-0.003<br>Close: 38469.09<br>% change:0.02",
          "Open: 38472.19<br>% change:0.02<br>High: 39074.97<br>% change:0.012<br>Low: 38156.56<br>% change:0.015<br>Close: 38529.33<br>% change:0.002",
          "Open: 38528.11<br>% change:0.001<br>High: 38630.0<br>% change:-0.011<br>Low: 37585.62<br>% change:-0.015<br>Close: 37750.45<br>% change:-0.02",
          "Open: 37748.01<br>% change:-0.02<br>High: 39902.95<br>% change:0.033<br>Low: 37732.06<br>% change:0.004<br>Close: 39698.37<br>% change:0.052",
          "Open: 39695.75<br>% change:0.052<br>High: 39789.28<br>% change:-0.003<br>Low: 35856.52<br>% change:-0.05<br>Close: 36575.14<br>% change:-0.079",
          "Open: 36573.18<br>% change:-0.079<br>High: 36624.36<br>% change:-0.08<br>Low: 35482.13<br>% change:-0.01<br>Close: 36040.92<br>% change:-0.015",
          "Open: 36042.5<br>% change:-0.015<br>High: 36129.93<br>% change:-0.014<br>Low: 34940.82<br>% change:-0.015<br>Close: 35501.95<br>% change:-0.015",
          "Open: 35502.94<br>% change:-0.015<br>High: 35502.94<br>% change:-0.017<br>Low: 33878.96<br>% change:-0.03<br>Close: 34059.27<br>% change:-0.041",
          "Open: 34060.02<br>% change:-0.041<br>High: 34222.07<br>% change:-0.036<br>Low: 30296.95<br>% change:-0.106<br>Close: 30296.95<br>% change:-0.11",
          "Open: 30273.65<br>% change:-0.111<br>High: 32596.31<br>% change:-0.048<br>Low: 29944.8<br>% change:-0.012<br>Close: 31022.91<br>% change:0.024",
          "Open: 31016.18<br>% change:0.025<br>High: 32013.4<br>% change:-0.018<br>Low: 28170.41<br>% change:-0.059<br>Close: 28936.36<br>% change:-0.067",
          "Open: 28936.73<br>% change:-0.067<br>High: 30032.44<br>% change:-0.062<br>Low: 26350.49<br>% change:-0.065<br>Close: 29047.75<br>% change:0.004",
          "Open: 29030.91<br>% change:0.003<br>High: 30924.8<br>% change:0.03<br>Low: 28782.33<br>% change:0.092<br>Close: 29283.1<br>% change:0.008",
          "Open: 29285.64<br>% change:0.009<br>High: 30192.8<br>% change:-0.024<br>Low: 28702.91<br>% change:-0.003<br>Close: 30101.27<br>% change:0.028",
          "Open: 30098.59<br>% change:0.028<br>High: 31308.19<br>% change:0.037<br>Low: 29527.74<br>% change:0.029<br>Close: 31305.11<br>% change:0.04",
          "Open: 31304.38<br>% change:0.04<br>High: 31305.34<br>% change:-0.0<br>Low: 29251.88<br>% change:-0.009<br>Close: 29862.92<br>% change:-0.046",
          "Open: 29862.41<br>% change:-0.046<br>High: 30694.49<br>% change:-0.02<br>Low: 29570.3<br>% change:0.011<br>Close: 30425.86<br>% change:0.019",
          "Open: 30424.48<br>% change:0.019<br>High: 30618.72<br>% change:-0.002<br>Low: 28720.27<br>% change:-0.029<br>Close: 28720.27<br>% change:-0.056",
          "Open: 28720.36<br>% change:-0.056<br>High: 30430.75<br>% change:-0.006<br>Low: 28708.96<br>% change:-0.0<br>Close: 30314.33<br>% change:0.056",
          "Open: 30311.12<br>% change:0.055<br>High: 30664.98<br>% change:0.008<br>Low: 28793.61<br>% change:0.003<br>Close: 29200.74<br>% change:-0.037"
         ],
         "type": "candlestick",
         "x": [
          "2022-02-12T00:00:00",
          "2022-02-13T00:00:00",
          "2022-02-14T00:00:00",
          "2022-02-15T00:00:00",
          "2022-02-16T00:00:00",
          "2022-02-17T00:00:00",
          "2022-02-18T00:00:00",
          "2022-02-19T00:00:00",
          "2022-02-20T00:00:00",
          "2022-02-21T00:00:00",
          "2022-02-22T00:00:00",
          "2022-02-23T00:00:00",
          "2022-02-24T00:00:00",
          "2022-02-25T00:00:00",
          "2022-02-26T00:00:00",
          "2022-02-27T00:00:00",
          "2022-02-28T00:00:00",
          "2022-03-01T00:00:00",
          "2022-03-02T00:00:00",
          "2022-03-03T00:00:00",
          "2022-03-04T00:00:00",
          "2022-03-05T00:00:00",
          "2022-03-06T00:00:00",
          "2022-03-07T00:00:00",
          "2022-03-08T00:00:00",
          "2022-03-09T00:00:00",
          "2022-03-10T00:00:00",
          "2022-03-11T00:00:00",
          "2022-03-12T00:00:00",
          "2022-03-13T00:00:00",
          "2022-03-14T00:00:00",
          "2022-03-15T00:00:00",
          "2022-03-16T00:00:00",
          "2022-03-17T00:00:00",
          "2022-03-18T00:00:00",
          "2022-03-19T00:00:00",
          "2022-03-20T00:00:00",
          "2022-03-21T00:00:00",
          "2022-03-22T00:00:00",
          "2022-03-23T00:00:00",
          "2022-03-24T00:00:00",
          "2022-03-25T00:00:00",
          "2022-03-26T00:00:00",
          "2022-03-27T00:00:00",
          "2022-03-28T00:00:00",
          "2022-03-29T00:00:00",
          "2022-03-30T00:00:00",
          "2022-03-31T00:00:00",
          "2022-04-01T00:00:00",
          "2022-04-02T00:00:00",
          "2022-04-03T00:00:00",
          "2022-04-04T00:00:00",
          "2022-04-05T00:00:00",
          "2022-04-06T00:00:00",
          "2022-04-07T00:00:00",
          "2022-04-08T00:00:00",
          "2022-04-09T00:00:00",
          "2022-04-10T00:00:00",
          "2022-04-11T00:00:00",
          "2022-04-12T00:00:00",
          "2022-04-13T00:00:00",
          "2022-04-14T00:00:00",
          "2022-04-15T00:00:00",
          "2022-04-16T00:00:00",
          "2022-04-17T00:00:00",
          "2022-04-18T00:00:00",
          "2022-04-19T00:00:00",
          "2022-04-20T00:00:00",
          "2022-04-21T00:00:00",
          "2022-04-22T00:00:00",
          "2022-04-23T00:00:00",
          "2022-04-24T00:00:00",
          "2022-04-25T00:00:00",
          "2022-04-26T00:00:00",
          "2022-04-27T00:00:00",
          "2022-04-28T00:00:00",
          "2022-04-29T00:00:00",
          "2022-04-30T00:00:00",
          "2022-05-01T00:00:00",
          "2022-05-02T00:00:00",
          "2022-05-03T00:00:00",
          "2022-05-04T00:00:00",
          "2022-05-05T00:00:00",
          "2022-05-06T00:00:00",
          "2022-05-07T00:00:00",
          "2022-05-08T00:00:00",
          "2022-05-09T00:00:00",
          "2022-05-10T00:00:00",
          "2022-05-11T00:00:00",
          "2022-05-12T00:00:00",
          "2022-05-13T00:00:00",
          "2022-05-14T00:00:00",
          "2022-05-15T00:00:00",
          "2022-05-16T00:00:00",
          "2022-05-17T00:00:00",
          "2022-05-18T00:00:00",
          "2022-05-19T00:00:00",
          "2022-05-20T00:00:00"
         ]
        },
        {
         "customdata": [
          [
           42412.30078125,
           42992.55078125,
           41852.57421875,
           42244.46875
          ],
          [
           42236.56640625,
           42693.0546875,
           41950.94140625,
           42197.515625
          ],
          [
           42157.3984375,
           42775.77734375,
           41681.95703125,
           42586.91796875
          ],
          [
           42586.46484375,
           44667.21875,
           42491.03515625,
           44575.203125
          ],
          [
           44578.27734375,
           44578.27734375,
           43456.69140625,
           43961.859375
          ],
          [
           43937.0703125,
           44132.97265625,
           40249.37109375,
           40538.01171875
          ],
          [
           40552.1328125,
           40929.15234375,
           39637.6171875,
           40030.9765625
          ],
          [
           40026.0234375,
           40418.87890625,
           39713.05859375,
           40122.15625
          ],
          [
           40118.1015625,
           40119.890625,
           38112.8125,
           38431.37890625
          ],
          [
           38423.2109375,
           39394.4375,
           36950.4765625,
           37075.28125
          ],
          [
           37068.76953125,
           38359.85546875,
           36488.93359375,
           38286.02734375
          ],
          [
           38285.28125,
           39122.39453125,
           37201.81640625,
           37296.5703125
          ],
          [
           37278.56640625,
           38968.83984375,
           34459.21875,
           38332.609375
          ],
          [
           38333.74609375,
           39630.32421875,
           38111.34375,
           39214.21875
          ],
          [
           39213.08203125,
           40005.34765625,
           38702.53515625,
           39105.1484375
          ],
          [
           39098.69921875,
           39778.94140625,
           37268.9765625,
           37709.78515625
          ],
          [
           37706,
           43760.45703125,
           37518.21484375,
           43193.234375
          ],
          [
           43194.50390625,
           44793.6015625,
           42952.5859375,
           44354.63671875
          ],
          [
           44357.6171875,
           45077.578125,
           43432.8515625,
           43924.1171875
          ],
          [
           43925.1953125,
           44021.578125,
           41914.75,
           42451.7890625
          ],
          [
           42458.140625,
           42479.61328125,
           38805.84765625,
           39137.60546875
          ],
          [
           39148.44921875,
           39566.3359375,
           38777.03515625,
           39400.5859375
          ],
          [
           39404.19921875,
           39640.17578125,
           38211.6484375,
           38419.984375
          ],
          [
           38429.3046875,
           39430.2265625,
           37260.203125,
           38062.0390625
          ],
          [
           38059.90234375,
           39304.44140625,
           37957.38671875,
           38737.26953125
          ],
          [
           38742.81640625,
           42465.671875,
           38706.09375,
           41982.92578125
          ],
          [
           41974.0703125,
           42004.7265625,
           38832.94140625,
           39437.4609375
          ],
          [
           39439.96875,
           40081.6796875,
           38347.43359375,
           38794.97265625
          ],
          [
           38794.46484375,
           39308.59765625,
           38772.53515625,
           38904.01171875
          ],
          [
           38884.7265625,
           39209.3515625,
           37728.14453125,
           37849.6640625
          ],
          [
           37846.31640625,
           39742.5,
           37680.734375,
           39666.75390625
          ],
          [
           39664.25,
           39794.62890625,
           38310.2109375,
           39338.78515625
          ],
          [
           39335.5703125,
           41465.453125,
           39022.34765625,
           41143.9296875
          ],
          [
           41140.84375,
           41287.53515625,
           40662.87109375,
           40951.37890625
          ],
          [
           40944.83984375,
           42195.74609375,
           40302.3984375,
           41801.15625
          ],
          [
           41794.6484375,
           42316.5546875,
           41602.66796875,
           42190.65234375
          ],
          [
           42191.40625,
           42241.1640625,
           41004.7578125,
           41247.82421875
          ],
          [
           41246.1328125,
           41454.41015625,
           40668.04296875,
           41077.99609375
          ],
          [
           41074.10546875,
           43124.70703125,
           40948.28125,
           42358.80859375
          ],
          [
           42364.37890625,
           42893.5078125,
           41877.5078125,
           42892.95703125
          ],
          [
           42886.65234375,
           44131.85546875,
           42726.1640625,
           43960.93359375
          ],
          [
           43964.546875,
           44999.4921875,
           43706.28515625,
           44348.73046875
          ],
          [
           44349.859375,
           44735.99609375,
           44166.2734375,
           44500.828125
          ],
          [
           44505.35546875,
           46827.546875,
           44437.29296875,
           46820.4921875
          ],
          [
           46821.8515625,
           48086.8359375,
           46690.203125,
           47128.00390625
          ],
          [
           47100.4375,
           48022.2890625,
           47100.4375,
           47465.73046875
          ],
          [
           47456.8984375,
           47655.1484375,
           46746.2109375,
           47062.6640625
          ],
          [
           47062.1484375,
           47512.02734375,
           45390.5390625,
           45538.67578125
          ],
          [
           45554.1640625,
           46616.2421875,
           44403.140625,
           46281.64453125
          ],
          [
           46285.5,
           47028.28125,
           45782.51171875,
           45868.94921875
          ],
          [
           45859.12890625,
           47313.4765625,
           45634.10546875,
           46453.56640625
          ],
          [
           46445.2734375,
           46791.08984375,
           45235.81640625,
           46622.67578125
          ],
          [
           46624.5078125,
           47106.140625,
           45544.80859375,
           45555.9921875
          ],
          [
           45544.35546875,
           45544.35546875,
           43193.953125,
           43206.73828125
          ],
          [
           43207.5,
           43860.69921875,
           42899.90625,
           43503.84765625
          ],
          [
           43505.13671875,
           43903.01953125,
           42183.2890625,
           42287.6640625
          ],
          [
           42282.078125,
           42786.81640625,
           42183.25390625,
           42782.13671875
          ],
          [
           42781.08984375,
           43376.37890625,
           42021.20703125,
           42207.671875
          ],
          [
           42201.0390625,
           42424.58984375,
           39373.05859375,
           39521.90234375
          ],
          [
           39533.71484375,
           40617.5859375,
           39388.328125,
           40127.18359375
          ],
          [
           40123.5703125,
           41430.0546875,
           39712.74609375,
           41166.73046875
          ],
          [
           41160.21875,
           41451.48046875,
           39695.74609375,
           39935.515625
          ],
          [
           39939.40234375,
           40617.72265625,
           39866.83203125,
           40553.46484375
          ],
          [
           40552.31640625,
           40633.6796875,
           40078.42578125,
           40424.484375
          ],
          [
           40417.77734375,
           40570.7265625,
           39620.89453125,
           39716.953125
          ],
          [
           39721.203125,
           40986.3203125,
           38696.19140625,
           40826.21484375
          ],
          [
           40828.17578125,
           41672.9609375,
           40618.6328125,
           41502.75
          ],
          [
           41501.74609375,
           42126.30078125,
           40961.09765625,
           41374.37890625
          ],
          [
           41371.515625,
           42893.58203125,
           40063.828125,
           40527.36328125
          ],
          [
           40525.86328125,
           40777.7578125,
           39315.41796875,
           39740.3203125
          ],
          [
           39738.72265625,
           39935.859375,
           39352.203125,
           39486.73046875
          ],
          [
           39478.375,
           39845.92578125,
           39233.5390625,
           39469.29296875
          ],
          [
           39472.60546875,
           40491.75390625,
           38338.37890625,
           40458.30859375
          ],
          [
           40448.421875,
           40713.890625,
           37884.984375,
           38117.4609375
          ],
          [
           38120.30078125,
           39397.91796875,
           37997.3125,
           39241.12109375
          ],
          [
           39241.4296875,
           40269.46484375,
           38941.421875,
           39773.828125
          ],
          [
           39768.6171875,
           39887.26953125,
           38235.53515625,
           38609.82421875
          ],
          [
           38605.859375,
           38771.2109375,
           37697.94140625,
           37714.875
          ],
          [
           37713.265625,
           38627.859375,
           37585.7890625,
           38469.09375
          ],
          [
           38472.1875,
           39074.97265625,
           38156.5625,
           38529.328125
          ],
          [
           38528.109375,
           38629.99609375,
           37585.62109375,
           37750.453125
          ],
          [
           37748.01171875,
           39902.94921875,
           37732.05859375,
           39698.37109375
          ],
          [
           39695.74609375,
           39789.28125,
           35856.515625,
           36575.140625
          ],
          [
           36573.18359375,
           36624.359375,
           35482.1328125,
           36040.921875
          ],
          [
           36042.50390625,
           36129.92578125,
           34940.82421875,
           35501.953125
          ],
          [
           35502.94140625,
           35502.94140625,
           33878.96484375,
           34059.265625
          ],
          [
           34060.015625,
           34222.07421875,
           30296.953125,
           30296.953125
          ],
          [
           30273.654296875,
           32596.30859375,
           29944.802734375,
           31022.90625
          ],
          [
           31016.18359375,
           32013.40234375,
           28170.4140625,
           28936.35546875
          ],
          [
           28936.734375,
           30032.439453125,
           26350.490234375,
           29047.751953125
          ],
          [
           29030.91015625,
           30924.802734375,
           28782.330078125,
           29283.103515625
          ],
          [
           29285.642578125,
           30192.802734375,
           28702.91015625,
           30101.265625
          ],
          [
           30098.5859375,
           31308.19140625,
           29527.740234375,
           31305.11328125
          ],
          [
           31304.375,
           31305.341796875,
           29251.884765625,
           29862.91796875
          ],
          [
           29862.408203125,
           30694.490234375,
           29570.302734375,
           30425.857421875
          ],
          [
           30424.478515625,
           30618.716796875,
           28720.271484375,
           28720.271484375
          ],
          [
           28720.359375,
           30430.751953125,
           28708.955078125,
           30314.333984375
          ],
          [
           30311.119140625,
           30664.9765625,
           28793.60546875,
           29200.740234375
          ]
         ],
         "hovertemplate": "Percentual Change: %{y}<br>Date: %{x}<br>Open: %{customdata[0]:.3f}<br>High: %{customdata[1]:.3f}<br>Low: %{customdata[2]:.3f}<br>Close: %{customdata[3]:.3f}",
         "line": {
          "color": "orange"
         },
         "mode": "lines",
         "name": "SOL",
         "type": "scatter",
         "x": [
          "2022-02-12T00:00:00",
          "2022-02-13T00:00:00",
          "2022-02-14T00:00:00",
          "2022-02-15T00:00:00",
          "2022-02-16T00:00:00",
          "2022-02-17T00:00:00",
          "2022-02-18T00:00:00",
          "2022-02-19T00:00:00",
          "2022-02-20T00:00:00",
          "2022-02-21T00:00:00",
          "2022-02-22T00:00:00",
          "2022-02-23T00:00:00",
          "2022-02-24T00:00:00",
          "2022-02-25T00:00:00",
          "2022-02-26T00:00:00",
          "2022-02-27T00:00:00",
          "2022-02-28T00:00:00",
          "2022-03-01T00:00:00",
          "2022-03-02T00:00:00",
          "2022-03-03T00:00:00",
          "2022-03-04T00:00:00",
          "2022-03-05T00:00:00",
          "2022-03-06T00:00:00",
          "2022-03-07T00:00:00",
          "2022-03-08T00:00:00",
          "2022-03-09T00:00:00",
          "2022-03-10T00:00:00",
          "2022-03-11T00:00:00",
          "2022-03-12T00:00:00",
          "2022-03-13T00:00:00",
          "2022-03-14T00:00:00",
          "2022-03-15T00:00:00",
          "2022-03-16T00:00:00",
          "2022-03-17T00:00:00",
          "2022-03-18T00:00:00",
          "2022-03-19T00:00:00",
          "2022-03-20T00:00:00",
          "2022-03-21T00:00:00",
          "2022-03-22T00:00:00",
          "2022-03-23T00:00:00",
          "2022-03-24T00:00:00",
          "2022-03-25T00:00:00",
          "2022-03-26T00:00:00",
          "2022-03-27T00:00:00",
          "2022-03-28T00:00:00",
          "2022-03-29T00:00:00",
          "2022-03-30T00:00:00",
          "2022-03-31T00:00:00",
          "2022-04-01T00:00:00",
          "2022-04-02T00:00:00",
          "2022-04-03T00:00:00",
          "2022-04-04T00:00:00",
          "2022-04-05T00:00:00",
          "2022-04-06T00:00:00",
          "2022-04-07T00:00:00",
          "2022-04-08T00:00:00",
          "2022-04-09T00:00:00",
          "2022-04-10T00:00:00",
          "2022-04-11T00:00:00",
          "2022-04-12T00:00:00",
          "2022-04-13T00:00:00",
          "2022-04-14T00:00:00",
          "2022-04-15T00:00:00",
          "2022-04-16T00:00:00",
          "2022-04-17T00:00:00",
          "2022-04-18T00:00:00",
          "2022-04-19T00:00:00",
          "2022-04-20T00:00:00",
          "2022-04-21T00:00:00",
          "2022-04-22T00:00:00",
          "2022-04-23T00:00:00",
          "2022-04-24T00:00:00",
          "2022-04-25T00:00:00",
          "2022-04-26T00:00:00",
          "2022-04-27T00:00:00",
          "2022-04-28T00:00:00",
          "2022-04-29T00:00:00",
          "2022-04-30T00:00:00",
          "2022-05-01T00:00:00",
          "2022-05-02T00:00:00",
          "2022-05-03T00:00:00",
          "2022-05-04T00:00:00",
          "2022-05-05T00:00:00",
          "2022-05-06T00:00:00",
          "2022-05-07T00:00:00",
          "2022-05-08T00:00:00",
          "2022-05-09T00:00:00",
          "2022-05-10T00:00:00",
          "2022-05-11T00:00:00",
          "2022-05-12T00:00:00",
          "2022-05-13T00:00:00",
          "2022-05-14T00:00:00",
          "2022-05-15T00:00:00",
          "2022-05-16T00:00:00",
          "2022-05-17T00:00:00",
          "2022-05-18T00:00:00",
          "2022-05-19T00:00:00",
          "2022-05-20T00:00:00"
         ],
         "y": [
          null,
          -0.027878991020737764,
          0.034202386560092224,
          0.08752200012310407,
          -0.02803770476752654,
          -0.08360869003212368,
          -0.03580931288306577,
          0.015890558794279697,
          -0.006505568536192441,
          -0.08556799497760315,
          0.04020809685511462,
          -0.01807196225670249,
          0.050551481985964264,
          0.038164529882728004,
          -0.02653662366000875,
          -0.05128059290556486,
          0.1637213801970585,
          -0.008709683923230682,
          0.02023321363645758,
          -0.05077450573813658,
          -0.07633746706132649,
          0.015885858020052046,
          -0.056952396708788044,
          -0.028531520254328258,
          0.0015182603693912888,
          0.0723034596211809,
          -0.059669551150389744,
          -0.026454255508604918,
          0.010017000195022163,
          -0.032098367900528224,
          0.0283427645549732,
          0.021949890371324,
          0.059653241135062984,
          -0.0003046424383059687,
          0.02213541463184243,
          0.028902875134394712,
          -0.04115307701401216,
          0.0016062950718502833,
          0.01978169410217867,
          0.050707805210441714,
          0.07487706472183309,
          -0.03488026865962157,
          0.03148326368973309,
          0.05227809709309983,
          -0.00578017138102338,
          0.049265425758104,
          0.08046861330080257,
          0.016255041063320874,
          0.09595090226498759,
          -0.016603848370715935,
          0.03461801048848745,
          -0.03189684447552288,
          -0.041917392830482014,
          -0.11018922381149432,
          0.05238265781400475,
          -0.07572306206893542,
          0.028887866240137283,
          -0.01089071333108671,
          -0.11099932713404503,
          0.03993679234596015,
          0.016412892362399623,
          -0.04089584870537022,
          0.005977436468998842,
          0.00935290075401718,
          -0.018068321804756482,
          0.01741696996406028,
          0.06287776445369464,
          -0.0284119717280642,
          -0.035269849229477956,
          -0.011437704432128326,
          0.0013157991519647805,
          -0.014974961708927315,
          0.020273338256823203,
          -0.0539813559615786,
          0.027110665475685858,
          -0.0019632074070655703,
          -0.04251519107339896,
          -0.09483337262538394,
          0.05376963004364299,
          -0.02331278102449119,
          -0.01985178866630799,
          0.08071158665326639,
          -0.08811849277706019,
          -0.03347576741698588,
          -0.03400863209195493,
          -0.04764591019670095,
          -0.15887399257145063,
          0.05526343079846807,
          -0.24795950211474505,
          -0.1100809855412429,
          0.08750330280312468,
          0.07868684464460052,
          0.12198347687237354,
          -0.08781989566206017,
          0.06485356213829974,
          -0.12900366874700342,
          0.04939619537767004,
          -0.05124046389204928
         ]
        }
       ],
       "layout": {
        "font": {
         "color": "white",
         "size": 15
        },
        "height": 700,
        "paper_bgcolor": "rgba(0, 0, 0, 0)",
        "plot_bgcolor": "rgba(0, 0, 0, 0)",
        "template": {
         "data": {
          "bar": [
           {
            "error_x": {
             "color": "#f2f5fa"
            },
            "error_y": {
             "color": "#f2f5fa"
            },
            "marker": {
             "line": {
              "color": "rgb(17,17,17)",
              "width": 0.5
             },
             "pattern": {
              "fillmode": "overlay",
              "size": 10,
              "solidity": 0.2
             }
            },
            "type": "bar"
           }
          ],
          "barpolar": [
           {
            "marker": {
             "line": {
              "color": "rgb(17,17,17)",
              "width": 0.5
             },
             "pattern": {
              "fillmode": "overlay",
              "size": 10,
              "solidity": 0.2
             }
            },
            "type": "barpolar"
           }
          ],
          "carpet": [
           {
            "aaxis": {
             "endlinecolor": "#A2B1C6",
             "gridcolor": "#506784",
             "linecolor": "#506784",
             "minorgridcolor": "#506784",
             "startlinecolor": "#A2B1C6"
            },
            "baxis": {
             "endlinecolor": "#A2B1C6",
             "gridcolor": "#506784",
             "linecolor": "#506784",
             "minorgridcolor": "#506784",
             "startlinecolor": "#A2B1C6"
            },
            "type": "carpet"
           }
          ],
          "choropleth": [
           {
            "colorbar": {
             "outlinewidth": 0,
             "ticks": ""
            },
            "type": "choropleth"
           }
          ],
          "contour": [
           {
            "colorbar": {
             "outlinewidth": 0,
             "ticks": ""
            },
            "colorscale": [
             [
              0,
              "#0d0887"
             ],
             [
              0.1111111111111111,
              "#46039f"
             ],
             [
              0.2222222222222222,
              "#7201a8"
             ],
             [
              0.3333333333333333,
              "#9c179e"
             ],
             [
              0.4444444444444444,
              "#bd3786"
             ],
             [
              0.5555555555555556,
              "#d8576b"
             ],
             [
              0.6666666666666666,
              "#ed7953"
             ],
             [
              0.7777777777777778,
              "#fb9f3a"
             ],
             [
              0.8888888888888888,
              "#fdca26"
             ],
             [
              1,
              "#f0f921"
             ]
            ],
            "type": "contour"
           }
          ],
          "contourcarpet": [
           {
            "colorbar": {
             "outlinewidth": 0,
             "ticks": ""
            },
            "type": "contourcarpet"
           }
          ],
          "heatmap": [
           {
            "colorbar": {
             "outlinewidth": 0,
             "ticks": ""
            },
            "colorscale": [
             [
              0,
              "#0d0887"
             ],
             [
              0.1111111111111111,
              "#46039f"
             ],
             [
              0.2222222222222222,
              "#7201a8"
             ],
             [
              0.3333333333333333,
              "#9c179e"
             ],
             [
              0.4444444444444444,
              "#bd3786"
             ],
             [
              0.5555555555555556,
              "#d8576b"
             ],
             [
              0.6666666666666666,
              "#ed7953"
             ],
             [
              0.7777777777777778,
              "#fb9f3a"
             ],
             [
              0.8888888888888888,
              "#fdca26"
             ],
             [
              1,
              "#f0f921"
             ]
            ],
            "type": "heatmap"
           }
          ],
          "heatmapgl": [
           {
            "colorbar": {
             "outlinewidth": 0,
             "ticks": ""
            },
            "colorscale": [
             [
              0,
              "#0d0887"
             ],
             [
              0.1111111111111111,
              "#46039f"
             ],
             [
              0.2222222222222222,
              "#7201a8"
             ],
             [
              0.3333333333333333,
              "#9c179e"
             ],
             [
              0.4444444444444444,
              "#bd3786"
             ],
             [
              0.5555555555555556,
              "#d8576b"
             ],
             [
              0.6666666666666666,
              "#ed7953"
             ],
             [
              0.7777777777777778,
              "#fb9f3a"
             ],
             [
              0.8888888888888888,
              "#fdca26"
             ],
             [
              1,
              "#f0f921"
             ]
            ],
            "type": "heatmapgl"
           }
          ],
          "histogram": [
           {
            "marker": {
             "pattern": {
              "fillmode": "overlay",
              "size": 10,
              "solidity": 0.2
             }
            },
            "type": "histogram"
           }
          ],
          "histogram2d": [
           {
            "colorbar": {
             "outlinewidth": 0,
             "ticks": ""
            },
            "colorscale": [
             [
              0,
              "#0d0887"
             ],
             [
              0.1111111111111111,
              "#46039f"
             ],
             [
              0.2222222222222222,
              "#7201a8"
             ],
             [
              0.3333333333333333,
              "#9c179e"
             ],
             [
              0.4444444444444444,
              "#bd3786"
             ],
             [
              0.5555555555555556,
              "#d8576b"
             ],
             [
              0.6666666666666666,
              "#ed7953"
             ],
             [
              0.7777777777777778,
              "#fb9f3a"
             ],
             [
              0.8888888888888888,
              "#fdca26"
             ],
             [
              1,
              "#f0f921"
             ]
            ],
            "type": "histogram2d"
           }
          ],
          "histogram2dcontour": [
           {
            "colorbar": {
             "outlinewidth": 0,
             "ticks": ""
            },
            "colorscale": [
             [
              0,
              "#0d0887"
             ],
             [
              0.1111111111111111,
              "#46039f"
             ],
             [
              0.2222222222222222,
              "#7201a8"
             ],
             [
              0.3333333333333333,
              "#9c179e"
             ],
             [
              0.4444444444444444,
              "#bd3786"
             ],
             [
              0.5555555555555556,
              "#d8576b"
             ],
             [
              0.6666666666666666,
              "#ed7953"
             ],
             [
              0.7777777777777778,
              "#fb9f3a"
             ],
             [
              0.8888888888888888,
              "#fdca26"
             ],
             [
              1,
              "#f0f921"
             ]
            ],
            "type": "histogram2dcontour"
           }
          ],
          "mesh3d": [
           {
            "colorbar": {
             "outlinewidth": 0,
             "ticks": ""
            },
            "type": "mesh3d"
           }
          ],
          "parcoords": [
           {
            "line": {
             "colorbar": {
              "outlinewidth": 0,
              "ticks": ""
             }
            },
            "type": "parcoords"
           }
          ],
          "pie": [
           {
            "automargin": true,
            "type": "pie"
           }
          ],
          "scatter": [
           {
            "marker": {
             "line": {
              "color": "#283442"
             }
            },
            "type": "scatter"
           }
          ],
          "scatter3d": [
           {
            "line": {
             "colorbar": {
              "outlinewidth": 0,
              "ticks": ""
             }
            },
            "marker": {
             "colorbar": {
              "outlinewidth": 0,
              "ticks": ""
             }
            },
            "type": "scatter3d"
           }
          ],
          "scattercarpet": [
           {
            "marker": {
             "colorbar": {
              "outlinewidth": 0,
              "ticks": ""
             }
            },
            "type": "scattercarpet"
           }
          ],
          "scattergeo": [
           {
            "marker": {
             "colorbar": {
              "outlinewidth": 0,
              "ticks": ""
             }
            },
            "type": "scattergeo"
           }
          ],
          "scattergl": [
           {
            "marker": {
             "line": {
              "color": "#283442"
             }
            },
            "type": "scattergl"
           }
          ],
          "scattermapbox": [
           {
            "marker": {
             "colorbar": {
              "outlinewidth": 0,
              "ticks": ""
             }
            },
            "type": "scattermapbox"
           }
          ],
          "scatterpolar": [
           {
            "marker": {
             "colorbar": {
              "outlinewidth": 0,
              "ticks": ""
             }
            },
            "type": "scatterpolar"
           }
          ],
          "scatterpolargl": [
           {
            "marker": {
             "colorbar": {
              "outlinewidth": 0,
              "ticks": ""
             }
            },
            "type": "scatterpolargl"
           }
          ],
          "scatterternary": [
           {
            "marker": {
             "colorbar": {
              "outlinewidth": 0,
              "ticks": ""
             }
            },
            "type": "scatterternary"
           }
          ],
          "surface": [
           {
            "colorbar": {
             "outlinewidth": 0,
             "ticks": ""
            },
            "colorscale": [
             [
              0,
              "#0d0887"
             ],
             [
              0.1111111111111111,
              "#46039f"
             ],
             [
              0.2222222222222222,
              "#7201a8"
             ],
             [
              0.3333333333333333,
              "#9c179e"
             ],
             [
              0.4444444444444444,
              "#bd3786"
             ],
             [
              0.5555555555555556,
              "#d8576b"
             ],
             [
              0.6666666666666666,
              "#ed7953"
             ],
             [
              0.7777777777777778,
              "#fb9f3a"
             ],
             [
              0.8888888888888888,
              "#fdca26"
             ],
             [
              1,
              "#f0f921"
             ]
            ],
            "type": "surface"
           }
          ],
          "table": [
           {
            "cells": {
             "fill": {
              "color": "#506784"
             },
             "line": {
              "color": "rgb(17,17,17)"
             }
            },
            "header": {
             "fill": {
              "color": "#2a3f5f"
             },
             "line": {
              "color": "rgb(17,17,17)"
             }
            },
            "type": "table"
           }
          ]
         },
         "layout": {
          "annotationdefaults": {
           "arrowcolor": "#f2f5fa",
           "arrowhead": 0,
           "arrowwidth": 1
          },
          "autotypenumbers": "strict",
          "coloraxis": {
           "colorbar": {
            "outlinewidth": 0,
            "ticks": ""
           }
          },
          "colorscale": {
           "diverging": [
            [
             0,
             "#8e0152"
            ],
            [
             0.1,
             "#c51b7d"
            ],
            [
             0.2,
             "#de77ae"
            ],
            [
             0.3,
             "#f1b6da"
            ],
            [
             0.4,
             "#fde0ef"
            ],
            [
             0.5,
             "#f7f7f7"
            ],
            [
             0.6,
             "#e6f5d0"
            ],
            [
             0.7,
             "#b8e186"
            ],
            [
             0.8,
             "#7fbc41"
            ],
            [
             0.9,
             "#4d9221"
            ],
            [
             1,
             "#276419"
            ]
           ],
           "sequential": [
            [
             0,
             "#0d0887"
            ],
            [
             0.1111111111111111,
             "#46039f"
            ],
            [
             0.2222222222222222,
             "#7201a8"
            ],
            [
             0.3333333333333333,
             "#9c179e"
            ],
            [
             0.4444444444444444,
             "#bd3786"
            ],
            [
             0.5555555555555556,
             "#d8576b"
            ],
            [
             0.6666666666666666,
             "#ed7953"
            ],
            [
             0.7777777777777778,
             "#fb9f3a"
            ],
            [
             0.8888888888888888,
             "#fdca26"
            ],
            [
             1,
             "#f0f921"
            ]
           ],
           "sequentialminus": [
            [
             0,
             "#0d0887"
            ],
            [
             0.1111111111111111,
             "#46039f"
            ],
            [
             0.2222222222222222,
             "#7201a8"
            ],
            [
             0.3333333333333333,
             "#9c179e"
            ],
            [
             0.4444444444444444,
             "#bd3786"
            ],
            [
             0.5555555555555556,
             "#d8576b"
            ],
            [
             0.6666666666666666,
             "#ed7953"
            ],
            [
             0.7777777777777778,
             "#fb9f3a"
            ],
            [
             0.8888888888888888,
             "#fdca26"
            ],
            [
             1,
             "#f0f921"
            ]
           ]
          },
          "colorway": [
           "#636efa",
           "#EF553B",
           "#00cc96",
           "#ab63fa",
           "#FFA15A",
           "#19d3f3",
           "#FF6692",
           "#B6E880",
           "#FF97FF",
           "#FECB52"
          ],
          "font": {
           "color": "#f2f5fa"
          },
          "geo": {
           "bgcolor": "rgb(17,17,17)",
           "lakecolor": "rgb(17,17,17)",
           "landcolor": "rgb(17,17,17)",
           "showlakes": true,
           "showland": true,
           "subunitcolor": "#506784"
          },
          "hoverlabel": {
           "align": "left"
          },
          "hovermode": "closest",
          "mapbox": {
           "style": "dark"
          },
          "paper_bgcolor": "rgb(17,17,17)",
          "plot_bgcolor": "rgb(17,17,17)",
          "polar": {
           "angularaxis": {
            "gridcolor": "#506784",
            "linecolor": "#506784",
            "ticks": ""
           },
           "bgcolor": "rgb(17,17,17)",
           "radialaxis": {
            "gridcolor": "#506784",
            "linecolor": "#506784",
            "ticks": ""
           }
          },
          "scene": {
           "xaxis": {
            "backgroundcolor": "rgb(17,17,17)",
            "gridcolor": "#506784",
            "gridwidth": 2,
            "linecolor": "#506784",
            "showbackground": true,
            "ticks": "",
            "zerolinecolor": "#C8D4E3"
           },
           "yaxis": {
            "backgroundcolor": "rgb(17,17,17)",
            "gridcolor": "#506784",
            "gridwidth": 2,
            "linecolor": "#506784",
            "showbackground": true,
            "ticks": "",
            "zerolinecolor": "#C8D4E3"
           },
           "zaxis": {
            "backgroundcolor": "rgb(17,17,17)",
            "gridcolor": "#506784",
            "gridwidth": 2,
            "linecolor": "#506784",
            "showbackground": true,
            "ticks": "",
            "zerolinecolor": "#C8D4E3"
           }
          },
          "shapedefaults": {
           "line": {
            "color": "#f2f5fa"
           }
          },
          "sliderdefaults": {
           "bgcolor": "#C8D4E3",
           "bordercolor": "rgb(17,17,17)",
           "borderwidth": 1,
           "tickwidth": 0
          },
          "ternary": {
           "aaxis": {
            "gridcolor": "#506784",
            "linecolor": "#506784",
            "ticks": ""
           },
           "baxis": {
            "gridcolor": "#506784",
            "linecolor": "#506784",
            "ticks": ""
           },
           "bgcolor": "rgb(17,17,17)",
           "caxis": {
            "gridcolor": "#506784",
            "linecolor": "#506784",
            "ticks": ""
           }
          },
          "title": {
           "x": 0.05
          },
          "updatemenudefaults": {
           "bgcolor": "#506784",
           "borderwidth": 0
          },
          "xaxis": {
           "automargin": true,
           "gridcolor": "#283442",
           "linecolor": "#506784",
           "ticks": "",
           "title": {
            "standoff": 15
           },
           "zerolinecolor": "#283442",
           "zerolinewidth": 2
          },
          "yaxis": {
           "automargin": true,
           "gridcolor": "#283442",
           "linecolor": "#506784",
           "ticks": "",
           "title": {
            "standoff": 15
           },
           "zerolinecolor": "#283442",
           "zerolinewidth": 2
          }
         }
        },
        "width": 1200,
        "xaxis": {
         "rangeslider": {
          "visible": false
         }
        },
        "yaxis": {
         "tickformat": ".2%"
        }
       }
      }
     },
     "metadata": {},
     "output_type": "display_data"
    }
   ],
   "source": [
    "candlestick(df_btc, 100, comparison = df_sol)"
   ]
  },
  {
   "cell_type": "code",
   "execution_count": 222,
   "metadata": {},
   "outputs": [
    {
     "data": {
      "application/vnd.plotly.v1+json": {
       "config": {
        "plotlyServerURL": "https://plot.ly"
       },
       "data": [
        {
         "close": [
          null,
          -0.001111462077505676,
          0.009228086961576842,
          0.04668769779745485,
          -0.013759752216496501,
          -0.07788223029977337,
          -0.012507647384577658,
          0.0022777282826873524,
          -0.04214073972532317,
          -0.03528620868790788,
          0.03265642371222732,
          -0.025843815613622922,
          0.027778400368163814,
          0.022998939789759643,
          -0.002781397053842838,
          -0.03568234201898368,
          0.1454118392886461,
          0.026888524570001016,
          -0.009706302725009275,
          -0.03351981142193561,
          -0.07806935036049167,
          0.00671938064683042,
          -0.024887994408395286,
          -0.009316643885282638,
          0.017740259990833174,
          0.08378639716414904,
          -0.060630954045771346,
          -0.016291319622939393,
          0.002810649293818468,
          -0.027101257933814904,
          0.0480080837903738,
          -0.008268101563720931,
          0.04588714481344902,
          -0.00467993171076464,
          0.020750884742987363,
          0.009317830622209256,
          -0.022346848712323064,
          -0.004117262624553253,
          0.031180014163224357,
          0.012610091153007819,
          0.024898646221148013,
          0.008821397620525806,
          0.003429583093865096,
          0.052126312256127294,
          0.0065678873583499,
          0.0071661546110000085,
          -0.008491735032190584,
          -0.03238210822970233,
          0.016315115388267687,
          -0.008917040798352427,
          0.012745379989237415,
          0.003640395949819908,
          -0.02287907280900814,
          -0.05156849392240015,
          0.006876459247305178,
          -0.02795577079433975,
          0.011693070951357853,
          -0.013427680050824398,
          -0.06363225953812457,
          0.015315083892861292,
          0.025906300465151855,
          -0.029908006531745968,
          0.015473675726454417,
          -0.0031805042860567623,
          -0.017502542356175654,
          0.027929174608607443,
          0.016571096753378534,
          -0.003093074404708074,
          -0.020471984048854197,
          -0.019420038833716236,
          -0.0063811726165236005,
          -0.0004416040475622163,
          0.025057850055308917,
          -0.057858267871623625,
          0.029478882606909007,
          0.013575224570606004,
          -0.02926557389929385,
          -0.023179313474195662,
          0.019997911964443782,
          0.001565786170879102,
          -0.020215120218891713,
          0.051599856624237495,
          -0.07867402068901796,
          -0.014606061408683924,
          -0.014954355270636377,
          -0.040636848764922684,
          -0.11046369999353145,
          0.02396125848050934,
          -0.06725839173272163,
          0.003849706798608521,
          0.008102229834508146,
          0.027939733537411415,
          0.03999325713567892,
          -0.046069001557128786,
          0.018850785235190015,
          -0.05605711989808215,
          0.05550304428240649,
          -0.036734890846488066
         ],
         "high": [
          null,
          -0.006966232249718374,
          0.001937613901265678,
          0.04421758115697605,
          -0.0019912009016679333,
          -0.00998927536087113,
          -0.07259470911815602,
          -0.0124672368783596,
          -0.007397243301663359,
          -0.018082131174803062,
          -0.026262134882621413,
          0.019878569749075536,
          -0.0039249818253671576,
          0.016974700238762575,
          0.009463042377093833,
          -0.005659399636903983,
          0.10009104024006099,
          0.02360908914895976,
          0.0063396680015508355,
          -0.02342628073477493,
          -0.03502747764679326,
          -0.06858059946218686,
          0.001866229005047071,
          -0.0052963745647491844,
          -0.0031900693253846812,
          0.08042934476731478,
          -0.010854539493848514,
          -0.04578167821515622,
          -0.01928766551894523,
          -0.002524793548167148,
          0.013597481627569241,
          0.0013116665094043967,
          0.0419861741313432,
          -0.004290751826916184,
          0.021997218629373982,
          0.0028630514905836346,
          -0.0017815870303418135,
          -0.018625289423509273,
          0.04029238068288299,
          -0.00536117772539213,
          0.0288702817606612,
          0.019660100612909348,
          -0.005855534828083986,
          0.04675319572334735,
          0.026892057059096253,
          -0.001342298234882744,
          -0.007645212924402123,
          -0.003003266141069827,
          -0.01885386093439001,
          0.008838959194580553,
          0.0060643362870080875,
          -0.011040970917872373,
          0.006733136208240786,
          -0.033154598010543324,
          -0.036967396566962796,
          0.000964880023661463,
          -0.025424290559456608,
          0.013779069103956099,
          -0.02194256612699541,
          -0.0425933147003944,
          0.02000288129506722,
          0.0005171555145560003,
          -0.020114065965112227,
          0.00039285883615503003,
          -0.0015492843740501083,
          0.010243685169398331,
          0.016752921944802823,
          0.010878512914642924,
          0.01821382926510151,
          -0.04932729136980263,
          -0.020646020837416512,
          -0.0022519508821763345,
          0.01620813451657588,
          0.005485974237231295,
          -0.03232244907201132,
          0.022121648044734377,
          -0.009490945906109216,
          -0.027980320710486728,
          -0.003697371297767482,
          0.011574891502773133,
          -0.01138776388699092,
          0.032952452853236336,
          -0.0028486107161369567,
          -0.07954207202473651,
          -0.013500129481787027,
          -0.017353602628361386,
          -0.036077776566268205,
          -0.04750634384719021,
          -0.01788258472039883,
          -0.061879173895796336,
          0.02971331325391713,
          -0.023670320754749175,
          0.03694220379895752,
          -0.0000910180130824223,
          -0.0195126942380478,
          -0.002468633195124359,
          -0.006138887040791463,
          0.007696970805578296
         ],
         "hoverinfo": "text",
         "low": [
          null,
          0.00235032586014583,
          -0.006411879352007266,
          0.01941075186065322,
          0.02272611731978391,
          -0.07380498166592409,
          -0.015199092299481798,
          0.0019032780374546032,
          -0.04029521145978532,
          -0.030497249120620573,
          -0.012490852938508712,
          0.01953695935422206,
          -0.07372214373353114,
          0.10598397562335915,
          0.015512216261070577,
          -0.03704043127827239,
          0.006687553677038327,
          0.14484620647283508,
          0.01118129710976734,
          -0.03495284117634889,
          -0.07417203594796584,
          -0.0007424783052086825,
          -0.014580452488742512,
          -0.024899352721100443,
          0.018711212910222264,
          0.019724936197468956,
          0.0032772011835990877,
          -0.012502473284752513,
          0.011085528356434393,
          -0.026936351228806554,
          -0.0012566257057972097,
          0.01670552798242797,
          0.01858869218735948,
          0.04204061354666466,
          -0.008864909106366725,
          0.0322628325276082,
          -0.014371918567797737,
          -0.008211604255527472,
          0.006890872065453024,
          0.022692687803593792,
          0.020265204266684878,
          0.022939599546457634,
          0.01052453393386199,
          0.006136345907324925,
          0.05069863634209959,
          0.008786305210575218,
          -0.007520663953493045,
          -0.02900067936655959,
          -0.021753397467706104,
          0.031064719169287436,
          -0.0032415488890537025,
          -0.008727881447632369,
          0.00683069770920075,
          -0.05161632118644144,
          -0.006807593510810395,
          -0.016704399849358675,
          -8.334165206846933e-7,
          -0.003841497750745826,
          -0.06301933296515361,
          0.000387816740567537,
          0.008236398552394775,
          -0.00042807414928869303,
          0.004309931273138057,
          0.005307513519863916,
          -0.011415898730584573,
          -0.023338774551661445,
          0.04968037774227829,
          0.008431225278577426,
          -0.02190540738873703,
          -0.01868044546105141,
          0.0009356419987507358,
          -0.0030154363180905364,
          -0.02281619699981663,
          -0.011826126826037675,
          0.0029649774667486195,
          0.024846740805682055,
          -0.018126886096143657,
          -0.01406005559496204,
          -0.002975025679556209,
          0.015185884126335258,
          -0.014963124790132731,
          0.0038961043010234953,
          -0.0497068815922137,
          -0.010441137572189896,
          -0.015255807665521814,
          -0.03039022114510348,
          -0.10572966840251052,
          -0.011623293905895005,
          -0.059255313438351664,
          -0.06460408512587867,
          0.09228822014770688,
          -0.0027593291321247326,
          0.028736810087718334,
          -0.009342247884884247,
          0.010885382986472791,
          -0.028746112531741308,
          -0.0003940215626497823,
          0.00294857093874179
         ],
         "open": [
          null,
          -0.004143476580211636,
          -0.0018743940496612765,
          0.010177724958197132,
          0.04677102237314057,
          -0.014383844990365047,
          -0.07704058272262615,
          -0.01297365486132529,
          0.0023004564803641436,
          -0.04224752814784938,
          -0.03525060434051597,
          0.03281769894531972,
          -0.02629508810908887,
          0.028305264639229666,
          0.02293895137066637,
          -0.002916955428518553,
          -0.035620090861798404,
          0.14556049186469,
          0.026927344362478012,
          -0.009748537058971163,
          -0.033398933734109404,
          -0.07795186877074889,
          0.006532825823340804,
          -0.02474087915955181,
          -0.009612516977705154,
          0.017943137539661702,
          0.0834026590211634,
          -0.060373024194066205,
          -0.0163667448709629,
          0.002326664876382223,
          -0.026704833698160346,
          0.048034624406664506,
          -0.008286547394694255,
          0.04589417219981984,
          -0.004764216977197977,
          0.020754961968173946,
          0.009493029067903613,
          -0.022404406999351867,
          -0.004170750856377636,
          0.03141330584744351,
          0.01232812685996798,
          0.025133566560764375,
          0.008764164022786902,
          0.003506123715865783,
          0.052049827921867964,
          0.005949912876216157,
          0.007568102472508942,
          -0.008318074147215526,
          -0.03204240403522274,
          0.01605420607645458,
          -0.009211763808320117,
          0.012781414414745118,
          0.0038590444567236926,
          -0.02316705085861326,
          -0.051309442074625955,
          0.006888542932361297,
          -0.028112969777724706,
          0.011801967662865342,
          -0.01355857888072809,
          -0.06320517878243892,
          0.014920314751125652,
          0.025836395650390198,
          -0.029660104910156693,
          0.015346100004821839,
          -0.0033176665212462098,
          -0.017234352419374543,
          0.027868558078828265,
          0.01649768326924206,
          -0.0031379515564433635,
          -0.020440448723589633,
          -0.01942316736196914,
          -0.006551485272993651,
          -0.00014614409154378727,
          0.02472135788002494,
          -0.057557773228946285,
          0.02941028489474684,
          0.013434462102891453,
          -0.02923807501321607,
          -0.02312068075806173,
          0.020123472799897568,
          0.00145356629383242,
          -0.02024749381437818,
          0.05159833025145888,
          -0.07866239603169067,
          -0.014510076382595494,
          -0.014970172477568489,
          -0.040642429164925,
          -0.11116733972798931,
          0.024527243708125646,
          -0.06704400663816756,
          0.0032545407518882463,
          0.008774524136652362,
          0.027759109509252422,
          0.0400613193258923,
          -0.04606278824844767,
          0.01882200218672181,
          -0.05601144945672021,
          0.05538787815481494
         ],
         "text": [
          "Open: 42412.3<br>% change:nan<br>High: 42992.55<br>% change:nan<br>Low: 41852.57<br>% change:nan<br>Close: 42244.47<br>% change:nan",
          "Open: 42236.57<br>% change:-0.004<br>High: 42693.05<br>% change:-0.007<br>Low: 41950.94<br>% change:0.002<br>Close: 42197.52<br>% change:-0.001",
          "Open: 42157.4<br>% change:-0.002<br>High: 42775.78<br>% change:0.002<br>Low: 41681.96<br>% change:-0.006<br>Close: 42586.92<br>% change:0.009",
          "Open: 42586.46<br>% change:0.01<br>High: 44667.22<br>% change:0.044<br>Low: 42491.04<br>% change:0.019<br>Close: 44575.2<br>% change:0.047",
          "Open: 44578.28<br>% change:0.047<br>High: 44578.28<br>% change:-0.002<br>Low: 43456.69<br>% change:0.023<br>Close: 43961.86<br>% change:-0.014",
          "Open: 43937.07<br>% change:-0.014<br>High: 44132.97<br>% change:-0.01<br>Low: 40249.37<br>% change:-0.074<br>Close: 40538.01<br>% change:-0.078",
          "Open: 40552.13<br>% change:-0.077<br>High: 40929.15<br>% change:-0.073<br>Low: 39637.62<br>% change:-0.015<br>Close: 40030.98<br>% change:-0.013",
          "Open: 40026.02<br>% change:-0.013<br>High: 40418.88<br>% change:-0.012<br>Low: 39713.06<br>% change:0.002<br>Close: 40122.16<br>% change:0.002",
          "Open: 40118.1<br>% change:0.002<br>High: 40119.89<br>% change:-0.007<br>Low: 38112.81<br>% change:-0.04<br>Close: 38431.38<br>% change:-0.042",
          "Open: 38423.21<br>% change:-0.042<br>High: 39394.44<br>% change:-0.018<br>Low: 36950.48<br>% change:-0.03<br>Close: 37075.28<br>% change:-0.035",
          "Open: 37068.77<br>% change:-0.035<br>High: 38359.86<br>% change:-0.026<br>Low: 36488.93<br>% change:-0.012<br>Close: 38286.03<br>% change:0.033",
          "Open: 38285.28<br>% change:0.033<br>High: 39122.39<br>% change:0.02<br>Low: 37201.82<br>% change:0.02<br>Close: 37296.57<br>% change:-0.026",
          "Open: 37278.57<br>% change:-0.026<br>High: 38968.84<br>% change:-0.004<br>Low: 34459.22<br>% change:-0.074<br>Close: 38332.61<br>% change:0.028",
          "Open: 38333.75<br>% change:0.028<br>High: 39630.32<br>% change:0.017<br>Low: 38111.34<br>% change:0.106<br>Close: 39214.22<br>% change:0.023",
          "Open: 39213.08<br>% change:0.023<br>High: 40005.35<br>% change:0.009<br>Low: 38702.54<br>% change:0.016<br>Close: 39105.15<br>% change:-0.003",
          "Open: 39098.7<br>% change:-0.003<br>High: 39778.94<br>% change:-0.006<br>Low: 37268.98<br>% change:-0.037<br>Close: 37709.79<br>% change:-0.036",
          "Open: 37706.0<br>% change:-0.036<br>High: 43760.46<br>% change:0.1<br>Low: 37518.21<br>% change:0.007<br>Close: 43193.23<br>% change:0.145",
          "Open: 43194.5<br>% change:0.146<br>High: 44793.6<br>% change:0.024<br>Low: 42952.59<br>% change:0.145<br>Close: 44354.64<br>% change:0.027",
          "Open: 44357.62<br>% change:0.027<br>High: 45077.58<br>% change:0.006<br>Low: 43432.85<br>% change:0.011<br>Close: 43924.12<br>% change:-0.01",
          "Open: 43925.2<br>% change:-0.01<br>High: 44021.58<br>% change:-0.023<br>Low: 41914.75<br>% change:-0.035<br>Close: 42451.79<br>% change:-0.034",
          "Open: 42458.14<br>% change:-0.033<br>High: 42479.61<br>% change:-0.035<br>Low: 38805.85<br>% change:-0.074<br>Close: 39137.61<br>% change:-0.078",
          "Open: 39148.45<br>% change:-0.078<br>High: 39566.34<br>% change:-0.069<br>Low: 38777.04<br>% change:-0.001<br>Close: 39400.59<br>% change:0.007",
          "Open: 39404.2<br>% change:0.007<br>High: 39640.18<br>% change:0.002<br>Low: 38211.65<br>% change:-0.015<br>Close: 38419.98<br>% change:-0.025",
          "Open: 38429.3<br>% change:-0.025<br>High: 39430.23<br>% change:-0.005<br>Low: 37260.2<br>% change:-0.025<br>Close: 38062.04<br>% change:-0.009",
          "Open: 38059.9<br>% change:-0.01<br>High: 39304.44<br>% change:-0.003<br>Low: 37957.39<br>% change:0.019<br>Close: 38737.27<br>% change:0.018",
          "Open: 38742.82<br>% change:0.018<br>High: 42465.67<br>% change:0.08<br>Low: 38706.09<br>% change:0.02<br>Close: 41982.93<br>% change:0.084",
          "Open: 41974.07<br>% change:0.083<br>High: 42004.73<br>% change:-0.011<br>Low: 38832.94<br>% change:0.003<br>Close: 39437.46<br>% change:-0.061",
          "Open: 39439.97<br>% change:-0.06<br>High: 40081.68<br>% change:-0.046<br>Low: 38347.43<br>% change:-0.013<br>Close: 38794.97<br>% change:-0.016",
          "Open: 38794.46<br>% change:-0.016<br>High: 39308.6<br>% change:-0.019<br>Low: 38772.54<br>% change:0.011<br>Close: 38904.01<br>% change:0.003",
          "Open: 38884.73<br>% change:0.002<br>High: 39209.35<br>% change:-0.003<br>Low: 37728.14<br>% change:-0.027<br>Close: 37849.66<br>% change:-0.027",
          "Open: 37846.32<br>% change:-0.027<br>High: 39742.5<br>% change:0.014<br>Low: 37680.73<br>% change:-0.001<br>Close: 39666.75<br>% change:0.048",
          "Open: 39664.25<br>% change:0.048<br>High: 39794.63<br>% change:0.001<br>Low: 38310.21<br>% change:0.017<br>Close: 39338.79<br>% change:-0.008",
          "Open: 39335.57<br>% change:-0.008<br>High: 41465.45<br>% change:0.042<br>Low: 39022.35<br>% change:0.019<br>Close: 41143.93<br>% change:0.046",
          "Open: 41140.84<br>% change:0.046<br>High: 41287.54<br>% change:-0.004<br>Low: 40662.87<br>% change:0.042<br>Close: 40951.38<br>% change:-0.005",
          "Open: 40944.84<br>% change:-0.005<br>High: 42195.75<br>% change:0.022<br>Low: 40302.4<br>% change:-0.009<br>Close: 41801.16<br>% change:0.021",
          "Open: 41794.65<br>% change:0.021<br>High: 42316.55<br>% change:0.003<br>Low: 41602.67<br>% change:0.032<br>Close: 42190.65<br>% change:0.009",
          "Open: 42191.41<br>% change:0.009<br>High: 42241.16<br>% change:-0.002<br>Low: 41004.76<br>% change:-0.014<br>Close: 41247.82<br>% change:-0.022",
          "Open: 41246.13<br>% change:-0.022<br>High: 41454.41<br>% change:-0.019<br>Low: 40668.04<br>% change:-0.008<br>Close: 41078.0<br>% change:-0.004",
          "Open: 41074.11<br>% change:-0.004<br>High: 43124.71<br>% change:0.04<br>Low: 40948.28<br>% change:0.007<br>Close: 42358.81<br>% change:0.031",
          "Open: 42364.38<br>% change:0.031<br>High: 42893.51<br>% change:-0.005<br>Low: 41877.51<br>% change:0.023<br>Close: 42892.96<br>% change:0.013",
          "Open: 42886.65<br>% change:0.012<br>High: 44131.86<br>% change:0.029<br>Low: 42726.16<br>% change:0.02<br>Close: 43960.93<br>% change:0.025",
          "Open: 43964.55<br>% change:0.025<br>High: 44999.49<br>% change:0.02<br>Low: 43706.29<br>% change:0.023<br>Close: 44348.73<br>% change:0.009",
          "Open: 44349.86<br>% change:0.009<br>High: 44736.0<br>% change:-0.006<br>Low: 44166.27<br>% change:0.011<br>Close: 44500.83<br>% change:0.003",
          "Open: 44505.36<br>% change:0.004<br>High: 46827.55<br>% change:0.047<br>Low: 44437.29<br>% change:0.006<br>Close: 46820.49<br>% change:0.052",
          "Open: 46821.85<br>% change:0.052<br>High: 48086.84<br>% change:0.027<br>Low: 46690.2<br>% change:0.051<br>Close: 47128.0<br>% change:0.007",
          "Open: 47100.44<br>% change:0.006<br>High: 48022.29<br>% change:-0.001<br>Low: 47100.44<br>% change:0.009<br>Close: 47465.73<br>% change:0.007",
          "Open: 47456.9<br>% change:0.008<br>High: 47655.15<br>% change:-0.008<br>Low: 46746.21<br>% change:-0.008<br>Close: 47062.66<br>% change:-0.008",
          "Open: 47062.15<br>% change:-0.008<br>High: 47512.03<br>% change:-0.003<br>Low: 45390.54<br>% change:-0.029<br>Close: 45538.68<br>% change:-0.032",
          "Open: 45554.16<br>% change:-0.032<br>High: 46616.24<br>% change:-0.019<br>Low: 44403.14<br>% change:-0.022<br>Close: 46281.64<br>% change:0.016",
          "Open: 46285.5<br>% change:0.016<br>High: 47028.28<br>% change:0.009<br>Low: 45782.51<br>% change:0.031<br>Close: 45868.95<br>% change:-0.009",
          "Open: 45859.13<br>% change:-0.009<br>High: 47313.48<br>% change:0.006<br>Low: 45634.11<br>% change:-0.003<br>Close: 46453.57<br>% change:0.013",
          "Open: 46445.27<br>% change:0.013<br>High: 46791.09<br>% change:-0.011<br>Low: 45235.82<br>% change:-0.009<br>Close: 46622.68<br>% change:0.004",
          "Open: 46624.51<br>% change:0.004<br>High: 47106.14<br>% change:0.007<br>Low: 45544.81<br>% change:0.007<br>Close: 45555.99<br>% change:-0.023",
          "Open: 45544.36<br>% change:-0.023<br>High: 45544.36<br>% change:-0.033<br>Low: 43193.95<br>% change:-0.052<br>Close: 43206.74<br>% change:-0.052",
          "Open: 43207.5<br>% change:-0.051<br>High: 43860.7<br>% change:-0.037<br>Low: 42899.91<br>% change:-0.007<br>Close: 43503.85<br>% change:0.007",
          "Open: 43505.14<br>% change:0.007<br>High: 43903.02<br>% change:0.001<br>Low: 42183.29<br>% change:-0.017<br>Close: 42287.66<br>% change:-0.028",
          "Open: 42282.08<br>% change:-0.028<br>High: 42786.82<br>% change:-0.025<br>Low: 42183.25<br>% change:-0.0<br>Close: 42782.14<br>% change:0.012",
          "Open: 42781.09<br>% change:0.012<br>High: 43376.38<br>% change:0.014<br>Low: 42021.21<br>% change:-0.004<br>Close: 42207.67<br>% change:-0.013",
          "Open: 42201.04<br>% change:-0.014<br>High: 42424.59<br>% change:-0.022<br>Low: 39373.06<br>% change:-0.063<br>Close: 39521.9<br>% change:-0.064",
          "Open: 39533.71<br>% change:-0.063<br>High: 40617.59<br>% change:-0.043<br>Low: 39388.33<br>% change:0.0<br>Close: 40127.18<br>% change:0.015",
          "Open: 40123.57<br>% change:0.015<br>High: 41430.05<br>% change:0.02<br>Low: 39712.75<br>% change:0.008<br>Close: 41166.73<br>% change:0.026",
          "Open: 41160.22<br>% change:0.026<br>High: 41451.48<br>% change:0.001<br>Low: 39695.75<br>% change:-0.0<br>Close: 39935.52<br>% change:-0.03",
          "Open: 39939.4<br>% change:-0.03<br>High: 40617.72<br>% change:-0.02<br>Low: 39866.83<br>% change:0.004<br>Close: 40553.46<br>% change:0.015",
          "Open: 40552.32<br>% change:0.015<br>High: 40633.68<br>% change:0.0<br>Low: 40078.43<br>% change:0.005<br>Close: 40424.48<br>% change:-0.003",
          "Open: 40417.78<br>% change:-0.003<br>High: 40570.73<br>% change:-0.002<br>Low: 39620.89<br>% change:-0.011<br>Close: 39716.95<br>% change:-0.018",
          "Open: 39721.2<br>% change:-0.017<br>High: 40986.32<br>% change:0.01<br>Low: 38696.19<br>% change:-0.023<br>Close: 40826.21<br>% change:0.028",
          "Open: 40828.18<br>% change:0.028<br>High: 41672.96<br>% change:0.017<br>Low: 40618.63<br>% change:0.05<br>Close: 41502.75<br>% change:0.017",
          "Open: 41501.75<br>% change:0.016<br>High: 42126.3<br>% change:0.011<br>Low: 40961.1<br>% change:0.008<br>Close: 41374.38<br>% change:-0.003",
          "Open: 41371.52<br>% change:-0.003<br>High: 42893.58<br>% change:0.018<br>Low: 40063.83<br>% change:-0.022<br>Close: 40527.36<br>% change:-0.02",
          "Open: 40525.86<br>% change:-0.02<br>High: 40777.76<br>% change:-0.049<br>Low: 39315.42<br>% change:-0.019<br>Close: 39740.32<br>% change:-0.019",
          "Open: 39738.72<br>% change:-0.019<br>High: 39935.86<br>% change:-0.021<br>Low: 39352.2<br>% change:0.001<br>Close: 39486.73<br>% change:-0.006",
          "Open: 39478.38<br>% change:-0.007<br>High: 39845.93<br>% change:-0.002<br>Low: 39233.54<br>% change:-0.003<br>Close: 39469.29<br>% change:-0.0",
          "Open: 39472.61<br>% change:-0.0<br>High: 40491.75<br>% change:0.016<br>Low: 38338.38<br>% change:-0.023<br>Close: 40458.31<br>% change:0.025",
          "Open: 40448.42<br>% change:0.025<br>High: 40713.89<br>% change:0.005<br>Low: 37884.98<br>% change:-0.012<br>Close: 38117.46<br>% change:-0.058",
          "Open: 38120.3<br>% change:-0.058<br>High: 39397.92<br>% change:-0.032<br>Low: 37997.31<br>% change:0.003<br>Close: 39241.12<br>% change:0.029",
          "Open: 39241.43<br>% change:0.029<br>High: 40269.46<br>% change:0.022<br>Low: 38941.42<br>% change:0.025<br>Close: 39773.83<br>% change:0.014",
          "Open: 39768.62<br>% change:0.013<br>High: 39887.27<br>% change:-0.009<br>Low: 38235.54<br>% change:-0.018<br>Close: 38609.82<br>% change:-0.029",
          "Open: 38605.86<br>% change:-0.029<br>High: 38771.21<br>% change:-0.028<br>Low: 37697.94<br>% change:-0.014<br>Close: 37714.88<br>% change:-0.023",
          "Open: 37713.27<br>% change:-0.023<br>High: 38627.86<br>% change:-0.004<br>Low: 37585.79<br>% change:-0.003<br>Close: 38469.09<br>% change:0.02",
          "Open: 38472.19<br>% change:0.02<br>High: 39074.97<br>% change:0.012<br>Low: 38156.56<br>% change:0.015<br>Close: 38529.33<br>% change:0.002",
          "Open: 38528.11<br>% change:0.001<br>High: 38630.0<br>% change:-0.011<br>Low: 37585.62<br>% change:-0.015<br>Close: 37750.45<br>% change:-0.02",
          "Open: 37748.01<br>% change:-0.02<br>High: 39902.95<br>% change:0.033<br>Low: 37732.06<br>% change:0.004<br>Close: 39698.37<br>% change:0.052",
          "Open: 39695.75<br>% change:0.052<br>High: 39789.28<br>% change:-0.003<br>Low: 35856.52<br>% change:-0.05<br>Close: 36575.14<br>% change:-0.079",
          "Open: 36573.18<br>% change:-0.079<br>High: 36624.36<br>% change:-0.08<br>Low: 35482.13<br>% change:-0.01<br>Close: 36040.92<br>% change:-0.015",
          "Open: 36042.5<br>% change:-0.015<br>High: 36129.93<br>% change:-0.014<br>Low: 34940.82<br>% change:-0.015<br>Close: 35501.95<br>% change:-0.015",
          "Open: 35502.94<br>% change:-0.015<br>High: 35502.94<br>% change:-0.017<br>Low: 33878.96<br>% change:-0.03<br>Close: 34059.27<br>% change:-0.041",
          "Open: 34060.02<br>% change:-0.041<br>High: 34222.07<br>% change:-0.036<br>Low: 30296.95<br>% change:-0.106<br>Close: 30296.95<br>% change:-0.11",
          "Open: 30273.65<br>% change:-0.111<br>High: 32596.31<br>% change:-0.048<br>Low: 29944.8<br>% change:-0.012<br>Close: 31022.91<br>% change:0.024",
          "Open: 31016.18<br>% change:0.025<br>High: 32013.4<br>% change:-0.018<br>Low: 28170.41<br>% change:-0.059<br>Close: 28936.36<br>% change:-0.067",
          "Open: 28936.73<br>% change:-0.067<br>High: 30032.44<br>% change:-0.062<br>Low: 26350.49<br>% change:-0.065<br>Close: 29047.75<br>% change:0.004",
          "Open: 29030.91<br>% change:0.003<br>High: 30924.8<br>% change:0.03<br>Low: 28782.33<br>% change:0.092<br>Close: 29283.1<br>% change:0.008",
          "Open: 29285.64<br>% change:0.009<br>High: 30192.8<br>% change:-0.024<br>Low: 28702.91<br>% change:-0.003<br>Close: 30101.27<br>% change:0.028",
          "Open: 30098.59<br>% change:0.028<br>High: 31308.19<br>% change:0.037<br>Low: 29527.74<br>% change:0.029<br>Close: 31305.11<br>% change:0.04",
          "Open: 31304.38<br>% change:0.04<br>High: 31305.34<br>% change:-0.0<br>Low: 29251.88<br>% change:-0.009<br>Close: 29862.92<br>% change:-0.046",
          "Open: 29862.41<br>% change:-0.046<br>High: 30694.49<br>% change:-0.02<br>Low: 29570.3<br>% change:0.011<br>Close: 30425.86<br>% change:0.019",
          "Open: 30424.48<br>% change:0.019<br>High: 30618.72<br>% change:-0.002<br>Low: 28720.27<br>% change:-0.029<br>Close: 28720.27<br>% change:-0.056",
          "Open: 28720.36<br>% change:-0.056<br>High: 30430.75<br>% change:-0.006<br>Low: 28708.96<br>% change:-0.0<br>Close: 30314.33<br>% change:0.056",
          "Open: 30311.12<br>% change:0.055<br>High: 30664.98<br>% change:0.008<br>Low: 28793.61<br>% change:0.003<br>Close: 29200.74<br>% change:-0.037"
         ],
         "type": "candlestick",
         "x": [
          "2022-02-12T00:00:00",
          "2022-02-13T00:00:00",
          "2022-02-14T00:00:00",
          "2022-02-15T00:00:00",
          "2022-02-16T00:00:00",
          "2022-02-17T00:00:00",
          "2022-02-18T00:00:00",
          "2022-02-19T00:00:00",
          "2022-02-20T00:00:00",
          "2022-02-21T00:00:00",
          "2022-02-22T00:00:00",
          "2022-02-23T00:00:00",
          "2022-02-24T00:00:00",
          "2022-02-25T00:00:00",
          "2022-02-26T00:00:00",
          "2022-02-27T00:00:00",
          "2022-02-28T00:00:00",
          "2022-03-01T00:00:00",
          "2022-03-02T00:00:00",
          "2022-03-03T00:00:00",
          "2022-03-04T00:00:00",
          "2022-03-05T00:00:00",
          "2022-03-06T00:00:00",
          "2022-03-07T00:00:00",
          "2022-03-08T00:00:00",
          "2022-03-09T00:00:00",
          "2022-03-10T00:00:00",
          "2022-03-11T00:00:00",
          "2022-03-12T00:00:00",
          "2022-03-13T00:00:00",
          "2022-03-14T00:00:00",
          "2022-03-15T00:00:00",
          "2022-03-16T00:00:00",
          "2022-03-17T00:00:00",
          "2022-03-18T00:00:00",
          "2022-03-19T00:00:00",
          "2022-03-20T00:00:00",
          "2022-03-21T00:00:00",
          "2022-03-22T00:00:00",
          "2022-03-23T00:00:00",
          "2022-03-24T00:00:00",
          "2022-03-25T00:00:00",
          "2022-03-26T00:00:00",
          "2022-03-27T00:00:00",
          "2022-03-28T00:00:00",
          "2022-03-29T00:00:00",
          "2022-03-30T00:00:00",
          "2022-03-31T00:00:00",
          "2022-04-01T00:00:00",
          "2022-04-02T00:00:00",
          "2022-04-03T00:00:00",
          "2022-04-04T00:00:00",
          "2022-04-05T00:00:00",
          "2022-04-06T00:00:00",
          "2022-04-07T00:00:00",
          "2022-04-08T00:00:00",
          "2022-04-09T00:00:00",
          "2022-04-10T00:00:00",
          "2022-04-11T00:00:00",
          "2022-04-12T00:00:00",
          "2022-04-13T00:00:00",
          "2022-04-14T00:00:00",
          "2022-04-15T00:00:00",
          "2022-04-16T00:00:00",
          "2022-04-17T00:00:00",
          "2022-04-18T00:00:00",
          "2022-04-19T00:00:00",
          "2022-04-20T00:00:00",
          "2022-04-21T00:00:00",
          "2022-04-22T00:00:00",
          "2022-04-23T00:00:00",
          "2022-04-24T00:00:00",
          "2022-04-25T00:00:00",
          "2022-04-26T00:00:00",
          "2022-04-27T00:00:00",
          "2022-04-28T00:00:00",
          "2022-04-29T00:00:00",
          "2022-04-30T00:00:00",
          "2022-05-01T00:00:00",
          "2022-05-02T00:00:00",
          "2022-05-03T00:00:00",
          "2022-05-04T00:00:00",
          "2022-05-05T00:00:00",
          "2022-05-06T00:00:00",
          "2022-05-07T00:00:00",
          "2022-05-08T00:00:00",
          "2022-05-09T00:00:00",
          "2022-05-10T00:00:00",
          "2022-05-11T00:00:00",
          "2022-05-12T00:00:00",
          "2022-05-13T00:00:00",
          "2022-05-14T00:00:00",
          "2022-05-15T00:00:00",
          "2022-05-16T00:00:00",
          "2022-05-17T00:00:00",
          "2022-05-18T00:00:00",
          "2022-05-19T00:00:00",
          "2022-05-20T00:00:00"
         ],
         "xaxis": "x",
         "yaxis": "y"
        },
        {
         "customdata": [
          [
           42412.30078125,
           42992.55078125,
           41852.57421875,
           42244.46875
          ],
          [
           42236.56640625,
           42693.0546875,
           41950.94140625,
           42197.515625
          ],
          [
           42157.3984375,
           42775.77734375,
           41681.95703125,
           42586.91796875
          ],
          [
           42586.46484375,
           44667.21875,
           42491.03515625,
           44575.203125
          ],
          [
           44578.27734375,
           44578.27734375,
           43456.69140625,
           43961.859375
          ],
          [
           43937.0703125,
           44132.97265625,
           40249.37109375,
           40538.01171875
          ],
          [
           40552.1328125,
           40929.15234375,
           39637.6171875,
           40030.9765625
          ],
          [
           40026.0234375,
           40418.87890625,
           39713.05859375,
           40122.15625
          ],
          [
           40118.1015625,
           40119.890625,
           38112.8125,
           38431.37890625
          ],
          [
           38423.2109375,
           39394.4375,
           36950.4765625,
           37075.28125
          ],
          [
           37068.76953125,
           38359.85546875,
           36488.93359375,
           38286.02734375
          ],
          [
           38285.28125,
           39122.39453125,
           37201.81640625,
           37296.5703125
          ],
          [
           37278.56640625,
           38968.83984375,
           34459.21875,
           38332.609375
          ],
          [
           38333.74609375,
           39630.32421875,
           38111.34375,
           39214.21875
          ],
          [
           39213.08203125,
           40005.34765625,
           38702.53515625,
           39105.1484375
          ],
          [
           39098.69921875,
           39778.94140625,
           37268.9765625,
           37709.78515625
          ],
          [
           37706,
           43760.45703125,
           37518.21484375,
           43193.234375
          ],
          [
           43194.50390625,
           44793.6015625,
           42952.5859375,
           44354.63671875
          ],
          [
           44357.6171875,
           45077.578125,
           43432.8515625,
           43924.1171875
          ],
          [
           43925.1953125,
           44021.578125,
           41914.75,
           42451.7890625
          ],
          [
           42458.140625,
           42479.61328125,
           38805.84765625,
           39137.60546875
          ],
          [
           39148.44921875,
           39566.3359375,
           38777.03515625,
           39400.5859375
          ],
          [
           39404.19921875,
           39640.17578125,
           38211.6484375,
           38419.984375
          ],
          [
           38429.3046875,
           39430.2265625,
           37260.203125,
           38062.0390625
          ],
          [
           38059.90234375,
           39304.44140625,
           37957.38671875,
           38737.26953125
          ],
          [
           38742.81640625,
           42465.671875,
           38706.09375,
           41982.92578125
          ],
          [
           41974.0703125,
           42004.7265625,
           38832.94140625,
           39437.4609375
          ],
          [
           39439.96875,
           40081.6796875,
           38347.43359375,
           38794.97265625
          ],
          [
           38794.46484375,
           39308.59765625,
           38772.53515625,
           38904.01171875
          ],
          [
           38884.7265625,
           39209.3515625,
           37728.14453125,
           37849.6640625
          ],
          [
           37846.31640625,
           39742.5,
           37680.734375,
           39666.75390625
          ],
          [
           39664.25,
           39794.62890625,
           38310.2109375,
           39338.78515625
          ],
          [
           39335.5703125,
           41465.453125,
           39022.34765625,
           41143.9296875
          ],
          [
           41140.84375,
           41287.53515625,
           40662.87109375,
           40951.37890625
          ],
          [
           40944.83984375,
           42195.74609375,
           40302.3984375,
           41801.15625
          ],
          [
           41794.6484375,
           42316.5546875,
           41602.66796875,
           42190.65234375
          ],
          [
           42191.40625,
           42241.1640625,
           41004.7578125,
           41247.82421875
          ],
          [
           41246.1328125,
           41454.41015625,
           40668.04296875,
           41077.99609375
          ],
          [
           41074.10546875,
           43124.70703125,
           40948.28125,
           42358.80859375
          ],
          [
           42364.37890625,
           42893.5078125,
           41877.5078125,
           42892.95703125
          ],
          [
           42886.65234375,
           44131.85546875,
           42726.1640625,
           43960.93359375
          ],
          [
           43964.546875,
           44999.4921875,
           43706.28515625,
           44348.73046875
          ],
          [
           44349.859375,
           44735.99609375,
           44166.2734375,
           44500.828125
          ],
          [
           44505.35546875,
           46827.546875,
           44437.29296875,
           46820.4921875
          ],
          [
           46821.8515625,
           48086.8359375,
           46690.203125,
           47128.00390625
          ],
          [
           47100.4375,
           48022.2890625,
           47100.4375,
           47465.73046875
          ],
          [
           47456.8984375,
           47655.1484375,
           46746.2109375,
           47062.6640625
          ],
          [
           47062.1484375,
           47512.02734375,
           45390.5390625,
           45538.67578125
          ],
          [
           45554.1640625,
           46616.2421875,
           44403.140625,
           46281.64453125
          ],
          [
           46285.5,
           47028.28125,
           45782.51171875,
           45868.94921875
          ],
          [
           45859.12890625,
           47313.4765625,
           45634.10546875,
           46453.56640625
          ],
          [
           46445.2734375,
           46791.08984375,
           45235.81640625,
           46622.67578125
          ],
          [
           46624.5078125,
           47106.140625,
           45544.80859375,
           45555.9921875
          ],
          [
           45544.35546875,
           45544.35546875,
           43193.953125,
           43206.73828125
          ],
          [
           43207.5,
           43860.69921875,
           42899.90625,
           43503.84765625
          ],
          [
           43505.13671875,
           43903.01953125,
           42183.2890625,
           42287.6640625
          ],
          [
           42282.078125,
           42786.81640625,
           42183.25390625,
           42782.13671875
          ],
          [
           42781.08984375,
           43376.37890625,
           42021.20703125,
           42207.671875
          ],
          [
           42201.0390625,
           42424.58984375,
           39373.05859375,
           39521.90234375
          ],
          [
           39533.71484375,
           40617.5859375,
           39388.328125,
           40127.18359375
          ],
          [
           40123.5703125,
           41430.0546875,
           39712.74609375,
           41166.73046875
          ],
          [
           41160.21875,
           41451.48046875,
           39695.74609375,
           39935.515625
          ],
          [
           39939.40234375,
           40617.72265625,
           39866.83203125,
           40553.46484375
          ],
          [
           40552.31640625,
           40633.6796875,
           40078.42578125,
           40424.484375
          ],
          [
           40417.77734375,
           40570.7265625,
           39620.89453125,
           39716.953125
          ],
          [
           39721.203125,
           40986.3203125,
           38696.19140625,
           40826.21484375
          ],
          [
           40828.17578125,
           41672.9609375,
           40618.6328125,
           41502.75
          ],
          [
           41501.74609375,
           42126.30078125,
           40961.09765625,
           41374.37890625
          ],
          [
           41371.515625,
           42893.58203125,
           40063.828125,
           40527.36328125
          ],
          [
           40525.86328125,
           40777.7578125,
           39315.41796875,
           39740.3203125
          ],
          [
           39738.72265625,
           39935.859375,
           39352.203125,
           39486.73046875
          ],
          [
           39478.375,
           39845.92578125,
           39233.5390625,
           39469.29296875
          ],
          [
           39472.60546875,
           40491.75390625,
           38338.37890625,
           40458.30859375
          ],
          [
           40448.421875,
           40713.890625,
           37884.984375,
           38117.4609375
          ],
          [
           38120.30078125,
           39397.91796875,
           37997.3125,
           39241.12109375
          ],
          [
           39241.4296875,
           40269.46484375,
           38941.421875,
           39773.828125
          ],
          [
           39768.6171875,
           39887.26953125,
           38235.53515625,
           38609.82421875
          ],
          [
           38605.859375,
           38771.2109375,
           37697.94140625,
           37714.875
          ],
          [
           37713.265625,
           38627.859375,
           37585.7890625,
           38469.09375
          ],
          [
           38472.1875,
           39074.97265625,
           38156.5625,
           38529.328125
          ],
          [
           38528.109375,
           38629.99609375,
           37585.62109375,
           37750.453125
          ],
          [
           37748.01171875,
           39902.94921875,
           37732.05859375,
           39698.37109375
          ],
          [
           39695.74609375,
           39789.28125,
           35856.515625,
           36575.140625
          ],
          [
           36573.18359375,
           36624.359375,
           35482.1328125,
           36040.921875
          ],
          [
           36042.50390625,
           36129.92578125,
           34940.82421875,
           35501.953125
          ],
          [
           35502.94140625,
           35502.94140625,
           33878.96484375,
           34059.265625
          ],
          [
           34060.015625,
           34222.07421875,
           30296.953125,
           30296.953125
          ],
          [
           30273.654296875,
           32596.30859375,
           29944.802734375,
           31022.90625
          ],
          [
           31016.18359375,
           32013.40234375,
           28170.4140625,
           28936.35546875
          ],
          [
           28936.734375,
           30032.439453125,
           26350.490234375,
           29047.751953125
          ],
          [
           29030.91015625,
           30924.802734375,
           28782.330078125,
           29283.103515625
          ],
          [
           29285.642578125,
           30192.802734375,
           28702.91015625,
           30101.265625
          ],
          [
           30098.5859375,
           31308.19140625,
           29527.740234375,
           31305.11328125
          ],
          [
           31304.375,
           31305.341796875,
           29251.884765625,
           29862.91796875
          ],
          [
           29862.408203125,
           30694.490234375,
           29570.302734375,
           30425.857421875
          ],
          [
           30424.478515625,
           30618.716796875,
           28720.271484375,
           28720.271484375
          ],
          [
           28720.359375,
           30430.751953125,
           28708.955078125,
           30314.333984375
          ],
          [
           30311.119140625,
           30664.9765625,
           28793.60546875,
           29200.740234375
          ]
         ],
         "hovertemplate": "Percentual Change: %{y}<br>Date: %{x}<br>Open: %{customdata[0]:.3f}<br>High: %{customdata[1]:.3f}<br>Low: %{customdata[2]:.3f}<br>Close: %{customdata[3]:.3f}",
         "line": {
          "color": "indigo"
         },
         "mode": "lines",
         "name": "bb_low",
         "type": "scatter",
         "x": [
          "2022-02-12T00:00:00",
          "2022-02-13T00:00:00",
          "2022-02-14T00:00:00",
          "2022-02-15T00:00:00",
          "2022-02-16T00:00:00",
          "2022-02-17T00:00:00",
          "2022-02-18T00:00:00",
          "2022-02-19T00:00:00",
          "2022-02-20T00:00:00",
          "2022-02-21T00:00:00",
          "2022-02-22T00:00:00",
          "2022-02-23T00:00:00",
          "2022-02-24T00:00:00",
          "2022-02-25T00:00:00",
          "2022-02-26T00:00:00",
          "2022-02-27T00:00:00",
          "2022-02-28T00:00:00",
          "2022-03-01T00:00:00",
          "2022-03-02T00:00:00",
          "2022-03-03T00:00:00",
          "2022-03-04T00:00:00",
          "2022-03-05T00:00:00",
          "2022-03-06T00:00:00",
          "2022-03-07T00:00:00",
          "2022-03-08T00:00:00",
          "2022-03-09T00:00:00",
          "2022-03-10T00:00:00",
          "2022-03-11T00:00:00",
          "2022-03-12T00:00:00",
          "2022-03-13T00:00:00",
          "2022-03-14T00:00:00",
          "2022-03-15T00:00:00",
          "2022-03-16T00:00:00",
          "2022-03-17T00:00:00",
          "2022-03-18T00:00:00",
          "2022-03-19T00:00:00",
          "2022-03-20T00:00:00",
          "2022-03-21T00:00:00",
          "2022-03-22T00:00:00",
          "2022-03-23T00:00:00",
          "2022-03-24T00:00:00",
          "2022-03-25T00:00:00",
          "2022-03-26T00:00:00",
          "2022-03-27T00:00:00",
          "2022-03-28T00:00:00",
          "2022-03-29T00:00:00",
          "2022-03-30T00:00:00",
          "2022-03-31T00:00:00",
          "2022-04-01T00:00:00",
          "2022-04-02T00:00:00",
          "2022-04-03T00:00:00",
          "2022-04-04T00:00:00",
          "2022-04-05T00:00:00",
          "2022-04-06T00:00:00",
          "2022-04-07T00:00:00",
          "2022-04-08T00:00:00",
          "2022-04-09T00:00:00",
          "2022-04-10T00:00:00",
          "2022-04-11T00:00:00",
          "2022-04-12T00:00:00",
          "2022-04-13T00:00:00",
          "2022-04-14T00:00:00",
          "2022-04-15T00:00:00",
          "2022-04-16T00:00:00",
          "2022-04-17T00:00:00",
          "2022-04-18T00:00:00",
          "2022-04-19T00:00:00",
          "2022-04-20T00:00:00",
          "2022-04-21T00:00:00",
          "2022-04-22T00:00:00",
          "2022-04-23T00:00:00",
          "2022-04-24T00:00:00",
          "2022-04-25T00:00:00",
          "2022-04-26T00:00:00",
          "2022-04-27T00:00:00",
          "2022-04-28T00:00:00",
          "2022-04-29T00:00:00",
          "2022-04-30T00:00:00",
          "2022-05-01T00:00:00",
          "2022-05-02T00:00:00",
          "2022-05-03T00:00:00",
          "2022-05-04T00:00:00",
          "2022-05-05T00:00:00",
          "2022-05-06T00:00:00",
          "2022-05-07T00:00:00",
          "2022-05-08T00:00:00",
          "2022-05-09T00:00:00",
          "2022-05-10T00:00:00",
          "2022-05-11T00:00:00",
          "2022-05-12T00:00:00",
          "2022-05-13T00:00:00",
          "2022-05-14T00:00:00",
          "2022-05-15T00:00:00",
          "2022-05-16T00:00:00",
          "2022-05-17T00:00:00",
          "2022-05-18T00:00:00",
          "2022-05-19T00:00:00",
          "2022-05-20T00:00:00"
         ],
         "y": [
          null,
          0.012635585763484558,
          0.016072495224080052,
          0.012370513254620574,
          0.015002861811395318,
          0.028683336938438497,
          0.029602761835153757,
          -0.008163941941516373,
          -0.02081315226884828,
          -0.031566120858418256,
          -0.0163892079608684,
          -0.01944892304586543,
          -0.007796622496642924,
          -0.002888993324585476,
          -0.00410946034504911,
          -0.009489296136779957,
          -0.0024596066388890003,
          -0.005861032298208224,
          0.002843764026692286,
          0.004661120596943569,
          -0.0029131406536738735,
          -0.0013703925253136795,
          -0.004708227695896405,
          -0.0015894389829912425,
          0.008266568629928583,
          0.005960578996174748,
          0.010425082779097261,
          0.0021846198139066075,
          -0.0012059297853904694,
          -0.005957128123173061,
          0.008752137765197565,
          0.00041842595489138823,
          0.012119801064096603,
          0.014026328602587457,
          0.0033921338781677246,
          -0.002634521003881729,
          0.0010777456871791102,
          0.006400008614897867,
          0.007821965251141316,
          0.004212717391390619,
          -0.006568481942244575,
          -0.0007597646393322499,
          0.0063236721202122315,
          -0.0011646839009206156,
          0.01394632621529146,
          0.005693035179981543,
          0.01574565360996205,
          0.010550692716583487,
          0.013167513746251247,
          0.01062212008451957,
          0.009740144876830836,
          0.018653609891218004,
          0.024567567253791056,
          0.00633366629599319,
          0.004258103100006849,
          -0.011384996298437922,
          -0.008281536756866492,
          -0.011839006392715068,
          -0.03265696397436768,
          -0.02050099102215064,
          -0.008666073451982004,
          -0.013595393557161106,
          -0.009976270603326176,
          -0.006214381913755007,
          -0.007914726950900342,
          0.004141608590383594,
          0.013785175405609307,
          0.013493512935752072,
          0.0006749762722078056,
          0.0014763768574239666,
          -0.003471364708829139,
          0.0017370295842873418,
          0.004769682871354597,
          -0.011700477221821104,
          -0.0033675420941924328,
          -0.0004621507700696137,
          -0.006283839717662665,
          -0.01257526428100586,
          -0.005300317210313654,
          -0.004030683762561216,
          -0.007390455086388248,
          0.004302908730456467,
          -0.01072167485842257,
          -0.015435852853170617,
          -0.018399379624379986,
          -0.02856588001913385,
          -0.06450550207476025,
          -0.03878179310558849,
          -0.056550993302935115,
          -0.04476428743139038,
          -0.032760568111541155,
          -0.022353853195927975,
          -0.011739835293925194,
          -0.013990420097642509,
          -0.002848054421311974,
          -0.01129445448799904,
          0.029500456801057062,
          0.0072915107355682185
         ]
        },
        {
         "customdata": [
          [
           42412.30078125,
           42992.55078125,
           41852.57421875,
           42244.46875
          ],
          [
           42236.56640625,
           42693.0546875,
           41950.94140625,
           42197.515625
          ],
          [
           42157.3984375,
           42775.77734375,
           41681.95703125,
           42586.91796875
          ],
          [
           42586.46484375,
           44667.21875,
           42491.03515625,
           44575.203125
          ],
          [
           44578.27734375,
           44578.27734375,
           43456.69140625,
           43961.859375
          ],
          [
           43937.0703125,
           44132.97265625,
           40249.37109375,
           40538.01171875
          ],
          [
           40552.1328125,
           40929.15234375,
           39637.6171875,
           40030.9765625
          ],
          [
           40026.0234375,
           40418.87890625,
           39713.05859375,
           40122.15625
          ],
          [
           40118.1015625,
           40119.890625,
           38112.8125,
           38431.37890625
          ],
          [
           38423.2109375,
           39394.4375,
           36950.4765625,
           37075.28125
          ],
          [
           37068.76953125,
           38359.85546875,
           36488.93359375,
           38286.02734375
          ],
          [
           38285.28125,
           39122.39453125,
           37201.81640625,
           37296.5703125
          ],
          [
           37278.56640625,
           38968.83984375,
           34459.21875,
           38332.609375
          ],
          [
           38333.74609375,
           39630.32421875,
           38111.34375,
           39214.21875
          ],
          [
           39213.08203125,
           40005.34765625,
           38702.53515625,
           39105.1484375
          ],
          [
           39098.69921875,
           39778.94140625,
           37268.9765625,
           37709.78515625
          ],
          [
           37706,
           43760.45703125,
           37518.21484375,
           43193.234375
          ],
          [
           43194.50390625,
           44793.6015625,
           42952.5859375,
           44354.63671875
          ],
          [
           44357.6171875,
           45077.578125,
           43432.8515625,
           43924.1171875
          ],
          [
           43925.1953125,
           44021.578125,
           41914.75,
           42451.7890625
          ],
          [
           42458.140625,
           42479.61328125,
           38805.84765625,
           39137.60546875
          ],
          [
           39148.44921875,
           39566.3359375,
           38777.03515625,
           39400.5859375
          ],
          [
           39404.19921875,
           39640.17578125,
           38211.6484375,
           38419.984375
          ],
          [
           38429.3046875,
           39430.2265625,
           37260.203125,
           38062.0390625
          ],
          [
           38059.90234375,
           39304.44140625,
           37957.38671875,
           38737.26953125
          ],
          [
           38742.81640625,
           42465.671875,
           38706.09375,
           41982.92578125
          ],
          [
           41974.0703125,
           42004.7265625,
           38832.94140625,
           39437.4609375
          ],
          [
           39439.96875,
           40081.6796875,
           38347.43359375,
           38794.97265625
          ],
          [
           38794.46484375,
           39308.59765625,
           38772.53515625,
           38904.01171875
          ],
          [
           38884.7265625,
           39209.3515625,
           37728.14453125,
           37849.6640625
          ],
          [
           37846.31640625,
           39742.5,
           37680.734375,
           39666.75390625
          ],
          [
           39664.25,
           39794.62890625,
           38310.2109375,
           39338.78515625
          ],
          [
           39335.5703125,
           41465.453125,
           39022.34765625,
           41143.9296875
          ],
          [
           41140.84375,
           41287.53515625,
           40662.87109375,
           40951.37890625
          ],
          [
           40944.83984375,
           42195.74609375,
           40302.3984375,
           41801.15625
          ],
          [
           41794.6484375,
           42316.5546875,
           41602.66796875,
           42190.65234375
          ],
          [
           42191.40625,
           42241.1640625,
           41004.7578125,
           41247.82421875
          ],
          [
           41246.1328125,
           41454.41015625,
           40668.04296875,
           41077.99609375
          ],
          [
           41074.10546875,
           43124.70703125,
           40948.28125,
           42358.80859375
          ],
          [
           42364.37890625,
           42893.5078125,
           41877.5078125,
           42892.95703125
          ],
          [
           42886.65234375,
           44131.85546875,
           42726.1640625,
           43960.93359375
          ],
          [
           43964.546875,
           44999.4921875,
           43706.28515625,
           44348.73046875
          ],
          [
           44349.859375,
           44735.99609375,
           44166.2734375,
           44500.828125
          ],
          [
           44505.35546875,
           46827.546875,
           44437.29296875,
           46820.4921875
          ],
          [
           46821.8515625,
           48086.8359375,
           46690.203125,
           47128.00390625
          ],
          [
           47100.4375,
           48022.2890625,
           47100.4375,
           47465.73046875
          ],
          [
           47456.8984375,
           47655.1484375,
           46746.2109375,
           47062.6640625
          ],
          [
           47062.1484375,
           47512.02734375,
           45390.5390625,
           45538.67578125
          ],
          [
           45554.1640625,
           46616.2421875,
           44403.140625,
           46281.64453125
          ],
          [
           46285.5,
           47028.28125,
           45782.51171875,
           45868.94921875
          ],
          [
           45859.12890625,
           47313.4765625,
           45634.10546875,
           46453.56640625
          ],
          [
           46445.2734375,
           46791.08984375,
           45235.81640625,
           46622.67578125
          ],
          [
           46624.5078125,
           47106.140625,
           45544.80859375,
           45555.9921875
          ],
          [
           45544.35546875,
           45544.35546875,
           43193.953125,
           43206.73828125
          ],
          [
           43207.5,
           43860.69921875,
           42899.90625,
           43503.84765625
          ],
          [
           43505.13671875,
           43903.01953125,
           42183.2890625,
           42287.6640625
          ],
          [
           42282.078125,
           42786.81640625,
           42183.25390625,
           42782.13671875
          ],
          [
           42781.08984375,
           43376.37890625,
           42021.20703125,
           42207.671875
          ],
          [
           42201.0390625,
           42424.58984375,
           39373.05859375,
           39521.90234375
          ],
          [
           39533.71484375,
           40617.5859375,
           39388.328125,
           40127.18359375
          ],
          [
           40123.5703125,
           41430.0546875,
           39712.74609375,
           41166.73046875
          ],
          [
           41160.21875,
           41451.48046875,
           39695.74609375,
           39935.515625
          ],
          [
           39939.40234375,
           40617.72265625,
           39866.83203125,
           40553.46484375
          ],
          [
           40552.31640625,
           40633.6796875,
           40078.42578125,
           40424.484375
          ],
          [
           40417.77734375,
           40570.7265625,
           39620.89453125,
           39716.953125
          ],
          [
           39721.203125,
           40986.3203125,
           38696.19140625,
           40826.21484375
          ],
          [
           40828.17578125,
           41672.9609375,
           40618.6328125,
           41502.75
          ],
          [
           41501.74609375,
           42126.30078125,
           40961.09765625,
           41374.37890625
          ],
          [
           41371.515625,
           42893.58203125,
           40063.828125,
           40527.36328125
          ],
          [
           40525.86328125,
           40777.7578125,
           39315.41796875,
           39740.3203125
          ],
          [
           39738.72265625,
           39935.859375,
           39352.203125,
           39486.73046875
          ],
          [
           39478.375,
           39845.92578125,
           39233.5390625,
           39469.29296875
          ],
          [
           39472.60546875,
           40491.75390625,
           38338.37890625,
           40458.30859375
          ],
          [
           40448.421875,
           40713.890625,
           37884.984375,
           38117.4609375
          ],
          [
           38120.30078125,
           39397.91796875,
           37997.3125,
           39241.12109375
          ],
          [
           39241.4296875,
           40269.46484375,
           38941.421875,
           39773.828125
          ],
          [
           39768.6171875,
           39887.26953125,
           38235.53515625,
           38609.82421875
          ],
          [
           38605.859375,
           38771.2109375,
           37697.94140625,
           37714.875
          ],
          [
           37713.265625,
           38627.859375,
           37585.7890625,
           38469.09375
          ],
          [
           38472.1875,
           39074.97265625,
           38156.5625,
           38529.328125
          ],
          [
           38528.109375,
           38629.99609375,
           37585.62109375,
           37750.453125
          ],
          [
           37748.01171875,
           39902.94921875,
           37732.05859375,
           39698.37109375
          ],
          [
           39695.74609375,
           39789.28125,
           35856.515625,
           36575.140625
          ],
          [
           36573.18359375,
           36624.359375,
           35482.1328125,
           36040.921875
          ],
          [
           36042.50390625,
           36129.92578125,
           34940.82421875,
           35501.953125
          ],
          [
           35502.94140625,
           35502.94140625,
           33878.96484375,
           34059.265625
          ],
          [
           34060.015625,
           34222.07421875,
           30296.953125,
           30296.953125
          ],
          [
           30273.654296875,
           32596.30859375,
           29944.802734375,
           31022.90625
          ],
          [
           31016.18359375,
           32013.40234375,
           28170.4140625,
           28936.35546875
          ],
          [
           28936.734375,
           30032.439453125,
           26350.490234375,
           29047.751953125
          ],
          [
           29030.91015625,
           30924.802734375,
           28782.330078125,
           29283.103515625
          ],
          [
           29285.642578125,
           30192.802734375,
           28702.91015625,
           30101.265625
          ],
          [
           30098.5859375,
           31308.19140625,
           29527.740234375,
           31305.11328125
          ],
          [
           31304.375,
           31305.341796875,
           29251.884765625,
           29862.91796875
          ],
          [
           29862.408203125,
           30694.490234375,
           29570.302734375,
           30425.857421875
          ],
          [
           30424.478515625,
           30618.716796875,
           28720.271484375,
           28720.271484375
          ],
          [
           28720.359375,
           30430.751953125,
           28708.955078125,
           30314.333984375
          ],
          [
           30311.119140625,
           30664.9765625,
           28793.60546875,
           29200.740234375
          ]
         ],
         "fill": "tonexty",
         "hovertemplate": "Percentual Change: %{y}<br>Date: %{x}<br>Open: %{customdata[0]:.3f}<br>High: %{customdata[1]:.3f}<br>Low: %{customdata[2]:.3f}<br>Close: %{customdata[3]:.3f}",
         "line": {
          "color": "indigo"
         },
         "mode": "lines",
         "name": "bb_high",
         "type": "scatter",
         "x": [
          "2022-02-12T00:00:00",
          "2022-02-13T00:00:00",
          "2022-02-14T00:00:00",
          "2022-02-15T00:00:00",
          "2022-02-16T00:00:00",
          "2022-02-17T00:00:00",
          "2022-02-18T00:00:00",
          "2022-02-19T00:00:00",
          "2022-02-20T00:00:00",
          "2022-02-21T00:00:00",
          "2022-02-22T00:00:00",
          "2022-02-23T00:00:00",
          "2022-02-24T00:00:00",
          "2022-02-25T00:00:00",
          "2022-02-26T00:00:00",
          "2022-02-27T00:00:00",
          "2022-02-28T00:00:00",
          "2022-03-01T00:00:00",
          "2022-03-02T00:00:00",
          "2022-03-03T00:00:00",
          "2022-03-04T00:00:00",
          "2022-03-05T00:00:00",
          "2022-03-06T00:00:00",
          "2022-03-07T00:00:00",
          "2022-03-08T00:00:00",
          "2022-03-09T00:00:00",
          "2022-03-10T00:00:00",
          "2022-03-11T00:00:00",
          "2022-03-12T00:00:00",
          "2022-03-13T00:00:00",
          "2022-03-14T00:00:00",
          "2022-03-15T00:00:00",
          "2022-03-16T00:00:00",
          "2022-03-17T00:00:00",
          "2022-03-18T00:00:00",
          "2022-03-19T00:00:00",
          "2022-03-20T00:00:00",
          "2022-03-21T00:00:00",
          "2022-03-22T00:00:00",
          "2022-03-23T00:00:00",
          "2022-03-24T00:00:00",
          "2022-03-25T00:00:00",
          "2022-03-26T00:00:00",
          "2022-03-27T00:00:00",
          "2022-03-28T00:00:00",
          "2022-03-29T00:00:00",
          "2022-03-30T00:00:00",
          "2022-03-31T00:00:00",
          "2022-04-01T00:00:00",
          "2022-04-02T00:00:00",
          "2022-04-03T00:00:00",
          "2022-04-04T00:00:00",
          "2022-04-05T00:00:00",
          "2022-04-06T00:00:00",
          "2022-04-07T00:00:00",
          "2022-04-08T00:00:00",
          "2022-04-09T00:00:00",
          "2022-04-10T00:00:00",
          "2022-04-11T00:00:00",
          "2022-04-12T00:00:00",
          "2022-04-13T00:00:00",
          "2022-04-14T00:00:00",
          "2022-04-15T00:00:00",
          "2022-04-16T00:00:00",
          "2022-04-17T00:00:00",
          "2022-04-18T00:00:00",
          "2022-04-19T00:00:00",
          "2022-04-20T00:00:00",
          "2022-04-21T00:00:00",
          "2022-04-22T00:00:00",
          "2022-04-23T00:00:00",
          "2022-04-24T00:00:00",
          "2022-04-25T00:00:00",
          "2022-04-26T00:00:00",
          "2022-04-27T00:00:00",
          "2022-04-28T00:00:00",
          "2022-04-29T00:00:00",
          "2022-04-30T00:00:00",
          "2022-05-01T00:00:00",
          "2022-05-02T00:00:00",
          "2022-05-03T00:00:00",
          "2022-05-04T00:00:00",
          "2022-05-05T00:00:00",
          "2022-05-06T00:00:00",
          "2022-05-07T00:00:00",
          "2022-05-08T00:00:00",
          "2022-05-09T00:00:00",
          "2022-05-10T00:00:00",
          "2022-05-11T00:00:00",
          "2022-05-12T00:00:00",
          "2022-05-13T00:00:00",
          "2022-05-14T00:00:00",
          "2022-05-15T00:00:00",
          "2022-05-16T00:00:00",
          "2022-05-17T00:00:00",
          "2022-05-18T00:00:00",
          "2022-05-19T00:00:00",
          "2022-05-20T00:00:00"
         ],
         "y": [
          null,
          0.0019617335613886233,
          0.0009067057123581801,
          0.007748534850577471,
          0.002967598321725884,
          -0.01292914876754736,
          -0.01659427884630227,
          0.0031390504372181827,
          0.009308941697343531,
          0.011178085247468328,
          -0.0026859137729987603,
          -0.0041189228756408625,
          -0.011239122069296448,
          -0.010445198054916283,
          -0.006494695500664505,
          -0.005929187676344205,
          0.004931970822100951,
          0.009881934583331198,
          -0.00412558820288067,
          -0.00811175402327513,
          -0.0018753629019957474,
          -0.0008021384254465191,
          -0.0013755282070282426,
          0.0001443570146892892,
          -0.001516245173652897,
          0.0063648515314909115,
          -0.0018853483555371087,
          -0.0003729045585745272,
          0.000043711591317219245,
          0.001037732144883785,
          -0.00114548483519894,
          -0.01185898232466498,
          -0.01960733644234869,
          -0.020994432275061037,
          -0.005011898638748402,
          0.011990094744513957,
          0.00484684542169056,
          0.002747488623637606,
          0.006561715154542513,
          0.009165874883283243,
          0.01172653137691726,
          0.015490066229309818,
          0.011702742275078393,
          0.024258973858963584,
          0.015353977935949281,
          0.017458070879168286,
          0.008885768945918082,
          0.0036181122276512934,
          0.00396355656348546,
          0.002437006736634384,
          0.003598790604120161,
          -0.0008650346897335348,
          -0.008598285832111863,
          -0.0032100230470448743,
          -0.00207626299280117,
          0.005495643778684833,
          0.002933480192844451,
          0.0039492845144628586,
          0.00786624832165339,
          -0.0022063705067706385,
          -0.010130924772795091,
          -0.00860922387150631,
          -0.005806307490506035,
          -0.011331619472110033,
          -0.01096272421067579,
          -0.019304402376673857,
          -0.026140056065804385,
          -0.02396174436131615,
          -0.008763857848350431,
          -0.012892320056559936,
          -0.005570722558359442,
          -0.011956874924720418,
          -0.009946812349255318,
          0.006461085943170408,
          0.00027812686838779577,
          -0.004006415153513632,
          0.0015451144242828452,
          0.002423024611812652,
          -0.0014557135184452008,
          -0.0001743173983368429,
          -0.003207694645137149,
          -0.009587800692123616,
          -0.005831668566847026,
          -0.0007305209842790594,
          0.0024775039908726537,
          0.007109250957039404,
          0.024279285404794182,
          -0.0001008302294422947,
          0.012561722513849238,
          -0.001087172482775789,
          -0.011210638609522317,
          -0.012460580312641856,
          -0.012970397862623328,
          -0.018883179961996177,
          -0.024804484506035118,
          -0.023071848637433945,
          -0.051756711212367024,
          -0.03201799767984659
         ]
        },
        {
         "customdata": [
          [
           42412.30078125,
           42992.55078125,
           41852.57421875,
           42244.46875
          ],
          [
           42236.56640625,
           42693.0546875,
           41950.94140625,
           42197.515625
          ],
          [
           42157.3984375,
           42775.77734375,
           41681.95703125,
           42586.91796875
          ],
          [
           42586.46484375,
           44667.21875,
           42491.03515625,
           44575.203125
          ],
          [
           44578.27734375,
           44578.27734375,
           43456.69140625,
           43961.859375
          ],
          [
           43937.0703125,
           44132.97265625,
           40249.37109375,
           40538.01171875
          ],
          [
           40552.1328125,
           40929.15234375,
           39637.6171875,
           40030.9765625
          ],
          [
           40026.0234375,
           40418.87890625,
           39713.05859375,
           40122.15625
          ],
          [
           40118.1015625,
           40119.890625,
           38112.8125,
           38431.37890625
          ],
          [
           38423.2109375,
           39394.4375,
           36950.4765625,
           37075.28125
          ],
          [
           37068.76953125,
           38359.85546875,
           36488.93359375,
           38286.02734375
          ],
          [
           38285.28125,
           39122.39453125,
           37201.81640625,
           37296.5703125
          ],
          [
           37278.56640625,
           38968.83984375,
           34459.21875,
           38332.609375
          ],
          [
           38333.74609375,
           39630.32421875,
           38111.34375,
           39214.21875
          ],
          [
           39213.08203125,
           40005.34765625,
           38702.53515625,
           39105.1484375
          ],
          [
           39098.69921875,
           39778.94140625,
           37268.9765625,
           37709.78515625
          ],
          [
           37706,
           43760.45703125,
           37518.21484375,
           43193.234375
          ],
          [
           43194.50390625,
           44793.6015625,
           42952.5859375,
           44354.63671875
          ],
          [
           44357.6171875,
           45077.578125,
           43432.8515625,
           43924.1171875
          ],
          [
           43925.1953125,
           44021.578125,
           41914.75,
           42451.7890625
          ],
          [
           42458.140625,
           42479.61328125,
           38805.84765625,
           39137.60546875
          ],
          [
           39148.44921875,
           39566.3359375,
           38777.03515625,
           39400.5859375
          ],
          [
           39404.19921875,
           39640.17578125,
           38211.6484375,
           38419.984375
          ],
          [
           38429.3046875,
           39430.2265625,
           37260.203125,
           38062.0390625
          ],
          [
           38059.90234375,
           39304.44140625,
           37957.38671875,
           38737.26953125
          ],
          [
           38742.81640625,
           42465.671875,
           38706.09375,
           41982.92578125
          ],
          [
           41974.0703125,
           42004.7265625,
           38832.94140625,
           39437.4609375
          ],
          [
           39439.96875,
           40081.6796875,
           38347.43359375,
           38794.97265625
          ],
          [
           38794.46484375,
           39308.59765625,
           38772.53515625,
           38904.01171875
          ],
          [
           38884.7265625,
           39209.3515625,
           37728.14453125,
           37849.6640625
          ],
          [
           37846.31640625,
           39742.5,
           37680.734375,
           39666.75390625
          ],
          [
           39664.25,
           39794.62890625,
           38310.2109375,
           39338.78515625
          ],
          [
           39335.5703125,
           41465.453125,
           39022.34765625,
           41143.9296875
          ],
          [
           41140.84375,
           41287.53515625,
           40662.87109375,
           40951.37890625
          ],
          [
           40944.83984375,
           42195.74609375,
           40302.3984375,
           41801.15625
          ],
          [
           41794.6484375,
           42316.5546875,
           41602.66796875,
           42190.65234375
          ],
          [
           42191.40625,
           42241.1640625,
           41004.7578125,
           41247.82421875
          ],
          [
           41246.1328125,
           41454.41015625,
           40668.04296875,
           41077.99609375
          ],
          [
           41074.10546875,
           43124.70703125,
           40948.28125,
           42358.80859375
          ],
          [
           42364.37890625,
           42893.5078125,
           41877.5078125,
           42892.95703125
          ],
          [
           42886.65234375,
           44131.85546875,
           42726.1640625,
           43960.93359375
          ],
          [
           43964.546875,
           44999.4921875,
           43706.28515625,
           44348.73046875
          ],
          [
           44349.859375,
           44735.99609375,
           44166.2734375,
           44500.828125
          ],
          [
           44505.35546875,
           46827.546875,
           44437.29296875,
           46820.4921875
          ],
          [
           46821.8515625,
           48086.8359375,
           46690.203125,
           47128.00390625
          ],
          [
           47100.4375,
           48022.2890625,
           47100.4375,
           47465.73046875
          ],
          [
           47456.8984375,
           47655.1484375,
           46746.2109375,
           47062.6640625
          ],
          [
           47062.1484375,
           47512.02734375,
           45390.5390625,
           45538.67578125
          ],
          [
           45554.1640625,
           46616.2421875,
           44403.140625,
           46281.64453125
          ],
          [
           46285.5,
           47028.28125,
           45782.51171875,
           45868.94921875
          ],
          [
           45859.12890625,
           47313.4765625,
           45634.10546875,
           46453.56640625
          ],
          [
           46445.2734375,
           46791.08984375,
           45235.81640625,
           46622.67578125
          ],
          [
           46624.5078125,
           47106.140625,
           45544.80859375,
           45555.9921875
          ],
          [
           45544.35546875,
           45544.35546875,
           43193.953125,
           43206.73828125
          ],
          [
           43207.5,
           43860.69921875,
           42899.90625,
           43503.84765625
          ],
          [
           43505.13671875,
           43903.01953125,
           42183.2890625,
           42287.6640625
          ],
          [
           42282.078125,
           42786.81640625,
           42183.25390625,
           42782.13671875
          ],
          [
           42781.08984375,
           43376.37890625,
           42021.20703125,
           42207.671875
          ],
          [
           42201.0390625,
           42424.58984375,
           39373.05859375,
           39521.90234375
          ],
          [
           39533.71484375,
           40617.5859375,
           39388.328125,
           40127.18359375
          ],
          [
           40123.5703125,
           41430.0546875,
           39712.74609375,
           41166.73046875
          ],
          [
           41160.21875,
           41451.48046875,
           39695.74609375,
           39935.515625
          ],
          [
           39939.40234375,
           40617.72265625,
           39866.83203125,
           40553.46484375
          ],
          [
           40552.31640625,
           40633.6796875,
           40078.42578125,
           40424.484375
          ],
          [
           40417.77734375,
           40570.7265625,
           39620.89453125,
           39716.953125
          ],
          [
           39721.203125,
           40986.3203125,
           38696.19140625,
           40826.21484375
          ],
          [
           40828.17578125,
           41672.9609375,
           40618.6328125,
           41502.75
          ],
          [
           41501.74609375,
           42126.30078125,
           40961.09765625,
           41374.37890625
          ],
          [
           41371.515625,
           42893.58203125,
           40063.828125,
           40527.36328125
          ],
          [
           40525.86328125,
           40777.7578125,
           39315.41796875,
           39740.3203125
          ],
          [
           39738.72265625,
           39935.859375,
           39352.203125,
           39486.73046875
          ],
          [
           39478.375,
           39845.92578125,
           39233.5390625,
           39469.29296875
          ],
          [
           39472.60546875,
           40491.75390625,
           38338.37890625,
           40458.30859375
          ],
          [
           40448.421875,
           40713.890625,
           37884.984375,
           38117.4609375
          ],
          [
           38120.30078125,
           39397.91796875,
           37997.3125,
           39241.12109375
          ],
          [
           39241.4296875,
           40269.46484375,
           38941.421875,
           39773.828125
          ],
          [
           39768.6171875,
           39887.26953125,
           38235.53515625,
           38609.82421875
          ],
          [
           38605.859375,
           38771.2109375,
           37697.94140625,
           37714.875
          ],
          [
           37713.265625,
           38627.859375,
           37585.7890625,
           38469.09375
          ],
          [
           38472.1875,
           39074.97265625,
           38156.5625,
           38529.328125
          ],
          [
           38528.109375,
           38629.99609375,
           37585.62109375,
           37750.453125
          ],
          [
           37748.01171875,
           39902.94921875,
           37732.05859375,
           39698.37109375
          ],
          [
           39695.74609375,
           39789.28125,
           35856.515625,
           36575.140625
          ],
          [
           36573.18359375,
           36624.359375,
           35482.1328125,
           36040.921875
          ],
          [
           36042.50390625,
           36129.92578125,
           34940.82421875,
           35501.953125
          ],
          [
           35502.94140625,
           35502.94140625,
           33878.96484375,
           34059.265625
          ],
          [
           34060.015625,
           34222.07421875,
           30296.953125,
           30296.953125
          ],
          [
           30273.654296875,
           32596.30859375,
           29944.802734375,
           31022.90625
          ],
          [
           31016.18359375,
           32013.40234375,
           28170.4140625,
           28936.35546875
          ],
          [
           28936.734375,
           30032.439453125,
           26350.490234375,
           29047.751953125
          ],
          [
           29030.91015625,
           30924.802734375,
           28782.330078125,
           29283.103515625
          ],
          [
           29285.642578125,
           30192.802734375,
           28702.91015625,
           30101.265625
          ],
          [
           30098.5859375,
           31308.19140625,
           29527.740234375,
           31305.11328125
          ],
          [
           31304.375,
           31305.341796875,
           29251.884765625,
           29862.91796875
          ],
          [
           29862.408203125,
           30694.490234375,
           29570.302734375,
           30425.857421875
          ],
          [
           30424.478515625,
           30618.716796875,
           28720.271484375,
           28720.271484375
          ],
          [
           28720.359375,
           30430.751953125,
           28708.955078125,
           30314.333984375
          ],
          [
           30311.119140625,
           30664.9765625,
           28793.60546875,
           29200.740234375
          ]
         ],
         "hovertemplate": "Percentual Change: %{y}<br>Date: %{x}<br>Open: %{customdata[0]:.3f}<br>High: %{customdata[1]:.3f}<br>Low: %{customdata[2]:.3f}<br>Close: %{customdata[3]:.3f}",
         "line": {
          "color": "magenta"
         },
         "mode": "lines",
         "name": "stdev",
         "type": "scatter",
         "x": [
          "2022-02-12T00:00:00",
          "2022-02-13T00:00:00",
          "2022-02-14T00:00:00",
          "2022-02-15T00:00:00",
          "2022-02-16T00:00:00",
          "2022-02-17T00:00:00",
          "2022-02-18T00:00:00",
          "2022-02-19T00:00:00",
          "2022-02-20T00:00:00",
          "2022-02-21T00:00:00",
          "2022-02-22T00:00:00",
          "2022-02-23T00:00:00",
          "2022-02-24T00:00:00",
          "2022-02-25T00:00:00",
          "2022-02-26T00:00:00",
          "2022-02-27T00:00:00",
          "2022-02-28T00:00:00",
          "2022-03-01T00:00:00",
          "2022-03-02T00:00:00",
          "2022-03-03T00:00:00",
          "2022-03-04T00:00:00",
          "2022-03-05T00:00:00",
          "2022-03-06T00:00:00",
          "2022-03-07T00:00:00",
          "2022-03-08T00:00:00",
          "2022-03-09T00:00:00",
          "2022-03-10T00:00:00",
          "2022-03-11T00:00:00",
          "2022-03-12T00:00:00",
          "2022-03-13T00:00:00",
          "2022-03-14T00:00:00",
          "2022-03-15T00:00:00",
          "2022-03-16T00:00:00",
          "2022-03-17T00:00:00",
          "2022-03-18T00:00:00",
          "2022-03-19T00:00:00",
          "2022-03-20T00:00:00",
          "2022-03-21T00:00:00",
          "2022-03-22T00:00:00",
          "2022-03-23T00:00:00",
          "2022-03-24T00:00:00",
          "2022-03-25T00:00:00",
          "2022-03-26T00:00:00",
          "2022-03-27T00:00:00",
          "2022-03-28T00:00:00",
          "2022-03-29T00:00:00",
          "2022-03-30T00:00:00",
          "2022-03-31T00:00:00",
          "2022-04-01T00:00:00",
          "2022-04-02T00:00:00",
          "2022-04-03T00:00:00",
          "2022-04-04T00:00:00",
          "2022-04-05T00:00:00",
          "2022-04-06T00:00:00",
          "2022-04-07T00:00:00",
          "2022-04-08T00:00:00",
          "2022-04-09T00:00:00",
          "2022-04-10T00:00:00",
          "2022-04-11T00:00:00",
          "2022-04-12T00:00:00",
          "2022-04-13T00:00:00",
          "2022-04-14T00:00:00",
          "2022-04-15T00:00:00",
          "2022-04-16T00:00:00",
          "2022-04-17T00:00:00",
          "2022-04-18T00:00:00",
          "2022-04-19T00:00:00",
          "2022-04-20T00:00:00",
          "2022-04-21T00:00:00",
          "2022-04-22T00:00:00",
          "2022-04-23T00:00:00",
          "2022-04-24T00:00:00",
          "2022-04-25T00:00:00",
          "2022-04-26T00:00:00",
          "2022-04-27T00:00:00",
          "2022-04-28T00:00:00",
          "2022-04-29T00:00:00",
          "2022-04-30T00:00:00",
          "2022-05-01T00:00:00",
          "2022-05-02T00:00:00",
          "2022-05-03T00:00:00",
          "2022-05-04T00:00:00",
          "2022-05-05T00:00:00",
          "2022-05-06T00:00:00",
          "2022-05-07T00:00:00",
          "2022-05-08T00:00:00",
          "2022-05-09T00:00:00",
          "2022-05-10T00:00:00",
          "2022-05-11T00:00:00",
          "2022-05-12T00:00:00",
          "2022-05-13T00:00:00",
          "2022-05-14T00:00:00",
          "2022-05-15T00:00:00",
          "2022-05-16T00:00:00",
          "2022-05-17T00:00:00",
          "2022-05-18T00:00:00",
          "2022-05-19T00:00:00",
          "2022-05-20T00:00:00"
         ],
         "y": [
          null,
          -0.03462613036502116,
          -0.05362367630511955,
          -0.010094234304071192,
          -0.04454793202178098,
          -0.18745589787217032,
          -0.26188846734388704,
          0.08685616387882544,
          0.21290707410342669,
          0.24441856641343662,
          0.0555049959743128,
          0.056545674141508906,
          -0.023882088859366823,
          -0.03865351909168235,
          -0.015730363070286413,
          0.008018359488869864,
          0.03338722523630877,
          0.06838509452533814,
          -0.02822488851937588,
          -0.05369110900239871,
          0.0020562482383497116,
          0.0013400105535437135,
          0.011153751845064175,
          0.006560310018496995,
          -0.03742466799587385,
          0.007919196531144923,
          -0.04912445661575238,
          -0.010801567954203395,
          0.005206193939979231,
          0.029750365528439238,
          -0.04036462184041201,
          -0.06299796204000896,
          -0.16070421242718946,
          -0.20880886503293594,
          -0.06277612063374127,
          0.11960762350160503,
          0.029554109990024058,
          -0.02053333111586575,
          -0.0016918840590290918,
          0.041914116922525224,
          0.12830876695237148,
          0.10666143312973952,
          0.03895308490849514,
          0.14901012000749536,
          0.021358407600346796,
          0.06727840013516984,
          -0.018486946351323752,
          -0.02500948377397949,
          -0.035429734201587015,
          -0.03436061544070812,
          -0.025296897310465583,
          -0.09600342906734849,
          -0.1907599896809431,
          -0.06957599490141564,
          -0.049718639762156736,
          0.13967085996190542,
          0.08026046587813873,
          0.10388625566424659,
          0.23748021878679482,
          0.0788262890515894,
          -0.016021839208104516,
          0.011592607033805269,
          0.010667930508686085,
          -0.031135295824814224,
          -0.023061860984334492,
          -0.11381722119906701,
          -0.20850478781780846,
          -0.24309275330851432,
          -0.08270526605431006,
          -0.1356845501780366,
          -0.026358516798265397,
          -0.15074104884256478,
          -0.18587305941936283,
          0.27441115059884025,
          0.04198973122897298,
          -0.042792626720436266,
          0.0910090933436356,
          0.15852922644442802,
          0.03264999133045299,
          0.032778501429434614,
          0.03126030234523558,
          -0.11976395966707776,
          0.038420870413421015,
          0.1260488787832772,
          0.15984908421271915,
          0.23470259246377,
          0.46991863183553506,
          0.12346266602205413,
          0.201454005034166,
          0.0926520789845462,
          0.029222927421078237,
          0.004984007858658046,
          -0.015081197327650897,
          -0.027304264701037306,
          -0.06311164738703867,
          -0.04494145518973425,
          -0.20796008790785114,
          -0.1302393310165808
         ]
        },
        {
         "mode": "lines",
         "name": "slowk",
         "type": "scatter",
         "x": [
          "2022-02-12T00:00:00",
          "2022-02-13T00:00:00",
          "2022-02-14T00:00:00",
          "2022-02-15T00:00:00",
          "2022-02-16T00:00:00",
          "2022-02-17T00:00:00",
          "2022-02-18T00:00:00",
          "2022-02-19T00:00:00",
          "2022-02-20T00:00:00",
          "2022-02-21T00:00:00",
          "2022-02-22T00:00:00",
          "2022-02-23T00:00:00",
          "2022-02-24T00:00:00",
          "2022-02-25T00:00:00",
          "2022-02-26T00:00:00",
          "2022-02-27T00:00:00",
          "2022-02-28T00:00:00",
          "2022-03-01T00:00:00",
          "2022-03-02T00:00:00",
          "2022-03-03T00:00:00",
          "2022-03-04T00:00:00",
          "2022-03-05T00:00:00",
          "2022-03-06T00:00:00",
          "2022-03-07T00:00:00",
          "2022-03-08T00:00:00",
          "2022-03-09T00:00:00",
          "2022-03-10T00:00:00",
          "2022-03-11T00:00:00",
          "2022-03-12T00:00:00",
          "2022-03-13T00:00:00",
          "2022-03-14T00:00:00",
          "2022-03-15T00:00:00",
          "2022-03-16T00:00:00",
          "2022-03-17T00:00:00",
          "2022-03-18T00:00:00",
          "2022-03-19T00:00:00",
          "2022-03-20T00:00:00",
          "2022-03-21T00:00:00",
          "2022-03-22T00:00:00",
          "2022-03-23T00:00:00",
          "2022-03-24T00:00:00",
          "2022-03-25T00:00:00",
          "2022-03-26T00:00:00",
          "2022-03-27T00:00:00",
          "2022-03-28T00:00:00",
          "2022-03-29T00:00:00",
          "2022-03-30T00:00:00",
          "2022-03-31T00:00:00",
          "2022-04-01T00:00:00",
          "2022-04-02T00:00:00",
          "2022-04-03T00:00:00",
          "2022-04-04T00:00:00",
          "2022-04-05T00:00:00",
          "2022-04-06T00:00:00",
          "2022-04-07T00:00:00",
          "2022-04-08T00:00:00",
          "2022-04-09T00:00:00",
          "2022-04-10T00:00:00",
          "2022-04-11T00:00:00",
          "2022-04-12T00:00:00",
          "2022-04-13T00:00:00",
          "2022-04-14T00:00:00",
          "2022-04-15T00:00:00",
          "2022-04-16T00:00:00",
          "2022-04-17T00:00:00",
          "2022-04-18T00:00:00",
          "2022-04-19T00:00:00",
          "2022-04-20T00:00:00",
          "2022-04-21T00:00:00",
          "2022-04-22T00:00:00",
          "2022-04-23T00:00:00",
          "2022-04-24T00:00:00",
          "2022-04-25T00:00:00",
          "2022-04-26T00:00:00",
          "2022-04-27T00:00:00",
          "2022-04-28T00:00:00",
          "2022-04-29T00:00:00",
          "2022-04-30T00:00:00",
          "2022-05-01T00:00:00",
          "2022-05-02T00:00:00",
          "2022-05-03T00:00:00",
          "2022-05-04T00:00:00",
          "2022-05-05T00:00:00",
          "2022-05-06T00:00:00",
          "2022-05-07T00:00:00",
          "2022-05-08T00:00:00",
          "2022-05-09T00:00:00",
          "2022-05-10T00:00:00",
          "2022-05-11T00:00:00",
          "2022-05-12T00:00:00",
          "2022-05-13T00:00:00",
          "2022-05-14T00:00:00",
          "2022-05-15T00:00:00",
          "2022-05-16T00:00:00",
          "2022-05-17T00:00:00",
          "2022-05-18T00:00:00",
          "2022-05-19T00:00:00",
          "2022-05-20T00:00:00"
         ],
         "xaxis": "x2",
         "y": [
          26.562896452838107,
          12.06928107725817,
          14.029615099548034,
          42.90559400414312,
          65.34393668971764,
          59.941041335756246,
          30.242113223877595,
          7.996048095845697,
          7.460610740749833,
          5.432856525608018,
          15.712637848975442,
          20.920517270793514,
          43.15008992570361,
          60.31014608431593,
          81.38282425904517,
          78.11059200558294,
          78.76005358358657,
          82.22585901554218,
          91.09875400317567,
          81.92257951871387,
          57.67458808908544,
          32.56407127352343,
          11.451145936042417,
          8.263396289078129,
          14.397633146473146,
          43.62824322026898,
          53.617339317509696,
          54.01210665866258,
          30.76919910679959,
          17.68209469640184,
          23.16424080362961,
          39.184506403995805,
          68.83105732973739,
          82.32668389356576,
          89.72743146658706,
          91.51167523067267,
          85.22506446492197,
          67.64067509999744,
          59.64243228894939,
          67.31216527298942,
          86.16489043031703,
          90.20262128252621,
          89.24412518332362,
          90.84145303251451,
          89.88735146672423,
          89.26411991694266,
          80.60393084968509,
          63.292286051930596,
          51.68355328816748,
          40.55840749389932,
          51.51588130979855,
          58.315265280464295,
          58.0188791600153,
          37.105306963880665,
          17.868804217163074,
          5.371435885115319,
          9.323076522473277,
          6.52601806172375,
          6.914534090301314,
          8.408606559762942,
          21.57928747561118,
          25.16728782596732,
          32.51226423839381,
          34.318060447673524,
          31.383947101129625,
          44.25871053191091,
          58.94538747312395,
          83.22250584786822,
          71.99574601538315,
          48.86029328151951,
          24.42994067934065,
          12.034891799132838,
          19.255883625370974,
          20.33879653544466,
          34.171218184956764,
          40.914804330756745,
          46.77685722176226,
          30.984495637218625,
          19.69935760373579,
          22.8779714146195,
          25.077974483153227,
          44.49724901298072,
          38.69758452904251,
          40.52374267993099,
          13.902551953595955,
          8.980412813130046,
          4.7670955496037655,
          6.377798020088214,
          8.58777173531241,
          18.4112302023314,
          25.44967988797509,
          42.25955169342624,
          61.60025794813867,
          72.79766358701481,
          74.82442523661808,
          45.88239044327732,
          42.85424787743367,
          27.123670048815487
         ],
         "yaxis": "y2"
        },
        {
         "mode": "lines",
         "name": "slowd",
         "type": "scatter",
         "x": [
          "2022-02-12T00:00:00",
          "2022-02-13T00:00:00",
          "2022-02-14T00:00:00",
          "2022-02-15T00:00:00",
          "2022-02-16T00:00:00",
          "2022-02-17T00:00:00",
          "2022-02-18T00:00:00",
          "2022-02-19T00:00:00",
          "2022-02-20T00:00:00",
          "2022-02-21T00:00:00",
          "2022-02-22T00:00:00",
          "2022-02-23T00:00:00",
          "2022-02-24T00:00:00",
          "2022-02-25T00:00:00",
          "2022-02-26T00:00:00",
          "2022-02-27T00:00:00",
          "2022-02-28T00:00:00",
          "2022-03-01T00:00:00",
          "2022-03-02T00:00:00",
          "2022-03-03T00:00:00",
          "2022-03-04T00:00:00",
          "2022-03-05T00:00:00",
          "2022-03-06T00:00:00",
          "2022-03-07T00:00:00",
          "2022-03-08T00:00:00",
          "2022-03-09T00:00:00",
          "2022-03-10T00:00:00",
          "2022-03-11T00:00:00",
          "2022-03-12T00:00:00",
          "2022-03-13T00:00:00",
          "2022-03-14T00:00:00",
          "2022-03-15T00:00:00",
          "2022-03-16T00:00:00",
          "2022-03-17T00:00:00",
          "2022-03-18T00:00:00",
          "2022-03-19T00:00:00",
          "2022-03-20T00:00:00",
          "2022-03-21T00:00:00",
          "2022-03-22T00:00:00",
          "2022-03-23T00:00:00",
          "2022-03-24T00:00:00",
          "2022-03-25T00:00:00",
          "2022-03-26T00:00:00",
          "2022-03-27T00:00:00",
          "2022-03-28T00:00:00",
          "2022-03-29T00:00:00",
          "2022-03-30T00:00:00",
          "2022-03-31T00:00:00",
          "2022-04-01T00:00:00",
          "2022-04-02T00:00:00",
          "2022-04-03T00:00:00",
          "2022-04-04T00:00:00",
          "2022-04-05T00:00:00",
          "2022-04-06T00:00:00",
          "2022-04-07T00:00:00",
          "2022-04-08T00:00:00",
          "2022-04-09T00:00:00",
          "2022-04-10T00:00:00",
          "2022-04-11T00:00:00",
          "2022-04-12T00:00:00",
          "2022-04-13T00:00:00",
          "2022-04-14T00:00:00",
          "2022-04-15T00:00:00",
          "2022-04-16T00:00:00",
          "2022-04-17T00:00:00",
          "2022-04-18T00:00:00",
          "2022-04-19T00:00:00",
          "2022-04-20T00:00:00",
          "2022-04-21T00:00:00",
          "2022-04-22T00:00:00",
          "2022-04-23T00:00:00",
          "2022-04-24T00:00:00",
          "2022-04-25T00:00:00",
          "2022-04-26T00:00:00",
          "2022-04-27T00:00:00",
          "2022-04-28T00:00:00",
          "2022-04-29T00:00:00",
          "2022-04-30T00:00:00",
          "2022-05-01T00:00:00",
          "2022-05-02T00:00:00",
          "2022-05-03T00:00:00",
          "2022-05-04T00:00:00",
          "2022-05-05T00:00:00",
          "2022-05-06T00:00:00",
          "2022-05-07T00:00:00",
          "2022-05-08T00:00:00",
          "2022-05-09T00:00:00",
          "2022-05-10T00:00:00",
          "2022-05-11T00:00:00",
          "2022-05-12T00:00:00",
          "2022-05-13T00:00:00",
          "2022-05-14T00:00:00",
          "2022-05-15T00:00:00",
          "2022-05-16T00:00:00",
          "2022-05-17T00:00:00",
          "2022-05-18T00:00:00",
          "2022-05-19T00:00:00",
          "2022-05-20T00:00:00"
         ],
         "xaxis": "x2",
         "y": [
          49.15642831040418,
          29.20596797811832,
          17.553930876548126,
          23.00149672698313,
          40.75971526446962,
          56.06352400987236,
          51.84236374978385,
          32.72640088515987,
          15.23292402015773,
          6.963171787401204,
          9.535368371777786,
          14.022003881792346,
          26.59441501515754,
          41.46025109360437,
          61.61435342302159,
          73.26785411631471,
          79.41782328273825,
          79.69883486823727,
          84.02822220076818,
          85.08239751247727,
          76.89864053699169,
          57.38707962710762,
          33.89660176621713,
          17.426204499548028,
          11.3707251238646,
          22.096424218606785,
          37.21440522808397,
          50.41922973214712,
          46.13288169432399,
          34.154466820621366,
          23.871844868943707,
          26.676947301342448,
          43.726601512454295,
          63.447415875766346,
          80.29505756329677,
          87.85526353027518,
          88.82139038739392,
          81.45913826519738,
          70.83605728462295,
          64.86509088731209,
          71.03982933075196,
          81.22655899527757,
          88.5372122987223,
          90.09606649945478,
          89.99097656085412,
          89.99764147206048,
          86.585134077784,
          77.7201122728528,
          65.19325672992774,
          51.84474894466581,
          47.91928069728846,
          50.1298513613874,
          55.95000858342606,
          51.14648380145343,
          37.664330113686354,
          20.115182355386356,
          10.854438874917228,
          7.073510156437454,
          7.587876224832786,
          7.283052903929341,
          12.300809375225151,
          18.385060620447153,
          26.419613179990776,
          30.665870837344887,
          32.738090595732324,
          36.653572693571356,
          44.86268170205483,
          62.14220128430103,
          71.38787977879178,
          68.02618171492364,
          48.428659992081116,
          28.441708586664344,
          18.57357203461483,
          17.209857319982834,
          24.588632781924144,
          31.808273017052738,
          40.62095991249194,
          39.558719063245896,
          32.48690348757225,
          24.52060821852466,
          22.551767833836195,
          30.817731636917838,
          36.09093600839217,
          41.23952540731809,
          31.04129305418984,
          21.135569148885686,
          9.216686772109945,
          6.708435460940699,
          6.577555101668153,
          11.125599985910696,
          17.482893941872987,
          28.706820594577596,
          43.103163176513355,
          58.885824409526585,
          69.74078225725721,
          64.5014930889701,
          54.52035451910971,
          38.62010278984218
         ],
         "yaxis": "y2"
        },
        {
         "mode": "lines",
         "name": "rsi",
         "type": "scatter",
         "x": [
          "2022-02-12T00:00:00",
          "2022-02-13T00:00:00",
          "2022-02-14T00:00:00",
          "2022-02-15T00:00:00",
          "2022-02-16T00:00:00",
          "2022-02-17T00:00:00",
          "2022-02-18T00:00:00",
          "2022-02-19T00:00:00",
          "2022-02-20T00:00:00",
          "2022-02-21T00:00:00",
          "2022-02-22T00:00:00",
          "2022-02-23T00:00:00",
          "2022-02-24T00:00:00",
          "2022-02-25T00:00:00",
          "2022-02-26T00:00:00",
          "2022-02-27T00:00:00",
          "2022-02-28T00:00:00",
          "2022-03-01T00:00:00",
          "2022-03-02T00:00:00",
          "2022-03-03T00:00:00",
          "2022-03-04T00:00:00",
          "2022-03-05T00:00:00",
          "2022-03-06T00:00:00",
          "2022-03-07T00:00:00",
          "2022-03-08T00:00:00",
          "2022-03-09T00:00:00",
          "2022-03-10T00:00:00",
          "2022-03-11T00:00:00",
          "2022-03-12T00:00:00",
          "2022-03-13T00:00:00",
          "2022-03-14T00:00:00",
          "2022-03-15T00:00:00",
          "2022-03-16T00:00:00",
          "2022-03-17T00:00:00",
          "2022-03-18T00:00:00",
          "2022-03-19T00:00:00",
          "2022-03-20T00:00:00",
          "2022-03-21T00:00:00",
          "2022-03-22T00:00:00",
          "2022-03-23T00:00:00",
          "2022-03-24T00:00:00",
          "2022-03-25T00:00:00",
          "2022-03-26T00:00:00",
          "2022-03-27T00:00:00",
          "2022-03-28T00:00:00",
          "2022-03-29T00:00:00",
          "2022-03-30T00:00:00",
          "2022-03-31T00:00:00",
          "2022-04-01T00:00:00",
          "2022-04-02T00:00:00",
          "2022-04-03T00:00:00",
          "2022-04-04T00:00:00",
          "2022-04-05T00:00:00",
          "2022-04-06T00:00:00",
          "2022-04-07T00:00:00",
          "2022-04-08T00:00:00",
          "2022-04-09T00:00:00",
          "2022-04-10T00:00:00",
          "2022-04-11T00:00:00",
          "2022-04-12T00:00:00",
          "2022-04-13T00:00:00",
          "2022-04-14T00:00:00",
          "2022-04-15T00:00:00",
          "2022-04-16T00:00:00",
          "2022-04-17T00:00:00",
          "2022-04-18T00:00:00",
          "2022-04-19T00:00:00",
          "2022-04-20T00:00:00",
          "2022-04-21T00:00:00",
          "2022-04-22T00:00:00",
          "2022-04-23T00:00:00",
          "2022-04-24T00:00:00",
          "2022-04-25T00:00:00",
          "2022-04-26T00:00:00",
          "2022-04-27T00:00:00",
          "2022-04-28T00:00:00",
          "2022-04-29T00:00:00",
          "2022-04-30T00:00:00",
          "2022-05-01T00:00:00",
          "2022-05-02T00:00:00",
          "2022-05-03T00:00:00",
          "2022-05-04T00:00:00",
          "2022-05-05T00:00:00",
          "2022-05-06T00:00:00",
          "2022-05-07T00:00:00",
          "2022-05-08T00:00:00",
          "2022-05-09T00:00:00",
          "2022-05-10T00:00:00",
          "2022-05-11T00:00:00",
          "2022-05-12T00:00:00",
          "2022-05-13T00:00:00",
          "2022-05-14T00:00:00",
          "2022-05-15T00:00:00",
          "2022-05-16T00:00:00",
          "2022-05-17T00:00:00",
          "2022-05-18T00:00:00",
          "2022-05-19T00:00:00",
          "2022-05-20T00:00:00"
         ],
         "xaxis": "x3",
         "y": [
          53.505384174900485,
          53.293763262425934,
          54.879504211326115,
          61.94732994513781,
          58.89802272323885,
          45.501835275022415,
          43.916943994435734,
          44.290814000275965,
          39.110734027680685,
          35.53887546709479,
          40.717891580847215,
          38.041704681645776,
          42.296473144054744,
          45.6963912455988,
          45.342261137172954,
          40.98829762069931,
          57.97806457312434,
          60.55516597332783,
          59.11527841482416,
          54.37753165669263,
          45.569454474207525,
          46.30884607859683,
          43.9250119902656,
          43.058140619789505,
          45.24231072795836,
          54.275089828481995,
          47.66772206467326,
          46.14841333271241,
          46.45871957342894,
          43.84148747252749,
          49.13285747857287,
          48.25362888811671,
          53.19312003168991,
          52.61908011571887,
          54.91945628268628,
          55.96927046239204,
          52.7814264784274,
          52.20754658895525,
          56.067360323222694,
          57.597523927094485,
          60.541625205341575,
          61.57946598544329,
          61.99947879083864,
          67.7588543131887,
          68.43828665170348,
          69.2019908256663,
          67.12505139613287,
          59.848482683564356,
          62.00015424783025,
          60.08389480544566,
          61.87246320491487,
          62.39469799982066,
          57.10832690638159,
          47.59323932299471,
          48.75029522704198,
          44.44650901211611,
          46.50383199477785,
          44.45459503891433,
          36.41624201700686,
          39.07628407236999,
          43.4311029925994,
          39.81925216710188,
          42.39538579347426,
          41.99338576421853,
          39.776617763066064,
          44.68184012964113,
          47.477342207646785,
          46.9945286161759,
          43.84259715635582,
          41.09834481326728,
          40.22905569118264,
          40.166463652298646,
          45.33503472268423,
          37.18858016559763,
          42.50242948742524,
          44.87142408195555,
          40.92393287805148,
          38.15857914718022,
          41.71483897547697,
          42.000236730533395,
          39.331995377537346,
          48.15725489068275,
          38.52891974671202,
          37.16707930281389,
          35.79928306161699,
          32.38159005851162,
          25.562730058910816,
          28.668106767272487,
          25.404364917874002,
          25.88699783905028,
          26.956772497827348,
          30.68343800924017,
          35.84373749673219,
          32.71742241331945,
          35.08532154716942,
          31.487988562078222,
          37.867254206381276,
          35.40011685784629
         ],
         "yaxis": "y3"
        },
        {
         "mode": "lines",
         "name": "macd",
         "type": "scatter",
         "x": [
          "2022-02-12T00:00:00",
          "2022-02-13T00:00:00",
          "2022-02-14T00:00:00",
          "2022-02-15T00:00:00",
          "2022-02-16T00:00:00",
          "2022-02-17T00:00:00",
          "2022-02-18T00:00:00",
          "2022-02-19T00:00:00",
          "2022-02-20T00:00:00",
          "2022-02-21T00:00:00",
          "2022-02-22T00:00:00",
          "2022-02-23T00:00:00",
          "2022-02-24T00:00:00",
          "2022-02-25T00:00:00",
          "2022-02-26T00:00:00",
          "2022-02-27T00:00:00",
          "2022-02-28T00:00:00",
          "2022-03-01T00:00:00",
          "2022-03-02T00:00:00",
          "2022-03-03T00:00:00",
          "2022-03-04T00:00:00",
          "2022-03-05T00:00:00",
          "2022-03-06T00:00:00",
          "2022-03-07T00:00:00",
          "2022-03-08T00:00:00",
          "2022-03-09T00:00:00",
          "2022-03-10T00:00:00",
          "2022-03-11T00:00:00",
          "2022-03-12T00:00:00",
          "2022-03-13T00:00:00",
          "2022-03-14T00:00:00",
          "2022-03-15T00:00:00",
          "2022-03-16T00:00:00",
          "2022-03-17T00:00:00",
          "2022-03-18T00:00:00",
          "2022-03-19T00:00:00",
          "2022-03-20T00:00:00",
          "2022-03-21T00:00:00",
          "2022-03-22T00:00:00",
          "2022-03-23T00:00:00",
          "2022-03-24T00:00:00",
          "2022-03-25T00:00:00",
          "2022-03-26T00:00:00",
          "2022-03-27T00:00:00",
          "2022-03-28T00:00:00",
          "2022-03-29T00:00:00",
          "2022-03-30T00:00:00",
          "2022-03-31T00:00:00",
          "2022-04-01T00:00:00",
          "2022-04-02T00:00:00",
          "2022-04-03T00:00:00",
          "2022-04-04T00:00:00",
          "2022-04-05T00:00:00",
          "2022-04-06T00:00:00",
          "2022-04-07T00:00:00",
          "2022-04-08T00:00:00",
          "2022-04-09T00:00:00",
          "2022-04-10T00:00:00",
          "2022-04-11T00:00:00",
          "2022-04-12T00:00:00",
          "2022-04-13T00:00:00",
          "2022-04-14T00:00:00",
          "2022-04-15T00:00:00",
          "2022-04-16T00:00:00",
          "2022-04-17T00:00:00",
          "2022-04-18T00:00:00",
          "2022-04-19T00:00:00",
          "2022-04-20T00:00:00",
          "2022-04-21T00:00:00",
          "2022-04-22T00:00:00",
          "2022-04-23T00:00:00",
          "2022-04-24T00:00:00",
          "2022-04-25T00:00:00",
          "2022-04-26T00:00:00",
          "2022-04-27T00:00:00",
          "2022-04-28T00:00:00",
          "2022-04-29T00:00:00",
          "2022-04-30T00:00:00",
          "2022-05-01T00:00:00",
          "2022-05-02T00:00:00",
          "2022-05-03T00:00:00",
          "2022-05-04T00:00:00",
          "2022-05-05T00:00:00",
          "2022-05-06T00:00:00",
          "2022-05-07T00:00:00",
          "2022-05-08T00:00:00",
          "2022-05-09T00:00:00",
          "2022-05-10T00:00:00",
          "2022-05-11T00:00:00",
          "2022-05-12T00:00:00",
          "2022-05-13T00:00:00",
          "2022-05-14T00:00:00",
          "2022-05-15T00:00:00",
          "2022-05-16T00:00:00",
          "2022-05-17T00:00:00",
          "2022-05-18T00:00:00",
          "2022-05-19T00:00:00",
          "2022-05-20T00:00:00"
         ],
         "xaxis": "x4",
         "y": [
          538.0792426528278,
          525.3032721748459,
          540.3706814479374,
          704.6272033832865,
          776.3605644051931,
          550.5870534319765,
          326.97722976712976,
          155.33170504661393,
          -115.79539393723098,
          -435.07603501930134,
          -583.6828200121527,
          -772.3920264736516,
          -828.7919407785521,
          -793.2071720341992,
          -764.9887351600264,
          -845.4734838607765,
          -461.47016144556983,
          -62.70645792715368,
          216.08641222747247,
          314.6006747448773,
          123.81970285972056,
          -6.085120373492828,
          -186.0176835006714,
          -353.4246717513015,
          -426.6918226257112,
          -220.31952689910395,
          -259.17809155034774,
          -337.9218658748214,
          -387.0664719310298,
          -505.2665720812729,
          -447.1624285712751,
          -422.7061203674748,
          -254.72789782469044,
          -135.57832256667461,
          27.106042422557948,
          185.32731543494447,
          231.96649867331143,
          252.31613370424748,
          367.5572593415418,
          496.2673355890947,
          676.6478067449934,
          841.1958148386984,
          972.6620636746375,
          1249.6226446580695,
          1476.9046882957118,
          1665.0849931309494,
          1761.3909318265796,
          1695.199756723996,
          1683.2902205983337,
          1621.8550295244058,
          1601.8754955830154,
          1581.4572297248524,
          1462.3461395399718,
          1164.9557015513565,
          942.3826794628258,
          660.2452081887604,
          471.118282097239,
          271.7467908477847,
          -101.80219528323505,
          -345.02409672169597,
          -448.7238517322039,
          -623.0730051395003,
          -703.2757032632871,
          -768.3870773259332,
          -867.0849535593297,
          -846.0429251403839,
          -765.9468741695237,
          -704.7052477060934,
          -716.2612854033287,
          -779.9366938082458,
          -841.1660560906457,
          -880.9428663564395,
          -823.1719656660425,
          -955.2632728525787,
          -958.2307144761944,
          -907.1404771929738,
          -949.629742758043,
          -1043.4890224855772,
          -1044.9682841241156,
          -1029.4137579534654,
          -1067.628431090954,
          -930.012528707608,
          -1060.7419584932213,
          -1193.6928142113757,
          -1327.2479112644942,
          -1531.845945579451,
          -1974.814109836705,
          -2241.45314468399,
          -2591.263241206121,
          -2826.9145859817945,
          -2960.55167350141,
          -2966.2481216820015,
          -2840.874322217427,
          -2825.3192698196253,
          -2736.0280413974833,
          -2770.948856976738,
          -2639.5690246587546,
          -2595.389238373631
         ],
         "yaxis": "y4"
        },
        {
         "mode": "lines",
         "name": "macd signal",
         "type": "scatter",
         "x": [
          "2022-02-12T00:00:00",
          "2022-02-13T00:00:00",
          "2022-02-14T00:00:00",
          "2022-02-15T00:00:00",
          "2022-02-16T00:00:00",
          "2022-02-17T00:00:00",
          "2022-02-18T00:00:00",
          "2022-02-19T00:00:00",
          "2022-02-20T00:00:00",
          "2022-02-21T00:00:00",
          "2022-02-22T00:00:00",
          "2022-02-23T00:00:00",
          "2022-02-24T00:00:00",
          "2022-02-25T00:00:00",
          "2022-02-26T00:00:00",
          "2022-02-27T00:00:00",
          "2022-02-28T00:00:00",
          "2022-03-01T00:00:00",
          "2022-03-02T00:00:00",
          "2022-03-03T00:00:00",
          "2022-03-04T00:00:00",
          "2022-03-05T00:00:00",
          "2022-03-06T00:00:00",
          "2022-03-07T00:00:00",
          "2022-03-08T00:00:00",
          "2022-03-09T00:00:00",
          "2022-03-10T00:00:00",
          "2022-03-11T00:00:00",
          "2022-03-12T00:00:00",
          "2022-03-13T00:00:00",
          "2022-03-14T00:00:00",
          "2022-03-15T00:00:00",
          "2022-03-16T00:00:00",
          "2022-03-17T00:00:00",
          "2022-03-18T00:00:00",
          "2022-03-19T00:00:00",
          "2022-03-20T00:00:00",
          "2022-03-21T00:00:00",
          "2022-03-22T00:00:00",
          "2022-03-23T00:00:00",
          "2022-03-24T00:00:00",
          "2022-03-25T00:00:00",
          "2022-03-26T00:00:00",
          "2022-03-27T00:00:00",
          "2022-03-28T00:00:00",
          "2022-03-29T00:00:00",
          "2022-03-30T00:00:00",
          "2022-03-31T00:00:00",
          "2022-04-01T00:00:00",
          "2022-04-02T00:00:00",
          "2022-04-03T00:00:00",
          "2022-04-04T00:00:00",
          "2022-04-05T00:00:00",
          "2022-04-06T00:00:00",
          "2022-04-07T00:00:00",
          "2022-04-08T00:00:00",
          "2022-04-09T00:00:00",
          "2022-04-10T00:00:00",
          "2022-04-11T00:00:00",
          "2022-04-12T00:00:00",
          "2022-04-13T00:00:00",
          "2022-04-14T00:00:00",
          "2022-04-15T00:00:00",
          "2022-04-16T00:00:00",
          "2022-04-17T00:00:00",
          "2022-04-18T00:00:00",
          "2022-04-19T00:00:00",
          "2022-04-20T00:00:00",
          "2022-04-21T00:00:00",
          "2022-04-22T00:00:00",
          "2022-04-23T00:00:00",
          "2022-04-24T00:00:00",
          "2022-04-25T00:00:00",
          "2022-04-26T00:00:00",
          "2022-04-27T00:00:00",
          "2022-04-28T00:00:00",
          "2022-04-29T00:00:00",
          "2022-04-30T00:00:00",
          "2022-05-01T00:00:00",
          "2022-05-02T00:00:00",
          "2022-05-03T00:00:00",
          "2022-05-04T00:00:00",
          "2022-05-05T00:00:00",
          "2022-05-06T00:00:00",
          "2022-05-07T00:00:00",
          "2022-05-08T00:00:00",
          "2022-05-09T00:00:00",
          "2022-05-10T00:00:00",
          "2022-05-11T00:00:00",
          "2022-05-12T00:00:00",
          "2022-05-13T00:00:00",
          "2022-05-14T00:00:00",
          "2022-05-15T00:00:00",
          "2022-05-16T00:00:00",
          "2022-05-17T00:00:00",
          "2022-05-18T00:00:00",
          "2022-05-19T00:00:00",
          "2022-05-20T00:00:00"
         ],
         "xaxis": "x4",
         "y": [
          -94.71044760109629,
          29.292296354092173,
          131.50797337286122,
          246.1318193749463,
          352.1775683809957,
          391.85946539119186,
          378.88301826637945,
          334.17275562242634,
          244.17912571049487,
          108.32809356453564,
          -30.074089150802024,
          -178.53767661537196,
          -308.588529448008,
          -405.51225796524625,
          -477.4075534042023,
          -551.0207394955171,
          -533.1106238855276,
          -439.0297906938528,
          -308.00655010958775,
          -183.48510513869473,
          -122.02414353901167,
          -98.83633890590791,
          -116.27260782486061,
          -163.7030206101488,
          -216.3007810132613,
          -217.1045301904298,
          -225.5192424624134,
          -247.99976714489497,
          -275.81310810212193,
          -321.70380089795214,
          -346.7955264326167,
          -361.97764521958834,
          -340.52769574060875,
          -299.53782110582193,
          -234.20904840014595,
          -150.30177563312787,
          -73.84812077184002,
          -8.61526987662252,
          66.61923596701034,
          152.54885589142722,
          257.36864606214044,
          374.13407981745206,
          493.8396765888891,
          644.9962702027252,
          811.3779538213225,
          982.1193616832479,
          1137.9736757119142,
          1249.4188919143305,
          1336.193157651131,
          1393.325532025786,
          1435.035524737232,
          1464.3198657347561,
          1463.9251204957993,
          1404.1312367069108,
          1311.7815252580938,
          1181.4742618442272,
          1039.4030658948295,
          885.8718108854206,
          688.3370096516894,
          481.6647883770123,
          295.58706035516906,
          111.85504725623517,
          -51.17110284766929,
          -194.61429774332208,
          -329.1084289065236,
          -432.49532815329565,
          -499.18563735654124,
          -540.2895594264517,
          -575.483904621827,
          -616.3744624591108,
          -661.3327811854177,
          -705.2547982196221,
          -728.8382317089062,
          -774.1232399376406,
          -810.9447348453514,
          -830.1838833148759,
          -854.0730552035093,
          -891.9562486599228,
          -922.5586557527614,
          -943.9296761929022,
          -968.6694271725125,
          -960.9380474795316,
          -980.8988296822696,
          -1023.4576265880908,
          -1084.2156835233714,
          -1173.7417359345873,
          -1333.956210715011,
          -1515.4555975088067,
          -1730.6171262482696,
          -1949.8766181949745,
          -2152.0116292562616,
          -2314.8589277414094,
          -2420.0620066366128,
          -2501.113459273215,
          -2548.0963756980686,
          -2592.6668719538025,
          -2602.047302494793,
          -2600.7156896705606
         ],
         "yaxis": "y4"
        },
        {
         "mode": "lines",
         "name": "adx",
         "type": "scatter",
         "x": [
          "2022-02-12T00:00:00",
          "2022-02-13T00:00:00",
          "2022-02-14T00:00:00",
          "2022-02-15T00:00:00",
          "2022-02-16T00:00:00",
          "2022-02-17T00:00:00",
          "2022-02-18T00:00:00",
          "2022-02-19T00:00:00",
          "2022-02-20T00:00:00",
          "2022-02-21T00:00:00",
          "2022-02-22T00:00:00",
          "2022-02-23T00:00:00",
          "2022-02-24T00:00:00",
          "2022-02-25T00:00:00",
          "2022-02-26T00:00:00",
          "2022-02-27T00:00:00",
          "2022-02-28T00:00:00",
          "2022-03-01T00:00:00",
          "2022-03-02T00:00:00",
          "2022-03-03T00:00:00",
          "2022-03-04T00:00:00",
          "2022-03-05T00:00:00",
          "2022-03-06T00:00:00",
          "2022-03-07T00:00:00",
          "2022-03-08T00:00:00",
          "2022-03-09T00:00:00",
          "2022-03-10T00:00:00",
          "2022-03-11T00:00:00",
          "2022-03-12T00:00:00",
          "2022-03-13T00:00:00",
          "2022-03-14T00:00:00",
          "2022-03-15T00:00:00",
          "2022-03-16T00:00:00",
          "2022-03-17T00:00:00",
          "2022-03-18T00:00:00",
          "2022-03-19T00:00:00",
          "2022-03-20T00:00:00",
          "2022-03-21T00:00:00",
          "2022-03-22T00:00:00",
          "2022-03-23T00:00:00",
          "2022-03-24T00:00:00",
          "2022-03-25T00:00:00",
          "2022-03-26T00:00:00",
          "2022-03-27T00:00:00",
          "2022-03-28T00:00:00",
          "2022-03-29T00:00:00",
          "2022-03-30T00:00:00",
          "2022-03-31T00:00:00",
          "2022-04-01T00:00:00",
          "2022-04-02T00:00:00",
          "2022-04-03T00:00:00",
          "2022-04-04T00:00:00",
          "2022-04-05T00:00:00",
          "2022-04-06T00:00:00",
          "2022-04-07T00:00:00",
          "2022-04-08T00:00:00",
          "2022-04-09T00:00:00",
          "2022-04-10T00:00:00",
          "2022-04-11T00:00:00",
          "2022-04-12T00:00:00",
          "2022-04-13T00:00:00",
          "2022-04-14T00:00:00",
          "2022-04-15T00:00:00",
          "2022-04-16T00:00:00",
          "2022-04-17T00:00:00",
          "2022-04-18T00:00:00",
          "2022-04-19T00:00:00",
          "2022-04-20T00:00:00",
          "2022-04-21T00:00:00",
          "2022-04-22T00:00:00",
          "2022-04-23T00:00:00",
          "2022-04-24T00:00:00",
          "2022-04-25T00:00:00",
          "2022-04-26T00:00:00",
          "2022-04-27T00:00:00",
          "2022-04-28T00:00:00",
          "2022-04-29T00:00:00",
          "2022-04-30T00:00:00",
          "2022-05-01T00:00:00",
          "2022-05-02T00:00:00",
          "2022-05-03T00:00:00",
          "2022-05-04T00:00:00",
          "2022-05-05T00:00:00",
          "2022-05-06T00:00:00",
          "2022-05-07T00:00:00",
          "2022-05-08T00:00:00",
          "2022-05-09T00:00:00",
          "2022-05-10T00:00:00",
          "2022-05-11T00:00:00",
          "2022-05-12T00:00:00",
          "2022-05-13T00:00:00",
          "2022-05-14T00:00:00",
          "2022-05-15T00:00:00",
          "2022-05-16T00:00:00",
          "2022-05-17T00:00:00",
          "2022-05-18T00:00:00",
          "2022-05-19T00:00:00",
          "2022-05-20T00:00:00"
         ],
         "xaxis": "x5",
         "y": [
          27.40753767773735,
          26.43946374319758,
          25.376456169780052,
          25.20579363506401,
          25.046508602662367,
          23.58610798904127,
          22.49041895349551,
          21.4677758536528,
          21.1977913572673,
          21.382045401039488,
          21.71933269388649,
          21.5740763931954,
          22.37060734875751,
          22.73149043792355,
          22.851585818356906,
          23.438432780265014,
          22.061897791045237,
          20.79877319313421,
          19.727320829881275,
          18.704489239289977,
          18.771668168370034,
          18.842874875992102,
          19.08212014540187,
          19.59027346237748,
          20.064549891554712,
          19.040610185232648,
          18.08493312599872,
          17.38166227992956,
          16.725276156931677,
          16.53387764920328,
          16.08177108218082,
          15.632292572485055,
          14.801112591468511,
          14.025344609186403,
          13.731293565888304,
          13.513509344779777,
          12.96046400588745,
          12.248863459594064,
          12.424879144805198,
          12.589160451002256,
          13.303722828598632,
          14.324044737203575,
          15.276345185234858,
          16.929349297136163,
          18.84713193299957,
          20.637062393138752,
          22.02194726038243,
          22.2997826434239,
          21.907222343586454,
          21.727429897994796,
          21.69012890411016,
          21.372688713684827,
          21.23590030688238,
          20.020841437963025,
          19.04499170672609,
          18.512990471970053,
          18.016474700856172,
          17.155666885687392,
          17.65086906111004,
          18.113057758171177,
          17.984452255095754,
          17.849693073408464,
          17.723917837166994,
          17.593980747433402,
          17.739366551684046,
          18.373784745168205,
          18.379989857063137,
          18.01790716688553,
          18.20167441014535,
          18.765962425474672,
          19.29263123978204,
          19.849478915598162,
          20.839138031863886,
          21.981437939254242,
          23.047584519485238,
          23.125096124424267,
          23.599972221474037,
          24.327030728816524,
          25.06438847628063,
          25.2618790432495,
          25.778400618513636,
          25.002077661132983,
          25.32523550436901,
          25.803019352362575,
          26.497102119668785,
          27.58653341346489,
          29.64334672649013,
          31.64046383116226,
          33.85748742716667,
          36.221378648687285,
          37.72733929090484,
          39.149052930353065,
          39.61385704477352,
          40.12342897468201,
          40.599029442596596,
          41.287032227002925,
          41.93240515657963,
          42.318692491512365
         ],
         "yaxis": "y5"
        }
       ],
       "layout": {
        "annotations": [
         {
          "showarrow": false,
          "text": "<b>Stochastic Oscilator</b>",
          "x": 0.5,
          "xref": "x2 domain",
          "y": 1.5,
          "yref": "y2 domain"
         },
         {
          "showarrow": false,
          "text": "<b>RSI</b>",
          "x": 0.5,
          "xref": "x3 domain",
          "y": 1.5,
          "yref": "y3 domain"
         },
         {
          "showarrow": false,
          "text": "<b>MACD</b>",
          "x": 0.5,
          "xref": "x4 domain",
          "y": 1.5,
          "yref": "y4 domain"
         },
         {
          "showarrow": false,
          "text": "<b>ADX</b>",
          "x": 0.5,
          "xref": "x5 domain",
          "y": 1.5,
          "yref": "y5 domain"
         }
        ],
        "font": {
         "color": "white",
         "size": 15
        },
        "height": 2000,
        "paper_bgcolor": "rgba(0, 0, 0, 0)",
        "plot_bgcolor": "rgba(0, 0, 0, 0)",
        "shapes": [
         {
          "line": {
           "color": "darkslategray",
           "dash": "dash",
           "width": 2
          },
          "type": "line",
          "x0": 0,
          "x1": 1,
          "xref": "x2 domain",
          "y0": 20,
          "y1": 20,
          "yref": "y2"
         },
         {
          "line": {
           "color": "darkslategray",
           "dash": "dash",
           "width": 2
          },
          "type": "line",
          "x0": 0,
          "x1": 1,
          "xref": "x2 domain",
          "y0": 80,
          "y1": 80,
          "yref": "y2"
         },
         {
          "line": {
           "color": "darkslategray",
           "dash": "dash",
           "width": 2
          },
          "type": "line",
          "x0": 0,
          "x1": 1,
          "xref": "x3 domain",
          "y0": 30,
          "y1": 30,
          "yref": "y3"
         },
         {
          "line": {
           "color": "darkslategray",
           "dash": "dash",
           "width": 2
          },
          "type": "line",
          "x0": 0,
          "x1": 1,
          "xref": "x3 domain",
          "y0": 70,
          "y1": 70,
          "yref": "y3"
         }
        ],
        "template": {
         "data": {
          "bar": [
           {
            "error_x": {
             "color": "#f2f5fa"
            },
            "error_y": {
             "color": "#f2f5fa"
            },
            "marker": {
             "line": {
              "color": "rgb(17,17,17)",
              "width": 0.5
             },
             "pattern": {
              "fillmode": "overlay",
              "size": 10,
              "solidity": 0.2
             }
            },
            "type": "bar"
           }
          ],
          "barpolar": [
           {
            "marker": {
             "line": {
              "color": "rgb(17,17,17)",
              "width": 0.5
             },
             "pattern": {
              "fillmode": "overlay",
              "size": 10,
              "solidity": 0.2
             }
            },
            "type": "barpolar"
           }
          ],
          "carpet": [
           {
            "aaxis": {
             "endlinecolor": "#A2B1C6",
             "gridcolor": "#506784",
             "linecolor": "#506784",
             "minorgridcolor": "#506784",
             "startlinecolor": "#A2B1C6"
            },
            "baxis": {
             "endlinecolor": "#A2B1C6",
             "gridcolor": "#506784",
             "linecolor": "#506784",
             "minorgridcolor": "#506784",
             "startlinecolor": "#A2B1C6"
            },
            "type": "carpet"
           }
          ],
          "choropleth": [
           {
            "colorbar": {
             "outlinewidth": 0,
             "ticks": ""
            },
            "type": "choropleth"
           }
          ],
          "contour": [
           {
            "colorbar": {
             "outlinewidth": 0,
             "ticks": ""
            },
            "colorscale": [
             [
              0,
              "#0d0887"
             ],
             [
              0.1111111111111111,
              "#46039f"
             ],
             [
              0.2222222222222222,
              "#7201a8"
             ],
             [
              0.3333333333333333,
              "#9c179e"
             ],
             [
              0.4444444444444444,
              "#bd3786"
             ],
             [
              0.5555555555555556,
              "#d8576b"
             ],
             [
              0.6666666666666666,
              "#ed7953"
             ],
             [
              0.7777777777777778,
              "#fb9f3a"
             ],
             [
              0.8888888888888888,
              "#fdca26"
             ],
             [
              1,
              "#f0f921"
             ]
            ],
            "type": "contour"
           }
          ],
          "contourcarpet": [
           {
            "colorbar": {
             "outlinewidth": 0,
             "ticks": ""
            },
            "type": "contourcarpet"
           }
          ],
          "heatmap": [
           {
            "colorbar": {
             "outlinewidth": 0,
             "ticks": ""
            },
            "colorscale": [
             [
              0,
              "#0d0887"
             ],
             [
              0.1111111111111111,
              "#46039f"
             ],
             [
              0.2222222222222222,
              "#7201a8"
             ],
             [
              0.3333333333333333,
              "#9c179e"
             ],
             [
              0.4444444444444444,
              "#bd3786"
             ],
             [
              0.5555555555555556,
              "#d8576b"
             ],
             [
              0.6666666666666666,
              "#ed7953"
             ],
             [
              0.7777777777777778,
              "#fb9f3a"
             ],
             [
              0.8888888888888888,
              "#fdca26"
             ],
             [
              1,
              "#f0f921"
             ]
            ],
            "type": "heatmap"
           }
          ],
          "heatmapgl": [
           {
            "colorbar": {
             "outlinewidth": 0,
             "ticks": ""
            },
            "colorscale": [
             [
              0,
              "#0d0887"
             ],
             [
              0.1111111111111111,
              "#46039f"
             ],
             [
              0.2222222222222222,
              "#7201a8"
             ],
             [
              0.3333333333333333,
              "#9c179e"
             ],
             [
              0.4444444444444444,
              "#bd3786"
             ],
             [
              0.5555555555555556,
              "#d8576b"
             ],
             [
              0.6666666666666666,
              "#ed7953"
             ],
             [
              0.7777777777777778,
              "#fb9f3a"
             ],
             [
              0.8888888888888888,
              "#fdca26"
             ],
             [
              1,
              "#f0f921"
             ]
            ],
            "type": "heatmapgl"
           }
          ],
          "histogram": [
           {
            "marker": {
             "pattern": {
              "fillmode": "overlay",
              "size": 10,
              "solidity": 0.2
             }
            },
            "type": "histogram"
           }
          ],
          "histogram2d": [
           {
            "colorbar": {
             "outlinewidth": 0,
             "ticks": ""
            },
            "colorscale": [
             [
              0,
              "#0d0887"
             ],
             [
              0.1111111111111111,
              "#46039f"
             ],
             [
              0.2222222222222222,
              "#7201a8"
             ],
             [
              0.3333333333333333,
              "#9c179e"
             ],
             [
              0.4444444444444444,
              "#bd3786"
             ],
             [
              0.5555555555555556,
              "#d8576b"
             ],
             [
              0.6666666666666666,
              "#ed7953"
             ],
             [
              0.7777777777777778,
              "#fb9f3a"
             ],
             [
              0.8888888888888888,
              "#fdca26"
             ],
             [
              1,
              "#f0f921"
             ]
            ],
            "type": "histogram2d"
           }
          ],
          "histogram2dcontour": [
           {
            "colorbar": {
             "outlinewidth": 0,
             "ticks": ""
            },
            "colorscale": [
             [
              0,
              "#0d0887"
             ],
             [
              0.1111111111111111,
              "#46039f"
             ],
             [
              0.2222222222222222,
              "#7201a8"
             ],
             [
              0.3333333333333333,
              "#9c179e"
             ],
             [
              0.4444444444444444,
              "#bd3786"
             ],
             [
              0.5555555555555556,
              "#d8576b"
             ],
             [
              0.6666666666666666,
              "#ed7953"
             ],
             [
              0.7777777777777778,
              "#fb9f3a"
             ],
             [
              0.8888888888888888,
              "#fdca26"
             ],
             [
              1,
              "#f0f921"
             ]
            ],
            "type": "histogram2dcontour"
           }
          ],
          "mesh3d": [
           {
            "colorbar": {
             "outlinewidth": 0,
             "ticks": ""
            },
            "type": "mesh3d"
           }
          ],
          "parcoords": [
           {
            "line": {
             "colorbar": {
              "outlinewidth": 0,
              "ticks": ""
             }
            },
            "type": "parcoords"
           }
          ],
          "pie": [
           {
            "automargin": true,
            "type": "pie"
           }
          ],
          "scatter": [
           {
            "marker": {
             "line": {
              "color": "#283442"
             }
            },
            "type": "scatter"
           }
          ],
          "scatter3d": [
           {
            "line": {
             "colorbar": {
              "outlinewidth": 0,
              "ticks": ""
             }
            },
            "marker": {
             "colorbar": {
              "outlinewidth": 0,
              "ticks": ""
             }
            },
            "type": "scatter3d"
           }
          ],
          "scattercarpet": [
           {
            "marker": {
             "colorbar": {
              "outlinewidth": 0,
              "ticks": ""
             }
            },
            "type": "scattercarpet"
           }
          ],
          "scattergeo": [
           {
            "marker": {
             "colorbar": {
              "outlinewidth": 0,
              "ticks": ""
             }
            },
            "type": "scattergeo"
           }
          ],
          "scattergl": [
           {
            "marker": {
             "line": {
              "color": "#283442"
             }
            },
            "type": "scattergl"
           }
          ],
          "scattermapbox": [
           {
            "marker": {
             "colorbar": {
              "outlinewidth": 0,
              "ticks": ""
             }
            },
            "type": "scattermapbox"
           }
          ],
          "scatterpolar": [
           {
            "marker": {
             "colorbar": {
              "outlinewidth": 0,
              "ticks": ""
             }
            },
            "type": "scatterpolar"
           }
          ],
          "scatterpolargl": [
           {
            "marker": {
             "colorbar": {
              "outlinewidth": 0,
              "ticks": ""
             }
            },
            "type": "scatterpolargl"
           }
          ],
          "scatterternary": [
           {
            "marker": {
             "colorbar": {
              "outlinewidth": 0,
              "ticks": ""
             }
            },
            "type": "scatterternary"
           }
          ],
          "surface": [
           {
            "colorbar": {
             "outlinewidth": 0,
             "ticks": ""
            },
            "colorscale": [
             [
              0,
              "#0d0887"
             ],
             [
              0.1111111111111111,
              "#46039f"
             ],
             [
              0.2222222222222222,
              "#7201a8"
             ],
             [
              0.3333333333333333,
              "#9c179e"
             ],
             [
              0.4444444444444444,
              "#bd3786"
             ],
             [
              0.5555555555555556,
              "#d8576b"
             ],
             [
              0.6666666666666666,
              "#ed7953"
             ],
             [
              0.7777777777777778,
              "#fb9f3a"
             ],
             [
              0.8888888888888888,
              "#fdca26"
             ],
             [
              1,
              "#f0f921"
             ]
            ],
            "type": "surface"
           }
          ],
          "table": [
           {
            "cells": {
             "fill": {
              "color": "#506784"
             },
             "line": {
              "color": "rgb(17,17,17)"
             }
            },
            "header": {
             "fill": {
              "color": "#2a3f5f"
             },
             "line": {
              "color": "rgb(17,17,17)"
             }
            },
            "type": "table"
           }
          ]
         },
         "layout": {
          "annotationdefaults": {
           "arrowcolor": "#f2f5fa",
           "arrowhead": 0,
           "arrowwidth": 1
          },
          "autotypenumbers": "strict",
          "coloraxis": {
           "colorbar": {
            "outlinewidth": 0,
            "ticks": ""
           }
          },
          "colorscale": {
           "diverging": [
            [
             0,
             "#8e0152"
            ],
            [
             0.1,
             "#c51b7d"
            ],
            [
             0.2,
             "#de77ae"
            ],
            [
             0.3,
             "#f1b6da"
            ],
            [
             0.4,
             "#fde0ef"
            ],
            [
             0.5,
             "#f7f7f7"
            ],
            [
             0.6,
             "#e6f5d0"
            ],
            [
             0.7,
             "#b8e186"
            ],
            [
             0.8,
             "#7fbc41"
            ],
            [
             0.9,
             "#4d9221"
            ],
            [
             1,
             "#276419"
            ]
           ],
           "sequential": [
            [
             0,
             "#0d0887"
            ],
            [
             0.1111111111111111,
             "#46039f"
            ],
            [
             0.2222222222222222,
             "#7201a8"
            ],
            [
             0.3333333333333333,
             "#9c179e"
            ],
            [
             0.4444444444444444,
             "#bd3786"
            ],
            [
             0.5555555555555556,
             "#d8576b"
            ],
            [
             0.6666666666666666,
             "#ed7953"
            ],
            [
             0.7777777777777778,
             "#fb9f3a"
            ],
            [
             0.8888888888888888,
             "#fdca26"
            ],
            [
             1,
             "#f0f921"
            ]
           ],
           "sequentialminus": [
            [
             0,
             "#0d0887"
            ],
            [
             0.1111111111111111,
             "#46039f"
            ],
            [
             0.2222222222222222,
             "#7201a8"
            ],
            [
             0.3333333333333333,
             "#9c179e"
            ],
            [
             0.4444444444444444,
             "#bd3786"
            ],
            [
             0.5555555555555556,
             "#d8576b"
            ],
            [
             0.6666666666666666,
             "#ed7953"
            ],
            [
             0.7777777777777778,
             "#fb9f3a"
            ],
            [
             0.8888888888888888,
             "#fdca26"
            ],
            [
             1,
             "#f0f921"
            ]
           ]
          },
          "colorway": [
           "#636efa",
           "#EF553B",
           "#00cc96",
           "#ab63fa",
           "#FFA15A",
           "#19d3f3",
           "#FF6692",
           "#B6E880",
           "#FF97FF",
           "#FECB52"
          ],
          "font": {
           "color": "#f2f5fa"
          },
          "geo": {
           "bgcolor": "rgb(17,17,17)",
           "lakecolor": "rgb(17,17,17)",
           "landcolor": "rgb(17,17,17)",
           "showlakes": true,
           "showland": true,
           "subunitcolor": "#506784"
          },
          "hoverlabel": {
           "align": "left"
          },
          "hovermode": "closest",
          "mapbox": {
           "style": "dark"
          },
          "paper_bgcolor": "rgb(17,17,17)",
          "plot_bgcolor": "rgb(17,17,17)",
          "polar": {
           "angularaxis": {
            "gridcolor": "#506784",
            "linecolor": "#506784",
            "ticks": ""
           },
           "bgcolor": "rgb(17,17,17)",
           "radialaxis": {
            "gridcolor": "#506784",
            "linecolor": "#506784",
            "ticks": ""
           }
          },
          "scene": {
           "xaxis": {
            "backgroundcolor": "rgb(17,17,17)",
            "gridcolor": "#506784",
            "gridwidth": 2,
            "linecolor": "#506784",
            "showbackground": true,
            "ticks": "",
            "zerolinecolor": "#C8D4E3"
           },
           "yaxis": {
            "backgroundcolor": "rgb(17,17,17)",
            "gridcolor": "#506784",
            "gridwidth": 2,
            "linecolor": "#506784",
            "showbackground": true,
            "ticks": "",
            "zerolinecolor": "#C8D4E3"
           },
           "zaxis": {
            "backgroundcolor": "rgb(17,17,17)",
            "gridcolor": "#506784",
            "gridwidth": 2,
            "linecolor": "#506784",
            "showbackground": true,
            "ticks": "",
            "zerolinecolor": "#C8D4E3"
           }
          },
          "shapedefaults": {
           "line": {
            "color": "#f2f5fa"
           }
          },
          "sliderdefaults": {
           "bgcolor": "#C8D4E3",
           "bordercolor": "rgb(17,17,17)",
           "borderwidth": 1,
           "tickwidth": 0
          },
          "ternary": {
           "aaxis": {
            "gridcolor": "#506784",
            "linecolor": "#506784",
            "ticks": ""
           },
           "baxis": {
            "gridcolor": "#506784",
            "linecolor": "#506784",
            "ticks": ""
           },
           "bgcolor": "rgb(17,17,17)",
           "caxis": {
            "gridcolor": "#506784",
            "linecolor": "#506784",
            "ticks": ""
           }
          },
          "title": {
           "x": 0.05
          },
          "updatemenudefaults": {
           "bgcolor": "#506784",
           "borderwidth": 0
          },
          "xaxis": {
           "automargin": true,
           "gridcolor": "#283442",
           "linecolor": "#506784",
           "ticks": "",
           "title": {
            "standoff": 15
           },
           "zerolinecolor": "#283442",
           "zerolinewidth": 2
          },
          "yaxis": {
           "automargin": true,
           "gridcolor": "#283442",
           "linecolor": "#506784",
           "ticks": "",
           "title": {
            "standoff": 15
           },
           "zerolinecolor": "#283442",
           "zerolinewidth": 2
          }
         }
        },
        "width": 1300,
        "xaxis": {
         "anchor": "y",
         "domain": [
          0,
          1
         ],
         "rangeslider": {
          "visible": false
         }
        },
        "xaxis2": {
         "anchor": "y2",
         "domain": [
          0,
          1
         ]
        },
        "xaxis3": {
         "anchor": "y3",
         "domain": [
          0,
          1
         ]
        },
        "xaxis4": {
         "anchor": "y4",
         "domain": [
          0,
          1
         ]
        },
        "xaxis5": {
         "anchor": "y5",
         "domain": [
          0,
          1
         ]
        },
        "yaxis": {
         "anchor": "x",
         "domain": [
          0.64,
          1
         ],
         "tickformat": ".2%"
        },
        "yaxis2": {
         "anchor": "x2",
         "domain": [
          0.48000000000000004,
          0.54
         ]
        },
        "yaxis3": {
         "anchor": "x3",
         "domain": [
          0.32,
          0.38
         ]
        },
        "yaxis4": {
         "anchor": "x4",
         "domain": [
          0.16,
          0.22
         ]
        },
        "yaxis5": {
         "anchor": "x5",
         "domain": [
          0,
          0.06
         ]
        }
       }
      }
     },
     "metadata": {},
     "output_type": "display_data"
    }
   ],
   "source": [
    "candlestick(df_btc, 100, indicators = [ 'bolinger bands','stdev' , 'stochastic', 'rsi', 'macd', 'adx'])"
   ]
  },
  {
   "cell_type": "code",
   "execution_count": 216,
   "metadata": {},
   "outputs": [
    {
     "data": {
      "application/vnd.plotly.v1+json": {
       "config": {
        "plotlyServerURL": "https://plot.ly"
       },
       "data": [
        {
         "close": [
          null,
          -0.001111462077505676,
          0.009228086961576842,
          0.04668769779745485,
          -0.013759752216496501,
          -0.07788223029977337,
          -0.012507647384577658,
          0.0022777282826873524,
          -0.04214073972532317,
          -0.03528620868790788,
          0.03265642371222732,
          -0.025843815613622922,
          0.027778400368163814,
          0.022998939789759643,
          -0.002781397053842838,
          -0.03568234201898368,
          0.1454118392886461,
          0.026888524570001016,
          -0.009706302725009275,
          -0.03351981142193561,
          -0.07806935036049167,
          0.00671938064683042,
          -0.024887994408395286,
          -0.009316643885282638,
          0.017740259990833174,
          0.08378639716414904,
          -0.060630954045771346,
          -0.016291319622939393,
          0.002810649293818468,
          -0.027101257933814904,
          0.0480080837903738,
          -0.008268101563720931,
          0.04588714481344902,
          -0.00467993171076464,
          0.020750884742987363,
          0.009317830622209256,
          -0.022346848712323064,
          -0.004117262624553253,
          0.031180014163224357,
          0.012610091153007819,
          0.024898646221148013,
          0.008821397620525806,
          0.003429583093865096,
          0.052126312256127294,
          0.0065678873583499,
          0.0071661546110000085,
          -0.008491735032190584,
          -0.03238210822970233,
          0.016315115388267687,
          -0.008917040798352427,
          0.012745379989237415,
          0.003640395949819908,
          -0.02287907280900814,
          -0.05156849392240015,
          0.006876459247305178,
          -0.02795577079433975,
          0.011693070951357853,
          -0.013427680050824398,
          -0.06363225953812457,
          0.015315083892861292,
          0.025906300465151855,
          -0.029908006531745968,
          0.015473675726454417,
          -0.0031805042860567623,
          -0.017502542356175654,
          0.027929174608607443,
          0.016571096753378534,
          -0.003093074404708074,
          -0.020471984048854197,
          -0.019420038833716236,
          -0.0063811726165236005,
          -0.0004416040475622163,
          0.025057850055308917,
          -0.057858267871623625,
          0.029478882606909007,
          0.013575224570606004,
          -0.02926557389929385,
          -0.023179313474195662,
          0.019997911964443782,
          0.001565786170879102,
          -0.020215120218891713,
          0.051599856624237495,
          -0.07867402068901796,
          -0.014606061408683924,
          -0.014954355270636377,
          -0.040636848764922684,
          -0.11046369999353145,
          0.02396125848050934,
          -0.06725839173272163,
          0.003849706798608521,
          0.008102229834508146,
          0.027939733537411415,
          0.03999325713567892,
          -0.046069001557128786,
          0.018850785235190015,
          -0.05605711989808215,
          0.05550304428240649,
          -0.036734890846488066
         ],
         "high": [
          null,
          -0.006966232249718374,
          0.001937613901265678,
          0.04421758115697605,
          -0.0019912009016679333,
          -0.00998927536087113,
          -0.07259470911815602,
          -0.0124672368783596,
          -0.007397243301663359,
          -0.018082131174803062,
          -0.026262134882621413,
          0.019878569749075536,
          -0.0039249818253671576,
          0.016974700238762575,
          0.009463042377093833,
          -0.005659399636903983,
          0.10009104024006099,
          0.02360908914895976,
          0.0063396680015508355,
          -0.02342628073477493,
          -0.03502747764679326,
          -0.06858059946218686,
          0.001866229005047071,
          -0.0052963745647491844,
          -0.0031900693253846812,
          0.08042934476731478,
          -0.010854539493848514,
          -0.04578167821515622,
          -0.01928766551894523,
          -0.002524793548167148,
          0.013597481627569241,
          0.0013116665094043967,
          0.0419861741313432,
          -0.004290751826916184,
          0.021997218629373982,
          0.0028630514905836346,
          -0.0017815870303418135,
          -0.018625289423509273,
          0.04029238068288299,
          -0.00536117772539213,
          0.0288702817606612,
          0.019660100612909348,
          -0.005855534828083986,
          0.04675319572334735,
          0.026892057059096253,
          -0.001342298234882744,
          -0.007645212924402123,
          -0.003003266141069827,
          -0.01885386093439001,
          0.008838959194580553,
          0.0060643362870080875,
          -0.011040970917872373,
          0.006733136208240786,
          -0.033154598010543324,
          -0.036967396566962796,
          0.000964880023661463,
          -0.025424290559456608,
          0.013779069103956099,
          -0.02194256612699541,
          -0.0425933147003944,
          0.02000288129506722,
          0.0005171555145560003,
          -0.020114065965112227,
          0.00039285883615503003,
          -0.0015492843740501083,
          0.010243685169398331,
          0.016752921944802823,
          0.010878512914642924,
          0.01821382926510151,
          -0.04932729136980263,
          -0.020646020837416512,
          -0.0022519508821763345,
          0.01620813451657588,
          0.005485974237231295,
          -0.03232244907201132,
          0.022121648044734377,
          -0.009490945906109216,
          -0.027980320710486728,
          -0.003697371297767482,
          0.011574891502773133,
          -0.01138776388699092,
          0.032952452853236336,
          -0.0028486107161369567,
          -0.07954207202473651,
          -0.013500129481787027,
          -0.017353602628361386,
          -0.036077776566268205,
          -0.04750634384719021,
          -0.01788258472039883,
          -0.061879173895796336,
          0.02971331325391713,
          -0.023670320754749175,
          0.03694220379895752,
          -0.0000910180130824223,
          -0.0195126942380478,
          -0.002468633195124359,
          -0.006138887040791463,
          0.007696970805578296
         ],
         "hoverinfo": "text",
         "low": [
          null,
          0.00235032586014583,
          -0.006411879352007266,
          0.01941075186065322,
          0.02272611731978391,
          -0.07380498166592409,
          -0.015199092299481798,
          0.0019032780374546032,
          -0.04029521145978532,
          -0.030497249120620573,
          -0.012490852938508712,
          0.01953695935422206,
          -0.07372214373353114,
          0.10598397562335915,
          0.015512216261070577,
          -0.03704043127827239,
          0.006687553677038327,
          0.14484620647283508,
          0.01118129710976734,
          -0.03495284117634889,
          -0.07417203594796584,
          -0.0007424783052086825,
          -0.014580452488742512,
          -0.024899352721100443,
          0.018711212910222264,
          0.019724936197468956,
          0.0032772011835990877,
          -0.012502473284752513,
          0.011085528356434393,
          -0.026936351228806554,
          -0.0012566257057972097,
          0.01670552798242797,
          0.01858869218735948,
          0.04204061354666466,
          -0.008864909106366725,
          0.0322628325276082,
          -0.014371918567797737,
          -0.008211604255527472,
          0.006890872065453024,
          0.022692687803593792,
          0.020265204266684878,
          0.022939599546457634,
          0.01052453393386199,
          0.006136345907324925,
          0.05069863634209959,
          0.008786305210575218,
          -0.007520663953493045,
          -0.02900067936655959,
          -0.021753397467706104,
          0.031064719169287436,
          -0.0032415488890537025,
          -0.008727881447632369,
          0.00683069770920075,
          -0.05161632118644144,
          -0.006807593510810395,
          -0.016704399849358675,
          -8.334165206846933e-7,
          -0.003841497750745826,
          -0.06301933296515361,
          0.000387816740567537,
          0.008236398552394775,
          -0.00042807414928869303,
          0.004309931273138057,
          0.005307513519863916,
          -0.011415898730584573,
          -0.023338774551661445,
          0.04968037774227829,
          0.008431225278577426,
          -0.02190540738873703,
          -0.01868044546105141,
          0.0009356419987507358,
          -0.0030154363180905364,
          -0.02281619699981663,
          -0.011826126826037675,
          0.0029649774667486195,
          0.024846740805682055,
          -0.018126886096143657,
          -0.01406005559496204,
          -0.002975025679556209,
          0.015185884126335258,
          -0.014963124790132731,
          0.0038961043010234953,
          -0.0497068815922137,
          -0.010441137572189896,
          -0.015255807665521814,
          -0.03039022114510348,
          -0.10572966840251052,
          -0.011623293905895005,
          -0.059255313438351664,
          -0.06460408512587867,
          0.09228822014770688,
          -0.0027593291321247326,
          0.028736810087718334,
          -0.009342247884884247,
          0.010885382986472791,
          -0.028746112531741308,
          -0.0003940215626497823,
          0.00294857093874179
         ],
         "open": [
          null,
          -0.004143476580211636,
          -0.0018743940496612765,
          0.010177724958197132,
          0.04677102237314057,
          -0.014383844990365047,
          -0.07704058272262615,
          -0.01297365486132529,
          0.0023004564803641436,
          -0.04224752814784938,
          -0.03525060434051597,
          0.03281769894531972,
          -0.02629508810908887,
          0.028305264639229666,
          0.02293895137066637,
          -0.002916955428518553,
          -0.035620090861798404,
          0.14556049186469,
          0.026927344362478012,
          -0.009748537058971163,
          -0.033398933734109404,
          -0.07795186877074889,
          0.006532825823340804,
          -0.02474087915955181,
          -0.009612516977705154,
          0.017943137539661702,
          0.0834026590211634,
          -0.060373024194066205,
          -0.0163667448709629,
          0.002326664876382223,
          -0.026704833698160346,
          0.048034624406664506,
          -0.008286547394694255,
          0.04589417219981984,
          -0.004764216977197977,
          0.020754961968173946,
          0.009493029067903613,
          -0.022404406999351867,
          -0.004170750856377636,
          0.03141330584744351,
          0.01232812685996798,
          0.025133566560764375,
          0.008764164022786902,
          0.003506123715865783,
          0.052049827921867964,
          0.005949912876216157,
          0.007568102472508942,
          -0.008318074147215526,
          -0.03204240403522274,
          0.01605420607645458,
          -0.009211763808320117,
          0.012781414414745118,
          0.0038590444567236926,
          -0.02316705085861326,
          -0.051309442074625955,
          0.006888542932361297,
          -0.028112969777724706,
          0.011801967662865342,
          -0.01355857888072809,
          -0.06320517878243892,
          0.014920314751125652,
          0.025836395650390198,
          -0.029660104910156693,
          0.015346100004821839,
          -0.0033176665212462098,
          -0.017234352419374543,
          0.027868558078828265,
          0.01649768326924206,
          -0.0031379515564433635,
          -0.020440448723589633,
          -0.01942316736196914,
          -0.006551485272993651,
          -0.00014614409154378727,
          0.02472135788002494,
          -0.057557773228946285,
          0.02941028489474684,
          0.013434462102891453,
          -0.02923807501321607,
          -0.02312068075806173,
          0.020123472799897568,
          0.00145356629383242,
          -0.02024749381437818,
          0.05159833025145888,
          -0.07866239603169067,
          -0.014510076382595494,
          -0.014970172477568489,
          -0.040642429164925,
          -0.11116733972798931,
          0.024527243708125646,
          -0.06704400663816756,
          0.0032545407518882463,
          0.008774524136652362,
          0.027759109509252422,
          0.0400613193258923,
          -0.04606278824844767,
          0.01882200218672181,
          -0.05601144945672021,
          0.05538787815481494
         ],
         "text": [
          "Open: 42412.3<br>% change:nan<br>High: 42992.55<br>% change:nan<br>Low: 41852.57<br>% change:nan<br>Close: 42244.47<br>% change:nan",
          "Open: 42236.57<br>% change:-0.004<br>High: 42693.05<br>% change:-0.007<br>Low: 41950.94<br>% change:0.002<br>Close: 42197.52<br>% change:-0.001",
          "Open: 42157.4<br>% change:-0.002<br>High: 42775.78<br>% change:0.002<br>Low: 41681.96<br>% change:-0.006<br>Close: 42586.92<br>% change:0.009",
          "Open: 42586.46<br>% change:0.01<br>High: 44667.22<br>% change:0.044<br>Low: 42491.04<br>% change:0.019<br>Close: 44575.2<br>% change:0.047",
          "Open: 44578.28<br>% change:0.047<br>High: 44578.28<br>% change:-0.002<br>Low: 43456.69<br>% change:0.023<br>Close: 43961.86<br>% change:-0.014",
          "Open: 43937.07<br>% change:-0.014<br>High: 44132.97<br>% change:-0.01<br>Low: 40249.37<br>% change:-0.074<br>Close: 40538.01<br>% change:-0.078",
          "Open: 40552.13<br>% change:-0.077<br>High: 40929.15<br>% change:-0.073<br>Low: 39637.62<br>% change:-0.015<br>Close: 40030.98<br>% change:-0.013",
          "Open: 40026.02<br>% change:-0.013<br>High: 40418.88<br>% change:-0.012<br>Low: 39713.06<br>% change:0.002<br>Close: 40122.16<br>% change:0.002",
          "Open: 40118.1<br>% change:0.002<br>High: 40119.89<br>% change:-0.007<br>Low: 38112.81<br>% change:-0.04<br>Close: 38431.38<br>% change:-0.042",
          "Open: 38423.21<br>% change:-0.042<br>High: 39394.44<br>% change:-0.018<br>Low: 36950.48<br>% change:-0.03<br>Close: 37075.28<br>% change:-0.035",
          "Open: 37068.77<br>% change:-0.035<br>High: 38359.86<br>% change:-0.026<br>Low: 36488.93<br>% change:-0.012<br>Close: 38286.03<br>% change:0.033",
          "Open: 38285.28<br>% change:0.033<br>High: 39122.39<br>% change:0.02<br>Low: 37201.82<br>% change:0.02<br>Close: 37296.57<br>% change:-0.026",
          "Open: 37278.57<br>% change:-0.026<br>High: 38968.84<br>% change:-0.004<br>Low: 34459.22<br>% change:-0.074<br>Close: 38332.61<br>% change:0.028",
          "Open: 38333.75<br>% change:0.028<br>High: 39630.32<br>% change:0.017<br>Low: 38111.34<br>% change:0.106<br>Close: 39214.22<br>% change:0.023",
          "Open: 39213.08<br>% change:0.023<br>High: 40005.35<br>% change:0.009<br>Low: 38702.54<br>% change:0.016<br>Close: 39105.15<br>% change:-0.003",
          "Open: 39098.7<br>% change:-0.003<br>High: 39778.94<br>% change:-0.006<br>Low: 37268.98<br>% change:-0.037<br>Close: 37709.79<br>% change:-0.036",
          "Open: 37706.0<br>% change:-0.036<br>High: 43760.46<br>% change:0.1<br>Low: 37518.21<br>% change:0.007<br>Close: 43193.23<br>% change:0.145",
          "Open: 43194.5<br>% change:0.146<br>High: 44793.6<br>% change:0.024<br>Low: 42952.59<br>% change:0.145<br>Close: 44354.64<br>% change:0.027",
          "Open: 44357.62<br>% change:0.027<br>High: 45077.58<br>% change:0.006<br>Low: 43432.85<br>% change:0.011<br>Close: 43924.12<br>% change:-0.01",
          "Open: 43925.2<br>% change:-0.01<br>High: 44021.58<br>% change:-0.023<br>Low: 41914.75<br>% change:-0.035<br>Close: 42451.79<br>% change:-0.034",
          "Open: 42458.14<br>% change:-0.033<br>High: 42479.61<br>% change:-0.035<br>Low: 38805.85<br>% change:-0.074<br>Close: 39137.61<br>% change:-0.078",
          "Open: 39148.45<br>% change:-0.078<br>High: 39566.34<br>% change:-0.069<br>Low: 38777.04<br>% change:-0.001<br>Close: 39400.59<br>% change:0.007",
          "Open: 39404.2<br>% change:0.007<br>High: 39640.18<br>% change:0.002<br>Low: 38211.65<br>% change:-0.015<br>Close: 38419.98<br>% change:-0.025",
          "Open: 38429.3<br>% change:-0.025<br>High: 39430.23<br>% change:-0.005<br>Low: 37260.2<br>% change:-0.025<br>Close: 38062.04<br>% change:-0.009",
          "Open: 38059.9<br>% change:-0.01<br>High: 39304.44<br>% change:-0.003<br>Low: 37957.39<br>% change:0.019<br>Close: 38737.27<br>% change:0.018",
          "Open: 38742.82<br>% change:0.018<br>High: 42465.67<br>% change:0.08<br>Low: 38706.09<br>% change:0.02<br>Close: 41982.93<br>% change:0.084",
          "Open: 41974.07<br>% change:0.083<br>High: 42004.73<br>% change:-0.011<br>Low: 38832.94<br>% change:0.003<br>Close: 39437.46<br>% change:-0.061",
          "Open: 39439.97<br>% change:-0.06<br>High: 40081.68<br>% change:-0.046<br>Low: 38347.43<br>% change:-0.013<br>Close: 38794.97<br>% change:-0.016",
          "Open: 38794.46<br>% change:-0.016<br>High: 39308.6<br>% change:-0.019<br>Low: 38772.54<br>% change:0.011<br>Close: 38904.01<br>% change:0.003",
          "Open: 38884.73<br>% change:0.002<br>High: 39209.35<br>% change:-0.003<br>Low: 37728.14<br>% change:-0.027<br>Close: 37849.66<br>% change:-0.027",
          "Open: 37846.32<br>% change:-0.027<br>High: 39742.5<br>% change:0.014<br>Low: 37680.73<br>% change:-0.001<br>Close: 39666.75<br>% change:0.048",
          "Open: 39664.25<br>% change:0.048<br>High: 39794.63<br>% change:0.001<br>Low: 38310.21<br>% change:0.017<br>Close: 39338.79<br>% change:-0.008",
          "Open: 39335.57<br>% change:-0.008<br>High: 41465.45<br>% change:0.042<br>Low: 39022.35<br>% change:0.019<br>Close: 41143.93<br>% change:0.046",
          "Open: 41140.84<br>% change:0.046<br>High: 41287.54<br>% change:-0.004<br>Low: 40662.87<br>% change:0.042<br>Close: 40951.38<br>% change:-0.005",
          "Open: 40944.84<br>% change:-0.005<br>High: 42195.75<br>% change:0.022<br>Low: 40302.4<br>% change:-0.009<br>Close: 41801.16<br>% change:0.021",
          "Open: 41794.65<br>% change:0.021<br>High: 42316.55<br>% change:0.003<br>Low: 41602.67<br>% change:0.032<br>Close: 42190.65<br>% change:0.009",
          "Open: 42191.41<br>% change:0.009<br>High: 42241.16<br>% change:-0.002<br>Low: 41004.76<br>% change:-0.014<br>Close: 41247.82<br>% change:-0.022",
          "Open: 41246.13<br>% change:-0.022<br>High: 41454.41<br>% change:-0.019<br>Low: 40668.04<br>% change:-0.008<br>Close: 41078.0<br>% change:-0.004",
          "Open: 41074.11<br>% change:-0.004<br>High: 43124.71<br>% change:0.04<br>Low: 40948.28<br>% change:0.007<br>Close: 42358.81<br>% change:0.031",
          "Open: 42364.38<br>% change:0.031<br>High: 42893.51<br>% change:-0.005<br>Low: 41877.51<br>% change:0.023<br>Close: 42892.96<br>% change:0.013",
          "Open: 42886.65<br>% change:0.012<br>High: 44131.86<br>% change:0.029<br>Low: 42726.16<br>% change:0.02<br>Close: 43960.93<br>% change:0.025",
          "Open: 43964.55<br>% change:0.025<br>High: 44999.49<br>% change:0.02<br>Low: 43706.29<br>% change:0.023<br>Close: 44348.73<br>% change:0.009",
          "Open: 44349.86<br>% change:0.009<br>High: 44736.0<br>% change:-0.006<br>Low: 44166.27<br>% change:0.011<br>Close: 44500.83<br>% change:0.003",
          "Open: 44505.36<br>% change:0.004<br>High: 46827.55<br>% change:0.047<br>Low: 44437.29<br>% change:0.006<br>Close: 46820.49<br>% change:0.052",
          "Open: 46821.85<br>% change:0.052<br>High: 48086.84<br>% change:0.027<br>Low: 46690.2<br>% change:0.051<br>Close: 47128.0<br>% change:0.007",
          "Open: 47100.44<br>% change:0.006<br>High: 48022.29<br>% change:-0.001<br>Low: 47100.44<br>% change:0.009<br>Close: 47465.73<br>% change:0.007",
          "Open: 47456.9<br>% change:0.008<br>High: 47655.15<br>% change:-0.008<br>Low: 46746.21<br>% change:-0.008<br>Close: 47062.66<br>% change:-0.008",
          "Open: 47062.15<br>% change:-0.008<br>High: 47512.03<br>% change:-0.003<br>Low: 45390.54<br>% change:-0.029<br>Close: 45538.68<br>% change:-0.032",
          "Open: 45554.16<br>% change:-0.032<br>High: 46616.24<br>% change:-0.019<br>Low: 44403.14<br>% change:-0.022<br>Close: 46281.64<br>% change:0.016",
          "Open: 46285.5<br>% change:0.016<br>High: 47028.28<br>% change:0.009<br>Low: 45782.51<br>% change:0.031<br>Close: 45868.95<br>% change:-0.009",
          "Open: 45859.13<br>% change:-0.009<br>High: 47313.48<br>% change:0.006<br>Low: 45634.11<br>% change:-0.003<br>Close: 46453.57<br>% change:0.013",
          "Open: 46445.27<br>% change:0.013<br>High: 46791.09<br>% change:-0.011<br>Low: 45235.82<br>% change:-0.009<br>Close: 46622.68<br>% change:0.004",
          "Open: 46624.51<br>% change:0.004<br>High: 47106.14<br>% change:0.007<br>Low: 45544.81<br>% change:0.007<br>Close: 45555.99<br>% change:-0.023",
          "Open: 45544.36<br>% change:-0.023<br>High: 45544.36<br>% change:-0.033<br>Low: 43193.95<br>% change:-0.052<br>Close: 43206.74<br>% change:-0.052",
          "Open: 43207.5<br>% change:-0.051<br>High: 43860.7<br>% change:-0.037<br>Low: 42899.91<br>% change:-0.007<br>Close: 43503.85<br>% change:0.007",
          "Open: 43505.14<br>% change:0.007<br>High: 43903.02<br>% change:0.001<br>Low: 42183.29<br>% change:-0.017<br>Close: 42287.66<br>% change:-0.028",
          "Open: 42282.08<br>% change:-0.028<br>High: 42786.82<br>% change:-0.025<br>Low: 42183.25<br>% change:-0.0<br>Close: 42782.14<br>% change:0.012",
          "Open: 42781.09<br>% change:0.012<br>High: 43376.38<br>% change:0.014<br>Low: 42021.21<br>% change:-0.004<br>Close: 42207.67<br>% change:-0.013",
          "Open: 42201.04<br>% change:-0.014<br>High: 42424.59<br>% change:-0.022<br>Low: 39373.06<br>% change:-0.063<br>Close: 39521.9<br>% change:-0.064",
          "Open: 39533.71<br>% change:-0.063<br>High: 40617.59<br>% change:-0.043<br>Low: 39388.33<br>% change:0.0<br>Close: 40127.18<br>% change:0.015",
          "Open: 40123.57<br>% change:0.015<br>High: 41430.05<br>% change:0.02<br>Low: 39712.75<br>% change:0.008<br>Close: 41166.73<br>% change:0.026",
          "Open: 41160.22<br>% change:0.026<br>High: 41451.48<br>% change:0.001<br>Low: 39695.75<br>% change:-0.0<br>Close: 39935.52<br>% change:-0.03",
          "Open: 39939.4<br>% change:-0.03<br>High: 40617.72<br>% change:-0.02<br>Low: 39866.83<br>% change:0.004<br>Close: 40553.46<br>% change:0.015",
          "Open: 40552.32<br>% change:0.015<br>High: 40633.68<br>% change:0.0<br>Low: 40078.43<br>% change:0.005<br>Close: 40424.48<br>% change:-0.003",
          "Open: 40417.78<br>% change:-0.003<br>High: 40570.73<br>% change:-0.002<br>Low: 39620.89<br>% change:-0.011<br>Close: 39716.95<br>% change:-0.018",
          "Open: 39721.2<br>% change:-0.017<br>High: 40986.32<br>% change:0.01<br>Low: 38696.19<br>% change:-0.023<br>Close: 40826.21<br>% change:0.028",
          "Open: 40828.18<br>% change:0.028<br>High: 41672.96<br>% change:0.017<br>Low: 40618.63<br>% change:0.05<br>Close: 41502.75<br>% change:0.017",
          "Open: 41501.75<br>% change:0.016<br>High: 42126.3<br>% change:0.011<br>Low: 40961.1<br>% change:0.008<br>Close: 41374.38<br>% change:-0.003",
          "Open: 41371.52<br>% change:-0.003<br>High: 42893.58<br>% change:0.018<br>Low: 40063.83<br>% change:-0.022<br>Close: 40527.36<br>% change:-0.02",
          "Open: 40525.86<br>% change:-0.02<br>High: 40777.76<br>% change:-0.049<br>Low: 39315.42<br>% change:-0.019<br>Close: 39740.32<br>% change:-0.019",
          "Open: 39738.72<br>% change:-0.019<br>High: 39935.86<br>% change:-0.021<br>Low: 39352.2<br>% change:0.001<br>Close: 39486.73<br>% change:-0.006",
          "Open: 39478.38<br>% change:-0.007<br>High: 39845.93<br>% change:-0.002<br>Low: 39233.54<br>% change:-0.003<br>Close: 39469.29<br>% change:-0.0",
          "Open: 39472.61<br>% change:-0.0<br>High: 40491.75<br>% change:0.016<br>Low: 38338.38<br>% change:-0.023<br>Close: 40458.31<br>% change:0.025",
          "Open: 40448.42<br>% change:0.025<br>High: 40713.89<br>% change:0.005<br>Low: 37884.98<br>% change:-0.012<br>Close: 38117.46<br>% change:-0.058",
          "Open: 38120.3<br>% change:-0.058<br>High: 39397.92<br>% change:-0.032<br>Low: 37997.31<br>% change:0.003<br>Close: 39241.12<br>% change:0.029",
          "Open: 39241.43<br>% change:0.029<br>High: 40269.46<br>% change:0.022<br>Low: 38941.42<br>% change:0.025<br>Close: 39773.83<br>% change:0.014",
          "Open: 39768.62<br>% change:0.013<br>High: 39887.27<br>% change:-0.009<br>Low: 38235.54<br>% change:-0.018<br>Close: 38609.82<br>% change:-0.029",
          "Open: 38605.86<br>% change:-0.029<br>High: 38771.21<br>% change:-0.028<br>Low: 37697.94<br>% change:-0.014<br>Close: 37714.88<br>% change:-0.023",
          "Open: 37713.27<br>% change:-0.023<br>High: 38627.86<br>% change:-0.004<br>Low: 37585.79<br>% change:-0.003<br>Close: 38469.09<br>% change:0.02",
          "Open: 38472.19<br>% change:0.02<br>High: 39074.97<br>% change:0.012<br>Low: 38156.56<br>% change:0.015<br>Close: 38529.33<br>% change:0.002",
          "Open: 38528.11<br>% change:0.001<br>High: 38630.0<br>% change:-0.011<br>Low: 37585.62<br>% change:-0.015<br>Close: 37750.45<br>% change:-0.02",
          "Open: 37748.01<br>% change:-0.02<br>High: 39902.95<br>% change:0.033<br>Low: 37732.06<br>% change:0.004<br>Close: 39698.37<br>% change:0.052",
          "Open: 39695.75<br>% change:0.052<br>High: 39789.28<br>% change:-0.003<br>Low: 35856.52<br>% change:-0.05<br>Close: 36575.14<br>% change:-0.079",
          "Open: 36573.18<br>% change:-0.079<br>High: 36624.36<br>% change:-0.08<br>Low: 35482.13<br>% change:-0.01<br>Close: 36040.92<br>% change:-0.015",
          "Open: 36042.5<br>% change:-0.015<br>High: 36129.93<br>% change:-0.014<br>Low: 34940.82<br>% change:-0.015<br>Close: 35501.95<br>% change:-0.015",
          "Open: 35502.94<br>% change:-0.015<br>High: 35502.94<br>% change:-0.017<br>Low: 33878.96<br>% change:-0.03<br>Close: 34059.27<br>% change:-0.041",
          "Open: 34060.02<br>% change:-0.041<br>High: 34222.07<br>% change:-0.036<br>Low: 30296.95<br>% change:-0.106<br>Close: 30296.95<br>% change:-0.11",
          "Open: 30273.65<br>% change:-0.111<br>High: 32596.31<br>% change:-0.048<br>Low: 29944.8<br>% change:-0.012<br>Close: 31022.91<br>% change:0.024",
          "Open: 31016.18<br>% change:0.025<br>High: 32013.4<br>% change:-0.018<br>Low: 28170.41<br>% change:-0.059<br>Close: 28936.36<br>% change:-0.067",
          "Open: 28936.73<br>% change:-0.067<br>High: 30032.44<br>% change:-0.062<br>Low: 26350.49<br>% change:-0.065<br>Close: 29047.75<br>% change:0.004",
          "Open: 29030.91<br>% change:0.003<br>High: 30924.8<br>% change:0.03<br>Low: 28782.33<br>% change:0.092<br>Close: 29283.1<br>% change:0.008",
          "Open: 29285.64<br>% change:0.009<br>High: 30192.8<br>% change:-0.024<br>Low: 28702.91<br>% change:-0.003<br>Close: 30101.27<br>% change:0.028",
          "Open: 30098.59<br>% change:0.028<br>High: 31308.19<br>% change:0.037<br>Low: 29527.74<br>% change:0.029<br>Close: 31305.11<br>% change:0.04",
          "Open: 31304.38<br>% change:0.04<br>High: 31305.34<br>% change:-0.0<br>Low: 29251.88<br>% change:-0.009<br>Close: 29862.92<br>% change:-0.046",
          "Open: 29862.41<br>% change:-0.046<br>High: 30694.49<br>% change:-0.02<br>Low: 29570.3<br>% change:0.011<br>Close: 30425.86<br>% change:0.019",
          "Open: 30424.48<br>% change:0.019<br>High: 30618.72<br>% change:-0.002<br>Low: 28720.27<br>% change:-0.029<br>Close: 28720.27<br>% change:-0.056",
          "Open: 28720.36<br>% change:-0.056<br>High: 30430.75<br>% change:-0.006<br>Low: 28708.96<br>% change:-0.0<br>Close: 30314.33<br>% change:0.056",
          "Open: 30311.12<br>% change:0.055<br>High: 30664.98<br>% change:0.008<br>Low: 28793.61<br>% change:0.003<br>Close: 29200.74<br>% change:-0.037"
         ],
         "type": "candlestick",
         "x": [
          "2022-02-12T00:00:00",
          "2022-02-13T00:00:00",
          "2022-02-14T00:00:00",
          "2022-02-15T00:00:00",
          "2022-02-16T00:00:00",
          "2022-02-17T00:00:00",
          "2022-02-18T00:00:00",
          "2022-02-19T00:00:00",
          "2022-02-20T00:00:00",
          "2022-02-21T00:00:00",
          "2022-02-22T00:00:00",
          "2022-02-23T00:00:00",
          "2022-02-24T00:00:00",
          "2022-02-25T00:00:00",
          "2022-02-26T00:00:00",
          "2022-02-27T00:00:00",
          "2022-02-28T00:00:00",
          "2022-03-01T00:00:00",
          "2022-03-02T00:00:00",
          "2022-03-03T00:00:00",
          "2022-03-04T00:00:00",
          "2022-03-05T00:00:00",
          "2022-03-06T00:00:00",
          "2022-03-07T00:00:00",
          "2022-03-08T00:00:00",
          "2022-03-09T00:00:00",
          "2022-03-10T00:00:00",
          "2022-03-11T00:00:00",
          "2022-03-12T00:00:00",
          "2022-03-13T00:00:00",
          "2022-03-14T00:00:00",
          "2022-03-15T00:00:00",
          "2022-03-16T00:00:00",
          "2022-03-17T00:00:00",
          "2022-03-18T00:00:00",
          "2022-03-19T00:00:00",
          "2022-03-20T00:00:00",
          "2022-03-21T00:00:00",
          "2022-03-22T00:00:00",
          "2022-03-23T00:00:00",
          "2022-03-24T00:00:00",
          "2022-03-25T00:00:00",
          "2022-03-26T00:00:00",
          "2022-03-27T00:00:00",
          "2022-03-28T00:00:00",
          "2022-03-29T00:00:00",
          "2022-03-30T00:00:00",
          "2022-03-31T00:00:00",
          "2022-04-01T00:00:00",
          "2022-04-02T00:00:00",
          "2022-04-03T00:00:00",
          "2022-04-04T00:00:00",
          "2022-04-05T00:00:00",
          "2022-04-06T00:00:00",
          "2022-04-07T00:00:00",
          "2022-04-08T00:00:00",
          "2022-04-09T00:00:00",
          "2022-04-10T00:00:00",
          "2022-04-11T00:00:00",
          "2022-04-12T00:00:00",
          "2022-04-13T00:00:00",
          "2022-04-14T00:00:00",
          "2022-04-15T00:00:00",
          "2022-04-16T00:00:00",
          "2022-04-17T00:00:00",
          "2022-04-18T00:00:00",
          "2022-04-19T00:00:00",
          "2022-04-20T00:00:00",
          "2022-04-21T00:00:00",
          "2022-04-22T00:00:00",
          "2022-04-23T00:00:00",
          "2022-04-24T00:00:00",
          "2022-04-25T00:00:00",
          "2022-04-26T00:00:00",
          "2022-04-27T00:00:00",
          "2022-04-28T00:00:00",
          "2022-04-29T00:00:00",
          "2022-04-30T00:00:00",
          "2022-05-01T00:00:00",
          "2022-05-02T00:00:00",
          "2022-05-03T00:00:00",
          "2022-05-04T00:00:00",
          "2022-05-05T00:00:00",
          "2022-05-06T00:00:00",
          "2022-05-07T00:00:00",
          "2022-05-08T00:00:00",
          "2022-05-09T00:00:00",
          "2022-05-10T00:00:00",
          "2022-05-11T00:00:00",
          "2022-05-12T00:00:00",
          "2022-05-13T00:00:00",
          "2022-05-14T00:00:00",
          "2022-05-15T00:00:00",
          "2022-05-16T00:00:00",
          "2022-05-17T00:00:00",
          "2022-05-18T00:00:00",
          "2022-05-19T00:00:00",
          "2022-05-20T00:00:00"
         ],
         "xaxis": "x",
         "yaxis": "y"
        },
        {
         "customdata": [
          [
           42412.30078125,
           42992.55078125,
           41852.57421875,
           42244.46875
          ],
          [
           42236.56640625,
           42693.0546875,
           41950.94140625,
           42197.515625
          ],
          [
           42157.3984375,
           42775.77734375,
           41681.95703125,
           42586.91796875
          ],
          [
           42586.46484375,
           44667.21875,
           42491.03515625,
           44575.203125
          ],
          [
           44578.27734375,
           44578.27734375,
           43456.69140625,
           43961.859375
          ],
          [
           43937.0703125,
           44132.97265625,
           40249.37109375,
           40538.01171875
          ],
          [
           40552.1328125,
           40929.15234375,
           39637.6171875,
           40030.9765625
          ],
          [
           40026.0234375,
           40418.87890625,
           39713.05859375,
           40122.15625
          ],
          [
           40118.1015625,
           40119.890625,
           38112.8125,
           38431.37890625
          ],
          [
           38423.2109375,
           39394.4375,
           36950.4765625,
           37075.28125
          ],
          [
           37068.76953125,
           38359.85546875,
           36488.93359375,
           38286.02734375
          ],
          [
           38285.28125,
           39122.39453125,
           37201.81640625,
           37296.5703125
          ],
          [
           37278.56640625,
           38968.83984375,
           34459.21875,
           38332.609375
          ],
          [
           38333.74609375,
           39630.32421875,
           38111.34375,
           39214.21875
          ],
          [
           39213.08203125,
           40005.34765625,
           38702.53515625,
           39105.1484375
          ],
          [
           39098.69921875,
           39778.94140625,
           37268.9765625,
           37709.78515625
          ],
          [
           37706,
           43760.45703125,
           37518.21484375,
           43193.234375
          ],
          [
           43194.50390625,
           44793.6015625,
           42952.5859375,
           44354.63671875
          ],
          [
           44357.6171875,
           45077.578125,
           43432.8515625,
           43924.1171875
          ],
          [
           43925.1953125,
           44021.578125,
           41914.75,
           42451.7890625
          ],
          [
           42458.140625,
           42479.61328125,
           38805.84765625,
           39137.60546875
          ],
          [
           39148.44921875,
           39566.3359375,
           38777.03515625,
           39400.5859375
          ],
          [
           39404.19921875,
           39640.17578125,
           38211.6484375,
           38419.984375
          ],
          [
           38429.3046875,
           39430.2265625,
           37260.203125,
           38062.0390625
          ],
          [
           38059.90234375,
           39304.44140625,
           37957.38671875,
           38737.26953125
          ],
          [
           38742.81640625,
           42465.671875,
           38706.09375,
           41982.92578125
          ],
          [
           41974.0703125,
           42004.7265625,
           38832.94140625,
           39437.4609375
          ],
          [
           39439.96875,
           40081.6796875,
           38347.43359375,
           38794.97265625
          ],
          [
           38794.46484375,
           39308.59765625,
           38772.53515625,
           38904.01171875
          ],
          [
           38884.7265625,
           39209.3515625,
           37728.14453125,
           37849.6640625
          ],
          [
           37846.31640625,
           39742.5,
           37680.734375,
           39666.75390625
          ],
          [
           39664.25,
           39794.62890625,
           38310.2109375,
           39338.78515625
          ],
          [
           39335.5703125,
           41465.453125,
           39022.34765625,
           41143.9296875
          ],
          [
           41140.84375,
           41287.53515625,
           40662.87109375,
           40951.37890625
          ],
          [
           40944.83984375,
           42195.74609375,
           40302.3984375,
           41801.15625
          ],
          [
           41794.6484375,
           42316.5546875,
           41602.66796875,
           42190.65234375
          ],
          [
           42191.40625,
           42241.1640625,
           41004.7578125,
           41247.82421875
          ],
          [
           41246.1328125,
           41454.41015625,
           40668.04296875,
           41077.99609375
          ],
          [
           41074.10546875,
           43124.70703125,
           40948.28125,
           42358.80859375
          ],
          [
           42364.37890625,
           42893.5078125,
           41877.5078125,
           42892.95703125
          ],
          [
           42886.65234375,
           44131.85546875,
           42726.1640625,
           43960.93359375
          ],
          [
           43964.546875,
           44999.4921875,
           43706.28515625,
           44348.73046875
          ],
          [
           44349.859375,
           44735.99609375,
           44166.2734375,
           44500.828125
          ],
          [
           44505.35546875,
           46827.546875,
           44437.29296875,
           46820.4921875
          ],
          [
           46821.8515625,
           48086.8359375,
           46690.203125,
           47128.00390625
          ],
          [
           47100.4375,
           48022.2890625,
           47100.4375,
           47465.73046875
          ],
          [
           47456.8984375,
           47655.1484375,
           46746.2109375,
           47062.6640625
          ],
          [
           47062.1484375,
           47512.02734375,
           45390.5390625,
           45538.67578125
          ],
          [
           45554.1640625,
           46616.2421875,
           44403.140625,
           46281.64453125
          ],
          [
           46285.5,
           47028.28125,
           45782.51171875,
           45868.94921875
          ],
          [
           45859.12890625,
           47313.4765625,
           45634.10546875,
           46453.56640625
          ],
          [
           46445.2734375,
           46791.08984375,
           45235.81640625,
           46622.67578125
          ],
          [
           46624.5078125,
           47106.140625,
           45544.80859375,
           45555.9921875
          ],
          [
           45544.35546875,
           45544.35546875,
           43193.953125,
           43206.73828125
          ],
          [
           43207.5,
           43860.69921875,
           42899.90625,
           43503.84765625
          ],
          [
           43505.13671875,
           43903.01953125,
           42183.2890625,
           42287.6640625
          ],
          [
           42282.078125,
           42786.81640625,
           42183.25390625,
           42782.13671875
          ],
          [
           42781.08984375,
           43376.37890625,
           42021.20703125,
           42207.671875
          ],
          [
           42201.0390625,
           42424.58984375,
           39373.05859375,
           39521.90234375
          ],
          [
           39533.71484375,
           40617.5859375,
           39388.328125,
           40127.18359375
          ],
          [
           40123.5703125,
           41430.0546875,
           39712.74609375,
           41166.73046875
          ],
          [
           41160.21875,
           41451.48046875,
           39695.74609375,
           39935.515625
          ],
          [
           39939.40234375,
           40617.72265625,
           39866.83203125,
           40553.46484375
          ],
          [
           40552.31640625,
           40633.6796875,
           40078.42578125,
           40424.484375
          ],
          [
           40417.77734375,
           40570.7265625,
           39620.89453125,
           39716.953125
          ],
          [
           39721.203125,
           40986.3203125,
           38696.19140625,
           40826.21484375
          ],
          [
           40828.17578125,
           41672.9609375,
           40618.6328125,
           41502.75
          ],
          [
           41501.74609375,
           42126.30078125,
           40961.09765625,
           41374.37890625
          ],
          [
           41371.515625,
           42893.58203125,
           40063.828125,
           40527.36328125
          ],
          [
           40525.86328125,
           40777.7578125,
           39315.41796875,
           39740.3203125
          ],
          [
           39738.72265625,
           39935.859375,
           39352.203125,
           39486.73046875
          ],
          [
           39478.375,
           39845.92578125,
           39233.5390625,
           39469.29296875
          ],
          [
           39472.60546875,
           40491.75390625,
           38338.37890625,
           40458.30859375
          ],
          [
           40448.421875,
           40713.890625,
           37884.984375,
           38117.4609375
          ],
          [
           38120.30078125,
           39397.91796875,
           37997.3125,
           39241.12109375
          ],
          [
           39241.4296875,
           40269.46484375,
           38941.421875,
           39773.828125
          ],
          [
           39768.6171875,
           39887.26953125,
           38235.53515625,
           38609.82421875
          ],
          [
           38605.859375,
           38771.2109375,
           37697.94140625,
           37714.875
          ],
          [
           37713.265625,
           38627.859375,
           37585.7890625,
           38469.09375
          ],
          [
           38472.1875,
           39074.97265625,
           38156.5625,
           38529.328125
          ],
          [
           38528.109375,
           38629.99609375,
           37585.62109375,
           37750.453125
          ],
          [
           37748.01171875,
           39902.94921875,
           37732.05859375,
           39698.37109375
          ],
          [
           39695.74609375,
           39789.28125,
           35856.515625,
           36575.140625
          ],
          [
           36573.18359375,
           36624.359375,
           35482.1328125,
           36040.921875
          ],
          [
           36042.50390625,
           36129.92578125,
           34940.82421875,
           35501.953125
          ],
          [
           35502.94140625,
           35502.94140625,
           33878.96484375,
           34059.265625
          ],
          [
           34060.015625,
           34222.07421875,
           30296.953125,
           30296.953125
          ],
          [
           30273.654296875,
           32596.30859375,
           29944.802734375,
           31022.90625
          ],
          [
           31016.18359375,
           32013.40234375,
           28170.4140625,
           28936.35546875
          ],
          [
           28936.734375,
           30032.439453125,
           26350.490234375,
           29047.751953125
          ],
          [
           29030.91015625,
           30924.802734375,
           28782.330078125,
           29283.103515625
          ],
          [
           29285.642578125,
           30192.802734375,
           28702.91015625,
           30101.265625
          ],
          [
           30098.5859375,
           31308.19140625,
           29527.740234375,
           31305.11328125
          ],
          [
           31304.375,
           31305.341796875,
           29251.884765625,
           29862.91796875
          ],
          [
           29862.408203125,
           30694.490234375,
           29570.302734375,
           30425.857421875
          ],
          [
           30424.478515625,
           30618.716796875,
           28720.271484375,
           28720.271484375
          ],
          [
           28720.359375,
           30430.751953125,
           28708.955078125,
           30314.333984375
          ],
          [
           30311.119140625,
           30664.9765625,
           28793.60546875,
           29200.740234375
          ]
         ],
         "hovertemplate": "Percentual Change: %{y}<br>Date: %{x}<br>Open: %{customdata[0]:.3f}<br>High: %{customdata[1]:.3f}<br>Low: %{customdata[2]:.3f}<br>Close: %{customdata[3]:.3f}",
         "line": {
          "color": "orange"
         },
         "mode": "lines",
         "name": "SOL",
         "type": "scatter",
         "x": [
          "2022-02-12T00:00:00",
          "2022-02-13T00:00:00",
          "2022-02-14T00:00:00",
          "2022-02-15T00:00:00",
          "2022-02-16T00:00:00",
          "2022-02-17T00:00:00",
          "2022-02-18T00:00:00",
          "2022-02-19T00:00:00",
          "2022-02-20T00:00:00",
          "2022-02-21T00:00:00",
          "2022-02-22T00:00:00",
          "2022-02-23T00:00:00",
          "2022-02-24T00:00:00",
          "2022-02-25T00:00:00",
          "2022-02-26T00:00:00",
          "2022-02-27T00:00:00",
          "2022-02-28T00:00:00",
          "2022-03-01T00:00:00",
          "2022-03-02T00:00:00",
          "2022-03-03T00:00:00",
          "2022-03-04T00:00:00",
          "2022-03-05T00:00:00",
          "2022-03-06T00:00:00",
          "2022-03-07T00:00:00",
          "2022-03-08T00:00:00",
          "2022-03-09T00:00:00",
          "2022-03-10T00:00:00",
          "2022-03-11T00:00:00",
          "2022-03-12T00:00:00",
          "2022-03-13T00:00:00",
          "2022-03-14T00:00:00",
          "2022-03-15T00:00:00",
          "2022-03-16T00:00:00",
          "2022-03-17T00:00:00",
          "2022-03-18T00:00:00",
          "2022-03-19T00:00:00",
          "2022-03-20T00:00:00",
          "2022-03-21T00:00:00",
          "2022-03-22T00:00:00",
          "2022-03-23T00:00:00",
          "2022-03-24T00:00:00",
          "2022-03-25T00:00:00",
          "2022-03-26T00:00:00",
          "2022-03-27T00:00:00",
          "2022-03-28T00:00:00",
          "2022-03-29T00:00:00",
          "2022-03-30T00:00:00",
          "2022-03-31T00:00:00",
          "2022-04-01T00:00:00",
          "2022-04-02T00:00:00",
          "2022-04-03T00:00:00",
          "2022-04-04T00:00:00",
          "2022-04-05T00:00:00",
          "2022-04-06T00:00:00",
          "2022-04-07T00:00:00",
          "2022-04-08T00:00:00",
          "2022-04-09T00:00:00",
          "2022-04-10T00:00:00",
          "2022-04-11T00:00:00",
          "2022-04-12T00:00:00",
          "2022-04-13T00:00:00",
          "2022-04-14T00:00:00",
          "2022-04-15T00:00:00",
          "2022-04-16T00:00:00",
          "2022-04-17T00:00:00",
          "2022-04-18T00:00:00",
          "2022-04-19T00:00:00",
          "2022-04-20T00:00:00",
          "2022-04-21T00:00:00",
          "2022-04-22T00:00:00",
          "2022-04-23T00:00:00",
          "2022-04-24T00:00:00",
          "2022-04-25T00:00:00",
          "2022-04-26T00:00:00",
          "2022-04-27T00:00:00",
          "2022-04-28T00:00:00",
          "2022-04-29T00:00:00",
          "2022-04-30T00:00:00",
          "2022-05-01T00:00:00",
          "2022-05-02T00:00:00",
          "2022-05-03T00:00:00",
          "2022-05-04T00:00:00",
          "2022-05-05T00:00:00",
          "2022-05-06T00:00:00",
          "2022-05-07T00:00:00",
          "2022-05-08T00:00:00",
          "2022-05-09T00:00:00",
          "2022-05-10T00:00:00",
          "2022-05-11T00:00:00",
          "2022-05-12T00:00:00",
          "2022-05-13T00:00:00",
          "2022-05-14T00:00:00",
          "2022-05-15T00:00:00",
          "2022-05-16T00:00:00",
          "2022-05-17T00:00:00",
          "2022-05-18T00:00:00",
          "2022-05-19T00:00:00",
          "2022-05-20T00:00:00"
         ],
         "y": [
          null,
          -0.027878991020737764,
          0.034202386560092224,
          0.08752200012310407,
          -0.02803770476752654,
          -0.08360869003212368,
          -0.03580931288306577,
          0.015890558794279697,
          -0.006505568536192441,
          -0.08556799497760315,
          0.04020809685511462,
          -0.01807196225670249,
          0.050551481985964264,
          0.038164529882728004,
          -0.02653662366000875,
          -0.05128059290556486,
          0.1637213801970585,
          -0.008709683923230682,
          0.02023321363645758,
          -0.05077450573813658,
          -0.07633746706132649,
          0.015885858020052046,
          -0.056952396708788044,
          -0.028531520254328258,
          0.0015182603693912888,
          0.0723034596211809,
          -0.059669551150389744,
          -0.026454255508604918,
          0.010017000195022163,
          -0.032098367900528224,
          0.0283427645549732,
          0.021949890371324,
          0.059653241135062984,
          -0.0003046424383059687,
          0.02213541463184243,
          0.028902875134394712,
          -0.04115307701401216,
          0.0016062950718502833,
          0.01978169410217867,
          0.050707805210441714,
          0.07487706472183309,
          -0.03488026865962157,
          0.03148326368973309,
          0.05227809709309983,
          -0.00578017138102338,
          0.049265425758104,
          0.08046861330080257,
          0.016255041063320874,
          0.09595090226498759,
          -0.016603848370715935,
          0.03461801048848745,
          -0.03189684447552288,
          -0.041917392830482014,
          -0.11018922381149432,
          0.05238265781400475,
          -0.07572306206893542,
          0.028887866240137283,
          -0.01089071333108671,
          -0.11099932713404503,
          0.03993679234596015,
          0.016412892362399623,
          -0.04089584870537022,
          0.005977436468998842,
          0.00935290075401718,
          -0.018068321804756482,
          0.01741696996406028,
          0.06287776445369464,
          -0.0284119717280642,
          -0.035269849229477956,
          -0.011437704432128326,
          0.0013157991519647805,
          -0.014974961708927315,
          0.020273338256823203,
          -0.0539813559615786,
          0.027110665475685858,
          -0.0019632074070655703,
          -0.04251519107339896,
          -0.09483337262538394,
          0.05376963004364299,
          -0.02331278102449119,
          -0.01985178866630799,
          0.08071158665326639,
          -0.08811849277706019,
          -0.03347576741698588,
          -0.03400863209195493,
          -0.04764591019670095,
          -0.15887399257145063,
          0.05526343079846807,
          -0.24795950211474505,
          -0.1100809855412429,
          0.08750330280312468,
          0.07868684464460052,
          0.12198347687237354,
          -0.08781989566206017,
          0.06485356213829974,
          -0.12900366874700342,
          0.04939619537767004,
          -0.05124046389204928
         ]
        },
        {
         "customdata": [
          [
           42412.30078125,
           42992.55078125,
           41852.57421875,
           42244.46875
          ],
          [
           42236.56640625,
           42693.0546875,
           41950.94140625,
           42197.515625
          ],
          [
           42157.3984375,
           42775.77734375,
           41681.95703125,
           42586.91796875
          ],
          [
           42586.46484375,
           44667.21875,
           42491.03515625,
           44575.203125
          ],
          [
           44578.27734375,
           44578.27734375,
           43456.69140625,
           43961.859375
          ],
          [
           43937.0703125,
           44132.97265625,
           40249.37109375,
           40538.01171875
          ],
          [
           40552.1328125,
           40929.15234375,
           39637.6171875,
           40030.9765625
          ],
          [
           40026.0234375,
           40418.87890625,
           39713.05859375,
           40122.15625
          ],
          [
           40118.1015625,
           40119.890625,
           38112.8125,
           38431.37890625
          ],
          [
           38423.2109375,
           39394.4375,
           36950.4765625,
           37075.28125
          ],
          [
           37068.76953125,
           38359.85546875,
           36488.93359375,
           38286.02734375
          ],
          [
           38285.28125,
           39122.39453125,
           37201.81640625,
           37296.5703125
          ],
          [
           37278.56640625,
           38968.83984375,
           34459.21875,
           38332.609375
          ],
          [
           38333.74609375,
           39630.32421875,
           38111.34375,
           39214.21875
          ],
          [
           39213.08203125,
           40005.34765625,
           38702.53515625,
           39105.1484375
          ],
          [
           39098.69921875,
           39778.94140625,
           37268.9765625,
           37709.78515625
          ],
          [
           37706,
           43760.45703125,
           37518.21484375,
           43193.234375
          ],
          [
           43194.50390625,
           44793.6015625,
           42952.5859375,
           44354.63671875
          ],
          [
           44357.6171875,
           45077.578125,
           43432.8515625,
           43924.1171875
          ],
          [
           43925.1953125,
           44021.578125,
           41914.75,
           42451.7890625
          ],
          [
           42458.140625,
           42479.61328125,
           38805.84765625,
           39137.60546875
          ],
          [
           39148.44921875,
           39566.3359375,
           38777.03515625,
           39400.5859375
          ],
          [
           39404.19921875,
           39640.17578125,
           38211.6484375,
           38419.984375
          ],
          [
           38429.3046875,
           39430.2265625,
           37260.203125,
           38062.0390625
          ],
          [
           38059.90234375,
           39304.44140625,
           37957.38671875,
           38737.26953125
          ],
          [
           38742.81640625,
           42465.671875,
           38706.09375,
           41982.92578125
          ],
          [
           41974.0703125,
           42004.7265625,
           38832.94140625,
           39437.4609375
          ],
          [
           39439.96875,
           40081.6796875,
           38347.43359375,
           38794.97265625
          ],
          [
           38794.46484375,
           39308.59765625,
           38772.53515625,
           38904.01171875
          ],
          [
           38884.7265625,
           39209.3515625,
           37728.14453125,
           37849.6640625
          ],
          [
           37846.31640625,
           39742.5,
           37680.734375,
           39666.75390625
          ],
          [
           39664.25,
           39794.62890625,
           38310.2109375,
           39338.78515625
          ],
          [
           39335.5703125,
           41465.453125,
           39022.34765625,
           41143.9296875
          ],
          [
           41140.84375,
           41287.53515625,
           40662.87109375,
           40951.37890625
          ],
          [
           40944.83984375,
           42195.74609375,
           40302.3984375,
           41801.15625
          ],
          [
           41794.6484375,
           42316.5546875,
           41602.66796875,
           42190.65234375
          ],
          [
           42191.40625,
           42241.1640625,
           41004.7578125,
           41247.82421875
          ],
          [
           41246.1328125,
           41454.41015625,
           40668.04296875,
           41077.99609375
          ],
          [
           41074.10546875,
           43124.70703125,
           40948.28125,
           42358.80859375
          ],
          [
           42364.37890625,
           42893.5078125,
           41877.5078125,
           42892.95703125
          ],
          [
           42886.65234375,
           44131.85546875,
           42726.1640625,
           43960.93359375
          ],
          [
           43964.546875,
           44999.4921875,
           43706.28515625,
           44348.73046875
          ],
          [
           44349.859375,
           44735.99609375,
           44166.2734375,
           44500.828125
          ],
          [
           44505.35546875,
           46827.546875,
           44437.29296875,
           46820.4921875
          ],
          [
           46821.8515625,
           48086.8359375,
           46690.203125,
           47128.00390625
          ],
          [
           47100.4375,
           48022.2890625,
           47100.4375,
           47465.73046875
          ],
          [
           47456.8984375,
           47655.1484375,
           46746.2109375,
           47062.6640625
          ],
          [
           47062.1484375,
           47512.02734375,
           45390.5390625,
           45538.67578125
          ],
          [
           45554.1640625,
           46616.2421875,
           44403.140625,
           46281.64453125
          ],
          [
           46285.5,
           47028.28125,
           45782.51171875,
           45868.94921875
          ],
          [
           45859.12890625,
           47313.4765625,
           45634.10546875,
           46453.56640625
          ],
          [
           46445.2734375,
           46791.08984375,
           45235.81640625,
           46622.67578125
          ],
          [
           46624.5078125,
           47106.140625,
           45544.80859375,
           45555.9921875
          ],
          [
           45544.35546875,
           45544.35546875,
           43193.953125,
           43206.73828125
          ],
          [
           43207.5,
           43860.69921875,
           42899.90625,
           43503.84765625
          ],
          [
           43505.13671875,
           43903.01953125,
           42183.2890625,
           42287.6640625
          ],
          [
           42282.078125,
           42786.81640625,
           42183.25390625,
           42782.13671875
          ],
          [
           42781.08984375,
           43376.37890625,
           42021.20703125,
           42207.671875
          ],
          [
           42201.0390625,
           42424.58984375,
           39373.05859375,
           39521.90234375
          ],
          [
           39533.71484375,
           40617.5859375,
           39388.328125,
           40127.18359375
          ],
          [
           40123.5703125,
           41430.0546875,
           39712.74609375,
           41166.73046875
          ],
          [
           41160.21875,
           41451.48046875,
           39695.74609375,
           39935.515625
          ],
          [
           39939.40234375,
           40617.72265625,
           39866.83203125,
           40553.46484375
          ],
          [
           40552.31640625,
           40633.6796875,
           40078.42578125,
           40424.484375
          ],
          [
           40417.77734375,
           40570.7265625,
           39620.89453125,
           39716.953125
          ],
          [
           39721.203125,
           40986.3203125,
           38696.19140625,
           40826.21484375
          ],
          [
           40828.17578125,
           41672.9609375,
           40618.6328125,
           41502.75
          ],
          [
           41501.74609375,
           42126.30078125,
           40961.09765625,
           41374.37890625
          ],
          [
           41371.515625,
           42893.58203125,
           40063.828125,
           40527.36328125
          ],
          [
           40525.86328125,
           40777.7578125,
           39315.41796875,
           39740.3203125
          ],
          [
           39738.72265625,
           39935.859375,
           39352.203125,
           39486.73046875
          ],
          [
           39478.375,
           39845.92578125,
           39233.5390625,
           39469.29296875
          ],
          [
           39472.60546875,
           40491.75390625,
           38338.37890625,
           40458.30859375
          ],
          [
           40448.421875,
           40713.890625,
           37884.984375,
           38117.4609375
          ],
          [
           38120.30078125,
           39397.91796875,
           37997.3125,
           39241.12109375
          ],
          [
           39241.4296875,
           40269.46484375,
           38941.421875,
           39773.828125
          ],
          [
           39768.6171875,
           39887.26953125,
           38235.53515625,
           38609.82421875
          ],
          [
           38605.859375,
           38771.2109375,
           37697.94140625,
           37714.875
          ],
          [
           37713.265625,
           38627.859375,
           37585.7890625,
           38469.09375
          ],
          [
           38472.1875,
           39074.97265625,
           38156.5625,
           38529.328125
          ],
          [
           38528.109375,
           38629.99609375,
           37585.62109375,
           37750.453125
          ],
          [
           37748.01171875,
           39902.94921875,
           37732.05859375,
           39698.37109375
          ],
          [
           39695.74609375,
           39789.28125,
           35856.515625,
           36575.140625
          ],
          [
           36573.18359375,
           36624.359375,
           35482.1328125,
           36040.921875
          ],
          [
           36042.50390625,
           36129.92578125,
           34940.82421875,
           35501.953125
          ],
          [
           35502.94140625,
           35502.94140625,
           33878.96484375,
           34059.265625
          ],
          [
           34060.015625,
           34222.07421875,
           30296.953125,
           30296.953125
          ],
          [
           30273.654296875,
           32596.30859375,
           29944.802734375,
           31022.90625
          ],
          [
           31016.18359375,
           32013.40234375,
           28170.4140625,
           28936.35546875
          ],
          [
           28936.734375,
           30032.439453125,
           26350.490234375,
           29047.751953125
          ],
          [
           29030.91015625,
           30924.802734375,
           28782.330078125,
           29283.103515625
          ],
          [
           29285.642578125,
           30192.802734375,
           28702.91015625,
           30101.265625
          ],
          [
           30098.5859375,
           31308.19140625,
           29527.740234375,
           31305.11328125
          ],
          [
           31304.375,
           31305.341796875,
           29251.884765625,
           29862.91796875
          ],
          [
           29862.408203125,
           30694.490234375,
           29570.302734375,
           30425.857421875
          ],
          [
           30424.478515625,
           30618.716796875,
           28720.271484375,
           28720.271484375
          ],
          [
           28720.359375,
           30430.751953125,
           28708.955078125,
           30314.333984375
          ],
          [
           30311.119140625,
           30664.9765625,
           28793.60546875,
           29200.740234375
          ]
         ],
         "hovertemplate": "Percentual Change: %{y}<br>Date: %{x}<br>Open: %{customdata[0]:.3f}<br>High: %{customdata[1]:.3f}<br>Low: %{customdata[2]:.3f}<br>Close: %{customdata[3]:.3f}",
         "line": {
          "color": "indigo"
         },
         "mode": "lines",
         "name": "bb_low",
         "type": "scatter",
         "x": [
          "2022-02-12T00:00:00",
          "2022-02-13T00:00:00",
          "2022-02-14T00:00:00",
          "2022-02-15T00:00:00",
          "2022-02-16T00:00:00",
          "2022-02-17T00:00:00",
          "2022-02-18T00:00:00",
          "2022-02-19T00:00:00",
          "2022-02-20T00:00:00",
          "2022-02-21T00:00:00",
          "2022-02-22T00:00:00",
          "2022-02-23T00:00:00",
          "2022-02-24T00:00:00",
          "2022-02-25T00:00:00",
          "2022-02-26T00:00:00",
          "2022-02-27T00:00:00",
          "2022-02-28T00:00:00",
          "2022-03-01T00:00:00",
          "2022-03-02T00:00:00",
          "2022-03-03T00:00:00",
          "2022-03-04T00:00:00",
          "2022-03-05T00:00:00",
          "2022-03-06T00:00:00",
          "2022-03-07T00:00:00",
          "2022-03-08T00:00:00",
          "2022-03-09T00:00:00",
          "2022-03-10T00:00:00",
          "2022-03-11T00:00:00",
          "2022-03-12T00:00:00",
          "2022-03-13T00:00:00",
          "2022-03-14T00:00:00",
          "2022-03-15T00:00:00",
          "2022-03-16T00:00:00",
          "2022-03-17T00:00:00",
          "2022-03-18T00:00:00",
          "2022-03-19T00:00:00",
          "2022-03-20T00:00:00",
          "2022-03-21T00:00:00",
          "2022-03-22T00:00:00",
          "2022-03-23T00:00:00",
          "2022-03-24T00:00:00",
          "2022-03-25T00:00:00",
          "2022-03-26T00:00:00",
          "2022-03-27T00:00:00",
          "2022-03-28T00:00:00",
          "2022-03-29T00:00:00",
          "2022-03-30T00:00:00",
          "2022-03-31T00:00:00",
          "2022-04-01T00:00:00",
          "2022-04-02T00:00:00",
          "2022-04-03T00:00:00",
          "2022-04-04T00:00:00",
          "2022-04-05T00:00:00",
          "2022-04-06T00:00:00",
          "2022-04-07T00:00:00",
          "2022-04-08T00:00:00",
          "2022-04-09T00:00:00",
          "2022-04-10T00:00:00",
          "2022-04-11T00:00:00",
          "2022-04-12T00:00:00",
          "2022-04-13T00:00:00",
          "2022-04-14T00:00:00",
          "2022-04-15T00:00:00",
          "2022-04-16T00:00:00",
          "2022-04-17T00:00:00",
          "2022-04-18T00:00:00",
          "2022-04-19T00:00:00",
          "2022-04-20T00:00:00",
          "2022-04-21T00:00:00",
          "2022-04-22T00:00:00",
          "2022-04-23T00:00:00",
          "2022-04-24T00:00:00",
          "2022-04-25T00:00:00",
          "2022-04-26T00:00:00",
          "2022-04-27T00:00:00",
          "2022-04-28T00:00:00",
          "2022-04-29T00:00:00",
          "2022-04-30T00:00:00",
          "2022-05-01T00:00:00",
          "2022-05-02T00:00:00",
          "2022-05-03T00:00:00",
          "2022-05-04T00:00:00",
          "2022-05-05T00:00:00",
          "2022-05-06T00:00:00",
          "2022-05-07T00:00:00",
          "2022-05-08T00:00:00",
          "2022-05-09T00:00:00",
          "2022-05-10T00:00:00",
          "2022-05-11T00:00:00",
          "2022-05-12T00:00:00",
          "2022-05-13T00:00:00",
          "2022-05-14T00:00:00",
          "2022-05-15T00:00:00",
          "2022-05-16T00:00:00",
          "2022-05-17T00:00:00",
          "2022-05-18T00:00:00",
          "2022-05-19T00:00:00",
          "2022-05-20T00:00:00"
         ],
         "y": [
          null,
          0.012635585763484558,
          0.016072495224080052,
          0.012370513254620574,
          0.015002861811395318,
          0.028683336938438497,
          0.029602761835153757,
          -0.008163941941516373,
          -0.02081315226884828,
          -0.031566120858418256,
          -0.0163892079608684,
          -0.01944892304586543,
          -0.007796622496642924,
          -0.002888993324585476,
          -0.00410946034504911,
          -0.009489296136779957,
          -0.0024596066388890003,
          -0.005861032298208224,
          0.002843764026692286,
          0.004661120596943569,
          -0.0029131406536738735,
          -0.0013703925253136795,
          -0.004708227695896405,
          -0.0015894389829912425,
          0.008266568629928583,
          0.005960578996174748,
          0.010425082779097261,
          0.0021846198139066075,
          -0.0012059297853904694,
          -0.005957128123173061,
          0.008752137765197565,
          0.00041842595489138823,
          0.012119801064096603,
          0.014026328602587457,
          0.0033921338781677246,
          -0.002634521003881729,
          0.0010777456871791102,
          0.006400008614897867,
          0.007821965251141316,
          0.004212717391390619,
          -0.006568481942244575,
          -0.0007597646393322499,
          0.0063236721202122315,
          -0.0011646839009206156,
          0.01394632621529146,
          0.005693035179981543,
          0.01574565360996205,
          0.010550692716583487,
          0.013167513746251247,
          0.01062212008451957,
          0.009740144876830836,
          0.018653609891218004,
          0.024567567253791056,
          0.00633366629599319,
          0.004258103100006849,
          -0.011384996298437922,
          -0.008281536756866492,
          -0.011839006392715068,
          -0.03265696397436768,
          -0.02050099102215064,
          -0.008666073451982004,
          -0.013595393557161106,
          -0.009976270603326176,
          -0.006214381913755007,
          -0.007914726950900342,
          0.004141608590383594,
          0.013785175405609307,
          0.013493512935752072,
          0.0006749762722078056,
          0.0014763768574239666,
          -0.003471364708829139,
          0.0017370295842873418,
          0.004769682871354597,
          -0.011700477221821104,
          -0.0033675420941924328,
          -0.0004621507700696137,
          -0.006283839717662665,
          -0.01257526428100586,
          -0.005300317210313654,
          -0.004030683762561216,
          -0.007390455086388248,
          0.004302908730456467,
          -0.01072167485842257,
          -0.015435852853170617,
          -0.018399379624379986,
          -0.02856588001913385,
          -0.06450550207476025,
          -0.03878179310558849,
          -0.056550993302935115,
          -0.04476428743139038,
          -0.032760568111541155,
          -0.022353853195927975,
          -0.011739835293925194,
          -0.013990420097642509,
          -0.002848054421311974,
          -0.01129445448799904,
          0.029500456801057062,
          0.0072915107355682185
         ]
        },
        {
         "customdata": [
          [
           42412.30078125,
           42992.55078125,
           41852.57421875,
           42244.46875
          ],
          [
           42236.56640625,
           42693.0546875,
           41950.94140625,
           42197.515625
          ],
          [
           42157.3984375,
           42775.77734375,
           41681.95703125,
           42586.91796875
          ],
          [
           42586.46484375,
           44667.21875,
           42491.03515625,
           44575.203125
          ],
          [
           44578.27734375,
           44578.27734375,
           43456.69140625,
           43961.859375
          ],
          [
           43937.0703125,
           44132.97265625,
           40249.37109375,
           40538.01171875
          ],
          [
           40552.1328125,
           40929.15234375,
           39637.6171875,
           40030.9765625
          ],
          [
           40026.0234375,
           40418.87890625,
           39713.05859375,
           40122.15625
          ],
          [
           40118.1015625,
           40119.890625,
           38112.8125,
           38431.37890625
          ],
          [
           38423.2109375,
           39394.4375,
           36950.4765625,
           37075.28125
          ],
          [
           37068.76953125,
           38359.85546875,
           36488.93359375,
           38286.02734375
          ],
          [
           38285.28125,
           39122.39453125,
           37201.81640625,
           37296.5703125
          ],
          [
           37278.56640625,
           38968.83984375,
           34459.21875,
           38332.609375
          ],
          [
           38333.74609375,
           39630.32421875,
           38111.34375,
           39214.21875
          ],
          [
           39213.08203125,
           40005.34765625,
           38702.53515625,
           39105.1484375
          ],
          [
           39098.69921875,
           39778.94140625,
           37268.9765625,
           37709.78515625
          ],
          [
           37706,
           43760.45703125,
           37518.21484375,
           43193.234375
          ],
          [
           43194.50390625,
           44793.6015625,
           42952.5859375,
           44354.63671875
          ],
          [
           44357.6171875,
           45077.578125,
           43432.8515625,
           43924.1171875
          ],
          [
           43925.1953125,
           44021.578125,
           41914.75,
           42451.7890625
          ],
          [
           42458.140625,
           42479.61328125,
           38805.84765625,
           39137.60546875
          ],
          [
           39148.44921875,
           39566.3359375,
           38777.03515625,
           39400.5859375
          ],
          [
           39404.19921875,
           39640.17578125,
           38211.6484375,
           38419.984375
          ],
          [
           38429.3046875,
           39430.2265625,
           37260.203125,
           38062.0390625
          ],
          [
           38059.90234375,
           39304.44140625,
           37957.38671875,
           38737.26953125
          ],
          [
           38742.81640625,
           42465.671875,
           38706.09375,
           41982.92578125
          ],
          [
           41974.0703125,
           42004.7265625,
           38832.94140625,
           39437.4609375
          ],
          [
           39439.96875,
           40081.6796875,
           38347.43359375,
           38794.97265625
          ],
          [
           38794.46484375,
           39308.59765625,
           38772.53515625,
           38904.01171875
          ],
          [
           38884.7265625,
           39209.3515625,
           37728.14453125,
           37849.6640625
          ],
          [
           37846.31640625,
           39742.5,
           37680.734375,
           39666.75390625
          ],
          [
           39664.25,
           39794.62890625,
           38310.2109375,
           39338.78515625
          ],
          [
           39335.5703125,
           41465.453125,
           39022.34765625,
           41143.9296875
          ],
          [
           41140.84375,
           41287.53515625,
           40662.87109375,
           40951.37890625
          ],
          [
           40944.83984375,
           42195.74609375,
           40302.3984375,
           41801.15625
          ],
          [
           41794.6484375,
           42316.5546875,
           41602.66796875,
           42190.65234375
          ],
          [
           42191.40625,
           42241.1640625,
           41004.7578125,
           41247.82421875
          ],
          [
           41246.1328125,
           41454.41015625,
           40668.04296875,
           41077.99609375
          ],
          [
           41074.10546875,
           43124.70703125,
           40948.28125,
           42358.80859375
          ],
          [
           42364.37890625,
           42893.5078125,
           41877.5078125,
           42892.95703125
          ],
          [
           42886.65234375,
           44131.85546875,
           42726.1640625,
           43960.93359375
          ],
          [
           43964.546875,
           44999.4921875,
           43706.28515625,
           44348.73046875
          ],
          [
           44349.859375,
           44735.99609375,
           44166.2734375,
           44500.828125
          ],
          [
           44505.35546875,
           46827.546875,
           44437.29296875,
           46820.4921875
          ],
          [
           46821.8515625,
           48086.8359375,
           46690.203125,
           47128.00390625
          ],
          [
           47100.4375,
           48022.2890625,
           47100.4375,
           47465.73046875
          ],
          [
           47456.8984375,
           47655.1484375,
           46746.2109375,
           47062.6640625
          ],
          [
           47062.1484375,
           47512.02734375,
           45390.5390625,
           45538.67578125
          ],
          [
           45554.1640625,
           46616.2421875,
           44403.140625,
           46281.64453125
          ],
          [
           46285.5,
           47028.28125,
           45782.51171875,
           45868.94921875
          ],
          [
           45859.12890625,
           47313.4765625,
           45634.10546875,
           46453.56640625
          ],
          [
           46445.2734375,
           46791.08984375,
           45235.81640625,
           46622.67578125
          ],
          [
           46624.5078125,
           47106.140625,
           45544.80859375,
           45555.9921875
          ],
          [
           45544.35546875,
           45544.35546875,
           43193.953125,
           43206.73828125
          ],
          [
           43207.5,
           43860.69921875,
           42899.90625,
           43503.84765625
          ],
          [
           43505.13671875,
           43903.01953125,
           42183.2890625,
           42287.6640625
          ],
          [
           42282.078125,
           42786.81640625,
           42183.25390625,
           42782.13671875
          ],
          [
           42781.08984375,
           43376.37890625,
           42021.20703125,
           42207.671875
          ],
          [
           42201.0390625,
           42424.58984375,
           39373.05859375,
           39521.90234375
          ],
          [
           39533.71484375,
           40617.5859375,
           39388.328125,
           40127.18359375
          ],
          [
           40123.5703125,
           41430.0546875,
           39712.74609375,
           41166.73046875
          ],
          [
           41160.21875,
           41451.48046875,
           39695.74609375,
           39935.515625
          ],
          [
           39939.40234375,
           40617.72265625,
           39866.83203125,
           40553.46484375
          ],
          [
           40552.31640625,
           40633.6796875,
           40078.42578125,
           40424.484375
          ],
          [
           40417.77734375,
           40570.7265625,
           39620.89453125,
           39716.953125
          ],
          [
           39721.203125,
           40986.3203125,
           38696.19140625,
           40826.21484375
          ],
          [
           40828.17578125,
           41672.9609375,
           40618.6328125,
           41502.75
          ],
          [
           41501.74609375,
           42126.30078125,
           40961.09765625,
           41374.37890625
          ],
          [
           41371.515625,
           42893.58203125,
           40063.828125,
           40527.36328125
          ],
          [
           40525.86328125,
           40777.7578125,
           39315.41796875,
           39740.3203125
          ],
          [
           39738.72265625,
           39935.859375,
           39352.203125,
           39486.73046875
          ],
          [
           39478.375,
           39845.92578125,
           39233.5390625,
           39469.29296875
          ],
          [
           39472.60546875,
           40491.75390625,
           38338.37890625,
           40458.30859375
          ],
          [
           40448.421875,
           40713.890625,
           37884.984375,
           38117.4609375
          ],
          [
           38120.30078125,
           39397.91796875,
           37997.3125,
           39241.12109375
          ],
          [
           39241.4296875,
           40269.46484375,
           38941.421875,
           39773.828125
          ],
          [
           39768.6171875,
           39887.26953125,
           38235.53515625,
           38609.82421875
          ],
          [
           38605.859375,
           38771.2109375,
           37697.94140625,
           37714.875
          ],
          [
           37713.265625,
           38627.859375,
           37585.7890625,
           38469.09375
          ],
          [
           38472.1875,
           39074.97265625,
           38156.5625,
           38529.328125
          ],
          [
           38528.109375,
           38629.99609375,
           37585.62109375,
           37750.453125
          ],
          [
           37748.01171875,
           39902.94921875,
           37732.05859375,
           39698.37109375
          ],
          [
           39695.74609375,
           39789.28125,
           35856.515625,
           36575.140625
          ],
          [
           36573.18359375,
           36624.359375,
           35482.1328125,
           36040.921875
          ],
          [
           36042.50390625,
           36129.92578125,
           34940.82421875,
           35501.953125
          ],
          [
           35502.94140625,
           35502.94140625,
           33878.96484375,
           34059.265625
          ],
          [
           34060.015625,
           34222.07421875,
           30296.953125,
           30296.953125
          ],
          [
           30273.654296875,
           32596.30859375,
           29944.802734375,
           31022.90625
          ],
          [
           31016.18359375,
           32013.40234375,
           28170.4140625,
           28936.35546875
          ],
          [
           28936.734375,
           30032.439453125,
           26350.490234375,
           29047.751953125
          ],
          [
           29030.91015625,
           30924.802734375,
           28782.330078125,
           29283.103515625
          ],
          [
           29285.642578125,
           30192.802734375,
           28702.91015625,
           30101.265625
          ],
          [
           30098.5859375,
           31308.19140625,
           29527.740234375,
           31305.11328125
          ],
          [
           31304.375,
           31305.341796875,
           29251.884765625,
           29862.91796875
          ],
          [
           29862.408203125,
           30694.490234375,
           29570.302734375,
           30425.857421875
          ],
          [
           30424.478515625,
           30618.716796875,
           28720.271484375,
           28720.271484375
          ],
          [
           28720.359375,
           30430.751953125,
           28708.955078125,
           30314.333984375
          ],
          [
           30311.119140625,
           30664.9765625,
           28793.60546875,
           29200.740234375
          ]
         ],
         "fill": "tonexty",
         "hovertemplate": "Percentual Change: %{y}<br>Date: %{x}<br>Open: %{customdata[0]:.3f}<br>High: %{customdata[1]:.3f}<br>Low: %{customdata[2]:.3f}<br>Close: %{customdata[3]:.3f}",
         "line": {
          "color": "indigo"
         },
         "mode": "lines",
         "name": "bb_high",
         "type": "scatter",
         "x": [
          "2022-02-12T00:00:00",
          "2022-02-13T00:00:00",
          "2022-02-14T00:00:00",
          "2022-02-15T00:00:00",
          "2022-02-16T00:00:00",
          "2022-02-17T00:00:00",
          "2022-02-18T00:00:00",
          "2022-02-19T00:00:00",
          "2022-02-20T00:00:00",
          "2022-02-21T00:00:00",
          "2022-02-22T00:00:00",
          "2022-02-23T00:00:00",
          "2022-02-24T00:00:00",
          "2022-02-25T00:00:00",
          "2022-02-26T00:00:00",
          "2022-02-27T00:00:00",
          "2022-02-28T00:00:00",
          "2022-03-01T00:00:00",
          "2022-03-02T00:00:00",
          "2022-03-03T00:00:00",
          "2022-03-04T00:00:00",
          "2022-03-05T00:00:00",
          "2022-03-06T00:00:00",
          "2022-03-07T00:00:00",
          "2022-03-08T00:00:00",
          "2022-03-09T00:00:00",
          "2022-03-10T00:00:00",
          "2022-03-11T00:00:00",
          "2022-03-12T00:00:00",
          "2022-03-13T00:00:00",
          "2022-03-14T00:00:00",
          "2022-03-15T00:00:00",
          "2022-03-16T00:00:00",
          "2022-03-17T00:00:00",
          "2022-03-18T00:00:00",
          "2022-03-19T00:00:00",
          "2022-03-20T00:00:00",
          "2022-03-21T00:00:00",
          "2022-03-22T00:00:00",
          "2022-03-23T00:00:00",
          "2022-03-24T00:00:00",
          "2022-03-25T00:00:00",
          "2022-03-26T00:00:00",
          "2022-03-27T00:00:00",
          "2022-03-28T00:00:00",
          "2022-03-29T00:00:00",
          "2022-03-30T00:00:00",
          "2022-03-31T00:00:00",
          "2022-04-01T00:00:00",
          "2022-04-02T00:00:00",
          "2022-04-03T00:00:00",
          "2022-04-04T00:00:00",
          "2022-04-05T00:00:00",
          "2022-04-06T00:00:00",
          "2022-04-07T00:00:00",
          "2022-04-08T00:00:00",
          "2022-04-09T00:00:00",
          "2022-04-10T00:00:00",
          "2022-04-11T00:00:00",
          "2022-04-12T00:00:00",
          "2022-04-13T00:00:00",
          "2022-04-14T00:00:00",
          "2022-04-15T00:00:00",
          "2022-04-16T00:00:00",
          "2022-04-17T00:00:00",
          "2022-04-18T00:00:00",
          "2022-04-19T00:00:00",
          "2022-04-20T00:00:00",
          "2022-04-21T00:00:00",
          "2022-04-22T00:00:00",
          "2022-04-23T00:00:00",
          "2022-04-24T00:00:00",
          "2022-04-25T00:00:00",
          "2022-04-26T00:00:00",
          "2022-04-27T00:00:00",
          "2022-04-28T00:00:00",
          "2022-04-29T00:00:00",
          "2022-04-30T00:00:00",
          "2022-05-01T00:00:00",
          "2022-05-02T00:00:00",
          "2022-05-03T00:00:00",
          "2022-05-04T00:00:00",
          "2022-05-05T00:00:00",
          "2022-05-06T00:00:00",
          "2022-05-07T00:00:00",
          "2022-05-08T00:00:00",
          "2022-05-09T00:00:00",
          "2022-05-10T00:00:00",
          "2022-05-11T00:00:00",
          "2022-05-12T00:00:00",
          "2022-05-13T00:00:00",
          "2022-05-14T00:00:00",
          "2022-05-15T00:00:00",
          "2022-05-16T00:00:00",
          "2022-05-17T00:00:00",
          "2022-05-18T00:00:00",
          "2022-05-19T00:00:00",
          "2022-05-20T00:00:00"
         ],
         "y": [
          null,
          0.0019617335613886233,
          0.0009067057123581801,
          0.007748534850577471,
          0.002967598321725884,
          -0.01292914876754736,
          -0.01659427884630227,
          0.0031390504372181827,
          0.009308941697343531,
          0.011178085247468328,
          -0.0026859137729987603,
          -0.0041189228756408625,
          -0.011239122069296448,
          -0.010445198054916283,
          -0.006494695500664505,
          -0.005929187676344205,
          0.004931970822100951,
          0.009881934583331198,
          -0.00412558820288067,
          -0.00811175402327513,
          -0.0018753629019957474,
          -0.0008021384254465191,
          -0.0013755282070282426,
          0.0001443570146892892,
          -0.001516245173652897,
          0.0063648515314909115,
          -0.0018853483555371087,
          -0.0003729045585745272,
          0.000043711591317219245,
          0.001037732144883785,
          -0.00114548483519894,
          -0.01185898232466498,
          -0.01960733644234869,
          -0.020994432275061037,
          -0.005011898638748402,
          0.011990094744513957,
          0.00484684542169056,
          0.002747488623637606,
          0.006561715154542513,
          0.009165874883283243,
          0.01172653137691726,
          0.015490066229309818,
          0.011702742275078393,
          0.024258973858963584,
          0.015353977935949281,
          0.017458070879168286,
          0.008885768945918082,
          0.0036181122276512934,
          0.00396355656348546,
          0.002437006736634384,
          0.003598790604120161,
          -0.0008650346897335348,
          -0.008598285832111863,
          -0.0032100230470448743,
          -0.00207626299280117,
          0.005495643778684833,
          0.002933480192844451,
          0.0039492845144628586,
          0.00786624832165339,
          -0.0022063705067706385,
          -0.010130924772795091,
          -0.00860922387150631,
          -0.005806307490506035,
          -0.011331619472110033,
          -0.01096272421067579,
          -0.019304402376673857,
          -0.026140056065804385,
          -0.02396174436131615,
          -0.008763857848350431,
          -0.012892320056559936,
          -0.005570722558359442,
          -0.011956874924720418,
          -0.009946812349255318,
          0.006461085943170408,
          0.00027812686838779577,
          -0.004006415153513632,
          0.0015451144242828452,
          0.002423024611812652,
          -0.0014557135184452008,
          -0.0001743173983368429,
          -0.003207694645137149,
          -0.009587800692123616,
          -0.005831668566847026,
          -0.0007305209842790594,
          0.0024775039908726537,
          0.007109250957039404,
          0.024279285404794182,
          -0.0001008302294422947,
          0.012561722513849238,
          -0.001087172482775789,
          -0.011210638609522317,
          -0.012460580312641856,
          -0.012970397862623328,
          -0.018883179961996177,
          -0.024804484506035118,
          -0.023071848637433945,
          -0.051756711212367024,
          -0.03201799767984659
         ]
        },
        {
         "mode": "lines",
         "name": "rsi",
         "type": "scatter",
         "x": [
          "2022-02-12T00:00:00",
          "2022-02-13T00:00:00",
          "2022-02-14T00:00:00",
          "2022-02-15T00:00:00",
          "2022-02-16T00:00:00",
          "2022-02-17T00:00:00",
          "2022-02-18T00:00:00",
          "2022-02-19T00:00:00",
          "2022-02-20T00:00:00",
          "2022-02-21T00:00:00",
          "2022-02-22T00:00:00",
          "2022-02-23T00:00:00",
          "2022-02-24T00:00:00",
          "2022-02-25T00:00:00",
          "2022-02-26T00:00:00",
          "2022-02-27T00:00:00",
          "2022-02-28T00:00:00",
          "2022-03-01T00:00:00",
          "2022-03-02T00:00:00",
          "2022-03-03T00:00:00",
          "2022-03-04T00:00:00",
          "2022-03-05T00:00:00",
          "2022-03-06T00:00:00",
          "2022-03-07T00:00:00",
          "2022-03-08T00:00:00",
          "2022-03-09T00:00:00",
          "2022-03-10T00:00:00",
          "2022-03-11T00:00:00",
          "2022-03-12T00:00:00",
          "2022-03-13T00:00:00",
          "2022-03-14T00:00:00",
          "2022-03-15T00:00:00",
          "2022-03-16T00:00:00",
          "2022-03-17T00:00:00",
          "2022-03-18T00:00:00",
          "2022-03-19T00:00:00",
          "2022-03-20T00:00:00",
          "2022-03-21T00:00:00",
          "2022-03-22T00:00:00",
          "2022-03-23T00:00:00",
          "2022-03-24T00:00:00",
          "2022-03-25T00:00:00",
          "2022-03-26T00:00:00",
          "2022-03-27T00:00:00",
          "2022-03-28T00:00:00",
          "2022-03-29T00:00:00",
          "2022-03-30T00:00:00",
          "2022-03-31T00:00:00",
          "2022-04-01T00:00:00",
          "2022-04-02T00:00:00",
          "2022-04-03T00:00:00",
          "2022-04-04T00:00:00",
          "2022-04-05T00:00:00",
          "2022-04-06T00:00:00",
          "2022-04-07T00:00:00",
          "2022-04-08T00:00:00",
          "2022-04-09T00:00:00",
          "2022-04-10T00:00:00",
          "2022-04-11T00:00:00",
          "2022-04-12T00:00:00",
          "2022-04-13T00:00:00",
          "2022-04-14T00:00:00",
          "2022-04-15T00:00:00",
          "2022-04-16T00:00:00",
          "2022-04-17T00:00:00",
          "2022-04-18T00:00:00",
          "2022-04-19T00:00:00",
          "2022-04-20T00:00:00",
          "2022-04-21T00:00:00",
          "2022-04-22T00:00:00",
          "2022-04-23T00:00:00",
          "2022-04-24T00:00:00",
          "2022-04-25T00:00:00",
          "2022-04-26T00:00:00",
          "2022-04-27T00:00:00",
          "2022-04-28T00:00:00",
          "2022-04-29T00:00:00",
          "2022-04-30T00:00:00",
          "2022-05-01T00:00:00",
          "2022-05-02T00:00:00",
          "2022-05-03T00:00:00",
          "2022-05-04T00:00:00",
          "2022-05-05T00:00:00",
          "2022-05-06T00:00:00",
          "2022-05-07T00:00:00",
          "2022-05-08T00:00:00",
          "2022-05-09T00:00:00",
          "2022-05-10T00:00:00",
          "2022-05-11T00:00:00",
          "2022-05-12T00:00:00",
          "2022-05-13T00:00:00",
          "2022-05-14T00:00:00",
          "2022-05-15T00:00:00",
          "2022-05-16T00:00:00",
          "2022-05-17T00:00:00",
          "2022-05-18T00:00:00",
          "2022-05-19T00:00:00",
          "2022-05-20T00:00:00"
         ],
         "xaxis": "x3",
         "y": [
          53.505384174900485,
          53.293763262425934,
          54.879504211326115,
          61.94732994513781,
          58.89802272323885,
          45.501835275022415,
          43.916943994435734,
          44.290814000275965,
          39.110734027680685,
          35.53887546709479,
          40.717891580847215,
          38.041704681645776,
          42.296473144054744,
          45.6963912455988,
          45.342261137172954,
          40.98829762069931,
          57.97806457312434,
          60.55516597332783,
          59.11527841482416,
          54.37753165669263,
          45.569454474207525,
          46.30884607859683,
          43.9250119902656,
          43.058140619789505,
          45.24231072795836,
          54.275089828481995,
          47.66772206467326,
          46.14841333271241,
          46.45871957342894,
          43.84148747252749,
          49.13285747857287,
          48.25362888811671,
          53.19312003168991,
          52.61908011571887,
          54.91945628268628,
          55.96927046239204,
          52.7814264784274,
          52.20754658895525,
          56.067360323222694,
          57.597523927094485,
          60.541625205341575,
          61.57946598544329,
          61.99947879083864,
          67.7588543131887,
          68.43828665170348,
          69.2019908256663,
          67.12505139613287,
          59.848482683564356,
          62.00015424783025,
          60.08389480544566,
          61.87246320491487,
          62.39469799982066,
          57.10832690638159,
          47.59323932299471,
          48.75029522704198,
          44.44650901211611,
          46.50383199477785,
          44.45459503891433,
          36.41624201700686,
          39.07628407236999,
          43.4311029925994,
          39.81925216710188,
          42.39538579347426,
          41.99338576421853,
          39.776617763066064,
          44.68184012964113,
          47.477342207646785,
          46.9945286161759,
          43.84259715635582,
          41.09834481326728,
          40.22905569118264,
          40.166463652298646,
          45.33503472268423,
          37.18858016559763,
          42.50242948742524,
          44.87142408195555,
          40.92393287805148,
          38.15857914718022,
          41.71483897547697,
          42.000236730533395,
          39.331995377537346,
          48.15725489068275,
          38.52891974671202,
          37.16707930281389,
          35.79928306161699,
          32.38159005851162,
          25.562730058910816,
          28.668106767272487,
          25.404364917874002,
          25.88699783905028,
          26.956772497827348,
          30.68343800924017,
          35.84373749673219,
          32.71742241331945,
          35.08532154716942,
          31.487988562078222,
          37.867254206381276,
          35.40011685784629
         ],
         "yaxis": "y3"
        },
        {
         "mode": "lines",
         "name": "slowk",
         "type": "scatter",
         "x": [
          "2022-02-12T00:00:00",
          "2022-02-13T00:00:00",
          "2022-02-14T00:00:00",
          "2022-02-15T00:00:00",
          "2022-02-16T00:00:00",
          "2022-02-17T00:00:00",
          "2022-02-18T00:00:00",
          "2022-02-19T00:00:00",
          "2022-02-20T00:00:00",
          "2022-02-21T00:00:00",
          "2022-02-22T00:00:00",
          "2022-02-23T00:00:00",
          "2022-02-24T00:00:00",
          "2022-02-25T00:00:00",
          "2022-02-26T00:00:00",
          "2022-02-27T00:00:00",
          "2022-02-28T00:00:00",
          "2022-03-01T00:00:00",
          "2022-03-02T00:00:00",
          "2022-03-03T00:00:00",
          "2022-03-04T00:00:00",
          "2022-03-05T00:00:00",
          "2022-03-06T00:00:00",
          "2022-03-07T00:00:00",
          "2022-03-08T00:00:00",
          "2022-03-09T00:00:00",
          "2022-03-10T00:00:00",
          "2022-03-11T00:00:00",
          "2022-03-12T00:00:00",
          "2022-03-13T00:00:00",
          "2022-03-14T00:00:00",
          "2022-03-15T00:00:00",
          "2022-03-16T00:00:00",
          "2022-03-17T00:00:00",
          "2022-03-18T00:00:00",
          "2022-03-19T00:00:00",
          "2022-03-20T00:00:00",
          "2022-03-21T00:00:00",
          "2022-03-22T00:00:00",
          "2022-03-23T00:00:00",
          "2022-03-24T00:00:00",
          "2022-03-25T00:00:00",
          "2022-03-26T00:00:00",
          "2022-03-27T00:00:00",
          "2022-03-28T00:00:00",
          "2022-03-29T00:00:00",
          "2022-03-30T00:00:00",
          "2022-03-31T00:00:00",
          "2022-04-01T00:00:00",
          "2022-04-02T00:00:00",
          "2022-04-03T00:00:00",
          "2022-04-04T00:00:00",
          "2022-04-05T00:00:00",
          "2022-04-06T00:00:00",
          "2022-04-07T00:00:00",
          "2022-04-08T00:00:00",
          "2022-04-09T00:00:00",
          "2022-04-10T00:00:00",
          "2022-04-11T00:00:00",
          "2022-04-12T00:00:00",
          "2022-04-13T00:00:00",
          "2022-04-14T00:00:00",
          "2022-04-15T00:00:00",
          "2022-04-16T00:00:00",
          "2022-04-17T00:00:00",
          "2022-04-18T00:00:00",
          "2022-04-19T00:00:00",
          "2022-04-20T00:00:00",
          "2022-04-21T00:00:00",
          "2022-04-22T00:00:00",
          "2022-04-23T00:00:00",
          "2022-04-24T00:00:00",
          "2022-04-25T00:00:00",
          "2022-04-26T00:00:00",
          "2022-04-27T00:00:00",
          "2022-04-28T00:00:00",
          "2022-04-29T00:00:00",
          "2022-04-30T00:00:00",
          "2022-05-01T00:00:00",
          "2022-05-02T00:00:00",
          "2022-05-03T00:00:00",
          "2022-05-04T00:00:00",
          "2022-05-05T00:00:00",
          "2022-05-06T00:00:00",
          "2022-05-07T00:00:00",
          "2022-05-08T00:00:00",
          "2022-05-09T00:00:00",
          "2022-05-10T00:00:00",
          "2022-05-11T00:00:00",
          "2022-05-12T00:00:00",
          "2022-05-13T00:00:00",
          "2022-05-14T00:00:00",
          "2022-05-15T00:00:00",
          "2022-05-16T00:00:00",
          "2022-05-17T00:00:00",
          "2022-05-18T00:00:00",
          "2022-05-19T00:00:00",
          "2022-05-20T00:00:00"
         ],
         "xaxis": "x2",
         "y": [
          26.562896452838107,
          12.06928107725817,
          14.029615099548034,
          42.90559400414312,
          65.34393668971764,
          59.941041335756246,
          30.242113223877595,
          7.996048095845697,
          7.460610740749833,
          5.432856525608018,
          15.712637848975442,
          20.920517270793514,
          43.15008992570361,
          60.31014608431593,
          81.38282425904517,
          78.11059200558294,
          78.76005358358657,
          82.22585901554218,
          91.09875400317567,
          81.92257951871387,
          57.67458808908544,
          32.56407127352343,
          11.451145936042417,
          8.263396289078129,
          14.397633146473146,
          43.62824322026898,
          53.617339317509696,
          54.01210665866258,
          30.76919910679959,
          17.68209469640184,
          23.16424080362961,
          39.184506403995805,
          68.83105732973739,
          82.32668389356576,
          89.72743146658706,
          91.51167523067267,
          85.22506446492197,
          67.64067509999744,
          59.64243228894939,
          67.31216527298942,
          86.16489043031703,
          90.20262128252621,
          89.24412518332362,
          90.84145303251451,
          89.88735146672423,
          89.26411991694266,
          80.60393084968509,
          63.292286051930596,
          51.68355328816748,
          40.55840749389932,
          51.51588130979855,
          58.315265280464295,
          58.0188791600153,
          37.105306963880665,
          17.868804217163074,
          5.371435885115319,
          9.323076522473277,
          6.52601806172375,
          6.914534090301314,
          8.408606559762942,
          21.57928747561118,
          25.16728782596732,
          32.51226423839381,
          34.318060447673524,
          31.383947101129625,
          44.25871053191091,
          58.94538747312395,
          83.22250584786822,
          71.99574601538315,
          48.86029328151951,
          24.42994067934065,
          12.034891799132838,
          19.255883625370974,
          20.33879653544466,
          34.171218184956764,
          40.914804330756745,
          46.77685722176226,
          30.984495637218625,
          19.69935760373579,
          22.8779714146195,
          25.077974483153227,
          44.49724901298072,
          38.69758452904251,
          40.52374267993099,
          13.902551953595955,
          8.980412813130046,
          4.7670955496037655,
          6.377798020088214,
          8.58777173531241,
          18.4112302023314,
          25.44967988797509,
          42.25955169342624,
          61.60025794813867,
          72.79766358701481,
          74.82442523661808,
          45.88239044327732,
          42.85424787743367,
          27.123670048815487
         ],
         "yaxis": "y2"
        },
        {
         "mode": "lines",
         "name": "slowd",
         "type": "scatter",
         "x": [
          "2022-02-12T00:00:00",
          "2022-02-13T00:00:00",
          "2022-02-14T00:00:00",
          "2022-02-15T00:00:00",
          "2022-02-16T00:00:00",
          "2022-02-17T00:00:00",
          "2022-02-18T00:00:00",
          "2022-02-19T00:00:00",
          "2022-02-20T00:00:00",
          "2022-02-21T00:00:00",
          "2022-02-22T00:00:00",
          "2022-02-23T00:00:00",
          "2022-02-24T00:00:00",
          "2022-02-25T00:00:00",
          "2022-02-26T00:00:00",
          "2022-02-27T00:00:00",
          "2022-02-28T00:00:00",
          "2022-03-01T00:00:00",
          "2022-03-02T00:00:00",
          "2022-03-03T00:00:00",
          "2022-03-04T00:00:00",
          "2022-03-05T00:00:00",
          "2022-03-06T00:00:00",
          "2022-03-07T00:00:00",
          "2022-03-08T00:00:00",
          "2022-03-09T00:00:00",
          "2022-03-10T00:00:00",
          "2022-03-11T00:00:00",
          "2022-03-12T00:00:00",
          "2022-03-13T00:00:00",
          "2022-03-14T00:00:00",
          "2022-03-15T00:00:00",
          "2022-03-16T00:00:00",
          "2022-03-17T00:00:00",
          "2022-03-18T00:00:00",
          "2022-03-19T00:00:00",
          "2022-03-20T00:00:00",
          "2022-03-21T00:00:00",
          "2022-03-22T00:00:00",
          "2022-03-23T00:00:00",
          "2022-03-24T00:00:00",
          "2022-03-25T00:00:00",
          "2022-03-26T00:00:00",
          "2022-03-27T00:00:00",
          "2022-03-28T00:00:00",
          "2022-03-29T00:00:00",
          "2022-03-30T00:00:00",
          "2022-03-31T00:00:00",
          "2022-04-01T00:00:00",
          "2022-04-02T00:00:00",
          "2022-04-03T00:00:00",
          "2022-04-04T00:00:00",
          "2022-04-05T00:00:00",
          "2022-04-06T00:00:00",
          "2022-04-07T00:00:00",
          "2022-04-08T00:00:00",
          "2022-04-09T00:00:00",
          "2022-04-10T00:00:00",
          "2022-04-11T00:00:00",
          "2022-04-12T00:00:00",
          "2022-04-13T00:00:00",
          "2022-04-14T00:00:00",
          "2022-04-15T00:00:00",
          "2022-04-16T00:00:00",
          "2022-04-17T00:00:00",
          "2022-04-18T00:00:00",
          "2022-04-19T00:00:00",
          "2022-04-20T00:00:00",
          "2022-04-21T00:00:00",
          "2022-04-22T00:00:00",
          "2022-04-23T00:00:00",
          "2022-04-24T00:00:00",
          "2022-04-25T00:00:00",
          "2022-04-26T00:00:00",
          "2022-04-27T00:00:00",
          "2022-04-28T00:00:00",
          "2022-04-29T00:00:00",
          "2022-04-30T00:00:00",
          "2022-05-01T00:00:00",
          "2022-05-02T00:00:00",
          "2022-05-03T00:00:00",
          "2022-05-04T00:00:00",
          "2022-05-05T00:00:00",
          "2022-05-06T00:00:00",
          "2022-05-07T00:00:00",
          "2022-05-08T00:00:00",
          "2022-05-09T00:00:00",
          "2022-05-10T00:00:00",
          "2022-05-11T00:00:00",
          "2022-05-12T00:00:00",
          "2022-05-13T00:00:00",
          "2022-05-14T00:00:00",
          "2022-05-15T00:00:00",
          "2022-05-16T00:00:00",
          "2022-05-17T00:00:00",
          "2022-05-18T00:00:00",
          "2022-05-19T00:00:00",
          "2022-05-20T00:00:00"
         ],
         "xaxis": "x2",
         "y": [
          49.15642831040418,
          29.20596797811832,
          17.553930876548126,
          23.00149672698313,
          40.75971526446962,
          56.06352400987236,
          51.84236374978385,
          32.72640088515987,
          15.23292402015773,
          6.963171787401204,
          9.535368371777786,
          14.022003881792346,
          26.59441501515754,
          41.46025109360437,
          61.61435342302159,
          73.26785411631471,
          79.41782328273825,
          79.69883486823727,
          84.02822220076818,
          85.08239751247727,
          76.89864053699169,
          57.38707962710762,
          33.89660176621713,
          17.426204499548028,
          11.3707251238646,
          22.096424218606785,
          37.21440522808397,
          50.41922973214712,
          46.13288169432399,
          34.154466820621366,
          23.871844868943707,
          26.676947301342448,
          43.726601512454295,
          63.447415875766346,
          80.29505756329677,
          87.85526353027518,
          88.82139038739392,
          81.45913826519738,
          70.83605728462295,
          64.86509088731209,
          71.03982933075196,
          81.22655899527757,
          88.5372122987223,
          90.09606649945478,
          89.99097656085412,
          89.99764147206048,
          86.585134077784,
          77.7201122728528,
          65.19325672992774,
          51.84474894466581,
          47.91928069728846,
          50.1298513613874,
          55.95000858342606,
          51.14648380145343,
          37.664330113686354,
          20.115182355386356,
          10.854438874917228,
          7.073510156437454,
          7.587876224832786,
          7.283052903929341,
          12.300809375225151,
          18.385060620447153,
          26.419613179990776,
          30.665870837344887,
          32.738090595732324,
          36.653572693571356,
          44.86268170205483,
          62.14220128430103,
          71.38787977879178,
          68.02618171492364,
          48.428659992081116,
          28.441708586664344,
          18.57357203461483,
          17.209857319982834,
          24.588632781924144,
          31.808273017052738,
          40.62095991249194,
          39.558719063245896,
          32.48690348757225,
          24.52060821852466,
          22.551767833836195,
          30.817731636917838,
          36.09093600839217,
          41.23952540731809,
          31.04129305418984,
          21.135569148885686,
          9.216686772109945,
          6.708435460940699,
          6.577555101668153,
          11.125599985910696,
          17.482893941872987,
          28.706820594577596,
          43.103163176513355,
          58.885824409526585,
          69.74078225725721,
          64.5014930889701,
          54.52035451910971,
          38.62010278984218
         ],
         "yaxis": "y2"
        },
        {
         "mode": "lines",
         "name": "macd",
         "type": "scatter",
         "x": [
          "2022-02-12T00:00:00",
          "2022-02-13T00:00:00",
          "2022-02-14T00:00:00",
          "2022-02-15T00:00:00",
          "2022-02-16T00:00:00",
          "2022-02-17T00:00:00",
          "2022-02-18T00:00:00",
          "2022-02-19T00:00:00",
          "2022-02-20T00:00:00",
          "2022-02-21T00:00:00",
          "2022-02-22T00:00:00",
          "2022-02-23T00:00:00",
          "2022-02-24T00:00:00",
          "2022-02-25T00:00:00",
          "2022-02-26T00:00:00",
          "2022-02-27T00:00:00",
          "2022-02-28T00:00:00",
          "2022-03-01T00:00:00",
          "2022-03-02T00:00:00",
          "2022-03-03T00:00:00",
          "2022-03-04T00:00:00",
          "2022-03-05T00:00:00",
          "2022-03-06T00:00:00",
          "2022-03-07T00:00:00",
          "2022-03-08T00:00:00",
          "2022-03-09T00:00:00",
          "2022-03-10T00:00:00",
          "2022-03-11T00:00:00",
          "2022-03-12T00:00:00",
          "2022-03-13T00:00:00",
          "2022-03-14T00:00:00",
          "2022-03-15T00:00:00",
          "2022-03-16T00:00:00",
          "2022-03-17T00:00:00",
          "2022-03-18T00:00:00",
          "2022-03-19T00:00:00",
          "2022-03-20T00:00:00",
          "2022-03-21T00:00:00",
          "2022-03-22T00:00:00",
          "2022-03-23T00:00:00",
          "2022-03-24T00:00:00",
          "2022-03-25T00:00:00",
          "2022-03-26T00:00:00",
          "2022-03-27T00:00:00",
          "2022-03-28T00:00:00",
          "2022-03-29T00:00:00",
          "2022-03-30T00:00:00",
          "2022-03-31T00:00:00",
          "2022-04-01T00:00:00",
          "2022-04-02T00:00:00",
          "2022-04-03T00:00:00",
          "2022-04-04T00:00:00",
          "2022-04-05T00:00:00",
          "2022-04-06T00:00:00",
          "2022-04-07T00:00:00",
          "2022-04-08T00:00:00",
          "2022-04-09T00:00:00",
          "2022-04-10T00:00:00",
          "2022-04-11T00:00:00",
          "2022-04-12T00:00:00",
          "2022-04-13T00:00:00",
          "2022-04-14T00:00:00",
          "2022-04-15T00:00:00",
          "2022-04-16T00:00:00",
          "2022-04-17T00:00:00",
          "2022-04-18T00:00:00",
          "2022-04-19T00:00:00",
          "2022-04-20T00:00:00",
          "2022-04-21T00:00:00",
          "2022-04-22T00:00:00",
          "2022-04-23T00:00:00",
          "2022-04-24T00:00:00",
          "2022-04-25T00:00:00",
          "2022-04-26T00:00:00",
          "2022-04-27T00:00:00",
          "2022-04-28T00:00:00",
          "2022-04-29T00:00:00",
          "2022-04-30T00:00:00",
          "2022-05-01T00:00:00",
          "2022-05-02T00:00:00",
          "2022-05-03T00:00:00",
          "2022-05-04T00:00:00",
          "2022-05-05T00:00:00",
          "2022-05-06T00:00:00",
          "2022-05-07T00:00:00",
          "2022-05-08T00:00:00",
          "2022-05-09T00:00:00",
          "2022-05-10T00:00:00",
          "2022-05-11T00:00:00",
          "2022-05-12T00:00:00",
          "2022-05-13T00:00:00",
          "2022-05-14T00:00:00",
          "2022-05-15T00:00:00",
          "2022-05-16T00:00:00",
          "2022-05-17T00:00:00",
          "2022-05-18T00:00:00",
          "2022-05-19T00:00:00",
          "2022-05-20T00:00:00"
         ],
         "xaxis": "x4",
         "y": [
          538.0792426528278,
          525.3032721748459,
          540.3706814479374,
          704.6272033832865,
          776.3605644051931,
          550.5870534319765,
          326.97722976712976,
          155.33170504661393,
          -115.79539393723098,
          -435.07603501930134,
          -583.6828200121527,
          -772.3920264736516,
          -828.7919407785521,
          -793.2071720341992,
          -764.9887351600264,
          -845.4734838607765,
          -461.47016144556983,
          -62.70645792715368,
          216.08641222747247,
          314.6006747448773,
          123.81970285972056,
          -6.085120373492828,
          -186.0176835006714,
          -353.4246717513015,
          -426.6918226257112,
          -220.31952689910395,
          -259.17809155034774,
          -337.9218658748214,
          -387.0664719310298,
          -505.2665720812729,
          -447.1624285712751,
          -422.7061203674748,
          -254.72789782469044,
          -135.57832256667461,
          27.106042422557948,
          185.32731543494447,
          231.96649867331143,
          252.31613370424748,
          367.5572593415418,
          496.2673355890947,
          676.6478067449934,
          841.1958148386984,
          972.6620636746375,
          1249.6226446580695,
          1476.9046882957118,
          1665.0849931309494,
          1761.3909318265796,
          1695.199756723996,
          1683.2902205983337,
          1621.8550295244058,
          1601.8754955830154,
          1581.4572297248524,
          1462.3461395399718,
          1164.9557015513565,
          942.3826794628258,
          660.2452081887604,
          471.118282097239,
          271.7467908477847,
          -101.80219528323505,
          -345.02409672169597,
          -448.7238517322039,
          -623.0730051395003,
          -703.2757032632871,
          -768.3870773259332,
          -867.0849535593297,
          -846.0429251403839,
          -765.9468741695237,
          -704.7052477060934,
          -716.2612854033287,
          -779.9366938082458,
          -841.1660560906457,
          -880.9428663564395,
          -823.1719656660425,
          -955.2632728525787,
          -958.2307144761944,
          -907.1404771929738,
          -949.629742758043,
          -1043.4890224855772,
          -1044.9682841241156,
          -1029.4137579534654,
          -1067.628431090954,
          -930.012528707608,
          -1060.7419584932213,
          -1193.6928142113757,
          -1327.2479112644942,
          -1531.845945579451,
          -1974.814109836705,
          -2241.45314468399,
          -2591.263241206121,
          -2826.9145859817945,
          -2960.55167350141,
          -2966.2481216820015,
          -2840.874322217427,
          -2825.3192698196253,
          -2736.0280413974833,
          -2770.948856976738,
          -2639.5690246587546,
          -2595.389238373631
         ],
         "yaxis": "y4"
        },
        {
         "mode": "lines",
         "name": "macd signal",
         "type": "scatter",
         "x": [
          "2022-02-12T00:00:00",
          "2022-02-13T00:00:00",
          "2022-02-14T00:00:00",
          "2022-02-15T00:00:00",
          "2022-02-16T00:00:00",
          "2022-02-17T00:00:00",
          "2022-02-18T00:00:00",
          "2022-02-19T00:00:00",
          "2022-02-20T00:00:00",
          "2022-02-21T00:00:00",
          "2022-02-22T00:00:00",
          "2022-02-23T00:00:00",
          "2022-02-24T00:00:00",
          "2022-02-25T00:00:00",
          "2022-02-26T00:00:00",
          "2022-02-27T00:00:00",
          "2022-02-28T00:00:00",
          "2022-03-01T00:00:00",
          "2022-03-02T00:00:00",
          "2022-03-03T00:00:00",
          "2022-03-04T00:00:00",
          "2022-03-05T00:00:00",
          "2022-03-06T00:00:00",
          "2022-03-07T00:00:00",
          "2022-03-08T00:00:00",
          "2022-03-09T00:00:00",
          "2022-03-10T00:00:00",
          "2022-03-11T00:00:00",
          "2022-03-12T00:00:00",
          "2022-03-13T00:00:00",
          "2022-03-14T00:00:00",
          "2022-03-15T00:00:00",
          "2022-03-16T00:00:00",
          "2022-03-17T00:00:00",
          "2022-03-18T00:00:00",
          "2022-03-19T00:00:00",
          "2022-03-20T00:00:00",
          "2022-03-21T00:00:00",
          "2022-03-22T00:00:00",
          "2022-03-23T00:00:00",
          "2022-03-24T00:00:00",
          "2022-03-25T00:00:00",
          "2022-03-26T00:00:00",
          "2022-03-27T00:00:00",
          "2022-03-28T00:00:00",
          "2022-03-29T00:00:00",
          "2022-03-30T00:00:00",
          "2022-03-31T00:00:00",
          "2022-04-01T00:00:00",
          "2022-04-02T00:00:00",
          "2022-04-03T00:00:00",
          "2022-04-04T00:00:00",
          "2022-04-05T00:00:00",
          "2022-04-06T00:00:00",
          "2022-04-07T00:00:00",
          "2022-04-08T00:00:00",
          "2022-04-09T00:00:00",
          "2022-04-10T00:00:00",
          "2022-04-11T00:00:00",
          "2022-04-12T00:00:00",
          "2022-04-13T00:00:00",
          "2022-04-14T00:00:00",
          "2022-04-15T00:00:00",
          "2022-04-16T00:00:00",
          "2022-04-17T00:00:00",
          "2022-04-18T00:00:00",
          "2022-04-19T00:00:00",
          "2022-04-20T00:00:00",
          "2022-04-21T00:00:00",
          "2022-04-22T00:00:00",
          "2022-04-23T00:00:00",
          "2022-04-24T00:00:00",
          "2022-04-25T00:00:00",
          "2022-04-26T00:00:00",
          "2022-04-27T00:00:00",
          "2022-04-28T00:00:00",
          "2022-04-29T00:00:00",
          "2022-04-30T00:00:00",
          "2022-05-01T00:00:00",
          "2022-05-02T00:00:00",
          "2022-05-03T00:00:00",
          "2022-05-04T00:00:00",
          "2022-05-05T00:00:00",
          "2022-05-06T00:00:00",
          "2022-05-07T00:00:00",
          "2022-05-08T00:00:00",
          "2022-05-09T00:00:00",
          "2022-05-10T00:00:00",
          "2022-05-11T00:00:00",
          "2022-05-12T00:00:00",
          "2022-05-13T00:00:00",
          "2022-05-14T00:00:00",
          "2022-05-15T00:00:00",
          "2022-05-16T00:00:00",
          "2022-05-17T00:00:00",
          "2022-05-18T00:00:00",
          "2022-05-19T00:00:00",
          "2022-05-20T00:00:00"
         ],
         "xaxis": "x4",
         "y": [
          -94.71044760109629,
          29.292296354092173,
          131.50797337286122,
          246.1318193749463,
          352.1775683809957,
          391.85946539119186,
          378.88301826637945,
          334.17275562242634,
          244.17912571049487,
          108.32809356453564,
          -30.074089150802024,
          -178.53767661537196,
          -308.588529448008,
          -405.51225796524625,
          -477.4075534042023,
          -551.0207394955171,
          -533.1106238855276,
          -439.0297906938528,
          -308.00655010958775,
          -183.48510513869473,
          -122.02414353901167,
          -98.83633890590791,
          -116.27260782486061,
          -163.7030206101488,
          -216.3007810132613,
          -217.1045301904298,
          -225.5192424624134,
          -247.99976714489497,
          -275.81310810212193,
          -321.70380089795214,
          -346.7955264326167,
          -361.97764521958834,
          -340.52769574060875,
          -299.53782110582193,
          -234.20904840014595,
          -150.30177563312787,
          -73.84812077184002,
          -8.61526987662252,
          66.61923596701034,
          152.54885589142722,
          257.36864606214044,
          374.13407981745206,
          493.8396765888891,
          644.9962702027252,
          811.3779538213225,
          982.1193616832479,
          1137.9736757119142,
          1249.4188919143305,
          1336.193157651131,
          1393.325532025786,
          1435.035524737232,
          1464.3198657347561,
          1463.9251204957993,
          1404.1312367069108,
          1311.7815252580938,
          1181.4742618442272,
          1039.4030658948295,
          885.8718108854206,
          688.3370096516894,
          481.6647883770123,
          295.58706035516906,
          111.85504725623517,
          -51.17110284766929,
          -194.61429774332208,
          -329.1084289065236,
          -432.49532815329565,
          -499.18563735654124,
          -540.2895594264517,
          -575.483904621827,
          -616.3744624591108,
          -661.3327811854177,
          -705.2547982196221,
          -728.8382317089062,
          -774.1232399376406,
          -810.9447348453514,
          -830.1838833148759,
          -854.0730552035093,
          -891.9562486599228,
          -922.5586557527614,
          -943.9296761929022,
          -968.6694271725125,
          -960.9380474795316,
          -980.8988296822696,
          -1023.4576265880908,
          -1084.2156835233714,
          -1173.7417359345873,
          -1333.956210715011,
          -1515.4555975088067,
          -1730.6171262482696,
          -1949.8766181949745,
          -2152.0116292562616,
          -2314.8589277414094,
          -2420.0620066366128,
          -2501.113459273215,
          -2548.0963756980686,
          -2592.6668719538025,
          -2602.047302494793,
          -2600.7156896705606
         ],
         "yaxis": "y4"
        }
       ],
       "layout": {
        "annotations": [
         {
          "showarrow": false,
          "text": "<b>RSI</b>",
          "x": 0.5,
          "xref": "x3 domain",
          "y": 1.5,
          "yref": "y3 domain"
         },
         {
          "showarrow": false,
          "text": "<b>Stochastic Oscilator</b>",
          "x": 0.5,
          "xref": "x2 domain",
          "y": 1.5,
          "yref": "y2 domain"
         },
         {
          "showarrow": false,
          "text": "<b>MACD</b>",
          "x": 0.5,
          "xref": "x4 domain",
          "y": 1.5,
          "yref": "y4 domain"
         }
        ],
        "font": {
         "color": "white",
         "size": 15
        },
        "height": 1800,
        "paper_bgcolor": "rgba(0, 0, 0, 0)",
        "plot_bgcolor": "rgba(0, 0, 0, 0)",
        "shapes": [
         {
          "line": {
           "color": "darkslategray",
           "dash": "dash",
           "width": 2
          },
          "type": "line",
          "x0": 0,
          "x1": 1,
          "xref": "x3 domain",
          "y0": 30,
          "y1": 30,
          "yref": "y3"
         },
         {
          "line": {
           "color": "darkslategray",
           "dash": "dash",
           "width": 2
          },
          "type": "line",
          "x0": 0,
          "x1": 1,
          "xref": "x3 domain",
          "y0": 70,
          "y1": 70,
          "yref": "y3"
         },
         {
          "line": {
           "color": "darkslategray",
           "dash": "dash",
           "width": 2
          },
          "type": "line",
          "x0": 0,
          "x1": 1,
          "xref": "x2 domain",
          "y0": 20,
          "y1": 20,
          "yref": "y2"
         },
         {
          "line": {
           "color": "darkslategray",
           "dash": "dash",
           "width": 2
          },
          "type": "line",
          "x0": 0,
          "x1": 1,
          "xref": "x2 domain",
          "y0": 80,
          "y1": 80,
          "yref": "y2"
         }
        ],
        "template": {
         "data": {
          "bar": [
           {
            "error_x": {
             "color": "#f2f5fa"
            },
            "error_y": {
             "color": "#f2f5fa"
            },
            "marker": {
             "line": {
              "color": "rgb(17,17,17)",
              "width": 0.5
             },
             "pattern": {
              "fillmode": "overlay",
              "size": 10,
              "solidity": 0.2
             }
            },
            "type": "bar"
           }
          ],
          "barpolar": [
           {
            "marker": {
             "line": {
              "color": "rgb(17,17,17)",
              "width": 0.5
             },
             "pattern": {
              "fillmode": "overlay",
              "size": 10,
              "solidity": 0.2
             }
            },
            "type": "barpolar"
           }
          ],
          "carpet": [
           {
            "aaxis": {
             "endlinecolor": "#A2B1C6",
             "gridcolor": "#506784",
             "linecolor": "#506784",
             "minorgridcolor": "#506784",
             "startlinecolor": "#A2B1C6"
            },
            "baxis": {
             "endlinecolor": "#A2B1C6",
             "gridcolor": "#506784",
             "linecolor": "#506784",
             "minorgridcolor": "#506784",
             "startlinecolor": "#A2B1C6"
            },
            "type": "carpet"
           }
          ],
          "choropleth": [
           {
            "colorbar": {
             "outlinewidth": 0,
             "ticks": ""
            },
            "type": "choropleth"
           }
          ],
          "contour": [
           {
            "colorbar": {
             "outlinewidth": 0,
             "ticks": ""
            },
            "colorscale": [
             [
              0,
              "#0d0887"
             ],
             [
              0.1111111111111111,
              "#46039f"
             ],
             [
              0.2222222222222222,
              "#7201a8"
             ],
             [
              0.3333333333333333,
              "#9c179e"
             ],
             [
              0.4444444444444444,
              "#bd3786"
             ],
             [
              0.5555555555555556,
              "#d8576b"
             ],
             [
              0.6666666666666666,
              "#ed7953"
             ],
             [
              0.7777777777777778,
              "#fb9f3a"
             ],
             [
              0.8888888888888888,
              "#fdca26"
             ],
             [
              1,
              "#f0f921"
             ]
            ],
            "type": "contour"
           }
          ],
          "contourcarpet": [
           {
            "colorbar": {
             "outlinewidth": 0,
             "ticks": ""
            },
            "type": "contourcarpet"
           }
          ],
          "heatmap": [
           {
            "colorbar": {
             "outlinewidth": 0,
             "ticks": ""
            },
            "colorscale": [
             [
              0,
              "#0d0887"
             ],
             [
              0.1111111111111111,
              "#46039f"
             ],
             [
              0.2222222222222222,
              "#7201a8"
             ],
             [
              0.3333333333333333,
              "#9c179e"
             ],
             [
              0.4444444444444444,
              "#bd3786"
             ],
             [
              0.5555555555555556,
              "#d8576b"
             ],
             [
              0.6666666666666666,
              "#ed7953"
             ],
             [
              0.7777777777777778,
              "#fb9f3a"
             ],
             [
              0.8888888888888888,
              "#fdca26"
             ],
             [
              1,
              "#f0f921"
             ]
            ],
            "type": "heatmap"
           }
          ],
          "heatmapgl": [
           {
            "colorbar": {
             "outlinewidth": 0,
             "ticks": ""
            },
            "colorscale": [
             [
              0,
              "#0d0887"
             ],
             [
              0.1111111111111111,
              "#46039f"
             ],
             [
              0.2222222222222222,
              "#7201a8"
             ],
             [
              0.3333333333333333,
              "#9c179e"
             ],
             [
              0.4444444444444444,
              "#bd3786"
             ],
             [
              0.5555555555555556,
              "#d8576b"
             ],
             [
              0.6666666666666666,
              "#ed7953"
             ],
             [
              0.7777777777777778,
              "#fb9f3a"
             ],
             [
              0.8888888888888888,
              "#fdca26"
             ],
             [
              1,
              "#f0f921"
             ]
            ],
            "type": "heatmapgl"
           }
          ],
          "histogram": [
           {
            "marker": {
             "pattern": {
              "fillmode": "overlay",
              "size": 10,
              "solidity": 0.2
             }
            },
            "type": "histogram"
           }
          ],
          "histogram2d": [
           {
            "colorbar": {
             "outlinewidth": 0,
             "ticks": ""
            },
            "colorscale": [
             [
              0,
              "#0d0887"
             ],
             [
              0.1111111111111111,
              "#46039f"
             ],
             [
              0.2222222222222222,
              "#7201a8"
             ],
             [
              0.3333333333333333,
              "#9c179e"
             ],
             [
              0.4444444444444444,
              "#bd3786"
             ],
             [
              0.5555555555555556,
              "#d8576b"
             ],
             [
              0.6666666666666666,
              "#ed7953"
             ],
             [
              0.7777777777777778,
              "#fb9f3a"
             ],
             [
              0.8888888888888888,
              "#fdca26"
             ],
             [
              1,
              "#f0f921"
             ]
            ],
            "type": "histogram2d"
           }
          ],
          "histogram2dcontour": [
           {
            "colorbar": {
             "outlinewidth": 0,
             "ticks": ""
            },
            "colorscale": [
             [
              0,
              "#0d0887"
             ],
             [
              0.1111111111111111,
              "#46039f"
             ],
             [
              0.2222222222222222,
              "#7201a8"
             ],
             [
              0.3333333333333333,
              "#9c179e"
             ],
             [
              0.4444444444444444,
              "#bd3786"
             ],
             [
              0.5555555555555556,
              "#d8576b"
             ],
             [
              0.6666666666666666,
              "#ed7953"
             ],
             [
              0.7777777777777778,
              "#fb9f3a"
             ],
             [
              0.8888888888888888,
              "#fdca26"
             ],
             [
              1,
              "#f0f921"
             ]
            ],
            "type": "histogram2dcontour"
           }
          ],
          "mesh3d": [
           {
            "colorbar": {
             "outlinewidth": 0,
             "ticks": ""
            },
            "type": "mesh3d"
           }
          ],
          "parcoords": [
           {
            "line": {
             "colorbar": {
              "outlinewidth": 0,
              "ticks": ""
             }
            },
            "type": "parcoords"
           }
          ],
          "pie": [
           {
            "automargin": true,
            "type": "pie"
           }
          ],
          "scatter": [
           {
            "marker": {
             "line": {
              "color": "#283442"
             }
            },
            "type": "scatter"
           }
          ],
          "scatter3d": [
           {
            "line": {
             "colorbar": {
              "outlinewidth": 0,
              "ticks": ""
             }
            },
            "marker": {
             "colorbar": {
              "outlinewidth": 0,
              "ticks": ""
             }
            },
            "type": "scatter3d"
           }
          ],
          "scattercarpet": [
           {
            "marker": {
             "colorbar": {
              "outlinewidth": 0,
              "ticks": ""
             }
            },
            "type": "scattercarpet"
           }
          ],
          "scattergeo": [
           {
            "marker": {
             "colorbar": {
              "outlinewidth": 0,
              "ticks": ""
             }
            },
            "type": "scattergeo"
           }
          ],
          "scattergl": [
           {
            "marker": {
             "line": {
              "color": "#283442"
             }
            },
            "type": "scattergl"
           }
          ],
          "scattermapbox": [
           {
            "marker": {
             "colorbar": {
              "outlinewidth": 0,
              "ticks": ""
             }
            },
            "type": "scattermapbox"
           }
          ],
          "scatterpolar": [
           {
            "marker": {
             "colorbar": {
              "outlinewidth": 0,
              "ticks": ""
             }
            },
            "type": "scatterpolar"
           }
          ],
          "scatterpolargl": [
           {
            "marker": {
             "colorbar": {
              "outlinewidth": 0,
              "ticks": ""
             }
            },
            "type": "scatterpolargl"
           }
          ],
          "scatterternary": [
           {
            "marker": {
             "colorbar": {
              "outlinewidth": 0,
              "ticks": ""
             }
            },
            "type": "scatterternary"
           }
          ],
          "surface": [
           {
            "colorbar": {
             "outlinewidth": 0,
             "ticks": ""
            },
            "colorscale": [
             [
              0,
              "#0d0887"
             ],
             [
              0.1111111111111111,
              "#46039f"
             ],
             [
              0.2222222222222222,
              "#7201a8"
             ],
             [
              0.3333333333333333,
              "#9c179e"
             ],
             [
              0.4444444444444444,
              "#bd3786"
             ],
             [
              0.5555555555555556,
              "#d8576b"
             ],
             [
              0.6666666666666666,
              "#ed7953"
             ],
             [
              0.7777777777777778,
              "#fb9f3a"
             ],
             [
              0.8888888888888888,
              "#fdca26"
             ],
             [
              1,
              "#f0f921"
             ]
            ],
            "type": "surface"
           }
          ],
          "table": [
           {
            "cells": {
             "fill": {
              "color": "#506784"
             },
             "line": {
              "color": "rgb(17,17,17)"
             }
            },
            "header": {
             "fill": {
              "color": "#2a3f5f"
             },
             "line": {
              "color": "rgb(17,17,17)"
             }
            },
            "type": "table"
           }
          ]
         },
         "layout": {
          "annotationdefaults": {
           "arrowcolor": "#f2f5fa",
           "arrowhead": 0,
           "arrowwidth": 1
          },
          "autotypenumbers": "strict",
          "coloraxis": {
           "colorbar": {
            "outlinewidth": 0,
            "ticks": ""
           }
          },
          "colorscale": {
           "diverging": [
            [
             0,
             "#8e0152"
            ],
            [
             0.1,
             "#c51b7d"
            ],
            [
             0.2,
             "#de77ae"
            ],
            [
             0.3,
             "#f1b6da"
            ],
            [
             0.4,
             "#fde0ef"
            ],
            [
             0.5,
             "#f7f7f7"
            ],
            [
             0.6,
             "#e6f5d0"
            ],
            [
             0.7,
             "#b8e186"
            ],
            [
             0.8,
             "#7fbc41"
            ],
            [
             0.9,
             "#4d9221"
            ],
            [
             1,
             "#276419"
            ]
           ],
           "sequential": [
            [
             0,
             "#0d0887"
            ],
            [
             0.1111111111111111,
             "#46039f"
            ],
            [
             0.2222222222222222,
             "#7201a8"
            ],
            [
             0.3333333333333333,
             "#9c179e"
            ],
            [
             0.4444444444444444,
             "#bd3786"
            ],
            [
             0.5555555555555556,
             "#d8576b"
            ],
            [
             0.6666666666666666,
             "#ed7953"
            ],
            [
             0.7777777777777778,
             "#fb9f3a"
            ],
            [
             0.8888888888888888,
             "#fdca26"
            ],
            [
             1,
             "#f0f921"
            ]
           ],
           "sequentialminus": [
            [
             0,
             "#0d0887"
            ],
            [
             0.1111111111111111,
             "#46039f"
            ],
            [
             0.2222222222222222,
             "#7201a8"
            ],
            [
             0.3333333333333333,
             "#9c179e"
            ],
            [
             0.4444444444444444,
             "#bd3786"
            ],
            [
             0.5555555555555556,
             "#d8576b"
            ],
            [
             0.6666666666666666,
             "#ed7953"
            ],
            [
             0.7777777777777778,
             "#fb9f3a"
            ],
            [
             0.8888888888888888,
             "#fdca26"
            ],
            [
             1,
             "#f0f921"
            ]
           ]
          },
          "colorway": [
           "#636efa",
           "#EF553B",
           "#00cc96",
           "#ab63fa",
           "#FFA15A",
           "#19d3f3",
           "#FF6692",
           "#B6E880",
           "#FF97FF",
           "#FECB52"
          ],
          "font": {
           "color": "#f2f5fa"
          },
          "geo": {
           "bgcolor": "rgb(17,17,17)",
           "lakecolor": "rgb(17,17,17)",
           "landcolor": "rgb(17,17,17)",
           "showlakes": true,
           "showland": true,
           "subunitcolor": "#506784"
          },
          "hoverlabel": {
           "align": "left"
          },
          "hovermode": "closest",
          "mapbox": {
           "style": "dark"
          },
          "paper_bgcolor": "rgb(17,17,17)",
          "plot_bgcolor": "rgb(17,17,17)",
          "polar": {
           "angularaxis": {
            "gridcolor": "#506784",
            "linecolor": "#506784",
            "ticks": ""
           },
           "bgcolor": "rgb(17,17,17)",
           "radialaxis": {
            "gridcolor": "#506784",
            "linecolor": "#506784",
            "ticks": ""
           }
          },
          "scene": {
           "xaxis": {
            "backgroundcolor": "rgb(17,17,17)",
            "gridcolor": "#506784",
            "gridwidth": 2,
            "linecolor": "#506784",
            "showbackground": true,
            "ticks": "",
            "zerolinecolor": "#C8D4E3"
           },
           "yaxis": {
            "backgroundcolor": "rgb(17,17,17)",
            "gridcolor": "#506784",
            "gridwidth": 2,
            "linecolor": "#506784",
            "showbackground": true,
            "ticks": "",
            "zerolinecolor": "#C8D4E3"
           },
           "zaxis": {
            "backgroundcolor": "rgb(17,17,17)",
            "gridcolor": "#506784",
            "gridwidth": 2,
            "linecolor": "#506784",
            "showbackground": true,
            "ticks": "",
            "zerolinecolor": "#C8D4E3"
           }
          },
          "shapedefaults": {
           "line": {
            "color": "#f2f5fa"
           }
          },
          "sliderdefaults": {
           "bgcolor": "#C8D4E3",
           "bordercolor": "rgb(17,17,17)",
           "borderwidth": 1,
           "tickwidth": 0
          },
          "ternary": {
           "aaxis": {
            "gridcolor": "#506784",
            "linecolor": "#506784",
            "ticks": ""
           },
           "baxis": {
            "gridcolor": "#506784",
            "linecolor": "#506784",
            "ticks": ""
           },
           "bgcolor": "rgb(17,17,17)",
           "caxis": {
            "gridcolor": "#506784",
            "linecolor": "#506784",
            "ticks": ""
           }
          },
          "title": {
           "x": 0.05
          },
          "updatemenudefaults": {
           "bgcolor": "#506784",
           "borderwidth": 0
          },
          "xaxis": {
           "automargin": true,
           "gridcolor": "#283442",
           "linecolor": "#506784",
           "ticks": "",
           "title": {
            "standoff": 15
           },
           "zerolinecolor": "#283442",
           "zerolinewidth": 2
          },
          "yaxis": {
           "automargin": true,
           "gridcolor": "#283442",
           "linecolor": "#506784",
           "ticks": "",
           "title": {
            "standoff": 15
           },
           "zerolinecolor": "#283442",
           "zerolinewidth": 2
          }
         }
        },
        "width": 1300,
        "xaxis": {
         "anchor": "y",
         "domain": [
          0,
          1
         ],
         "rangeslider": {
          "visible": false
         }
        },
        "xaxis2": {
         "anchor": "y2",
         "domain": [
          0,
          1
         ]
        },
        "xaxis3": {
         "anchor": "y3",
         "domain": [
          0,
          1
         ]
        },
        "xaxis4": {
         "anchor": "y4",
         "domain": [
          0,
          1
         ]
        },
        "yaxis": {
         "anchor": "x",
         "domain": [
          0.5333333333333333,
          1
         ],
         "tickformat": ".2%"
        },
        "yaxis2": {
         "anchor": "x2",
         "domain": [
          0.3555555555555555,
          0.4333333333333333
         ]
        },
        "yaxis3": {
         "anchor": "x3",
         "domain": [
          0.17777777777777776,
          0.25555555555555554
         ]
        },
        "yaxis4": {
         "anchor": "x4",
         "domain": [
          0,
          0.07777777777777777
         ]
        }
       }
      }
     },
     "metadata": {},
     "output_type": "display_data"
    }
   ],
   "source": [
    "candlestick(df_btc, 100, comparison = df_sol, indicators = [ 'bolinger bands', 'rsi', 'stochastic', 'macd'])"
   ]
  },
  {
   "cell_type": "code",
   "execution_count": null,
   "metadata": {},
   "outputs": [],
   "source": []
  }
 ],
 "metadata": {
  "interpreter": {
   "hash": "ba2313ef674dfb72e23ac2c661efd5768c8a6078bbaca91f0cbc1ecf0e01dff3"
  },
  "kernelspec": {
   "display_name": "Python 3.9.6 ('DM2021')",
   "language": "python",
   "name": "python3"
  },
  "language_info": {
   "codemirror_mode": {
    "name": "ipython",
    "version": 3
   },
   "file_extension": ".py",
   "mimetype": "text/x-python",
   "name": "python",
   "nbconvert_exporter": "python",
   "pygments_lexer": "ipython3",
   "version": "3.9.6"
  },
  "orig_nbformat": 4
 },
 "nbformat": 4,
 "nbformat_minor": 2
}
